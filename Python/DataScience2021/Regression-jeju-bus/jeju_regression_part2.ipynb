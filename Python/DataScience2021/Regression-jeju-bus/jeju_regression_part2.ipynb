{
 "cells": [
  {
   "cell_type": "code",
   "execution_count": 147,
   "id": "78028a06",
   "metadata": {},
   "outputs": [],
   "source": [
    "import pandas as pd\n",
    "import dask.dataframe as dd\n",
    "from sklearn.model_selection import train_test_split\n",
    "from sklearn.metrics import mean_squared_error\n",
    "import statsmodels.api as sm \n",
    "import datetime\n",
    "from sklearn.preprocessing import PolynomialFeatures\n",
    "from sklearn.preprocessing import StandardScaler\n",
    "from sklearn.preprocessing import RobustScaler\n",
    "from sklearn.ensemble import RandomForestRegressor\n",
    "import numpy as np"
   ]
  },
  {
   "cell_type": "code",
   "execution_count": 3,
   "id": "fcb216bb",
   "metadata": {},
   "outputs": [],
   "source": [
    "from dask.diagnostics import ProgressBar\n",
    "ProgressBar().register()"
   ]
  },
  {
   "cell_type": "code",
   "execution_count": 4,
   "id": "d9f14552",
   "metadata": {},
   "outputs": [],
   "source": [
    "import seaborn as sns\n",
    "import matplotlib.pyplot as plt"
   ]
  },
  {
   "cell_type": "code",
   "execution_count": 5,
   "id": "cfc1b08b",
   "metadata": {},
   "outputs": [],
   "source": [
    "import platform\n",
    "from matplotlib import font_manager, rc\n",
    "\n",
    "plt.rcParams['axes.unicode_minus'] = False\n",
    "\n",
    "if platform.system() == 'Windows':\n",
    "    path = \"c:/Windows/Fonts/malgun.ttf\"\n",
    "    font_name = font_manager.FontProperties(fname=path).get_name()\n",
    "    rc('font', family=font_name)\n",
    "elif platform.system() == 'Darwin':\n",
    "    rc('font', family='AppleGothic')\n",
    "elif platform.system() == 'Linux':\n",
    "    rc('font', family='NanumBarunGothic')\n",
    "else:\n",
    "    print('Unknown system... sorry~~')"
   ]
  },
  {
   "cell_type": "markdown",
   "id": "ff0252c5",
   "metadata": {},
   "source": [
    "#### 전처리시 활용한 코드들 "
   ]
  },
  {
   "cell_type": "code",
   "execution_count": 18,
   "id": "7d6c148e",
   "metadata": {},
   "outputs": [],
   "source": [
    "#공휴일 찾기 \n",
    "\"\"\"\n",
    "holidays = [20180923, 20180924, 20180925, 20181003, 20181009, 20181225, \n",
    "           20190101, 20190204, 20190205, 20190206, 20190301, 20190505,\n",
    "           20190512, 20190606, 20190815, 20190912, 20190913, 20190914,\n",
    "            20191003, 20191009, 20191225]\n",
    "            \n",
    "            \n",
    "reg_df[\"holiday\"] = reg_df[\"base_date\"].apply(lambda x : 1 if x in holidays else 0)# 공휴일일 경우 1. \n",
    "reg_df[\"holiandweekend\"] = reg_df[\"holiday\"] + reg_df[\"weekend\"] #공휴일, 주말일 경우 1 \n",
    "\"\"\"\n"
   ]
  },
  {
   "cell_type": "code",
   "execution_count": 299,
   "id": "817d8c7f",
   "metadata": {
    "collapsed": true
   },
   "outputs": [],
   "source": [
    "### 1일전, 2일전 컬럼 추가하는 코드  \n",
    "\"\"\"\n",
    "tourist_1before = list(df[\"총관광객\"])\n",
    "tourist_2before = list(df[\"총관광객\"])\n",
    "tourist_1before.insert(0, 0)\n",
    "tourist_1before = tourist_1before[:-1]\n",
    "tourist_2before.insert(0, 0)\n",
    "tourist_2before.insert(0, 0)\n",
    "tourist_2before = tourist_2before[:-2]\n",
    "df[\"tourist_-1day\"] = tourist_1before\n",
    "df[\"tourist_-2day\"] = tourist_2before\n",
    "\"\"\""
   ]
  },
  {
   "cell_type": "code",
   "execution_count": 200,
   "id": "2651e843",
   "metadata": {
    "collapsed": true
   },
   "outputs": [],
   "source": [
    "# 일별 관광객 입도 현황 데이터(from 제주관광협회) 전처리\n",
    "\"\"\"\n",
    "dailydf = pd.read_csv(\"data/daily_tourist.csv\", encoding=\"utf-8-sig\")\n",
    "dailydf[\"base_date\"] = dailydf[\"date\"].apply(lambda x : x[:2] + x[4:6])\n",
    "dailydf[\"base_date\"] = dailydf[\"year\"].astype(str) + dailydf[\"base_date\"]\n",
    "dailydf[\"base_date\"] = dailydf[\"base_date\"].astype(int)\n",
    "dailydf[\"총관광객\"] = dailydf[\"총관광객\"].apply(lambda x : int(x.replace(\",\", \"\")))\n",
    "dailydf[\"내국인\"] = dailydf[\"내국인\"].apply(lambda x : int(x.replace(\",\", \"\")))\n",
    "\"\"\""
   ]
  },
  {
   "cell_type": "code",
   "execution_count": 8,
   "id": "a7e78ad4",
   "metadata": {},
   "outputs": [],
   "source": [
    "# 제주도 날씨 데이터 (from 기상청) 전처리\n",
    "\"\"\"\n",
    "weather = pd.read_csv(\"data/jeju_weather_raw.csv\", encoding=\"cp949\")\n",
    "weather.fillna(0, inplace = True)\n",
    "weather = weather[weather[\"지점명\"] == \"제주\"]\n",
    "\n",
    "def change_dataformat(data):\n",
    "    dates = data.split(\".\")\n",
    "    date2 = \"0\"+dates[1] if len(dates[1]) == 1 else dates[1]\n",
    "    date3 = \"0\"+dates[2] if len(dates[2]) == 1 else dates[2]\n",
    "    return dates[0] + date2 + date3\n",
    " \n",
    "weather[\"일시\"] = weather[\"일시\"].apply(change_dataformat)\n",
    "weather[\"일시\"] = weather[\"일시\"].astype(int)\n",
    "\"\"\""
   ]
  },
  {
   "cell_type": "markdown",
   "id": "5b40da45",
   "metadata": {},
   "source": [
    "#### columns \n",
    "- 'base_date' : 기준일\n",
    "- 'airport' : 기준일에 공항에서 버스에 탑승한 탑승객 수 \n",
    "    - 'airport_-1day' : 기준일 하루전 공항에서 버스에 탑승한 탑승객 수 \n",
    "    - 'airport_-2day' : 기준일 이틀전 공항에서 버스에 탑승한 탑승객 수 \n",
    "- '총관광객' : 기준일의 제주도 입도 관광객 수(제주 관광협회 자료)\n",
    "    - 'tourist_-1day' : 기준일 하루전 제주도 입도 관광객 수  \n",
    "    - 'tourist_-2day' : 기준일 이틀전 제주도 입도 관광객 수 \n",
    "- '내국인' : 기준일의 제주도 입도 관광객 중 내국인 관광객의 수(제주 관광협회 자료)\n",
    "- 'base_day' : 기준일의 요일(categorical 변수)\n",
    "    - 'fri', 'mon', 'sat', 'sun', 'thu', 'tue', 'wed' : 기준일의 요일(one-hot encoding) \n",
    "- '평균기온' : 기준일의 제주도 평균기온 \n",
    "- '강수 계속시간(hr)' : 기준일의 제주도 강수 계속시간(24시간 중 비가 내린 시간)\n",
    "- '일강수량(mm)' : 기준일의 제주도 일강수량\n",
    "- '최대 풍속(m/s)' : 기준일의 제주도 최대 풍속\n",
    "- '평균 풍속(m/s)' : 기준일의 제주도 평균 풍속\n",
    "- 'weekend' : 주말/주중 (주말인 경우 1)\n",
    "- 'holiday' : 공휴일 (공휴일인 경우 1)\n",
    "- 'holiandweekend' : 주말, 공휴일인 경우 1\n",
    "- 'std_airport' : 기준일에 공항에서 버스에 탑승한 탑승객 수 -> standard scaling\n",
    "- 'month' : 월(categorical 변수)\n",
    "    - '01', '02', '03', '04', '05', '06', '07', '08', '09', '10', '11', '12' : 기준일의 월(one-hot encoding) \n",
    "- '관광지하차관광객(y)' : 관광지에 하차한 관광객의 수(y). 클러스터링 결과 관광객으로 추정되는 클러스터에 속한 탑승객들 중 주요 관광지(관광객 클러스터와 도민 클러스터의 이용량 격차가 벌어진 정류장 기준)에 내린 사람의 수를 일별로 구함 "
   ]
  },
  {
   "cell_type": "code",
   "execution_count": 165,
   "id": "2f9cf17a",
   "metadata": {},
   "outputs": [],
   "source": [
    "df = pd.read_csv(\"data/df_regression.csv\", encoding=\"utf-8-sig\")"
   ]
  },
  {
   "cell_type": "code",
   "execution_count": 163,
   "id": "d4de7422",
   "metadata": {},
   "outputs": [
    {
     "data": {
      "text/html": [
       "<div>\n",
       "<style scoped>\n",
       "    .dataframe tbody tr th:only-of-type {\n",
       "        vertical-align: middle;\n",
       "    }\n",
       "\n",
       "    .dataframe tbody tr th {\n",
       "        vertical-align: top;\n",
       "    }\n",
       "\n",
       "    .dataframe thead th {\n",
       "        text-align: right;\n",
       "    }\n",
       "</style>\n",
       "<table border=\"1\" class=\"dataframe\">\n",
       "  <thead>\n",
       "    <tr style=\"text-align: right;\">\n",
       "      <th></th>\n",
       "      <th>base_date</th>\n",
       "      <th>airport</th>\n",
       "      <th>airport_-1day</th>\n",
       "      <th>airport_-2day</th>\n",
       "      <th>총관광객</th>\n",
       "      <th>내국인</th>\n",
       "      <th>tourist_-1day</th>\n",
       "      <th>tourist_-2day</th>\n",
       "      <th>base_day</th>\n",
       "      <th>fri</th>\n",
       "      <th>...</th>\n",
       "      <th>04</th>\n",
       "      <th>05</th>\n",
       "      <th>06</th>\n",
       "      <th>07</th>\n",
       "      <th>08</th>\n",
       "      <th>09</th>\n",
       "      <th>10</th>\n",
       "      <th>11</th>\n",
       "      <th>12</th>\n",
       "      <th>관광지하차관광객(y)</th>\n",
       "    </tr>\n",
       "  </thead>\n",
       "  <tbody>\n",
       "    <tr>\n",
       "      <th>0</th>\n",
       "      <td>20180701</td>\n",
       "      <td>3910</td>\n",
       "      <td>0</td>\n",
       "      <td>0</td>\n",
       "      <td>31614</td>\n",
       "      <td>27975</td>\n",
       "      <td>0</td>\n",
       "      <td>0</td>\n",
       "      <td>sun</td>\n",
       "      <td>0</td>\n",
       "      <td>...</td>\n",
       "      <td>0</td>\n",
       "      <td>0</td>\n",
       "      <td>0</td>\n",
       "      <td>1</td>\n",
       "      <td>0</td>\n",
       "      <td>0</td>\n",
       "      <td>0</td>\n",
       "      <td>0</td>\n",
       "      <td>0</td>\n",
       "      <td>1992</td>\n",
       "    </tr>\n",
       "    <tr>\n",
       "      <th>1</th>\n",
       "      <td>20180702</td>\n",
       "      <td>4209</td>\n",
       "      <td>3910</td>\n",
       "      <td>0</td>\n",
       "      <td>28653</td>\n",
       "      <td>25817</td>\n",
       "      <td>31614</td>\n",
       "      <td>0</td>\n",
       "      <td>mon</td>\n",
       "      <td>0</td>\n",
       "      <td>...</td>\n",
       "      <td>0</td>\n",
       "      <td>0</td>\n",
       "      <td>0</td>\n",
       "      <td>1</td>\n",
       "      <td>0</td>\n",
       "      <td>0</td>\n",
       "      <td>0</td>\n",
       "      <td>0</td>\n",
       "      <td>0</td>\n",
       "      <td>2401</td>\n",
       "    </tr>\n",
       "    <tr>\n",
       "      <th>2</th>\n",
       "      <td>20180703</td>\n",
       "      <td>3763</td>\n",
       "      <td>4209</td>\n",
       "      <td>3910</td>\n",
       "      <td>27514</td>\n",
       "      <td>23979</td>\n",
       "      <td>28653</td>\n",
       "      <td>31614</td>\n",
       "      <td>tue</td>\n",
       "      <td>0</td>\n",
       "      <td>...</td>\n",
       "      <td>0</td>\n",
       "      <td>0</td>\n",
       "      <td>0</td>\n",
       "      <td>1</td>\n",
       "      <td>0</td>\n",
       "      <td>0</td>\n",
       "      <td>0</td>\n",
       "      <td>0</td>\n",
       "      <td>0</td>\n",
       "      <td>2573</td>\n",
       "    </tr>\n",
       "    <tr>\n",
       "      <th>3</th>\n",
       "      <td>20180704</td>\n",
       "      <td>4472</td>\n",
       "      <td>3763</td>\n",
       "      <td>4209</td>\n",
       "      <td>37169</td>\n",
       "      <td>33461</td>\n",
       "      <td>27514</td>\n",
       "      <td>28653</td>\n",
       "      <td>wed</td>\n",
       "      <td>0</td>\n",
       "      <td>...</td>\n",
       "      <td>0</td>\n",
       "      <td>0</td>\n",
       "      <td>0</td>\n",
       "      <td>1</td>\n",
       "      <td>0</td>\n",
       "      <td>0</td>\n",
       "      <td>0</td>\n",
       "      <td>0</td>\n",
       "      <td>0</td>\n",
       "      <td>3798</td>\n",
       "    </tr>\n",
       "    <tr>\n",
       "      <th>4</th>\n",
       "      <td>20180705</td>\n",
       "      <td>3708</td>\n",
       "      <td>4472</td>\n",
       "      <td>3763</td>\n",
       "      <td>40192</td>\n",
       "      <td>36461</td>\n",
       "      <td>37169</td>\n",
       "      <td>27514</td>\n",
       "      <td>thu</td>\n",
       "      <td>0</td>\n",
       "      <td>...</td>\n",
       "      <td>0</td>\n",
       "      <td>0</td>\n",
       "      <td>0</td>\n",
       "      <td>1</td>\n",
       "      <td>0</td>\n",
       "      <td>0</td>\n",
       "      <td>0</td>\n",
       "      <td>0</td>\n",
       "      <td>0</td>\n",
       "      <td>3030</td>\n",
       "    </tr>\n",
       "  </tbody>\n",
       "</table>\n",
       "<p>5 rows × 39 columns</p>\n",
       "</div>"
      ],
      "text/plain": [
       "   base_date  airport  airport_-1day  airport_-2day   총관광객    내국인  \\\n",
       "0   20180701     3910              0              0  31614  27975   \n",
       "1   20180702     4209           3910              0  28653  25817   \n",
       "2   20180703     3763           4209           3910  27514  23979   \n",
       "3   20180704     4472           3763           4209  37169  33461   \n",
       "4   20180705     3708           4472           3763  40192  36461   \n",
       "\n",
       "   tourist_-1day  tourist_-2day base_day  fri  ...  04  05  06  07  08  09  \\\n",
       "0              0              0      sun    0  ...   0   0   0   1   0   0   \n",
       "1          31614              0      mon    0  ...   0   0   0   1   0   0   \n",
       "2          28653          31614      tue    0  ...   0   0   0   1   0   0   \n",
       "3          27514          28653      wed    0  ...   0   0   0   1   0   0   \n",
       "4          37169          27514      thu    0  ...   0   0   0   1   0   0   \n",
       "\n",
       "   10  11  12  관광지하차관광객(y)  \n",
       "0   0   0   0         1992  \n",
       "1   0   0   0         2401  \n",
       "2   0   0   0         2573  \n",
       "3   0   0   0         3798  \n",
       "4   0   0   0         3030  \n",
       "\n",
       "[5 rows x 39 columns]"
      ]
     },
     "execution_count": 163,
     "metadata": {},
     "output_type": "execute_result"
    }
   ],
   "source": [
    "df.head()"
   ]
  },
  {
   "cell_type": "code",
   "execution_count": 145,
   "id": "e3900d40",
   "metadata": {},
   "outputs": [
    {
     "data": {
      "text/plain": [
       "<AxesSubplot:xlabel='airport', ylabel='관광지하차관광객(y)'>"
      ]
     },
     "execution_count": 145,
     "metadata": {},
     "output_type": "execute_result"
    },
    {
     "data": {
      "image/png": "[encoded data removed]",
      "text/plain": [
       "<Figure size 432x432 with 1 Axes>"
      ]
     },
     "metadata": {
      "needs_background": "light"
     },
     "output_type": "display_data"
    }
   ],
   "source": [
    "plt.figure(figsize = (6, 6))\n",
    "sns.scatterplot(data = df, \n",
    "               x = \"airport\", \n",
    "               y = \"관광지하차관광객(y)\",\n",
    "                cmap = \"Pastel2\",\n",
    "                hue = \"holiandweekend\", \n",
    "               alpha = 0.5)"
   ]
  },
  {
   "cell_type": "code",
   "execution_count": 128,
   "id": "947db5b4",
   "metadata": {
    "scrolled": false
   },
   "outputs": [
    {
     "data": {
      "text/plain": [
       "[<matplotlib.lines.Line2D at 0x163d25bb0>]"
      ]
     },
     "execution_count": 128,
     "metadata": {},
     "output_type": "execute_result"
    },
    {
     "data": {
      "image/png": "[encoded data removed]",
      "text/plain": [
       "<Figure size 432x288 with 1 Axes>"
      ]
     },
     "metadata": {
      "needs_background": "light"
     },
     "output_type": "display_data"
    }
   ],
   "source": [
    "plt.plot(df[\"관광지하차관광객(y)\"])"
   ]
  },
  {
   "cell_type": "code",
   "execution_count": null,
   "id": "e3d03189",
   "metadata": {},
   "outputs": [],
   "source": [
    "# 월에 따라서 공항 탑승객과 관광지 하차 관광객의 관계가 달라지는 것으로 보임\n",
    "# 추후 월에 따라 차이를 보이는 원인을 찾아볼 수 있을 것으로 사료됨 "
   ]
  },
  {
   "cell_type": "code",
   "execution_count": 144,
   "id": "f8f19a51",
   "metadata": {},
   "outputs": [
    {
     "data": {
      "image/png": "[encoded data removed]",
      "text/plain": [
       "<Figure size 1152x864 with 12 Axes>"
      ]
     },
     "metadata": {
      "needs_background": "light"
     },
     "output_type": "display_data"
    }
   ],
   "source": [
    "plt.figure(figsize = (16, 12))\n",
    "\n",
    "for i in list(df[\"month\"].unique()):\n",
    "    \n",
    "    plt.subplot(3, 4, i)\n",
    "    sns.scatterplot(data = df[df[\"month\"] == i], \n",
    "                   x = \"airport\", \n",
    "                   y = \"관광지하차관광객(y)\", \n",
    "                   hue = \"holiandweekend\")\n",
    "    plt.ylim([1000, 5000])\n",
    "    plt.xlabel(f\"{i} 월\")\n",
    "    \n",
    "   "
   ]
  },
  {
   "cell_type": "code",
   "execution_count": 130,
   "id": "292464d4",
   "metadata": {},
   "outputs": [
    {
     "data": {
      "text/plain": [
       "<AxesSubplot:>"
      ]
     },
     "execution_count": 130,
     "metadata": {},
     "output_type": "execute_result"
    },
    {
     "data": {
      "image/png": "[encoded data removed]",
      "text/plain": [
       "<Figure size 432x288 with 2 Axes>"
      ]
     },
     "metadata": {
      "needs_background": "light"
     },
     "output_type": "display_data"
    }
   ],
   "source": [
    "\n",
    "corr = df[['airport', 'airport_-1day', 'airport_-2day',\n",
    "       '총관광객', '평균기온', '강수 계속시간(hr)', '일강수량(mm)', \"관광지하차관광객(y)\" ]].corr()\n",
    "mask = np.triu(np.ones_like(corr, dtype=bool))\n",
    "cmap = sns.diverging_palette(230, 20, as_cmap=True)\n",
    "\n",
    "\n",
    "\n",
    "sns.heatmap(corr, mask=mask, cmap=cmap, vmax=.3, center=0,\n",
    "            square=True, linewidths=.5, cbar_kws={\"shrink\": .5})"
   ]
  },
  {
   "cell_type": "markdown",
   "id": "72bf2e90",
   "metadata": {},
   "source": [
    "- OLS\n",
    "- 사용 컬럼 : 당일(base_date 기준) 공항에서 버스에 탑승한 승객 수, 1일 전 공항에서 버스에 탑승한 승객 수, 2일 전 공항에서 버스에 탑승한 승객 수 "
   ]
  },
  {
   "cell_type": "code",
   "execution_count": 131,
   "id": "85573edb",
   "metadata": {},
   "outputs": [
    {
     "data": {
      "text/html": [
       "<table class=\"simpletable\">\n",
       "<caption>OLS Regression Results</caption>\n",
       "<tr>\n",
       "  <th>Dep. Variable:</th>       <td>관광지하차관광객(y)</td>   <th>  R-squared:         </th> <td>   0.619</td>\n",
       "</tr>\n",
       "<tr>\n",
       "  <th>Model:</th>                   <td>OLS</td>       <th>  Adj. R-squared:    </th> <td>   0.616</td>\n",
       "</tr>\n",
       "<tr>\n",
       "  <th>Method:</th>             <td>Least Squares</td>  <th>  F-statistic:       </th> <td>   203.4</td>\n",
       "</tr>\n",
       "<tr>\n",
       "  <th>Date:</th>             <td>Sun, 23 May 2021</td> <th>  Prob (F-statistic):</th> <td>2.26e-78</td>\n",
       "</tr>\n",
       "<tr>\n",
       "  <th>Time:</th>                 <td>17:37:14</td>     <th>  Log-Likelihood:    </th> <td> -3056.3</td>\n",
       "</tr>\n",
       "<tr>\n",
       "  <th>No. Observations:</th>      <td>   380</td>      <th>  AIC:               </th> <td>   6121.</td>\n",
       "</tr>\n",
       "<tr>\n",
       "  <th>Df Residuals:</th>          <td>   376</td>      <th>  BIC:               </th> <td>   6136.</td>\n",
       "</tr>\n",
       "<tr>\n",
       "  <th>Df Model:</th>              <td>     3</td>      <th>                     </th>     <td> </td>   \n",
       "</tr>\n",
       "<tr>\n",
       "  <th>Covariance Type:</th>      <td>nonrobust</td>    <th>                     </th>     <td> </td>   \n",
       "</tr>\n",
       "</table>\n",
       "<table class=\"simpletable\">\n",
       "<tr>\n",
       "        <td></td>           <th>coef</th>     <th>std err</th>      <th>t</th>      <th>P>|t|</th>  <th>[0.025</th>    <th>0.975]</th>  \n",
       "</tr>\n",
       "<tr>\n",
       "  <th>const</th>         <td> -863.0477</td> <td>  184.793</td> <td>   -4.670</td> <td> 0.000</td> <td>-1226.405</td> <td> -499.691</td>\n",
       "</tr>\n",
       "<tr>\n",
       "  <th>airport</th>       <td>    0.4992</td> <td>    0.041</td> <td>   12.093</td> <td> 0.000</td> <td>    0.418</td> <td>    0.580</td>\n",
       "</tr>\n",
       "<tr>\n",
       "  <th>airport_-1day</th> <td>    0.2174</td> <td>    0.050</td> <td>    4.368</td> <td> 0.000</td> <td>    0.120</td> <td>    0.315</td>\n",
       "</tr>\n",
       "<tr>\n",
       "  <th>airport_-2day</th> <td>    0.2240</td> <td>    0.041</td> <td>    5.524</td> <td> 0.000</td> <td>    0.144</td> <td>    0.304</td>\n",
       "</tr>\n",
       "</table>\n",
       "<table class=\"simpletable\">\n",
       "<tr>\n",
       "  <th>Omnibus:</th>       <td>27.759</td> <th>  Durbin-Watson:     </th> <td>   1.923</td>\n",
       "</tr>\n",
       "<tr>\n",
       "  <th>Prob(Omnibus):</th> <td> 0.000</td> <th>  Jarque-Bera (JB):  </th> <td>  74.914</td>\n",
       "</tr>\n",
       "<tr>\n",
       "  <th>Skew:</th>          <td> 0.299</td> <th>  Prob(JB):          </th> <td>5.40e-17</td>\n",
       "</tr>\n",
       "<tr>\n",
       "  <th>Kurtosis:</th>      <td> 5.091</td> <th>  Cond. No.          </th> <td>3.92e+04</td>\n",
       "</tr>\n",
       "</table><br/><br/>Notes:<br/>[1] Standard Errors assume that the covariance matrix of the errors is correctly specified.<br/>[2] The condition number is large, 3.92e+04. This might indicate that there are<br/>strong multicollinearity or other numerical problems."
      ],
      "text/plain": [
       "<class 'statsmodels.iolib.summary.Summary'>\n",
       "\"\"\"\n",
       "                            OLS Regression Results                            \n",
       "==============================================================================\n",
       "Dep. Variable:            관광지하차관광객(y)   R-squared:                       0.619\n",
       "Model:                            OLS   Adj. R-squared:                  0.616\n",
       "Method:                 Least Squares   F-statistic:                     203.4\n",
       "Date:                Sun, 23 May 2021   Prob (F-statistic):           2.26e-78\n",
       "Time:                        17:37:14   Log-Likelihood:                -3056.3\n",
       "No. Observations:                 380   AIC:                             6121.\n",
       "Df Residuals:                     376   BIC:                             6136.\n",
       "Df Model:                           3                                         \n",
       "Covariance Type:            nonrobust                                         \n",
       "=================================================================================\n",
       "                    coef    std err          t      P>|t|      [0.025      0.975]\n",
       "---------------------------------------------------------------------------------\n",
       "const          -863.0477    184.793     -4.670      0.000   -1226.405    -499.691\n",
       "airport           0.4992      0.041     12.093      0.000       0.418       0.580\n",
       "airport_-1day     0.2174      0.050      4.368      0.000       0.120       0.315\n",
       "airport_-2day     0.2240      0.041      5.524      0.000       0.144       0.304\n",
       "==============================================================================\n",
       "Omnibus:                       27.759   Durbin-Watson:                   1.923\n",
       "Prob(Omnibus):                  0.000   Jarque-Bera (JB):               74.914\n",
       "Skew:                           0.299   Prob(JB):                     5.40e-17\n",
       "Kurtosis:                       5.091   Cond. No.                     3.92e+04\n",
       "==============================================================================\n",
       "\n",
       "Notes:\n",
       "[1] Standard Errors assume that the covariance matrix of the errors is correctly specified.\n",
       "[2] The condition number is large, 3.92e+04. This might indicate that there are\n",
       "strong multicollinearity or other numerical problems.\n",
       "\"\"\""
      ]
     },
     "execution_count": 131,
     "metadata": {},
     "output_type": "execute_result"
    }
   ],
   "source": [
    "X = df[[\"airport\", 'airport_-1day', 'airport_-2day']]\n",
    "X_add = sm.add_constant(X, has_constant = \"add\") \n",
    "y = df[[\"관광지하차관광객(y)\"]]\n",
    "X_train, X_test, y_train, y_test = train_test_split(X_add, y, \n",
    "                                                   test_size = 0.3, \n",
    "                                                   random_state = 13)\n",
    "\n",
    "lm = sm.OLS(y_train, X_train).fit()\n",
    "lm.summary()"
   ]
  },
  {
   "cell_type": "code",
   "execution_count": 122,
   "id": "032bc75d",
   "metadata": {},
   "outputs": [
    {
     "name": "stdout",
     "output_type": "stream",
     "text": [
      "RMSE of Train Data:  752.9679830876335\n",
      "RMSE of Test Data:  758.0926486551502\n"
     ]
    }
   ],
   "source": [
    "\n",
    "pred_tr = lm.predict(X_train)\n",
    "pred_test = lm.predict(X_test)\n",
    "rmse_tr = (np.sqrt(mean_squared_error(y_train, pred_tr)))\n",
    "rmse_test = (np.sqrt(mean_squared_error(y_test, pred_test)))\n",
    "\n",
    "\n",
    "\n",
    "print('RMSE of Train Data: ', rmse_tr)\n",
    "print('RMSE of Test Data: ', rmse_test)"
   ]
  },
  {
   "cell_type": "markdown",
   "id": "dddba843",
   "metadata": {},
   "source": [
    "- OLS\n",
    "- 사용 컬럼 : 당일(base_date 기준) 공항에서 버스에 탑승한 승객 수, 1일 전 공항에서 버스에 탑승한 승객 수, \n",
    "    2일 전 공항에서 버스에 탑승한 승객 수, 날씨(평균기온, 강수 계속시간, 일 강수량) "
   ]
  },
  {
   "cell_type": "code",
   "execution_count": 138,
   "id": "dba8f0ff",
   "metadata": {},
   "outputs": [
    {
     "data": {
      "text/html": [
       "<table class=\"simpletable\">\n",
       "<caption>OLS Regression Results</caption>\n",
       "<tr>\n",
       "  <th>Dep. Variable:</th>       <td>관광지하차관광객(y)</td>   <th>  R-squared:         </th> <td>   0.643</td>\n",
       "</tr>\n",
       "<tr>\n",
       "  <th>Model:</th>                   <td>OLS</td>       <th>  Adj. R-squared:    </th> <td>   0.637</td>\n",
       "</tr>\n",
       "<tr>\n",
       "  <th>Method:</th>             <td>Least Squares</td>  <th>  F-statistic:       </th> <td>   112.0</td>\n",
       "</tr>\n",
       "<tr>\n",
       "  <th>Date:</th>             <td>Sun, 23 May 2021</td> <th>  Prob (F-statistic):</th> <td>2.56e-80</td>\n",
       "</tr>\n",
       "<tr>\n",
       "  <th>Time:</th>                 <td>17:39:20</td>     <th>  Log-Likelihood:    </th> <td> -3043.8</td>\n",
       "</tr>\n",
       "<tr>\n",
       "  <th>No. Observations:</th>      <td>   380</td>      <th>  AIC:               </th> <td>   6102.</td>\n",
       "</tr>\n",
       "<tr>\n",
       "  <th>Df Residuals:</th>          <td>   373</td>      <th>  BIC:               </th> <td>   6129.</td>\n",
       "</tr>\n",
       "<tr>\n",
       "  <th>Df Model:</th>              <td>     6</td>      <th>                     </th>     <td> </td>   \n",
       "</tr>\n",
       "<tr>\n",
       "  <th>Covariance Type:</th>      <td>nonrobust</td>    <th>                     </th>     <td> </td>   \n",
       "</tr>\n",
       "</table>\n",
       "<table class=\"simpletable\">\n",
       "<tr>\n",
       "        <td></td>           <th>coef</th>     <th>std err</th>      <th>t</th>      <th>P>|t|</th>  <th>[0.025</th>    <th>0.975]</th>  \n",
       "</tr>\n",
       "<tr>\n",
       "  <th>const</th>         <td>-1138.9153</td> <td>  199.121</td> <td>   -5.720</td> <td> 0.000</td> <td>-1530.457</td> <td> -747.374</td>\n",
       "</tr>\n",
       "<tr>\n",
       "  <th>airport</th>       <td>    0.4795</td> <td>    0.041</td> <td>   11.674</td> <td> 0.000</td> <td>    0.399</td> <td>    0.560</td>\n",
       "</tr>\n",
       "<tr>\n",
       "  <th>airport_-1day</th> <td>    0.2099</td> <td>    0.049</td> <td>    4.301</td> <td> 0.000</td> <td>    0.114</td> <td>    0.306</td>\n",
       "</tr>\n",
       "<tr>\n",
       "  <th>airport_-2day</th> <td>    0.2286</td> <td>    0.039</td> <td>    5.787</td> <td> 0.000</td> <td>    0.151</td> <td>    0.306</td>\n",
       "</tr>\n",
       "<tr>\n",
       "  <th>평균기온</th>          <td>   23.7019</td> <td>    5.115</td> <td>    4.634</td> <td> 0.000</td> <td>   13.645</td> <td>   33.759</td>\n",
       "</tr>\n",
       "<tr>\n",
       "  <th>강수 계속시간(hr)</th>   <td>  -15.1290</td> <td>   10.421</td> <td>   -1.452</td> <td> 0.147</td> <td>  -35.620</td> <td>    5.362</td>\n",
       "</tr>\n",
       "<tr>\n",
       "  <th>일강수량(mm)</th>      <td>   -1.0889</td> <td>    1.795</td> <td>   -0.606</td> <td> 0.545</td> <td>   -4.619</td> <td>    2.442</td>\n",
       "</tr>\n",
       "</table>\n",
       "<table class=\"simpletable\">\n",
       "<tr>\n",
       "  <th>Omnibus:</th>       <td>36.390</td> <th>  Durbin-Watson:     </th> <td>   1.900</td>\n",
       "</tr>\n",
       "<tr>\n",
       "  <th>Prob(Omnibus):</th> <td> 0.000</td> <th>  Jarque-Bera (JB):  </th> <td> 125.320</td>\n",
       "</tr>\n",
       "<tr>\n",
       "  <th>Skew:</th>          <td> 0.341</td> <th>  Prob(JB):          </th> <td>6.12e-28</td>\n",
       "</tr>\n",
       "<tr>\n",
       "  <th>Kurtosis:</th>      <td> 5.729</td> <th>  Cond. No.          </th> <td>4.35e+04</td>\n",
       "</tr>\n",
       "</table><br/><br/>Notes:<br/>[1] Standard Errors assume that the covariance matrix of the errors is correctly specified.<br/>[2] The condition number is large, 4.35e+04. This might indicate that there are<br/>strong multicollinearity or other numerical problems."
      ],
      "text/plain": [
       "<class 'statsmodels.iolib.summary.Summary'>\n",
       "\"\"\"\n",
       "                            OLS Regression Results                            \n",
       "==============================================================================\n",
       "Dep. Variable:            관광지하차관광객(y)   R-squared:                       0.643\n",
       "Model:                            OLS   Adj. R-squared:                  0.637\n",
       "Method:                 Least Squares   F-statistic:                     112.0\n",
       "Date:                Sun, 23 May 2021   Prob (F-statistic):           2.56e-80\n",
       "Time:                        17:39:20   Log-Likelihood:                -3043.8\n",
       "No. Observations:                 380   AIC:                             6102.\n",
       "Df Residuals:                     373   BIC:                             6129.\n",
       "Df Model:                           6                                         \n",
       "Covariance Type:            nonrobust                                         \n",
       "=================================================================================\n",
       "                    coef    std err          t      P>|t|      [0.025      0.975]\n",
       "---------------------------------------------------------------------------------\n",
       "const         -1138.9153    199.121     -5.720      0.000   -1530.457    -747.374\n",
       "airport           0.4795      0.041     11.674      0.000       0.399       0.560\n",
       "airport_-1day     0.2099      0.049      4.301      0.000       0.114       0.306\n",
       "airport_-2day     0.2286      0.039      5.787      0.000       0.151       0.306\n",
       "평균기온             23.7019      5.115      4.634      0.000      13.645      33.759\n",
       "강수 계속시간(hr)     -15.1290     10.421     -1.452      0.147     -35.620       5.362\n",
       "일강수량(mm)         -1.0889      1.795     -0.606      0.545      -4.619       2.442\n",
       "==============================================================================\n",
       "Omnibus:                       36.390   Durbin-Watson:                   1.900\n",
       "Prob(Omnibus):                  0.000   Jarque-Bera (JB):              125.320\n",
       "Skew:                           0.341   Prob(JB):                     6.12e-28\n",
       "Kurtosis:                       5.729   Cond. No.                     4.35e+04\n",
       "==============================================================================\n",
       "\n",
       "Notes:\n",
       "[1] Standard Errors assume that the covariance matrix of the errors is correctly specified.\n",
       "[2] The condition number is large, 4.35e+04. This might indicate that there are\n",
       "strong multicollinearity or other numerical problems.\n",
       "\"\"\""
      ]
     },
     "execution_count": 138,
     "metadata": {},
     "output_type": "execute_result"
    }
   ],
   "source": [
    "X = df[[\"airport\", 'airport_-1day', 'airport_-2day', \"평균기온\", '강수 계속시간(hr)', '일강수량(mm)' ]]\n",
    "X_add = sm.add_constant(X, has_constant = \"add\") \n",
    "y = df[[\"관광지하차관광객(y)\"]]\n",
    "X_train, X_test, y_train, y_test = train_test_split(X_add, y, \n",
    "                                                   test_size = 0.3, \n",
    "                                                   random_state = 13)\n",
    "\n",
    "lm = sm.OLS(y_train, X_train).fit()\n",
    "lm.summary()"
   ]
  },
  {
   "cell_type": "code",
   "execution_count": 125,
   "id": "92efee50",
   "metadata": {},
   "outputs": [
    {
     "name": "stdout",
     "output_type": "stream",
     "text": [
      "RMSE of Train Data:  728.4917708871244\n",
      "RMSE of Test Data:  724.1947991593745\n"
     ]
    }
   ],
   "source": [
    "\n",
    "pred_tr = lm.predict(X_train)\n",
    "pred_test = lm.predict(X_test)\n",
    "rmse_tr = (np.sqrt(mean_squared_error(y_train, pred_tr)))\n",
    "rmse_test = (np.sqrt(mean_squared_error(y_test, pred_test)))\n",
    "\n",
    "\n",
    "\n",
    "print('RMSE of Train Data: ', rmse_tr)\n",
    "print('RMSE of Test Data: ', rmse_test)"
   ]
  },
  {
   "cell_type": "markdown",
   "id": "3710de1a",
   "metadata": {},
   "source": [
    "- OLS\n",
    "- 사용 컬럼 : 당일(base_date 기준) 공항에서 버스에 탑승한 승객 수, 1일 전 공항에서 버스에 탑승한 승객 수, \n",
    "    2일 전 공항에서 버스에 탑승한 승객 수, 날씨(평균기온, 강수 계속시간, 일 강수량, 주말및공휴일) "
   ]
  },
  {
   "cell_type": "code",
   "execution_count": 133,
   "id": "2e0966fb",
   "metadata": {},
   "outputs": [
    {
     "data": {
      "text/html": [
       "<table class=\"simpletable\">\n",
       "<caption>OLS Regression Results</caption>\n",
       "<tr>\n",
       "  <th>Dep. Variable:</th>       <td>관광지하차관광객(y)</td>   <th>  R-squared:         </th> <td>   0.651</td>\n",
       "</tr>\n",
       "<tr>\n",
       "  <th>Model:</th>                   <td>OLS</td>       <th>  Adj. R-squared:    </th> <td>   0.645</td>\n",
       "</tr>\n",
       "<tr>\n",
       "  <th>Method:</th>             <td>Least Squares</td>  <th>  F-statistic:       </th> <td>   99.18</td>\n",
       "</tr>\n",
       "<tr>\n",
       "  <th>Date:</th>             <td>Sun, 23 May 2021</td> <th>  Prob (F-statistic):</th> <td>4.35e-81</td>\n",
       "</tr>\n",
       "<tr>\n",
       "  <th>Time:</th>                 <td>17:38:08</td>     <th>  Log-Likelihood:    </th> <td> -3039.5</td>\n",
       "</tr>\n",
       "<tr>\n",
       "  <th>No. Observations:</th>      <td>   380</td>      <th>  AIC:               </th> <td>   6095.</td>\n",
       "</tr>\n",
       "<tr>\n",
       "  <th>Df Residuals:</th>          <td>   372</td>      <th>  BIC:               </th> <td>   6126.</td>\n",
       "</tr>\n",
       "<tr>\n",
       "  <th>Df Model:</th>              <td>     7</td>      <th>                     </th>     <td> </td>   \n",
       "</tr>\n",
       "<tr>\n",
       "  <th>Covariance Type:</th>      <td>nonrobust</td>    <th>                     </th>     <td> </td>   \n",
       "</tr>\n",
       "</table>\n",
       "<table class=\"simpletable\">\n",
       "<tr>\n",
       "         <td></td>           <th>coef</th>     <th>std err</th>      <th>t</th>      <th>P>|t|</th>  <th>[0.025</th>    <th>0.975]</th>  \n",
       "</tr>\n",
       "<tr>\n",
       "  <th>const</th>          <td> -962.1895</td> <td>  206.244</td> <td>   -4.665</td> <td> 0.000</td> <td>-1367.739</td> <td> -556.640</td>\n",
       "</tr>\n",
       "<tr>\n",
       "  <th>airport</th>        <td>    0.4908</td> <td>    0.041</td> <td>   12.016</td> <td> 0.000</td> <td>    0.410</td> <td>    0.571</td>\n",
       "</tr>\n",
       "<tr>\n",
       "  <th>airport_-1day</th>  <td>    0.1621</td> <td>    0.051</td> <td>    3.178</td> <td> 0.002</td> <td>    0.062</td> <td>    0.262</td>\n",
       "</tr>\n",
       "<tr>\n",
       "  <th>airport_-2day</th>  <td>    0.2448</td> <td>    0.039</td> <td>    6.198</td> <td> 0.000</td> <td>    0.167</td> <td>    0.322</td>\n",
       "</tr>\n",
       "<tr>\n",
       "  <th>평균기온</th>           <td>   23.8021</td> <td>    5.064</td> <td>    4.700</td> <td> 0.000</td> <td>   13.845</td> <td>   33.760</td>\n",
       "</tr>\n",
       "<tr>\n",
       "  <th>강수 계속시간(hr)</th>    <td>  -15.9995</td> <td>   10.322</td> <td>   -1.550</td> <td> 0.122</td> <td>  -36.295</td> <td>    4.297</td>\n",
       "</tr>\n",
       "<tr>\n",
       "  <th>일강수량(mm)</th>       <td>   -1.2393</td> <td>    1.778</td> <td>   -0.697</td> <td> 0.486</td> <td>   -4.736</td> <td>    2.258</td>\n",
       "</tr>\n",
       "<tr>\n",
       "  <th>holiandweekend</th> <td> -247.3406</td> <td>   84.784</td> <td>   -2.917</td> <td> 0.004</td> <td> -414.056</td> <td>  -80.626</td>\n",
       "</tr>\n",
       "</table>\n",
       "<table class=\"simpletable\">\n",
       "<tr>\n",
       "  <th>Omnibus:</th>       <td>35.641</td> <th>  Durbin-Watson:     </th> <td>   1.909</td>\n",
       "</tr>\n",
       "<tr>\n",
       "  <th>Prob(Omnibus):</th> <td> 0.000</td> <th>  Jarque-Bera (JB):  </th> <td> 103.337</td>\n",
       "</tr>\n",
       "<tr>\n",
       "  <th>Skew:</th>          <td> 0.399</td> <th>  Prob(JB):          </th> <td>3.64e-23</td>\n",
       "</tr>\n",
       "<tr>\n",
       "  <th>Kurtosis:</th>      <td> 5.427</td> <th>  Cond. No.          </th> <td>4.59e+04</td>\n",
       "</tr>\n",
       "</table><br/><br/>Notes:<br/>[1] Standard Errors assume that the covariance matrix of the errors is correctly specified.<br/>[2] The condition number is large, 4.59e+04. This might indicate that there are<br/>strong multicollinearity or other numerical problems."
      ],
      "text/plain": [
       "<class 'statsmodels.iolib.summary.Summary'>\n",
       "\"\"\"\n",
       "                            OLS Regression Results                            \n",
       "==============================================================================\n",
       "Dep. Variable:            관광지하차관광객(y)   R-squared:                       0.651\n",
       "Model:                            OLS   Adj. R-squared:                  0.645\n",
       "Method:                 Least Squares   F-statistic:                     99.18\n",
       "Date:                Sun, 23 May 2021   Prob (F-statistic):           4.35e-81\n",
       "Time:                        17:38:08   Log-Likelihood:                -3039.5\n",
       "No. Observations:                 380   AIC:                             6095.\n",
       "Df Residuals:                     372   BIC:                             6126.\n",
       "Df Model:                           7                                         \n",
       "Covariance Type:            nonrobust                                         \n",
       "==================================================================================\n",
       "                     coef    std err          t      P>|t|      [0.025      0.975]\n",
       "----------------------------------------------------------------------------------\n",
       "const           -962.1895    206.244     -4.665      0.000   -1367.739    -556.640\n",
       "airport            0.4908      0.041     12.016      0.000       0.410       0.571\n",
       "airport_-1day      0.1621      0.051      3.178      0.002       0.062       0.262\n",
       "airport_-2day      0.2448      0.039      6.198      0.000       0.167       0.322\n",
       "평균기온              23.8021      5.064      4.700      0.000      13.845      33.760\n",
       "강수 계속시간(hr)      -15.9995     10.322     -1.550      0.122     -36.295       4.297\n",
       "일강수량(mm)          -1.2393      1.778     -0.697      0.486      -4.736       2.258\n",
       "holiandweekend  -247.3406     84.784     -2.917      0.004    -414.056     -80.626\n",
       "==============================================================================\n",
       "Omnibus:                       35.641   Durbin-Watson:                   1.909\n",
       "Prob(Omnibus):                  0.000   Jarque-Bera (JB):              103.337\n",
       "Skew:                           0.399   Prob(JB):                     3.64e-23\n",
       "Kurtosis:                       5.427   Cond. No.                     4.59e+04\n",
       "==============================================================================\n",
       "\n",
       "Notes:\n",
       "[1] Standard Errors assume that the covariance matrix of the errors is correctly specified.\n",
       "[2] The condition number is large, 4.59e+04. This might indicate that there are\n",
       "strong multicollinearity or other numerical problems.\n",
       "\"\"\""
      ]
     },
     "execution_count": 133,
     "metadata": {},
     "output_type": "execute_result"
    }
   ],
   "source": [
    "X = df[[\"airport\", 'airport_-1day', 'airport_-2day', \"평균기온\", '강수 계속시간(hr)', '일강수량(mm)', \n",
    "                    \"holiandweekend\"]]\n",
    "X_add = sm.add_constant(X, has_constant = \"add\") \n",
    "y = df[[\"관광지하차관광객(y)\"]]\n",
    "X_train, X_test, y_train, y_test = train_test_split(X_add, y, \n",
    "                                                   test_size = 0.3, \n",
    "                                                   random_state = 13)\n",
    "\n",
    "lm = sm.OLS(y_train, X_train).fit()\n",
    "lm.summary()"
   ]
  },
  {
   "cell_type": "code",
   "execution_count": 134,
   "id": "8e00f473",
   "metadata": {},
   "outputs": [
    {
     "name": "stdout",
     "output_type": "stream",
     "text": [
      "RMSE of Train Data:  720.29873566381\n",
      "RMSE of Test Data:  712.8239620807933\n"
     ]
    }
   ],
   "source": [
    "\n",
    "pred_tr = lm.predict(X_train)\n",
    "pred_test = lm.predict(X_test)\n",
    "rmse_tr = (np.sqrt(mean_squared_error(y_train, pred_tr)))\n",
    "rmse_test = (np.sqrt(mean_squared_error(y_test, pred_test)))\n",
    "\n",
    "\n",
    "\n",
    "print('RMSE of Train Data: ', rmse_tr)\n",
    "print('RMSE of Test Data: ', rmse_test)"
   ]
  },
  {
   "cell_type": "markdown",
   "id": "50bb8e6b",
   "metadata": {},
   "source": [
    "$$ (Tourist∩BusPassenger) = -863.0477 + 0.4992(Airport BusPassenger) + 0.2174(Airport -1Day) + 0.2240(Airport -2Day)$$ \t"
   ]
  },
  {
   "cell_type": "markdown",
   "id": "057834ce",
   "metadata": {},
   "source": [
    "- OLS\n",
    "- 사용 컬럼 : 당일(base_date 기준) 제주 입도 관광객 수, 1일 전 제주 입도 관광객 수, 2일 전 제주 입도 관광객 수 "
   ]
  },
  {
   "cell_type": "code",
   "execution_count": 140,
   "id": "e5c52552",
   "metadata": {},
   "outputs": [
    {
     "data": {
      "text/html": [
       "<table class=\"simpletable\">\n",
       "<caption>OLS Regression Results</caption>\n",
       "<tr>\n",
       "  <th>Dep. Variable:</th>       <td>관광지하차관광객(y)</td>   <th>  R-squared:         </th> <td>   0.195</td>\n",
       "</tr>\n",
       "<tr>\n",
       "  <th>Model:</th>                   <td>OLS</td>       <th>  Adj. R-squared:    </th> <td>   0.189</td>\n",
       "</tr>\n",
       "<tr>\n",
       "  <th>Method:</th>             <td>Least Squares</td>  <th>  F-statistic:       </th> <td>   30.45</td>\n",
       "</tr>\n",
       "<tr>\n",
       "  <th>Date:</th>             <td>Sun, 23 May 2021</td> <th>  Prob (F-statistic):</th> <td>1.20e-17</td>\n",
       "</tr>\n",
       "<tr>\n",
       "  <th>Time:</th>                 <td>17:40:33</td>     <th>  Log-Likelihood:    </th> <td> -3198.2</td>\n",
       "</tr>\n",
       "<tr>\n",
       "  <th>No. Observations:</th>      <td>   380</td>      <th>  AIC:               </th> <td>   6404.</td>\n",
       "</tr>\n",
       "<tr>\n",
       "  <th>Df Residuals:</th>          <td>   376</td>      <th>  BIC:               </th> <td>   6420.</td>\n",
       "</tr>\n",
       "<tr>\n",
       "  <th>Df Model:</th>              <td>     3</td>      <th>                     </th>     <td> </td>   \n",
       "</tr>\n",
       "<tr>\n",
       "  <th>Covariance Type:</th>      <td>nonrobust</td>    <th>                     </th>     <td> </td>   \n",
       "</tr>\n",
       "</table>\n",
       "<table class=\"simpletable\">\n",
       "<tr>\n",
       "        <td></td>           <th>coef</th>     <th>std err</th>      <th>t</th>      <th>P>|t|</th>  <th>[0.025</th>    <th>0.975]</th>  \n",
       "</tr>\n",
       "<tr>\n",
       "  <th>const</th>         <td> -977.7663</td> <td>  487.812</td> <td>   -2.004</td> <td> 0.046</td> <td>-1936.947</td> <td>  -18.586</td>\n",
       "</tr>\n",
       "<tr>\n",
       "  <th>총관광객</th>          <td>    0.0726</td> <td>    0.012</td> <td>    5.955</td> <td> 0.000</td> <td>    0.049</td> <td>    0.097</td>\n",
       "</tr>\n",
       "<tr>\n",
       "  <th>tourist_-1day</th> <td>    0.0078</td> <td>    0.014</td> <td>    0.564</td> <td> 0.573</td> <td>   -0.019</td> <td>    0.035</td>\n",
       "</tr>\n",
       "<tr>\n",
       "  <th>tourist_-2day</th> <td>    0.0295</td> <td>    0.012</td> <td>    2.489</td> <td> 0.013</td> <td>    0.006</td> <td>    0.053</td>\n",
       "</tr>\n",
       "</table>\n",
       "<table class=\"simpletable\">\n",
       "<tr>\n",
       "  <th>Omnibus:</th>       <td> 9.649</td> <th>  Durbin-Watson:     </th> <td>   2.133</td>\n",
       "</tr>\n",
       "<tr>\n",
       "  <th>Prob(Omnibus):</th> <td> 0.008</td> <th>  Jarque-Bera (JB):  </th> <td>  16.621</td>\n",
       "</tr>\n",
       "<tr>\n",
       "  <th>Skew:</th>          <td> 0.086</td> <th>  Prob(JB):          </th> <td>0.000246</td>\n",
       "</tr>\n",
       "<tr>\n",
       "  <th>Kurtosis:</th>      <td> 4.010</td> <th>  Cond. No.          </th> <td>6.14e+05</td>\n",
       "</tr>\n",
       "</table><br/><br/>Notes:<br/>[1] Standard Errors assume that the covariance matrix of the errors is correctly specified.<br/>[2] The condition number is large, 6.14e+05. This might indicate that there are<br/>strong multicollinearity or other numerical problems."
      ],
      "text/plain": [
       "<class 'statsmodels.iolib.summary.Summary'>\n",
       "\"\"\"\n",
       "                            OLS Regression Results                            \n",
       "==============================================================================\n",
       "Dep. Variable:            관광지하차관광객(y)   R-squared:                       0.195\n",
       "Model:                            OLS   Adj. R-squared:                  0.189\n",
       "Method:                 Least Squares   F-statistic:                     30.45\n",
       "Date:                Sun, 23 May 2021   Prob (F-statistic):           1.20e-17\n",
       "Time:                        17:40:33   Log-Likelihood:                -3198.2\n",
       "No. Observations:                 380   AIC:                             6404.\n",
       "Df Residuals:                     376   BIC:                             6420.\n",
       "Df Model:                           3                                         \n",
       "Covariance Type:            nonrobust                                         \n",
       "=================================================================================\n",
       "                    coef    std err          t      P>|t|      [0.025      0.975]\n",
       "---------------------------------------------------------------------------------\n",
       "const          -977.7663    487.812     -2.004      0.046   -1936.947     -18.586\n",
       "총관광객              0.0726      0.012      5.955      0.000       0.049       0.097\n",
       "tourist_-1day     0.0078      0.014      0.564      0.573      -0.019       0.035\n",
       "tourist_-2day     0.0295      0.012      2.489      0.013       0.006       0.053\n",
       "==============================================================================\n",
       "Omnibus:                        9.649   Durbin-Watson:                   2.133\n",
       "Prob(Omnibus):                  0.008   Jarque-Bera (JB):               16.621\n",
       "Skew:                           0.086   Prob(JB):                     0.000246\n",
       "Kurtosis:                       4.010   Cond. No.                     6.14e+05\n",
       "==============================================================================\n",
       "\n",
       "Notes:\n",
       "[1] Standard Errors assume that the covariance matrix of the errors is correctly specified.\n",
       "[2] The condition number is large, 6.14e+05. This might indicate that there are\n",
       "strong multicollinearity or other numerical problems.\n",
       "\"\"\""
      ]
     },
     "execution_count": 140,
     "metadata": {},
     "output_type": "execute_result"
    }
   ],
   "source": [
    "X = df[[\"총관광객\", \"tourist_-1day\", \"tourist_-2day\" ]]\n",
    "X_add = sm.add_constant(X, has_constant = \"add\") \n",
    "y = df[[\"관광지하차관광객(y)\"]]\n",
    "X_train, X_test, y_train, y_test = train_test_split(X_add, y, \n",
    "                                                   test_size = 0.3, \n",
    "                                                   random_state = 13)\n",
    "\n",
    "lm = sm.OLS(y_train, X_train).fit()\n",
    "lm.summary()"
   ]
  },
  {
   "cell_type": "code",
   "execution_count": 141,
   "id": "38be6d97",
   "metadata": {},
   "outputs": [
    {
     "name": "stdout",
     "output_type": "stream",
     "text": [
      "RMSE of Train Data:  1093.800942841297\n",
      "RMSE of Test Data:  1143.354634854195\n"
     ]
    }
   ],
   "source": [
    "\n",
    "pred_tr = lm.predict(X_train)\n",
    "pred_test = lm.predict(X_test)\n",
    "rmse_tr = (np.sqrt(mean_squared_error(y_train, pred_tr)))\n",
    "rmse_test = (np.sqrt(mean_squared_error(y_test, pred_test)))\n",
    "\n",
    "\n",
    "\n",
    "print('RMSE of Train Data: ', rmse_tr)\n",
    "print('RMSE of Test Data: ', rmse_test)"
   ]
  },
  {
   "cell_type": "markdown",
   "id": "b21d2c68",
   "metadata": {},
   "source": [
    " - Random Forest Regression \n",
    " - 사용 컬럼 :  당일(base_date 기준) 제주 입도 관광객 수, 1일 전 제주 입도 관광객 수, 2일 전 제주 입도 관광객 수"
   ]
  },
  {
   "cell_type": "code",
   "execution_count": 150,
   "id": "eb6982b2",
   "metadata": {},
   "outputs": [
    {
     "name": "stdout",
     "output_type": "stream",
     "text": [
      "RMSE of Train Data:  249.93407129045167\n",
      "RMSE of Test Data:  590.6991183148272\n",
      "R-score :  0.7931907247421156\n"
     ]
    }
   ],
   "source": [
    "\n",
    "rf = RandomForestRegressor()\n",
    "X = df.iloc[2:, :][[\"airport\", 'airport_-1day', 'airport_-2day']]\n",
    "y = df.iloc[2:, :][\"관광지하차관광객(y)\"]\n",
    "X_train, X_test, y_train, y_test = train_test_split(X, y, \n",
    "                                                   test_size = 0.3, \n",
    "                                                   random_state = 13)\n",
    "rf.fit(X_train, y_train)\n",
    "\n",
    "pred_tr = rf.predict(X_train)\n",
    "pred_test = rf.predict(X_test)\n",
    "rmse_tr = (np.sqrt(mean_squared_error(y_train, pred_tr)))\n",
    "rmse_test = (np.sqrt(mean_squared_error(y_test, pred_test)))\n",
    "r_score = rf.score(X_test, y_test)\n",
    "\n",
    "\n",
    "print('RMSE of Train Data: ', rmse_tr)\n",
    "print('RMSE of Test Data: ', rmse_test)\n",
    "print('R-score : ', r_score)"
   ]
  },
  {
   "cell_type": "code",
   "execution_count": 152,
   "id": "479d78ec",
   "metadata": {},
   "outputs": [
    {
     "name": "stdout",
     "output_type": "stream",
     "text": [
      "airport          0.504385\n",
      "airport_-1day    0.263024\n",
      "airport_-2day    0.232590\n",
      "dtype: float64\n"
     ]
    }
   ],
   "source": [
    "fi = pd.Series(rf.feature_importances_, index=X.columns)\n",
    "print(fi.sort_values(ascending=False))"
   ]
  },
  {
   "cell_type": "markdown",
   "id": "2bcc0183",
   "metadata": {},
   "source": [
    "- Standard Scaler 적용 "
   ]
  },
  {
   "cell_type": "code",
   "execution_count": 160,
   "id": "9d2e55de",
   "metadata": {},
   "outputs": [
    {
     "data": {
      "text/html": [
       "<table class=\"simpletable\">\n",
       "<caption>OLS Regression Results</caption>\n",
       "<tr>\n",
       "  <th>Dep. Variable:</th>       <td>관광지하차관광객(y)</td>   <th>  R-squared:         </th> <td>   0.506</td>\n",
       "</tr>\n",
       "<tr>\n",
       "  <th>Model:</th>                   <td>OLS</td>       <th>  Adj. R-squared:    </th> <td>   0.504</td>\n",
       "</tr>\n",
       "<tr>\n",
       "  <th>Method:</th>             <td>Least Squares</td>  <th>  F-statistic:       </th> <td>   386.7</td>\n",
       "</tr>\n",
       "<tr>\n",
       "  <th>Date:</th>             <td>Sun, 23 May 2021</td> <th>  Prob (F-statistic):</th> <td>8.46e-60</td>\n",
       "</tr>\n",
       "<tr>\n",
       "  <th>Time:</th>                 <td>20:04:17</td>     <th>  Log-Likelihood:    </th> <td> -3105.7</td>\n",
       "</tr>\n",
       "<tr>\n",
       "  <th>No. Observations:</th>      <td>   380</td>      <th>  AIC:               </th> <td>   6215.</td>\n",
       "</tr>\n",
       "<tr>\n",
       "  <th>Df Residuals:</th>          <td>   378</td>      <th>  BIC:               </th> <td>   6223.</td>\n",
       "</tr>\n",
       "<tr>\n",
       "  <th>Df Model:</th>              <td>     1</td>      <th>                     </th>     <td> </td>   \n",
       "</tr>\n",
       "<tr>\n",
       "  <th>Covariance Type:</th>      <td>nonrobust</td>    <th>                     </th>     <td> </td>   \n",
       "</tr>\n",
       "</table>\n",
       "<table class=\"simpletable\">\n",
       "<tr>\n",
       "    <td></td>       <th>coef</th>     <th>std err</th>      <th>t</th>      <th>P>|t|</th>  <th>[0.025</th>    <th>0.975]</th>  \n",
       "</tr>\n",
       "<tr>\n",
       "  <th>const</th> <td> 3519.2249</td> <td>   44.104</td> <td>   79.794</td> <td> 0.000</td> <td> 3432.505</td> <td> 3605.945</td>\n",
       "</tr>\n",
       "<tr>\n",
       "  <th>x1</th>    <td>  863.0861</td> <td>   43.891</td> <td>   19.664</td> <td> 0.000</td> <td>  776.785</td> <td>  949.387</td>\n",
       "</tr>\n",
       "</table>\n",
       "<table class=\"simpletable\">\n",
       "<tr>\n",
       "  <th>Omnibus:</th>       <td> 7.395</td> <th>  Durbin-Watson:     </th> <td>   2.015</td>\n",
       "</tr>\n",
       "<tr>\n",
       "  <th>Prob(Omnibus):</th> <td> 0.025</td> <th>  Jarque-Bera (JB):  </th> <td>  11.662</td>\n",
       "</tr>\n",
       "<tr>\n",
       "  <th>Skew:</th>          <td>-0.032</td> <th>  Prob(JB):          </th> <td> 0.00294</td>\n",
       "</tr>\n",
       "<tr>\n",
       "  <th>Kurtosis:</th>      <td> 3.856</td> <th>  Cond. No.          </th> <td>    1.02</td>\n",
       "</tr>\n",
       "</table><br/><br/>Notes:<br/>[1] Standard Errors assume that the covariance matrix of the errors is correctly specified."
      ],
      "text/plain": [
       "<class 'statsmodels.iolib.summary.Summary'>\n",
       "\"\"\"\n",
       "                            OLS Regression Results                            \n",
       "==============================================================================\n",
       "Dep. Variable:            관광지하차관광객(y)   R-squared:                       0.506\n",
       "Model:                            OLS   Adj. R-squared:                  0.504\n",
       "Method:                 Least Squares   F-statistic:                     386.7\n",
       "Date:                Sun, 23 May 2021   Prob (F-statistic):           8.46e-60\n",
       "Time:                        20:04:17   Log-Likelihood:                -3105.7\n",
       "No. Observations:                 380   AIC:                             6215.\n",
       "Df Residuals:                     378   BIC:                             6223.\n",
       "Df Model:                           1                                         \n",
       "Covariance Type:            nonrobust                                         \n",
       "==============================================================================\n",
       "                 coef    std err          t      P>|t|      [0.025      0.975]\n",
       "------------------------------------------------------------------------------\n",
       "const       3519.2249     44.104     79.794      0.000    3432.505    3605.945\n",
       "x1           863.0861     43.891     19.664      0.000     776.785     949.387\n",
       "==============================================================================\n",
       "Omnibus:                        7.395   Durbin-Watson:                   2.015\n",
       "Prob(Omnibus):                  0.025   Jarque-Bera (JB):               11.662\n",
       "Skew:                          -0.032   Prob(JB):                      0.00294\n",
       "Kurtosis:                       3.856   Cond. No.                         1.02\n",
       "==============================================================================\n",
       "\n",
       "Notes:\n",
       "[1] Standard Errors assume that the covariance matrix of the errors is correctly specified.\n",
       "\"\"\""
      ]
     },
     "execution_count": 160,
     "metadata": {},
     "output_type": "execute_result"
    }
   ],
   "source": [
    "stdscaler = StandardScaler()\n",
    "airport_std = stdscaler.fit_transform(np.array(df[\"airport\"]).reshape(-1, 1))\n",
    "\n",
    "X = airport_std \n",
    "X_add = sm.add_constant(X, has_constant = \"add\") \n",
    "y = df[\"관광지하차관광객(y)\"]\n",
    "X_train, X_test, y_train, y_test = train_test_split(X_add, y, \n",
    "                                                   test_size = 0.3, \n",
    "                                                   random_state = 13)\n",
    "\n",
    "lm = sm.OLS(y_train, X_train).fit()\n",
    "lm.summary()"
   ]
  },
  {
   "cell_type": "code",
   "execution_count": 161,
   "id": "a2539377",
   "metadata": {},
   "outputs": [
    {
     "name": "stdout",
     "output_type": "stream",
     "text": [
      "RMSE of Train Data:  857.385836481183\n",
      "RMSE of Test Data:  865.5363296687453\n"
     ]
    }
   ],
   "source": [
    "\n",
    "pred_tr = lm.predict(X_train)\n",
    "pred_test = lm.predict(X_test)\n",
    "rmse_tr = (np.sqrt(mean_squared_error(y_train, pred_tr)))\n",
    "rmse_test = (np.sqrt(mean_squared_error(y_test, pred_test)))\n",
    "\n",
    "\n",
    "\n",
    "print('RMSE of Train Data: ', rmse_tr)\n",
    "print('RMSE of Test Data: ', rmse_test)"
   ]
  },
  {
   "cell_type": "markdown",
   "id": "6bfe21c3",
   "metadata": {},
   "source": [
    "- Robust Scaler 적용"
   ]
  },
  {
   "cell_type": "code",
   "execution_count": 155,
   "id": "98aaa0de",
   "metadata": {},
   "outputs": [],
   "source": [
    "robust = RobustScaler()\n",
    "airport_rb = robust.fit_transform(np.array(df[\"airport\"]).reshape(-1, 1))"
   ]
  },
  {
   "cell_type": "code",
   "execution_count": 157,
   "id": "0ff3892b",
   "metadata": {},
   "outputs": [
    {
     "data": {
      "text/html": [
       "<table class=\"simpletable\">\n",
       "<caption>OLS Regression Results</caption>\n",
       "<tr>\n",
       "  <th>Dep. Variable:</th>       <td>관광지하차관광객(y)</td>   <th>  R-squared:         </th> <td>   0.506</td>\n",
       "</tr>\n",
       "<tr>\n",
       "  <th>Model:</th>                   <td>OLS</td>       <th>  Adj. R-squared:    </th> <td>   0.504</td>\n",
       "</tr>\n",
       "<tr>\n",
       "  <th>Method:</th>             <td>Least Squares</td>  <th>  F-statistic:       </th> <td>   386.7</td>\n",
       "</tr>\n",
       "<tr>\n",
       "  <th>Date:</th>             <td>Sun, 23 May 2021</td> <th>  Prob (F-statistic):</th> <td>8.46e-60</td>\n",
       "</tr>\n",
       "<tr>\n",
       "  <th>Time:</th>                 <td>20:02:20</td>     <th>  Log-Likelihood:    </th> <td> -3105.7</td>\n",
       "</tr>\n",
       "<tr>\n",
       "  <th>No. Observations:</th>      <td>   380</td>      <th>  AIC:               </th> <td>   6215.</td>\n",
       "</tr>\n",
       "<tr>\n",
       "  <th>Df Residuals:</th>          <td>   378</td>      <th>  BIC:               </th> <td>   6223.</td>\n",
       "</tr>\n",
       "<tr>\n",
       "  <th>Df Model:</th>              <td>     1</td>      <th>                     </th>     <td> </td>   \n",
       "</tr>\n",
       "<tr>\n",
       "  <th>Covariance Type:</th>      <td>nonrobust</td>    <th>                     </th>     <td> </td>   \n",
       "</tr>\n",
       "</table>\n",
       "<table class=\"simpletable\">\n",
       "<tr>\n",
       "    <td></td>       <th>coef</th>     <th>std err</th>      <th>t</th>      <th>P>|t|</th>  <th>[0.025</th>    <th>0.975]</th>  \n",
       "</tr>\n",
       "<tr>\n",
       "  <th>const</th> <td> 3476.2663</td> <td>   44.125</td> <td>   78.781</td> <td> 0.000</td> <td> 3389.504</td> <td> 3563.028</td>\n",
       "</tr>\n",
       "<tr>\n",
       "  <th>x1</th>    <td> 1143.6032</td> <td>   58.156</td> <td>   19.664</td> <td> 0.000</td> <td> 1029.253</td> <td> 1257.953</td>\n",
       "</tr>\n",
       "</table>\n",
       "<table class=\"simpletable\">\n",
       "<tr>\n",
       "  <th>Omnibus:</th>       <td> 7.395</td> <th>  Durbin-Watson:     </th> <td>   2.015</td>\n",
       "</tr>\n",
       "<tr>\n",
       "  <th>Prob(Omnibus):</th> <td> 0.025</td> <th>  Jarque-Bera (JB):  </th> <td>  11.662</td>\n",
       "</tr>\n",
       "<tr>\n",
       "  <th>Skew:</th>          <td>-0.032</td> <th>  Prob(JB):          </th> <td> 0.00294</td>\n",
       "</tr>\n",
       "<tr>\n",
       "  <th>Kurtosis:</th>      <td> 3.856</td> <th>  Cond. No.          </th> <td>    1.32</td>\n",
       "</tr>\n",
       "</table><br/><br/>Notes:<br/>[1] Standard Errors assume that the covariance matrix of the errors is correctly specified."
      ],
      "text/plain": [
       "<class 'statsmodels.iolib.summary.Summary'>\n",
       "\"\"\"\n",
       "                            OLS Regression Results                            \n",
       "==============================================================================\n",
       "Dep. Variable:            관광지하차관광객(y)   R-squared:                       0.506\n",
       "Model:                            OLS   Adj. R-squared:                  0.504\n",
       "Method:                 Least Squares   F-statistic:                     386.7\n",
       "Date:                Sun, 23 May 2021   Prob (F-statistic):           8.46e-60\n",
       "Time:                        20:02:20   Log-Likelihood:                -3105.7\n",
       "No. Observations:                 380   AIC:                             6215.\n",
       "Df Residuals:                     378   BIC:                             6223.\n",
       "Df Model:                           1                                         \n",
       "Covariance Type:            nonrobust                                         \n",
       "==============================================================================\n",
       "                 coef    std err          t      P>|t|      [0.025      0.975]\n",
       "------------------------------------------------------------------------------\n",
       "const       3476.2663     44.125     78.781      0.000    3389.504    3563.028\n",
       "x1          1143.6032     58.156     19.664      0.000    1029.253    1257.953\n",
       "==============================================================================\n",
       "Omnibus:                        7.395   Durbin-Watson:                   2.015\n",
       "Prob(Omnibus):                  0.025   Jarque-Bera (JB):               11.662\n",
       "Skew:                          -0.032   Prob(JB):                      0.00294\n",
       "Kurtosis:                       3.856   Cond. No.                         1.32\n",
       "==============================================================================\n",
       "\n",
       "Notes:\n",
       "[1] Standard Errors assume that the covariance matrix of the errors is correctly specified.\n",
       "\"\"\""
      ]
     },
     "execution_count": 157,
     "metadata": {},
     "output_type": "execute_result"
    }
   ],
   "source": [
    "X = airport_rb\n",
    "X_add = sm.add_constant(X, has_constant = \"add\") \n",
    "y = df[\"관광지하차관광객(y)\"]\n",
    "X_train, X_test, y_train, y_test = train_test_split(X_add, y, \n",
    "                                                   test_size = 0.3, \n",
    "                                                   random_state = 13)\n",
    "\n",
    "lm = sm.OLS(y_train, X_train).fit()\n",
    "lm.summary()"
   ]
  },
  {
   "cell_type": "code",
   "execution_count": 158,
   "id": "40806885",
   "metadata": {},
   "outputs": [
    {
     "name": "stdout",
     "output_type": "stream",
     "text": [
      "RMSE of Train Data:  857.385836481183\n",
      "RMSE of Test Data:  865.5363296687451\n"
     ]
    }
   ],
   "source": [
    "\n",
    "pred_tr = lm.predict(X_train)\n",
    "pred_test = lm.predict(X_test)\n",
    "rmse_tr = (np.sqrt(mean_squared_error(y_train, pred_tr)))\n",
    "rmse_test = (np.sqrt(mean_squared_error(y_test, pred_test)))\n",
    "\n",
    "\n",
    "\n",
    "print('RMSE of Train Data: ', rmse_tr)\n",
    "print('RMSE of Test Data: ', rmse_test)"
   ]
  },
  {
   "cell_type": "code",
   "execution_count": null,
   "id": "bd08e647",
   "metadata": {},
   "outputs": [],
   "source": []
  }
 ],
 "metadata": {
  "kernelspec": {
   "display_name": "Python 3.8.6 64-bit ('m1': conda)",
   "language": "python",
   "name": "python386jvsc74a57bd07918b9be9029ed4a26abb1e3f55c1f59c9a25fcca3de584c39fa0974acb148d7"
  },
  "language_info": {
   "codemirror_mode": {
    "name": "ipython",
    "version": 3
   },
   "file_extension": ".py",
   "mimetype": "text/x-python",
   "name": "python",
   "nbconvert_exporter": "python",
   "pygments_lexer": "ipython3",
   "version": "3.8.6"
  }
 },
 "nbformat": 4,
 "nbformat_minor": 5
}
