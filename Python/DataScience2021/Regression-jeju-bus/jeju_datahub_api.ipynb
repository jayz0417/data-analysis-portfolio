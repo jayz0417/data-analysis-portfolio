{
 "cells": [
  {
   "cell_type": "code",
   "execution_count": null,
   "metadata": {},
   "outputs": [],
   "source": [
    "import pandas as pd\n",
    "import os\n",
    "import sys\n",
    "import urllib.request\n",
    "import json"
   ]
  },
  {
   "cell_type": "code",
   "execution_count": null,
   "metadata": {},
   "outputs": [],
   "source": [
    "mykey = \"input your project key here\"\n",
    "url = \"https://open.jejudatahub.net/api/proxy/1b1ta1a1ba6t6a1ttt3bD6b1tb1t1D3t/\" + key + \\\n",
    "    \"?startDate=20201001&endDate=20201002&number=\" + pagenum\n",
    "## 수집기간 2015-01-01 ~ 2020-12-15"
   ]
  },
  {
   "attachments": {
    "image.png": {
     "image/png": "[encoded data removed]"
    }
   },
   "cell_type": "markdown",
   "metadata": {},
   "source": [
    "#### 제주 데이터허브 API 이용하기 \n",
    "- number = 페이지번호 / default=1\n",
    "- 먼저 1페이지를 가져와서 결과 리스트에 붙여넣은 다음,\n",
    "- 다음 페이지가 있으면(hasMore==\"True\") 페이지를 넘겨서 넘어간 페이지의 데이터를 가져와서 결과 리스트에 붙이고\n",
    "- 다음 페이지가 없으면, 즉 마지막 페이지에 도달하면 break로 빠져나온다 \n",
    "- 최종적으로는 결과 리스트를 반환한다\n",
    "![image.png](attachment:image.png)"
   ]
  },
  {
   "cell_type": "code",
   "execution_count": null,
   "metadata": {},
   "outputs": [],
   "source": [
    "\n",
    "def jejubus(startDate, endDate):\n",
    "    total = [] #값을 붙여넣을 빈 리스트\n",
    "    pagenum = 1 # 첫번째 페이지 번호 \n",
    "    key = mykey # my project Key\n",
    "    url = (\"https://open.jejudatahub.net/api/proxy/1b1ta1a1ba6t6a1ttt3bD6b1tb1t1D3t/\" + key + \n",
    "    \"?startDate=\" + str(startDate) + \"&endDate=\" + str(endDate) + \"&number=\" + str(pagenum)) # API url 구성\n",
    "    \n",
    "    request = urllib.request.Request(url)\n",
    "    response = urllib.request.urlopen(request)\n",
    "    result = json.loads(response.read().decode('utf-8')) #url 가져오기\n",
    "    \n",
    "    total.append(result) #크롤링된 결과를 total에 붙인다 \n",
    "    \n",
    "    while True: \n",
    "        if result[\"hasMore\"] == True:\n",
    "            pagenum += 1 #페이지 넘기기 \n",
    "            url = (\"https://open.jejudatahub.net/api/proxy/1b1ta1a1ba6t6a1ttt3bD6b1tb1t1D3t/\" + key + \n",
    "            \"?startDate=\" + str(startDate) + \"&endDate=\" + str(endDate) + \"&number=\" + str(pagenum))# API url 구성\n",
    "    \n",
    "            request = urllib.request.Request(url)\n",
    "            response = urllib.request.urlopen(request)\n",
    "            result= json.loads(response.read().decode('utf-8')) #다음 페이지 데이터 가져오기\n",
    "            total.append(result)\n",
    "   \n",
    "        else : \n",
    "            break\n",
    "    return total"
   ]
  },
  {
   "cell_type": "code",
   "execution_count": null,
   "metadata": {
    "scrolled": true
   },
   "outputs": [],
   "source": [
    "#크롤링 실행 \n",
    "#시작날짜, 종료날짜를 넣는다 \n",
    "result = jejubus(20180101, 20201215)"
   ]
  },
  {
   "cell_type": "code",
   "execution_count": null,
   "metadata": {},
   "outputs": [],
   "source": [
    "# 크롤링 결과에서 값을 가져올 준비\n",
    "# 일단 개별 값을 가져오기 위해 리스트를 생성해주고 (이 리스트를 pandas dataframe의 column으로 넣을 예정)\n",
    "# for 문을 사용하기 위해 개별 값의 key(dict type이므로)리스트와 리스트들의 리스트를 만들어준다\n",
    "date = []\n",
    "stn_id = []                                          \n",
    "stn_name = []\n",
    "movetype = []                                                                                                                                         \n",
    "pricetype = []\n",
    "paytype = []\n",
    "usercount = []\n",
    "## 박두진 강사님 코멘트 : 변수 선언 해줄 필요 없음 \n",
    "var_list = [date, stn_id, stn_name, movetype, pricetype, paytype, usercount]\n",
    "dict_list = ['baseDate', 'stationId', 'stationName', 'moveType', 'priceType', 'payType', 'userCount']\n"
   ]
  },
  {
   "cell_type": "code",
   "execution_count": null,
   "metadata": {},
   "outputs": [],
   "source": [
    "# 크롤링 결과에서 개별 값을 가져와서 리스트로 만들기 \n",
    "\n",
    "for i in range(len(result)):\n",
    "    for index, key in enumerate(dict_list):\n",
    "        var_list[index].extend([each[dict_list[index]] for each in result[i][\"data\"]])\n",
    "    \n"
   ]
  },
  {
   "cell_type": "code",
   "execution_count": null,
   "metadata": {},
   "outputs": [],
   "source": [
    "#데이터프레임 생성 \n",
    "\n",
    "df_result = pd.DataFrame({\"baseDate\" : date,\n",
    "                         \"stationId\" : stn_id,\n",
    "                         \"stationName\" : stn_name, \n",
    "                         \"moveType\" : movetype, \n",
    "                         \"priceType\" : pricetype, \n",
    "                         \"payType\" : paytype,\n",
    "                         \"userCount\" : usercount}) "
   ]
  },
  {
   "cell_type": "code",
   "execution_count": null,
   "metadata": {},
   "outputs": [],
   "source": [
    "df_result"
   ]
  },
  {
   "cell_type": "code",
   "execution_count": null,
   "metadata": {},
   "outputs": [],
   "source": []
  }
 ],
 "metadata": {
  "kernelspec": {
   "display_name": "Python 3",
   "language": "python",
   "name": "python3"
  },
  "language_info": {
   "codemirror_mode": {
    "name": "ipython",
    "version": 3
   },
   "file_extension": ".py",
   "mimetype": "text/x-python",
   "name": "python",
   "nbconvert_exporter": "python",
   "pygments_lexer": "ipython3",
   "version": "3.8.6"
  }
 },
 "nbformat": 4,
 "nbformat_minor": 4
}
