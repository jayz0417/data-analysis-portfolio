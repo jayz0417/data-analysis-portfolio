{
 "cells": [
  {
   "cell_type": "markdown",
   "id": "c57f9445",
   "metadata": {},
   "source": [
    "## 제주도 버스 탑승객 클러스터링 \n",
    "#### 모듈 및 파일 import "
   ]
  },
  {
   "cell_type": "code",
   "execution_count": 1,
   "id": "4a8f1642",
   "metadata": {},
   "outputs": [],
   "source": [
    "import pandas as pd\n",
    "import os\n",
    "import dask.dataframe as dd\n",
    "import matplotlib.pyplot as plt \n",
    "import seaborn as sns\n",
    "import random\n",
    "import datetime\n",
    "import missingno as msno\n",
    "from sklearn.preprocessing import scale\n",
    "from sklearn.cluster import KMeans \n",
    "import statsmodels.api as sm\n",
    "from sklearn.model_selection import train_test_split\n",
    "from sklearn.metrics import mean_squared_error"
   ]
  },
  {
   "cell_type": "code",
   "execution_count": 3,
   "id": "232da03a",
   "metadata": {},
   "outputs": [],
   "source": [
    "from dask.diagnostics import ProgressBar\n",
    "ProgressBar().register()\n",
    "#df.count().compute(scheduler='processes', num_workers=4)"
   ]
  },
  {
   "cell_type": "code",
   "execution_count": 4,
   "id": "857a4b07",
   "metadata": {},
   "outputs": [],
   "source": [
    "# 값의 길이로 인한 생략을 없애는 옵션\n",
    "pd.options.display.float_format = '{:.2f}'.format\n",
    "\n",
    "# 기타옵션 - 경고 출력 없애기 \n",
    "import warnings #경고 미출력\n",
    "warnings.filterwarnings('ignore')"
   ]
  },
  {
   "cell_type": "code",
   "execution_count": 5,
   "id": "89541832",
   "metadata": {},
   "outputs": [],
   "source": [
    "bus_2018 = dd.read_csv(\"data/버스 승객별 이용 현황_2018.csv\",\n",
    "                 dtype={'getoff_datetime': 'float64','getoff_station_id': 'float64'})\n",
    "bus_2019 = dd.read_csv(\"data/버스 승객별 이용 현황_2019.csv\",\n",
    "                 dtype={'getoff_datetime': 'float64','getoff_station_id': 'float64'})"
   ]
  },
  {
   "cell_type": "code",
   "execution_count": 6,
   "id": "ef9bd576",
   "metadata": {},
   "outputs": [],
   "source": [
    "bus_total = dd.concat([bus_2018, bus_2019], axis=0)"
   ]
  },
  {
   "cell_type": "markdown",
   "id": "5d37ea23",
   "metadata": {},
   "source": [
    "#### 승차 횟수 구하기 "
   ]
  },
  {
   "cell_type": "code",
   "execution_count": 7,
   "id": "7b8b0f54",
   "metadata": {},
   "outputs": [
    {
     "name": "stdout",
     "output_type": "stream",
     "text": [
      "[########################################] | 100% Completed |  1min 42.4s\n"
     ]
    },
    {
     "data": {
      "text/html": [
       "<div>\n",
       "<style scoped>\n",
       "    .dataframe tbody tr th:only-of-type {\n",
       "        vertical-align: middle;\n",
       "    }\n",
       "\n",
       "    .dataframe tbody tr th {\n",
       "        vertical-align: top;\n",
       "    }\n",
       "\n",
       "    .dataframe thead th {\n",
       "        text-align: right;\n",
       "    }\n",
       "</style>\n",
       "<table border=\"1\" class=\"dataframe\">\n",
       "  <thead>\n",
       "    <tr style=\"text-align: right;\">\n",
       "      <th></th>\n",
       "      <th>counts</th>\n",
       "      <th>order</th>\n",
       "    </tr>\n",
       "  </thead>\n",
       "  <tbody>\n",
       "    <tr>\n",
       "      <th>b967fc6b1e8464ca95dbf7a89c5245cfa06e33c9b114efe99adfc9939c1197e1</th>\n",
       "      <td>4618</td>\n",
       "      <td>0</td>\n",
       "    </tr>\n",
       "    <tr>\n",
       "      <th>a7dc65282441f85e76a4a8251d8c40f6dc1cf703656ebb75016c2ca499efe963</th>\n",
       "      <td>3964</td>\n",
       "      <td>1</td>\n",
       "    </tr>\n",
       "    <tr>\n",
       "      <th>27deb4dfc30c072fed5a061988e633927f5a74602f8df7fefd2b6ff7cba278c0</th>\n",
       "      <td>3856</td>\n",
       "      <td>2</td>\n",
       "    </tr>\n",
       "    <tr>\n",
       "      <th>49be7f71914af1d1db7ac19536b373ddd27036a91f2fcd6204a7d32078e2246a</th>\n",
       "      <td>3754</td>\n",
       "      <td>3</td>\n",
       "    </tr>\n",
       "    <tr>\n",
       "      <th>5156d3148998cb8b13077df6f25e41d7e33540a8a2c63d75e3e4744ae751d053</th>\n",
       "      <td>3715</td>\n",
       "      <td>4</td>\n",
       "    </tr>\n",
       "  </tbody>\n",
       "</table>\n",
       "</div>"
      ],
      "text/plain": [
       "                                                    counts  order\n",
       "b967fc6b1e8464ca95dbf7a89c5245cfa06e33c9b114efe...    4618      0\n",
       "a7dc65282441f85e76a4a8251d8c40f6dc1cf703656ebb7...    3964      1\n",
       "27deb4dfc30c072fed5a061988e633927f5a74602f8df7f...    3856      2\n",
       "49be7f71914af1d1db7ac19536b373ddd27036a91f2fcd6...    3754      3\n",
       "5156d3148998cb8b13077df6f25e41d7e33540a8a2c63d7...    3715      4"
      ]
     },
     "execution_count": 7,
     "metadata": {},
     "output_type": "execute_result"
    }
   ],
   "source": [
    "user_counts = bus_total[\"user_id\"].compute().value_counts()\n",
    "user_counts = pd.DataFrame(user_counts)\n",
    "user_counts.rename(columns={\"user_id\":\"counts\"}, inplace=True)\n",
    "user_counts[\"order\"] = list(range(len(user_counts)))\n",
    "user_counts.head()"
   ]
  },
  {
   "cell_type": "code",
   "execution_count": 11,
   "id": "e4638d9e",
   "metadata": {},
   "outputs": [],
   "source": [
    "bus_total[\"base_date\"] = bus_total[\"base_date\"].astype(\"str\")\n",
    "bus_total[\"datetime\"] = dd.to_datetime(bus_total[\"base_date\"])"
   ]
  },
  {
   "cell_type": "code",
   "execution_count": 12,
   "id": "0f26783a",
   "metadata": {},
   "outputs": [
    {
     "name": "stdout",
     "output_type": "stream",
     "text": [
      "[########################################] | 100% Completed |  0.6s\n"
     ]
    },
    {
     "data": {
      "text/html": [
       "<div>\n",
       "<style scoped>\n",
       "    .dataframe tbody tr th:only-of-type {\n",
       "        vertical-align: middle;\n",
       "    }\n",
       "\n",
       "    .dataframe tbody tr th {\n",
       "        vertical-align: top;\n",
       "    }\n",
       "\n",
       "    .dataframe thead th {\n",
       "        text-align: right;\n",
       "    }\n",
       "</style>\n",
       "<table border=\"1\" class=\"dataframe\">\n",
       "  <thead>\n",
       "    <tr style=\"text-align: right;\">\n",
       "      <th></th>\n",
       "      <th>base_date</th>\n",
       "      <th>user_id</th>\n",
       "      <th>route_id</th>\n",
       "      <th>route_name</th>\n",
       "      <th>route_no</th>\n",
       "      <th>geton_datetime</th>\n",
       "      <th>geton_station_id</th>\n",
       "      <th>geton_stataion_name</th>\n",
       "      <th>geton_station_longitude</th>\n",
       "      <th>geton_station_latitude</th>\n",
       "      <th>getoff_datetime</th>\n",
       "      <th>getoff_station_id</th>\n",
       "      <th>getoff_station_name</th>\n",
       "      <th>getoff_station_longitude</th>\n",
       "      <th>getoff_station_latitude</th>\n",
       "      <th>user_type</th>\n",
       "      <th>user_count</th>\n",
       "      <th>pt_year</th>\n",
       "      <th>pt_month</th>\n",
       "      <th>datetime</th>\n",
       "    </tr>\n",
       "  </thead>\n",
       "  <tbody>\n",
       "    <tr>\n",
       "      <th>0</th>\n",
       "      <td>20180701</td>\n",
       "      <td>32e671337bb82b0fbeea7068456e4b8f43719ed28c8a17...</td>\n",
       "      <td>24300000</td>\n",
       "      <td>465-7(제주도립미술관~제주도립미술관입구)</td>\n",
       "      <td>465-7</td>\n",
       "      <td>20180701154648</td>\n",
       "      <td>150</td>\n",
       "      <td>시외버스터미널</td>\n",
       "      <td>126.51</td>\n",
       "      <td>33.50</td>\n",
       "      <td>20180701160732.00</td>\n",
       "      <td>2956.00</td>\n",
       "      <td>원노형</td>\n",
       "      <td>126.48</td>\n",
       "      <td>33.49</td>\n",
       "      <td>경로</td>\n",
       "      <td>1</td>\n",
       "      <td>2018</td>\n",
       "      <td>7</td>\n",
       "      <td>2018-07-01</td>\n",
       "    </tr>\n",
       "    <tr>\n",
       "      <th>1</th>\n",
       "      <td>20180701</td>\n",
       "      <td>42e00baaa901cedfcf944dfd05da453be59f133c936fdd...</td>\n",
       "      <td>24310000</td>\n",
       "      <td>466-1(축산마을~축산진흥원입구)</td>\n",
       "      <td>466-1</td>\n",
       "      <td>20180701220924</td>\n",
       "      <td>318</td>\n",
       "      <td>연동주민센터</td>\n",
       "      <td>126.50</td>\n",
       "      <td>33.49</td>\n",
       "      <td>20180701221420.00</td>\n",
       "      <td>2956.00</td>\n",
       "      <td>원노형</td>\n",
       "      <td>126.48</td>\n",
       "      <td>33.49</td>\n",
       "      <td>일반</td>\n",
       "      <td>1</td>\n",
       "      <td>2018</td>\n",
       "      <td>7</td>\n",
       "      <td>2018-07-01</td>\n",
       "    </tr>\n",
       "    <tr>\n",
       "      <th>2</th>\n",
       "      <td>20180701</td>\n",
       "      <td>cd2b27a6a5e62ee604742eaaf39bddb16070ec4123df39...</td>\n",
       "      <td>23050000</td>\n",
       "      <td>315-2(국제여객선터미널~수산리)</td>\n",
       "      <td>315-2</td>\n",
       "      <td>20180701122425</td>\n",
       "      <td>318</td>\n",
       "      <td>연동주민센터</td>\n",
       "      <td>126.50</td>\n",
       "      <td>33.49</td>\n",
       "      <td>20180701123251.00</td>\n",
       "      <td>2956.00</td>\n",
       "      <td>원노형</td>\n",
       "      <td>126.48</td>\n",
       "      <td>33.49</td>\n",
       "      <td>일반</td>\n",
       "      <td>1</td>\n",
       "      <td>2018</td>\n",
       "      <td>7</td>\n",
       "      <td>2018-07-01</td>\n",
       "    </tr>\n",
       "    <tr>\n",
       "      <th>3</th>\n",
       "      <td>20180701</td>\n",
       "      <td>4ec68c3c529dd3fcba4837c1987be581658805aa449302...</td>\n",
       "      <td>24300000</td>\n",
       "      <td>465-7(제주도립미술관~제주도립미술관입구)</td>\n",
       "      <td>465-7</td>\n",
       "      <td>20180701070345</td>\n",
       "      <td>318</td>\n",
       "      <td>연동주민센터</td>\n",
       "      <td>126.50</td>\n",
       "      <td>33.49</td>\n",
       "      <td>20180701070808.00</td>\n",
       "      <td>2956.00</td>\n",
       "      <td>원노형</td>\n",
       "      <td>126.48</td>\n",
       "      <td>33.49</td>\n",
       "      <td>일반</td>\n",
       "      <td>1</td>\n",
       "      <td>2018</td>\n",
       "      <td>7</td>\n",
       "      <td>2018-07-01</td>\n",
       "    </tr>\n",
       "    <tr>\n",
       "      <th>4</th>\n",
       "      <td>20180701</td>\n",
       "      <td>777dcac689d2d1018e03349ae4b406051c6b2a1aa8d9f3...</td>\n",
       "      <td>24300000</td>\n",
       "      <td>465-7(제주도립미술관~제주도립미술관입구)</td>\n",
       "      <td>465-7</td>\n",
       "      <td>20180701163538</td>\n",
       "      <td>187</td>\n",
       "      <td>은남동</td>\n",
       "      <td>126.49</td>\n",
       "      <td>33.49</td>\n",
       "      <td>20180701163816.00</td>\n",
       "      <td>2956.00</td>\n",
       "      <td>원노형</td>\n",
       "      <td>126.48</td>\n",
       "      <td>33.49</td>\n",
       "      <td>일반</td>\n",
       "      <td>1</td>\n",
       "      <td>2018</td>\n",
       "      <td>7</td>\n",
       "      <td>2018-07-01</td>\n",
       "    </tr>\n",
       "  </tbody>\n",
       "</table>\n",
       "</div>"
      ],
      "text/plain": [
       "  base_date                                            user_id  route_id  \\\n",
       "0  20180701  32e671337bb82b0fbeea7068456e4b8f43719ed28c8a17...  24300000   \n",
       "1  20180701  42e00baaa901cedfcf944dfd05da453be59f133c936fdd...  24310000   \n",
       "2  20180701  cd2b27a6a5e62ee604742eaaf39bddb16070ec4123df39...  23050000   \n",
       "3  20180701  4ec68c3c529dd3fcba4837c1987be581658805aa449302...  24300000   \n",
       "4  20180701  777dcac689d2d1018e03349ae4b406051c6b2a1aa8d9f3...  24300000   \n",
       "\n",
       "                 route_name route_no  geton_datetime  geton_station_id  \\\n",
       "0  465-7(제주도립미술관~제주도립미술관입구)    465-7  20180701154648               150   \n",
       "1       466-1(축산마을~축산진흥원입구)    466-1  20180701220924               318   \n",
       "2       315-2(국제여객선터미널~수산리)    315-2  20180701122425               318   \n",
       "3  465-7(제주도립미술관~제주도립미술관입구)    465-7  20180701070345               318   \n",
       "4  465-7(제주도립미술관~제주도립미술관입구)    465-7  20180701163538               187   \n",
       "\n",
       "  geton_stataion_name  geton_station_longitude  geton_station_latitude  \\\n",
       "0             시외버스터미널                   126.51                   33.50   \n",
       "1              연동주민센터                   126.50                   33.49   \n",
       "2              연동주민센터                   126.50                   33.49   \n",
       "3              연동주민센터                   126.50                   33.49   \n",
       "4                 은남동                   126.49                   33.49   \n",
       "\n",
       "    getoff_datetime  getoff_station_id getoff_station_name  \\\n",
       "0 20180701160732.00            2956.00                 원노형   \n",
       "1 20180701221420.00            2956.00                 원노형   \n",
       "2 20180701123251.00            2956.00                 원노형   \n",
       "3 20180701070808.00            2956.00                 원노형   \n",
       "4 20180701163816.00            2956.00                 원노형   \n",
       "\n",
       "   getoff_station_longitude  getoff_station_latitude user_type  user_count  \\\n",
       "0                    126.48                    33.49        경로           1   \n",
       "1                    126.48                    33.49        일반           1   \n",
       "2                    126.48                    33.49        일반           1   \n",
       "3                    126.48                    33.49        일반           1   \n",
       "4                    126.48                    33.49        일반           1   \n",
       "\n",
       "   pt_year  pt_month   datetime  \n",
       "0     2018         7 2018-07-01  \n",
       "1     2018         7 2018-07-01  \n",
       "2     2018         7 2018-07-01  \n",
       "3     2018         7 2018-07-01  \n",
       "4     2018         7 2018-07-01  "
      ]
     },
     "execution_count": 12,
     "metadata": {},
     "output_type": "execute_result"
    }
   ],
   "source": [
    "bus_total.head()"
   ]
  },
  {
   "cell_type": "markdown",
   "id": "5872e33f",
   "metadata": {},
   "source": [
    "#### 대중교통 이용 기간 구하기 :  (가장 최근의 승차일) - (첫 승차일) "
   ]
  },
  {
   "cell_type": "code",
   "execution_count": 13,
   "id": "ef212c59",
   "metadata": {},
   "outputs": [
    {
     "name": "stdout",
     "output_type": "stream",
     "text": [
      "[########################################] | 100% Completed |  2min 21.0s\n",
      "[########################################] | 100% Completed |  2min 22.2s\n"
     ]
    }
   ],
   "source": [
    "mindate = bus_total[[\"user_id\", \"datetime\"]].groupby(\"user_id\").min().compute(scheduler=\"processes\", num_workers=8)\n",
    "maxdate = bus_total[[\"user_id\", \"datetime\"]].groupby(\"user_id\").max().compute(scheduler=\"processes\", num_workers=8)"
   ]
  },
  {
   "cell_type": "code",
   "execution_count": 14,
   "id": "dae04537",
   "metadata": {},
   "outputs": [
    {
     "data": {
      "text/html": [
       "<div>\n",
       "<style scoped>\n",
       "    .dataframe tbody tr th:only-of-type {\n",
       "        vertical-align: middle;\n",
       "    }\n",
       "\n",
       "    .dataframe tbody tr th {\n",
       "        vertical-align: top;\n",
       "    }\n",
       "\n",
       "    .dataframe thead th {\n",
       "        text-align: right;\n",
       "    }\n",
       "</style>\n",
       "<table border=\"1\" class=\"dataframe\">\n",
       "  <thead>\n",
       "    <tr style=\"text-align: right;\">\n",
       "      <th></th>\n",
       "      <th>datetime</th>\n",
       "    </tr>\n",
       "    <tr>\n",
       "      <th>user_id</th>\n",
       "      <th></th>\n",
       "    </tr>\n",
       "  </thead>\n",
       "  <tbody>\n",
       "    <tr>\n",
       "      <th>000049db048f726c0aff98cf3af050d435ef69ac5164ad56cf4b3832c7f9cb2f</th>\n",
       "      <td>2018-07-02</td>\n",
       "    </tr>\n",
       "    <tr>\n",
       "      <th>0000667058c791cad5a33a0859f54cc671dba188896a043db8f792260d7803db</th>\n",
       "      <td>2018-07-01</td>\n",
       "    </tr>\n",
       "    <tr>\n",
       "      <th>000099ebe00c235984f58f911118780cdf854679814cdcca3afe4225795eed02</th>\n",
       "      <td>2018-07-02</td>\n",
       "    </tr>\n",
       "    <tr>\n",
       "      <th>0000b12eadf6a5cdbfb34502360a0a946f1a40726355e7543beb78429765ff35</th>\n",
       "      <td>2018-07-02</td>\n",
       "    </tr>\n",
       "    <tr>\n",
       "      <th>000152c1a8a525d9d8b7adec47cd2964f715e22f73930caeba2b4f026cabc3c5</th>\n",
       "      <td>2018-07-02</td>\n",
       "    </tr>\n",
       "  </tbody>\n",
       "</table>\n",
       "</div>"
      ],
      "text/plain": [
       "                                                     datetime\n",
       "user_id                                                      \n",
       "000049db048f726c0aff98cf3af050d435ef69ac5164ad5... 2018-07-02\n",
       "0000667058c791cad5a33a0859f54cc671dba188896a043... 2018-07-01\n",
       "000099ebe00c235984f58f911118780cdf854679814cdcc... 2018-07-02\n",
       "0000b12eadf6a5cdbfb34502360a0a946f1a40726355e75... 2018-07-02\n",
       "000152c1a8a525d9d8b7adec47cd2964f715e22f73930ca... 2018-07-02"
      ]
     },
     "execution_count": 14,
     "metadata": {},
     "output_type": "execute_result"
    }
   ],
   "source": [
    "mindate.head()"
   ]
  },
  {
   "cell_type": "code",
   "execution_count": 15,
   "id": "5da08f2d",
   "metadata": {},
   "outputs": [
    {
     "data": {
      "text/html": [
       "<div>\n",
       "<style scoped>\n",
       "    .dataframe tbody tr th:only-of-type {\n",
       "        vertical-align: middle;\n",
       "    }\n",
       "\n",
       "    .dataframe tbody tr th {\n",
       "        vertical-align: top;\n",
       "    }\n",
       "\n",
       "    .dataframe thead th {\n",
       "        text-align: right;\n",
       "    }\n",
       "</style>\n",
       "<table border=\"1\" class=\"dataframe\">\n",
       "  <thead>\n",
       "    <tr style=\"text-align: right;\">\n",
       "      <th></th>\n",
       "      <th>datetime</th>\n",
       "    </tr>\n",
       "    <tr>\n",
       "      <th>user_id</th>\n",
       "      <th></th>\n",
       "    </tr>\n",
       "  </thead>\n",
       "  <tbody>\n",
       "    <tr>\n",
       "      <th>000049db048f726c0aff98cf3af050d435ef69ac5164ad56cf4b3832c7f9cb2f</th>\n",
       "      <td>2019-09-12</td>\n",
       "    </tr>\n",
       "    <tr>\n",
       "      <th>0000667058c791cad5a33a0859f54cc671dba188896a043db8f792260d7803db</th>\n",
       "      <td>2019-11-10</td>\n",
       "    </tr>\n",
       "    <tr>\n",
       "      <th>000099ebe00c235984f58f911118780cdf854679814cdcca3afe4225795eed02</th>\n",
       "      <td>2018-09-10</td>\n",
       "    </tr>\n",
       "    <tr>\n",
       "      <th>0000b12eadf6a5cdbfb34502360a0a946f1a40726355e7543beb78429765ff35</th>\n",
       "      <td>2018-08-28</td>\n",
       "    </tr>\n",
       "    <tr>\n",
       "      <th>000152c1a8a525d9d8b7adec47cd2964f715e22f73930caeba2b4f026cabc3c5</th>\n",
       "      <td>2019-11-09</td>\n",
       "    </tr>\n",
       "  </tbody>\n",
       "</table>\n",
       "</div>"
      ],
      "text/plain": [
       "                                                     datetime\n",
       "user_id                                                      \n",
       "000049db048f726c0aff98cf3af050d435ef69ac5164ad5... 2019-09-12\n",
       "0000667058c791cad5a33a0859f54cc671dba188896a043... 2019-11-10\n",
       "000099ebe00c235984f58f911118780cdf854679814cdcc... 2018-09-10\n",
       "0000b12eadf6a5cdbfb34502360a0a946f1a40726355e75... 2018-08-28\n",
       "000152c1a8a525d9d8b7adec47cd2964f715e22f73930ca... 2019-11-09"
      ]
     },
     "execution_count": 15,
     "metadata": {},
     "output_type": "execute_result"
    }
   ],
   "source": [
    "maxdate.head()"
   ]
  },
  {
   "cell_type": "code",
   "execution_count": 16,
   "id": "c4226205",
   "metadata": {},
   "outputs": [],
   "source": [
    "mindate.reset_index(inplace=True)\n",
    "maxdate.reset_index(inplace=True)"
   ]
  },
  {
   "cell_type": "code",
   "execution_count": 17,
   "id": "44a66ccb",
   "metadata": {},
   "outputs": [],
   "source": [
    "df_date = pd.merge(left=mindate, right=maxdate, on=\"user_id\", how=\"inner\")\n",
    "df_date[\"period\"] = df_date[\"datetime_y\"] - df_date[\"datetime_x\"]"
   ]
  },
  {
   "cell_type": "code",
   "execution_count": 18,
   "id": "7ce701ba",
   "metadata": {},
   "outputs": [
    {
     "data": {
      "text/html": [
       "<div>\n",
       "<style scoped>\n",
       "    .dataframe tbody tr th:only-of-type {\n",
       "        vertical-align: middle;\n",
       "    }\n",
       "\n",
       "    .dataframe tbody tr th {\n",
       "        vertical-align: top;\n",
       "    }\n",
       "\n",
       "    .dataframe thead th {\n",
       "        text-align: right;\n",
       "    }\n",
       "</style>\n",
       "<table border=\"1\" class=\"dataframe\">\n",
       "  <thead>\n",
       "    <tr style=\"text-align: right;\">\n",
       "      <th></th>\n",
       "      <th>user_id</th>\n",
       "      <th>datetime_x</th>\n",
       "      <th>datetime_y</th>\n",
       "    </tr>\n",
       "  </thead>\n",
       "  <tbody>\n",
       "    <tr>\n",
       "      <th>0</th>\n",
       "      <td>000049db048f726c0aff98cf3af050d435ef69ac5164ad...</td>\n",
       "      <td>2018-07-02</td>\n",
       "      <td>2019-09-12</td>\n",
       "    </tr>\n",
       "    <tr>\n",
       "      <th>1</th>\n",
       "      <td>0000667058c791cad5a33a0859f54cc671dba188896a04...</td>\n",
       "      <td>2018-07-01</td>\n",
       "      <td>2019-11-10</td>\n",
       "    </tr>\n",
       "    <tr>\n",
       "      <th>2</th>\n",
       "      <td>000099ebe00c235984f58f911118780cdf854679814cdc...</td>\n",
       "      <td>2018-07-02</td>\n",
       "      <td>2018-09-10</td>\n",
       "    </tr>\n",
       "    <tr>\n",
       "      <th>3</th>\n",
       "      <td>0000b12eadf6a5cdbfb34502360a0a946f1a40726355e7...</td>\n",
       "      <td>2018-07-02</td>\n",
       "      <td>2018-08-28</td>\n",
       "    </tr>\n",
       "    <tr>\n",
       "      <th>4</th>\n",
       "      <td>000152c1a8a525d9d8b7adec47cd2964f715e22f73930c...</td>\n",
       "      <td>2018-07-02</td>\n",
       "      <td>2019-11-09</td>\n",
       "    </tr>\n",
       "  </tbody>\n",
       "</table>\n",
       "</div>"
      ],
      "text/plain": [
       "                                             user_id datetime_x datetime_y\n",
       "0  000049db048f726c0aff98cf3af050d435ef69ac5164ad... 2018-07-02 2019-09-12\n",
       "1  0000667058c791cad5a33a0859f54cc671dba188896a04... 2018-07-01 2019-11-10\n",
       "2  000099ebe00c235984f58f911118780cdf854679814cdc... 2018-07-02 2018-09-10\n",
       "3  0000b12eadf6a5cdbfb34502360a0a946f1a40726355e7... 2018-07-02 2018-08-28\n",
       "4  000152c1a8a525d9d8b7adec47cd2964f715e22f73930c... 2018-07-02 2019-11-09"
      ]
     },
     "execution_count": 18,
     "metadata": {},
     "output_type": "execute_result"
    }
   ],
   "source": [
    "df_date.head()"
   ]
  },
  {
   "cell_type": "code",
   "execution_count": 21,
   "id": "65e36200",
   "metadata": {},
   "outputs": [
    {
     "data": {
      "text/plain": [
       "count                        2400594\n",
       "mean      90 days 03:30:39.315769350\n",
       "std      155 days 14:56:15.467178470\n",
       "min                  0 days 00:00:00\n",
       "25%                  0 days 00:00:00\n",
       "50%                  2 days 00:00:00\n",
       "75%                118 days 00:00:00\n",
       "max                548 days 00:00:00\n",
       "Name: period, dtype: object"
      ]
     },
     "execution_count": 21,
     "metadata": {},
     "output_type": "execute_result"
    }
   ],
   "source": [
    "df_date[\"period\"].describe()"
   ]
  },
  {
   "cell_type": "code",
   "execution_count": 27,
   "id": "a1d560f6",
   "metadata": {},
   "outputs": [
    {
     "data": {
      "text/plain": [
       "2400594"
      ]
     },
     "execution_count": 27,
     "metadata": {},
     "output_type": "execute_result"
    }
   ],
   "source": [
    "print(len(user_counts), len(df_date))"
   ]
  },
  {
   "cell_type": "code",
   "execution_count": 29,
   "id": "6ed09b1e",
   "metadata": {},
   "outputs": [],
   "source": [
    "user_counts.reset_index(inplace=True)"
   ]
  },
  {
   "cell_type": "code",
   "execution_count": 30,
   "id": "33c71989",
   "metadata": {},
   "outputs": [],
   "source": [
    "user_info = pd.merge(left =user_counts, right=df_date, left_on=\"index\", right_on=\"user_id\")"
   ]
  },
  {
   "cell_type": "code",
   "execution_count": 31,
   "id": "9b72ef66",
   "metadata": {},
   "outputs": [],
   "source": [
    "user_info.drop(columns=[\"order\", \"user_id\"], axis=1, inplace=True)"
   ]
  },
  {
   "cell_type": "code",
   "execution_count": 32,
   "id": "86968ae1",
   "metadata": {},
   "outputs": [
    {
     "data": {
      "text/html": [
       "<div>\n",
       "<style scoped>\n",
       "    .dataframe tbody tr th:only-of-type {\n",
       "        vertical-align: middle;\n",
       "    }\n",
       "\n",
       "    .dataframe tbody tr th {\n",
       "        vertical-align: top;\n",
       "    }\n",
       "\n",
       "    .dataframe thead th {\n",
       "        text-align: right;\n",
       "    }\n",
       "</style>\n",
       "<table border=\"1\" class=\"dataframe\">\n",
       "  <thead>\n",
       "    <tr style=\"text-align: right;\">\n",
       "      <th></th>\n",
       "      <th>index</th>\n",
       "      <th>counts</th>\n",
       "      <th>datetime_x</th>\n",
       "      <th>datetime_y</th>\n",
       "      <th>period</th>\n",
       "    </tr>\n",
       "  </thead>\n",
       "  <tbody>\n",
       "    <tr>\n",
       "      <th>0</th>\n",
       "      <td>b967fc6b1e8464ca95dbf7a89c5245cfa06e33c9b114ef...</td>\n",
       "      <td>4618</td>\n",
       "      <td>2018-07-01</td>\n",
       "      <td>2019-12-31</td>\n",
       "      <td>548 days</td>\n",
       "    </tr>\n",
       "    <tr>\n",
       "      <th>1</th>\n",
       "      <td>a7dc65282441f85e76a4a8251d8c40f6dc1cf703656ebb...</td>\n",
       "      <td>3964</td>\n",
       "      <td>2018-07-01</td>\n",
       "      <td>2019-12-31</td>\n",
       "      <td>548 days</td>\n",
       "    </tr>\n",
       "    <tr>\n",
       "      <th>2</th>\n",
       "      <td>27deb4dfc30c072fed5a061988e633927f5a74602f8df7...</td>\n",
       "      <td>3856</td>\n",
       "      <td>2018-07-01</td>\n",
       "      <td>2019-12-31</td>\n",
       "      <td>548 days</td>\n",
       "    </tr>\n",
       "    <tr>\n",
       "      <th>3</th>\n",
       "      <td>49be7f71914af1d1db7ac19536b373ddd27036a91f2fcd...</td>\n",
       "      <td>3754</td>\n",
       "      <td>2018-07-01</td>\n",
       "      <td>2019-12-31</td>\n",
       "      <td>548 days</td>\n",
       "    </tr>\n",
       "    <tr>\n",
       "      <th>4</th>\n",
       "      <td>5156d3148998cb8b13077df6f25e41d7e33540a8a2c63d...</td>\n",
       "      <td>3715</td>\n",
       "      <td>2018-07-02</td>\n",
       "      <td>2019-12-31</td>\n",
       "      <td>547 days</td>\n",
       "    </tr>\n",
       "  </tbody>\n",
       "</table>\n",
       "</div>"
      ],
      "text/plain": [
       "                                               index  counts datetime_x  \\\n",
       "0  b967fc6b1e8464ca95dbf7a89c5245cfa06e33c9b114ef...    4618 2018-07-01   \n",
       "1  a7dc65282441f85e76a4a8251d8c40f6dc1cf703656ebb...    3964 2018-07-01   \n",
       "2  27deb4dfc30c072fed5a061988e633927f5a74602f8df7...    3856 2018-07-01   \n",
       "3  49be7f71914af1d1db7ac19536b373ddd27036a91f2fcd...    3754 2018-07-01   \n",
       "4  5156d3148998cb8b13077df6f25e41d7e33540a8a2c63d...    3715 2018-07-02   \n",
       "\n",
       "  datetime_y   period  \n",
       "0 2019-12-31 548 days  \n",
       "1 2019-12-31 548 days  \n",
       "2 2019-12-31 548 days  \n",
       "3 2019-12-31 548 days  \n",
       "4 2019-12-31 547 days  "
      ]
     },
     "execution_count": 32,
     "metadata": {},
     "output_type": "execute_result"
    }
   ],
   "source": [
    "user_info.head()"
   ]
  },
  {
   "cell_type": "code",
   "execution_count": 33,
   "id": "76952165",
   "metadata": {},
   "outputs": [],
   "source": [
    "user_info[\"period_int\"] = user_info[\"period\"].dt.days"
   ]
  },
  {
   "cell_type": "markdown",
   "id": "0c758625",
   "metadata": {},
   "source": [
    "### KMeans Clustering  \n",
    "- 모든 유니크 승객들의 총 승차 횟수, 승차 기간을 기준으로 KMeans Clustering 진행 \n",
    "- n_clusters = 2"
   ]
  },
  {
   "cell_type": "code",
   "execution_count": 34,
   "id": "e33464ad",
   "metadata": {},
   "outputs": [
    {
     "data": {
      "text/plain": [
       "KMeans(n_clusters=2)"
      ]
     },
     "execution_count": 34,
     "metadata": {},
     "output_type": "execute_result"
    }
   ],
   "source": [
    "model = KMeans(n_clusters=2)\n",
    "model.fit(user_info[[\"counts\", \"period_int\"]])"
   ]
  },
  {
   "cell_type": "code",
   "execution_count": 35,
   "id": "4e1e4e90",
   "metadata": {},
   "outputs": [
    {
     "data": {
      "text/html": [
       "<div>\n",
       "<style scoped>\n",
       "    .dataframe tbody tr th:only-of-type {\n",
       "        vertical-align: middle;\n",
       "    }\n",
       "\n",
       "    .dataframe tbody tr th {\n",
       "        vertical-align: top;\n",
       "    }\n",
       "\n",
       "    .dataframe thead th {\n",
       "        text-align: right;\n",
       "    }\n",
       "</style>\n",
       "<table border=\"1\" class=\"dataframe\">\n",
       "  <thead>\n",
       "    <tr style=\"text-align: right;\">\n",
       "      <th></th>\n",
       "      <th>index</th>\n",
       "      <th>counts</th>\n",
       "      <th>datetime_x</th>\n",
       "      <th>datetime_y</th>\n",
       "      <th>period</th>\n",
       "      <th>period_int</th>\n",
       "      <th>cluster</th>\n",
       "    </tr>\n",
       "  </thead>\n",
       "  <tbody>\n",
       "    <tr>\n",
       "      <th>0</th>\n",
       "      <td>b967fc6b1e8464ca95dbf7a89c5245cfa06e33c9b114ef...</td>\n",
       "      <td>4618</td>\n",
       "      <td>2018-07-01</td>\n",
       "      <td>2019-12-31</td>\n",
       "      <td>548 days</td>\n",
       "      <td>548</td>\n",
       "      <td>1</td>\n",
       "    </tr>\n",
       "    <tr>\n",
       "      <th>1</th>\n",
       "      <td>a7dc65282441f85e76a4a8251d8c40f6dc1cf703656ebb...</td>\n",
       "      <td>3964</td>\n",
       "      <td>2018-07-01</td>\n",
       "      <td>2019-12-31</td>\n",
       "      <td>548 days</td>\n",
       "      <td>548</td>\n",
       "      <td>1</td>\n",
       "    </tr>\n",
       "    <tr>\n",
       "      <th>2</th>\n",
       "      <td>27deb4dfc30c072fed5a061988e633927f5a74602f8df7...</td>\n",
       "      <td>3856</td>\n",
       "      <td>2018-07-01</td>\n",
       "      <td>2019-12-31</td>\n",
       "      <td>548 days</td>\n",
       "      <td>548</td>\n",
       "      <td>1</td>\n",
       "    </tr>\n",
       "    <tr>\n",
       "      <th>3</th>\n",
       "      <td>49be7f71914af1d1db7ac19536b373ddd27036a91f2fcd...</td>\n",
       "      <td>3754</td>\n",
       "      <td>2018-07-01</td>\n",
       "      <td>2019-12-31</td>\n",
       "      <td>548 days</td>\n",
       "      <td>548</td>\n",
       "      <td>1</td>\n",
       "    </tr>\n",
       "    <tr>\n",
       "      <th>4</th>\n",
       "      <td>5156d3148998cb8b13077df6f25e41d7e33540a8a2c63d...</td>\n",
       "      <td>3715</td>\n",
       "      <td>2018-07-02</td>\n",
       "      <td>2019-12-31</td>\n",
       "      <td>547 days</td>\n",
       "      <td>547</td>\n",
       "      <td>1</td>\n",
       "    </tr>\n",
       "  </tbody>\n",
       "</table>\n",
       "</div>"
      ],
      "text/plain": [
       "                                               index  counts datetime_x  \\\n",
       "0  b967fc6b1e8464ca95dbf7a89c5245cfa06e33c9b114ef...    4618 2018-07-01   \n",
       "1  a7dc65282441f85e76a4a8251d8c40f6dc1cf703656ebb...    3964 2018-07-01   \n",
       "2  27deb4dfc30c072fed5a061988e633927f5a74602f8df7...    3856 2018-07-01   \n",
       "3  49be7f71914af1d1db7ac19536b373ddd27036a91f2fcd...    3754 2018-07-01   \n",
       "4  5156d3148998cb8b13077df6f25e41d7e33540a8a2c63d...    3715 2018-07-02   \n",
       "\n",
       "  datetime_y   period  period_int  cluster  \n",
       "0 2019-12-31 548 days         548        1  \n",
       "1 2019-12-31 548 days         548        1  \n",
       "2 2019-12-31 548 days         548        1  \n",
       "3 2019-12-31 548 days         548        1  \n",
       "4 2019-12-31 547 days         547        1  "
      ]
     },
     "execution_count": 35,
     "metadata": {},
     "output_type": "execute_result"
    }
   ],
   "source": [
    "kmeans = pd.DataFrame(model.predict(user_info[[\"counts\", \"period_int\"]]), columns=[\"cluster\"])\n",
    "user_info = pd.concat([user_info, kmeans], axis=1)\n",
    "user_info.head()"
   ]
  },
  {
   "cell_type": "code",
   "execution_count": 169,
   "id": "2fbcbe97",
   "metadata": {},
   "outputs": [
    {
     "data": {
      "image/png": "[encoded data removed]",
      "text/plain": [
       "<Figure size 432x576 with 1 Axes>"
      ]
     },
     "metadata": {
      "needs_background": "light"
     },
     "output_type": "display_data"
    }
   ],
   "source": [
    "plt.figure(figsize=(6, 8))\n",
    "plt.scatter(user_info[\"period_int\"], user_info[\"counts\"],\n",
    "           alpha=0.1, \n",
    "           c = \"grey\")\n",
    "plt.show()"
   ]
  },
  {
   "cell_type": "code",
   "execution_count": 164,
   "id": "d884e120",
   "metadata": {},
   "outputs": [
    {
     "data": {
      "image/png": "[encoded data removed]",
      "text/plain": [
       "<Figure size 432x576 with 1 Axes>"
      ]
     },
     "metadata": {
      "needs_background": "light"
     },
     "output_type": "display_data"
    }
   ],
   "source": [
    "plt.figure(figsize=(6, 8))\n",
    "plt.scatter(user_info[\"period_int\"], user_info[\"counts\"],\n",
    "           c=user_info[\"cluster\"], alpha=0.7, \n",
    "           cmap = \"Pastel2\")\n",
    "plt.show()"
   ]
  },
  {
   "cell_type": "markdown",
   "id": "c1467798",
   "metadata": {},
   "source": [
    "- 클러스터링 결과 \n",
    "- 0번 클러스터 : 197만명, 1번 클러스터 : 42만명\n",
    "- 2018, 2019 당시 제주도민의 수가 60만명대 후반"
   ]
  },
  {
   "cell_type": "code",
   "execution_count": 37,
   "id": "22ae3b3e",
   "metadata": {},
   "outputs": [
    {
     "data": {
      "text/plain": [
       "0    1972554\n",
       "1     428040\n",
       "Name: cluster, dtype: int64"
      ]
     },
     "execution_count": 37,
     "metadata": {},
     "output_type": "execute_result"
    }
   ],
   "source": [
    "user_info[\"cluster\"].value_counts()"
   ]
  },
  {
   "cell_type": "code",
   "execution_count": 38,
   "id": "3c77ba17",
   "metadata": {},
   "outputs": [
    {
     "data": {
      "image/png": "[encoded data removed]",
      "text/plain": [
       "<Figure size 864x576 with 1 Axes>"
      ]
     },
     "metadata": {
      "needs_background": "light"
     },
     "output_type": "display_data"
    }
   ],
   "source": [
    "plt.figure(figsize=(12, 8))\n",
    "plt.scatter(user_info[user_info[\"cluster\"] == 1][\"period_int\"], \n",
    "            user_info[user_info[\"cluster\"] == 1][\"counts\"],\n",
    "          )\n",
    "plt.show()"
   ]
  },
  {
   "cell_type": "code",
   "execution_count": 39,
   "id": "b42135cc",
   "metadata": {},
   "outputs": [
    {
     "data": {
      "image/png": "[encoded data removed]",
      "text/plain": [
       "<Figure size 864x576 with 1 Axes>"
      ]
     },
     "metadata": {
      "needs_background": "light"
     },
     "output_type": "display_data"
    }
   ],
   "source": [
    "plt.figure(figsize=(12, 8))\n",
    "plt.scatter(user_info[user_info[\"cluster\"] == 0][\"period_int\"], \n",
    "            user_info[user_info[\"cluster\"] == 0][\"counts\"],\n",
    "          )\n",
    "plt.show()"
   ]
  },
  {
   "cell_type": "code",
   "execution_count": 40,
   "id": "43e6a47c",
   "metadata": {},
   "outputs": [],
   "source": [
    "# 클러스터별 유저 id 리스트 저장 \n",
    "tourist = list(user_info[user_info[\"cluster\"] == 0][\"index\"])\n",
    "citizen  = list(user_info[user_info[\"cluster\"] == 1][\"index\"])"
   ]
  },
  {
   "cell_type": "code",
   "execution_count": 89,
   "id": "600bfcde",
   "metadata": {},
   "outputs": [],
   "source": [
    "# 클러스터별 데이터프레임 구분 \n",
    "tourist_df = bus_total[bus_total[\"user_id\"].isin(tourist)]\n",
    "jeju_df = bus_total[bus_total[\"user_id\"].isin(citizen)]"
   ]
  },
  {
   "cell_type": "code",
   "execution_count": 42,
   "id": "253feca0",
   "metadata": {
    "scrolled": true
   },
   "outputs": [],
   "source": [
    "#tourist_info = tourist_df[[\"base_date\", \"user_count\"]].groupby(\"base_date\").sum()"
   ]
  },
  {
   "cell_type": "code",
   "execution_count": 43,
   "id": "5cac7531",
   "metadata": {},
   "outputs": [],
   "source": [
    "#citizen_info = jeju_df[[\"base_date\", \"user_count\"]].groupby(\"base_date\").sum()"
   ]
  },
  {
   "cell_type": "code",
   "execution_count": 44,
   "id": "fa8efad5",
   "metadata": {},
   "outputs": [],
   "source": [
    "#pd.DataFrame(tourist).to_csv(\"data/tourist_list.csv\", encoding=\"utf-8-sig\")"
   ]
  },
  {
   "cell_type": "code",
   "execution_count": 45,
   "id": "43dc9d0e",
   "metadata": {},
   "outputs": [],
   "source": [
    "#pd.DataFrame(citizen).to_csv(\"data/citizen_list.csv\", encoding=\"utf-8-sig\")"
   ]
  },
  {
   "cell_type": "code",
   "execution_count": 46,
   "id": "3ec07344",
   "metadata": {},
   "outputs": [
    {
     "data": {
      "text/html": [
       "<div>\n",
       "<style scoped>\n",
       "    .dataframe tbody tr th:only-of-type {\n",
       "        vertical-align: middle;\n",
       "    }\n",
       "\n",
       "    .dataframe tbody tr th {\n",
       "        vertical-align: top;\n",
       "    }\n",
       "\n",
       "    .dataframe thead th {\n",
       "        text-align: right;\n",
       "    }\n",
       "</style>\n",
       "<table border=\"1\" class=\"dataframe\">\n",
       "  <thead>\n",
       "    <tr style=\"text-align: right;\">\n",
       "      <th></th>\n",
       "      <th>counts</th>\n",
       "      <th>period_int</th>\n",
       "    </tr>\n",
       "    <tr>\n",
       "      <th>cluster</th>\n",
       "      <th></th>\n",
       "      <th></th>\n",
       "    </tr>\n",
       "  </thead>\n",
       "  <tbody>\n",
       "    <tr>\n",
       "      <th>0</th>\n",
       "      <td>8.80</td>\n",
       "      <td>24.32</td>\n",
       "    </tr>\n",
       "    <tr>\n",
       "      <th>1</th>\n",
       "      <td>139.69</td>\n",
       "      <td>393.47</td>\n",
       "    </tr>\n",
       "  </tbody>\n",
       "</table>\n",
       "</div>"
      ],
      "text/plain": [
       "         counts  period_int\n",
       "cluster                    \n",
       "0          8.80       24.32\n",
       "1        139.69      393.47"
      ]
     },
     "execution_count": 46,
     "metadata": {},
     "output_type": "execute_result"
    }
   ],
   "source": [
    "#구분된 클러스터의 정보 \n",
    "#클러스터 0의 평균 탑승 횟수와 기간이 훨씬 적다는 것을 알 수 있다 \n",
    "user_info[[\"counts\", \"period_int\", \"cluster\"]].groupby(\"cluster\").mean()"
   ]
  },
  {
   "cell_type": "code",
   "execution_count": 47,
   "id": "a617381f",
   "metadata": {},
   "outputs": [],
   "source": [
    "tourist_ls = pd.read_csv(\"data/tourist_list.csv\", encoding=\"utf-8-sig\")\n",
    "citizen_ls = pd.read_csv(\"data/citizen_list.csv\", encoding=\"utf-8-sig\")\n",
    "\n"
   ]
  },
  {
   "cell_type": "code",
   "execution_count": 48,
   "id": "fca243bb",
   "metadata": {},
   "outputs": [],
   "source": [
    "tourist_ls = tourist_ls.drop(columns=\"Unnamed: 0\", axis=1)\n",
    "citizen_ls = citizen_ls.drop(columns=\"Unnamed: 0\", axis=1)"
   ]
  },
  {
   "cell_type": "code",
   "execution_count": 49,
   "id": "70862e09",
   "metadata": {},
   "outputs": [
    {
     "data": {
      "text/html": [
       "<div>\n",
       "<style scoped>\n",
       "    .dataframe tbody tr th:only-of-type {\n",
       "        vertical-align: middle;\n",
       "    }\n",
       "\n",
       "    .dataframe tbody tr th {\n",
       "        vertical-align: top;\n",
       "    }\n",
       "\n",
       "    .dataframe thead th {\n",
       "        text-align: right;\n",
       "    }\n",
       "</style>\n",
       "<table border=\"1\" class=\"dataframe\">\n",
       "  <thead>\n",
       "    <tr style=\"text-align: right;\">\n",
       "      <th></th>\n",
       "      <th>0</th>\n",
       "    </tr>\n",
       "  </thead>\n",
       "  <tbody>\n",
       "    <tr>\n",
       "      <th>0</th>\n",
       "      <td>b967fc6b1e8464ca95dbf7a89c5245cfa06e33c9b114ef...</td>\n",
       "    </tr>\n",
       "    <tr>\n",
       "      <th>1</th>\n",
       "      <td>a7dc65282441f85e76a4a8251d8c40f6dc1cf703656ebb...</td>\n",
       "    </tr>\n",
       "    <tr>\n",
       "      <th>2</th>\n",
       "      <td>27deb4dfc30c072fed5a061988e633927f5a74602f8df7...</td>\n",
       "    </tr>\n",
       "    <tr>\n",
       "      <th>3</th>\n",
       "      <td>49be7f71914af1d1db7ac19536b373ddd27036a91f2fcd...</td>\n",
       "    </tr>\n",
       "    <tr>\n",
       "      <th>4</th>\n",
       "      <td>5156d3148998cb8b13077df6f25e41d7e33540a8a2c63d...</td>\n",
       "    </tr>\n",
       "  </tbody>\n",
       "</table>\n",
       "</div>"
      ],
      "text/plain": [
       "                                                   0\n",
       "0  b967fc6b1e8464ca95dbf7a89c5245cfa06e33c9b114ef...\n",
       "1  a7dc65282441f85e76a4a8251d8c40f6dc1cf703656ebb...\n",
       "2  27deb4dfc30c072fed5a061988e633927f5a74602f8df7...\n",
       "3  49be7f71914af1d1db7ac19536b373ddd27036a91f2fcd...\n",
       "4  5156d3148998cb8b13077df6f25e41d7e33540a8a2c63d..."
      ]
     },
     "execution_count": 49,
     "metadata": {},
     "output_type": "execute_result"
    }
   ],
   "source": [
    "citizen_ls.head()"
   ]
  },
  {
   "cell_type": "code",
   "execution_count": 50,
   "id": "45d4ee7f",
   "metadata": {},
   "outputs": [],
   "source": [
    "#전체에서 10퍼센트만 샘플링 \n",
    "tour_sample = list(tourist_ls.sample(frac=0.1, random_state=13)[\"0\"].values)"
   ]
  },
  {
   "cell_type": "code",
   "execution_count": 52,
   "id": "1ec3fbff",
   "metadata": {},
   "outputs": [
    {
     "name": "stdout",
     "output_type": "stream",
     "text": [
      "[########################################] | 100% Completed |  3min 19.9s\n"
     ]
    }
   ],
   "source": [
    "tour_df = bus_total[bus_total[\"user_id\"].isin(tour_sample)].groupby(\"base_date\", \"user_counts\").sum().compute()"
   ]
  },
  {
   "cell_type": "code",
   "execution_count": 53,
   "id": "9ab436e0",
   "metadata": {},
   "outputs": [],
   "source": [
    "city_sample = list(citizen_ls.sample(frac=0.1, random_state=13)[\"0\"].values)"
   ]
  },
  {
   "cell_type": "code",
   "execution_count": 54,
   "id": "fe92eaf3",
   "metadata": {},
   "outputs": [
    {
     "name": "stdout",
     "output_type": "stream",
     "text": [
      "[########################################] | 100% Completed |  2min 45.9s\n"
     ]
    }
   ],
   "source": [
    "citizen_df = bus_total[bus_total[\"user_id\"].isin(city_sample)].groupby(\"base_date\", \"user_counts\").sum().compute()"
   ]
  },
  {
   "cell_type": "code",
   "execution_count": 55,
   "id": "3589ace6",
   "metadata": {},
   "outputs": [],
   "source": [
    "tour_df.reset_index(inplace=True)"
   ]
  },
  {
   "cell_type": "code",
   "execution_count": 56,
   "id": "00968e1f",
   "metadata": {},
   "outputs": [],
   "source": [
    "tour_df[\"base_date\"] = tour_df[\"base_date\"].astype(\"str\")"
   ]
  },
  {
   "cell_type": "code",
   "execution_count": 57,
   "id": "cc1264d1",
   "metadata": {},
   "outputs": [],
   "source": [
    "citizen_df.reset_index(inplace=True)\n",
    "citizen_df[\"base_date\"] = citizen_df[\"base_date\"].astype(\"str\")"
   ]
  },
  {
   "cell_type": "markdown",
   "id": "46e6374f",
   "metadata": {},
   "source": [
    "#### 관광객 / 도민 나눠서 이용량 그래프 그려보기 \n",
    "- x : 날짜, y : 버스 이용량"
   ]
  },
  {
   "cell_type": "code",
   "execution_count": 181,
   "id": "4730ea9f",
   "metadata": {},
   "outputs": [
    {
     "data": {
      "image/png": "[encoded data removed]",
      "text/plain": [
       "<Figure size 720x576 with 1 Axes>"
      ]
     },
     "metadata": {
      "needs_background": "light"
     },
     "output_type": "display_data"
    }
   ],
   "source": [
    "plt.figure(figsize=(10, 8))\n",
    "plt.scatter(x = \"base_date\", \n",
    "            y = \"user_count\", \n",
    "            data = tour_df,\n",
    "            alpha = 0.5,\n",
    "            c = \"green\")\n",
    "\n",
    "plt.scatter(x = \"base_date\", \n",
    "            y = \"user_count\", \n",
    "            data = citizen_df,\n",
    "            alpha = 0.5,\n",
    "            c = \"grey\")\n",
    "\n",
    "plt.xticks(ticks = [\"20180701\", \"20181231\", \"20190701\", \"20191231\"])\n",
    "plt.ylim([1000, 14000])\n",
    "plt.show()"
   ]
  },
  {
   "cell_type": "markdown",
   "id": "962c5f45",
   "metadata": {},
   "source": [
    "#### 기존 파일과 병합"
   ]
  },
  {
   "cell_type": "code",
   "execution_count": 59,
   "id": "0e70d72a",
   "metadata": {},
   "outputs": [],
   "source": [
    "#회귀분석용으로 만들어두었던 파일 가져옴 \n",
    "reg_df = pd.read_csv(\"data/final_0513.csv\", encoding=\"utf-8-sig\")"
   ]
  },
  {
   "cell_type": "code",
   "execution_count": 60,
   "id": "ba904d7c",
   "metadata": {},
   "outputs": [
    {
     "data": {
      "text/html": [
       "<div>\n",
       "<style scoped>\n",
       "    .dataframe tbody tr th:only-of-type {\n",
       "        vertical-align: middle;\n",
       "    }\n",
       "\n",
       "    .dataframe tbody tr th {\n",
       "        vertical-align: top;\n",
       "    }\n",
       "\n",
       "    .dataframe thead th {\n",
       "        text-align: right;\n",
       "    }\n",
       "</style>\n",
       "<table border=\"1\" class=\"dataframe\">\n",
       "  <thead>\n",
       "    <tr style=\"text-align: right;\">\n",
       "      <th></th>\n",
       "      <th>Unnamed: 0</th>\n",
       "      <th>base_date</th>\n",
       "      <th>airportbususer</th>\n",
       "      <th>bususer</th>\n",
       "      <th>tour</th>\n",
       "      <th>user_count</th>\n",
       "    </tr>\n",
       "  </thead>\n",
       "  <tbody>\n",
       "    <tr>\n",
       "      <th>0</th>\n",
       "      <td>0</td>\n",
       "      <td>20180701</td>\n",
       "      <td>3910</td>\n",
       "      <td>30573</td>\n",
       "      <td>남</td>\n",
       "      <td>3933</td>\n",
       "    </tr>\n",
       "    <tr>\n",
       "      <th>1</th>\n",
       "      <td>1</td>\n",
       "      <td>20180701</td>\n",
       "      <td>3910</td>\n",
       "      <td>30573</td>\n",
       "      <td>동남</td>\n",
       "      <td>1832</td>\n",
       "    </tr>\n",
       "    <tr>\n",
       "      <th>2</th>\n",
       "      <td>2</td>\n",
       "      <td>20180701</td>\n",
       "      <td>3910</td>\n",
       "      <td>30573</td>\n",
       "      <td>동부중산간</td>\n",
       "      <td>212</td>\n",
       "    </tr>\n",
       "    <tr>\n",
       "      <th>3</th>\n",
       "      <td>3</td>\n",
       "      <td>20180701</td>\n",
       "      <td>3910</td>\n",
       "      <td>30573</td>\n",
       "      <td>동북</td>\n",
       "      <td>2797</td>\n",
       "    </tr>\n",
       "    <tr>\n",
       "      <th>4</th>\n",
       "      <td>4</td>\n",
       "      <td>20180701</td>\n",
       "      <td>3910</td>\n",
       "      <td>30573</td>\n",
       "      <td>북</td>\n",
       "      <td>6455</td>\n",
       "    </tr>\n",
       "  </tbody>\n",
       "</table>\n",
       "</div>"
      ],
      "text/plain": [
       "   Unnamed: 0  base_date  airportbususer  bususer   tour  user_count\n",
       "0           0   20180701            3910    30573      남        3933\n",
       "1           1   20180701            3910    30573     동남        1832\n",
       "2           2   20180701            3910    30573  동부중산간         212\n",
       "3           3   20180701            3910    30573     동북        2797\n",
       "4           4   20180701            3910    30573      북        6455"
      ]
     },
     "execution_count": 60,
     "metadata": {},
     "output_type": "execute_result"
    }
   ],
   "source": [
    "reg_df.head()"
   ]
  },
  {
   "cell_type": "code",
   "execution_count": 61,
   "id": "20035dc8",
   "metadata": {},
   "outputs": [
    {
     "data": {
      "text/html": [
       "<div>\n",
       "<style scoped>\n",
       "    .dataframe tbody tr th:only-of-type {\n",
       "        vertical-align: middle;\n",
       "    }\n",
       "\n",
       "    .dataframe tbody tr th {\n",
       "        vertical-align: top;\n",
       "    }\n",
       "\n",
       "    .dataframe thead th {\n",
       "        text-align: right;\n",
       "    }\n",
       "</style>\n",
       "<table border=\"1\" class=\"dataframe\">\n",
       "  <thead>\n",
       "    <tr style=\"text-align: right;\">\n",
       "      <th></th>\n",
       "      <th>base_date</th>\n",
       "      <th>route_id</th>\n",
       "      <th>geton_datetime</th>\n",
       "      <th>geton_station_id</th>\n",
       "      <th>geton_station_longitude</th>\n",
       "      <th>geton_station_latitude</th>\n",
       "      <th>getoff_datetime</th>\n",
       "      <th>getoff_station_id</th>\n",
       "      <th>getoff_station_longitude</th>\n",
       "      <th>getoff_station_latitude</th>\n",
       "      <th>user_count</th>\n",
       "      <th>pt_year</th>\n",
       "      <th>pt_month</th>\n",
       "    </tr>\n",
       "  </thead>\n",
       "  <tbody>\n",
       "    <tr>\n",
       "      <th>0</th>\n",
       "      <td>20180701</td>\n",
       "      <td>71112940000</td>\n",
       "      <td>58524033326906888</td>\n",
       "      <td>263159066</td>\n",
       "      <td>366809.00</td>\n",
       "      <td>96940.25</td>\n",
       "      <td>40906281231399272.00</td>\n",
       "      <td>173704905.00</td>\n",
       "      <td>256482.64</td>\n",
       "      <td>67777.40</td>\n",
       "      <td>2996</td>\n",
       "      <td>5852200</td>\n",
       "      <td>20300</td>\n",
       "    </tr>\n",
       "    <tr>\n",
       "      <th>1</th>\n",
       "      <td>20180702</td>\n",
       "      <td>113095270000</td>\n",
       "      <td>90853521045537552</td>\n",
       "      <td>401965955</td>\n",
       "      <td>569478.17</td>\n",
       "      <td>150536.22</td>\n",
       "      <td>61954755591430624.00</td>\n",
       "      <td>197025569.00</td>\n",
       "      <td>388422.68</td>\n",
       "      <td>102665.09</td>\n",
       "      <td>4622</td>\n",
       "      <td>9085036</td>\n",
       "      <td>31514</td>\n",
       "    </tr>\n",
       "    <tr>\n",
       "      <th>2</th>\n",
       "      <td>20180703</td>\n",
       "      <td>108403840000</td>\n",
       "      <td>87624613049911808</td>\n",
       "      <td>393677856</td>\n",
       "      <td>549072.12</td>\n",
       "      <td>145136.24</td>\n",
       "      <td>60360483113589760.00</td>\n",
       "      <td>211440798.00</td>\n",
       "      <td>378395.10</td>\n",
       "      <td>100006.54</td>\n",
       "      <td>4481</td>\n",
       "      <td>8762156</td>\n",
       "      <td>30394</td>\n",
       "    </tr>\n",
       "    <tr>\n",
       "      <th>3</th>\n",
       "      <td>20180704</td>\n",
       "      <td>137695910000</td>\n",
       "      <td>110852607856995920</td>\n",
       "      <td>651032742</td>\n",
       "      <td>694905.09</td>\n",
       "      <td>183653.95</td>\n",
       "      <td>77917698712824832.00</td>\n",
       "      <td>342140612.00</td>\n",
       "      <td>488530.44</td>\n",
       "      <td>129095.53</td>\n",
       "      <td>5666</td>\n",
       "      <td>11084874</td>\n",
       "      <td>38451</td>\n",
       "    </tr>\n",
       "    <tr>\n",
       "      <th>4</th>\n",
       "      <td>20180705</td>\n",
       "      <td>123630690000</td>\n",
       "      <td>99208346474007584</td>\n",
       "      <td>489468910</td>\n",
       "      <td>622000.04</td>\n",
       "      <td>164400.75</td>\n",
       "      <td>67565000826495872.00</td>\n",
       "      <td>259882484.00</td>\n",
       "      <td>423600.96</td>\n",
       "      <td>111948.36</td>\n",
       "      <td>5062</td>\n",
       "      <td>9920488</td>\n",
       "      <td>34412</td>\n",
       "    </tr>\n",
       "  </tbody>\n",
       "</table>\n",
       "</div>"
      ],
      "text/plain": [
       "  base_date      route_id      geton_datetime  geton_station_id  \\\n",
       "0  20180701   71112940000   58524033326906888         263159066   \n",
       "1  20180702  113095270000   90853521045537552         401965955   \n",
       "2  20180703  108403840000   87624613049911808         393677856   \n",
       "3  20180704  137695910000  110852607856995920         651032742   \n",
       "4  20180705  123630690000   99208346474007584         489468910   \n",
       "\n",
       "   geton_station_longitude  geton_station_latitude      getoff_datetime  \\\n",
       "0                366809.00                96940.25 40906281231399272.00   \n",
       "1                569478.17               150536.22 61954755591430624.00   \n",
       "2                549072.12               145136.24 60360483113589760.00   \n",
       "3                694905.09               183653.95 77917698712824832.00   \n",
       "4                622000.04               164400.75 67565000826495872.00   \n",
       "\n",
       "   getoff_station_id  getoff_station_longitude  getoff_station_latitude  \\\n",
       "0       173704905.00                 256482.64                 67777.40   \n",
       "1       197025569.00                 388422.68                102665.09   \n",
       "2       211440798.00                 378395.10                100006.54   \n",
       "3       342140612.00                 488530.44                129095.53   \n",
       "4       259882484.00                 423600.96                111948.36   \n",
       "\n",
       "   user_count   pt_year  pt_month  \n",
       "0        2996   5852200     20300  \n",
       "1        4622   9085036     31514  \n",
       "2        4481   8762156     30394  \n",
       "3        5666  11084874     38451  \n",
       "4        5062   9920488     34412  "
      ]
     },
     "execution_count": 61,
     "metadata": {},
     "output_type": "execute_result"
    }
   ],
   "source": [
    "tour_df.head()"
   ]
  },
  {
   "cell_type": "code",
   "execution_count": 62,
   "id": "1ac84423",
   "metadata": {},
   "outputs": [],
   "source": [
    "reg_df = reg_df[[\"base_date\", \"airportbususer\"]]\n",
    "reg_df[\"base_date\"] = reg_df[\"base_date\"].astype(\"str\")"
   ]
  },
  {
   "cell_type": "code",
   "execution_count": 63,
   "id": "865e71e1",
   "metadata": {},
   "outputs": [],
   "source": [
    "reg_df = pd.merge(left=reg_df, right=tour_df[[\"base_date\", \"user_count\"]], on=\"base_date\")"
   ]
  },
  {
   "cell_type": "code",
   "execution_count": 64,
   "id": "09aee1a8",
   "metadata": {},
   "outputs": [],
   "source": [
    "reg_df = reg_df.drop_duplicates([\"base_date\", \"airportbususer\", \"user_count\"])"
   ]
  },
  {
   "cell_type": "code",
   "execution_count": 65,
   "id": "6f2a83a5",
   "metadata": {},
   "outputs": [],
   "source": [
    "reg_df = pd.merge(left=reg_df, right=citizen_df[[\"base_date\", \"user_count\"]], on=\"base_date\")"
   ]
  },
  {
   "cell_type": "code",
   "execution_count": 66,
   "id": "648dce37",
   "metadata": {},
   "outputs": [],
   "source": [
    "reg_df.rename(columns={\"user_count_x\" : \"tourist\", \"user_count_y\" : \"citizen\"}, inplace=True)"
   ]
  },
  {
   "cell_type": "markdown",
   "id": "4ca910ba",
   "metadata": {},
   "source": [
    "#### 이용량 구분해서 그리기 "
   ]
  },
  {
   "cell_type": "code",
   "execution_count": 67,
   "id": "958516ef",
   "metadata": {},
   "outputs": [
    {
     "data": {
      "image/png": "[encoded data removed]",
      "text/plain": [
       "<Figure size 720x576 with 1 Axes>"
      ]
     },
     "metadata": {
      "needs_background": "light"
     },
     "output_type": "display_data"
    }
   ],
   "source": [
    "plt.figure(figsize=(10, 8))\n",
    "sns.scatterplot(x = \"airportbususer\", \n",
    "                y = \"tourist\", \n",
    "               data = reg_df, \n",
    "               )\n",
    "sns.scatterplot(x = \"airportbususer\", \n",
    "                y = \"citizen\", \n",
    "               data = reg_df, \n",
    "               color = \"g\", \n",
    "               )\n",
    "\n",
    "\n",
    "plt.show()"
   ]
  },
  {
   "cell_type": "markdown",
   "id": "f48814c3",
   "metadata": {},
   "source": [
    "#### 관광객의 이용량에 대한 OLS"
   ]
  },
  {
   "cell_type": "code",
   "execution_count": 95,
   "id": "636b8870",
   "metadata": {},
   "outputs": [
    {
     "data": {
      "text/html": [
       "<table class=\"simpletable\">\n",
       "<caption>OLS Regression Results</caption>\n",
       "<tr>\n",
       "  <th>Dep. Variable:</th>         <td>tourist</td>     <th>  R-squared:         </th> <td>   0.259</td>\n",
       "</tr>\n",
       "<tr>\n",
       "  <th>Model:</th>                   <td>OLS</td>       <th>  Adj. R-squared:    </th> <td>   0.257</td>\n",
       "</tr>\n",
       "<tr>\n",
       "  <th>Method:</th>             <td>Least Squares</td>  <th>  F-statistic:       </th> <td>   132.7</td>\n",
       "</tr>\n",
       "<tr>\n",
       "  <th>Date:</th>             <td>Sat, 15 May 2021</td> <th>  Prob (F-statistic):</th> <td>1.54e-26</td>\n",
       "</tr>\n",
       "<tr>\n",
       "  <th>Time:</th>                 <td>15:03:58</td>     <th>  Log-Likelihood:    </th> <td> -3139.8</td>\n",
       "</tr>\n",
       "<tr>\n",
       "  <th>No. Observations:</th>      <td>   381</td>      <th>  AIC:               </th> <td>   6284.</td>\n",
       "</tr>\n",
       "<tr>\n",
       "  <th>Df Residuals:</th>          <td>   379</td>      <th>  BIC:               </th> <td>   6292.</td>\n",
       "</tr>\n",
       "<tr>\n",
       "  <th>Df Model:</th>              <td>     1</td>      <th>                     </th>     <td> </td>   \n",
       "</tr>\n",
       "<tr>\n",
       "  <th>Covariance Type:</th>      <td>nonrobust</td>    <th>                     </th>     <td> </td>   \n",
       "</tr>\n",
       "</table>\n",
       "<table class=\"simpletable\">\n",
       "<tr>\n",
       "         <td></td>           <th>coef</th>     <th>std err</th>      <th>t</th>      <th>P>|t|</th>  <th>[0.025</th>    <th>0.975]</th>  \n",
       "</tr>\n",
       "<tr>\n",
       "  <th>const</th>          <td> 1238.9493</td> <td>  183.638</td> <td>    6.747</td> <td> 0.000</td> <td>  877.872</td> <td> 1600.027</td>\n",
       "</tr>\n",
       "<tr>\n",
       "  <th>airportbususer</th> <td>    0.4425</td> <td>    0.038</td> <td>   11.522</td> <td> 0.000</td> <td>    0.367</td> <td>    0.518</td>\n",
       "</tr>\n",
       "</table>\n",
       "<table class=\"simpletable\">\n",
       "<tr>\n",
       "  <th>Omnibus:</th>       <td> 8.155</td> <th>  Durbin-Watson:     </th> <td>   2.031</td>\n",
       "</tr>\n",
       "<tr>\n",
       "  <th>Prob(Omnibus):</th> <td> 0.017</td> <th>  Jarque-Bera (JB):  </th> <td>   8.431</td>\n",
       "</tr>\n",
       "<tr>\n",
       "  <th>Skew:</th>          <td> 0.359</td> <th>  Prob(JB):          </th> <td>  0.0148</td>\n",
       "</tr>\n",
       "<tr>\n",
       "  <th>Kurtosis:</th>      <td> 2.878</td> <th>  Cond. No.          </th> <td>1.86e+04</td>\n",
       "</tr>\n",
       "</table><br/><br/>Notes:<br/>[1] Standard Errors assume that the covariance matrix of the errors is correctly specified.<br/>[2] The condition number is large, 1.86e+04. This might indicate that there are<br/>strong multicollinearity or other numerical problems."
      ],
      "text/plain": [
       "<class 'statsmodels.iolib.summary.Summary'>\n",
       "\"\"\"\n",
       "                            OLS Regression Results                            \n",
       "==============================================================================\n",
       "Dep. Variable:                tourist   R-squared:                       0.259\n",
       "Model:                            OLS   Adj. R-squared:                  0.257\n",
       "Method:                 Least Squares   F-statistic:                     132.7\n",
       "Date:                Sat, 15 May 2021   Prob (F-statistic):           1.54e-26\n",
       "Time:                        15:03:58   Log-Likelihood:                -3139.8\n",
       "No. Observations:                 381   AIC:                             6284.\n",
       "Df Residuals:                     379   BIC:                             6292.\n",
       "Df Model:                           1                                         \n",
       "Covariance Type:            nonrobust                                         \n",
       "==================================================================================\n",
       "                     coef    std err          t      P>|t|      [0.025      0.975]\n",
       "----------------------------------------------------------------------------------\n",
       "const           1238.9493    183.638      6.747      0.000     877.872    1600.027\n",
       "airportbususer     0.4425      0.038     11.522      0.000       0.367       0.518\n",
       "==============================================================================\n",
       "Omnibus:                        8.155   Durbin-Watson:                   2.031\n",
       "Prob(Omnibus):                  0.017   Jarque-Bera (JB):                8.431\n",
       "Skew:                           0.359   Prob(JB):                       0.0148\n",
       "Kurtosis:                       2.878   Cond. No.                     1.86e+04\n",
       "==============================================================================\n",
       "\n",
       "Notes:\n",
       "[1] Standard Errors assume that the covariance matrix of the errors is correctly specified.\n",
       "[2] The condition number is large, 1.86e+04. This might indicate that there are\n",
       "strong multicollinearity or other numerical problems.\n",
       "\"\"\""
      ]
     },
     "execution_count": 95,
     "metadata": {},
     "output_type": "execute_result"
    }
   ],
   "source": [
    "X = reg_df[\"airportbususer\"]\n",
    "X_add = sm.add_constant(X, has_constant = \"add\") \n",
    "y = reg_df[\"tourist\"]\n",
    "X_train, X_test, y_train, y_test = train_test_split(X_add, y, \n",
    "                                                   test_size = 0.3, \n",
    "                                                   random_state = 13)\n",
    "\n",
    "lm = sm.OLS(y_train, X_train).fit()\n",
    "lm.summary()"
   ]
  },
  {
   "cell_type": "code",
   "execution_count": 98,
   "id": "085dc799",
   "metadata": {},
   "outputs": [
    {
     "data": {
      "text/plain": [
       "853.1061014069554"
      ]
     },
     "execution_count": 98,
     "metadata": {},
     "output_type": "execute_result"
    }
   ],
   "source": [
    "y_pred = lm.predict(X_test)\n",
    "mean_squared_error(y_test, y_pred, squared=False)"
   ]
  },
  {
   "cell_type": "markdown",
   "id": "fc710d43",
   "metadata": {},
   "source": [
    "#### 도민의 이용량에 대한 OLS"
   ]
  },
  {
   "cell_type": "code",
   "execution_count": 70,
   "id": "038f1704",
   "metadata": {},
   "outputs": [
    {
     "data": {
      "text/html": [
       "<table class=\"simpletable\">\n",
       "<caption>OLS Regression Results</caption>\n",
       "<tr>\n",
       "  <th>Dep. Variable:</th>         <td>citizen</td>     <th>  R-squared:         </th> <td>   0.131</td>\n",
       "</tr>\n",
       "<tr>\n",
       "  <th>Model:</th>                   <td>OLS</td>       <th>  Adj. R-squared:    </th> <td>   0.128</td>\n",
       "</tr>\n",
       "<tr>\n",
       "  <th>Method:</th>             <td>Least Squares</td>  <th>  F-statistic:       </th> <td>   56.94</td>\n",
       "</tr>\n",
       "<tr>\n",
       "  <th>Date:</th>             <td>Fri, 14 May 2021</td> <th>  Prob (F-statistic):</th> <td>3.37e-13</td>\n",
       "</tr>\n",
       "<tr>\n",
       "  <th>Time:</th>                 <td>15:27:48</td>     <th>  Log-Likelihood:    </th> <td> -3547.6</td>\n",
       "</tr>\n",
       "<tr>\n",
       "  <th>No. Observations:</th>      <td>   381</td>      <th>  AIC:               </th> <td>   7099.</td>\n",
       "</tr>\n",
       "<tr>\n",
       "  <th>Df Residuals:</th>          <td>   379</td>      <th>  BIC:               </th> <td>   7107.</td>\n",
       "</tr>\n",
       "<tr>\n",
       "  <th>Df Model:</th>              <td>     1</td>      <th>                     </th>     <td> </td>   \n",
       "</tr>\n",
       "<tr>\n",
       "  <th>Covariance Type:</th>      <td>nonrobust</td>    <th>                     </th>     <td> </td>   \n",
       "</tr>\n",
       "</table>\n",
       "<table class=\"simpletable\">\n",
       "<tr>\n",
       "         <td></td>           <th>coef</th>     <th>std err</th>      <th>t</th>      <th>P>|t|</th>  <th>[0.025</th>    <th>0.975]</th>  \n",
       "</tr>\n",
       "<tr>\n",
       "  <th>const</th>          <td> 7035.7126</td> <td>  535.526</td> <td>   13.138</td> <td> 0.000</td> <td> 5982.738</td> <td> 8088.687</td>\n",
       "</tr>\n",
       "<tr>\n",
       "  <th>airportbususer</th> <td>    0.8451</td> <td>    0.112</td> <td>    7.546</td> <td> 0.000</td> <td>    0.625</td> <td>    1.065</td>\n",
       "</tr>\n",
       "</table>\n",
       "<table class=\"simpletable\">\n",
       "<tr>\n",
       "  <th>Omnibus:</th>       <td>27.593</td> <th>  Durbin-Watson:     </th> <td>   2.077</td>\n",
       "</tr>\n",
       "<tr>\n",
       "  <th>Prob(Omnibus):</th> <td> 0.000</td> <th>  Jarque-Bera (JB):  </th> <td>  32.208</td>\n",
       "</tr>\n",
       "<tr>\n",
       "  <th>Skew:</th>          <td>-0.706</td> <th>  Prob(JB):          </th> <td>1.01e-07</td>\n",
       "</tr>\n",
       "<tr>\n",
       "  <th>Kurtosis:</th>      <td> 2.809</td> <th>  Cond. No.          </th> <td>1.86e+04</td>\n",
       "</tr>\n",
       "</table><br/><br/>Notes:<br/>[1] Standard Errors assume that the covariance matrix of the errors is correctly specified.<br/>[2] The condition number is large, 1.86e+04. This might indicate that there are<br/>strong multicollinearity or other numerical problems."
      ],
      "text/plain": [
       "<class 'statsmodels.iolib.summary.Summary'>\n",
       "\"\"\"\n",
       "                            OLS Regression Results                            \n",
       "==============================================================================\n",
       "Dep. Variable:                citizen   R-squared:                       0.131\n",
       "Model:                            OLS   Adj. R-squared:                  0.128\n",
       "Method:                 Least Squares   F-statistic:                     56.94\n",
       "Date:                Fri, 14 May 2021   Prob (F-statistic):           3.37e-13\n",
       "Time:                        15:27:48   Log-Likelihood:                -3547.6\n",
       "No. Observations:                 381   AIC:                             7099.\n",
       "Df Residuals:                     379   BIC:                             7107.\n",
       "Df Model:                           1                                         \n",
       "Covariance Type:            nonrobust                                         \n",
       "==================================================================================\n",
       "                     coef    std err          t      P>|t|      [0.025      0.975]\n",
       "----------------------------------------------------------------------------------\n",
       "const           7035.7126    535.526     13.138      0.000    5982.738    8088.687\n",
       "airportbususer     0.8451      0.112      7.546      0.000       0.625       1.065\n",
       "==============================================================================\n",
       "Omnibus:                       27.593   Durbin-Watson:                   2.077\n",
       "Prob(Omnibus):                  0.000   Jarque-Bera (JB):               32.208\n",
       "Skew:                          -0.706   Prob(JB):                     1.01e-07\n",
       "Kurtosis:                       2.809   Cond. No.                     1.86e+04\n",
       "==============================================================================\n",
       "\n",
       "Notes:\n",
       "[1] Standard Errors assume that the covariance matrix of the errors is correctly specified.\n",
       "[2] The condition number is large, 1.86e+04. This might indicate that there are\n",
       "strong multicollinearity or other numerical problems.\n",
       "\"\"\""
      ]
     },
     "execution_count": 70,
     "metadata": {},
     "output_type": "execute_result"
    }
   ],
   "source": [
    "X = reg_df[\"airportbususer\"]\n",
    "X_add = sm.add_constant(X, has_constant = \"add\") \n",
    "y = reg_df[\"citizen\"]\n",
    "X_train, X_test, y_train, y_test = train_test_split(X_add, y, \n",
    "                                                   test_size = 0.3, \n",
    "                                                   random_state = 13)\n",
    "\n",
    "lm = sm.OLS(y_train, X_train).fit()\n",
    "lm.summary()"
   ]
  },
  {
   "cell_type": "code",
   "execution_count": 71,
   "id": "da2ccfe0",
   "metadata": {},
   "outputs": [
    {
     "data": {
      "text/html": [
       "<div>\n",
       "<style scoped>\n",
       "    .dataframe tbody tr th:only-of-type {\n",
       "        vertical-align: middle;\n",
       "    }\n",
       "\n",
       "    .dataframe tbody tr th {\n",
       "        vertical-align: top;\n",
       "    }\n",
       "\n",
       "    .dataframe thead th {\n",
       "        text-align: right;\n",
       "    }\n",
       "</style>\n",
       "<table border=\"1\" class=\"dataframe\">\n",
       "  <thead>\n",
       "    <tr style=\"text-align: right;\">\n",
       "      <th></th>\n",
       "      <th>airportbususer</th>\n",
       "      <th>tourist</th>\n",
       "      <th>citizen</th>\n",
       "    </tr>\n",
       "  </thead>\n",
       "  <tbody>\n",
       "    <tr>\n",
       "      <th>airportbususer</th>\n",
       "      <td>1.00</td>\n",
       "      <td>0.54</td>\n",
       "      <td>0.33</td>\n",
       "    </tr>\n",
       "    <tr>\n",
       "      <th>tourist</th>\n",
       "      <td>0.54</td>\n",
       "      <td>1.00</td>\n",
       "      <td>0.37</td>\n",
       "    </tr>\n",
       "    <tr>\n",
       "      <th>citizen</th>\n",
       "      <td>0.33</td>\n",
       "      <td>0.37</td>\n",
       "      <td>1.00</td>\n",
       "    </tr>\n",
       "  </tbody>\n",
       "</table>\n",
       "</div>"
      ],
      "text/plain": [
       "                airportbususer  tourist  citizen\n",
       "airportbususer            1.00     0.54     0.33\n",
       "tourist                   0.54     1.00     0.37\n",
       "citizen                   0.33     0.37     1.00"
      ]
     },
     "execution_count": 71,
     "metadata": {},
     "output_type": "execute_result"
    }
   ],
   "source": [
    "reg_df[[\"airportbususer\", \"tourist\", \"citizen\"]].corr()"
   ]
  },
  {
   "cell_type": "code",
   "execution_count": 72,
   "id": "5b772293",
   "metadata": {},
   "outputs": [
    {
     "name": "stdout",
     "output_type": "stream",
     "text": [
      "[########################################] | 100% Completed |  9min 54.2s\n"
     ]
    },
    {
     "data": {
      "text/html": [
       "<div>\n",
       "<style scoped>\n",
       "    .dataframe tbody tr th:only-of-type {\n",
       "        vertical-align: middle;\n",
       "    }\n",
       "\n",
       "    .dataframe tbody tr th {\n",
       "        vertical-align: top;\n",
       "    }\n",
       "\n",
       "    .dataframe thead th {\n",
       "        text-align: right;\n",
       "    }\n",
       "</style>\n",
       "<table border=\"1\" class=\"dataframe\">\n",
       "  <thead>\n",
       "    <tr style=\"text-align: right;\">\n",
       "      <th></th>\n",
       "      <th>geton_station_longitude</th>\n",
       "      <th>geton_station_latitude</th>\n",
       "      <th>user_count</th>\n",
       "      <th>scale</th>\n",
       "    </tr>\n",
       "  </thead>\n",
       "  <tbody>\n",
       "    <tr>\n",
       "      <th>0</th>\n",
       "      <td>126.16</td>\n",
       "      <td>33.31</td>\n",
       "      <td>250</td>\n",
       "      <td>0.00</td>\n",
       "    </tr>\n",
       "    <tr>\n",
       "      <th>1</th>\n",
       "      <td>126.18</td>\n",
       "      <td>33.28</td>\n",
       "      <td>48</td>\n",
       "      <td>0.00</td>\n",
       "    </tr>\n",
       "    <tr>\n",
       "      <th>2</th>\n",
       "      <td>126.18</td>\n",
       "      <td>33.34</td>\n",
       "      <td>63</td>\n",
       "      <td>0.00</td>\n",
       "    </tr>\n",
       "    <tr>\n",
       "      <th>3</th>\n",
       "      <td>126.18</td>\n",
       "      <td>33.32</td>\n",
       "      <td>407</td>\n",
       "      <td>0.00</td>\n",
       "    </tr>\n",
       "    <tr>\n",
       "      <th>4</th>\n",
       "      <td>126.18</td>\n",
       "      <td>33.32</td>\n",
       "      <td>794</td>\n",
       "      <td>0.00</td>\n",
       "    </tr>\n",
       "    <tr>\n",
       "      <th>...</th>\n",
       "      <td>...</td>\n",
       "      <td>...</td>\n",
       "      <td>...</td>\n",
       "      <td>...</td>\n",
       "    </tr>\n",
       "    <tr>\n",
       "      <th>5514</th>\n",
       "      <td>126.87</td>\n",
       "      <td>33.52</td>\n",
       "      <td>2</td>\n",
       "      <td>0.00</td>\n",
       "    </tr>\n",
       "    <tr>\n",
       "      <th>5515</th>\n",
       "      <td>126.27</td>\n",
       "      <td>33.39</td>\n",
       "      <td>1</td>\n",
       "      <td>0.00</td>\n",
       "    </tr>\n",
       "    <tr>\n",
       "      <th>5516</th>\n",
       "      <td>126.66</td>\n",
       "      <td>33.47</td>\n",
       "      <td>1</td>\n",
       "      <td>0.00</td>\n",
       "    </tr>\n",
       "    <tr>\n",
       "      <th>5517</th>\n",
       "      <td>126.62</td>\n",
       "      <td>33.26</td>\n",
       "      <td>1</td>\n",
       "      <td>0.00</td>\n",
       "    </tr>\n",
       "    <tr>\n",
       "      <th>5518</th>\n",
       "      <td>126.86</td>\n",
       "      <td>33.43</td>\n",
       "      <td>1</td>\n",
       "      <td>0.00</td>\n",
       "    </tr>\n",
       "  </tbody>\n",
       "</table>\n",
       "<p>5519 rows × 4 columns</p>\n",
       "</div>"
      ],
      "text/plain": [
       "      geton_station_longitude  geton_station_latitude  user_count  scale\n",
       "0                      126.16                   33.31         250   0.00\n",
       "1                      126.18                   33.28          48   0.00\n",
       "2                      126.18                   33.34          63   0.00\n",
       "3                      126.18                   33.32         407   0.00\n",
       "4                      126.18                   33.32         794   0.00\n",
       "...                       ...                     ...         ...    ...\n",
       "5514                   126.87                   33.52           2   0.00\n",
       "5515                   126.27                   33.39           1   0.00\n",
       "5516                   126.66                   33.47           1   0.00\n",
       "5517                   126.62                   33.26           1   0.00\n",
       "5518                   126.86                   33.43           1   0.00\n",
       "\n",
       "[5519 rows x 4 columns]"
      ]
     },
     "execution_count": 72,
     "metadata": {},
     "output_type": "execute_result"
    }
   ],
   "source": [
    "#inplace : bool, default False  (Not supported in Dask) Whether to return a new DataFrame. If True then value of copy isignored.\n",
    "# 관광객 - 승차 정류장 기준 위도, 경도, 유저 수  \n",
    "geton_df = tourist_df[[\"geton_station_longitude\", \"geton_station_latitude\", \"user_count\"]]\n",
    "# 승차 정류장 기준으로 유저 수를 sum -> 정류장 사용량을 보려고 \n",
    "geton_df = geton_df.groupby([\"geton_station_longitude\", \"geton_station_latitude\"]).sum().reset_index()\n",
    "# 사용량에 따라 색깔 변화를 주기 위한 값(0~1로 스케일링)\n",
    "geton_df[\"scale\"] = geton_df[\"user_count\"] / geton_df[\"user_count\"].max()\n",
    "geton_df.compute()"
   ]
  },
  {
   "cell_type": "code",
   "execution_count": 73,
   "id": "35addad6",
   "metadata": {},
   "outputs": [
    {
     "name": "stdout",
     "output_type": "stream",
     "text": [
      "[########################################] | 100% Completed |  8min 36.7s\n"
     ]
    },
    {
     "data": {
      "text/html": [
       "<div>\n",
       "<style scoped>\n",
       "    .dataframe tbody tr th:only-of-type {\n",
       "        vertical-align: middle;\n",
       "    }\n",
       "\n",
       "    .dataframe tbody tr th {\n",
       "        vertical-align: top;\n",
       "    }\n",
       "\n",
       "    .dataframe thead th {\n",
       "        text-align: right;\n",
       "    }\n",
       "</style>\n",
       "<table border=\"1\" class=\"dataframe\">\n",
       "  <thead>\n",
       "    <tr style=\"text-align: right;\">\n",
       "      <th></th>\n",
       "      <th>getoff_station_longitude</th>\n",
       "      <th>getoff_station_latitude</th>\n",
       "      <th>user_count</th>\n",
       "      <th>scale</th>\n",
       "    </tr>\n",
       "  </thead>\n",
       "  <tbody>\n",
       "    <tr>\n",
       "      <th>0</th>\n",
       "      <td>126.18</td>\n",
       "      <td>33.32</td>\n",
       "      <td>814</td>\n",
       "      <td>0.01</td>\n",
       "    </tr>\n",
       "    <tr>\n",
       "      <th>1</th>\n",
       "      <td>126.18</td>\n",
       "      <td>33.31</td>\n",
       "      <td>196</td>\n",
       "      <td>0.00</td>\n",
       "    </tr>\n",
       "    <tr>\n",
       "      <th>2</th>\n",
       "      <td>126.18</td>\n",
       "      <td>33.30</td>\n",
       "      <td>351</td>\n",
       "      <td>0.00</td>\n",
       "    </tr>\n",
       "    <tr>\n",
       "      <th>3</th>\n",
       "      <td>126.18</td>\n",
       "      <td>33.30</td>\n",
       "      <td>1070</td>\n",
       "      <td>0.01</td>\n",
       "    </tr>\n",
       "    <tr>\n",
       "      <th>4</th>\n",
       "      <td>126.18</td>\n",
       "      <td>33.30</td>\n",
       "      <td>533</td>\n",
       "      <td>0.00</td>\n",
       "    </tr>\n",
       "    <tr>\n",
       "      <th>...</th>\n",
       "      <td>...</td>\n",
       "      <td>...</td>\n",
       "      <td>...</td>\n",
       "      <td>...</td>\n",
       "    </tr>\n",
       "    <tr>\n",
       "      <th>5458</th>\n",
       "      <td>126.80</td>\n",
       "      <td>33.39</td>\n",
       "      <td>2</td>\n",
       "      <td>0.00</td>\n",
       "    </tr>\n",
       "    <tr>\n",
       "      <th>5459</th>\n",
       "      <td>126.82</td>\n",
       "      <td>33.54</td>\n",
       "      <td>112</td>\n",
       "      <td>0.00</td>\n",
       "    </tr>\n",
       "    <tr>\n",
       "      <th>5460</th>\n",
       "      <td>126.37</td>\n",
       "      <td>33.45</td>\n",
       "      <td>2</td>\n",
       "      <td>0.00</td>\n",
       "    </tr>\n",
       "    <tr>\n",
       "      <th>5461</th>\n",
       "      <td>126.68</td>\n",
       "      <td>33.49</td>\n",
       "      <td>8</td>\n",
       "      <td>0.00</td>\n",
       "    </tr>\n",
       "    <tr>\n",
       "      <th>5462</th>\n",
       "      <td>126.43</td>\n",
       "      <td>33.26</td>\n",
       "      <td>1</td>\n",
       "      <td>0.00</td>\n",
       "    </tr>\n",
       "  </tbody>\n",
       "</table>\n",
       "<p>5463 rows × 4 columns</p>\n",
       "</div>"
      ],
      "text/plain": [
       "      getoff_station_longitude  getoff_station_latitude  user_count  scale\n",
       "0                       126.18                    33.32         814   0.01\n",
       "1                       126.18                    33.31         196   0.00\n",
       "2                       126.18                    33.30         351   0.00\n",
       "3                       126.18                    33.30        1070   0.01\n",
       "4                       126.18                    33.30         533   0.00\n",
       "...                        ...                      ...         ...    ...\n",
       "5458                    126.80                    33.39           2   0.00\n",
       "5459                    126.82                    33.54         112   0.00\n",
       "5460                    126.37                    33.45           2   0.00\n",
       "5461                    126.68                    33.49           8   0.00\n",
       "5462                    126.43                    33.26           1   0.00\n",
       "\n",
       "[5463 rows x 4 columns]"
      ]
     },
     "execution_count": 73,
     "metadata": {},
     "output_type": "execute_result"
    }
   ],
   "source": [
    "# 하차 정류장 기준 위도, 경도, 유저 수  \n",
    "getoff_df = tourist_df[[\"getoff_station_longitude\", \"getoff_station_latitude\", \"user_count\"]]\n",
    "# 하차 정류장 기준으로 유저 수를 sum -> 정류장 사용량을 보려고 \n",
    "getoff_df = getoff_df.groupby([\"getoff_station_longitude\", \"getoff_station_latitude\"]).sum().reset_index()\n",
    "getoff_df[\"scale\"] = getoff_df[\"user_count\"] / getoff_df[\"user_count\"].max()\n",
    "getoff_df.compute()"
   ]
  },
  {
   "cell_type": "code",
   "execution_count": 75,
   "id": "e61fb460",
   "metadata": {},
   "outputs": [
    {
     "name": "stdout",
     "output_type": "stream",
     "text": [
      "[########################################] | 100% Completed | 10min  6.9s\n"
     ]
    }
   ],
   "source": [
    "#geton_df.compute().to_csv(\"data/tourist_geton.csv\", encoding=\"utf-8-sig\", index=False)"
   ]
  },
  {
   "cell_type": "code",
   "execution_count": 76,
   "id": "0bd786b2",
   "metadata": {},
   "outputs": [
    {
     "name": "stdout",
     "output_type": "stream",
     "text": [
      "[########################################] | 100% Completed |  9min 32.4s\n"
     ]
    }
   ],
   "source": [
    "#getoff_df.compute().to_csv(\"data/tourist_getoff.csv\", encoding=\"utf-8-sig\", index=False)"
   ]
  },
  {
   "cell_type": "code",
   "execution_count": 90,
   "id": "bb2636e3",
   "metadata": {},
   "outputs": [
    {
     "name": "stdout",
     "output_type": "stream",
     "text": [
      "[########################################] | 100% Completed |  4min  0.3s\n"
     ]
    }
   ],
   "source": [
    "\n",
    "#inplace : bool, default False  (Not supported in Dask) Whether to return a new DataFrame. If True then value of copy isignored.\n",
    "# 도민 - 승차 정류장 기준 위도, 경도, 유저 수  \n",
    "geton_df_city = jeju_df[[\"geton_station_longitude\", \"geton_station_latitude\", \"user_count\"]]\n",
    "# 승차 정류장 기준으로 유저 수를 sum -> 정류장 사용량을 보려고 \n",
    "\n",
    "geton_df_city = geton_df_city.groupby([\"geton_station_longitude\", \"geton_station_latitude\"]).sum().reset_index()\n",
    "# 사용량에 따라 색깔 변화를 주기 위한 값(0~1로 스케일링)\n",
    "geton_df_city[\"scale\"] = geton_df_city[\"user_count\"] / geton_df_city[\"user_count\"].max()\n",
    "#geton_df_city.compute().to_csv(\"data/citizen_geton.csv\", encoding=\"utf-8-sig\", index=False)"
   ]
  },
  {
   "cell_type": "code",
   "execution_count": 91,
   "id": "483a9d73",
   "metadata": {},
   "outputs": [
    {
     "name": "stdout",
     "output_type": "stream",
     "text": [
      "[########################################] | 100% Completed |  4min  1.1s\n"
     ]
    },
    {
     "data": {
      "text/html": [
       "<div>\n",
       "<style scoped>\n",
       "    .dataframe tbody tr th:only-of-type {\n",
       "        vertical-align: middle;\n",
       "    }\n",
       "\n",
       "    .dataframe tbody tr th {\n",
       "        vertical-align: top;\n",
       "    }\n",
       "\n",
       "    .dataframe thead th {\n",
       "        text-align: right;\n",
       "    }\n",
       "</style>\n",
       "<table border=\"1\" class=\"dataframe\">\n",
       "  <thead>\n",
       "    <tr style=\"text-align: right;\">\n",
       "      <th></th>\n",
       "      <th>geton_station_longitude</th>\n",
       "      <th>geton_station_latitude</th>\n",
       "      <th>user_count</th>\n",
       "      <th>scale</th>\n",
       "    </tr>\n",
       "  </thead>\n",
       "  <tbody>\n",
       "    <tr>\n",
       "      <th>0</th>\n",
       "      <td>126.16</td>\n",
       "      <td>33.31</td>\n",
       "      <td>369</td>\n",
       "      <td>0.00</td>\n",
       "    </tr>\n",
       "    <tr>\n",
       "      <th>1</th>\n",
       "      <td>126.17</td>\n",
       "      <td>33.29</td>\n",
       "      <td>79</td>\n",
       "      <td>0.00</td>\n",
       "    </tr>\n",
       "    <tr>\n",
       "      <th>2</th>\n",
       "      <td>126.17</td>\n",
       "      <td>33.33</td>\n",
       "      <td>454</td>\n",
       "      <td>0.00</td>\n",
       "    </tr>\n",
       "    <tr>\n",
       "      <th>3</th>\n",
       "      <td>126.17</td>\n",
       "      <td>33.28</td>\n",
       "      <td>209</td>\n",
       "      <td>0.00</td>\n",
       "    </tr>\n",
       "    <tr>\n",
       "      <th>4</th>\n",
       "      <td>126.18</td>\n",
       "      <td>33.28</td>\n",
       "      <td>164</td>\n",
       "      <td>0.00</td>\n",
       "    </tr>\n",
       "  </tbody>\n",
       "</table>\n",
       "</div>"
      ],
      "text/plain": [
       "   geton_station_longitude  geton_station_latitude  user_count  scale\n",
       "0                   126.16                   33.31         369   0.00\n",
       "1                   126.17                   33.29          79   0.00\n",
       "2                   126.17                   33.33         454   0.00\n",
       "3                   126.17                   33.28         209   0.00\n",
       "4                   126.18                   33.28         164   0.00"
      ]
     },
     "execution_count": 91,
     "metadata": {},
     "output_type": "execute_result"
    }
   ],
   "source": [
    "geton_df_city.head()"
   ]
  },
  {
   "cell_type": "code",
   "execution_count": 93,
   "id": "36c606aa",
   "metadata": {},
   "outputs": [
    {
     "name": "stdout",
     "output_type": "stream",
     "text": [
      "[########################################] | 100% Completed |  4min  0.5s\n"
     ]
    }
   ],
   "source": [
    "# 하차 정류장 기준 위도, 경도, 유저 수  \n",
    "getoff_df_city = jeju_df[[\"getoff_station_longitude\", \"getoff_station_latitude\", \"user_count\"]]\n",
    "# 하차 정류장 기준으로 유저 수를 sum -> 정류장 사용량을 보려고 \n",
    "getoff_df_city = getoff_df_city.groupby([\"getoff_station_longitude\", \"getoff_station_latitude\"]).sum().reset_index()\n",
    "getoff_df_city[\"scale\"] = getoff_df_city[\"user_count\"] / getoff_df_city[\"user_count\"].max()\n",
    "#getoff_df_city.compute().to_csv(\"data/citizen_getoff.csv\", encoding=\"utf-8-sig\", index=False)"
   ]
  },
  {
   "cell_type": "code",
   "execution_count": 94,
   "id": "c3fa26f1",
   "metadata": {},
   "outputs": [
    {
     "name": "stdout",
     "output_type": "stream",
     "text": [
      "[########################################] | 100% Completed |  4min 11.9s\n"
     ]
    },
    {
     "data": {
      "text/html": [
       "<div>\n",
       "<style scoped>\n",
       "    .dataframe tbody tr th:only-of-type {\n",
       "        vertical-align: middle;\n",
       "    }\n",
       "\n",
       "    .dataframe tbody tr th {\n",
       "        vertical-align: top;\n",
       "    }\n",
       "\n",
       "    .dataframe thead th {\n",
       "        text-align: right;\n",
       "    }\n",
       "</style>\n",
       "<table border=\"1\" class=\"dataframe\">\n",
       "  <thead>\n",
       "    <tr style=\"text-align: right;\">\n",
       "      <th></th>\n",
       "      <th>getoff_station_longitude</th>\n",
       "      <th>getoff_station_latitude</th>\n",
       "      <th>user_count</th>\n",
       "      <th>scale</th>\n",
       "    </tr>\n",
       "  </thead>\n",
       "  <tbody>\n",
       "    <tr>\n",
       "      <th>0</th>\n",
       "      <td>126.16</td>\n",
       "      <td>33.31</td>\n",
       "      <td>176</td>\n",
       "      <td>0.00</td>\n",
       "    </tr>\n",
       "    <tr>\n",
       "      <th>1</th>\n",
       "      <td>126.17</td>\n",
       "      <td>33.32</td>\n",
       "      <td>267</td>\n",
       "      <td>0.00</td>\n",
       "    </tr>\n",
       "    <tr>\n",
       "      <th>2</th>\n",
       "      <td>126.17</td>\n",
       "      <td>33.28</td>\n",
       "      <td>35</td>\n",
       "      <td>0.00</td>\n",
       "    </tr>\n",
       "    <tr>\n",
       "      <th>3</th>\n",
       "      <td>126.18</td>\n",
       "      <td>33.28</td>\n",
       "      <td>56</td>\n",
       "      <td>0.00</td>\n",
       "    </tr>\n",
       "    <tr>\n",
       "      <th>4</th>\n",
       "      <td>126.18</td>\n",
       "      <td>33.28</td>\n",
       "      <td>18</td>\n",
       "      <td>0.00</td>\n",
       "    </tr>\n",
       "  </tbody>\n",
       "</table>\n",
       "</div>"
      ],
      "text/plain": [
       "   getoff_station_longitude  getoff_station_latitude  user_count  scale\n",
       "0                    126.16                    33.31         176   0.00\n",
       "1                    126.17                    33.32         267   0.00\n",
       "2                    126.17                    33.28          35   0.00\n",
       "3                    126.18                    33.28          56   0.00\n",
       "4                    126.18                    33.28          18   0.00"
      ]
     },
     "execution_count": 94,
     "metadata": {},
     "output_type": "execute_result"
    }
   ],
   "source": [
    "getoff_df_city.head()"
   ]
  },
  {
   "cell_type": "code",
   "execution_count": 110,
   "id": "fa8ea8cb",
   "metadata": {},
   "outputs": [],
   "source": [
    "#1일전 공항에서 버스에 탑승한 사람 수의 컬럼 추가 \n",
    "airport_1dayago = list(reg_df[\"airportbususer\"])\n",
    "airport_1dayago.insert(0, 0)\n",
    "airport_1dayago = airport_1dayago[:-1]"
   ]
  },
  {
   "cell_type": "code",
   "execution_count": 113,
   "id": "7f8ba3c1",
   "metadata": {},
   "outputs": [],
   "source": [
    "#2일전 공항에서 버스에 탑승한 사람 수의 컬럼 추가 \n",
    "airport_2dayago = list(reg_df[\"airportbususer\"])\n",
    "airport_2dayago.insert(0, 0)\n",
    "airport_2dayago.insert(0, 0)\n",
    "airport_2dayago = airport_2dayago[:-2]"
   ]
  },
  {
   "cell_type": "code",
   "execution_count": 115,
   "id": "e411bd9b",
   "metadata": {},
   "outputs": [],
   "source": [
    "reg_df[\"airport_-1\"] = airport_1dayago\n",
    "reg_df[\"airport_-2\"] = airport_2dayago\n",
    "\n"
   ]
  },
  {
   "cell_type": "code",
   "execution_count": 116,
   "id": "7ff03ebc",
   "metadata": {},
   "outputs": [
    {
     "data": {
      "text/html": [
       "<div>\n",
       "<style scoped>\n",
       "    .dataframe tbody tr th:only-of-type {\n",
       "        vertical-align: middle;\n",
       "    }\n",
       "\n",
       "    .dataframe tbody tr th {\n",
       "        vertical-align: top;\n",
       "    }\n",
       "\n",
       "    .dataframe thead th {\n",
       "        text-align: right;\n",
       "    }\n",
       "</style>\n",
       "<table border=\"1\" class=\"dataframe\">\n",
       "  <thead>\n",
       "    <tr style=\"text-align: right;\">\n",
       "      <th></th>\n",
       "      <th>base_date</th>\n",
       "      <th>airportbususer</th>\n",
       "      <th>tourist</th>\n",
       "      <th>citizen</th>\n",
       "      <th>airport_-1</th>\n",
       "      <th>airport_-2</th>\n",
       "    </tr>\n",
       "  </thead>\n",
       "  <tbody>\n",
       "    <tr>\n",
       "      <th>0</th>\n",
       "      <td>20180701</td>\n",
       "      <td>3910</td>\n",
       "      <td>2996</td>\n",
       "      <td>5480</td>\n",
       "      <td>0</td>\n",
       "      <td>0</td>\n",
       "    </tr>\n",
       "    <tr>\n",
       "      <th>1</th>\n",
       "      <td>20180702</td>\n",
       "      <td>4209</td>\n",
       "      <td>4622</td>\n",
       "      <td>10542</td>\n",
       "      <td>3910</td>\n",
       "      <td>0</td>\n",
       "    </tr>\n",
       "    <tr>\n",
       "      <th>2</th>\n",
       "      <td>20180703</td>\n",
       "      <td>3763</td>\n",
       "      <td>4481</td>\n",
       "      <td>9084</td>\n",
       "      <td>4209</td>\n",
       "      <td>3910</td>\n",
       "    </tr>\n",
       "    <tr>\n",
       "      <th>3</th>\n",
       "      <td>20180704</td>\n",
       "      <td>4472</td>\n",
       "      <td>5666</td>\n",
       "      <td>11422</td>\n",
       "      <td>3763</td>\n",
       "      <td>4209</td>\n",
       "    </tr>\n",
       "    <tr>\n",
       "      <th>4</th>\n",
       "      <td>20180705</td>\n",
       "      <td>3708</td>\n",
       "      <td>5062</td>\n",
       "      <td>10958</td>\n",
       "      <td>4472</td>\n",
       "      <td>3763</td>\n",
       "    </tr>\n",
       "  </tbody>\n",
       "</table>\n",
       "</div>"
      ],
      "text/plain": [
       "  base_date  airportbususer  tourist  citizen  airport_-1  airport_-2\n",
       "0  20180701            3910     2996     5480           0           0\n",
       "1  20180702            4209     4622    10542        3910           0\n",
       "2  20180703            3763     4481     9084        4209        3910\n",
       "3  20180704            4472     5666    11422        3763        4209\n",
       "4  20180705            3708     5062    10958        4472        3763"
      ]
     },
     "execution_count": 116,
     "metadata": {},
     "output_type": "execute_result"
    }
   ],
   "source": [
    "reg_df.head()"
   ]
  },
  {
   "cell_type": "code",
   "execution_count": 122,
   "id": "02af87cf",
   "metadata": {},
   "outputs": [
    {
     "data": {
      "text/html": [
       "<table class=\"simpletable\">\n",
       "<caption>OLS Regression Results</caption>\n",
       "<tr>\n",
       "  <th>Dep. Variable:</th>         <td>tourist</td>     <th>  R-squared:         </th> <td>   0.295</td>\n",
       "</tr>\n",
       "<tr>\n",
       "  <th>Model:</th>                   <td>OLS</td>       <th>  Adj. R-squared:    </th> <td>   0.294</td>\n",
       "</tr>\n",
       "<tr>\n",
       "  <th>Method:</th>             <td>Least Squares</td>  <th>  F-statistic:       </th> <td>   158.5</td>\n",
       "</tr>\n",
       "<tr>\n",
       "  <th>Date:</th>             <td>Mon, 17 May 2021</td> <th>  Prob (F-statistic):</th> <td>1.34e-30</td>\n",
       "</tr>\n",
       "<tr>\n",
       "  <th>Time:</th>                 <td>18:44:29</td>     <th>  Log-Likelihood:    </th> <td> -3123.3</td>\n",
       "</tr>\n",
       "<tr>\n",
       "  <th>No. Observations:</th>      <td>   380</td>      <th>  AIC:               </th> <td>   6251.</td>\n",
       "</tr>\n",
       "<tr>\n",
       "  <th>Df Residuals:</th>          <td>   378</td>      <th>  BIC:               </th> <td>   6258.</td>\n",
       "</tr>\n",
       "<tr>\n",
       "  <th>Df Model:</th>              <td>     1</td>      <th>                     </th>     <td> </td>   \n",
       "</tr>\n",
       "<tr>\n",
       "  <th>Covariance Type:</th>      <td>nonrobust</td>    <th>                     </th>     <td> </td>   \n",
       "</tr>\n",
       "</table>\n",
       "<table class=\"simpletable\">\n",
       "<tr>\n",
       "         <td></td>           <th>coef</th>     <th>std err</th>      <th>t</th>      <th>P>|t|</th>  <th>[0.025</th>    <th>0.975]</th>  \n",
       "</tr>\n",
       "<tr>\n",
       "  <th>const</th>          <td> 1040.6450</td> <td>  183.758</td> <td>    5.663</td> <td> 0.000</td> <td>  679.330</td> <td> 1401.960</td>\n",
       "</tr>\n",
       "<tr>\n",
       "  <th>airportbususer</th> <td>    0.4797</td> <td>    0.038</td> <td>   12.591</td> <td> 0.000</td> <td>    0.405</td> <td>    0.555</td>\n",
       "</tr>\n",
       "</table>\n",
       "<table class=\"simpletable\">\n",
       "<tr>\n",
       "  <th>Omnibus:</th>       <td> 9.694</td> <th>  Durbin-Watson:     </th> <td>   2.074</td>\n",
       "</tr>\n",
       "<tr>\n",
       "  <th>Prob(Omnibus):</th> <td> 0.008</td> <th>  Jarque-Bera (JB):  </th> <td>  10.076</td>\n",
       "</tr>\n",
       "<tr>\n",
       "  <th>Skew:</th>          <td> 0.387</td> <th>  Prob(JB):          </th> <td> 0.00649</td>\n",
       "</tr>\n",
       "<tr>\n",
       "  <th>Kurtosis:</th>      <td> 2.806</td> <th>  Cond. No.          </th> <td>1.92e+04</td>\n",
       "</tr>\n",
       "</table><br/><br/>Notes:<br/>[1] Standard Errors assume that the covariance matrix of the errors is correctly specified.<br/>[2] The condition number is large, 1.92e+04. This might indicate that there are<br/>strong multicollinearity or other numerical problems."
      ],
      "text/plain": [
       "<class 'statsmodels.iolib.summary.Summary'>\n",
       "\"\"\"\n",
       "                            OLS Regression Results                            \n",
       "==============================================================================\n",
       "Dep. Variable:                tourist   R-squared:                       0.295\n",
       "Model:                            OLS   Adj. R-squared:                  0.294\n",
       "Method:                 Least Squares   F-statistic:                     158.5\n",
       "Date:                Mon, 17 May 2021   Prob (F-statistic):           1.34e-30\n",
       "Time:                        18:44:29   Log-Likelihood:                -3123.3\n",
       "No. Observations:                 380   AIC:                             6251.\n",
       "Df Residuals:                     378   BIC:                             6258.\n",
       "Df Model:                           1                                         \n",
       "Covariance Type:            nonrobust                                         \n",
       "==================================================================================\n",
       "                     coef    std err          t      P>|t|      [0.025      0.975]\n",
       "----------------------------------------------------------------------------------\n",
       "const           1040.6450    183.758      5.663      0.000     679.330    1401.960\n",
       "airportbususer     0.4797      0.038     12.591      0.000       0.405       0.555\n",
       "==============================================================================\n",
       "Omnibus:                        9.694   Durbin-Watson:                   2.074\n",
       "Prob(Omnibus):                  0.008   Jarque-Bera (JB):               10.076\n",
       "Skew:                           0.387   Prob(JB):                      0.00649\n",
       "Kurtosis:                       2.806   Cond. No.                     1.92e+04\n",
       "==============================================================================\n",
       "\n",
       "Notes:\n",
       "[1] Standard Errors assume that the covariance matrix of the errors is correctly specified.\n",
       "[2] The condition number is large, 1.92e+04. This might indicate that there are\n",
       "strong multicollinearity or other numerical problems.\n",
       "\"\"\""
      ]
     },
     "execution_count": 122,
     "metadata": {},
     "output_type": "execute_result"
    }
   ],
   "source": [
    "# OLS - columns : 공항에서 승차한 사람 \n",
    "X = reg_df.iloc[2:,:][\"airportbususer\"]\n",
    "X_add = sm.add_constant(X, has_constant = \"add\") \n",
    "y = reg_df.iloc[2:,:][\"tourist\"]\n",
    "X_train, X_test, y_train, y_test = train_test_split(X_add, y, \n",
    "                                                   test_size = 0.3, \n",
    "                                                   random_state = 13)\n",
    "\n",
    "lm = sm.OLS(y_train, X_train).fit()\n",
    "lm.summary()"
   ]
  },
  {
   "cell_type": "code",
   "execution_count": 123,
   "id": "9df1f1e5",
   "metadata": {},
   "outputs": [
    {
     "data": {
      "text/plain": [
       "898.8863751793878"
      ]
     },
     "execution_count": 123,
     "metadata": {},
     "output_type": "execute_result"
    }
   ],
   "source": [
    "y_pred = lm.predict(X_test)\n",
    "mean_squared_error(y_test, y_pred, squared=False)"
   ]
  },
  {
   "cell_type": "code",
   "execution_count": 124,
   "id": "83e16e8a",
   "metadata": {},
   "outputs": [
    {
     "data": {
      "text/html": [
       "<table class=\"simpletable\">\n",
       "<caption>OLS Regression Results</caption>\n",
       "<tr>\n",
       "  <th>Dep. Variable:</th>         <td>tourist</td>     <th>  R-squared:         </th> <td>   0.349</td>\n",
       "</tr>\n",
       "<tr>\n",
       "  <th>Model:</th>                   <td>OLS</td>       <th>  Adj. R-squared:    </th> <td>   0.343</td>\n",
       "</tr>\n",
       "<tr>\n",
       "  <th>Method:</th>             <td>Least Squares</td>  <th>  F-statistic:       </th> <td>   67.09</td>\n",
       "</tr>\n",
       "<tr>\n",
       "  <th>Date:</th>             <td>Mon, 17 May 2021</td> <th>  Prob (F-statistic):</th> <td>9.09e-35</td>\n",
       "</tr>\n",
       "<tr>\n",
       "  <th>Time:</th>                 <td>18:44:35</td>     <th>  Log-Likelihood:    </th> <td> -3108.4</td>\n",
       "</tr>\n",
       "<tr>\n",
       "  <th>No. Observations:</th>      <td>   380</td>      <th>  AIC:               </th> <td>   6225.</td>\n",
       "</tr>\n",
       "<tr>\n",
       "  <th>Df Residuals:</th>          <td>   376</td>      <th>  BIC:               </th> <td>   6241.</td>\n",
       "</tr>\n",
       "<tr>\n",
       "  <th>Df Model:</th>              <td>     3</td>      <th>                     </th>     <td> </td>   \n",
       "</tr>\n",
       "<tr>\n",
       "  <th>Covariance Type:</th>      <td>nonrobust</td>    <th>                     </th>     <td> </td>   \n",
       "</tr>\n",
       "</table>\n",
       "<table class=\"simpletable\">\n",
       "<tr>\n",
       "         <td></td>           <th>coef</th>     <th>std err</th>      <th>t</th>      <th>P>|t|</th>  <th>[0.025</th>    <th>0.975]</th>  \n",
       "</tr>\n",
       "<tr>\n",
       "  <th>const</th>          <td>  480.2015</td> <td>  213.576</td> <td>    2.248</td> <td> 0.025</td> <td>   60.249</td> <td>  900.154</td>\n",
       "</tr>\n",
       "<tr>\n",
       "  <th>airportbususer</th> <td>    0.3310</td> <td>    0.047</td> <td>    7.091</td> <td> 0.000</td> <td>    0.239</td> <td>    0.423</td>\n",
       "</tr>\n",
       "<tr>\n",
       "  <th>airport_-1</th>     <td>    0.2036</td> <td>    0.055</td> <td>    3.688</td> <td> 0.000</td> <td>    0.095</td> <td>    0.312</td>\n",
       "</tr>\n",
       "<tr>\n",
       "  <th>airport_-2</th>     <td>    0.0654</td> <td>    0.046</td> <td>    1.416</td> <td> 0.158</td> <td>   -0.025</td> <td>    0.156</td>\n",
       "</tr>\n",
       "</table>\n",
       "<table class=\"simpletable\">\n",
       "<tr>\n",
       "  <th>Omnibus:</th>       <td>12.191</td> <th>  Durbin-Watson:     </th> <td>   2.042</td>\n",
       "</tr>\n",
       "<tr>\n",
       "  <th>Prob(Omnibus):</th> <td> 0.002</td> <th>  Jarque-Bera (JB):  </th> <td>  12.897</td>\n",
       "</tr>\n",
       "<tr>\n",
       "  <th>Skew:</th>          <td> 0.444</td> <th>  Prob(JB):          </th> <td> 0.00158</td>\n",
       "</tr>\n",
       "<tr>\n",
       "  <th>Kurtosis:</th>      <td> 2.838</td> <th>  Cond. No.          </th> <td>3.96e+04</td>\n",
       "</tr>\n",
       "</table><br/><br/>Notes:<br/>[1] Standard Errors assume that the covariance matrix of the errors is correctly specified.<br/>[2] The condition number is large, 3.96e+04. This might indicate that there are<br/>strong multicollinearity or other numerical problems."
      ],
      "text/plain": [
       "<class 'statsmodels.iolib.summary.Summary'>\n",
       "\"\"\"\n",
       "                            OLS Regression Results                            \n",
       "==============================================================================\n",
       "Dep. Variable:                tourist   R-squared:                       0.349\n",
       "Model:                            OLS   Adj. R-squared:                  0.343\n",
       "Method:                 Least Squares   F-statistic:                     67.09\n",
       "Date:                Mon, 17 May 2021   Prob (F-statistic):           9.09e-35\n",
       "Time:                        18:44:35   Log-Likelihood:                -3108.4\n",
       "No. Observations:                 380   AIC:                             6225.\n",
       "Df Residuals:                     376   BIC:                             6241.\n",
       "Df Model:                           3                                         \n",
       "Covariance Type:            nonrobust                                         \n",
       "==================================================================================\n",
       "                     coef    std err          t      P>|t|      [0.025      0.975]\n",
       "----------------------------------------------------------------------------------\n",
       "const            480.2015    213.576      2.248      0.025      60.249     900.154\n",
       "airportbususer     0.3310      0.047      7.091      0.000       0.239       0.423\n",
       "airport_-1         0.2036      0.055      3.688      0.000       0.095       0.312\n",
       "airport_-2         0.0654      0.046      1.416      0.158      -0.025       0.156\n",
       "==============================================================================\n",
       "Omnibus:                       12.191   Durbin-Watson:                   2.042\n",
       "Prob(Omnibus):                  0.002   Jarque-Bera (JB):               12.897\n",
       "Skew:                           0.444   Prob(JB):                      0.00158\n",
       "Kurtosis:                       2.838   Cond. No.                     3.96e+04\n",
       "==============================================================================\n",
       "\n",
       "Notes:\n",
       "[1] Standard Errors assume that the covariance matrix of the errors is correctly specified.\n",
       "[2] The condition number is large, 3.96e+04. This might indicate that there are\n",
       "strong multicollinearity or other numerical problems.\n",
       "\"\"\""
      ]
     },
     "execution_count": 124,
     "metadata": {},
     "output_type": "execute_result"
    }
   ],
   "source": [
    "# OLS - columns : 공항에서 승차한 사람 / 공항에서 하루 전 승차한 사람 / 공항에서 2일 전 승차한 사람\n",
    "X = reg_df.iloc[2:,:][[\"airportbususer\", \"airport_-1\", \"airport_-2\"]]\n",
    "X_add = sm.add_constant(X, has_constant = \"add\") \n",
    "y = reg_df.iloc[2:,:][\"tourist\"]\n",
    "X_train, X_test, y_train, y_test = train_test_split(X_add, y, \n",
    "                                                   test_size = 0.3, \n",
    "                                                   random_state = 13)\n",
    "\n",
    "lm = sm.OLS(y_train, X_train).fit()\n",
    "lm.summary()"
   ]
  },
  {
   "cell_type": "code",
   "execution_count": 125,
   "id": "db31c8fe",
   "metadata": {},
   "outputs": [
    {
     "data": {
      "text/plain": [
       "855.8135706599842"
      ]
     },
     "execution_count": 125,
     "metadata": {},
     "output_type": "execute_result"
    }
   ],
   "source": [
    "y_pred = lm.predict(X_test)\n",
    "mean_squared_error(y_test, y_pred, squared=False)"
   ]
  },
  {
   "cell_type": "code",
   "execution_count": 126,
   "id": "fa2fa19e",
   "metadata": {},
   "outputs": [],
   "source": [
    "#요일 부여 함수 \n",
    "def daychanger(date) :\n",
    "    days = [\"mon\", \"tue\", \"wed\", \"thu\", \"fri\", \"sat\", \"sun\"]\n",
    "    \n",
    "    day_num = datetime.date(int(date.strftime(\"%Y\")),\n",
    "                         int(date.strftime(\"%m\")),\n",
    "                         int(date.strftime(\"%d\"))).weekday()\n",
    "    return days[day_num]"
   ]
  },
  {
   "cell_type": "code",
   "execution_count": 153,
   "id": "28da8c94",
   "metadata": {},
   "outputs": [],
   "source": [
    "reg_df[\"base_date\"] = reg_df[\"base_date\"].astype(str)\n",
    "reg_df[\"base_day\"] = pd.to_datetime(reg_df[\"base_date\"])\n",
    "reg_df[\"base_day\"] = reg_df[\"base_day\"].apply(daychanger)\n",
    "reg_df[\"base_day\"] = reg_df[\"base_day\"].apply(lambda x : 1 if (x == \"sun\") | (x == \"sat\") else 0) "
   ]
  },
  {
   "cell_type": "code",
   "execution_count": 147,
   "id": "56c10bd6",
   "metadata": {},
   "outputs": [
    {
     "data": {
      "text/html": [
       "<div>\n",
       "<style scoped>\n",
       "    .dataframe tbody tr th:only-of-type {\n",
       "        vertical-align: middle;\n",
       "    }\n",
       "\n",
       "    .dataframe tbody tr th {\n",
       "        vertical-align: top;\n",
       "    }\n",
       "\n",
       "    .dataframe thead th {\n",
       "        text-align: right;\n",
       "    }\n",
       "</style>\n",
       "<table border=\"1\" class=\"dataframe\">\n",
       "  <thead>\n",
       "    <tr style=\"text-align: right;\">\n",
       "      <th></th>\n",
       "      <th>base_date</th>\n",
       "      <th>airportbususer</th>\n",
       "      <th>tourist</th>\n",
       "      <th>citizen</th>\n",
       "      <th>airport_-1</th>\n",
       "      <th>airport_-2</th>\n",
       "      <th>base_day</th>\n",
       "    </tr>\n",
       "  </thead>\n",
       "  <tbody>\n",
       "    <tr>\n",
       "      <th>0</th>\n",
       "      <td>20180701</td>\n",
       "      <td>3910</td>\n",
       "      <td>2996</td>\n",
       "      <td>5480</td>\n",
       "      <td>0</td>\n",
       "      <td>0</td>\n",
       "      <td>sun</td>\n",
       "    </tr>\n",
       "    <tr>\n",
       "      <th>1</th>\n",
       "      <td>20180702</td>\n",
       "      <td>4209</td>\n",
       "      <td>4622</td>\n",
       "      <td>10542</td>\n",
       "      <td>3910</td>\n",
       "      <td>0</td>\n",
       "      <td>mon</td>\n",
       "    </tr>\n",
       "    <tr>\n",
       "      <th>2</th>\n",
       "      <td>20180703</td>\n",
       "      <td>3763</td>\n",
       "      <td>4481</td>\n",
       "      <td>9084</td>\n",
       "      <td>4209</td>\n",
       "      <td>3910</td>\n",
       "      <td>tue</td>\n",
       "    </tr>\n",
       "    <tr>\n",
       "      <th>3</th>\n",
       "      <td>20180704</td>\n",
       "      <td>4472</td>\n",
       "      <td>5666</td>\n",
       "      <td>11422</td>\n",
       "      <td>3763</td>\n",
       "      <td>4209</td>\n",
       "      <td>wed</td>\n",
       "    </tr>\n",
       "    <tr>\n",
       "      <th>4</th>\n",
       "      <td>20180705</td>\n",
       "      <td>3708</td>\n",
       "      <td>5062</td>\n",
       "      <td>10958</td>\n",
       "      <td>4472</td>\n",
       "      <td>3763</td>\n",
       "      <td>thu</td>\n",
       "    </tr>\n",
       "  </tbody>\n",
       "</table>\n",
       "</div>"
      ],
      "text/plain": [
       "  base_date  airportbususer  tourist  citizen  airport_-1  airport_-2 base_day\n",
       "0  20180701            3910     2996     5480           0           0      sun\n",
       "1  20180702            4209     4622    10542        3910           0      mon\n",
       "2  20180703            3763     4481     9084        4209        3910      tue\n",
       "3  20180704            4472     5666    11422        3763        4209      wed\n",
       "4  20180705            3708     5062    10958        4472        3763      thu"
      ]
     },
     "execution_count": 147,
     "metadata": {},
     "output_type": "execute_result"
    }
   ],
   "source": [
    "reg_df.head()"
   ]
  },
  {
   "cell_type": "code",
   "execution_count": 151,
   "id": "cc13ca58",
   "metadata": {},
   "outputs": [],
   "source": [
    "reg_df_concat = pd.concat([reg_df, pd.get_dummies(reg_df[\"base_day\"])], axis=1)"
   ]
  },
  {
   "cell_type": "code",
   "execution_count": 156,
   "id": "428c4cb6",
   "metadata": {},
   "outputs": [
    {
     "data": {
      "text/html": [
       "<table class=\"simpletable\">\n",
       "<caption>OLS Regression Results</caption>\n",
       "<tr>\n",
       "  <th>Dep. Variable:</th>         <td>tourist</td>     <th>  R-squared:         </th> <td>   0.457</td>\n",
       "</tr>\n",
       "<tr>\n",
       "  <th>Model:</th>                   <td>OLS</td>       <th>  Adj. R-squared:    </th> <td>   0.443</td>\n",
       "</tr>\n",
       "<tr>\n",
       "  <th>Method:</th>             <td>Least Squares</td>  <th>  F-statistic:       </th> <td>   34.55</td>\n",
       "</tr>\n",
       "<tr>\n",
       "  <th>Date:</th>             <td>Mon, 17 May 2021</td> <th>  Prob (F-statistic):</th> <td>5.01e-44</td>\n",
       "</tr>\n",
       "<tr>\n",
       "  <th>Time:</th>                 <td>19:43:16</td>     <th>  Log-Likelihood:    </th> <td> -3073.9</td>\n",
       "</tr>\n",
       "<tr>\n",
       "  <th>No. Observations:</th>      <td>   380</td>      <th>  AIC:               </th> <td>   6168.</td>\n",
       "</tr>\n",
       "<tr>\n",
       "  <th>Df Residuals:</th>          <td>   370</td>      <th>  BIC:               </th> <td>   6207.</td>\n",
       "</tr>\n",
       "<tr>\n",
       "  <th>Df Model:</th>              <td>     9</td>      <th>                     </th>     <td> </td>   \n",
       "</tr>\n",
       "<tr>\n",
       "  <th>Covariance Type:</th>      <td>nonrobust</td>    <th>                     </th>     <td> </td>   \n",
       "</tr>\n",
       "</table>\n",
       "<table class=\"simpletable\">\n",
       "<tr>\n",
       "         <td></td>           <th>coef</th>     <th>std err</th>      <th>t</th>      <th>P>|t|</th>  <th>[0.025</th>    <th>0.975]</th>  \n",
       "</tr>\n",
       "<tr>\n",
       "  <th>const</th>          <td>  539.0164</td> <td>  176.184</td> <td>    3.059</td> <td> 0.002</td> <td>  192.569</td> <td>  885.464</td>\n",
       "</tr>\n",
       "<tr>\n",
       "  <th>airportbususer</th> <td>    0.4763</td> <td>    0.048</td> <td>    9.897</td> <td> 0.000</td> <td>    0.382</td> <td>    0.571</td>\n",
       "</tr>\n",
       "<tr>\n",
       "  <th>airport_-1</th>     <td>    0.0521</td> <td>    0.060</td> <td>    0.864</td> <td> 0.388</td> <td>   -0.067</td> <td>    0.171</td>\n",
       "</tr>\n",
       "<tr>\n",
       "  <th>airport_-2</th>     <td>    0.0457</td> <td>    0.048</td> <td>    0.947</td> <td> 0.344</td> <td>   -0.049</td> <td>    0.141</td>\n",
       "</tr>\n",
       "<tr>\n",
       "  <th>sat</th>            <td>    3.4733</td> <td>  101.474</td> <td>    0.034</td> <td> 0.973</td> <td> -196.064</td> <td>  203.011</td>\n",
       "</tr>\n",
       "<tr>\n",
       "  <th>sun</th>            <td> -764.2263</td> <td>  113.518</td> <td>   -6.732</td> <td> 0.000</td> <td> -987.448</td> <td> -541.004</td>\n",
       "</tr>\n",
       "<tr>\n",
       "  <th>mon</th>            <td>  -32.9652</td> <td>  118.463</td> <td>   -0.278</td> <td> 0.781</td> <td> -265.911</td> <td>  199.980</td>\n",
       "</tr>\n",
       "<tr>\n",
       "  <th>tue</th>            <td>  216.8149</td> <td>  105.976</td> <td>    2.046</td> <td> 0.041</td> <td>    8.423</td> <td>  425.206</td>\n",
       "</tr>\n",
       "<tr>\n",
       "  <th>wed</th>            <td>  331.7490</td> <td>  104.137</td> <td>    3.186</td> <td> 0.002</td> <td>  126.974</td> <td>  536.524</td>\n",
       "</tr>\n",
       "<tr>\n",
       "  <th>thu</th>            <td>  284.7546</td> <td>  113.107</td> <td>    2.518</td> <td> 0.012</td> <td>   62.342</td> <td>  507.167</td>\n",
       "</tr>\n",
       "<tr>\n",
       "  <th>fri</th>            <td>  499.4160</td> <td>  107.248</td> <td>    4.657</td> <td> 0.000</td> <td>  288.524</td> <td>  710.308</td>\n",
       "</tr>\n",
       "</table>\n",
       "<table class=\"simpletable\">\n",
       "<tr>\n",
       "  <th>Omnibus:</th>       <td>12.322</td> <th>  Durbin-Watson:     </th> <td>   2.030</td>\n",
       "</tr>\n",
       "<tr>\n",
       "  <th>Prob(Omnibus):</th> <td> 0.002</td> <th>  Jarque-Bera (JB):  </th> <td>  12.259</td>\n",
       "</tr>\n",
       "<tr>\n",
       "  <th>Skew:</th>          <td> 0.404</td> <th>  Prob(JB):          </th> <td> 0.00218</td>\n",
       "</tr>\n",
       "<tr>\n",
       "  <th>Kurtosis:</th>      <td> 2.653</td> <th>  Cond. No.          </th> <td>3.39e+19</td>\n",
       "</tr>\n",
       "</table><br/><br/>Notes:<br/>[1] Standard Errors assume that the covariance matrix of the errors is correctly specified.<br/>[2] The smallest eigenvalue is 2.25e-29. This might indicate that there are<br/>strong multicollinearity problems or that the design matrix is singular."
      ],
      "text/plain": [
       "<class 'statsmodels.iolib.summary.Summary'>\n",
       "\"\"\"\n",
       "                            OLS Regression Results                            \n",
       "==============================================================================\n",
       "Dep. Variable:                tourist   R-squared:                       0.457\n",
       "Model:                            OLS   Adj. R-squared:                  0.443\n",
       "Method:                 Least Squares   F-statistic:                     34.55\n",
       "Date:                Mon, 17 May 2021   Prob (F-statistic):           5.01e-44\n",
       "Time:                        19:43:16   Log-Likelihood:                -3073.9\n",
       "No. Observations:                 380   AIC:                             6168.\n",
       "Df Residuals:                     370   BIC:                             6207.\n",
       "Df Model:                           9                                         \n",
       "Covariance Type:            nonrobust                                         \n",
       "==================================================================================\n",
       "                     coef    std err          t      P>|t|      [0.025      0.975]\n",
       "----------------------------------------------------------------------------------\n",
       "const            539.0164    176.184      3.059      0.002     192.569     885.464\n",
       "airportbususer     0.4763      0.048      9.897      0.000       0.382       0.571\n",
       "airport_-1         0.0521      0.060      0.864      0.388      -0.067       0.171\n",
       "airport_-2         0.0457      0.048      0.947      0.344      -0.049       0.141\n",
       "sat                3.4733    101.474      0.034      0.973    -196.064     203.011\n",
       "sun             -764.2263    113.518     -6.732      0.000    -987.448    -541.004\n",
       "mon              -32.9652    118.463     -0.278      0.781    -265.911     199.980\n",
       "tue              216.8149    105.976      2.046      0.041       8.423     425.206\n",
       "wed              331.7490    104.137      3.186      0.002     126.974     536.524\n",
       "thu              284.7546    113.107      2.518      0.012      62.342     507.167\n",
       "fri              499.4160    107.248      4.657      0.000     288.524     710.308\n",
       "==============================================================================\n",
       "Omnibus:                       12.322   Durbin-Watson:                   2.030\n",
       "Prob(Omnibus):                  0.002   Jarque-Bera (JB):               12.259\n",
       "Skew:                           0.404   Prob(JB):                      0.00218\n",
       "Kurtosis:                       2.653   Cond. No.                     3.39e+19\n",
       "==============================================================================\n",
       "\n",
       "Notes:\n",
       "[1] Standard Errors assume that the covariance matrix of the errors is correctly specified.\n",
       "[2] The smallest eigenvalue is 2.25e-29. This might indicate that there are\n",
       "strong multicollinearity problems or that the design matrix is singular.\n",
       "\"\"\""
      ]
     },
     "execution_count": 156,
     "metadata": {},
     "output_type": "execute_result"
    }
   ],
   "source": [
    "# OLS - columns : 공항에서 승차한 사람 / 공항에서 하루 전 승차한 사람 / 공항에서 2일 전 승차한 사람 / 요일\n",
    "X = reg_df_concat.iloc[2:,:][[\"airportbususer\", \"airport_-1\", \"airport_-2\", \"sat\", \"sun\", \"mon\", \"tue\", \"wed\", \"thu\", \"fri\"]]\n",
    "X_add = sm.add_constant(X, has_constant = \"add\") \n",
    "y = reg_df_concat.iloc[2:,:][\"tourist\"]\n",
    "X_train, X_test, y_train, y_test = train_test_split(X_add, y, \n",
    "                                                   test_size = 0.3, \n",
    "                                                   random_state = 13)\n",
    "\n",
    "lm = sm.OLS(y_train, X_train).fit()\n",
    "lm.summary()"
   ]
  },
  {
   "cell_type": "code",
   "execution_count": 157,
   "id": "ac09aa06",
   "metadata": {},
   "outputs": [
    {
     "data": {
      "text/plain": [
       "802.5238628699309"
      ]
     },
     "execution_count": 157,
     "metadata": {},
     "output_type": "execute_result"
    }
   ],
   "source": [
    "y_pred = lm.predict(X_test)\n",
    "mean_squared_error(y_test, y_pred, squared=False)"
   ]
  },
  {
   "cell_type": "code",
   "execution_count": null,
   "id": "cc8cd5d2",
   "metadata": {},
   "outputs": [],
   "source": []
  }
 ],
 "metadata": {
  "kernelspec": {
   "display_name": "Python 3",
   "language": "python",
   "name": "python3"
  },
  "language_info": {
   "codemirror_mode": {
    "name": "ipython",
    "version": 3
   },
   "file_extension": ".py",
   "mimetype": "text/x-python",
   "name": "python",
   "nbconvert_exporter": "python",
   "pygments_lexer": "ipython3",
   "version": "3.8.6"
  }
 },
 "nbformat": 4,
 "nbformat_minor": 5
}
