{
  "nbformat": 4,
  "nbformat_minor": 0,
  "metadata": {
    "colab": {
      "provenance": [],
      "toc_visible": true
    },
    "kernelspec": {
      "name": "python3",
      "display_name": "Python 3"
    },
    "language_info": {
      "name": "python"
    }
  },
  "cells": [
    {
      "cell_type": "code",
      "execution_count": null,
      "metadata": {
        "id": "gNOWUmdUIz17"
      },
      "outputs": [],
      "source": []
    },
    {
      "cell_type": "markdown",
      "source": [
        "# 개요\n",
        "1. 제주 전체의 매출과 이익 개선을 위해 부름 지역을 확대하고 부름 편도를 우선적으로 오픈한다\n",
        "- 목표 : 기존의 전체 건수에서 왕복 예약 비중은 유지하면서, 부름으로 인한 건수를 3% 증가 시킨다"
      ],
      "metadata": {
        "id": "nQJEJVLHI-sG"
      }
    },
    {
      "cell_type": "markdown",
      "source": [
        "# 살펴보기\n",
        "1. 제주지역의 부름 운영 시작이후 왕복 예약 비중은 유지되고 있는지 ?   \n",
        "1-1 전체 건수는 증가 하였는지 ?\n",
        "- 건수\n",
        "- 매출\n",
        "- 이익(GP)\n",
        "3. 지역별 현황은 어떠한지\n",
        "- 제주시\n",
        "- 서귀포시\n",
        "4. 더 개선할 수 있는 부분은 어디인지"
      ],
      "metadata": {
        "id": "u5J016dBI_Ll"
      }
    },
    {
      "cell_type": "code",
      "source": [
        "from google.colab import output\n",
        "output.clear()"
      ],
      "metadata": {
        "id": "5Tyx3S_5A8KY"
      },
      "execution_count": null,
      "outputs": []
    },
    {
      "cell_type": "markdown",
      "source": [
        "---"
      ],
      "metadata": {
        "id": "GolvqokrI_dJ"
      }
    },
    {
      "cell_type": "markdown",
      "source": [
        "# 필요한 라이브러리 준비 ⏳"
      ],
      "metadata": {
        "id": "vcs8RpCZI_vd"
      }
    },
    {
      "cell_type": "code",
      "source": [
        "import pandas as pd\n",
        "import numpy as np\n",
        "from plotnine import *\n",
        "import seaborn as sns\n",
        "import plotly.express as px\n",
        "import plotly.graph_objs as go\n",
        "from plotly.subplots import make_subplots\n",
        "import plotly.graph_objects as go\n",
        "import gspread\n",
        "from google.auth import default\n",
        "creds, _ = default()\n",
        "from gspread_dataframe import get_as_dataframe, set_with_dataframe\n",
        "\n",
        "from google.cloud import bigquery\n",
        "from oauth2client.client import GoogleCredentials\n",
        "from sklearn.preprocessing import MinMaxScaler\n",
        "\n",
        "gc = gspread.authorize(creds)"
      ],
      "metadata": {
        "id": "Q6Yl4Fo_KxEd"
      },
      "execution_count": null,
      "outputs": []
    },
    {
      "cell_type": "markdown",
      "source": [
        "### 필요한 데이터를 빅쿼리에 연동하여 가져옴\n",
        "* 부름 운영 전후 4주간의 실적 비교"
      ],
      "metadata": {
        "id": "NXLZ8sF6KrTP"
      }
    },
    {
      "cell_type": "code",
      "source": [
        "query = \"\"\"\n",
        "  SELECT\n",
        "      CASE WHEN date >= '2023-11-06' AND date <= '2023-12-07' THEN 'As-is'\n",
        "           WHEN date >= '2023-12-08' AND date <= '2024-01-08' THEN 'To-be' END as date\n",
        "      , r.way as way\n",
        "      , r.region2\n",
        "\n",
        "      , count(r.reservation_id) as nuse -- 예약건수\n",
        "      , sum(r.utime) as utime -- 이용시간\n",
        "\n",
        "      , sum(revenue) as revenue -- 회계매출\n",
        "      , sum(_rev_d2d) as _rev_d2d -- 부름매출(부름요금 + 편도요금)\n",
        "\n",
        "      , sum(contribution_margin) as margin -- 공헌이익\n",
        "\n",
        "      ,sum(transport_cost_d2d) as d2d_cost -- 부름배반비용\n",
        "\n",
        "  FROM `socar-data.soda_store.reservation_v2` r\n",
        "  LEFT JOIN socar-data.tianjin_replica.reservation_info i ON r.reservation_id = i.id\n",
        "  LEFT JOIN socar-data.tianjin_replica.reservation_dtod_info d ON r.reservation_id = d.reservation_id\n",
        "  LEFT JOIN `tianjin_replica.car_info` c ON r.car_id = c.id\n",
        "  LEFT JOIN `tianjin_replica.car_class` cl ON c.class_id = cl.id\n",
        "  WHERE 1=1\n",
        "  AND date >= '2023-11-06' AND date <= '2024-01-08'\n",
        "  AND r.member_imaginary IN (0,9)\n",
        "  AND region1 = '제주특별자치도'\n",
        "  GROUP BY date, way, region2\n",
        "  ORDER BY date, way, region2\n",
        "  \"\"\"\n",
        "\n",
        "df = pd.io.gbq.read_gbq(\n",
        "    query=query,\n",
        "    project_id=\"socar-data\"\n",
        ")"
      ],
      "metadata": {
        "id": "RiErlmAcLqLa"
      },
      "execution_count": null,
      "outputs": []
    },
    {
      "cell_type": "code",
      "source": [
        "df.info()"
      ],
      "metadata": {
        "id": "TOpjJWB_MqzL"
      },
      "execution_count": null,
      "outputs": []
    },
    {
      "cell_type": "code",
      "source": [
        "df['region2'].unique()"
      ],
      "metadata": {
        "id": "3zgB03sDkYkc"
      },
      "execution_count": null,
      "outputs": []
    },
    {
      "cell_type": "code",
      "source": [
        "df.shape"
      ],
      "metadata": {
        "id": "2T1SjdW3Mqwr"
      },
      "execution_count": null,
      "outputs": []
    },
    {
      "cell_type": "code",
      "source": [
        "df.dtypes"
      ],
      "metadata": {
        "id": "LUzScgnSMqnr"
      },
      "execution_count": null,
      "outputs": []
    },
    {
      "cell_type": "code",
      "source": [
        "df.describe()"
      ],
      "metadata": {
        "id": "zFXHsFyVOqP2"
      },
      "execution_count": null,
      "outputs": []
    },
    {
      "cell_type": "code",
      "source": [
        "pd.set_option('display.float_format', '{:1.0f}'.format)"
      ],
      "metadata": {
        "id": "782fWcR7OqNz"
      },
      "execution_count": null,
      "outputs": []
    },
    {
      "cell_type": "code",
      "source": [
        "df['revenue_nuse'] = df['revenue'] / df['nuse'].replace({0: 1})  # 0인 경우를 방지\n",
        "df['utime_nuse'] = df['utime'] / df['nuse'].replace({0: 1})  # 0인 경우를 방지\n",
        "df['margin_nuse'] = df['margin'] / df['nuse'].replace({0: 1})  # 0인 경우를 방지\n",
        "df['d2d_cost_nuse'] = df['d2d_cost'] / df['nuse'].replace({0: 1})  # 0인 경우를 방지"
      ],
      "metadata": {
        "id": "qhmB20v2zOGm"
      },
      "execution_count": null,
      "outputs": []
    },
    {
      "cell_type": "markdown",
      "source": [],
      "metadata": {
        "id": "krdzbhMTKrNg"
      }
    },
    {
      "cell_type": "markdown",
      "source": [
        "---\n",
        "# 1. 제주지역의 부름 운영 시작이후 왕복 예약 비중은 유지되고 있는지 ?   \n",
        "1-1 전체 건수는 증가 하였는지 ?\n",
        "- 건수\n",
        "- 매출\n",
        "- 이익(GP)\n",
        "---"
      ],
      "metadata": {
        "id": "AMH9kWA1OwVH"
      }
    },
    {
      "cell_type": "markdown",
      "source": [
        "## 📈 *건수, 시간의  예약타입별 구성비*\n",
        "\n",
        "✔ 예상과 다르게 건수가 확대 되지 않았다. (구성비는 비슷하다)"
      ],
      "metadata": {
        "id": "ySmDJi1IO-Kz"
      }
    },
    {
      "cell_type": "code",
      "source": [
        "df.info()"
      ],
      "metadata": {
        "id": "ZkP5d75uylGN"
      },
      "execution_count": null,
      "outputs": []
    },
    {
      "cell_type": "code",
      "source": [
        "df_grouped = df.groupby(['way', 'date'])[['nuse', 'utime']].sum().reset_index()\n",
        "\n",
        "# 'As-is'와 'To-be' 데이터를 wide format으로 변환\n",
        "df_pivot = df_grouped.pivot(index='way', columns='date', values=['nuse', 'utime'])\n",
        "\n",
        "# 컬럼 이름 재정의\n",
        "df_pivot.columns = [f'{i}_{j}' for i, j in df_pivot.columns]\n",
        "\n",
        "# 증감률 계산\n",
        "df_pivot['nuse_growth'] = (df_pivot['nuse_To-be'] - df_pivot['nuse_As-is']) / df_pivot['nuse_As-is'] * 100\n",
        "df_pivot['utime_growth'] = (df_pivot['utime_To-be'] - df_pivot['utime_As-is']) / df_pivot['utime_As-is'] * 100\n",
        "\n",
        "# 결과 데이터프레임 재구성\n",
        "result_df = df_pivot.reset_index()\n",
        "result_df = result_df[['way', 'nuse_As-is', 'nuse_To-be', 'nuse_growth', 'utime_As-is', 'utime_To-be', 'utime_growth']]\n",
        "result_df"
      ],
      "metadata": {
        "id": "1nE8u0HBjSJQ"
      },
      "execution_count": null,
      "outputs": []
    },
    {
      "cell_type": "code",
      "source": [
        "result_df.info()"
      ],
      "metadata": {
        "id": "E8WepaqYsJxC"
      },
      "execution_count": null,
      "outputs": []
    },
    {
      "cell_type": "code",
      "source": [
        "# 단계 1: date별로 nuse의 합계를 계산\n",
        "date_totals = df.groupby('date')['nuse'].sum().reset_index()\n",
        "\n",
        "# 단계 2: date와 way별로 nuse의 합계를 계산 후, date의 전체 nuse 값에 대한 구성비 계산\n",
        "summary = df.groupby(['date', 'way'])['nuse'].sum().reset_index()\n",
        "summary = summary.merge(date_totals, on='date', suffixes=('', '_total'))\n",
        "summary['proportion'] = (summary['nuse'] / summary['nuse_total']) * 100"
      ],
      "metadata": {
        "id": "UBDmJijWYtYA"
      },
      "execution_count": null,
      "outputs": []
    },
    {
      "cell_type": "code",
      "source": [
        "summary.info()"
      ],
      "metadata": {
        "id": "zQMxJt7nsWOw"
      },
      "execution_count": null,
      "outputs": []
    },
    {
      "cell_type": "code",
      "source": [
        "# 'As-is'와 'To-be' 데이터 분리\n",
        "asis_data = summary[summary['date'] == 'As-is']\n",
        "tobe_data = summary[summary['date'] == 'To-be']\n",
        "\n",
        "# 'As-is' 데이터를 음수로 변환하여 'To-be'와 대칭되게 만듦\n",
        "asis_data['nuse'] = asis_data['nuse'] * -1\n",
        "\n",
        "# 피라미드 차트 생성\n",
        "fig = go.Figure()\n",
        "\n",
        "# 'As-is' 데이터 추가 (음수값 사용)\n",
        "fig.add_trace(go.Bar(\n",
        "    y=asis_data['way'],\n",
        "    x=asis_data['nuse'],\n",
        "    name='As-is',\n",
        "    orientation='h',\n",
        "    # marker=dict(color='rgba(55, 128, 191, 0.7)'),\n",
        "    text=-asis_data['nuse']  # 텍스트는 양수로 표시\n",
        "))\n",
        "\n",
        "# 'To-be' 데이터 추가\n",
        "fig.add_trace(go.Bar(\n",
        "    y=tobe_data['way'],\n",
        "    x=tobe_data['nuse'],\n",
        "    name='To-be',\n",
        "    orientation='h',\n",
        "    # marker=dict(color='rgba(255, 153, 51, 0.7)'),\n",
        "    text=tobe_data['nuse']\n",
        "))\n",
        "\n",
        "# 레이아웃 업데이트\n",
        "fig.update_layout(\n",
        "    title='Date별 예약타입별 nuse (피라미드 차트)',\n",
        "    title_font_size=22,\n",
        "    barmode='overlay',  # 바가 겹치지 않도록 설정\n",
        "    bargap=0.1,  # 바 간의 간격\n",
        "    xaxis=dict(\n",
        "        title='nuse 건수',\n",
        "        title_font_size=14,\n",
        "        tickvals=[i for i in range(-max(summary['nuse']), max(summary['nuse'])+1, int(max(summary['nuse'])/5))],\n",
        "        ticktext=[str(abs(i)) for i in range(-max(summary['nuse']), max(summary['nuse'])+1, int(max(summary['nuse'])/5))]\n",
        "    ),\n",
        "    yaxis=dict(\n",
        "        title='예약타입',\n",
        "        title_font_size=14\n",
        "    )\n",
        ")\n",
        "\n",
        "fig.show()"
      ],
      "metadata": {
        "id": "XmiZPVLTQoTK"
      },
      "execution_count": null,
      "outputs": []
    },
    {
      "cell_type": "code",
      "source": [
        "pd.set_option('display.float_format', '{:1.0f}'.format)"
      ],
      "metadata": {
        "id": "dQ-ew2oiuaVN"
      },
      "execution_count": null,
      "outputs": []
    },
    {
      "cell_type": "code",
      "source": [
        "import plotly.graph_objects as go\n",
        "\n",
        "# 'As-is'와 'To-be' 데이터에 대해 각각 nuse의 합계를 구합니다.\n",
        "total_nuse_asis = summary[summary['date'] == 'As-is']['nuse'].sum()\n",
        "total_nuse_tobe = summary[summary['date'] == 'To-be']['nuse'].sum()\n",
        "\n",
        "# 각 'way'별 'nuse' 합계의 전체 합계 대비 비율을 계산합니다.\n",
        "asis_data = summary[summary['date'] == 'As-is'].copy()\n",
        "tobe_data = summary[summary['date'] == 'To-be'].copy()\n",
        "\n",
        "asis_data['proportion'] = asis_data['nuse'] / total_nuse_asis\n",
        "tobe_data['proportion'] = tobe_data['nuse'] / total_nuse_tobe\n",
        "\n",
        "# 'As-is' 데이터의 비율을 음수로 변환하여 대칭 효과를 생성합니다.\n",
        "asis_data['proportion'] *= -1\n",
        "\n",
        "# 피라미드 차트 생성\n",
        "fig = go.Figure()\n",
        "\n",
        "# 'As-is' 데이터 추가 (음수 비율 사용)\n",
        "fig.add_trace(go.Bar(\n",
        "    y=asis_data['way'],\n",
        "    x=asis_data['proportion'],\n",
        "    name='As-is',\n",
        "    orientation='h',\n",
        "    # 비율을 퍼센트로 변환하여 정수 부분만 표시합니다.\n",
        "    text=asis_data['proportion'].apply(lambda x: f\"{int(abs(x) * 100)}%\")\n",
        "))\n",
        "\n",
        "# 'To-be' 데이터 추가 (양수 비율 사용)\n",
        "fig.add_trace(go.Bar(\n",
        "    y=tobe_data['way'],\n",
        "    x=tobe_data['proportion'],\n",
        "    name='To-be',\n",
        "    orientation='h',\n",
        "    # 비율을 퍼센트로 변환하여 정수 부분만 표시합니다.\n",
        "    text=tobe_data['proportion'].apply(lambda x: f\"{int(x * 100)}%\")\n",
        "))\n",
        "\n",
        "# 레이아웃 업데이트\n",
        "fig.update_layout(\n",
        "    title='Date별 예약타입별 nuse 비율 (피라미드 차트)',\n",
        "    title_font_size=22,\n",
        "    barmode='overlay',\n",
        "    bargap=0.1,\n",
        "    xaxis=dict(\n",
        "        title='비율',\n",
        "        title_font_size=14,\n",
        "        tickformat=',.0%'\n",
        "    ),\n",
        "    yaxis=dict(\n",
        "        title='예약타입',\n",
        "        title_font_size=14\n",
        "    )\n",
        ")\n",
        "\n",
        "fig.show()"
      ],
      "metadata": {
        "id": "yS1sbJ0dsHSW"
      },
      "execution_count": null,
      "outputs": []
    },
    {
      "cell_type": "code",
      "source": [
        "# 'As-is'와 'To-be' 데이터 분리\n",
        "asis_data = summary[summary['date'] == 'As-is']\n",
        "tobe_data = summary[summary['date'] == 'To-be']\n",
        "\n",
        "# 도넛 차트 생성\n",
        "fig = go.Figure()\n",
        "\n",
        "fig.add_trace(go.Pie(labels=asis_data['way'],\n",
        "                     values=asis_data['proportion'],\n",
        "                     name='As-is',\n",
        "                     hole=0.4,  # 중앙 구멍의 크기 설정\n",
        "                     domain={'x': [0, 0.48]},  # 'As-is'를 도넛 차트 왼쪽에 배치\n",
        "                     hoverinfo='label+percent+name'))\n",
        "\n",
        "fig.add_trace(go.Pie(labels=tobe_data['way'],\n",
        "                     values=tobe_data['proportion'],\n",
        "                     name='To-be',\n",
        "                     hole=0.4,\n",
        "                     domain={'x': [0.52, 1.0]},  # 'To-be'를 도넛 차트 오른쪽에 배치\n",
        "                     hoverinfo='label+percent+name'))\n",
        "\n",
        "# 레이아웃 업데이트 (제목 위치 조정)\n",
        "fig.update_layout(\n",
        "    title_text='As-is vs To-be 예약타입별 nuse의 구성비',\n",
        "    # 차트 가운데 제목 대신에 외부에 표시\n",
        "    annotations=[dict(text='As-is', x=0.1, y=1.15, font_size=16, showarrow=False),\n",
        "                 dict(text='To-be', x=0.9, y=1.15, font_size=16, showarrow=False)],\n",
        "    showlegend=True)\n",
        "\n",
        "fig.show()"
      ],
      "metadata": {
        "id": "T-7pSD25QVx6"
      },
      "execution_count": null,
      "outputs": []
    },
    {
      "cell_type": "code",
      "source": [
        "# 단계 1: date별로 nuse의 합계를 계산\n",
        "date_totals = df.groupby('date')['utime'].sum().reset_index()\n",
        "\n",
        "# 단계 2: date와 way별로 nuse의 합계를 계산 후, date의 전체 nuse 값에 대한 구성비 계산\n",
        "summary = df.groupby(['date', 'way'])['utime'].sum().reset_index()\n",
        "summary = summary.merge(date_totals, on='date', suffixes=('', '_total'))\n",
        "\n",
        "# 바 차트로 결과 시각화\n",
        "fig = px.bar(summary, x='way', y='utime', color='date',\n",
        "             title='Date별 예약타입별 utime',\n",
        "             barmode='group',\n",
        "             text='utime',\n",
        "             labels={'utime': '이용시간', 'way': '예약타입', 'date': 'Date'})\n",
        "\n",
        "fig.update_traces(texttemplate='%{text:1.0f}', textposition='outside')\n",
        "fig.show()"
      ],
      "metadata": {
        "id": "kQydlOWKwfWK"
      },
      "execution_count": null,
      "outputs": []
    },
    {
      "cell_type": "code",
      "source": [
        "# 데이터 준비: 'As-is'와 'To-be'의 구성비 계산\n",
        "summary['proportion'] = summary['utime'] / summary['utime_total'] * 100\n",
        "\n",
        "# 'As-is' 데이터를 음수로 변환하여 대칭 효과 생성\n",
        "asis_data = summary[summary['date'] == 'As-is'].copy()\n",
        "tobe_data = summary[summary['date'] == 'To-be'].copy()\n",
        "\n",
        "asis_data['proportion'] *= -1\n",
        "\n",
        "# 피라미드 차트 생성을 위한 준비\n",
        "fig = go.Figure()\n",
        "\n",
        "# 'As-is' 데이터 추가 (음수값 사용)\n",
        "fig.add_trace(go.Bar(\n",
        "    y=asis_data['way'],\n",
        "    x=asis_data['proportion'],\n",
        "    name='As-is',\n",
        "    orientation='h',\n",
        "    text=asis_data['proportion'].apply(lambda x: f\"{abs(x):.2f}%\"),  # 양수 비율로 텍스트 표시\n",
        "    # marker_color='rgba(55, 128, 191, 0.7)'\n",
        "))\n",
        "\n",
        "# 'To-be' 데이터 추가 (양수값 사용)\n",
        "fig.add_trace(go.Bar(\n",
        "    y=tobe_data['way'],\n",
        "    x=tobe_data['proportion'],\n",
        "    name='To-be',\n",
        "    orientation='h',\n",
        "    text=tobe_data['proportion'].apply(lambda x: f\"{x:.2f}%\"),\n",
        "    # marker_color='rgba(255, 153, 51, 0.7)'\n",
        "))\n",
        "\n",
        "# 레이아웃 업데이트\n",
        "fig.update_layout(\n",
        "    title='Date별 예약타입별 utime 구성비 (피라미드 차트)',\n",
        "    title_font_size=22,\n",
        "    barmode='overlay',  # 바가 겹치지 않도록 설정\n",
        "    bargap=0.1,  # 바 간의 간격\n",
        "    xaxis=dict(\n",
        "        title='구성비 (%)',\n",
        "        title_font_size=14,\n",
        "        tickformat=',.2f'  # 비율 형식으로 축 표시\n",
        "    ),\n",
        "    yaxis=dict(\n",
        "        title='예약타입',\n",
        "        title_font_size=14,\n",
        "        categoryorder='total ascending'  # 'way'를 기준으로 정렬\n",
        "    )\n",
        ")\n",
        "\n",
        "fig.show()"
      ],
      "metadata": {
        "id": "_FnSWL8Kvamo"
      },
      "execution_count": null,
      "outputs": []
    },
    {
      "cell_type": "markdown",
      "source": [
        "## 📈 *지역별 건수, 시간의 예약타입별 구성비*\n",
        "\n",
        "✔ 예상과 다르게 건수가 확대 되지 않았다. (구성비는 비슷하다)"
      ],
      "metadata": {
        "id": "SCbeuGfnRfbM"
      }
    },
    {
      "cell_type": "code",
      "source": [
        "df_grouped = df.groupby(['region2', 'way', 'date'])[['nuse', 'utime']].sum().reset_index()\n",
        "\n",
        "df_pivot = df_grouped.pivot_table(index=['region2', 'way'], columns='date', values=['nuse', 'utime'])\n",
        "\n",
        "# 컬럼 이름 재정의\n",
        "df_pivot.columns = [f'{i}_{j}' for i, j in df_pivot.columns]\n",
        "\n",
        "df_pivot['nuse_growth'] = (df_pivot['nuse_To-be'] - df_pivot['nuse_As-is']) / df_pivot['nuse_As-is'].replace(0, 1) * 100\n",
        "df_pivot['utime_growth'] = (df_pivot['utime_To-be'] - df_pivot['utime_As-is']) / df_pivot['utime_As-is'].replace(0, 1) * 100\n",
        "\n",
        "result_df = df_pivot.reset_index()\n",
        "result_df = result_df[['region2', 'way', 'nuse_As-is', 'nuse_To-be', 'nuse_growth', 'utime_As-is', 'utime_To-be', 'utime_growth']]\n",
        "print(result_df)\n",
        "result_df"
      ],
      "metadata": {
        "id": "kDNAv_0Hlam4"
      },
      "execution_count": null,
      "outputs": []
    },
    {
      "cell_type": "code",
      "source": [
        "df.info()"
      ],
      "metadata": {
        "id": "MD59y2FXvpqQ"
      },
      "execution_count": null,
      "outputs": []
    },
    {
      "cell_type": "code",
      "source": [
        "# 단계 1: date와 region2별로 nuse의 합계를 계산\n",
        "date_region2_totals = df.groupby(['date', 'region2'])['nuse'].sum().reset_index()\n",
        "\n",
        "# 단계 2: date, region2, way별로 nuse의 합계를 계산 후, date와 region2의 조합별 전체 nuse 값에 대한 구성비 계산\n",
        "summary = df.groupby(['date', 'region2', 'way'])['nuse'].sum().reset_index()\n",
        "summary = summary.merge(date_region2_totals, on=['date', 'region2'], suffixes=('', '_total'))\n",
        "\n",
        "# 바 차트로 결과 시각화\n",
        "fig = px.bar(summary, x='way', y='nuse', color='date',\n",
        "             facet_col='region2', # region2별로 차트 분할\n",
        "             title='Date 및 Region2별 예약타입별 nuse',\n",
        "             barmode='group',\n",
        "             text='nuse',\n",
        "             labels={'nuse': '건수', 'way': '예약타입', 'date': 'Date', 'region2': 'Region2'})\n",
        "\n",
        "fig.update_traces(texttemplate='%{text:1.0f}', textposition='outside')\n",
        "fig.show()"
      ],
      "metadata": {
        "id": "fiVFpIxfRluV"
      },
      "execution_count": null,
      "outputs": []
    },
    {
      "cell_type": "code",
      "source": [
        "# 단계 1: date와 region2별로 nuse의 합계를 계산\n",
        "date_region2_totals = df.groupby(['date', 'region2'])['nuse'].sum().reset_index()\n",
        "\n",
        "# 단계 2: date, region2, way별로 nuse의 합계를 계산 후, date와 region2의 조합별 전체 nuse 값에 대한 구성비 계산\n",
        "summary = df.groupby(['date', 'region2', 'way'])['nuse'].sum().reset_index()\n",
        "summary = summary.merge(date_region2_totals, on=['date', 'region2'], suffixes=('', '_total'))\n",
        "summary['proportion'] = (summary['nuse'] / summary['nuse_total']) * 100\n",
        "\n",
        "# 바 차트로 결과 시각화\n",
        "fig = px.bar(summary, x='way', y='proportion', color='date',\n",
        "             facet_col='region2', # region2별로 차트 분할\n",
        "             title='Date 및 Region2별 예약타입별 nuse의 구성비',\n",
        "             barmode='group',\n",
        "             text='proportion',\n",
        "             labels={'proportion': '구성비 (%)', 'way': '예약타입', 'date': 'Date', 'region2': 'Region2'})\n",
        "\n",
        "fig.update_traces(texttemplate='%{text:.1f}%', textposition='outside')\n",
        "fig.show()"
      ],
      "metadata": {
        "id": "Cb0oSshoO8uq"
      },
      "execution_count": null,
      "outputs": []
    },
    {
      "cell_type": "code",
      "source": [
        "# 정규화를 위한 Scaler 초기화\n",
        "scaler = MinMaxScaler()\n",
        "\n",
        "# 'utime'에 대한 전체 데이터를 정규화\n",
        "summary['nuse_normalized'] = scaler.fit_transform(summary[['nuse']])\n",
        "\n",
        "# 'date'와 'region2'별 전체 'utime' 값에 대한 구성비 계산을 정규화된 값으로 수정\n",
        "summary['nuse'] = summary['nuse_normalized']\n",
        "\n",
        "# 바 차트로 결과 시각화\n",
        "fig = px.bar(summary, x='way', y='nuse', color='date',\n",
        "             facet_col='region2',  # region2별로 차트 분할\n",
        "             title='Date 및 Region2별 예약타입별 nuse (정규화)',\n",
        "             barmode='group',\n",
        "             text='nuse',\n",
        "             labels={'nuse': '이용건수 (정규화)', 'way': '예약타입', 'date': 'Date', 'region2': 'Region2'})\n",
        "\n",
        "fig.update_traces(texttemplate='%{text:.2f}', textposition='outside')\n",
        "fig.show()"
      ],
      "metadata": {
        "id": "Cn-NeeWWFjws"
      },
      "execution_count": null,
      "outputs": []
    },
    {
      "cell_type": "code",
      "source": [
        "# 단계 1: date와 region2별로 nuse의 합계를 계산\n",
        "date_region2_totals = df.groupby(['date', 'region2'])['utime'].sum().reset_index()\n",
        "\n",
        "# 단계 2: date, region2, way별로 nuse의 합계를 계산 후, date와 region2의 조합별 전체 nuse 값에 대한 구성비 계산\n",
        "summary = df.groupby(['date', 'region2', 'way'])['utime'].sum().reset_index()\n",
        "summary = summary.merge(date_region2_totals, on=['date', 'region2'], suffixes=('', '_total'))\n",
        "\n",
        "# 바 차트로 결과 시각화\n",
        "fig = px.bar(summary, x='way', y='utime', color='date',\n",
        "             facet_col='region2', # region2별로 차트 분할\n",
        "             title='Date 및 Region2별 예약타입별 utime',\n",
        "             barmode='group',\n",
        "             text='utime',\n",
        "             labels={'utime': '이용시간', 'way': '예약타입', 'date': 'Date', 'region2': 'Region2'})\n",
        "\n",
        "fig.update_traces(texttemplate='%{text:1.0f}', textposition='outside')\n",
        "fig.show()"
      ],
      "metadata": {
        "id": "ov2Yddt4wwvA"
      },
      "execution_count": null,
      "outputs": []
    },
    {
      "cell_type": "code",
      "source": [
        "# 단계 1: date와 region2별로 nuse의 합계를 계산\n",
        "date_region2_totals = df.groupby(['date', 'region2'])['utime'].sum().reset_index()\n",
        "\n",
        "# 단계 2: date, region2, way별로 nuse의 합계를 계산 후, date와 region2의 조합별 전체 nuse 값에 대한 구성비 계산\n",
        "summary = df.groupby(['date', 'region2', 'way'])['utime'].sum().reset_index()\n",
        "summary = summary.merge(date_region2_totals, on=['date', 'region2'], suffixes=('', '_total'))\n",
        "summary['proportion'] = (summary['utime'] / summary['utime_total']) * 100\n",
        "\n",
        "# 바 차트로 결과 시각화\n",
        "fig = px.bar(summary, x='way', y='proportion', color='date',\n",
        "             facet_col='region2', # region2별로 차트 분할\n",
        "             title='Date 및 Region2별 예약타입별 utime의 구성비',\n",
        "             barmode='group',\n",
        "             text='proportion',\n",
        "             labels={'proportion': '구성비 (%)', 'way': '예약타입', 'date': 'Date', 'region2': 'Region2'})\n",
        "\n",
        "fig.update_traces(texttemplate='%{text:.1f}%', textposition='outside')\n",
        "fig.show()"
      ],
      "metadata": {
        "id": "YUB_I7J2w8PC"
      },
      "execution_count": null,
      "outputs": []
    },
    {
      "cell_type": "code",
      "source": [
        "# 정규화를 위한 Scaler 초기화\n",
        "scaler = MinMaxScaler()\n",
        "\n",
        "# 'utime'에 대한 전체 데이터를 정규화\n",
        "summary['utime_normalized'] = scaler.fit_transform(summary[['utime']])\n",
        "\n",
        "# 'date'와 'region2'별 전체 'utime' 값에 대한 구성비 계산을 정규화된 값으로 수정\n",
        "summary['utime'] = summary['utime_normalized']\n",
        "\n",
        "# 바 차트로 결과 시각화\n",
        "fig = px.bar(summary, x='way', y='utime', color='date',\n",
        "             facet_col='region2',  # region2별로 차트 분할\n",
        "             title='Date 및 Region2별 예약타입별 utime (정규화)',\n",
        "             barmode='group',\n",
        "             text='utime',\n",
        "             labels={'utime': '이용시간 (정규화)', 'way': '예약타입', 'date': 'Date', 'region2': 'Region2'})\n",
        "\n",
        "fig.update_traces(texttemplate='%{text:.2f}', textposition='outside')\n",
        "fig.show()"
      ],
      "metadata": {
        "id": "4an-VJCRExyP"
      },
      "execution_count": null,
      "outputs": []
    },
    {
      "cell_type": "markdown",
      "source": [
        "## 📈 *매출과 공헌이익의  예약타입별 구성비*\n",
        "\n",
        "✔ 예상과 다르게 건수가 확대 되지 않았다. (구성비는 비슷하다)"
      ],
      "metadata": {
        "id": "sb1avRVWx4Z0"
      }
    },
    {
      "cell_type": "code",
      "source": [
        "df.info()"
      ],
      "metadata": {
        "id": "vJ6z6U94yCZK"
      },
      "execution_count": null,
      "outputs": []
    },
    {
      "cell_type": "code",
      "source": [
        "df_grouped = df.groupby(['way', 'date'])[['revenue', 'margin']].sum().reset_index()\n",
        "\n",
        "# 'As-is'와 'To-be' 데이터를 wide format으로 변환\n",
        "df_pivot = df_grouped.pivot(index='way', columns='date', values=['revenue', 'margin'])\n",
        "\n",
        "# 컬럼 이름 재정의\n",
        "df_pivot.columns = [f'{i}_{j}' for i, j in df_pivot.columns]\n",
        "\n",
        "# 증감률 계산\n",
        "df_pivot['revenue_growth'] = (df_pivot['revenue_To-be'] - df_pivot['revenue_As-is']) / df_pivot['revenue_As-is'] * 100\n",
        "df_pivot['margin_growth'] = (df_pivot['margin_To-be'] - df_pivot['margin_As-is']) / df_pivot['margin_As-is'] * 100\n",
        "\n",
        "# 결과 데이터프레임 재구성\n",
        "result_df = df_pivot.reset_index()\n",
        "result_df = result_df[['way', 'revenue_As-is', 'revenue_To-be', 'revenue_growth', 'margin_As-is', 'margin_To-be', 'margin_growth']]\n",
        "result_df"
      ],
      "metadata": {
        "id": "QvJnvpbblvpZ"
      },
      "execution_count": null,
      "outputs": []
    },
    {
      "cell_type": "code",
      "source": [
        "# 단계 1: date별로 nuse의 합계를 계산\n",
        "date_totals = df.groupby('date')['revenue'].sum().reset_index()\n",
        "\n",
        "# 단계 2: date와 way별로 nuse의 합계를 계산 후, date의 전체 nuse 값에 대한 구성비 계산\n",
        "summary = df.groupby(['date', 'way'])['revenue'].sum().reset_index()\n",
        "summary = summary.merge(date_totals, on='date', suffixes=('', '_total'))\n",
        "\n",
        "# 바 차트로 결과 시각화\n",
        "fig = px.bar(summary, x='way', y='revenue', color='date',\n",
        "             title='Date별 예약타입별 revenue',\n",
        "             barmode='group',\n",
        "             text='revenue',\n",
        "             labels={'revenue': '매출', 'way': '예약타입', 'date': 'Date'})\n",
        "\n",
        "fig.update_traces(texttemplate='%{text:1.0f}', textposition='outside')\n",
        "fig.show()"
      ],
      "metadata": {
        "id": "VW0JtqjCyBZq"
      },
      "execution_count": null,
      "outputs": []
    },
    {
      "cell_type": "code",
      "source": [
        "# 단계 1: date별로 nuse의 합계를 계산\n",
        "date_totals = df.groupby('date')['margin'].sum().reset_index()\n",
        "\n",
        "# 단계 2: date와 way별로 nuse의 합계를 계산 후, date의 전체 nuse 값에 대한 구성비 계산\n",
        "summary = df.groupby(['date', 'way'])['margin'].sum().reset_index()\n",
        "summary = summary.merge(date_totals, on='date', suffixes=('', '_total'))\n",
        "\n",
        "# 바 차트로 결과 시각화\n",
        "fig = px.bar(summary, x='way', y='margin', color='date',\n",
        "             title='Date별 예약타입별 margin',\n",
        "             barmode='group',\n",
        "             text='margin',\n",
        "             labels={'revmarginenue': '공헌이익', 'way': '예약타입', 'date': 'Date'})\n",
        "\n",
        "fig.update_traces(texttemplate='%{text:1.0f}', textposition='outside')\n",
        "fig.show()"
      ],
      "metadata": {
        "id": "2rD_okelyL0Q"
      },
      "execution_count": null,
      "outputs": []
    },
    {
      "cell_type": "code",
      "source": [
        "# 'revenue'와 'margin'에 대한 date별 총합 계산\n",
        "date_totals_revenue = df.groupby('date')['revenue'].sum().rename('revenue_total').reset_index()\n",
        "date_totals_margin = df.groupby('date')['margin'].sum().rename('margin_total').reset_index()\n",
        "\n",
        "# date와 way별로 'revenue'와 'margin'의 합계 계산\n",
        "summary_revenue = df.groupby(['date', 'way'])['revenue'].sum().reset_index()\n",
        "summary_margin = df.groupby(['date', 'way'])['margin'].sum().reset_index()\n",
        "\n",
        "# date별 총합과 병합하여 구성비 계산을 위한 준비\n",
        "summary_revenue = summary_revenue.merge(date_totals_revenue, on='date')\n",
        "summary_margin = summary_margin.merge(date_totals_margin, on='date')\n",
        "\n",
        "# 구성비 계산\n",
        "summary_revenue['revenue_proportion'] = (summary_revenue['revenue'] / summary_revenue['revenue_total']) * 100\n",
        "summary_margin['margin_proportion'] = (summary_margin['margin'] / summary_margin['margin_total']) * 100\n",
        "\n",
        "# 결과 데이터프레임 준비: 'revenue'와 'margin' 정보를 합치기\n",
        "summary = pd.merge(summary_revenue, summary_margin[['date', 'way', 'margin', 'margin_proportion']], on=['date', 'way'])\n",
        "\n",
        "# 필요한 컬럼만 선택하여 최종 데이터프레임 구성\n",
        "result_df = summary[['date', 'way', 'revenue', 'revenue_proportion', 'margin', 'margin_proportion']]"
      ],
      "metadata": {
        "id": "X3Fr-4CVzmzW"
      },
      "execution_count": null,
      "outputs": []
    },
    {
      "cell_type": "code",
      "source": [
        "result_df.info()"
      ],
      "metadata": {
        "id": "TAstJ-awzfbT"
      },
      "execution_count": null,
      "outputs": []
    },
    {
      "cell_type": "code",
      "source": [
        "from plotly.subplots import make_subplots\n",
        "# 두 개의 병렬 차트 생성을 위한 subplot 설정\n",
        "fig = make_subplots(rows=1, cols=2, subplot_titles=('Revenue Proportion', 'Margin Proportion'))\n",
        "\n",
        "# Revenue Proportion 차트 추가\n",
        "for date in result_df['date'].unique():\n",
        "    df_filtered = result_df[result_df['date'] == date]\n",
        "    fig.add_trace(\n",
        "        go.Bar(x=df_filtered['way'], y=df_filtered['revenue_proportion'], name=f'Revenue {date}', text=df_filtered['revenue_proportion']),\n",
        "        row=1, col=1\n",
        "    )\n",
        "\n",
        "# Margin Proportion 차트 추가\n",
        "for date in result_df['date'].unique():\n",
        "    df_filtered = result_df[result_df['date'] == date]\n",
        "    fig.add_trace(\n",
        "        go.Bar(x=df_filtered['way'], y=df_filtered['margin_proportion'], name=f'Margin {date}', text=df_filtered['margin_proportion']),\n",
        "        row=1, col=2\n",
        "    )\n",
        "\n",
        "# 레이아웃 업데이트\n",
        "fig.update_layout(height=600, width=1200, title_text=\"Revenue and Margin by Date and Way\")\n",
        "fig.update_traces(texttemplate='%{text:.2f}%', textposition='outside')\n",
        "fig.show()"
      ],
      "metadata": {
        "id": "Vy8fU0MC0jTa"
      },
      "execution_count": null,
      "outputs": []
    },
    {
      "cell_type": "code",
      "source": [
        "# 정규화를 위한 Scaler 초기화\n",
        "scaler_revenue = MinMaxScaler()\n",
        "scaler_margin = MinMaxScaler()\n",
        "\n",
        "# 'revenue'와 'margin'의 정규화\n",
        "summary['revenue_normalized'] = scaler_revenue.fit_transform(summary[['revenue']])\n",
        "summary['margin_normalized'] = scaler_margin.fit_transform(summary[['margin']])"
      ],
      "metadata": {
        "id": "3hTXIrunHDTw"
      },
      "execution_count": null,
      "outputs": []
    },
    {
      "cell_type": "code",
      "source": [
        "# 두 개의 병렬 차트 생성을 위한 subplot 설정\n",
        "fig = make_subplots(rows=1, cols=2, subplot_titles=('revenue_normalized', 'margin_normalized'))\n",
        "\n",
        "# 정규화된 Revenue 차트 추가\n",
        "for date in summary['date'].unique():\n",
        "    df_filtered = summary[summary['date'] == date]\n",
        "    fig.add_trace(\n",
        "        go.Bar(x=df_filtered['way'], y=df_filtered['revenue_normalized'], name=f'Revenue {date}', text=df_filtered['revenue_normalized']),\n",
        "        row=1, col=1\n",
        "    )\n",
        "\n",
        "# 정규화된 Margin 차트 추가\n",
        "for date in summary['date'].unique():\n",
        "    df_filtered = summary[summary['date'] == date]\n",
        "    fig.add_trace(\n",
        "        go.Bar(x=df_filtered['way'], y=df_filtered['margin_normalized'], name=f'Margin {date}', text=df_filtered['margin_normalized']),\n",
        "        row=1, col=2\n",
        "    )\n",
        "\n",
        "# 레이아웃 업데이트\n",
        "fig.update_layout(height=600, width=1200, title_text=\"정규화된 Revenue and Margin by Date and Way\")\n",
        "fig.update_traces(texttemplate='%{text:.2f}', textposition='outside')\n",
        "fig.show()"
      ],
      "metadata": {
        "id": "we1KRWLFHDQx"
      },
      "execution_count": null,
      "outputs": []
    },
    {
      "cell_type": "markdown",
      "source": [
        "## 📈 *지역별 매출과 공헌이익의  예약타입별 구성비*\n",
        "\n",
        "✔ 예상과 다르게 건수가 확대 되지 않았다. (구성비는 비슷하다)"
      ],
      "metadata": {
        "id": "RabbynGUI_7K"
      }
    },
    {
      "cell_type": "code",
      "source": [
        "df_grouped = df.groupby(['region2', 'way', 'date'])[['revenue', 'margin']].sum().reset_index()\n",
        "\n",
        "df_pivot = df_grouped.pivot_table(index=['region2', 'way'], columns='date', values=['revenue', 'margin'])\n",
        "\n",
        "# 컬럼 이름 재정의\n",
        "df_pivot.columns = [f'{i}_{j}' for i, j in df_pivot.columns]\n",
        "\n",
        "df_pivot['revenue_growth'] = (df_pivot['revenue_To-be'] - df_pivot['revenue_As-is']) / df_pivot['revenue_As-is'].replace(0, 1) * 100\n",
        "df_pivot['margin_growth'] = (df_pivot['margin_To-be'] - df_pivot['margin_As-is']) / df_pivot['margin_As-is'].replace(0, 1) * 100\n",
        "\n",
        "result_df = df_pivot.reset_index()\n",
        "result_df = result_df[['region2', 'way', 'revenue_As-is', 'revenue_To-be', 'revenue_growth', 'margin_As-is', 'margin_To-be', 'margin_growth']]\n",
        "print(result_df)\n",
        "result_df"
      ],
      "metadata": {
        "id": "75lxJeVfmRal"
      },
      "execution_count": null,
      "outputs": []
    },
    {
      "cell_type": "code",
      "source": [
        "# 단계 1: date와 region2별로 nuse의 합계를 계산\n",
        "date_region2_totals = df.groupby(['date', 'region2'])['revenue'].sum().reset_index()\n",
        "\n",
        "# 단계 2: date, region2, way별로 nuse의 합계를 계산 후, date와 region2의 조합별 전체 nuse 값에 대한 구성비 계산\n",
        "summary = df.groupby(['date', 'region2', 'way'])['revenue'].sum().reset_index()\n",
        "summary = summary.merge(date_region2_totals, on=['date', 'region2'], suffixes=('', '_total'))\n",
        "\n",
        "# 바 차트로 결과 시각화\n",
        "fig = px.bar(summary, x='way', y='revenue', color='date',\n",
        "             facet_col='region2', # region2별로 차트 분할\n",
        "             title='Date 및 Region2별 예약타입별 revenue',\n",
        "             barmode='group',\n",
        "             text='revenue',\n",
        "             labels={'revenue': '매출', 'way': '예약타입', 'date': 'Date', 'region2': 'Region2'})\n",
        "\n",
        "fig.update_traces(texttemplate='%{text:1.0f}', textposition='outside')\n",
        "fig.show()"
      ],
      "metadata": {
        "id": "wBGlVfhsyVRz"
      },
      "execution_count": null,
      "outputs": []
    },
    {
      "cell_type": "code",
      "source": [
        "from sklearn.preprocessing import MinMaxScaler\n",
        "\n",
        "# 예제 데이터 프레임 'df'가 있다고 가정합니다.\n",
        "\n",
        "# 단계 1: date와 region2별로 revenue의 합계를 계산\n",
        "date_region2_totals = df.groupby(['date', 'region2'])['revenue'].sum().reset_index()\n",
        "\n",
        "# 단계 2: date, region2, way별로 revenue의 합계를 계산 후, date와 region2의 조합별 전체 revenue 값에 대한 구성비 계산\n",
        "summary = df.groupby(['date', 'region2', 'way'])['revenue'].sum().reset_index()\n",
        "summary = summary.merge(date_region2_totals, on=['date', 'region2'], suffixes=('', '_total'))\n",
        "\n",
        "# revenue에 대한 정규화를 진행\n",
        "scaler = MinMaxScaler()\n",
        "summary['revenue_normalized'] = scaler.fit_transform(summary[['revenue']])\n",
        "\n",
        "# 바 차트로 정규화된 결과 시각화\n",
        "fig = px.bar(summary, x='way', y='revenue_normalized', color='date',\n",
        "             facet_col='region2',  # region2별로 차트 분할\n",
        "             title='Date 및 Region2별 예약타입별 정규화된 revenue',\n",
        "             barmode='group',\n",
        "             text='revenue_normalized',\n",
        "             labels={'revenue_normalized': '정규화된 매출', 'way': '예약타입', 'date': 'Date', 'region2': 'Region2'})\n",
        "\n",
        "fig.update_traces(texttemplate='%{text:.2f}', textposition='outside')  # 소수점 두 자리로 표시\n",
        "fig.show()"
      ],
      "metadata": {
        "id": "TOSEddGn4J-V"
      },
      "execution_count": null,
      "outputs": []
    },
    {
      "cell_type": "code",
      "source": [
        "# 단계 1: date와 region2별로 nuse의 합계를 계산\n",
        "date_region2_totals = df.groupby(['date', 'region2'])['margin'].sum().reset_index()\n",
        "\n",
        "# 단계 2: date, region2, way별로 nuse의 합계를 계산 후, date와 region2의 조합별 전체 nuse 값에 대한 구성비 계산\n",
        "summary = df.groupby(['date', 'region2', 'way'])['margin'].sum().reset_index()\n",
        "summary = summary.merge(date_region2_totals, on=['date', 'region2'], suffixes=('', '_total'))\n",
        "\n",
        "# 바 차트로 결과 시각화\n",
        "fig = px.bar(summary, x='way', y='margin', color='date',\n",
        "             facet_col='region2', # region2별로 차트 분할\n",
        "             title='Date 및 Region2별 예약타입별 margin',\n",
        "             barmode='group',\n",
        "             text='margin',\n",
        "             labels={'margin': '공헌이익', 'way': '예약타입', 'date': 'Date', 'region2': 'Region2'})\n",
        "\n",
        "fig.update_traces(texttemplate='%{text:1.0f}', textposition='outside')\n",
        "fig.show()"
      ],
      "metadata": {
        "id": "3M-6wSNKybZV"
      },
      "execution_count": null,
      "outputs": []
    },
    {
      "cell_type": "code",
      "source": [
        "# 단계 1: date와 region2별로 margin의 합계를 계산\n",
        "date_region2_totals = df.groupby(['date', 'region2'])['margin'].sum().reset_index()\n",
        "\n",
        "# 단계 2: date, region2, way별로 margin의 합계를 계산 후, date와 region2의 조합별 전체 margin 값에 대한 구성비 계산\n",
        "summary = df.groupby(['date', 'region2', 'way'])['margin'].sum().reset_index()\n",
        "summary = summary.merge(date_region2_totals, on=['date', 'region2'], suffixes=('', '_total'))\n",
        "\n",
        "# margin에 대한 정규화를 진행\n",
        "scaler = MinMaxScaler()\n",
        "summary['margin_normalized'] = scaler.fit_transform(summary[['margin']])\n",
        "\n",
        "# 바 차트로 정규화된 결과 시각화\n",
        "fig = px.bar(summary, x='way', y='margin_normalized', color='date',\n",
        "             facet_col='region2',  # region2별로 차트 분할\n",
        "             title='Date 및 Region2별 예약타입별 정규화된 공헌이익',\n",
        "             barmode='group',\n",
        "             text='margin_normalized',\n",
        "             labels={'margin_normalized': '정규화된 공헌이익', 'way': '예약타입', 'date': 'Date', 'region2': 'Region2'})\n",
        "\n",
        "fig.update_traces(texttemplate='%{text:.2f}', textposition='outside')  # 소수점 두 자리로 표시\n",
        "fig.show()"
      ],
      "metadata": {
        "id": "_mBX0oM62X69"
      },
      "execution_count": null,
      "outputs": []
    },
    {
      "cell_type": "markdown",
      "source": [
        "## 📈 *합계가 아닌 건당 지표를 보는 것이, 타당하다*\n",
        "- 건당 매출\n",
        "- 건당 이용시간\n",
        "- 건당 공헌이익\n",
        "\n",
        "✔ 건수나 시간이 크게 늘어나지 않았지만\n",
        "1. 건당 지표들이 크게 개선되었음\n",
        "\n",
        "부름 예약을 확대할 수 있다면, 전체 매출과 이익을 개선하는게 큰 효과가 있을 것으로 보여짐"
      ],
      "metadata": {
        "id": "YRgqNhA3z4pe"
      }
    },
    {
      "cell_type": "code",
      "source": [
        "# Step 2: date 및 date와 way별로 revenue_nuse의 평균 계산\n",
        "summary = df.groupby(['date', 'way'])['revenue_nuse'].mean().reset_index()\n",
        "date_totals = df.groupby('date')['revenue_nuse'].mean().reset_index()\n",
        "summary = summary.merge(date_totals, on='date', suffixes=('', '_total'))\n",
        "\n",
        "df_grouped = df.groupby(['way', 'date'])['revenue_nuse'].mean().reset_index()\n",
        "\n",
        "# 'As-is'와 'To-be' 데이터를 wide format으로 변환\n",
        "df_pivot = df_grouped.pivot(index='way', columns='date', values=['revenue_nuse'])\n",
        "\n",
        "# 컬럼 이름 재정의\n",
        "df_pivot.columns = [f'{i}_{j}' for i, j in df_pivot.columns]\n",
        "\n",
        "# 증감률 계산\n",
        "df_pivot['revenue_nuse_growth'] = (df_pivot['revenue_nuse_To-be'] - df_pivot['revenue_nuse_As-is']) / df_pivot['revenue_nuse_As-is'] * 100\n",
        "\n",
        "# 결과 데이터프레임 재구성\n",
        "result_df = df_pivot.reset_index()\n",
        "result_df = result_df[['way', 'revenue_nuse_As-is', 'revenue_nuse_To-be', 'revenue_nuse_growth']]\n",
        "result_df"
      ],
      "metadata": {
        "id": "27t-mYt9moSF"
      },
      "execution_count": null,
      "outputs": []
    },
    {
      "cell_type": "code",
      "source": [
        "# Step 2: date 및 date와 way별로 revenue_nuse의 평균 계산\n",
        "summary = df.groupby(['date', 'way'])['revenue_nuse'].mean().reset_index()\n",
        "date_totals = df.groupby('date')['revenue_nuse'].mean().reset_index()\n",
        "summary = summary.merge(date_totals, on='date', suffixes=('', '_total'))\n",
        "\n",
        "# 'As-is'와 'To-be' 데이터 복사본 생성 및 처리\n",
        "asis_data = summary[summary['date'] == 'As-is'].copy()\n",
        "tobe_data = summary[summary['date'] == 'To-be'].copy()\n",
        "\n",
        "# 'As-is' 데이터의 'revenue_nuse' 값을 음수로 변환\n",
        "asis_data['revenue_nuse'] = asis_data['revenue_nuse'] * -1\n",
        "\n",
        "# 피라미드 차트 생성\n",
        "fig = go.Figure()\n",
        "\n",
        "# 'As-is' 데이터 추가 (음수값 사용, 정수로 포맷팅)\n",
        "fig.add_trace(go.Bar(\n",
        "    y=asis_data['way'],\n",
        "    x=asis_data['revenue_nuse'],\n",
        "    name='As-is',\n",
        "    orientation='h',\n",
        "    text=[int(value) for value in -asis_data['revenue_nuse']],  # 소수점 제거\n",
        "    textposition='auto'\n",
        "))\n",
        "\n",
        "# 'To-be' 데이터 추가 (정수로 포맷팅)\n",
        "fig.add_trace(go.Bar(\n",
        "    y=tobe_data['way'],\n",
        "    x=tobe_data['revenue_nuse'],\n",
        "    name='To-be',\n",
        "    orientation='h',\n",
        "    text=[int(value) for value in tobe_data['revenue_nuse']],  # 소수점 제거\n",
        "    textposition='auto'\n",
        "))\n",
        "\n",
        "# 동적으로 x축 tickvals과 ticktext 생성\n",
        "max_value = max(tobe_data['revenue_nuse'].max(), -asis_data['revenue_nuse'].min())\n",
        "tick_step = int(max_value // 5) or 1\n",
        "tick_values = list(range(-int(max_value), int(max_value) + 1, tick_step))\n",
        "tick_texts = [str(abs(i)) for i in tick_values]\n",
        "\n",
        "# 레이아웃 업데이트\n",
        "fig.update_layout(\n",
        "    title='Date별 예약타입별 revenue_nuse (피라미드 차트)',\n",
        "    barmode='overlay',\n",
        "    bargap=0.1,\n",
        "    xaxis=dict(\n",
        "        title='Revenue per Use',\n",
        "        tickvals=tick_values,\n",
        "        ticktext=tick_texts\n",
        "    ),\n",
        "    yaxis=dict(\n",
        "        title='예약타입'\n",
        "    ),\n",
        "    legend=dict(title='Date')\n",
        ")\n",
        "\n",
        "fig.show()"
      ],
      "metadata": {
        "id": "_uWRHtzYTQg8"
      },
      "execution_count": null,
      "outputs": []
    },
    {
      "cell_type": "code",
      "source": [
        "from sklearn.preprocessing import MinMaxScaler\n",
        "import pandas as pd\n",
        "import plotly.graph_objects as go\n",
        "\n",
        "# 데이터 준비 및 정규화 과정\n",
        "# 전체 summary 데이터에서 'revenue_nuse'의 평균을 계산합니다.\n",
        "summary = df.groupby(['date', 'way'])['revenue_nuse'].mean().reset_index()\n",
        "\n",
        "# MinMaxScaler를 사용하여 'revenue_nuse'의 값을 정규화합니다.\n",
        "scaler = MinMaxScaler()\n",
        "# 정규화를 위해 'revenue_nuse' 열만 포함하는 DataFrame을 사용합니다.\n",
        "normalized_values = scaler.fit_transform(summary[['revenue_nuse']])\n",
        "# 정규화된 결과를 summary에 추가합니다.\n",
        "summary['revenue_nuse_normalized'] = normalized_values\n",
        "\n",
        "# 'As-is'와 'To-be' 데이터 복사본 생성 및 정규화된 값으로 업데이트\n",
        "asis_data = summary[summary['date'] == 'As-is'].copy()\n",
        "tobe_data = summary[summary['date'] == 'To-be'].copy()\n",
        "\n",
        "# 피라미드 차트 생성을 위한 데이터 준비\n",
        "fig = go.Figure()\n",
        "\n",
        "# 'As-is' 데이터 추가\n",
        "fig.add_trace(go.Bar(\n",
        "    y=asis_data['way'],\n",
        "    x=-asis_data['revenue_nuse_normalized'],  # 음수로 변환하여 'As-is'를 왼쪽으로 표시\n",
        "    name='As-is',\n",
        "    orientation='h',\n",
        "    text=[f\"{-value:.2f}\" for value in asis_data['revenue_nuse_normalized']],  # 정규화된 값을 음수로 표시\n",
        "    textposition='auto'\n",
        "))\n",
        "\n",
        "# 'To-be' 데이터 추가\n",
        "fig.add_trace(go.Bar(\n",
        "    y=tobe_data['way'],\n",
        "    x=tobe_data['revenue_nuse_normalized'],\n",
        "    name='To-be',\n",
        "    orientation='h',\n",
        "    text=[f\"{value:.2f}\" for value in tobe_data['revenue_nuse_normalized']],\n",
        "    textposition='auto'\n",
        "))\n",
        "\n",
        "# 차트 레이아웃 설정\n",
        "fig.update_layout(\n",
        "    title='Date별 예약타입별 정규화된 Revenue per Use (피라미드 차트)',\n",
        "    barmode='overlay',\n",
        "    bargap=0.1,\n",
        "    xaxis=dict(\n",
        "        title='Normalized Revenue per Use',\n",
        "        # 정규화된 값의 범위는 -1에서 1까지이므로, tickvals과 ticktext를 조정할 필요가 있습니다.\n",
        "        tickvals=[-1, 0, 1],\n",
        "        ticktext=['1', '0', '1']\n",
        "    ),\n",
        "    yaxis=dict(title='예약타입'),\n",
        "    legend=dict(title='Date')\n",
        ")\n",
        "\n",
        "fig.show()"
      ],
      "metadata": {
        "id": "jYf7BVH66Lg_"
      },
      "execution_count": null,
      "outputs": []
    },
    {
      "cell_type": "code",
      "source": [
        "# Step 2: date 및 date와 way별로 revenue_nuse의 평균 계산\n",
        "summary = df.groupby(['date', 'way'])['utime_nuse'].mean().reset_index()\n",
        "date_totals = df.groupby('date')['utime_nuse'].mean().reset_index()\n",
        "summary = summary.merge(date_totals, on='date', suffixes=('', '_total'))\n",
        "\n",
        "df_grouped = df.groupby(['way', 'date'])['utime_nuse'].mean().reset_index()\n",
        "\n",
        "# 'As-is'와 'To-be' 데이터를 wide format으로 변환\n",
        "df_pivot = df_grouped.pivot(index='way', columns='date', values=['utime_nuse'])\n",
        "\n",
        "# 컬럼 이름 재정의\n",
        "df_pivot.columns = [f'{i}_{j}' for i, j in df_pivot.columns]\n",
        "\n",
        "# 증감률 계산\n",
        "df_pivot['utime_nuse_growth'] = (df_pivot['utime_nuse_To-be'] - df_pivot['utime_nuse_As-is']) / df_pivot['utime_nuse_As-is'] * 100\n",
        "\n",
        "# 결과 데이터프레임 재구성\n",
        "result_df = df_pivot.reset_index()\n",
        "result_df = result_df[['way', 'utime_nuse_As-is', 'utime_nuse_To-be', 'utime_nuse_growth']]\n",
        "result_df"
      ],
      "metadata": {
        "id": "_iXUaf0undqb"
      },
      "execution_count": null,
      "outputs": []
    },
    {
      "cell_type": "code",
      "source": [
        "# 'As-is'와 'To-be' 데이터 복사본 생성 및 처리\n",
        "asis_data = summary[summary['date'] == 'As-is'].copy()\n",
        "tobe_data = summary[summary['date'] == 'To-be'].copy()\n",
        "\n",
        "# 'As-is' 데이터의 'revenue_nuse' 값을 음수로 변환\n",
        "asis_data['utime_nuse'] = asis_data['utime_nuse'] * -1\n",
        "\n",
        "# 피라미드 차트 생성\n",
        "fig = go.Figure()\n",
        "\n",
        "# 'As-is' 데이터 추가 (음수값 사용, 정수로 포맷팅)\n",
        "fig.add_trace(go.Bar(\n",
        "    y=asis_data['way'],\n",
        "    x=asis_data['utime_nuse'],\n",
        "    name='As-is',\n",
        "    orientation='h',\n",
        "    text=[int(value) for value in -asis_data['utime_nuse']],  # 소수점 제거\n",
        "    textposition='auto'\n",
        "))\n",
        "\n",
        "# 'To-be' 데이터 추가 (정수로 포맷팅)\n",
        "fig.add_trace(go.Bar(\n",
        "    y=tobe_data['way'],\n",
        "    x=tobe_data['utime_nuse'],\n",
        "    name='To-be',\n",
        "    orientation='h',\n",
        "    text=[int(value) for value in tobe_data['utime_nuse']],  # 소수점 제거\n",
        "    textposition='auto'\n",
        "))\n",
        "\n",
        "# 동적으로 x축 tickvals과 ticktext 생성\n",
        "max_value = max(tobe_data['utime_nuse'].max(), -asis_data['utime_nuse'].min())\n",
        "tick_step = int(max_value // 5) or 1\n",
        "tick_values = list(range(-int(max_value), int(max_value) + 1, tick_step))\n",
        "tick_texts = [str(abs(i)) for i in tick_values]\n",
        "\n",
        "# 레이아웃 업데이트\n",
        "fig.update_layout(\n",
        "    title='Date별 예약타입별 utime_nuse (피라미드 차트)',\n",
        "    barmode='overlay',\n",
        "    bargap=0.1,\n",
        "    xaxis=dict(\n",
        "        title='Utime per Use',\n",
        "        tickvals=tick_values,\n",
        "        ticktext=tick_texts\n",
        "    ),\n",
        "    yaxis=dict(\n",
        "        title='예약타입'\n",
        "    ),\n",
        "    legend=dict(title='Date')\n",
        ")\n",
        "\n",
        "fig.show()"
      ],
      "metadata": {
        "id": "RD5SL9Dl0DmU"
      },
      "execution_count": null,
      "outputs": []
    },
    {
      "cell_type": "code",
      "source": [
        "# MinMaxScaler를 사용하여 'utime_nuse'의 값을 정규화합니다.\n",
        "scaler = MinMaxScaler()\n",
        "# 전체 'summary'에 대해 'utime_nuse' 열만을 대상으로 정규화를 적용하고, 그 결과를 새 열에 저장합니다.\n",
        "summary['utime_nuse_normalized'] = scaler.fit_transform(summary[['utime_nuse']])\n",
        "\n",
        "# 'As-is'와 'To-be' 데이터 복사본 생성 및 정규화된 값 할당\n",
        "asis_data = summary[summary['date'] == 'As-is'].copy()\n",
        "tobe_data = summary[summary['date'] == 'To-be'].copy()\n",
        "\n",
        "# 'As-is' 데이터의 정규화된 'utime_nuse' 값을 음수로 변환\n",
        "asis_data['utime_nuse_normalized'] = asis_data['utime_nuse_normalized'] * -1\n",
        "\n",
        "# 피라미드 차트 생성\n",
        "fig = go.Figure()\n",
        "\n",
        "# 'As-is' 데이터 추가 (음수 정규화된 값 사용)\n",
        "fig.add_trace(go.Bar(\n",
        "    y=asis_data['way'],\n",
        "    x=asis_data['utime_nuse_normalized'],\n",
        "    name='As-is',\n",
        "    orientation='h',\n",
        "    text=[f\"{value:.2f}\" for value in -asis_data['utime_nuse_normalized']],  # 소수점 두 자리로 표시\n",
        "    textposition='auto'\n",
        "))\n",
        "\n",
        "# 'To-be' 데이터 추가 (정규화된 값 사용)\n",
        "fig.add_trace(go.Bar(\n",
        "    y=tobe_data['way'],\n",
        "    x=tobe_data['utime_nuse_normalized'],\n",
        "    name='To-be',\n",
        "    orientation='h',\n",
        "    text=[f\"{value:.2f}\" for value in tobe_data['utime_nuse_normalized']],  # 소수점 두 자리로 표시\n",
        "    textposition='auto'\n",
        "))\n",
        "\n",
        "# 동적으로 x축 tickvals과 ticktext 생성 (정규화된 값의 범위 고려)\n",
        "max_abs_value = max(abs(asis_data['utime_nuse_normalized'].min()), abs(tobe_data['utime_nuse_normalized'].max()))\n",
        "tick_values = [-max_abs_value, 0, max_abs_value]\n",
        "tick_texts = [f\"{-max_abs_value:.2f}\", \"0\", f\"{max_abs_value:.2f}\"]\n",
        "\n",
        "# 레이아웃 업데이트\n",
        "fig.update_layout(\n",
        "    title='Date별 예약타입별 정규화된 Utime per Use (피라미드 차트)',\n",
        "    barmode='overlay',\n",
        "    bargap=0.1,\n",
        "    xaxis=dict(\n",
        "        title='Normalized Utime per Use',\n",
        "        tickvals=tick_values,\n",
        "        ticktext=tick_texts\n",
        "    ),\n",
        "    yaxis=dict(\n",
        "        title='예약타입'\n",
        "    ),\n",
        "    legend=dict(title='Date')\n",
        ")\n",
        "\n",
        "fig.show()"
      ],
      "metadata": {
        "id": "Mu-0SoFh6jgD"
      },
      "execution_count": null,
      "outputs": []
    },
    {
      "cell_type": "code",
      "source": [
        "# Step 2: date 및 date와 way별로 revenue_nuse의 평균 계산\n",
        "summary = df.groupby(['date', 'way'])['margin_nuse'].mean().reset_index()\n",
        "date_totals = df.groupby('date')['margin_nuse'].mean().reset_index()\n",
        "summary = summary.merge(date_totals, on='date', suffixes=('', '_total'))\n",
        "\n",
        "df_grouped = df.groupby(['way', 'date'])['margin_nuse'].mean().reset_index()\n",
        "\n",
        "# 'As-is'와 'To-be' 데이터를 wide format으로 변환\n",
        "df_pivot = df_grouped.pivot(index='way', columns='date', values=['margin_nuse'])\n",
        "\n",
        "# 컬럼 이름 재정의\n",
        "df_pivot.columns = [f'{i}_{j}' for i, j in df_pivot.columns]\n",
        "\n",
        "# 증감률 계산\n",
        "df_pivot['margin_nuse_growth'] = (df_pivot['margin_nuse_To-be'] - df_pivot['margin_nuse_As-is']) / df_pivot['margin_nuse_As-is'] * 100\n",
        "\n",
        "# 결과 데이터프레임 재구성\n",
        "result_df = df_pivot.reset_index()\n",
        "result_df = result_df[['way', 'margin_nuse_As-is', 'margin_nuse_To-be', 'margin_nuse_growth']]\n",
        "result_df"
      ],
      "metadata": {
        "id": "tdLmWjHkWjkd"
      },
      "execution_count": null,
      "outputs": []
    },
    {
      "cell_type": "code",
      "source": [
        "# 'As-is'와 'To-be' 데이터 복사본 생성 및 처리\n",
        "asis_data = summary[summary['date'] == 'As-is'].copy()\n",
        "tobe_data = summary[summary['date'] == 'To-be'].copy()\n",
        "\n",
        "# 'As-is' 데이터의 'revenue_nuse' 값을 음수로 변환\n",
        "asis_data['margin_nuse'] = asis_data['margin_nuse'] * -1\n",
        "\n",
        "# 피라미드 차트 생성\n",
        "fig = go.Figure()\n",
        "\n",
        "# 'As-is' 데이터 추가 (음수값 사용, 정수로 포맷팅)\n",
        "fig.add_trace(go.Bar(\n",
        "    y=asis_data['way'],\n",
        "    x=asis_data['margin_nuse'],\n",
        "    name='As-is',\n",
        "    orientation='h',\n",
        "    text=[int(value) for value in -asis_data['margin_nuse']],  # 소수점 제거\n",
        "    textposition='auto'\n",
        "))\n",
        "\n",
        "# 'To-be' 데이터 추가 (정수로 포맷팅)\n",
        "fig.add_trace(go.Bar(\n",
        "    y=tobe_data['way'],\n",
        "    x=tobe_data['margin_nuse'],\n",
        "    name='To-be',\n",
        "    orientation='h',\n",
        "    text=[int(value) for value in tobe_data['margin_nuse']],  # 소수점 제거\n",
        "    textposition='auto'\n",
        "))\n",
        "\n",
        "# 동적으로 x축 tickvals과 ticktext 생성\n",
        "max_value = max(tobe_data['margin_nuse'].max(), -asis_data['margin_nuse'].min())\n",
        "tick_step = int(max_value // 5) or 1\n",
        "tick_values = list(range(-int(max_value), int(max_value) + 1, tick_step))\n",
        "tick_texts = [str(abs(i)) for i in tick_values]\n",
        "\n",
        "# 레이아웃 업데이트\n",
        "fig.update_layout(\n",
        "    title='Date별 예약타입별 margin_nuse (피라미드 차트)',\n",
        "    barmode='overlay',\n",
        "    bargap=0.1,\n",
        "    xaxis=dict(\n",
        "        title='Margin per Use',\n",
        "        tickvals=tick_values,\n",
        "        ticktext=tick_texts\n",
        "    ),\n",
        "    yaxis=dict(\n",
        "        title='예약타입'\n",
        "    ),\n",
        "    legend=dict(title='Date')\n",
        ")\n",
        "\n",
        "fig.show()"
      ],
      "metadata": {
        "id": "pyPJhxWNWrAc"
      },
      "execution_count": null,
      "outputs": []
    },
    {
      "cell_type": "code",
      "source": [
        "# MinMaxScaler를 사용하여 'utime_nuse'의 값을 정규화합니다.\n",
        "scaler = MinMaxScaler()\n",
        "# 전체 'summary'에 대해 'utime_nuse' 열만을 대상으로 정규화를 적용하고, 그 결과를 새 열에 저장합니다.\n",
        "summary['margin_nuse_normalized'] = scaler.fit_transform(summary[['margin_nuse']])\n",
        "\n",
        "# 'As-is'와 'To-be' 데이터 복사본 생성 및 정규화된 값 할당\n",
        "asis_data = summary[summary['date'] == 'As-is'].copy()\n",
        "tobe_data = summary[summary['date'] == 'To-be'].copy()\n",
        "\n",
        "# 'As-is' 데이터의 정규화된 'utime_nuse' 값을 음수로 변환\n",
        "asis_data['margin_nuse_normalized'] = asis_data['margin_nuse_normalized'] * -1\n",
        "\n",
        "# 피라미드 차트 생성\n",
        "fig = go.Figure()\n",
        "\n",
        "# 'As-is' 데이터 추가 (음수 정규화된 값 사용)\n",
        "fig.add_trace(go.Bar(\n",
        "    y=asis_data['way'],\n",
        "    x=asis_data['margin_nuse_normalized'],\n",
        "    name='As-is',\n",
        "    orientation='h',\n",
        "    text=[f\"{value:.2f}\" for value in -asis_data['margin_nuse_normalized']],  # 소수점 두 자리로 표시\n",
        "    textposition='auto'\n",
        "))\n",
        "\n",
        "# 'To-be' 데이터 추가 (정규화된 값 사용)\n",
        "fig.add_trace(go.Bar(\n",
        "    y=tobe_data['way'],\n",
        "    x=tobe_data['margin_nuse_normalized'],\n",
        "    name='To-be',\n",
        "    orientation='h',\n",
        "    text=[f\"{value:.2f}\" for value in tobe_data['margin_nuse_normalized']],  # 소수점 두 자리로 표시\n",
        "    textposition='auto'\n",
        "))\n",
        "\n",
        "# 동적으로 x축 tickvals과 ticktext 생성 (정규화된 값의 범위 고려)\n",
        "max_abs_value = max(abs(asis_data['margin_nuse_normalized'].min()), abs(tobe_data['margin_nuse_normalized'].max()))\n",
        "tick_values = [-max_abs_value, 0, max_abs_value]\n",
        "tick_texts = [f\"{-max_abs_value:.2f}\", \"0\", f\"{max_abs_value:.2f}\"]\n",
        "\n",
        "# 레이아웃 업데이트\n",
        "fig.update_layout(\n",
        "    title='Date별 예약타입별 정규화된 Margin per Use (피라미드 차트)',\n",
        "    barmode='overlay',\n",
        "    bargap=0.1,\n",
        "    xaxis=dict(\n",
        "        title='Normalized Margin per Use',\n",
        "        tickvals=tick_values,\n",
        "        ticktext=tick_texts\n",
        "    ),\n",
        "    yaxis=dict(\n",
        "        title='예약타입'\n",
        "    ),\n",
        "    legend=dict(title='Date')\n",
        ")\n",
        "\n",
        "fig.show()"
      ],
      "metadata": {
        "id": "SPTJPEsh6xCj"
      },
      "execution_count": null,
      "outputs": []
    },
    {
      "cell_type": "markdown",
      "source": [
        "## 📈 *부름 비용의 확대*\n",
        "- 부름 배반비용\n",
        "- 건당 부름 배반비용\n",
        "\n",
        "기존과 거의 비슷함\n",
        "- 부름 왕복에서 감소된 비용이 부름 편도로 증가"
      ],
      "metadata": {
        "id": "ga7zDYk7JAH0"
      }
    },
    {
      "cell_type": "code",
      "source": [
        "df_d2d = df[df['way'].isin(['d2d_round', 'd2d_onway'])]\n",
        "\n",
        "# Step 2: date 및 date와 way별로 revenue_nuse의 평균 계산\n",
        "summary = df.groupby(['date', 'way'])['d2d_cost'].mean().reset_index()\n",
        "date_totals = df.groupby('date')['d2d_cost'].mean().reset_index()\n",
        "summary = summary.merge(date_totals, on='date', suffixes=('', '_total'))\n",
        "\n",
        "summary_grouped = summary.groupby(['way', 'date'])['d2d_cost'].sum().reset_index()\n",
        "\n",
        "# 'As-is'와 'To-be' 데이터를 wide format으로 변환\n",
        "df_pivot = summary_grouped.pivot(index='way', columns='date', values=['d2d_cost'])\n",
        "\n",
        "# 컬럼 이름 재정의\n",
        "df_pivot.columns = [f'{i}_{j}' for i, j in df_pivot.columns]\n",
        "\n",
        "# 증감률 계산\n",
        "df_pivot['d2d_cost_growth'] = (df_pivot['d2d_cost_To-be'] - df_pivot['d2d_cost_As-is']) / df_pivot['d2d_cost_As-is'] * 100\n",
        "\n",
        "# 결과 데이터프레임 재구성\n",
        "result_df = df_pivot.reset_index()\n",
        "result_df = result_df[['way', 'd2d_cost_As-is', 'd2d_cost_To-be', 'd2d_cost_growth']]\n",
        "result_df"
      ],
      "metadata": {
        "id": "QajyJsLvoclQ"
      },
      "execution_count": null,
      "outputs": []
    },
    {
      "cell_type": "code",
      "source": [
        "# Step 3: 바 차트로 결과 시각화, 여기서는 revenue_nuse의 평균을 사용\n",
        "fig = px.bar(summary, x='way', y='d2d_cost', color='date',\n",
        "             title='Date별 예약타입별 d2d_cost',\n",
        "             barmode='group',\n",
        "             text='d2d_cost',\n",
        "             labels={'d2d_cost': '부름 배반비용', 'way': '예약타입', 'date': 'Date'})\n",
        "\n",
        "fig.update_traces(texttemplate='%{text:.2f}', textposition='outside')  # 소수점 두 자리로 포맷\n",
        "fig.show()"
      ],
      "metadata": {
        "id": "7pghNV3Y7wqG"
      },
      "execution_count": null,
      "outputs": []
    },
    {
      "cell_type": "code",
      "source": [
        "# date 및 date와 way별로 d2d_cost의 평균 계산\n",
        "summary = df.groupby(['date', 'way'])['d2d_cost'].mean().reset_index()\n",
        "\n",
        "# MinMaxScaler 인스턴스 생성\n",
        "scaler = MinMaxScaler()\n",
        "\n",
        "# 정규화를 위한 함수 정의\n",
        "def normalize_group(x):\n",
        "    return scaler.fit_transform(x.values.reshape(-1, 1)).flatten()\n",
        "\n",
        "# 각 date 별로 정규화 수행\n",
        "summary['d2d_cost_normalized'] = summary.groupby('date')['d2d_cost'].transform(normalize_group)\n",
        "\n",
        "# 바 차트로 결과 시각화, 정규화된 d2d_cost 평균을 사용\n",
        "fig = px.bar(summary, x='way', y='d2d_cost_normalized', color='date',\n",
        "             title='Date별 예약타입별 정규화된 d2d_cost 평균',\n",
        "             barmode='group',\n",
        "             text='d2d_cost_normalized',  # 정규화된 d2d_cost 평균 표시\n",
        "             labels={'d2d_cost_normalized': '정규화된 부름 배반비용', 'way': '예약타입', 'date': 'Date'})\n",
        "\n",
        "# 정규화된 값으로 텍스트 포맷 지정\n",
        "fig.update_traces(texttemplate='%{text:.2f}', textposition='outside')\n",
        "\n",
        "fig.show()"
      ],
      "metadata": {
        "id": "uCqyab4vr-EW"
      },
      "execution_count": null,
      "outputs": []
    },
    {
      "cell_type": "markdown",
      "source": [
        "## 📈 *부름 편도 오픈/지역 확대 전/후 유휴율 비교*\n",
        "- 지역 확대, 편도 오픈후 유휴율 감소세   \n",
        "   ```23.12.22 폭설 이슈로 급증했던 점 참고```   \n",
        "\n",
        "✔ 유휴율 개선에 효과적"
      ],
      "metadata": {
        "id": "Y54XG6N7XgYk"
      }
    },
    {
      "cell_type": "code",
      "source": [
        "query_idle = \"\"\"\n",
        "select\n",
        "  date,\n",
        "  CASE WHEN date BETWEEN '2023-11-06' AND '2023-12-07' THEN 'Before'\n",
        "       WHEN date BETWEEN '2023-12-08' AND '2024-01-08' THEN 'After' END as date_type,\n",
        "\n",
        "  round(sum(dp_min/(1440)),0) as total_car_cnt,\n",
        "  count(case when dp_min >0 and op_min = 0 then car_id end) as idle,\n",
        "  sum(op_min)/sum(dp_min) as op_rate,\n",
        "  count(case when dp_min >0 and op_min = 0 then car_id end)/round(sum(dp_min/(1440)),0) as idle_rate,\n",
        "  sum(dp_min)/60 as dp_hour,\n",
        "  sum(op_min)/60 as op_hour,\n",
        "  sum(bl_min)/60 as bl_hour,\n",
        "  sum(op_min_passport_subscription)/60 as p_hour\n",
        "\n",
        "from `socar-data.socar_biz.operation_per_car_daily_v2`\n",
        "where region1 in (\"제주특별자치도\")\n",
        "and date >= '2023-11-06' and date <= \"2024-01-08\"\n",
        "and sharing_type in ('socar','zplus')\n",
        "and zone_id not in (122,2184,11480,12072,12097,10736,10738,11947,13787,13858,14494)\n",
        "group by date, date_type\n",
        "\"\"\"\n",
        "\n",
        "df_idle = pd.io.gbq.read_gbq(\n",
        "    query=query_idle,\n",
        "    project_id=\"socar-data\"\n",
        ")"
      ],
      "metadata": {
        "id": "K_Cu6pO7XoqO"
      },
      "execution_count": null,
      "outputs": []
    },
    {
      "cell_type": "code",
      "source": [
        "# Calculate average idle_rate for each date_type\n",
        "avg_idle_rate = df_idle.groupby(['date', 'date_type'])['idle_rate'].mean().reset_index()\n",
        "\n",
        "# 전/후 유휴율과 부름 건수 평균 분포도 as a line graph\n",
        "fig = px.line(avg_idle_rate, x='date', y='idle_rate', color='date_type',\n",
        "              title='전/후 유휴율 추세선',\n",
        "              labels={'idle_rate': '제주 전체 평균 유휴율'})\n",
        "\n",
        "# y축의 범위를 0.0에서 0.2으로 설정\n",
        "fig.update_layout(yaxis=dict(range=[0.0, 0.3]))\n",
        "\n",
        "fig.show()"
      ],
      "metadata": {
        "id": "Z8pXBH-zXoh6"
      },
      "execution_count": null,
      "outputs": []
    },
    {
      "cell_type": "markdown",
      "source": [
        "## 📈 *부름 편도 오픈/지역 확대 전/후 핸들 운행률 비교*\n",
        "- 지역 확대, 편도 오픈후 핸들 운행률 유지\n",
        "   ```지역 확대와 편도 오픈에 따라 배반 지연은 없음```   \n",
        "\n",
        "✔ 차량 배반에 문제 없음"
      ],
      "metadata": {
        "id": "refJGv8ybB_y"
      }
    },
    {
      "cell_type": "code",
      "source": [
        "query = \"\"\"\n",
        "  WITH base AS (\n",
        "    SELECT\n",
        "      r.id AS rid, /* 옥스트라 예약번호 */\n",
        "      r.state, /* 핸들의 상태값 0:취소, 3:완료 */\n",
        "      hh.userId AS handler_num, /* 핸들러 회원번호 */\n",
        "      CASE WHEN r.member_id = 3806971 THEN '핸들러'\n",
        "          WHEN r.member_id = 52846 THEN '탁송업체' END AS member_type, /* 핸들러/탁송업체 운행 구분 */\n",
        "\n",
        "      CASE WHEN r.way = 'd2d_export_h' THEN '부름(배차)'\n",
        "          WHEN r.way = 'd2d_import_h' THEN '부름(반차)'\n",
        "          WHEN r.way = 'd2d_oneway' THEN '부름편도'\n",
        "          WHEN r.way = 'd2d_rev' THEN '부름(진행전)'\n",
        "          WHEN r.way = 'd2d_round' THEN '부름왕복'\n",
        "          WHEN r.way = 'handle' THEN '핸들'\n",
        "          WHEN r.way = 'oneway' THEN '편도'\n",
        "          WHEN r.way = 'oneway_float' THEN '편도(플로팅)'\n",
        "          WHEN r.way = 'return' THEN '회송'\n",
        "          WHEN r.way = 'return_h' THEN '회송(핸들)'\n",
        "          WHEN r.way = 'round' THEN '왕복'\n",
        "          WHEN r.way = 'z2d_oneway' THEN '존편도' END as way,\n",
        "\n",
        "      date(r.start_at, \"Asia/Seoul\") as date,\n",
        "      date(ifnull(r.reserved_end_at, r.end_at), \"Asia/Seoul\") as return_at,\n",
        "\n",
        "      con.memo as memo, /* 핸들러 미매칭으로 탁송전환 된 건인지 확인 용도 */\n",
        "\n",
        "      cz.address /* 쏘카존의 주소, region으로 구분하기 어려운 지역 구분 용도 */\n",
        "      ,r.way as parent_way,\n",
        "      timestamp_diff(hr.onboardat, hr.openat, minute) as dur\n",
        "\n",
        "    FROM `socar-data.tianjin_replica.reservation_info` AS r\n",
        "    LEFT JOIN `socar-handler.handler_replica.socarhandler_reservation` AS hr /* 핸들러 예약 테이블 (핸들러 배정된 내역만 적재) */\n",
        "    ON hr.scReservationId = r.id\n",
        "    LEFT JOIN `socar-handler.handler_replica.socarhandler_handle` AS hh /* 핸들별 추가 정보용 테이블 (핸들러 배정된 내역만 적재) */\n",
        "    ON hh.reservationId = hr.reservationId\n",
        "    LEFT JOIN `socar-data.tianjin_replica.carzone_info` AS cz\n",
        "    ON cz.id = r.zone_id\n",
        "    LEFT JOIN (SELECT *\n",
        "                FROM `socar-data.tianjin_replica.reservation_memo`\n",
        "                WHERE memo LIKE '%판매대기 제한시간%') AS con /* 옥스트라 예약메모 추출 (특정 문구가 포함된 건들을 탁송업체 전환이라고 보기 위함) */\n",
        "    ON con.info_key = r.id\n",
        "    WHERE r.way in ('d2d_export_h','d2d_import_h','handle') /* d2d_export_h 반차: d2d_import_h 이벤트핸들: handle */\n",
        "    AND r.state in (3,0) /* 완료&취소 핸들 집계 */\n",
        "    AND DATETIME(r.start_at,'Asia/Seoul') >= '2022-01-01'\n",
        "    AND (r.member_id = 3806971 OR (r.member_id = 52846 AND con.memo IS NOT NULL))\n",
        "    AND cz.region1 = '제주특별자치도'\n",
        "  ),\n",
        "\n",
        "  base2 AS (\n",
        "    SELECT\n",
        "      date(start_at, 'Asia/Seoul') as sdate,\n",
        "      way,\n",
        "      r.id as rid,\n",
        "      datetime_diff(end_at, start_at, hour) as dur\n",
        "\n",
        "    FROM `tianjin_replica.reservation_info` r LEFT JOIN `tianjin_replica.carzone_info` z ON r.zone_id = z.id\n",
        "    WHERE z.region1 = '제주특별자치도' AND r.member_imaginary IN (0, 9)\n",
        "                                    AND r.state IN (1, 2, 3) /* 1 예약 2 운행 3 완료 */\n",
        "                                    AND r.way IN ('d2d_round', 'd2d_oneway')\n",
        "                                    AND date(start_at, 'Asia/Seoul') >= '2023-11-06'\n",
        "                                    AND date(start_at, 'Asia/Seoul') <= \"2024-01-08\"\n",
        "  ),\n",
        "\n",
        "  d2d_calc AS (\n",
        "    SELECT\n",
        "      sdate,\n",
        "      count(rid) as rev_cnt,\n",
        "      count(CASE WHEN way = 'd2d_round' THEN rid END) as round_rev,\n",
        "      count(CASE WHEN way = 'd2d_oneway' THEN rid END) as oneway_rev,\n",
        "      sum(dur) as dur,\n",
        "      sum(dur)/count(rid) as rev_dur,\n",
        "      sum(CASE WHEN way = 'd2d_round' THEN dur END) /count(CASE WHEN way = 'd2d_round' THEN rid END) as round_rev_dur,\n",
        "      sum(CASE WHEN way = 'd2d_oneway' THEN dur END) /count(CASE WHEN way = 'd2d_oneway' THEN rid END) as oneway_rev_dur\n",
        "    FROM base2\n",
        "    GROUP BY sdate\n",
        "  ),\n",
        "\n",
        "  handle_calc AS (\n",
        "    SELECT\n",
        "      date,\n",
        "      count(CASE WHEN way LIKE '%부름%' THEN rid END) as rev_total,\n",
        "      count(CASE WHEN member_type = '핸들러' AND way LIKE \"%부름%\" THEN rid END) as handle_cnt,\n",
        "      count(CASE WHEN member_type = '탁송업체' AND way LIKE \"%부름%\" THEN rid END) as local_cnt,\n",
        "      avg(dur) as d_minute,\n",
        "\n",
        "    FROM base\n",
        "    GROUP BY date\n",
        "  )\n",
        "\n",
        "  SELECT\n",
        "\n",
        "    dc.sdate,\n",
        "\n",
        "    CASE WHEN date >= '2023-11-06' AND date <= '2023-12-07' THEN 'As-is'\n",
        "        WHEN date >= '2023-12-08' AND date <= '2024-01-08' THEN 'To-be' END as date_type,\n",
        "\n",
        "    dc.rev_cnt,\n",
        "    dc.round_rev,\n",
        "    dc.oneway_rev,\n",
        "    round(dc.dur/dc.rev_cnt, 0) as rev_dur,\n",
        "    dc.round_rev_dur,\n",
        "    dc.oneway_rev_dur,\n",
        "\n",
        "    hc.rev_total,\n",
        "    hc.handle_cnt,\n",
        "    hc.local_cnt,\n",
        "    round(hc.d_minute, 0) as d_minute,\n",
        "    round(hc.handle_cnt/hc.rev_total, 2) as hanlde_rate\n",
        "\n",
        "  FROM d2d_calc dc LEFT JOIN handle_calc hc ON dc.sdate = hc.date\n",
        "  ORDER BY sdate desc\n",
        "  \"\"\"\n",
        "\n",
        "df_handle = pd.io.gbq.read_gbq(\n",
        "    query=query,\n",
        "    project_id=\"socar-data\"\n",
        ")\n",
        "\n",
        "df_handle.info()"
      ],
      "metadata": {
        "id": "5Kpp1z1_bBkx"
      },
      "execution_count": null,
      "outputs": []
    },
    {
      "cell_type": "code",
      "source": [
        "avg_handle = df_handle.groupby('date_type')['hanlde_rate'].mean().reset_index()\n",
        "avg_handle"
      ],
      "metadata": {
        "id": "9wdur4PxcAJz"
      },
      "execution_count": null,
      "outputs": []
    },
    {
      "cell_type": "code",
      "source": [
        "# Calculate average idle_rate for each date_type\n",
        "avg_handle_rate = df_handle.groupby(['sdate', 'date_type'])['hanlde_rate'].mean().reset_index()\n",
        "\n",
        "# 전/후 유휴율과 부름 건수 평균 분포도 as a line graph\n",
        "fig = px.line(avg_handle_rate, x='sdate', y='hanlde_rate', color='date_type',\n",
        "              title='전/후 핸들 운행률 추세선',\n",
        "              labels={'hanlde_rate': '제주 전체 평균 핸들 운행률'})\n",
        "\n",
        "fig.update_layout(yaxis=dict(range=[0.4, 1.5]))\n",
        "\n",
        "fig.show()"
      ],
      "metadata": {
        "id": "K32xfQf0Xoe-"
      },
      "execution_count": null,
      "outputs": []
    },
    {
      "cell_type": "markdown",
      "source": [
        "## ✅ 서비스 확대후 매출과 이용 추이\n",
        "- 지역 확대, 편도 오픈후 핸들 운행률 유지\n",
        "   ```지역 확대와 편도 오픈에 따라 배반 지연은 없음```   \n",
        "\n",
        "✔ 차량 배반에 문제 없음"
      ],
      "metadata": {
        "id": "7J4vjTTgl6P1"
      }
    },
    {
      "cell_type": "code",
      "source": [
        "df.info()"
      ],
      "metadata": {
        "id": "7sHU-gEvwfTY"
      },
      "execution_count": null,
      "outputs": []
    },
    {
      "cell_type": "code",
      "source": [
        "# 'date'와 'way' 별로 지표들의 평균을 계산\n",
        "# 이 예제에서는 sum()을 사용\n",
        "grouped_df = df.groupby(['date', 'way']).sum().reset_index()\n",
        "\n",
        "# 'date'를 컬럼으로 변환하여 각 지표별로 'As-is'와 'To-be' 상태를 분리\n",
        "pivot_df = grouped_df.pivot(index='way', columns='date')\n",
        "\n",
        "# 컬럼 이름 재정의\n",
        "pivot_df.columns = [f'{col[0]}_{col[1]}' for col in pivot_df.columns]\n",
        "\n",
        "# 증감 계산\n",
        "for metric in ['nuse', 'utime', 'revenue', 'margin', 'd2d_cost']:\n",
        "    pivot_df[f'{metric}_change'] = pivot_df[f'{metric}_To-be'] - pivot_df[f'{metric}_As-is']\n",
        "\n",
        "# 증감 비교 표를 확인\n",
        "print(pivot_df.reset_index()[['way'] + [f'{metric}_change' for metric in ['nuse', 'utime', 'revenue', 'margin', 'd2d_cost']]])\n",
        "pivot_df"
      ],
      "metadata": {
        "id": "zQysrh3Nl7Jz"
      },
      "execution_count": null,
      "outputs": []
    },
    {
      "cell_type": "code",
      "source": [
        "from plotly.subplots import make_subplots\n",
        "\n",
        "# 1행 5열의 서브플롯 구성을 생성\n",
        "fig = make_subplots(rows=1, cols=5, subplot_titles=('Revenue Change', 'Margin Change', 'Nuse Change', 'Utime Change', 'D2d Cost Change'))\n",
        "\n",
        "# 각 지표별로 서브플롯에 바 차트 추가\n",
        "metrics = ['revenue', 'margin', 'nuse', 'utime', 'd2d_cost']\n",
        "for i, metric in enumerate(metrics, start=1):\n",
        "    fig.add_trace(\n",
        "        go.Bar(x=pivot_df.index, y=pivot_df[f'{metric}_change'], name=f'{metric.capitalize()} Change'),\n",
        "        row=1, col=i\n",
        "    )\n",
        "\n",
        "# 레이아웃 업데이트\n",
        "fig.update_layout(height=600, width=1200, title_text=\"Change from As-is to To-be across Metrics\", showlegend=False)\n",
        "fig.update_layout(barmode='group')\n",
        "\n",
        "# x축 및 y축 레이블 업데이트\n",
        "fig.update_xaxes(title_text=\"Reservation Way\", row=1, col=1)\n",
        "fig.update_yaxes(title_text=\"Change\", row=1, col=1)\n",
        "\n",
        "# 각 서브플롯에 대해 축 및 레이아웃 조정이 필요한 경우 추가적으로 업데이트\n",
        "\n",
        "fig.show()"
      ],
      "metadata": {
        "id": "8cneY4E9mnSs"
      },
      "execution_count": null,
      "outputs": []
    },
    {
      "cell_type": "code",
      "source": [
        "# 'date'와 'way' 별로 지표들의 합계를 계산하면서, numeric_only=True를 명시적으로 지정\n",
        "grouped_df = df.groupby(['date', 'way']).sum(numeric_only=True).reset_index()\n",
        "\n",
        "# pivot 대신 pivot_table 사용하고 fill_value=0 지정\n",
        "pivot_df = grouped_df.pivot_table(index='way', columns='date', values=['nuse', 'utime', 'revenue', 'margin', 'd2d_cost'], fill_value=0)\n",
        "\n",
        "# 컬럼 이름 재정의\n",
        "pivot_df.columns = [f'{col[0]}_{col[1]}' for col in pivot_df.columns]\n",
        "\n",
        "# 증감 계산 (As-is 값이 0일 경우 To-be 값으로 계산)\n",
        "for metric in ['nuse', 'utime', 'revenue', 'margin', 'd2d_cost']:\n",
        "    as_is_col = f'{metric}_As-is'\n",
        "    to_be_col = f'{metric}_To-be'\n",
        "    pivot_df[f'{metric}_change'] = pivot_df[to_be_col] - pivot_df[as_is_col]\n",
        "\n",
        "# 제주 서브플롯\n",
        "fig = make_subplots(rows=1, cols=5, subplot_titles=('Revenue Change', 'Margin Change', 'Nuse Change', 'Utime Change', 'D2d Cost Change'))\n",
        "\n",
        "# 각 지표별로 서브플롯에 바 차트 추가\n",
        "metrics = ['revenue', 'margin', 'nuse', 'utime', 'd2d_cost']\n",
        "for i, metric in enumerate(metrics, start=1):\n",
        "    fig.add_trace(\n",
        "        go.Bar(x=pivot_df.index, y=pivot_df[f'{metric}_change'], name=f'{metric.capitalize()} Change'),\n",
        "        row=1, col=i\n",
        "    )\n",
        "\n",
        "# 레이아웃 업데이트\n",
        "fig.update_layout(height=600, width=1200, title_text=\"Change from As-is to To-be across Metrics\", showlegend=False)\n",
        "fig.update_layout(barmode='group')\n",
        "\n",
        "# x축 및 y축 레이블 업데이트\n",
        "fig.update_xaxes(title_text=\"Reservation Way\", row=1, col=1)\n",
        "fig.update_yaxes(title_text=\"Change\", row=1, col=1)\n",
        "\n",
        "fig.show()"
      ],
      "metadata": {
        "id": "4GNMLONZ_7OA"
      },
      "execution_count": null,
      "outputs": []
    },
    {
      "cell_type": "code",
      "source": [
        "# 제주시\n",
        "df_jeju = df[df['region2'] == '제주시']\n",
        "\n",
        "# 'date'와 'way' 별로 지표들의 평균을 계산\n",
        "grouped_df = df_jeju.groupby(['date', 'way']).sum().reset_index()\n",
        "\n",
        "# 'date'를 컬럼으로 변환하여 각 지표별로 'As-is'와 'To-be' 상태를 분리\n",
        "pivot_df = grouped_df.pivot(index='way', columns='date')\n",
        "\n",
        "# 컬럼 이름 재정의\n",
        "pivot_df.columns = [f'{col[0]}_{col[1]}' for col in pivot_df.columns]\n",
        "\n",
        "# 증감 계산\n",
        "for metric in ['nuse', 'utime', 'revenue', 'margin', 'd2d_cost']:\n",
        "    pivot_df[f'{metric}_change'] = pivot_df[f'{metric}_To-be'] - pivot_df[f'{metric}_As-is']"
      ],
      "metadata": {
        "id": "N2OU646BBjSx"
      },
      "execution_count": null,
      "outputs": []
    },
    {
      "cell_type": "code",
      "source": [
        "# 제주 서브플랏\n",
        "fig = make_subplots(rows=1, cols=5, subplot_titles=('Revenue Change', 'Margin Change', 'Nuse Change', 'Utime Change', 'D2d Cost Change'))\n",
        "\n",
        "# 각 지표별로 서브플롯에 바 차트 추가\n",
        "metrics = ['revenue', 'margin', 'nuse', 'utime', 'd2d_cost']\n",
        "for i, metric in enumerate(metrics, start=1):\n",
        "    fig.add_trace(\n",
        "        go.Bar(x=pivot_df.index, y=pivot_df[f'{metric}_change'], name=f'{metric.capitalize()} Change'),\n",
        "        row=1, col=i\n",
        "    )\n",
        "\n",
        "# 레이아웃 업데이트\n",
        "fig.update_layout(height=600, width=1200, title_text=\"Jeju-Si Change from As-is to To-be across Metrics\", showlegend=False)\n",
        "fig.update_layout(barmode='group')\n",
        "\n",
        "# x축 및 y축 레이블 업데이트\n",
        "fig.update_xaxes(title_text=\"Reservation Way\", row=1, col=1)\n",
        "fig.update_yaxes(title_text=\"Change\", row=1, col=1)\n",
        "\n",
        "# 각 서브플롯에 대해 축 및 레이아웃 조정이 필요한 경우 추가적으로 업데이트\n",
        "fig.show()"
      ],
      "metadata": {
        "id": "umCRcIj_73as"
      },
      "execution_count": null,
      "outputs": []
    },
    {
      "cell_type": "code",
      "source": [
        "# 제주시 데이터 필터링\n",
        "df_jeju = df[df['region2'] == '제주시']\n",
        "\n",
        "# 'date'와 'way' 별로 지표들의 합계를 계산하면서, numeric_only=True를 명시적으로 지정\n",
        "grouped_df = df_jeju.groupby(['date', 'way']).sum(numeric_only=True).reset_index()\n",
        "\n",
        "# pivot 대신 pivot_table 사용하고 fill_value=0 지정\n",
        "pivot_df = grouped_df.pivot_table(index='way', columns='date', values=['nuse', 'utime', 'revenue', 'margin', 'd2d_cost'], fill_value=0)\n",
        "\n",
        "# 컬럼 이름 재정의\n",
        "pivot_df.columns = [f'{col[0]}_{col[1]}' for col in pivot_df.columns]\n",
        "\n",
        "# 증감 계산 (As-is 값이 0일 경우 To-be 값으로 계산)\n",
        "for metric in ['nuse', 'utime', 'revenue', 'margin', 'd2d_cost']:\n",
        "    as_is_col = f'{metric}_As-is'\n",
        "    to_be_col = f'{metric}_To-be'\n",
        "    pivot_df[f'{metric}_change'] = pivot_df[to_be_col] - pivot_df[as_is_col]\n",
        "\n",
        "# 제주 서브플롯\n",
        "fig = make_subplots(rows=1, cols=5, subplot_titles=('Revenue Change', 'Margin Change', 'Nuse Change', 'Utime Change', 'D2d Cost Change'))\n",
        "\n",
        "# 각 지표별로 서브플롯에 바 차트 추가\n",
        "metrics = ['revenue', 'margin', 'nuse', 'utime', 'd2d_cost']\n",
        "for i, metric in enumerate(metrics, start=1):\n",
        "    fig.add_trace(\n",
        "        go.Bar(x=pivot_df.index, y=pivot_df[f'{metric}_change'], name=f'{metric.capitalize()} Change'),\n",
        "        row=1, col=i\n",
        "    )\n",
        "\n",
        "# 레이아웃 업데이트\n",
        "fig.update_layout(height=600, width=1200, title_text=\"Jeju-Si Change from As-is to To-be across Metrics\", showlegend=False)\n",
        "fig.update_layout(barmode='group')\n",
        "\n",
        "# x축 및 y축 레이블 업데이트\n",
        "fig.update_xaxes(title_text=\"Reservation Way\", row=1, col=1)\n",
        "fig.update_yaxes(title_text=\"Change\", row=1, col=1)\n",
        "\n",
        "fig.show()"
      ],
      "metadata": {
        "id": "mjGcab47_E3H"
      },
      "execution_count": null,
      "outputs": []
    },
    {
      "cell_type": "code",
      "source": [
        "# 서귀포시\n",
        "df_swo = df[df['region2'] == '서귀포시']\n",
        "\n",
        "# 'date'와 'way' 별로 지표들의 평균을 계산\n",
        "grouped_df = df_swo.groupby(['date', 'way']).sum().reset_index()\n",
        "\n",
        "# 'date'를 컬럼으로 변환하여 각 지표별로 'As-is'와 'To-be' 상태를 분리\n",
        "pivot_df = grouped_df.pivot(index='way', columns='date')\n",
        "\n",
        "# 컬럼 이름 재정의\n",
        "pivot_df.columns = [f'{col[0]}_{col[1]}' for col in pivot_df.columns]\n",
        "\n",
        "# 증감 계산\n",
        "for metric in ['nuse', 'utime', 'revenue', 'margin', 'd2d_cost']:\n",
        "    pivot_df[f'{metric}_change'] = pivot_df[f'{metric}_To-be'] - pivot_df[f'{metric}_As-is']"
      ],
      "metadata": {
        "id": "HDuJlwD4ASDb"
      },
      "execution_count": null,
      "outputs": []
    },
    {
      "cell_type": "code",
      "source": [
        "# 서귀포 서브플랏\n",
        "fig = make_subplots(rows=1, cols=5, subplot_titles=('Revenue Change', 'Margin Change', 'Nuse Change', 'Utime Change', 'D2d Cost Change'))\n",
        "\n",
        "# 각 지표별로 서브플롯에 바 차트 추가\n",
        "metrics = ['revenue', 'margin', 'nuse', 'utime', 'd2d_cost']\n",
        "for i, metric in enumerate(metrics, start=1):\n",
        "    fig.add_trace(\n",
        "        go.Bar(x=pivot_df.index, y=pivot_df[f'{metric}_change'], name=f'{metric.capitalize()} Change'),\n",
        "        row=1, col=i\n",
        "    )\n",
        "\n",
        "# 레이아웃 업데이트\n",
        "fig.update_layout(height=600, width=1200, title_text=\"Seogwipo-Si Change from As-is to To-be across Metrics\", showlegend=False)\n",
        "fig.update_layout(barmode='group')\n",
        "\n",
        "# x축 및 y축 레이블 업데이트\n",
        "fig.update_xaxes(title_text=\"Reservation Way\", row=1, col=1)\n",
        "fig.update_yaxes(title_text=\"Change\", row=1, col=1)\n",
        "\n",
        "# 각 서브플롯에 대해 축 및 레이아웃 조정이 필요한 경우 추가적으로 업데이트\n",
        "fig.show()"
      ],
      "metadata": {
        "id": "-PasXoU2ASAr"
      },
      "execution_count": null,
      "outputs": []
    },
    {
      "cell_type": "code",
      "source": [
        "# 서귀포시 필터링\n",
        "df_swo = df[df['region2'] == '서귀포시']\n",
        "\n",
        "# 'date'와 'way' 별로 지표들의 합계를 계산하면서, numeric_only=True를 명시적으로 지정\n",
        "grouped_df = df_swo.groupby(['date', 'way']).sum(numeric_only=True).reset_index()\n",
        "\n",
        "# pivot 대신 pivot_table 사용하고 fill_value=0 지정\n",
        "pivot_df = grouped_df.pivot_table(index='way', columns='date', values=['nuse', 'utime', 'revenue', 'margin', 'd2d_cost'], fill_value=0)\n",
        "\n",
        "# 컬럼 이름 재정의\n",
        "pivot_df.columns = [f'{col[0]}_{col[1]}' for col in pivot_df.columns]\n",
        "\n",
        "# 증감 계산 (As-is 값이 0일 경우 To-be 값으로 계산)\n",
        "for metric in ['nuse', 'utime', 'revenue', 'margin', 'd2d_cost']:\n",
        "    as_is_col = f'{metric}_As-is'\n",
        "    to_be_col = f'{metric}_To-be'\n",
        "    pivot_df[f'{metric}_change'] = pivot_df[to_be_col] - pivot_df[as_is_col]\n",
        "\n",
        "# 제주 서브플롯\n",
        "fig = make_subplots(rows=1, cols=5, subplot_titles=('Revenue Change', 'Margin Change', 'Nuse Change', 'Utime Change', 'D2d Cost Change'))\n",
        "\n",
        "# 각 지표별로 서브플롯에 바 차트 추가\n",
        "metrics = ['revenue', 'margin', 'nuse', 'utime', 'd2d_cost']\n",
        "for i, metric in enumerate(metrics, start=1):\n",
        "    fig.add_trace(\n",
        "        go.Bar(x=pivot_df.index, y=pivot_df[f'{metric}_change'], name=f'{metric.capitalize()} Change'),\n",
        "        row=1, col=i\n",
        "    )\n",
        "\n",
        "# 레이아웃 업데이트\n",
        "fig.update_layout(height=600, width=1200, title_text=\"Seogwipo-Si Change from As-is to To-be across Metrics\", showlegend=False)\n",
        "fig.update_layout(barmode='group')\n",
        "\n",
        "# x축 및 y축 레이블 업데이트\n",
        "fig.update_xaxes(title_text=\"Reservation Way\", row=1, col=1)\n",
        "fig.update_yaxes(title_text=\"Change\", row=1, col=1)\n",
        "\n",
        "fig.show()"
      ],
      "metadata": {
        "id": "LIJd7jGzAR9n"
      },
      "execution_count": null,
      "outputs": []
    },
    {
      "cell_type": "code",
      "source": [],
      "metadata": {
        "id": "0p-BHe0Yzndx"
      },
      "execution_count": null,
      "outputs": []
    },
    {
      "cell_type": "markdown",
      "source": [
        "# 2. 부름 확대 전/후의 부름을 호출한 예약지 위치 변화\n"
      ],
      "metadata": {
        "id": "oDZoMtZp1R5X"
      }
    },
    {
      "cell_type": "code",
      "source": [
        "query = \"\"\"\n",
        "  SELECT\n",
        "      CASE WHEN date >= '2023-11-06' AND date <= '2023-12-07' THEN 'As-is'\n",
        "           WHEN date >= '2023-12-08' AND date <= '2024-01-08' THEN 'To-be' END as date,\n",
        "\n",
        "      scParentId as rid,\n",
        "      r.way,\n",
        "\n",
        "      -- hr.startlng, hr.startlat,\n",
        "      rv.dtod_start_lng as start_lng,\n",
        "      rv.dtod_start_lat as start_lat,\n",
        "      CASE WHEN hr.startaddress1 LIKE '%제주시%' THEN  '제주시'\n",
        "            WHEN hr.startaddress1 LIKE '%서귀포시%' THEN  '서귀포시' END as start_city,\n",
        "\n",
        "      -- hr.endlng, hr.endlat,\n",
        "      rv.dtod_end_lng as end_lng,\n",
        "      rv.dtod_end_lat as end_lat,\n",
        "      CASE WHEN hr.endAddress1 LIKE '%제주시%' THEN  '제주시'\n",
        "            WHEN hr.endAddress1 LIKE '%서귀포시%' THEN  '서귀포시' END as end_city,\n",
        "\n",
        "      rv.reservation_created_lat as c_lat,\n",
        "      rv.reservation_created_lng as c_lng,\n",
        "\n",
        "  FROM `socar-data.handler_replica.socarhandler_reservation` hr\n",
        "  LEFT JOIN `tianjin_replica.reservation_info` r ON hr.scParentId = r.id\n",
        "  LEFT JOIN `tianjin_replica.carzone_info` z ON r.zone_id = z.id\n",
        "  LEFT JOIN `soda_store.reservation_v2` rv ON hr.scParentId = rv.reservation_id\n",
        "  WHERE TIMESTAMP_TRUNC(created, DAY) BETWEEN '2023-11-06' AND '2024-01-08'\n",
        "  AND z.region1 = '제주특별자치도'\n",
        "  AND hr.way IN ('d2d_export_h')\n",
        "  AND r.state IN (1, 2, 3)\n",
        "  AND dtod_start_lng is not null\n",
        "  AND dtod_end_lng is not null\n",
        "  AND reservation_created_lat is not null\n",
        "  AND reservation_created_lng is not null\n",
        "  AND r.member_imaginary IN (0, 9)\n",
        "  \"\"\"\n",
        "\n",
        "df = pd.io.gbq.read_gbq(\n",
        "    query=query,\n",
        "    project_id=\"socar-data\"\n",
        ")\n",
        "\n",
        "df.info()"
      ],
      "metadata": {
        "id": "e_icMoPa1Xoj"
      },
      "execution_count": null,
      "outputs": []
    },
    {
      "cell_type": "code",
      "source": [
        "df['date'].unique()"
      ],
      "metadata": {
        "id": "M6bwKduO5s98"
      },
      "execution_count": null,
      "outputs": []
    },
    {
      "cell_type": "code",
      "source": [
        "import folium\n",
        "# 'as-is'와 'to-be'에 대한 색상 직접 매핑\n",
        "color_map = {\n",
        "    'As-is': 'blue',\n",
        "    'To-be': 'red'\n",
        "}"
      ],
      "metadata": {
        "id": "Ii6YyN2i3923"
      },
      "execution_count": null,
      "outputs": []
    },
    {
      "cell_type": "code",
      "source": [
        "# 지도의 초기 위치와 줌 설정하여 기본 지도 생성\n",
        "map = folium.Map(location=[df['start_lat'].mean(), df['start_lng'].mean()], zoom_start=10)\n",
        "\n",
        "# 데이터프레임을 순회하며 마커 추가\n",
        "for _, row in df.dropna(subset=['date']).iterrows():\n",
        "    # color_map에서 해당 date에 대한 색상을 가져옵니다.\n",
        "    marker_color = color_map[row['date']]\n",
        "    folium.Marker(\n",
        "        location=[row['start_lat'], row['start_lng']],\n",
        "        popup=f\"{row['date']}: {row['start_city']}\",\n",
        "        icon=folium.Icon(color=marker_color)\n",
        "    ).add_to(map)\n",
        "\n",
        "# 지도 표시\n",
        "map"
      ],
      "metadata": {
        "id": "1olWOSnS3B46"
      },
      "execution_count": null,
      "outputs": []
    },
    {
      "cell_type": "code",
      "source": [
        "from folium import plugins\n",
        "\n",
        "# 'As-is' 데이터에 대한 지도\n",
        "as_is_df = df[df['date'] == 'As-is']\n",
        "as_is_map = folium.Map(location=[as_is_df['start_lat'].mean(), as_is_df['start_lng'].mean()], zoom_start=10)\n",
        "\n",
        "# 'As-is' 데이터에 대한 클러스터 생성 및 마커 추가\n",
        "as_is_cluster = plugins.MarkerCluster().add_to(as_is_map)\n",
        "for _, row in as_is_df.iterrows():\n",
        "    folium.Marker(\n",
        "        location=[row['start_lat'], row['start_lng']],\n",
        "        popup=f\"As-is: {row['start_city']}\",\n",
        "        icon=folium.Icon(color='blue')\n",
        "    ).add_to(as_is_cluster)\n",
        "\n",
        "# 'To-be' 데이터에 대한 지도\n",
        "to_be_df = df[df['date'] == 'To-be']\n",
        "to_be_map = folium.Map(location=[to_be_df['start_lat'].mean(), to_be_df['start_lng'].mean()], zoom_start=10)\n",
        "\n",
        "# 'To-be' 데이터에 대한 클러스터 생성 및 마커 추가\n",
        "to_be_cluster = plugins.MarkerCluster().add_to(to_be_map)\n",
        "for _, row in to_be_df.iterrows():\n",
        "    folium.Marker(\n",
        "        location=[row['start_lat'], row['start_lng']],\n",
        "        popup=f\"To-be: {row['start_city']}\",\n",
        "        icon=folium.Icon(color='green')\n",
        "    ).add_to(to_be_cluster)"
      ],
      "metadata": {
        "id": "qmVBWdtydC4a"
      },
      "execution_count": null,
      "outputs": []
    },
    {
      "cell_type": "code",
      "source": [
        "# 지도 표시는 각각 별도로 진행해야 합니다. 예를 들어:\n",
        "as_is_map  # 'As-is' 지도를 Jupyter Notebook에서 표시"
      ],
      "metadata": {
        "id": "dyZ6aABbds3z"
      },
      "execution_count": null,
      "outputs": []
    },
    {
      "cell_type": "code",
      "source": [
        "to_be_map  # 'To-be' 지도를 Jupyter Notebook에서 표시"
      ],
      "metadata": {
        "id": "VRiVVr1pdsX1"
      },
      "execution_count": null,
      "outputs": []
    },
    {
      "cell_type": "code",
      "source": [
        "# 지도의 초기 위치와 줌 설정하여 기본 지도 생성\n",
        "map = folium.Map(location=[df['c_lat'].mean(), df['c_lng'].mean()], zoom_start=10)\n",
        "\n",
        "# 데이터프레임을 순회하며 마커 추가\n",
        "for _, row in df.dropna(subset=['date']).iterrows():\n",
        "    # color_map에서 해당 date에 대한 색상을 가져옵니다.\n",
        "    marker_color = color_map[row['date']]\n",
        "    folium.Marker(\n",
        "        location=[row['c_lat'], row['c_lng']],\n",
        "        popup=f\"{row['date']}: {row['start_city']}\",\n",
        "        icon=folium.Icon(color=marker_color)\n",
        "    ).add_to(map)\n",
        "\n",
        "# 지도 표시\n",
        "map"
      ],
      "metadata": {
        "id": "DJz3gMgM9B7d"
      },
      "execution_count": null,
      "outputs": []
    },
    {
      "cell_type": "code",
      "source": [],
      "metadata": {
        "id": "snOzcgsn4yTC"
      },
      "execution_count": null,
      "outputs": []
    }
  ]
}