{
  "nbformat": 4,
  "nbformat_minor": 0,
  "metadata": {
    "colab": {
      "provenance": [],
      "toc_visible": true
    },
    "kernelspec": {
      "name": "python3",
      "display_name": "Python 3"
    },
    "language_info": {
      "name": "python"
    }
  },
  "cells": [
    {
      "cell_type": "markdown",
      "source": [
        "# *23y 예약자 이용 행태 분석*\n",
        "\n",
        "---\n",
        "## 개요\n",
        "1. 제주지역의 예약 패턴을 찾아본다\n",
        "\n",
        "---"
      ],
      "metadata": {
        "id": "zGPycjBjvHSv"
      }
    },
    {
      "cell_type": "markdown",
      "source": [
        "## 주요 명칭\n",
        "1. Part\n",
        "*   제주공항 : 제주공항 쏘카존\n",
        "*   제주공항 앞 : 제주공항 앞(도보) 쏘카존\n",
        "*   일반_제주 : 제주공항, 제주공항 앞을 제외한 제주지역 쏘카존\n",
        "*   일반_서귀포 : 제주공항, 제주공항 앞을 제외한 서귀포지역 쏘카존\n",
        "\n",
        "2. Leadtime\n",
        "*   예약생성과 예약시작 시간간의 차이(Day)\n",
        "\n",
        "3. 예약 생성위치\n",
        "*   예약 당시 예약자의 위치(GPS)\n",
        "\n",
        "4. 쏘카존\n",
        "*   쏘카의 카셰어링이 운영되는 주차장 단위의 영업 거점\n",
        "\n",
        "5. 쏘카존과의 거리\n",
        "*   예약 생성위치와 쏘카존 간의 거리(M)\n",
        "\n",
        "---\n"
      ],
      "metadata": {
        "id": "NBmbB2vevHbb"
      }
    },
    {
      "cell_type": "markdown",
      "source": [
        "## 가설과 분석 방향 기획\n",
        "*   *이용자의 예약 패턴에 따라 대여요금과 존 공급계획은 달라져야 한다*\n",
        "*   *따라서 먼저 이용이 시작 되기전의 상황을 분석해 제주지역의 이용 트렌드를 분석해본다*\n",
        "---\n",
        "\n",
        "1. 문제 정의 : Part별로 서로 다른 이용 행태를 가지고 있고 그에 따라 전략 기획에 대한 접근 방법도 달라야 한다.\n",
        "\n",
        "\n",
        "Part별 이용자들의 예약을 분석해본다\n",
        "*   예약 리드타임\n",
        "*   예약 생성시간\n",
        "*   예약 생성위치\n",
        "\n",
        "2. 기대효과\n",
        "*   분류된 예약 패턴에 따라 사전 대응(대여요금 세팅, 존별 운영 계획 등)을 보다 효율적으로 진행할 수 있을 것으로 기대됨\n",
        "\n",
        "---"
      ],
      "metadata": {
        "id": "IZ9JGeMIvHhP"
      }
    },
    {
      "cell_type": "markdown",
      "source": [
        "---\n",
        "## Summary\n",
        "\n",
        "1. 제주도의 수요는 여행 수요가 대부분이다\n",
        "2. 제주도 운영지역 Part별 이용 행태는 다르다\n",
        "- 공항/공항 앞 : 제주도외 + 사전 + 당일 수요\n",
        "- 일반 : 제주도내 + 당일 수요\n",
        "3. 다른 행태에 따라 각 파트별 요금 전략과 공급계획의 중요한 기준은 달라져야한다\n",
        "\n",
        "---"
      ],
      "metadata": {
        "id": "dzLlLKZ7GOu1"
      }
    },
    {
      "cell_type": "code",
      "source": [
        "from google.colab import output\n",
        "output.clear()"
      ],
      "metadata": {
        "id": "dXQusfDsFDzQ"
      },
      "execution_count": null,
      "outputs": []
    },
    {
      "cell_type": "markdown",
      "source": [
        "# 필요한 라이브러리 준비 ⏳\n",
        "---"
      ],
      "metadata": {
        "id": "lh2ryPej00UL"
      }
    },
    {
      "cell_type": "code",
      "source": [
        "import pandas as pd\n",
        "import numpy as np\n",
        "from plotnine import *\n",
        "import seaborn as sns\n",
        "import plotly.express as px"
      ],
      "metadata": {
        "id": "1j_mEeIr03Kq"
      },
      "execution_count": null,
      "outputs": []
    },
    {
      "cell_type": "code",
      "source": [
        "import gspread\n",
        "from google.auth import default\n",
        "creds, _ = default()\n",
        "from gspread_dataframe import get_as_dataframe, set_with_dataframe\n",
        "\n",
        "from google.cloud import bigquery\n",
        "from oauth2client.client import GoogleCredentials\n",
        "\n",
        "gc = gspread.authorize(creds)"
      ],
      "metadata": {
        "id": "_JticDX205mK"
      },
      "execution_count": null,
      "outputs": []
    },
    {
      "cell_type": "markdown",
      "source": [
        "# \b분석 파트 1 _ 예약 리드타임\n",
        "---"
      ],
      "metadata": {
        "id": "Qeo_9RuV09qm"
      }
    },
    {
      "cell_type": "markdown",
      "source": [
        "### 필요한 데이터를 빅쿼리에 연동하여 가져옴\n",
        "* 23년, 제주지역 한정"
      ],
      "metadata": {
        "id": "PpmXboES1N0s"
      }
    },
    {
      "cell_type": "code",
      "source": [
        "query = \"\"\"\n",
        "  WITH base1 AS (\n",
        "    SELECT\n",
        "    extract(year FROM date(start_at, 'Asia/Seoul')) as year,\n",
        "    extract(month FROM date(start_at, 'Asia/Seoul')) as month,\n",
        "    extract(isoweek FROM date(start_at, 'Asia/Seoul')) as week,\n",
        "    r.id as rid,\n",
        "    r.member_id as mid,\n",
        "\n",
        "    CASE WHEN zone_id IN (105, 9890) THEN 'air'\n",
        "          WHEN zone_id IN (17209) THEN 'air_infront'\n",
        "          WHEN zone_id IN (18471, 18472, 18473) THEN 'test' ELSE 'common' END as part,\n",
        "\n",
        "    datetime_diff(end_at, start_at, hour) as dur,\n",
        "    date(start_at, 'Asia/Seoul') as sdate,\n",
        "    date(end_at, 'Asia/Seoul') as edate,\n",
        "    extract(hour FROM r.created_at) as chour,\n",
        "    extract(hour FROM start_at) as shour,\n",
        "    datetime_diff(start_at, r.created_at, day) as leadtime,\n",
        "\n",
        "\n",
        "  FROM `tianjin_replica.reservation_info` r LEFT JOIN `tianjin_replica.carzone_info` z ON r.zone_id = z.id\n",
        "  WHERE r.member_imaginary IN (0, 9)\n",
        "  AND date(start_at, 'Asia/Seoul') BETWEEN '2023-01-01' AND '2023-12-31'\n",
        "  AND z.region1 = '제주특별자치도'\n",
        "  AND r.state in (1,2,3)\n",
        "  )\n",
        "\n",
        "  SELECT\n",
        "    year, month, week,\n",
        "    part,\n",
        "    leadtime,\n",
        "    count(rid) as cnt\n",
        "  FROM base1\n",
        "  GROUP BY year, month, week, part, leadtime\n",
        "  \"\"\"\n",
        "df = pd.io.gbq.read_gbq(\n",
        "    query=query,\n",
        "    project_id=\"socar-data\"\n",
        ")\n"
      ],
      "metadata": {
        "id": "58mkbE6c1Lw8"
      },
      "execution_count": null,
      "outputs": []
    },
    {
      "cell_type": "code",
      "source": [
        "df.shape"
      ],
      "metadata": {
        "id": "3Md1dV3J1MGN"
      },
      "execution_count": null,
      "outputs": []
    },
    {
      "cell_type": "code",
      "source": [
        "df.dtypes"
      ],
      "metadata": {
        "id": "KaoxgHep19Vk"
      },
      "execution_count": null,
      "outputs": []
    },
    {
      "cell_type": "code",
      "source": [
        "df.describe()"
      ],
      "metadata": {
        "id": "eZjjhrhs19c2"
      },
      "execution_count": null,
      "outputs": []
    },
    {
      "cell_type": "markdown",
      "source": [
        "## 📊 리드타임별 예약 건수 전체 대비 구성비\n",
        "1. 당일 예약의 비중이 대다수이다.\n",
        "2. 최대 10일이내의 예약이 많다"
      ],
      "metadata": {
        "id": "KMTKThzh0_Ba"
      }
    },
    {
      "cell_type": "code",
      "source": [
        "# part와 leadtime별로 그룹화하고 cnt의 합계\n",
        "summary = df.groupby('leadtime')['cnt'].sum().reset_index()\n",
        "\n",
        "# 전체 예약건수의 합계\n",
        "total_employee_counts = summary['cnt'].sum()\n",
        "\n",
        "# 비율\n",
        "summary['proportion'] = (summary['cnt'] / total_employee_counts) * 100\n",
        "\n",
        "fig = px.bar(summary, x='leadtime', y='proportion',\n",
        "             title=\"각 leadtime별 예약건수의 전체 대비 구성비\",\n",
        "             barmode='group',\n",
        "             text='proportion',\n",
        "             labels={'proportion': '구성비 (%)', 'leadtime': 'Leadtime : Day'})\n",
        "\n",
        "\n",
        "fig.update_traces(texttemplate='%{text:1.0f}%', textposition='outside')\n",
        "fig.show()"
      ],
      "metadata": {
        "id": "kknfDHOl2SuD"
      },
      "execution_count": null,
      "outputs": []
    },
    {
      "cell_type": "code",
      "source": [
        "summary.head(11)"
      ],
      "metadata": {
        "id": "5boFYFAw239x"
      },
      "execution_count": null,
      "outputs": []
    },
    {
      "cell_type": "markdown",
      "source": [
        "### ✈ 공항의 예약 리드타임 구성비\n",
        "1. 공항 Part 역시 당일 예약의 비중이 높다\n",
        "2. 공항은 30일 이상으로도 미리 예약하는 경우가 *있다*"
      ],
      "metadata": {
        "id": "D2wxj9M33Fay"
      }
    },
    {
      "cell_type": "code",
      "source": [
        "df_air = df[df['part']=='air']\n",
        "\n",
        "summary = df_air.groupby(['part', 'leadtime'])['cnt'].sum().reset_index()\n",
        "\n",
        "total_employee_counts = summary['cnt'].sum()\n",
        "\n",
        "summary['proportion'] = (summary['cnt'] / total_employee_counts) * 100\n",
        "\n",
        "\n",
        "fig = px.bar(summary, x='leadtime', y='proportion', color='part',\n",
        "             title=\"각 leadtime별 예약건수의 전체 대비 구성비\",\n",
        "             barmode='group',\n",
        "             text='proportion',\n",
        "             labels={'proportion': '구성비 (%)', 'leadtime': 'Leadtime', 'part': 'Part'})\n",
        "\n",
        "\n",
        "fig.update_traces(texttemplate='%{text:.1f}%', textposition='outside')\n",
        "fig.show()"
      ],
      "metadata": {
        "id": "-dsS7Rac232N"
      },
      "execution_count": null,
      "outputs": []
    },
    {
      "cell_type": "code",
      "source": [
        "summary.head(11)"
      ],
      "metadata": {
        "id": "_OvMH5tj3nSJ"
      },
      "execution_count": null,
      "outputs": []
    },
    {
      "source": [
        "# @title proportion\n",
        "\n",
        "from matplotlib import pyplot as plt\n",
        "summary['proportion'].plot(kind='hist', bins=20, title='proportion')\n",
        "plt.gca().spines[['top', 'right',]].set_visible(False)"
      ],
      "cell_type": "code",
      "execution_count": null,
      "outputs": [],
      "metadata": {
        "cellView": "form",
        "id": "kqDB7H5I3s64"
      }
    },
    {
      "cell_type": "markdown",
      "source": [
        "### ✈▶ 공항 앞 예약 리드타임 구성비\n",
        "1. 공항 앞 역시 당일 예약의 비중이 대부분이다\n",
        "2. 공항과 비슷한 패턴의 리드타임을 보여주지만 공항과 같이 리드타임이 길 수록 줄어들지 않는다"
      ],
      "metadata": {
        "id": "wwHbsBhI0-4p"
      }
    },
    {
      "cell_type": "code",
      "source": [
        "df_airf = df[df['part']=='air_infront']\n",
        "\n",
        "\n",
        "summary = df_airf.groupby(['part', 'leadtime'])['cnt'].sum().reset_index()\n",
        "\n",
        "total_employee_counts = summary['cnt'].sum()\n",
        "\n",
        "summary['proportion'] = (summary['cnt'] / total_employee_counts) * 100\n",
        "\n",
        "fig = px.bar(summary, x='leadtime', y='proportion', color='part',\n",
        "             title=\"각 leadtime별 예약건수의 전체 대비 구성비\",\n",
        "             barmode='group',\n",
        "             text='proportion',\n",
        "             labels={'proportion': '구성비 (%)', 'leadtime': 'Leadtime', 'part': 'Part'})\n",
        "\n",
        "fig.update_traces(texttemplate='%{text:.1f}%', textposition='outside')\n",
        "fig.show()"
      ],
      "metadata": {
        "id": "j2a5eo9M37T6"
      },
      "execution_count": null,
      "outputs": []
    },
    {
      "cell_type": "code",
      "source": [
        "summary.head(11)"
      ],
      "metadata": {
        "id": "vPCNiqHI3j-Z"
      },
      "execution_count": null,
      "outputs": []
    },
    {
      "cell_type": "markdown",
      "source": [
        "### 🏝 일반 지역의 예약 전체 구성비\n",
        "1. 거의 모든 예약이 당일 예약이다\n",
        "2. 5일 이내에 전체의 대부분의 예약이 분포되어 있다"
      ],
      "metadata": {
        "id": "PncQbx704gqb"
      }
    },
    {
      "cell_type": "code",
      "source": [
        "df_common = df[df['part']=='common']\n",
        "\n",
        "summary = df_common.groupby(['part', 'leadtime'])['cnt'].sum().reset_index()\n",
        "\n",
        "total_employee_counts = summary['cnt'].sum()\n",
        "\n",
        "summary['proportion'] = (summary['cnt'] / total_employee_counts) * 100\n",
        "\n",
        "fig = px.bar(summary, x='leadtime', y='proportion', color='part',\n",
        "             title=\"각 leadtime별 예약건수의 전체 대비 구성비\",\n",
        "             barmode='group',\n",
        "             text='proportion',\n",
        "             labels={'proportion': '구성비 (%)', 'leadtime': 'Leadtime', 'part': 'Part'})\n",
        "\n",
        "fig.update_traces(texttemplate='%{text:.1f}%', textposition='outside')\n",
        "fig.show()"
      ],
      "metadata": {
        "id": "f5b4rwRD3j1B"
      },
      "execution_count": null,
      "outputs": []
    },
    {
      "cell_type": "code",
      "source": [
        "# @title\n",
        "summary.head(11)"
      ],
      "metadata": {
        "id": "YtC18ZdZ5BPc",
        "cellView": "form"
      },
      "execution_count": null,
      "outputs": []
    },
    {
      "cell_type": "markdown",
      "source": [
        "### ✅ 결론\n",
        "1. 제주 전체적으로 당일 예약의 비중이 높다\n",
        "2. 공항과 공항 앞은 사전에 미리 예약하는 비중도 꽤 높다\n",
        "3. 제주 일반은 대체로 당일 예약하며 사전 3일을 넘어가는 경우는 거의 없다"
      ],
      "metadata": {
        "id": "prNace5p-ZST"
      }
    },
    {
      "cell_type": "code",
      "source": [
        "from google.colab import output\n",
        "output.clear()"
      ],
      "metadata": {
        "id": "WrhCBITsE4sQ"
      },
      "execution_count": null,
      "outputs": []
    },
    {
      "cell_type": "markdown",
      "source": [
        "# \b분석 파트 1 _ 예약 시작시간"
      ],
      "metadata": {
        "id": "KtRezLS75iP3"
      }
    },
    {
      "cell_type": "markdown",
      "source": [
        "### 필요한 데이터를 빅쿼리에 연동하여 가져옴\n",
        "* 23년, 제주지역 한정\n",
        "\n",
        "---"
      ],
      "metadata": {
        "id": "k5G8RKNQ3i9J"
      }
    },
    {
      "cell_type": "code",
      "source": [
        "query = \"\"\"\n",
        "  WITH base1 AS (\n",
        "    SELECT\n",
        "    extract(year FROM date(start_at, 'Asia/Seoul')) as year,\n",
        "    extract(month FROM date(start_at, 'Asia/Seoul')) as month,\n",
        "    extract(isoweek FROM date(start_at, 'Asia/Seoul')) as week,\n",
        "    r.id as rid,\n",
        "    r.member_id as mid,\n",
        "\n",
        "    CASE WHEN zone_id IN (105, 9890) THEN 'air'\n",
        "          WHEN zone_id IN (17209) THEN 'air_infront'\n",
        "          WHEN zone_id IN (18471, 18472, 18473) THEN 'test' ELSE 'common' END as part,\n",
        "\n",
        "    datetime_diff(end_at, start_at, hour) as dur,\n",
        "    date(start_at, 'Asia/Seoul') as sdate,\n",
        "    date(end_at, 'Asia/Seoul') as edate,\n",
        "    extract(hour FROM r.created_at) as chour,\n",
        "    extract(hour FROM start_at) as shour,\n",
        "    datetime_diff(start_at, r.created_at, day) as leadtime,\n",
        "\n",
        "\n",
        "  FROM `tianjin_replica.reservation_info` r LEFT JOIN `tianjin_replica.carzone_info` z ON r.zone_id = z.id\n",
        "  WHERE r.member_imaginary IN (0, 9)\n",
        "  AND date(start_at, 'Asia/Seoul') BETWEEN '2023-01-01' AND '2023-12-31'\n",
        "  AND z.region1 = '제주특별자치도'\n",
        "  AND r.state in (1,2,3)\n",
        "  )\n",
        "\n",
        "  SELECT\n",
        "    year, month, week,\n",
        "    part,\n",
        "    shour,\n",
        "    count(rid) as cnt\n",
        "  FROM base1\n",
        "  GROUP BY year, month, week, part, shour\n",
        "  \"\"\"\n",
        "df = pd.io.gbq.read_gbq(\n",
        "    query=query,\n",
        "    project_id=\"socar-data\"\n",
        ")"
      ],
      "metadata": {
        "id": "wArvwuzN51i6"
      },
      "execution_count": null,
      "outputs": []
    },
    {
      "cell_type": "markdown",
      "source": [
        "## 📊 예약 시작시간별 예약 건수 전체 대비 구성비\n",
        "1. 22시부터 13시 사이에 예약을 많이함\n",
        "2. 당장 차를 사용하기 전날, 직전에 많이 예약하는 것으로 보여짐"
      ],
      "metadata": {
        "id": "icT7_kvx23Uo"
      }
    },
    {
      "cell_type": "code",
      "source": [
        "summary = df.groupby('shour')['cnt'].sum().reset_index()\n",
        "\n",
        "# 전체 예약건수의 합계\n",
        "total_employee_counts = summary['cnt'].sum()\n",
        "\n",
        "# 비율\n",
        "summary['proportion'] = (summary['cnt'] / total_employee_counts) * 100\n",
        "\n",
        "fig = px.bar(summary, x='shour', y='proportion',\n",
        "             title=\"각 shour별 예약건수의 전체 대비 구성비\",\n",
        "             barmode='group',\n",
        "             text='proportion',\n",
        "             labels={'proportion': '구성비 (%)', 'shour': 'shour : Hour'})\n",
        "\n",
        "fig.update_traces(texttemplate='%{text:1.0f}%', textposition='outside')\n",
        "fig.show()"
      ],
      "metadata": {
        "id": "8jObJqxX7qNq"
      },
      "execution_count": null,
      "outputs": []
    },
    {
      "cell_type": "code",
      "source": [
        "summary.shape"
      ],
      "metadata": {
        "id": "kOoGalA5733W"
      },
      "execution_count": null,
      "outputs": []
    },
    {
      "cell_type": "code",
      "source": [
        "summary.head(24)"
      ],
      "metadata": {
        "id": "zmZGReEt71-m"
      },
      "execution_count": null,
      "outputs": []
    },
    {
      "cell_type": "markdown",
      "source": [
        "### ✈ 공항의 예약 리드타임 구성비\n",
        "1. 공항 Part는 제주 전체의 예약시간과 비슷한 트렌드를 보임\n",
        "2. 늦은 저념부터 새벽시간대에 예약이 많이 되어짐"
      ],
      "metadata": {
        "id": "2NjaLs5I23PJ"
      }
    },
    {
      "cell_type": "code",
      "source": [
        "df_air = df[df['part']=='air']\n",
        "\n",
        "summary_air = df_air.groupby(['part', 'shour'])['cnt'].sum().reset_index()\n",
        "\n",
        "total_employee_counts = summary_air['cnt'].sum()\n",
        "\n",
        "summary_air['proportion'] = (summary_air['cnt'] / total_employee_counts) * 100\n",
        "\n",
        "fig = px.bar(summary_air, x='shour', y='proportion', color='part',\n",
        "             title=\"각 shour별 예약건수의 전체 대비 구성비\",\n",
        "             barmode='group',\n",
        "             text='proportion',\n",
        "             labels={'proportion': '구성비 (%)', 'shour': 'Reservation Start hour', 'part': 'Part'})\n",
        "\n",
        "\n",
        "fig.update_traces(texttemplate='%{text:.1f}%', textposition='outside')\n",
        "fig.show()"
      ],
      "metadata": {
        "id": "dUQWZivY8Sos"
      },
      "execution_count": null,
      "outputs": []
    },
    {
      "cell_type": "code",
      "source": [
        "summary_air.shape"
      ],
      "metadata": {
        "id": "ozMMKlV48TQh"
      },
      "execution_count": null,
      "outputs": []
    },
    {
      "cell_type": "code",
      "source": [
        "summary_air.head(24)"
      ],
      "metadata": {
        "id": "ESclHhKj8TFJ"
      },
      "execution_count": null,
      "outputs": []
    },
    {
      "cell_type": "markdown",
      "source": [
        "### ✈▶ 공항 앞 예약 리드타임 구성비\n",
        "1. 공항 앞 역시 전체 트렌드와 비슷함\n",
        "2. 공항과 비슷한 패턴의 리드타임을 보여주지만 공항과 달리 특정 시간대에 예약을 하는 경우가 많음"
      ],
      "metadata": {
        "id": "B4lh0KFw23MK"
      }
    },
    {
      "cell_type": "code",
      "source": [
        "df_airf = df[df['part']=='air_infront']\n",
        "\n",
        "summary_airf = df_airf.groupby(['part', 'shour'])['cnt'].sum().reset_index()\n",
        "\n",
        "total_employee_counts = summary_airf['cnt'].sum()\n",
        "\n",
        "summary_airf['proportion'] = (summary_airf['cnt'] / total_employee_counts) * 100\n",
        "\n",
        "fig = px.bar(summary_airf, x='shour', y='proportion', color='part',\n",
        "             title=\"각 shour별 예약건수의 전체 대비 구성비\",\n",
        "             barmode='group',\n",
        "             text='proportion',\n",
        "             labels={'proportion': '구성비 (%)', 'shour': 'Reservation Start hour', 'part': 'Part'})\n",
        "\n",
        "\n",
        "fig.update_traces(texttemplate='%{text:.1f}%', textposition='outside')\n",
        "fig.show()"
      ],
      "metadata": {
        "id": "mZDY7ELL8xP0"
      },
      "execution_count": null,
      "outputs": []
    },
    {
      "cell_type": "code",
      "source": [
        "summary_airf.shape"
      ],
      "metadata": {
        "id": "VZspCewb8xGW"
      },
      "execution_count": null,
      "outputs": []
    },
    {
      "cell_type": "code",
      "source": [
        "summary_airf.head(24)"
      ],
      "metadata": {
        "id": "vLQAc_Ng8ww0"
      },
      "execution_count": null,
      "outputs": []
    },
    {
      "cell_type": "markdown",
      "source": [
        "### 🏝 일반 지역의 예약 전체 구성비\n",
        "1. 공항, 공항 앞 지역과는 다소 다르게 오후까지도 예약이 분포되어있고 저녁시간대 예약이 적음\n",
        "2. 당장 차가 필요한 시간에 예약을 하는 것으로 보여짐"
      ],
      "metadata": {
        "id": "gqq01EyE23JL"
      }
    },
    {
      "cell_type": "code",
      "source": [
        "df_common = df[df['part']=='common']\n",
        "\n",
        "summary_common = df_common.groupby(['part', 'shour'])['cnt'].sum().reset_index()\n",
        "\n",
        "\n",
        "total_employee_counts = summary_common['cnt'].sum()\n",
        "\n",
        "summary_common['proportion'] = (summary_common['cnt'] / total_employee_counts) * 100\n",
        "\n",
        "fig = px.bar(summary_common, x='shour', y='proportion', color='part',\n",
        "             title=\"각 shour별 예약건수의 전체 대비 구성비\",\n",
        "             barmode='group',\n",
        "             text='proportion',\n",
        "             labels={'proportion': '구성비 (%)', 'shour': 'Reservation Start hour', 'part': 'Part'})\n",
        "\n",
        "fig.update_traces(texttemplate='%{text:.1f}%', textposition='outside')\n",
        "fig.show()"
      ],
      "metadata": {
        "id": "-sJ5NdhA9YqA"
      },
      "execution_count": null,
      "outputs": []
    },
    {
      "cell_type": "markdown",
      "source": [],
      "metadata": {
        "id": "zq5sZDnSVEnn"
      }
    },
    {
      "cell_type": "code",
      "source": [
        "summary_common.shape"
      ],
      "metadata": {
        "id": "V4DHQLrT9YiC"
      },
      "execution_count": null,
      "outputs": []
    },
    {
      "cell_type": "code",
      "source": [
        "summary_common.head(24)"
      ],
      "metadata": {
        "id": "khGpIBrK9YXS"
      },
      "execution_count": null,
      "outputs": []
    },
    {
      "cell_type": "markdown",
      "source": [
        "### ✅ 결론\n",
        "1. 대체로 늦은 저녁부터 오전에 이용을 시작하는 경우가 많다.\n",
        "2. 공항과 공항 심야부터 오전까지로 집중되지만\n",
        "3. 제주 일반은 오후까지 골고루 분포되는 트렌드를 보인다.\n",
        "4. 늦은 오후부터 저녁시간 전까지는 예약이 대체로 없다 -> 해당 시간대에는 이동 수요가 없다 AND 이미 팔려 이용할 수 있는 차가 없다"
      ],
      "metadata": {
        "id": "mZd7y5i523B3"
      }
    },
    {
      "cell_type": "markdown",
      "source": [
        "# \b분석 파트 1 _ 예약 생성시간"
      ],
      "metadata": {
        "id": "vzI7shXbzdbM"
      }
    },
    {
      "cell_type": "markdown",
      "source": [
        "### 필요한 데이터를 빅쿼리에 연동하여 가져옴\n",
        "* 23년, 제주지역 한정\n",
        "\n",
        "---"
      ],
      "metadata": {
        "id": "PciW97Mqzys3"
      }
    },
    {
      "cell_type": "code",
      "source": [
        "query = \"\"\"\n",
        "  WITH base1 AS (\n",
        "    SELECT\n",
        "    extract(year FROM date(start_at, 'Asia/Seoul')) as year,\n",
        "    extract(month FROM date(start_at, 'Asia/Seoul')) as month,\n",
        "    extract(isoweek FROM date(start_at, 'Asia/Seoul')) as week,\n",
        "    r.id as rid,\n",
        "    r.member_id as mid,\n",
        "\n",
        "    CASE WHEN zone_id IN (105, 9890) THEN 'air'\n",
        "          WHEN zone_id IN (17209) THEN 'air_infront'\n",
        "          WHEN zone_id IN (18471, 18472, 18473) THEN 'test' ELSE 'common' END as part,\n",
        "\n",
        "    datetime_diff(end_at, start_at, hour) as dur,\n",
        "    date(start_at, 'Asia/Seoul') as sdate,\n",
        "    date(end_at, 'Asia/Seoul') as edate,\n",
        "    extract(hour FROM r.created_at) as chour,\n",
        "    extract(hour FROM start_at) as shour,\n",
        "    datetime_diff(start_at, r.created_at, day) as leadtime,\n",
        "\n",
        "\n",
        "  FROM `tianjin_replica.reservation_info` r LEFT JOIN `tianjin_replica.carzone_info` z ON r.zone_id = z.id\n",
        "  WHERE r.member_imaginary IN (0, 9)\n",
        "  AND date(start_at, 'Asia/Seoul') BETWEEN '2023-01-01' AND '2023-12-31'\n",
        "  AND z.region1 = '제주특별자치도'\n",
        "  AND r.state in (1,2,3)\n",
        "  )\n",
        "\n",
        "  SELECT\n",
        "    part,\n",
        "    chour,\n",
        "    count(rid) as cnt\n",
        "  FROM base1\n",
        "  GROUP BY part, chour\n",
        "  \"\"\"\n",
        "df = pd.io.gbq.read_gbq(\n",
        "    query=query,\n",
        "    project_id=\"socar-data\"\n",
        ")"
      ],
      "metadata": {
        "id": "nS4e2XN0zcoh"
      },
      "execution_count": null,
      "outputs": []
    },
    {
      "cell_type": "markdown",
      "source": [
        "## 📊 예약 생성시간별 예약 건수 전체 대비 구성비\n",
        "1. 예약이 시작하는 시간과 비슷한 트렌드를 보이지만, 생성은 15시 이전까지도 꾸준히 나타남\n",
        "2. 예약시작도 비슷하지만 15시부터 22시이전까지는 생성과 시작이 거의 없는 시간 -> 이용할 차가 없기 때문일 수 있다"
      ],
      "metadata": {
        "id": "Kr8LljADz_tj"
      }
    },
    {
      "cell_type": "code",
      "source": [
        "summary = df.groupby('chour')['cnt'].sum().reset_index()\n",
        "\n",
        "total_employee_counts = summary['cnt'].sum()\n",
        "\n",
        "summary['proportion'] = (summary['cnt'] / total_employee_counts) * 100\n",
        "\n",
        "fig = px.bar(summary, x='chour', y='proportion',\n",
        "             title=\"각 chour별 예약건수의 전체 대비 구성비\",\n",
        "             barmode='group',\n",
        "             text='proportion',\n",
        "             labels={'proportion': '구성비 (%)', 'chour': '예약_생성시간'})\n",
        "\n",
        "fig.update_traces(texttemplate='%{text:1.0f}%', textposition='outside')\n",
        "fig.show()"
      ],
      "metadata": {
        "id": "8QBbSNWMzchG"
      },
      "execution_count": null,
      "outputs": []
    },
    {
      "cell_type": "code",
      "source": [
        "summary.shape"
      ],
      "metadata": {
        "id": "y6s9tp1A0RNj"
      },
      "execution_count": null,
      "outputs": []
    },
    {
      "cell_type": "code",
      "source": [
        "summary.head(24)"
      ],
      "metadata": {
        "id": "-NWhEXnk0RGV"
      },
      "execution_count": null,
      "outputs": []
    },
    {
      "cell_type": "markdown",
      "source": [
        "### ✈ 공항의 예약시작 건수 구성비\n",
        "1. 공항 Part는 제주 전체의 예약 생성시간과 비슷한 트렌드를 보임\n",
        "2. 늦은 저녁부터 점심 이후까지 예약이 많이 생성됨"
      ],
      "metadata": {
        "id": "oBSDDYDr0ze4"
      }
    },
    {
      "cell_type": "code",
      "source": [
        "df_air = df[df['part']=='air']\n",
        "\n",
        "summary_air = df_air.groupby(['part', 'chour'])['cnt'].sum().reset_index()\n",
        "\n",
        "total_employee_counts = summary_air['cnt'].sum()\n",
        "\n",
        "summary_air['proportion'] = (summary_air['cnt'] / total_employee_counts) * 100\n",
        "\n",
        "fig = px.bar(summary_air, x='chour', y='proportion', color='part',\n",
        "             title=\"각 chour별 예약건수의 전체 대비 구성비\",\n",
        "             barmode='group',\n",
        "             text='proportion',\n",
        "             labels={'proportion': '구성비 (%)', 'chour': '예약 생성시간', 'part': 'Part'})\n",
        "\n",
        "fig.update_traces(texttemplate='%{text:.1f}%', textposition='outside')\n",
        "fig.show()"
      ],
      "metadata": {
        "id": "Ayid13fBzcd_"
      },
      "execution_count": null,
      "outputs": []
    },
    {
      "cell_type": "code",
      "source": [
        "summary_air.shape"
      ],
      "metadata": {
        "id": "o0Q0-I-S1YbL"
      },
      "execution_count": null,
      "outputs": []
    },
    {
      "cell_type": "code",
      "source": [
        "summary_air.head(24)"
      ],
      "metadata": {
        "id": "eNZZLC9i1YUt"
      },
      "execution_count": null,
      "outputs": []
    },
    {
      "cell_type": "markdown",
      "source": [
        "### ✈▶ 공항 앞 예약 시작건수 구성비\n",
        "1. 공항 앞 역시 전체 트렌드와 비슷하며 공항과 같은 구성을 보여주지만\n",
        "2. 공항과는 다르게 특정 시간대에서 생성이 크게 증가 -> 비행기 탑승 전/후로 예약할 수 있다"
      ],
      "metadata": {
        "id": "3lob2Otj1Won"
      }
    },
    {
      "cell_type": "code",
      "source": [
        "df_airf = df[df['part']=='air_infront']\n",
        "\n",
        "summary_airf = df_airf.groupby(['part', 'chour'])['cnt'].sum().reset_index()\n",
        "\n",
        "total_employee_counts = summary_airf['cnt'].sum()\n",
        "\n",
        "summary_airf['proportion'] = (summary_airf['cnt'] / total_employee_counts) * 100\n",
        "\n",
        "fig = px.bar(summary_airf, x='chour', y='proportion', color='part',\n",
        "             title=\"각 chour별 예약건수의 전체 대비 구성비\",\n",
        "             barmode='group',\n",
        "             text='proportion',\n",
        "             labels={'proportion': '구성비 (%)', 'chour': '예약 생성시간', 'part': 'Part'})\n",
        "\n",
        "fig.update_traces(texttemplate='%{text:.1f}%', textposition='outside')\n",
        "fig.show()"
      ],
      "metadata": {
        "id": "muz5pVuC1jpb"
      },
      "execution_count": null,
      "outputs": []
    },
    {
      "cell_type": "code",
      "source": [
        "summary_air.shape"
      ],
      "metadata": {
        "id": "auPhRfut1jkU"
      },
      "execution_count": null,
      "outputs": []
    },
    {
      "cell_type": "code",
      "source": [
        "summary_air.head(24)"
      ],
      "metadata": {
        "id": "eXVqNggS1jdH"
      },
      "execution_count": null,
      "outputs": []
    },
    {
      "cell_type": "markdown",
      "source": [
        "### 🏝 일반 지역의 예약 전체 구성비\n",
        "1. 전반적인 예약 생성의 트렌드는 공항과 비슷함\n",
        "2. 오후 3시를 기점으로 예약 생성이 크게 줄어듦"
      ],
      "metadata": {
        "id": "Qt5P5Snd1WiW"
      }
    },
    {
      "cell_type": "code",
      "source": [
        "df_common = df[df['part']=='common']\n",
        "\n",
        "# part와 leadtime별로 그룹화하고 cnt의 합계를 구합니다.\n",
        "summary_common = df_common.groupby(['part', 'chour'])['cnt'].sum().reset_index()\n",
        "\n",
        "# 전체 예약건수의 합계를 계산합니다.\n",
        "total_employee_counts = summary_common['cnt'].sum()\n",
        "\n",
        "# 비율을 계산합니다.\n",
        "summary_common['proportion'] = (summary_common['cnt'] / total_employee_counts) * 100\n",
        "\n",
        "# Plotly Express를 사용하여 그래프를 그립니다.\n",
        "fig = px.bar(summary_common, x='chour', y='proportion', color='part',\n",
        "             title=\"각 chour별 예약건수의 전체 대비 구성비\",\n",
        "             barmode='group',\n",
        "             text='proportion',\n",
        "             labels={'proportion': '구성비 (%)', 'chour': '예약 생성시간', 'part': 'Part'})\n",
        "\n",
        "# texttemplate와 textposition을 조정합니다.\n",
        "fig.update_traces(texttemplate='%{text:.1f}%', textposition='outside')\n",
        "\n",
        "# 그래프를 보여줍니다.\n",
        "fig.show()"
      ],
      "metadata": {
        "id": "qBoJfC0D18Qi"
      },
      "execution_count": null,
      "outputs": []
    },
    {
      "cell_type": "markdown",
      "source": [
        "### ✅ 결론\n",
        "1. 예약 시작과 생성은 대체로 비슷한 추이를 보인다\n",
        "2. 공항과 일반 지역의 이용자들은 같다고 볼 수 있을 것이다 -> 생성과 시작의 패턴이 비슷하기 때문\n",
        "3. 리드타임에서 보앗듯이 당장 필요해서 전날/당일 아침에 예약하는 경우가 많다\n",
        "4. 공항 앞은 비행기의 착륙 전/후를 기준으로 이용이 많이 나타날 수 있다"
      ],
      "metadata": {
        "id": "ZCntH8vLzcPX"
      }
    },
    {
      "cell_type": "markdown",
      "source": [
        "---\n",
        "### ⏩ 제주 지역의 예약 행태\n",
        "1. 당일 수요가 대부분이다\n",
        "- 공항과 공항 앞은 사전 수요도 있음\n",
        "- 일반은 대부분 당일 수요\n",
        "\n",
        "2. 이용 D-day 점심전후에 예약하는 경우가 대부분이다\n",
        "- 판매는 오전에 대부분 이루어진다\n",
        "- 판매를 위한 전날의 액션이, 다음날 판매에 영향을 준다\n",
        "\n",
        "3. 파트별 행태\n",
        "- 제주공항은 사전수요에 대한 전략, 심야~오전까지 공급피크 전략이 필요\n",
        "- 제주공항 앞은 사전수요에 대한 전략, 비행기 편수에 따른 공급 전략 필요\n",
        "- 제주일반은 당일 수요에 대응 하기 위해 D-1의 전략과 액션이 중요"
      ],
      "metadata": {
        "id": "kNp36jnPzcIW"
      }
    },
    {
      "cell_type": "markdown",
      "source": [
        "### ↪ 예약 행태 분석의 한계\n",
        "1. 시즌별, 요일별에 따른 구분이 이루어지지 않음\n",
        "2. 전체 구성비를 가지고 보았기 때문에 운영대수가 많은 쏘카존의 영향도가 높을 수 있음\n",
        "\n",
        "---"
      ],
      "metadata": {
        "id": "ap7H4dVYzcAM"
      }
    },
    {
      "cell_type": "markdown",
      "source": [
        "# 4. 참고 - 파트별 이용시간\n",
        "- 예약시작 - 종료시간 = 이용시간"
      ],
      "metadata": {
        "id": "oV7a7TNB6XN3"
      }
    },
    {
      "cell_type": "markdown",
      "source": [
        "### 필요한 데이터를 빅쿼리에 연동하여 가져옴\n",
        "* 23년, 제주지역 한정\n",
        "\n",
        "---"
      ],
      "metadata": {
        "id": "vFHW_hVM876Y"
      }
    },
    {
      "cell_type": "code",
      "source": [
        "query = \"\"\"\n",
        "  WITH base1 AS (\n",
        "    SELECT\n",
        "    extract(year FROM date(start_at, 'Asia/Seoul')) as year,\n",
        "    extract(month FROM date(start_at, 'Asia/Seoul')) as month,\n",
        "    extract(isoweek FROM date(start_at, 'Asia/Seoul')) as week,\n",
        "    r.id as rid,\n",
        "    r.member_id as mid,\n",
        "\n",
        "    CASE WHEN zone_id IN (105, 9890) THEN 'air'\n",
        "          WHEN zone_id IN (17209) THEN 'air_infront'\n",
        "          WHEN zone_id IN (18471, 18472, 18473) THEN 'test' ELSE 'common' END as part,\n",
        "\n",
        "    datetime_diff(end_at, start_at, hour) as dur,\n",
        "    date(start_at, 'Asia/Seoul') as sdate,\n",
        "    date(end_at, 'Asia/Seoul') as edate,\n",
        "    extract(hour FROM r.created_at) as chour,\n",
        "    extract(hour FROM start_at) as shour,\n",
        "    datetime_diff(start_at, r.created_at, day) as leadtime,\n",
        "\n",
        "\n",
        "  FROM `tianjin_replica.reservation_info` r LEFT JOIN `tianjin_replica.carzone_info` z ON r.zone_id = z.id\n",
        "  WHERE r.member_imaginary IN (0, 9)\n",
        "  AND date(start_at, 'Asia/Seoul') BETWEEN '2023-01-01' AND '2023-12-31'\n",
        "  AND z.region1 = '제주특별자치도'\n",
        "  AND r.state in (1,2,3)\n",
        "  )\n",
        "\n",
        "  SELECT\n",
        "    year, month, week,\n",
        "    part,\n",
        "\n",
        "    CASE WHEN dur <= 10 THEN 10\n",
        "         WHEN dur > 10 AND dur <= 21 THEN 21\n",
        "         WHEN dur > 21 AND dur <= 47 THEN 47\n",
        "         WHEN dur > 47 AND dur <= 78 THEN 78 ELSE 79 END as dur,\n",
        "\n",
        "    count(rid) as cnt\n",
        "  FROM base1\n",
        "  GROUP BY year, month, week, part, dur\n",
        "  \"\"\"\n",
        "\n",
        "df = pd.io.gbq.read_gbq(\n",
        "    query=query,\n",
        "    project_id=\"socar-data\"\n",
        ")"
      ],
      "metadata": {
        "id": "pBcT_uRK6nnA"
      },
      "execution_count": null,
      "outputs": []
    },
    {
      "cell_type": "markdown",
      "source": [
        "## 📊 파트별 이용시간 구성비\n",
        "1. 공항은 장시간(24시간 이상) 이용의 비율이 압도적이다\n",
        "2. 공항 앞은 장시간(24시간 이상)과 단시간(10시간 이하)의 구성비 반반으로 나뉘어진다고 볼 수 잇다\n",
        "3. 일반은 압도적으로 단시간(10시간 이하) 이용이 많다."
      ],
      "metadata": {
        "id": "OYq7B_xl9BME"
      }
    },
    {
      "cell_type": "code",
      "source": [
        "# part와 leadtime별로 그룹화하고 cnt의 합계를 구합니다.\n",
        "summary = df.groupby(['part', 'dur'])['cnt'].sum().reset_index()\n",
        "\n",
        "# 전체 예약건수의 합계를 계산합니다.\n",
        "total_employee_counts = summary['cnt'].sum()\n",
        "\n",
        "# 비율을 계산합니다.\n",
        "summary['proportion'] = (summary['cnt'] / total_employee_counts) * 100\n",
        "\n",
        "# Plotly Express를 사용하여 그래프를 그립니다.\n",
        "fig = px.bar(summary, x='dur', y='proportion', color='part',\n",
        "             title=\"각 dur별 예약건수의 전체 대비 구성비\",\n",
        "             barmode='group',\n",
        "             text='proportion',\n",
        "             labels={'proportion': '구성비 (%)', 'dur': '이용시간', 'part': 'Part'})\n",
        "\n",
        "# texttemplate와 textposition을 조정합니다.\n",
        "fig.update_traces(texttemplate='%{text:.1f}%', textposition='outside')\n",
        "\n",
        "# 그래프를 보여줍니다.\n",
        "fig.show()"
      ],
      "metadata": {
        "id": "KyoKdYC76nkI"
      },
      "execution_count": null,
      "outputs": []
    },
    {
      "cell_type": "code",
      "source": [
        "summary = df.groupby(['part', 'dur'])['cnt'].sum().reset_index()\n",
        "\n",
        "total_employee_counts = summary['cnt'].sum()\n",
        "\n",
        "summary['proportion'] = (summary['cnt'] / total_employee_counts) * 100\n",
        "\n",
        "# 각 'part'별 도넛차트\n",
        "for part in summary['part'].unique():\n",
        "    fig = px.pie(summary[summary['part'] == part], values='proportion', names='dur',\n",
        "                 title=f\"'{part}' Part의 dur 별 구성비\",\n",
        "                 hole=0.3)\n",
        "    fig.update_traces(textinfo='percent+label')\n",
        "    fig.show()"
      ],
      "metadata": {
        "id": "-iI0IE-t8lTR"
      },
      "execution_count": null,
      "outputs": []
    },
    {
      "cell_type": "code",
      "source": [
        "import plotly.graph_objects as go\n",
        "from plotly.subplots import make_subplots\n",
        "\n",
        "summary = summary[summary['part'] != \"test\"]\n",
        "\n",
        "# 각 'part'별로 subplot 생성을 위한 준비\n",
        "parts = summary['part'].unique()\n",
        "rows = 1  # 여기서는 모든 차트를 한 줄로 나열 (필요에 따라 조정)\n",
        "cols = len(parts)  # unique 'part'의 개수만큼 열 생성\n",
        "\n",
        "# make_subplots로 subplot 구조 생성\n",
        "fig = make_subplots(rows=rows, cols=cols, specs=[[{'type':'domain'}]*cols], subplot_titles=[f\"'{part}' Part\" for part in parts])\n",
        "\n",
        "# 각 'part'별 도넛 차트를 subplot에 추가\n",
        "for i, part in enumerate(parts, start=1):\n",
        "    part_summary = summary[summary['part'] == part]\n",
        "    fig.add_trace(go.Pie(labels=part_summary['dur'], values=part_summary['proportion'], name=part, hole=0.3, textinfo='percent+label'), row=1, col=i)\n",
        "\n",
        "# 차트 레이아웃 설정 (옵션)\n",
        "fig.update_layout(title_text=\"각 'part'별 dur 별 구성비\", width=1200, height=600)  # 너비와 높이는 적절하게 조절\n",
        "\n",
        "# 차트 표시\n",
        "fig.show()"
      ],
      "metadata": {
        "id": "MNH7qALSYSOR"
      },
      "execution_count": null,
      "outputs": []
    },
    {
      "cell_type": "markdown",
      "source": [
        "# \b분석 파트 2 _ 예약 생성위치\n",
        "* 예약자의 예약 당시 위치를 기준으로 제주 지역과 존의 이용 행태를 분석해본다\n",
        "\n",
        "---"
      ],
      "metadata": {
        "id": "nCUOW0BJ-BM0"
      }
    },
    {
      "cell_type": "markdown",
      "source": [
        "### 필요한 데이터를 빅쿼리에 연동하여 가져옴\n",
        "* 23년, 제주지역 한정\n",
        "\n",
        "---"
      ],
      "metadata": {
        "id": "h-DhOw5X-VsH"
      }
    },
    {
      "cell_type": "markdown",
      "source": [
        "# 시작하기에 앞서 _ 파트별 예약 위치 히트맵"
      ],
      "metadata": {
        "id": "mWvIazINjsH_"
      }
    },
    {
      "cell_type": "code",
      "source": [
        "query = \"\"\"\n",
        "  WITH base AS (\n",
        "    SELECT\n",
        "      CASE WHEN zone_id IN (105, 9890) THEN 'air'\n",
        "          WHEN zone_id IN (17209) THEN 'air_infront' ELSE 'common' END as part,\n",
        "\n",
        "      date,\n",
        "      isoyear as year, isoweek as week, month,\n",
        "      reservation_id as rid,\n",
        "      reservation_created_lat as r_lat,\n",
        "      reservation_created_lng as r_lng,\n",
        "    FROM soda_store.reservation_v2\n",
        "    WHERE date >= '2023-01-01' AND date <= '2023-12-31' AND region1 = '제주특별자치도'\n",
        "  )\n",
        "\n",
        "  SELECT\n",
        "    part,\n",
        "    rid,\n",
        "    r_lat, r_lng\n",
        "  FROM base\n",
        "  \"\"\"\n",
        "\n",
        "df_map = pd.io.gbq.read_gbq(\n",
        "  query=query,\n",
        "  project_id=\"socar-data\"\n",
        ")"
      ],
      "metadata": {
        "id": "EsJVVHTwjxuP"
      },
      "execution_count": null,
      "outputs": []
    },
    {
      "cell_type": "code",
      "source": [
        "df_map.info()"
      ],
      "metadata": {
        "id": "eXQ6BF-kj7tS"
      },
      "execution_count": null,
      "outputs": []
    },
    {
      "cell_type": "code",
      "source": [
        "df_map_air = df_map[df_map['part'] == 'air'].copy()\n",
        "df_map_airf = df_map[df_map['part'] == 'air_infront'].copy()\n",
        "df_map_common = df_map[df_map['part'] == 'common'].copy()"
      ],
      "metadata": {
        "id": "JVsvOOPPlnnf"
      },
      "execution_count": null,
      "outputs": []
    },
    {
      "cell_type": "code",
      "source": [
        "df_map_air.info()"
      ],
      "metadata": {
        "id": "nMEbUoprtEs3"
      },
      "execution_count": null,
      "outputs": []
    },
    {
      "cell_type": "code",
      "source": [
        "!pip install folium --upgrade"
      ],
      "metadata": {
        "id": "SiO8aqUzoA2i"
      },
      "execution_count": null,
      "outputs": []
    },
    {
      "cell_type": "code",
      "source": [
        "import folium\n",
        "from folium.plugins import MarkerCluster"
      ],
      "metadata": {
        "id": "POWk4rT5uGRZ"
      },
      "execution_count": null,
      "outputs": []
    },
    {
      "cell_type": "markdown",
      "source": [
        "### ✈ 공항 예약위치 히트맵\n",
        "- 공항은 데이터가 너무 많기 때문에 샘플링하여 노출"
      ],
      "metadata": {
        "id": "mvwKysommQh-"
      }
    },
    {
      "cell_type": "code",
      "source": [
        "df_map_air.dropna(subset=['r_lat', 'r_lng'], inplace=True)\n",
        "\n",
        "df_sampled = df_map_air.sample(frac=0.3)\n",
        "\n",
        "map_center = [df_sampled['r_lat'].mean(), df_sampled['r_lng'].mean()]\n",
        "\n",
        "m = folium.Map(location=map_center, zoom_start=10)\n",
        "\n",
        "marker_cluster = MarkerCluster().add_to(m)\n",
        "\n",
        "for idx, row in df_sampled.iterrows():\n",
        "    folium.Marker(location=[row['r_lat'], row['r_lng']], popup=str(row['rid'])).add_to(marker_cluster)\n",
        "\n",
        "m"
      ],
      "metadata": {
        "id": "lUOh-uCAlnkW"
      },
      "execution_count": null,
      "outputs": []
    },
    {
      "cell_type": "markdown",
      "source": [
        "### ✈▶ 공항 앞 예약위치 히트맵"
      ],
      "metadata": {
        "id": "-eVJxey7mj4A"
      }
    },
    {
      "cell_type": "code",
      "source": [
        "# 데이터 전처리: 누락된 값을 제거\n",
        "df_map_airf.dropna(subset=['r_lat', 'r_lng'], inplace=True)\n",
        "\n",
        "# 지도의 중심을 데이터의 평균 위도와 경도로 설정\n",
        "map_center = [df_map_airf['r_lat'].mean(), df_map_airf['r_lng'].mean()]\n",
        "\n",
        "# Folium 지도 객체 생성\n",
        "m = folium.Map(location=map_center, zoom_start=10)\n",
        "\n",
        "# 마커 클러스터 객체 생성\n",
        "marker_cluster = MarkerCluster().add_to(m)\n",
        "\n",
        "# 데이터 포인트를 클러스터에 추가\n",
        "for idx, row in df_map_airf.iterrows():\n",
        "    folium.Marker(location=[row['r_lat'], row['r_lng']], popup=str(row['rid'])).add_to(marker_cluster)\n",
        "\n",
        "# 지도 표시\n",
        "m"
      ],
      "metadata": {
        "id": "PQfbBA7xlngx"
      },
      "execution_count": null,
      "outputs": []
    },
    {
      "cell_type": "markdown",
      "source": [
        "### 🏝 일반 예약위치 히트맵"
      ],
      "metadata": {
        "id": "1CRHzMOymozI"
      }
    },
    {
      "cell_type": "code",
      "source": [
        "# 데이터 전처리: 누락된 값을 제거\n",
        "df_map_common.dropna(subset=['r_lat', 'r_lng'], inplace=True)\n",
        "\n",
        "# 지도의 중심을 데이터의 평균 위도와 경도로 설정\n",
        "map_center = [df_map_common['r_lat'].mean(), df_map_common['r_lng'].mean()]\n",
        "\n",
        "# Folium 지도 객체 생성\n",
        "m = folium.Map(location=map_center, zoom_start=10)\n",
        "\n",
        "# 마커 클러스터 객체 생성\n",
        "marker_cluster = MarkerCluster().add_to(m)\n",
        "\n",
        "# 데이터 포인트를 클러스터에 추가\n",
        "for idx, row in df_map_common.iterrows():\n",
        "    folium.Marker(location=[row['r_lat'], row['r_lng']], popup=str(row['rid'])).add_to(marker_cluster)\n",
        "\n",
        "# 지도 표시\n",
        "m"
      ],
      "metadata": {
        "id": "fO26OEy8mr_o"
      },
      "execution_count": null,
      "outputs": []
    },
    {
      "cell_type": "markdown",
      "source": [
        "# 분석 파트 2 _ 예약 생성 위치와 예약한 쏘카존과의 거리\n",
        "- 파트별 이용자들은 어디서 예약할까 ?"
      ],
      "metadata": {
        "id": "0TZRBqbt-ZrJ"
      }
    },
    {
      "cell_type": "code",
      "source": [
        "query = \"\"\"\n",
        "  WITH base AS (\n",
        "    SELECT\n",
        "      CASE WHEN zone_id IN (105, 9890) THEN 'air'\n",
        "          WHEN zone_id IN (17209) THEN 'air_infront' ELSE 'common' END as part,\n",
        "\n",
        "      date,\n",
        "      isoyear as year, isoweek as week, month,\n",
        "      reservation_id as rid,\n",
        "      zone_id as zid,\n",
        "      zone_lng, zone_lat,\n",
        "      age,\n",
        "      reservation_created_lat as r_lat,\n",
        "      reservation_created_lng as r_lng,\n",
        "\n",
        "      CASE WHEN st_distance(st_geogpoint(zone_lng, zone_lat), st_geogpoint(reservation_created_lng, reservation_created_lat)) <= 500 THEN '500m'\n",
        "          WHEN st_distance(st_geogpoint(zone_lng, zone_lat), st_geogpoint(reservation_created_lng, reservation_created_lat)) <= 1000 THEN '1000m'\n",
        "          WHEN st_distance(st_geogpoint(zone_lng, zone_lat), st_geogpoint(reservation_created_lng, reservation_created_lat)) <= 3000 THEN '3000m'\n",
        "          WHEN st_distance(st_geogpoint(zone_lng, zone_lat), st_geogpoint(reservation_created_lng, reservation_created_lat)) > 3000 THEN 'O3000m' END as zone_loc,\n",
        "\n",
        "      CASE WHEN st_distance(st_geogpoint(126.5319, 33.36266), st_geogpoint(reservation_created_lng, reservation_created_lat)) >= 50000 THEN 'jeju_out'\n",
        "           WHEN st_distance(st_geogpoint(126.5319, 33.36266), st_geogpoint(reservation_created_lng, reservation_created_lat)) < 50000 THEN 'jeju_in' END as rev_loc\n",
        "\n",
        "    FROM soda_store.reservation_v2\n",
        "    WHERE date >= '2023-01-01' AND date <= '2023-12-31' AND region1 = '제주특별자치도'\n",
        "  )\n",
        "\n",
        "  SELECT\n",
        "    part,\n",
        "    zone_loc,\n",
        "    count(rid) as cnt,\n",
        "  FROM base\n",
        "  WHERE zone_loc is not null\n",
        "  GROUP BY part, zone_loc\n",
        "  \"\"\"\n",
        "df = pd.io.gbq.read_gbq(\n",
        "    query=query,\n",
        "    project_id=\"socar-data\"\n",
        ")\n",
        "\n",
        "df.info()"
      ],
      "metadata": {
        "id": "330boWhT78rn"
      },
      "execution_count": null,
      "outputs": []
    },
    {
      "cell_type": "code",
      "source": [
        "df.shape"
      ],
      "metadata": {
        "id": "NXcyu2Gi-onZ"
      },
      "execution_count": null,
      "outputs": []
    },
    {
      "cell_type": "markdown",
      "source": [
        "## 📊 파트별 예약 쏘카존과의 예약 위치 거리\n",
        "1. 공항과 공항은 3km 이상에서 예약하는 건수가 압도적이다\n",
        "2. 일반은 대체로 500m 이내에서 예약하는 건수가 많으며 공항 앞도 일부 예약은 근거리에서 예약되었다"
      ],
      "metadata": {
        "id": "2sJCZ9QavHo3"
      }
    },
    {
      "cell_type": "code",
      "source": [
        "fig = px.bar(df, x='zone_loc', y='cnt', color='part',\n",
        "             title=\"각 존예약위치별 예약건수\",\n",
        "             barmode='group',\n",
        "             text='cnt',\n",
        "             labels={'cnt': '이용건수 (건)', 'zone_loc': '예약위치_존', 'part': 'Part'})\n",
        "\n",
        "fig.update_traces(texttemplate='%{text:1.0f}', textposition='outside')\n",
        "fig.show()"
      ],
      "metadata": {
        "id": "fRXGH26h-3mS"
      },
      "execution_count": null,
      "outputs": []
    },
    {
      "cell_type": "markdown",
      "source": [
        "### ✈ 공항의 예약위치와 공항 쏘카존과의 거리\n",
        "1. 공항은 82% 이상의 예약이 3km 이상에서 예약된다\n",
        "\n",
        "* 공항은 쏘카존 주변이 아닌 더 먼 지역에서 예약된다"
      ],
      "metadata": {
        "id": "AZYHNSo7_QgI"
      }
    },
    {
      "cell_type": "code",
      "source": [
        "df_air = df[df['part'] == 'air']\n",
        "df_air = df_air.groupby(['part', 'zone_loc'])['cnt'].sum().reset_index()\n",
        "\n",
        "total_employee_counts = df_air['cnt'].sum()\n",
        "\n",
        "df_air['proportion'] = (df_air['cnt'] / total_employee_counts) * 100\n",
        "\n",
        "fig = px.bar(df_air, x='zone_loc', y='proportion', color='part',\n",
        "             title=\"각 zone_loc별 예약건수의 전체 대비 구성비\",\n",
        "             barmode='group',\n",
        "             text='proportion',\n",
        "             labels={'proportion': '구성비 (%)', 'zone_loc': '예약위치_존', 'part': 'Part'})\n",
        "\n",
        "fig.update_traces(texttemplate='%{text:.1f}%', textposition='outside')\n",
        "fig.show()"
      ],
      "metadata": {
        "id": "yQPOvfeo_QJV"
      },
      "execution_count": null,
      "outputs": []
    },
    {
      "cell_type": "markdown",
      "source": [
        "### ✈▶ 공항 앞의 예약 위치와 공항 앞 쏘카존과의 거리\n",
        "1. 공항 앞 역시 공항과 비슷하게 3km 이외 지역에서의 예약이 많다\n",
        "2. 공항과 다른 점은 500m 이내에서 예약하는 건의 비율도 높다는 것(상대적으로)"
      ],
      "metadata": {
        "id": "6EGVST3-_uuW"
      }
    },
    {
      "cell_type": "code",
      "source": [
        "df_airf = df[df['part'] == 'air_infront']\n",
        "df_airf = df_airf.groupby(['part', 'zone_loc'])['cnt'].sum().reset_index()\n",
        "\n",
        "total_employee_counts = df_airf['cnt'].sum()\n",
        "\n",
        "df_airf['proportion'] = (df_airf['cnt'] / total_employee_counts) * 100\n",
        "\n",
        "fig = px.bar(df_airf, x='zone_loc', y='proportion', color='part',\n",
        "             title=\"각 zone_loc별 예약건수의 전체 대비 구성비\",\n",
        "             barmode='group',\n",
        "             text='proportion',\n",
        "             labels={'proportion': '구성비 (%)', 'zone_loc': '예약위치_존', 'part': 'Part'})\n",
        "\n",
        "fig.update_traces(texttemplate='%{text:.1f}%', textposition='outside')\n",
        "fig.show()"
      ],
      "metadata": {
        "id": "IdfxOyrt_QDA"
      },
      "execution_count": null,
      "outputs": []
    },
    {
      "cell_type": "markdown",
      "source": [
        "### 🏝 일반의 예약 위치와 일반지역내 쏘카존과의 거리\n",
        "1. 일반은 대부분의 예약이 근거리에서 예약된다"
      ],
      "metadata": {
        "id": "T-W-WrZzANDb"
      }
    },
    {
      "cell_type": "code",
      "source": [
        "df_common = df[df['part'] == 'common']\n",
        "df_common = df_common.groupby(['part', 'zone_loc'])['cnt'].sum().reset_index()\n",
        "\n",
        "total_employee_counts = df_common['cnt'].sum()\n",
        "\n",
        "df_common['proportion'] = (df_common['cnt'] / total_employee_counts) * 100\n",
        "\n",
        "fig = px.bar(df_common, x='zone_loc', y='proportion', color='part',\n",
        "             title=\"각 zone_loc별 예약건수의 전체 대비 구성비\",\n",
        "             barmode='group',\n",
        "             text='proportion',\n",
        "             labels={'proportion': '구성비 (%)', 'zone_loc': '예약위치_존', 'part': 'Part'})\n",
        "\n",
        "fig.update_traces(texttemplate='%{text:.1f}%', textposition='outside')\n",
        "fig.show()"
      ],
      "metadata": {
        "id": "6CcI074O-3hu"
      },
      "execution_count": null,
      "outputs": []
    },
    {
      "cell_type": "markdown",
      "source": [
        "# 분석 파트 2 _ 제주도내/외의 예약 구성은 어떻게 될까?\n",
        "- 제주도의 수요는 제주도내에서 만들어지는가, 외부에서 만들어지는가"
      ],
      "metadata": {
        "id": "XQTZbIuTAsRq"
      }
    },
    {
      "cell_type": "markdown",
      "source": [
        "### 필요한 데이터를 빅쿼리에 연동하여 가져옴\n",
        "* 23년, 제주지역 한정\n",
        "\n",
        "---"
      ],
      "metadata": {
        "id": "2zJJdqX-A7kS"
      }
    },
    {
      "cell_type": "code",
      "source": [
        "query = \"\"\"\n",
        "  WITH base AS (\n",
        "    SELECT\n",
        "      CASE WHEN zone_id IN (105, 9890) THEN 'air'\n",
        "          WHEN zone_id IN (17209) THEN 'air_infront' ELSE 'common' END as part,\n",
        "\n",
        "      date,\n",
        "      isoyear as year, isoweek as week, month,\n",
        "      reservation_id as rid,\n",
        "      zone_id as zid,\n",
        "      zone_lng, zone_lat,\n",
        "      age,\n",
        "      reservation_created_lat as r_lat,\n",
        "      reservation_created_lng as r_lng,\n",
        "\n",
        "      CASE WHEN st_distance(st_geogpoint(zone_lng, zone_lat), st_geogpoint(reservation_created_lng, reservation_created_lat)) <= 500 THEN '500m'\n",
        "          WHEN st_distance(st_geogpoint(zone_lng, zone_lat), st_geogpoint(reservation_created_lng, reservation_created_lat)) <= 1000 THEN '1000m'\n",
        "          WHEN st_distance(st_geogpoint(zone_lng, zone_lat), st_geogpoint(reservation_created_lng, reservation_created_lat)) <= 3000 THEN '3000m'\n",
        "          WHEN st_distance(st_geogpoint(zone_lng, zone_lat), st_geogpoint(reservation_created_lng, reservation_created_lat)) > 3000 THEN 'O3000m' END as zone_loc,\n",
        "\n",
        "      CASE WHEN st_distance(st_geogpoint(126.5319, 33.36266), st_geogpoint(reservation_created_lng, reservation_created_lat)) >= 50000 THEN 'jeju_out'\n",
        "           WHEN st_distance(st_geogpoint(126.5319, 33.36266), st_geogpoint(reservation_created_lng, reservation_created_lat)) < 50000 THEN 'jeju_in' END as rev_loc\n",
        "\n",
        "    FROM soda_store.reservation_v2\n",
        "    WHERE date >= '2023-01-01' AND date <= '2023-12-31' AND region1 = '제주특별자치도'\n",
        "  )\n",
        "\n",
        "  SELECT\n",
        "    part,\n",
        "    rev_loc,\n",
        "    count(rid) as cnt,\n",
        "  FROM base\n",
        "  WHERE rev_loc is not null\n",
        "  GROUP BY part, rev_loc\n",
        "  \"\"\"\n",
        "\n",
        "df = pd.io.gbq.read_gbq(\n",
        "    query=query,\n",
        "    project_id=\"socar-data\"\n",
        ")\n",
        "\n",
        "df.info()"
      ],
      "metadata": {
        "id": "mIgySiXn-3dm"
      },
      "execution_count": null,
      "outputs": []
    },
    {
      "cell_type": "markdown",
      "source": [
        "## 📊 파트별 도내외 예약\n",
        "1. 공항과 공항 앞은 도외에서의 예약이 많다\n",
        "2. 일반은 도내에서의 예약이 많다"
      ],
      "metadata": {
        "id": "6PCk332sBAkW"
      }
    },
    {
      "cell_type": "code",
      "source": [
        "fig = px.bar(df, x='rev_loc', y='cnt', color='part',\n",
        "             title=\"각 존예약위치별 예약건수\",\n",
        "             barmode='group',\n",
        "             text='cnt',\n",
        "             labels={'cnt': '이용건수 (건)', 'rev_loc': '예약위치_지역', 'part': 'Part'})\n",
        "\n",
        "fig.update_traces(texttemplate='%{text:1.0f}', textposition='outside')\n",
        "fig.show()"
      ],
      "metadata": {
        "id": "qBsO53gwA_30"
      },
      "execution_count": null,
      "outputs": []
    },
    {
      "cell_type": "code",
      "source": [
        "# 각 `rev_loc`별로 데이터를 집계\n",
        "summary = df.groupby(['rev_loc', 'part'])['cnt'].sum().reset_index()\n",
        "\n",
        "# `rev_loc`의 unique 값들을 가져옵니다.\n",
        "locations = summary['rev_loc'].unique()\n",
        "cols = len(locations)  # unique 'rev_loc'의 개수만큼 열 생성\n",
        "\n",
        "# make_subplots로 subplot 구조 생성\n",
        "fig = make_subplots(rows=1, cols=cols, specs=[[{'type':'domain'}]*cols], subplot_titles=[f\"'{loc}' 예약위치\" for loc in locations])\n",
        "\n",
        "# 각 `rev_loc`별 도넛 차트를 subplot에 추가\n",
        "for i, loc in enumerate(locations, start=1):\n",
        "    loc_summary = summary[summary['rev_loc'] == loc]\n",
        "    total_cnt = loc_summary['cnt'].sum()\n",
        "    loc_summary['proportion'] = (loc_summary['cnt'] / total_cnt) * 100\n",
        "\n",
        "    fig.add_trace(go.Pie(labels=loc_summary['part'], values=loc_summary['proportion'], name=loc, hole=0.3, textinfo='percent+label'), row=1, col=i)\n",
        "\n",
        "# 차트 레이아웃 설정 (옵션)\n",
        "fig.update_layout(title_text=\"각 예약위치_지역별 Part 구성비\", width=1000, height=400)  # 너비와 높이는 적절하게 조절\n",
        "\n",
        "# 차트 표시\n",
        "fig.show()"
      ],
      "metadata": {
        "id": "WNDitIPNayjX"
      },
      "execution_count": null,
      "outputs": []
    },
    {
      "cell_type": "markdown",
      "source": [
        "### ✈ 공항의 예약위치와 공항 쏘카존과의 거리\n",
        "1. 공항은 도내보다 도외에서의 예약이 많다\n",
        "2. 여행전 예약이 많음"
      ],
      "metadata": {
        "id": "Ic31WCBPvHrR"
      }
    },
    {
      "cell_type": "code",
      "source": [
        "df_air = df[df['part'] == 'air']\n",
        "df_air = df_air.groupby(['part', 'rev_loc'])['cnt'].sum().reset_index()\n",
        "\n",
        "total_employee_counts = df_air['cnt'].sum()\n",
        "\n",
        "df_air['proportion'] = (df_air['cnt'] / total_employee_counts) * 100\n",
        "\n",
        "fig = px.bar(df_air, x='rev_loc', y='proportion', color='part',\n",
        "             title=\"각 rev_loc별 예약건수의 전체 대비 구성비\",\n",
        "             barmode='group',\n",
        "             text='proportion',\n",
        "             labels={'proportion': '구성비 (%)', 'rev_loc': '예약위치_제주', 'part': 'Part'})\n",
        "\n",
        "fig.update_traces(texttemplate='%{text:.1f}%', textposition='outside')\n",
        "fig.show()"
      ],
      "metadata": {
        "id": "X731EUI4Bxwl"
      },
      "execution_count": null,
      "outputs": []
    },
    {
      "cell_type": "markdown",
      "source": [
        "### ✈▶ 공항 앞의 예약 위치와 공항 앞 쏘카존과의 거리\n",
        "1. 공항 앞 역시 공항과 비슷한 추이를 보임"
      ],
      "metadata": {
        "id": "fcAy3ZdsvHtj"
      }
    },
    {
      "cell_type": "code",
      "source": [
        "df_airf = df[df['part'] == 'air_infront']\n",
        "df_airf = df_airf.groupby(['part', 'rev_loc'])['cnt'].sum().reset_index()\n",
        "\n",
        "total_employee_counts = df_airf['cnt'].sum()\n",
        "\n",
        "df_airf['proportion'] = (df_airf['cnt'] / total_employee_counts) * 100\n",
        "\n",
        "fig = px.bar(df_airf, x='rev_loc', y='proportion', color='part',\n",
        "             title=\"각rev_loc별 예약건수의 전체 대비 구성비\",\n",
        "             barmode='group',\n",
        "             text='proportion',\n",
        "             labels={'proportion': '구성비 (%)', 'rev_loc': '예약위치_지역', 'part': 'Part'})\n",
        "\n",
        "fig.update_traces(texttemplate='%{text:.1f}%', textposition='outside')\n",
        "fig.show()"
      ],
      "metadata": {
        "id": "n05ulQEPCGmr"
      },
      "execution_count": null,
      "outputs": []
    },
    {
      "cell_type": "markdown",
      "source": [
        "### 🏝 일반의 예약 위치와 일반지역내 쏘카존과의 거리\n",
        "1. 일반은 도내에서의 예약이 많다\n",
        "2. 여행중 예약하는 경우가 많음"
      ],
      "metadata": {
        "id": "5p41CIsW5gI6"
      }
    },
    {
      "cell_type": "code",
      "source": [
        "df_common = df[df['part'] == 'common']\n",
        "df_common = df_common.groupby(['part', 'rev_loc'])['cnt'].sum().reset_index()\n",
        "\n",
        "total_employee_counts = df_common['cnt'].sum()\n",
        "\n",
        "df_common['proportion'] = (df_common['cnt'] / total_employee_counts) * 100\n",
        "\n",
        "fig = px.bar(df_common, x='rev_loc', y='proportion', color='part',\n",
        "             title=\"각 rev_loc별 예약건수의 전체 대비 구성비\",\n",
        "             barmode='group',\n",
        "             text='proportion',\n",
        "             labels={'proportion': '구성비 (%)', 'rev_loc': '예약위치_지역', 'part': 'Part'})\n",
        "\n",
        "fig.update_traces(texttemplate='%{text:.1f}%', textposition='outside')\n",
        "fig.show()"
      ],
      "metadata": {
        "id": "0SjUzWHV5hGS"
      },
      "execution_count": null,
      "outputs": []
    },
    {
      "cell_type": "markdown",
      "source": [
        "# 분석 파트 2 _ 예약 위치(거리/제주도내,외)에 따른 예약 구성비"
      ],
      "metadata": {
        "id": "YUfgRCQzCikY"
      }
    },
    {
      "cell_type": "markdown",
      "source": [
        "### 필요한 데이터를 빅쿼리에 연동하여 가져옴\n",
        "* 23년, 제주지역 한정\n",
        "\n",
        "---"
      ],
      "metadata": {
        "id": "lQsqKcosCiiM"
      }
    },
    {
      "cell_type": "code",
      "source": [
        "query = \"\"\"\n",
        "  WITH base AS (\n",
        "    SELECT\n",
        "      CASE WHEN zone_id IN (105, 9890) THEN 'air'\n",
        "          WHEN zone_id IN (17209) THEN 'air_infront' ELSE 'common' END as part,\n",
        "\n",
        "      date,\n",
        "      isoyear as year, isoweek as week, month,\n",
        "      reservation_id as rid,\n",
        "      zone_id as zid,\n",
        "      zone_lng, zone_lat,\n",
        "      age,\n",
        "      reservation_created_lat as r_lat,\n",
        "      reservation_created_lng as r_lng,\n",
        "\n",
        "      CASE WHEN st_distance(st_geogpoint(zone_lng, zone_lat), st_geogpoint(reservation_created_lng, reservation_created_lat)) <= 500 THEN '500m'\n",
        "          WHEN st_distance(st_geogpoint(zone_lng, zone_lat), st_geogpoint(reservation_created_lng, reservation_created_lat)) <= 1000 THEN '1000m'\n",
        "          WHEN st_distance(st_geogpoint(zone_lng, zone_lat), st_geogpoint(reservation_created_lng, reservation_created_lat)) <= 3000 THEN '3000m'\n",
        "          WHEN st_distance(st_geogpoint(zone_lng, zone_lat), st_geogpoint(reservation_created_lng, reservation_created_lat)) > 3000 THEN 'O3000m' END as zone_loc,\n",
        "\n",
        "      CASE WHEN st_distance(st_geogpoint(126.5319, 33.36266), st_geogpoint(reservation_created_lng, reservation_created_lat)) >= 50000 THEN 'jeju_out'\n",
        "           WHEN st_distance(st_geogpoint(126.5319, 33.36266), st_geogpoint(reservation_created_lng, reservation_created_lat)) < 50000 THEN 'jeju_in' END as rev_loc\n",
        "\n",
        "    FROM soda_store.reservation_v2\n",
        "    WHERE date >= '2023-01-01' AND date <= '2023-12-31' AND region1 = '제주특별자치도'\n",
        "  )\n",
        "\n",
        "  SELECT\n",
        "    part,\n",
        "    zone_loc, rev_loc,\n",
        "    count(rid) as cnt,\n",
        "  FROM base\n",
        "  WHERE zone_loc is not null AND rev_loc is not null\n",
        "  GROUP BY part, rev_loc, zone_loc\n",
        "  \"\"\"\n",
        "\n",
        "df = pd.io.gbq.read_gbq(\n",
        "    query=query,\n",
        "    project_id=\"socar-data\"\n",
        ")\n",
        "\n",
        "df['loc'] = df['zone_loc'].fillna('') + df['rev_loc']\n",
        "\n",
        "df.info()"
      ],
      "metadata": {
        "id": "BIFAuTZyCxec"
      },
      "execution_count": null,
      "outputs": []
    },
    {
      "cell_type": "markdown",
      "source": [
        "## 📊 파트별 구성비\n",
        "1. 공항과 공항 앞은 도외에서의 예약이 대부분인 것이 확실하다\n",
        "2. 일반은 도내 근거리에서의 예약이 많으며, 도내의 원거리에서의 건수도 꽤 된다"
      ],
      "metadata": {
        "id": "d8MmW2v2Cift"
      }
    },
    {
      "cell_type": "code",
      "source": [
        "fig = px.bar(df, x='loc', y='cnt', color='part',\n",
        "             title=\"각 존예약위치별 예약건수\",\n",
        "             barmode='group',\n",
        "             text='cnt',\n",
        "             labels={'cnt': '이용건수 (건)', 'loc': '예약위치_지역', 'part': 'Part'})\n",
        "\n",
        "fig.update_traces(texttemplate='%{text:1.0f}', textposition='outside')\n",
        "fig.show()"
      ],
      "metadata": {
        "id": "vf7nIJc_C59p"
      },
      "execution_count": null,
      "outputs": []
    },
    {
      "cell_type": "code",
      "source": [
        "import plotly.graph_objects as go\n",
        "from plotly.subplots import make_subplots\n",
        "\n",
        "# 각 `loc`별로 데이터를 집계\n",
        "summary = df.groupby(['loc', 'part'])['cnt'].sum().reset_index()\n",
        "\n",
        "# `loc`의 unique 값들을 가져옵니다.\n",
        "locations = summary['loc'].unique()\n",
        "cols = len(locations)  # unique 'loc'의 개수만큼 열 생성\n",
        "\n",
        "# make_subplots로 subplot 구조 생성\n",
        "fig = make_subplots(rows=1, cols=cols, specs=[[{'type':'domain'}] * cols], subplot_titles=[f\"'{loc}' 예약위치\" for loc in locations])\n",
        "\n",
        "# 각 `loc`별 도넛 차트를 subplot에 추가\n",
        "for i, loc in enumerate(locations, start=1):\n",
        "    loc_summary = summary[summary['loc'] == loc]\n",
        "    total_cnt = loc_summary['cnt'].sum()\n",
        "    loc_summary['proportion'] = (loc_summary['cnt'] / total_cnt) * 100  # proportion 계산\n",
        "\n",
        "    fig.add_trace(go.Pie(labels=loc_summary['part'], values=loc_summary['proportion'], name=loc, hole=0.3, textinfo='percent+label'), row=1, col=i)\n",
        "\n",
        "# 차트 레이아웃 설정 (옵션)\n",
        "fig.update_layout(title_text=\"각 예약위치_지역별 Part 구성비\", width=1200, height=400)  # 너비와 높이는 적절하게 조절\n",
        "\n",
        "# 차트 표시\n",
        "fig.show()"
      ],
      "metadata": {
        "id": "T8E-qo6mcA5r"
      },
      "execution_count": null,
      "outputs": []
    },
    {
      "cell_type": "markdown",
      "source": [
        "### ✈ 공항 위치별 구성비"
      ],
      "metadata": {
        "id": "FYyLXmybCic9"
      }
    },
    {
      "cell_type": "code",
      "source": [
        "df_air = df[df['part'] == 'air']\n",
        "df_air = df_air.groupby(['part', 'loc'])['cnt'].sum().reset_index()\n",
        "\n",
        "total_employee_counts = df_air['cnt'].sum()\n",
        "\n",
        "df_air['proportion'] = (df_air['cnt'] / total_employee_counts) * 100\n",
        "\n",
        "fig = px.bar(df_air, x='loc', y='proportion', color='part',\n",
        "             title=\"각 loc별 예약건수의 전체 대비 구성비\",\n",
        "             barmode='group',\n",
        "             text='proportion',\n",
        "             labels={'proportion': '구성비 (%)', 'loc': '예약위치_거리', 'part': 'Part'})\n",
        "\n",
        "fig.update_traces(texttemplate='%{text:.1f}%', textposition='outside')\n",
        "fig.show()"
      ],
      "metadata": {
        "id": "T60QyZtyDqr9"
      },
      "execution_count": null,
      "outputs": []
    },
    {
      "cell_type": "markdown",
      "source": [
        "### ✈▶ 공항 앞 위치별 구성비"
      ],
      "metadata": {
        "id": "RnE20Ve0CiaX"
      }
    },
    {
      "cell_type": "code",
      "source": [
        "df_airf = df[df['part'] == 'air_infront']\n",
        "df_airf = df_airf.groupby(['part', 'loc'])['cnt'].sum().reset_index()\n",
        "\n",
        "total_employee_counts = df_airf['cnt'].sum()\n",
        "\n",
        "df_airf['proportion'] = (df_airf['cnt'] / total_employee_counts) * 100\n",
        "\n",
        "fig = px.bar(df_airf, x='loc', y='proportion', color='part',\n",
        "             title=\"각 loc별 예약건수의 전체 대비 구성비\",\n",
        "             barmode='group',\n",
        "             text='proportion',\n",
        "             labels={'proportion': '구성비 (%)', 'loc': '예약위치_거리', 'part': 'Part'})\n",
        "\n",
        "fig.update_traces(texttemplate='%{text:.1f}%', textposition='outside')\n",
        "fig.show()"
      ],
      "metadata": {
        "id": "9KEdRoNQD0be"
      },
      "execution_count": null,
      "outputs": []
    },
    {
      "cell_type": "markdown",
      "source": [
        "### 🏝 일반 예약위치별 구성비"
      ],
      "metadata": {
        "id": "3GqOk0nDCiX0"
      }
    },
    {
      "cell_type": "code",
      "source": [
        "df_common = df[df['part'] == 'common']\n",
        "df_common = df_common.groupby(['part', 'loc'])['cnt'].sum().reset_index()\n",
        "\n",
        "total_employee_counts = df_common['cnt'].sum()\n",
        "\n",
        "df_common['proportion'] = (df_common['cnt'] / total_employee_counts) * 100\n",
        "\n",
        "fig = px.bar(df_common, x='loc', y='proportion', color='part',\n",
        "             title=\"각 loc별 예약건수의 전체 대비 구성비\",\n",
        "             barmode='group',\n",
        "             text='proportion',\n",
        "             labels={'proportion': '구성비 (%)', 'loc': '예약위치_거리', 'part': 'Part'})\n",
        "\n",
        "fig.update_traces(texttemplate='%{text:.1f}%', textposition='outside')\n",
        "fig.show()"
      ],
      "metadata": {
        "id": "MFsmyH0kEAfI"
      },
      "execution_count": null,
      "outputs": []
    },
    {
      "cell_type": "markdown",
      "source": [
        "### ✅ 결론\n",
        "1. 공항과 공항 앞의 예약은 대부분 제주도외에서 예약된다\n",
        "2. 일반은 대부분 근거리에서 예약된다"
      ],
      "metadata": {
        "id": "0TXupC4TELL0"
      }
    },
    {
      "cell_type": "markdown",
      "source": [
        "## 분석 결과\n",
        "\n",
        "*제주도의 예약은 파트에 따라 예약 성향이 나뉘어진다*\n",
        "- 공항,공항 앞 : 당일수요 + 사전수요 + 제주도외\n",
        "- 일반 : 당일수요 + 제주도내 근거리\n",
        "\n",
        "*지역별 대여요금 체계는 달라야하며, 공급 기획시 사전 수요와 도내 유동인구의 영향을 고려해야한다*\n",
        "- 공항, 공항 앞 = 사전수요\n",
        "- 일반 = 당일수요"
      ],
      "metadata": {
        "id": "8JoNysgSELJR"
      }
    },
    {
      "cell_type": "markdown",
      "source": [
        "## 분석의 한계점\n",
        "- 쏘카존을 파트별로 묶어 보았기 때문에 운영대수가 많은 존의 영향도가 커져 어뷰징이 있을 수 있음\n",
        "- 연간 예약 전체에 대해 분석하였기 때문에 시즌에 대한 요인은 반영되지 않음"
      ],
      "metadata": {
        "id": "mPASIUJpCiUu"
      }
    },
    {
      "cell_type": "markdown",
      "source": [
        "추가해야할거 : 예약위치 -> 존별 폴리엄맵 위에서 예약위치 히트맵 보여주기"
      ],
      "metadata": {
        "id": "X3Vko8MXFVY5"
      }
    },
    {
      "cell_type": "code",
      "source": [
        "query = \"\"\"\n",
        "  SELECT\n",
        "    id as zid,\n",
        "    CASE WHEN id IN (105,9890) THEN '공항'\n",
        "        WHEN id IN (17209, 19175) THEN '공항앞'\n",
        "        ELSE '일반'\n",
        "        END as part,\n",
        "    lng, lat\n",
        "  FROM `tianjin_replica.carzone_info`\n",
        "  WHERE region1 = '제주특별자치도'\n",
        "  AND state = 1\n",
        "  \"\"\"\n",
        "\n",
        "df_zone = pd.io.gbq.read_gbq(\n",
        "    query=query,\n",
        "    project_id=\"socar-data\"\n",
        ")\n",
        "\n",
        "\n",
        "df_zone.info()"
      ],
      "metadata": {
        "id": "SnqyrH35CZuL"
      },
      "execution_count": null,
      "outputs": []
    },
    {
      "cell_type": "code",
      "source": [
        "df_zone['part'].unique()"
      ],
      "metadata": {
        "id": "Xv7IcuRBQrn6"
      },
      "execution_count": null,
      "outputs": []
    },
    {
      "cell_type": "code",
      "source": [
        "# part별 색상 지정\n",
        "color_dict = {'일반': 'blue', '공항': 'red', '공항앞': 'green'}\n",
        "\n",
        "# 기본 지도 생성, 중심 좌표와 줌 레벨을 설정\n",
        "map = folium.Map(location=[37.497950, 127.027587], zoom_start=10)\n",
        "\n",
        "# 데이터프레임의 각 행에 대해 반복\n",
        "for index, row in df_zone.iterrows():\n",
        "    # 마커 생성 및 지도에 추가\n",
        "    folium.Marker(\n",
        "        location=[row['lat'], row['lng']],\n",
        "        popup=f\"zid: {row['zid']}\",\n",
        "        icon=folium.Icon(color=color_dict[row['part']])\n",
        "    ).add_to(map)\n",
        "\n",
        "# 지도 표시\n",
        "map"
      ],
      "metadata": {
        "id": "unc05OBjQ_Kp"
      },
      "execution_count": null,
      "outputs": []
    },
    {
      "cell_type": "code",
      "source": [],
      "metadata": {
        "id": "CiSLt96XRasQ"
      },
      "execution_count": null,
      "outputs": []
    }
  ]
}