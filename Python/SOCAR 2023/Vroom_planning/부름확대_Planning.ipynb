{
  "nbformat": 4,
  "nbformat_minor": 0,
  "metadata": {
    "colab": {
      "provenance": []
    },
    "kernelspec": {
      "name": "python3",
      "display_name": "Python 3"
    },
    "language_info": {
      "name": "python"
    }
  },
  "cells": [
    {
      "cell_type": "markdown",
      "source": [
        "### Summary\n",
        "개요: 제주지역 부름 서비스지역 확대를 위해 제주 버스 승차객 데이터와 부름 예약 데이터를 비교하여 확대 지역을 선정한다\n",
        "\n",
        "기간: 2024.04\n",
        "\n",
        "문제: 부름 서비스지역은 어느정도까지 확대해야 타당한가?\n",
        "- 확대 지역은 어떻게 선정하는 것이 타당한가?\n",
        "- 공급 조절은 어떻게 진행하는 것이 타당한가?\n",
        "\n",
        "해결:\n",
        "1. 제주 버스 이용 API 데이터를 활용하여 비교 분석해본다   \n",
        "- 제주 버스 데이터 수집\n",
        "  - 기간: 2024.03.01 ~ 2024.03.31\n",
        "    - 버스 이용 data\n",
        "    - 버스 정류소 data\n",
        "- 정류소별 승차객 수 비교\n",
        "- 부름 이용자의 예약/호출 위치와 정류소별 승차객 수 비교\n",
        "\n",
        "2. 존별 거리 범주 반경내 부름 예약 비중으로 공급 조절\n",
        "- 존의 거리 범주별 부름 호출 예약 비중 비교\n",
        "  - 예약 비중 비교\n",
        "  - 실적 비교(이익률, 건당 이익, 가동률)\n",
        "    - vs 전체 대비 참조\n",
        "\n",
        "결과:\n",
        "1. 승차객이 많은 지역일 수록 주변에서의 부름 예약/호출이 많다\n",
        "\n",
        "\n",
        "\n",
        "2. 10km이내 부름 호출이 많은 존은 실적도 우수하다\n",
        "- 배반 비용을 세이브하기 위해 가까운 존으로의 공급을 확대한다\n",
        "- 전체 가동률 대비 낮은 가동률을 보이는 존의 부름 공급을 축소한다\n",
        "- 지역내 공급확대: 상예동, 대정읍, 색달동, 강정동, 서귀동\n",
        "- 거점내 공급확대: 히든클리프 호텔&네이처, 백패커스홈, 호텔브릿지 서귀포\n",
        "\n",
        "결론:\n",
        "```\n",
        "승차객이 많은 지역을 중심으로 서비스 지역을 확대하고\n",
        "부름 비중이 높은 존 중 실적이 우수한 존 대상으로 공급을 확대한다\n",
        "```"
      ],
      "metadata": {
        "id": "x7vd204y08f7"
      }
    },
    {
      "cell_type": "markdown",
      "source": [
        "---\n",
        "데이터수집: API requests\n",
        "데이터전처리: 버스 정류소 정보 및 승차객 정보 Merge\n",
        "- 버스정류소의 stationId와 승차정보의 stationId는 서로 다름\n",
        "- 버스정류소의 stationName의 중복값처리\n",
        "- 버스정류소 정보가 잘 못된 결측값 처리   \n",
        "\n",
        "시각화: Pydeck 라이브러리 활용\n",
        "\n",
        "---\n",
        "\n",
        "데이터명세서"
      ],
      "metadata": {
        "id": "UbQ-gwYX2a8d"
      }
    },
    {
      "cell_type": "code",
      "source": [
        "from google.colab import output\n",
        "output.clear()"
      ],
      "metadata": {
        "id": "CIHLAYi2LGXR"
      },
      "execution_count": null,
      "outputs": []
    },
    {
      "cell_type": "markdown",
      "source": [
        "### Library Import"
      ],
      "metadata": {
        "id": "3DlMGP603zXd"
      }
    },
    {
      "cell_type": "code",
      "source": [
        "## 라이브러리 임포트\n",
        "import requests\n",
        "import pandas as pd\n",
        "\n",
        "# 데이터 저장\n",
        "from google.colab import drive\n",
        "drive.mount('/content/drive')\n",
        "\n",
        "from google.auth import default\n",
        "creds, _ = default()\n",
        "from gspread_dataframe import get_as_dataframe, set_with_dataframe\n",
        "\n",
        "from google.cloud import bigquery\n",
        "from oauth2client.client import GoogleCredentials\n",
        "\n",
        "import gspread\n",
        "gc = gspread.authorize(creds)"
      ],
      "metadata": {
        "id": "WnT6Hfei33Gw"
      },
      "execution_count": null,
      "outputs": []
    },
    {
      "cell_type": "markdown",
      "source": [
        "### Data Import"
      ],
      "metadata": {
        "id": "CiG0I1Ui066X"
      }
    },
    {
      "cell_type": "markdown",
      "source": [
        "버스 데이터 수집\n",
        "- 정류소 정보: https://www.jejudatahub.net/mypage/project/view-data/612/myProject\n",
        "- 이용 정보: https://www.jejudatahub.net/mypage/project/view-data/613/myProject\n",
        "\n",
        "API를 활용하여 Requests 라이브러리 사용"
      ],
      "metadata": {
        "id": "GJJKt4K03LYq"
      }
    },
    {
      "cell_type": "code",
      "source": [
        "# ## 라이브러리 설치\n",
        "# !pip install requests pandas"
      ],
      "metadata": {
        "id": "HqtMXhni3Ku7"
      },
      "execution_count": null,
      "outputs": []
    },
    {
      "cell_type": "code",
      "source": [
        "# ## 이용정보 API 요청 및 데이터수집\n",
        "\n",
        "# # API 설정\n",
        "# base_url = \"https://open.jejudatahub.net/api/proxy/1b1ta1a1ba6t6a1ttt3bD6b1tb1t1D3t\"\n",
        "# project_key = \"c7p2jjojtb_tb0t0ct0_2ojb2t3bopor\"\n",
        "# params = {\n",
        "#     'startDate': '20240301',\n",
        "#     'endDate': '20240331',\n",
        "#     'limit': 100  # 페이지 당 최대 컨텐츠 수\n",
        "# }\n",
        "\n",
        "# def fetch_data(base_url, project_key, params):\n",
        "#     all_data = []\n",
        "#     page = 1\n",
        "#     has_more = True\n",
        "\n",
        "#     while has_more:\n",
        "#         # 현재 페이지 설정\n",
        "#         current_params = params.copy()\n",
        "#         current_params['number'] = page\n",
        "\n",
        "#         # API 요청\n",
        "#         full_url = f\"{base_url}/{project_key}\"\n",
        "#         response = requests.get(full_url, params=current_params)\n",
        "#         print(\"Requesting:\", response.url)  # 요청 URL 확인\n",
        "#         print(\"Status Code:\", response.status_code)  # 상태 코드 출력\n",
        "\n",
        "#         # 응답 내용 확인\n",
        "#         if response.status_code == 200:\n",
        "#             try:\n",
        "#                 data = response.json()\n",
        "#                 all_data.extend(data['data'])\n",
        "#                 has_more = data['hasMore']\n",
        "#                 page += 1\n",
        "#             except JSONDecodeError:\n",
        "#                 print(\"Failed to decode JSON:\", response.text)  # JSON 디코드 실패 시 메시지 출력\n",
        "#                 break\n",
        "#         else:\n",
        "#             print(\"Failed request with status:\", response.status_code)\n",
        "#             print(\"Response:\", response.text)\n",
        "#             break\n",
        "\n",
        "#     return all_data\n",
        "\n",
        "# # 데이터 수집\n",
        "# data = fetch_data(base_url, project_key, params)"
      ],
      "metadata": {
        "id": "UFZvOdSr3-on"
      },
      "execution_count": null,
      "outputs": []
    },
    {
      "cell_type": "code",
      "source": [
        "# # 데이터프레임 생성\n",
        "# # df = pd.DataFrame(data)\n",
        "# print(df.head())"
      ],
      "metadata": {
        "id": "SU5yMfmt4AgD"
      },
      "execution_count": null,
      "outputs": []
    },
    {
      "cell_type": "code",
      "source": [
        "# # 파일 경로 설정\n",
        "# file_path = '/content/drive/My Drive/bus_data2024.csv'\n",
        "\n",
        "# # 데이터프레임을 CSV 파일로 저장\n",
        "# df.to_csv(file_path, index=False)"
      ],
      "metadata": {
        "id": "8RfOhVwG4EaG"
      },
      "execution_count": null,
      "outputs": []
    },
    {
      "cell_type": "code",
      "source": [
        "# # 버스정류소 정보 API 설정\n",
        "# bus_stations_url = \"https://open.jejudatahub.net/api/proxy/DD11ab6a6t11D16baaa1a2tD26ata161\"\n",
        "# project_key = \"c7p2jjojtb_tb0t0ct0_2ojb2t3bopor\"\n",
        "# params = {\n",
        "#     'limit': 100  # 페이지 당 최대 컨텐츠 수\n",
        "# }\n",
        "\n",
        "# def fetch_bus_stations(base_url, project_key, params):\n",
        "#     all_data = []\n",
        "#     page = 1\n",
        "#     has_more = True\n",
        "\n",
        "#     while has_more:\n",
        "#         # 현재 페이지 설정\n",
        "#         current_params = params.copy()\n",
        "#         current_params['number'] = page\n",
        "\n",
        "#         # API 요청\n",
        "#         response = requests.get(f\"{base_url}/{project_key}\", params=current_params)\n",
        "#         if response.status_code == 200:\n",
        "#             data = response.json()\n",
        "#             all_data.extend(data['data'])\n",
        "#             has_more = data['hasMore']\n",
        "#             page += 1\n",
        "#         else:\n",
        "#             print(\"Failed request with status:\", response.status_code)\n",
        "#             break\n",
        "\n",
        "#     return all_data\n",
        "\n",
        "# # 데이터 수집\n",
        "# bus_station_data = fetch_bus_stations(bus_stations_url, project_key, params)"
      ],
      "metadata": {
        "id": "Icr4WlXk4I27"
      },
      "execution_count": null,
      "outputs": []
    },
    {
      "cell_type": "code",
      "source": [
        "# # 데이터프레임 생성\n",
        "# df_bus_stations = pd.DataFrame(bus_station_data)"
      ],
      "metadata": {
        "id": "8s1OMrJz4MY2"
      },
      "execution_count": null,
      "outputs": []
    },
    {
      "cell_type": "code",
      "source": [
        "# # 파일 경로 설정\n",
        "# file_path_bus_stations = '/content/drive/My Drive/bus_stations_data2024.csv'\n",
        "\n",
        "# # 데이터프레임을 CSV 파일로 저장\n",
        "# df_bus_stations.to_csv(file_path_bus_stations, index=False)"
      ],
      "metadata": {
        "id": "UPrn5mTn4OPA"
      },
      "execution_count": null,
      "outputs": []
    },
    {
      "cell_type": "code",
      "source": [
        "## 저장된 데이터 불러오기\n",
        "# 정류소 데이터 저장된 CSV 파일 불러오기\n",
        "# 저장된 CSV 파일 불러오기\n",
        "file_path_bus = '/content/drive/My Drive/bus_stations_data2024.csv'\n",
        "\n",
        "df_bus_stations_loaded = pd.read_csv(file_path_bus)\n",
        "\n",
        "# 파일 경로 설정\n",
        "file_path = '/content/drive/My Drive/bus_data2024.csv'\n",
        "\n",
        "# 저장된 CSV 파일 불러오기\n",
        "df_loaded = pd.read_csv(file_path)\n",
        "print(df_loaded.head())  # 파일의 첫 5행 출력"
      ],
      "metadata": {
        "id": "7Y8FiX6S4O58"
      },
      "execution_count": null,
      "outputs": []
    },
    {
      "cell_type": "markdown",
      "source": [
        "### Data Processing"
      ],
      "metadata": {
        "id": "7hAWeEZ74dbo"
      }
    },
    {
      "cell_type": "code",
      "source": [
        "# stationName 컬럼 기준으로 중복 제거\n",
        "df_bus_stations_unique = df_bus_stations_loaded.drop_duplicates(subset='stationName', keep='first')\n",
        "\n",
        "# 결과 확인\n",
        "print(df_bus_stations_unique.info())\n",
        "print(df_bus_stations_unique.head())"
      ],
      "metadata": {
        "id": "lRjjoL6HEXGO"
      },
      "execution_count": null,
      "outputs": []
    },
    {
      "cell_type": "code",
      "source": [
        "df_loaded['stationName'].unique()"
      ],
      "metadata": {
        "id": "isGCn-y6Efk1"
      },
      "execution_count": null,
      "outputs": []
    },
    {
      "cell_type": "code",
      "source": [
        "df_loaded.isnull().sum()"
      ],
      "metadata": {
        "id": "TDv3ZRuIElIm"
      },
      "execution_count": null,
      "outputs": []
    },
    {
      "cell_type": "code",
      "source": [
        "# df_loaded에서 결측값이 있는 행 제거\n",
        "df_loaded_cleaned = df_loaded.dropna(subset=['stationName'])\n",
        "\n",
        "# stationName, moveType, priceType에 따라 userCount를 그룹화하고 합산\n",
        "df_grouped = df_loaded_cleaned.groupby(['stationName', 'moveType', 'priceType']).agg({'userCount': 'sum'}).reset_index()\n",
        "\n",
        "# df_bus_stations_loaded에서 필요한 컬럼만 선택\n",
        "df_bus_stations_subset = df_bus_stations_unique[['stationName', 'stationAddress', 'direction', 'longitude', 'latitude']]\n",
        "\n",
        "# df_grouped와 df_bus_stations_subset을 stationName을 기준으로 LEFT JOIN 수행\n",
        "df_merged = pd.merge(df_bus_stations_subset, df_grouped, on='stationName', how='left')\n",
        "\n",
        "# 결과 출력\n",
        "print(df_merged.head())"
      ],
      "metadata": {
        "id": "ndWQ8JdTEoqy"
      },
      "execution_count": null,
      "outputs": []
    },
    {
      "cell_type": "code",
      "source": [
        "df_merged.info()"
      ],
      "metadata": {
        "id": "s8a7K4oHE1kQ"
      },
      "execution_count": null,
      "outputs": []
    },
    {
      "cell_type": "code",
      "source": [
        "df_merged.head(3)"
      ],
      "metadata": {
        "id": "SaPbZI5oE2VO"
      },
      "execution_count": null,
      "outputs": []
    },
    {
      "cell_type": "code",
      "source": [
        "df_merged['priceType'].unique()"
      ],
      "metadata": {
        "id": "XFOp1q-XE-iE"
      },
      "execution_count": null,
      "outputs": []
    },
    {
      "cell_type": "code",
      "source": [
        "## priceType에서 타겟군 외에는 제외\n",
        "df_merged_target = df_merged[(df_merged['priceType'] != '어린이') & (df_merged['priceType'] != '청소년')]"
      ],
      "metadata": {
        "id": "rfqxyTr6E4u_"
      },
      "execution_count": null,
      "outputs": []
    },
    {
      "cell_type": "code",
      "source": [
        "df_merged.shape"
      ],
      "metadata": {
        "id": "VFE7pnhXE9IR"
      },
      "execution_count": null,
      "outputs": []
    },
    {
      "cell_type": "code",
      "source": [
        "df_merged.isnull().sum()"
      ],
      "metadata": {
        "id": "c2BwNIW8FLLX"
      },
      "execution_count": null,
      "outputs": []
    },
    {
      "cell_type": "code",
      "source": [
        "## 정류소별 전체 승차인원수와 승차 타입별 인원수 Sum\n",
        "df_merged_total = df_merged_target.groupby(['stationName', 'stationAddress', 'direction', 'latitude', 'longitude'])['userCount'].sum().reset_index()\n",
        "\n",
        "# stationName, stationAddress, direction, latitude, longitude, moveType에 따라 userCount를 sum\n",
        "df_merged_type = df_merged_target.groupby(['stationName', 'stationAddress', 'direction', 'latitude', 'longitude', 'moveType'])['userCount'].sum().reset_index()"
      ],
      "metadata": {
        "id": "41yYTNZoFNK2"
      },
      "execution_count": null,
      "outputs": []
    },
    {
      "cell_type": "markdown",
      "source": [
        "### Data Visualization"
      ],
      "metadata": {
        "id": "5_eQss-9HGuH"
      }
    },
    {
      "cell_type": "markdown",
      "source": [
        "#### 정류소별 전체 탑승객 수와 승차타입별 시각화 비교\n",
        "- Pydeck 라이브러리 활용"
      ],
      "metadata": {
        "id": "oYjy2g67HPNl"
      }
    },
    {
      "cell_type": "code",
      "source": [
        "!pip install pydeck"
      ],
      "metadata": {
        "id": "Ms2uucTOHF8e"
      },
      "execution_count": null,
      "outputs": []
    },
    {
      "cell_type": "code",
      "source": [
        "import pydeck as pdk\n",
        "\n",
        "# priceType에 따른 색상 지정을 위한 함수\n",
        "def assign_color(row):\n",
        "    if row['moveType'] == '승차':\n",
        "        return [0, 0, 255, 255]  # Blue\n",
        "    elif row['moveType'] == '환승':\n",
        "        return [255, 0, 0, 255]  # Red\n",
        "    else:\n",
        "        return [128, 128, 128, 255]  # Gray for undefined or other types\n",
        "\n",
        "# 색상 컬럼 추가(priceType)\n",
        "df_merged_type['color'] = df_merged_type.apply(assign_color, axis=1)\n",
        "\n",
        "# pydeck을 이용한 시각화를 위한 데이터 준비\n",
        "def render_map(dataframe, color_scale):\n",
        "    view_state = pdk.ViewState(latitude=dataframe['latitude'].mean(), longitude=dataframe['longitude'].mean(), zoom=10)\n",
        "    layer = pdk.Layer(\n",
        "        \"ScatterplotLayer\",\n",
        "        dataframe,\n",
        "        get_position=['longitude', 'latitude'],\n",
        "        get_color=color_scale,\n",
        "        get_radius=100,\n",
        "        pickable=True\n",
        "    )\n",
        "    return pdk.Deck(layers=[layer], initial_view_state=view_state)\n",
        "\n",
        "def render_map2(dataframe):\n",
        "    view_state = pdk.ViewState(latitude=dataframe['latitude'].mean(), longitude=dataframe['longitude'].mean(), zoom=10)\n",
        "    layer = pdk.Layer(\n",
        "        \"ScatterplotLayer\",\n",
        "        dataframe,\n",
        "        get_position=['longitude', 'latitude'],\n",
        "        get_color='color',\n",
        "        get_radius=100,\n",
        "        pickable=True\n",
        "    )\n",
        "    return pdk.Deck(layers=[layer], initial_view_state=view_state)\n",
        "\n",
        "# 데이터프레임에 따라 색상 지정 (예: 더 많은 사용자가 있는 곳은 더 진한 색)\n",
        "color_scale_total = ['userCount * 30', 0, 140, 140]\n",
        "\n",
        "# 지도 렌더링\n",
        "map_total = render_map(df_merged_total, color_scale_total)\n",
        "map_type = render_map2(df_merged_type)"
      ],
      "metadata": {
        "id": "P3D9O6OSHZ-L"
      },
      "execution_count": null,
      "outputs": []
    },
    {
      "cell_type": "code",
      "source": [
        "# 전체 승차객수 지도 ()\n",
        "map_total.show()"
      ],
      "metadata": {
        "id": "yCrHRT2UHhIE"
      },
      "execution_count": null,
      "outputs": []
    },
    {
      "cell_type": "code",
      "source": [
        "# 승차타입별 지도\n",
        "## Blue 승차, Red 환승\n",
        "\n",
        "map_type.show()"
      ],
      "metadata": {
        "id": "ziSTxUmZHx3J"
      },
      "execution_count": null,
      "outputs": []
    },
    {
      "cell_type": "code",
      "source": [
        "## 승객수별 플랏 크기 키우기\n",
        "# pydeck을 이용한 시각화를 위한 데이터 준비\n",
        "def render_map(dataframe, color_scale):\n",
        "    view_state = pdk.ViewState(latitude=dataframe['latitude'].mean(), longitude=dataframe['longitude'].mean(), zoom=10)\n",
        "    layer = pdk.Layer(\n",
        "        \"ScatterplotLayer\",\n",
        "        dataframe,\n",
        "        get_position=['longitude', 'latitude'],\n",
        "        get_color=color_scale,\n",
        "        get_radius=\"userCount\",  # 점의 크기를 userCount에 비례하여 조절\n",
        "        pickable=True,\n",
        "        opacity=0.6  # 투명도 설정\n",
        "    )\n",
        "    return pdk.Deck(layers=[layer], initial_view_state=view_state)\n",
        "\n",
        "def render_map2(dataframe):\n",
        "    view_state = pdk.ViewState(latitude=dataframe['latitude'].mean(), longitude=dataframe['longitude'].mean(), zoom=10)\n",
        "    layer = pdk.Layer(\n",
        "        \"ScatterplotLayer\",\n",
        "        dataframe,\n",
        "        get_position=['longitude', 'latitude'],\n",
        "        get_color='color',\n",
        "        get_radius=\"userCount\",  # 점의 크기를 userCount에 비례하여 조절\n",
        "        pickable=True,\n",
        "        opacity=0.6  # 투명도 설정\n",
        "    )\n",
        "    return pdk.Deck(layers=[layer], initial_view_state=view_state)\n",
        "\n",
        "# 데이터프레임에 따라 색상 지정\n",
        "color_scale_total = ['userCount * 30', 0, 140, 140]\n",
        "\n",
        "# 지도 렌더링\n",
        "map_total = render_map(df_merged_total, color_scale_total)\n",
        "map_type = render_map2(df_merged_type)"
      ],
      "metadata": {
        "id": "GLkS44-1H5zQ"
      },
      "execution_count": null,
      "outputs": []
    },
    {
      "cell_type": "code",
      "source": [
        "# 전체 승차객 지도 표시\n",
        "map_total.show()"
      ],
      "metadata": {
        "id": "gWQH0dUOITFL"
      },
      "execution_count": null,
      "outputs": []
    },
    {
      "cell_type": "code",
      "source": [
        "# 승차타입별 승차객 지도 표시\n",
        "map_type.show()"
      ],
      "metadata": {
        "id": "zhE4PZDTIV-H"
      },
      "execution_count": null,
      "outputs": []
    },
    {
      "cell_type": "code",
      "source": [
        "## 전체 승차객 히트맵\n",
        "# HeatmapLayer를 사용한 히트맵 시각화(df_merged_total)\n",
        "heatmap_layer = pdk.Layer(\n",
        "    'HeatmapLayer',\n",
        "    df_merged_total,\n",
        "    get_position=['longitude', 'latitude'],\n",
        "    get_weight='userCount',\n",
        "    radius_pixels=60\n",
        ")\n",
        "\n",
        "view_state = pdk.ViewState(\n",
        "    latitude=df_merged_total['latitude'].mean(),\n",
        "    longitude=df_merged_total['longitude'].mean(),\n",
        "    zoom=10\n",
        ")\n",
        "\n",
        "# Deck 오브젝트 생성 및 렌더링\n",
        "deck = pdk.Deck(layers=[heatmap_layer], initial_view_state=view_state)\n",
        "deck.to_html('heatmap.html')"
      ],
      "metadata": {
        "id": "mf4uO8G5IaEJ"
      },
      "execution_count": null,
      "outputs": []
    },
    {
      "cell_type": "markdown",
      "source": [
        "#### 제주 부름 이용자들의 예약 생성/호출 위치와 버스정류소별 승차데이터"
      ],
      "metadata": {
        "id": "wDYALarEIumJ"
      }
    },
    {
      "cell_type": "code",
      "source": [
        "## 기본 데이터 임포트\n",
        "query = \"\"\"\n",
        "  SELECT\n",
        "      rv.way,\n",
        "      rv.reservation_id as rid,\n",
        "\n",
        "      rv.dtod_start_lng as start_lng, -- 호출지\n",
        "      rv.dtod_start_lat as start_lat, -- 호출\n",
        "      rv.dtod_end_lng as end_lng,\n",
        "      rv.dtod_end_lat as end_lat,\n",
        "\n",
        "      rv.reservation_created_lat as c_lat, -- 생성지\n",
        "      rv.reservation_created_lng as c_lng, -- 생성지\n",
        "\n",
        "  FROM `soda_store.reservation_v2` rv\n",
        "  WHERE date BETWEEN '2024-03-01' AND '2024-03-31'\n",
        "  AND region1 = '제주특별자치도'\n",
        "  AND way != 'round'\n",
        "  AND state IN (1, 2, 3)\n",
        "  AND dtod_start_lng is not null\n",
        "  AND dtod_end_lng is not null\n",
        "  AND reservation_created_lat is not null\n",
        "  AND reservation_created_lng is not null\n",
        "  AND rv.member_imaginary IN (0, 9)\n",
        "  \"\"\"\n",
        "\n",
        "df_loc = pd.io.gbq.read_gbq(\n",
        "    query=query,\n",
        "    project_id=\"socar-data\"\n",
        ") ## 예약위치 raw"
      ],
      "metadata": {
        "id": "iwWRSox3In2k"
      },
      "execution_count": null,
      "outputs": []
    },
    {
      "cell_type": "code",
      "source": [
        "df_loc.info()"
      ],
      "metadata": {
        "id": "iz3Vb6itI9jk"
      },
      "execution_count": null,
      "outputs": []
    },
    {
      "cell_type": "code",
      "source": [
        "df_loc.head(5)"
      ],
      "metadata": {
        "id": "q-DzHgMUJAih"
      },
      "execution_count": null,
      "outputs": []
    },
    {
      "cell_type": "code",
      "source": [
        "df_loc.shape"
      ],
      "metadata": {
        "id": "R4U4Vv8aJCVK"
      },
      "execution_count": null,
      "outputs": []
    },
    {
      "cell_type": "code",
      "source": [
        "## df_loc에서 예약 생성 위치(c_lat, c_lng)와 호출 위치(start_lat, start_lng)에 대해 각각의 레이어 생성\n",
        "def create_user_layer(dataframe, lat_col, lng_col, color, radius=100):\n",
        "    return pdk.Layer(\n",
        "        \"ScatterplotLayer\",\n",
        "        dataframe,\n",
        "        get_position=[lng_col, lat_col],\n",
        "        get_color=color,\n",
        "        get_radius=radius,\n",
        "        pickable=True,\n",
        "        opacity=0.6  # 투명도 조정\n",
        "    )"
      ],
      "metadata": {
        "id": "-kUcexveJDfb"
      },
      "execution_count": null,
      "outputs": []
    },
    {
      "cell_type": "code",
      "source": [
        "## 버스데이터 시각화 함수\n",
        "def render_complete_map(bus_data, user_data):\n",
        "    # 기존 버스 정류장 데이터 레이어\n",
        "    bus_layer = pdk.Layer(\n",
        "        \"ScatterplotLayer\",\n",
        "        bus_data,\n",
        "        get_position=['longitude', 'latitude'],\n",
        "        get_color='color',\n",
        "        get_radius=\"userCount\",\n",
        "        pickable=True,\n",
        "        opacity=0.6\n",
        "    )\n",
        "\n",
        "    # 사용자 예약 생성 위치 레이어 (Yellow)\n",
        "    reservation_layer = create_user_layer(user_data, 'c_lat', 'c_lng', [255, 255, 0, 160])\n",
        "\n",
        "    # 사용자 호출 위치 레이어 (Green)\n",
        "    call_layer = create_user_layer(user_data, 'start_lat', 'start_lng', [0, 128, 0, 160])\n",
        "\n",
        "    # 뷰 상태 설정\n",
        "    view_state = pdk.ViewState(\n",
        "        latitude=bus_data['latitude'].mean(),\n",
        "        longitude=bus_data['longitude'].mean(),\n",
        "        zoom=10\n",
        "    )\n",
        "\n",
        "    # 모든 레이어를 포함한 덱 생성\n",
        "    deck = pdk.Deck(\n",
        "        layers=[bus_layer, reservation_layer, call_layer],\n",
        "        initial_view_state=view_state,\n",
        "    )\n",
        "\n",
        "    return deck"
      ],
      "metadata": {
        "id": "OG3RBFBLJGc0"
      },
      "execution_count": null,
      "outputs": []
    },
    {
      "cell_type": "code",
      "source": [
        "# 데이터프레임 로드 및 시각화 실행\n",
        "final_map = render_complete_map(df_merged_type, df_loc)\n",
        "final_map.show()"
      ],
      "metadata": {
        "id": "qswpxkcxJHNl"
      },
      "execution_count": null,
      "outputs": []
    },
    {
      "cell_type": "markdown",
      "source": [
        "### 존별 부름 실적과 공급 현황"
      ],
      "metadata": {
        "id": "bDnUEWiyJpbJ"
      }
    },
    {
      "cell_type": "markdown",
      "source": [
        "1. 분포: 부름의 예약비중은 분포가 골고루 되어있지 않다\n",
        "- 15km 미만과 25km 이상에 집중\n",
        "\n",
        "2. 존 반경 범주내 부름 호출지 비중: 각 범주별 상위존 대상 공급 확대\n",
        "- 실적이 전체 대비 높다면, 확대\n",
        "- 비중은 높으나 실적이 전체 대비 낮다면, 축소\n",
        "  - 3Km 반경내 공급\n",
        "    - 확대: 히든클리프 호텔&네이처\n",
        "\n",
        "| zid   | zname                 | GP_ratio | GP_ratio_vs | d2d_3km_rate | d2d_rate | op_rate | op_rate_vs | profit_per_use | profit_use_vs |\n",
        "|-------|-----------------------|----------|-------------|--------------|----------|---------|------------|----------------|---------------|\n",
        "| 246   | 켄싱턴리조트 제주중문  | 0.14     | -0.08       | 0.05         | 0.53     | 0.49    | -0.03      | 11074.0        | -0.18         |\n",
        "| 12812 | 성산 K마트             | 0.20     | -0.02       | 0.04         | 0.14     | 0.59    | 0.06       | 11656.0        | -0.14         |\n",
        "| 14420 | 서귀포시외버스터미널 맞은편 | 0.20  | -0.02       | 0.05         | 0.33     | 0.51    | -0.02      | 13049.0        | -0.04         |\n",
        "| 15304 | 북수구광장 옆           | 0.22     | 0.00        | 0.04         | 0.04     | 0.59    | 0.06       | 14221.0        | 0.05          |\n",
        "| 16126 | 천제연폭포 앞           | 0.33     | 0.11        | 0.04         | 0.16     | 0.54    | 0.02       | 21321.0        | 0.57          |\n",
        "| 16618 | 롯데 하이마트 서귀포점  | 0.16     | -0.06       | 0.04         | 0.38     | 0.54    | 0.02       | 13231.0        | -0.03         |\n",
        "| 16620 | 롯데 하이마트 제주점    | 0.16     | -0.07       | 0.05         | 0.05     | 0.54    | 0.01       | 10827.0        | -0.20         |\n",
        "| 18261 | 히든클리프 호텔&네이쳐   | 0.19     | -0.03       | 0.10         | 0.43     | 0.63    | 0.11       | 15705.0        | 0.16          |\n",
        "| 18269 | 백패커스홈              | 0.18     | -0.04       | 0.07         | 0.47     | 0.53    | 0.01       | 18635.0        | 0.37          |\n",
        "| 18728 | 동문로터리              | 0.20     | -0.02       | 0.05         | 0.13     | 0.53    | 0.01       | 11522.0        | -0.15         |\n",
        "\n",
        "\n",
        "  - 5km 반경내\n",
        "    - 확대: 백패커스홈\n",
        "    - 축소: 신신호텔 제주오션\n",
        "\n",
        "| zid   | zname                 | GP_ratio | GP_ratio_vs | d2d_5km_rate | d2d_rate | op_rate | op_rate_vs | profit_per_use | profit_use_vs |\n",
        "|-------|-----------------------|----------|-------------|--------------|----------|---------|------------|----------------|---------------|\n",
        "| 246   | 켄싱턴리조트 제주중문  | 0.14     | -0.08       | 0.05         | 0.53     | 0.49    | -0.03      | 11074.0        | -0.18         |\n",
        "| 1967  | 신신호텔 제주오션      | 0.10     | -0.12       | 0.07         | 0.33     | 0.51    | -0.01      | 8271.0         | -0.39         |\n",
        "| 2230  | 서귀포시청 제1청사 부근 | 0.21     | -0.02       | 0.06         | 0.25     | 0.55    | 0.03       | 14563.0        | 0.07          |\n",
        "| 12762 | 제주호텔 더엠          | 0.18     | -0.04       | 0.11         | 0.37     | 0.52    | 0.00       | 14477.0        | 0.07          |\n",
        "| 14420 | 서귀포시외버스터미널 맞은편 | 0.20  | -0.02       | 0.07         | 0.33     | 0.51    | -0.02      | 13049.0        | -0.04         |\n",
        "| 14451 | 호텔브릿지 서귀포      | 0.24     | 0.02        | 0.14         | 0.38     | 0.67    | 0.15       | 20947.0        | 0.54          |\n",
        "| 17154 | 서귀포 중앙로터리      | 0.20     | -0.02       | 0.11         | 0.23     | 0.55    | 0.03       | 12971.0        | -0.04         |\n",
        "| 18261 | 히든클리프 호텔&네이쳐   | 0.19     | -0.03       | 0.10         | 0.43     | 0.63    | 0.11       | 15705.0        | 0.16          |\n",
        "| 18269 | 백패커스홈              | 0.18     | -0.04       | 0.27         | 0.47     | 0.53    | 0.01       | 18635.0        | 0.37          |\n",
        "| 19018 | 제주항 연안여객터미널(2부두) | 0.24  | 0.01        | 0.06         | 0.06     | 0.53    | 0.01       | 20426.0        | 0.50          |\n",
        "\n",
        "  - 10km 반경내\n",
        "    - 확대: 히든클리프 호텔&네이처, 호텔브릿지 서귀포\n",
        "    - 축소: 신신호텔 제주오션\n",
        "\n",
        "| zid   | zname                    | GP_ratio | GP_ratio_vs | d2d_10km_rate | d2d_rate | op_rate | op_rate_vs | profit_per_use | profit_use_vs |\n",
        "|-------|--------------------------|----------|-------------|---------------|----------|---------|------------|----------------|---------------|\n",
        "| 246   | 켄싱턴리조트 제주중문      | 0.14     | -0.08       | 0.19          | 0.53     | 0.49    | -0.03      | 11074.0        | -0.18         |\n",
        "| 1967  | 신신호텔 제주오션         | 0.10     | -0.12       | 0.09          | 0.33     | 0.51    | -0.01      | 8271.0         | -0.39         |\n",
        "| 2230  | 서귀포시청 제1청사 부근    | 0.21     | -0.02       | 0.07          | 0.25     | 0.55    | 0.03       | 14563.0        | 0.07          |\n",
        "| 12636 | 중문중학교 옆             | 0.22     | -0.01       | 0.13          | 0.21     | 0.46    | -0.06      | 12354.0        | -0.09         |\n",
        "| 12762 | 제주호텔 더엠             | 0.18     | -0.04       | 0.13          | 0.37     | 0.52    | 0.00       | 14477.0        | 0.07          |\n",
        "| 14420 | 서귀포시외버스터미널 맞은편 | 0.20     | -0.02       | 0.11          | 0.33     | 0.51    | -0.02      | 13049.0        | -0.04         |\n",
        "| 14451 | 호텔브릿지 서귀포          | 0.24     | 0.02        | 0.33          | 0.38     | 0.67    | 0.15       | 20947.0        | 0.54          |\n",
        "| 17154 | 서귀포 중앙로터리          | 0.20     | -0.02       | 0.12          | 0.23     | 0.55    | 0.03       | 12971.0        | -0.04         |\n",
        "| 18261 | 히든클리프 호텔&네이쳐      | 0.19     | -0.03       | 0.33          | 0.43     | 0.63    | 0.11       | 15705.0        | 0.16          |\n",
        "| 18269 | 백패커스홈                 | 0.18     | -0.04       | 0.27          | 0.47     | 0.53    | 0.01       | 18635.0        | 0.37          |\n",
        "\n",
        "3. 지역별 존의 반경 범주내 부름 호출지 비중: 각 범주별 상위 지역 대상 공급 확대\n",
        "- 실적이 전체 대비 높다면, 확대\n",
        "- 비중은 높으나 실적이 전체 대비 낮다면, 축소\n",
        "  - 3Km 반경내\n",
        "    - 확대: 상예동\n",
        "    - 축소: 중문동\n",
        "\n",
        "| region3 | z_cnt | opr_day | d2d_3km_rate | d2d_rate | GP_ratio | op_rate | profit_per_use |\n",
        "|---------|-------|---------|--------------|----------|----------|---------|----------------|\n",
        "| 상예동   | 1     | 1.0     | 0.10         | 0.43     | 0.19     | 0.63    | 15705.0        |\n",
        "| 강정동   | 2     | 6.0     | 0.05         | 0.33     | 0.20     | 0.51    | 13049.0        |\n",
        "| 일도일동 | 1     | 2.0     | 0.04         | 0.04     | 0.22     | 0.59    | 14221.0        |\n",
        "| 삼도이동 | 2     | 3.0     | 0.03         | 0.04     | 0.20     | 0.58    | 14099.0        |\n",
        "| 색달동   | 3     | 10.0    | 0.03         | 0.36     | 0.18     | 0.47    | 13327.0        |\n",
        "| 서귀동   | 6     | 14.0    | 0.03         | 0.32     | 0.18     | 0.55    | 14471.0        |\n",
        "| 동홍동   | 3     | 8.0     | 0.02         | 0.21     | 0.20     | 0.50    | 12083.0        |\n",
        "| 서호동   | 2     | 5.0     | 0.02         | 0.17     | 0.24     | 0.52    | 13861.0        |\n",
        "| 성산읍   | 3     | 7.0     | 0.02         | 0.17     | 0.19     | 0.52    | 11655.0        |\n",
        "| 중문동   | 3     | 9.0     | 0.02         | 0.12     | -0.46    | 0.33    | -3376.0        |\n",
        "\n",
        "  - 5km 반경\n",
        "\n",
        "| region3 | z_cnt | opr_day | d2d_5km_rate | d2d_rate | GP_ratio | op_rate | profit_per_use |\n",
        "|---------|-------|---------|--------------|----------|----------|---------|----------------|\n",
        "| 서귀동   | 6     | 14.0    | 0.13         | 0.32     | 0.18     | 0.55    | 14471.0        |\n",
        "| 상예동   | 1     | 1.0     | 0.10         | 0.43     | 0.19     | 0.63    | 15705.0        |\n",
        "| 강정동   | 2     | 6.0     | 0.07         | 0.33     | 0.20     | 0.51    | 13049.0        |\n",
        "| 오라1동  | 1     | 3.0     | 0.04         | 0.04     | 0.25     | 0.61    | 16088.0        |\n",
        "| 일도일동 | 1     | 2.0     | 0.04         | 0.04     | 0.22     | 0.59    | 14221.0        |\n",
        "| 건입동   | 2     | 4.0     | 0.03         | 0.03     | 0.26     | 0.54    | 17860.0        |\n",
        "| 동홍동   | 3     | 8.0     | 0.03         | 0.21     | 0.20     | 0.50    | 12083.0        |\n",
        "| 삼도이동 | 2     | 3.0     | 0.03         | 0.04     | 0.20     | 0.58    | 14099.0        |\n",
        "| 색달동   | 3     | 10.0    | 0.03         | 0.36     | 0.18     | 0.47    | 13327.0        |\n",
        "| 서호동   | 2     | 5.0     | 0.03         | 0.17     | 0.24     | 0.52    | 13861.0        |\n",
        "\n",
        "\n",
        "  - 10km 반경\n",
        "    - 확대: 상예동, 강정동, 색달동\n",
        "\n",
        "| region3 | z_cnt | opr_day | d2d_10km_rate | d2d_rate | GP_ratio | op_rate | profit_per_use |\n",
        "|---------|-------|---------|---------------|----------|----------|---------|----------------|\n",
        "| 상예동   | 1     | 1.0     | 0.33          | 0.43     | 0.19     | 0.63    | 15705.0        |\n",
        "| 서귀동   | 6     | 14.0    | 0.17          | 0.32     | 0.18     | 0.55    | 14471.0        |\n",
        "| 강정동   | 2     | 6.0     | 0.11          | 0.33     | 0.20     | 0.51    | 13049.0        |\n",
        "| 색달동   | 3     | 10.0    | 0.09          | 0.36     | 0.18     | 0.47    | 13327.0        |\n",
        "| 서호동   | 2     | 5.0     | 0.06          | 0.17     | 0.24     | 0.52    | 13861.0        |\n",
        "| 중문동   | 3     | 9.0     | 0.06          | 0.12     | -0.46    | 0.33    | -3376.0        |\n",
        "| 동홍동   | 3     | 8.0     | 0.04          | 0.21     | 0.20     | 0.50    | 12083.0        |\n",
        "| 오라1동  | 1     | 3.0     | 0.04          | 0.04     | 0.25     | 0.61    | 16088.0        |\n",
        "| 일도일동 | 1     | 2.0     | 0.04          | 0.04     | 0.22     | 0.59    | 14221.0        |\n",
        "| 건입동   | 2     | 4.0     | 0.03          | 0.03     | 0.26     | 0.54    | 17860.0        |\n",
        "\n",
        "  - total\n",
        "    - 확대: 상예동, 대정읍, 색달동, 강정동, 서귀동\n",
        "\n",
        "| region3 | z_cnt | opr_day | d2d_rate | GP_ratio | op_rate | profit_per_use |\n",
        "|---------|-------|---------|----------|----------|---------|----------------|\n",
        "| 남원읍   | 1     | 1.0     | 0.63     | -0.05    | 0.28    | -4432.0        |\n",
        "| 상예동   | 1     | 1.0     | 0.43     | 0.19     | 0.63    | 15705.0        |\n",
        "| 대정읍   | 1     | 2.0     | 0.38     | 0.19     | 0.47    | 17529.0        |\n",
        "| 색달동   | 3     | 10.0    | 0.36     | 0.18     | 0.47    | 13327.0        |\n",
        "| 안덕면   | 4     | 19.0    | 0.35     | 0.19     | 0.56    | 13367.0        |\n",
        "| 강정동   | 2     | 6.0     | 0.33     | 0.20     | 0.51    | 13049.0        |\n",
        "| 서귀동   | 6     | 14.0    | 0.32     | 0.18     | 0.55    | 14471.0        |\n",
        "| 구좌읍   | 1     | 2.0     | 0.27     | 0.16     | 0.41    | 13502.0        |\n",
        "| 동홍동   | 3     | 8.0     | 0.21     | 0.20     | 0.50    | 12083.0        |\n",
        "| 서호동   | 2     | 5.0     | 0.17     | 0.24     | 0.52    | 13861.0        |\n"
      ],
      "metadata": {
        "id": "BRKnE0DSzoP_"
      }
    },
    {
      "cell_type": "code",
      "source": [
        "## 기본 데이터 임포트\n",
        "query = \"\"\"\n",
        "  SELECT\n",
        "  r.way as way\n",
        "  , CASE WHEN r.zone_id IN (105, 9890) THEN 'air'\n",
        "          WHEN r.zone_id IN (17209, 19175, 19269) THEN 'air_infront'\n",
        "          ELSE ci.region3 END as region3\n",
        "  , r.reservation_id as rid,\n",
        "  st_distance(st_geogpoint(r.zone_lng, r.zone_lat), st_geogpoint(dtod_start_lng, dtod_start_lat)) as rev_distance\n",
        "\n",
        "  FROM `socar-data.soda_store.reservation_v2` r\n",
        "  LEFT JOIN socar-data.tianjin_replica.reservation_info i ON r.reservation_id = i.id\n",
        "  LEFT JOIN socar-data.tianjin_replica.reservation_dtod_info d ON r.reservation_id = d.reservation_id\n",
        "  LEFT JOIN `tianjin_replica.car_info` c ON r.car_id = c.id\n",
        "  LEFT JOIN `tianjin_replica.car_class` cl ON c.class_id = cl.id\n",
        "  LEFT JOIN tianjin_replica.carzone_info ci ON r.zone_id = ci.id\n",
        "  WHERE date BETWEEN '2024-03-25' AND '2024-04-21'\n",
        "  AND r.member_imaginary IN (0,9)\n",
        "  AND r.region1 = '제주특별자치도'\n",
        "  AND r.zone_id NOT IN (105, 9890, 17209, 19175, 19269)\n",
        "  AND r.way NOT IN ('round', 'z2d_oneway')\n",
        "  \"\"\"\n",
        "\n",
        "df_zone = pd.io.gbq.read_gbq(\n",
        "    query=query,\n",
        "    project_id=\"socar-data\"\n",
        ") ## 존 예약위치 raw\n",
        "\n",
        "df_zone.info()"
      ],
      "metadata": {
        "id": "7sCIa_SnJIUY"
      },
      "execution_count": null,
      "outputs": []
    },
    {
      "cell_type": "code",
      "source": [
        "df_zone.head()"
      ],
      "metadata": {
        "id": "N4revWZHNeM7"
      },
      "execution_count": null,
      "outputs": []
    },
    {
      "cell_type": "code",
      "source": [
        "df_zone['rev_distance'].describe()"
      ],
      "metadata": {
        "id": "OzRlUp8dN8qs"
      },
      "execution_count": null,
      "outputs": []
    },
    {
      "cell_type": "code",
      "source": [
        "import plotly.express as px\n",
        "import scipy.stats as stats\n",
        "import numpy as np\n",
        "import plotly.graph_objects as go"
      ],
      "metadata": {
        "id": "WibZKjoAQNfS"
      },
      "execution_count": null,
      "outputs": []
    },
    {
      "cell_type": "code",
      "source": [
        "# 히스토그램 생성\n",
        "fig = px.histogram(df_zone, x='rev_distance', nbins=30, marginal=\"rug\", title=\"Distribution of rev_distance\")\n",
        "\n",
        "# 데이터의 평균과 표준편차 계산\n",
        "mu = df_zone['rev_distance'].mean()\n",
        "sigma = df_zone['rev_distance'].std()\n",
        "\n",
        "# 정규분포 데이터 생성\n",
        "x = np.linspace(mu - 3*sigma, mu + 3*sigma, 100)\n",
        "y = stats.norm.pdf(x, mu, sigma)  # 정규분포 확률밀도함수\n",
        "\n",
        "# 정규분포 곡선을 히스토그램에 추가\n",
        "fig.add_trace(go.Scatter(x=x, y=y, mode='lines', name='Normal Distribution'))\n",
        "\n",
        "# 그래프 표시\n",
        "fig.show()"
      ],
      "metadata": {
        "id": "8E4tDdxARUah"
      },
      "execution_count": null,
      "outputs": []
    },
    {
      "cell_type": "code",
      "source": [
        "fig = px.histogram(df_zone, x='rev_distance', color='way', nbins=30, marginal=\"rug\", title=\"Distribution of rev_distance by Way\")\n",
        "fig.show()"
      ],
      "metadata": {
        "id": "SLpXCaEiRd1Z"
      },
      "execution_count": null,
      "outputs": []
    },
    {
      "cell_type": "code",
      "source": [
        "## 존별 특정 거리 범주이내 부름 예약건수의 존 전체 건수 대비 비중\n",
        "## 전처리 데이터 임포트\n",
        "query = \"\"\"\n",
        "  WITH base AS (\n",
        "    SELECT\n",
        "      region3,\n",
        "      id as zid,\n",
        "      zone_name as zname,\n",
        "      lat, lng\n",
        "    FROM tianjin_replica.carzone_info\n",
        "    WHERE region1 = '제주특별자치도'\n",
        "    AND state = 1\n",
        "  ),\n",
        "\n",
        "  base_d2d_rev AS (\n",
        "    SELECT\n",
        "    r.way as way,\n",
        "    CASE WHEN r.zone_id IN (105, 9890) THEN 'air'\n",
        "        WHEN r.zone_id IN (17209, 19175, 19269) THEN 'air_infront'\n",
        "        ELSE ci.region3 END as region3,\n",
        "    r.zone_id,\n",
        "    r.reservation_id as rid,\n",
        "\n",
        "    dtod_start_lng as s_lng,\n",
        "    dtod_start_lat as s_lat\n",
        "\n",
        "    FROM `socar-data.soda_store.reservation_v2` r\n",
        "    LEFT JOIN socar-data.tianjin_replica.reservation_info i ON r.reservation_id = i.id\n",
        "    LEFT JOIN socar-data.tianjin_replica.reservation_dtod_info d ON r.reservation_id = d.reservation_id\n",
        "    LEFT JOIN `tianjin_replica.car_info` c ON r.car_id = c.id\n",
        "    LEFT JOIN `tianjin_replica.car_class` cl ON c.class_id = cl.id\n",
        "    LEFT JOIN tianjin_replica.carzone_info ci ON r.zone_id = ci.id\n",
        "    WHERE date BETWEEN '2024-03-25' AND '2024-04-21'\n",
        "    AND r.member_imaginary IN (0,9)\n",
        "    AND r.region1 = '제주특별자치도'\n",
        "    AND r.way NOT IN ('round', 'z2d_oneway')\n",
        "  ),\n",
        "\n",
        "  base_d2d AS (\n",
        "    SELECT\n",
        "    b.region3,\n",
        "    b.zid, b.zname,\n",
        "    count(rid) as rev_d2d_cnt,\n",
        "    count(CASE WHEN st_distance(st_geogpoint(b.lng, b.lat), st_geogpoint(r.s_lng, r.s_lat)) <= 10000 THEN r.rid END) as rev_10km,\n",
        "    count(CASE WHEN st_distance(st_geogpoint(b.lng, b.lat), st_geogpoint(r.s_lng, r.s_lat)) <= 5000 THEN r.rid END) as rev_5km,\n",
        "    count(CASE WHEN st_distance(st_geogpoint(b.lng, b.lat), st_geogpoint(r.s_lng, r.s_lat)) <= 3000 THEN r.rid END) as rev_3km\n",
        "    FROM base b\n",
        "    LEFT JOIN base_d2d_rev r ON b.zid = r.zone_id\n",
        "    GROUP BY region3, zid, zname\n",
        "  ),\n",
        "\n",
        "  base_rev AS (\n",
        "    SELECT\n",
        "    r.way as way,\n",
        "    CASE WHEN r.zone_id IN (105, 9890) THEN 'air'\n",
        "        WHEN r.zone_id IN (17209, 19175, 19269) THEN 'air_infront'\n",
        "        ELSE ci.region3 END as region3,\n",
        "    r.zone_id,\n",
        "    r.reservation_id as rid,\n",
        "\n",
        "    dtod_start_lng as s_lng,\n",
        "    dtod_start_lat as s_lat\n",
        "\n",
        "    FROM `socar-data.soda_store.reservation_v2` r\n",
        "    LEFT JOIN socar-data.tianjin_replica.reservation_info i ON r.reservation_id = i.id\n",
        "    LEFT JOIN socar-data.tianjin_replica.reservation_dtod_info d ON r.reservation_id = d.reservation_id\n",
        "    LEFT JOIN `tianjin_replica.car_info` c ON r.car_id = c.id\n",
        "    LEFT JOIN `tianjin_replica.car_class` cl ON c.class_id = cl.id\n",
        "    LEFT JOIN tianjin_replica.carzone_info ci ON r.zone_id = ci.id\n",
        "    WHERE date BETWEEN '2024-03-25' AND '2024-04-21'\n",
        "    AND r.member_imaginary IN (0,9)\n",
        "    AND r.region1 = '제주특별자치도'\n",
        "  ),\n",
        "\n",
        "  base_tot AS (\n",
        "    SELECT\n",
        "    b.region3,\n",
        "    b.zid, b.zname,\n",
        "\n",
        "    count(rid) as rev_cnt,\n",
        "    FROM base b\n",
        "    LEFT JOIN base_rev r ON b.zid = r.zone_id\n",
        "    GROUP BY region3, zid, zname\n",
        "  ),\n",
        "\n",
        "  base_profit AS (\n",
        "    SELECT\n",
        "      p.zone_id as zid,\n",
        "      p.zone_name as zname,\n",
        "\n",
        "      count(car_id) as cnt,\n",
        "      sum(opr_day) as opr_day,\n",
        "      sum(nuse) as use,\n",
        "      sum(utime) as dur,\n",
        "      sum(revenue) as revenue,\n",
        "      sum(profit) as profit,\n",
        "      sum(profit)/sum(revenue) as GP_ratio,\n",
        "      sum(profit)/sum(nuse) as profit_per_use,\n",
        "      sum(utime)/(sum(opr_day)*24) as op_rate\n",
        "\n",
        "\n",
        "    FROM `socar_biz_profit.profit_socar_car_daily` p\n",
        "    LEFT JOIN tianjin_replica.carzone_info c ON p.zone_id = c.id\n",
        "    WHERE p.region1 in ('제주특별자치도')\n",
        "    AND zone_id not in(122,2184,12072,12073,10736,10738,11947,11480,13228,13787,13858,14494,14528,14541,14542)\n",
        "    AND date BETWEEN '2024-03-25' AND '2024-04-21'\n",
        "    AND car_sharing_type in ('socar','zplus')\n",
        "    GROUP BY zid, zname\n",
        "  ),\n",
        "\n",
        "  base_profit_total AS (\n",
        "    SELECT\n",
        "      9999 as zid,\n",
        "      '전체' as zname,\n",
        "\n",
        "      count(car_id) as cnt,\n",
        "      sum(opr_day) as opr_day,\n",
        "      sum(nuse) as use,\n",
        "      sum(utime) as dur,\n",
        "      sum(revenue) as revenue,\n",
        "      sum(profit) as profit,\n",
        "      sum(profit)/sum(revenue) as total_GP_ratio,\n",
        "      sum(profit)/sum(nuse) as total_profit_per_use,\n",
        "      sum(utime)/(sum(opr_day)*24) as total_op_rate\n",
        "\n",
        "\n",
        "    FROM `socar_biz_profit.profit_socar_car_daily` p\n",
        "    LEFT JOIN tianjin_replica.carzone_info c ON p.zone_id = c.id\n",
        "    WHERE p.region1 in ('제주특별자치도')\n",
        "    AND zone_id not in(122,2184,12072,12073,10736,10738,11947,11480,13228,13787,13858,14494,14528,14541,14542,105,9890,17209,19175, 19269)\n",
        "    AND date BETWEEN '2024-03-25' AND '2024-04-21'\n",
        "    AND car_sharing_type in ('socar','zplus')\n",
        "    GROUP BY zid, zname\n",
        "  ),\n",
        "\n",
        "  profit_total AS (\n",
        "    SELECT\n",
        "      b.zid, b.zname,\n",
        "      round(b.GP_ratio, 2) as GP_ratio,\n",
        "      round(b.GP_ratio - bt.total_GP_ratio, 2) as GP_ratio_vs,\n",
        "      round(b.profit_per_use, 0) as profit_per_use,\n",
        "      round((b.profit_per_use / bt.total_profit_per_use) -1, 2) as profit_use_vs,\n",
        "      round(b.op_rate, 2) as op_rate,\n",
        "      round(b.op_rate - bt.total_op_rate, 2) as op_rate_vs\n",
        "    FROM base_profit b\n",
        "    CROSS JOIN base_profit_total bt\n",
        "  )\n",
        "\n",
        "  SELECT\n",
        "    b.*,\n",
        "    bt.rev_cnt,\n",
        "    round(safe_divide(b2.rev_3km, bt.rev_cnt), 2) as d2d_3km_rate,\n",
        "    round(safe_divide(b2.rev_5km, bt.rev_cnt), 2) as d2d_5km_rate,\n",
        "    round(safe_divide(b2.rev_10km, bt.rev_cnt), 2) as d2d_10km_rate,\n",
        "    round(safe_divide(b2.rev_d2d_cnt, bt.rev_cnt), 2) as d2d_rate,\n",
        "\n",
        "    GP_ratio,\n",
        "    GP_ratio_vs, -- 전체 대비 손익률\n",
        "    profit_per_use,\n",
        "    profit_use_vs, -- 전체 대비 건당 이익\n",
        "    op_rate,\n",
        "    op_rate_vs -- 전체 대비 가동률 차이 (%p)\n",
        "  FROM base b\n",
        "  LEFT JOIN base_d2d b2 ON b.zid = b2.zid\n",
        "  LEFT JOIN base_tot bt ON b.zid = bt.zid\n",
        "  LEFT JOIN profit_total bp ON b.zid = bp.zid\n",
        "  ORDER BY zid\n",
        "  \"\"\"\n",
        "\n",
        "df_rev_info = pd.io.gbq.read_gbq(\n",
        "    query=query,\n",
        "    project_id=\"socar-data\"\n",
        ") ## 존 예약위치 raw\n",
        "\n",
        "df_rev_info.info()"
      ],
      "metadata": {
        "id": "PQy1U_hVXFQx"
      },
      "execution_count": null,
      "outputs": []
    },
    {
      "cell_type": "code",
      "source": [
        "# 데이터 필터링 및 피벗 테이블 생성\n",
        "# 각 거점의 부름 예약 비중별로 상위 10개 거점을 필터링하고, 이를 피벗 테이블로 요약\n",
        "\n",
        "# 상위 10개 거점 필터링 함수\n",
        "def filter_top_zones(df, rate_column):\n",
        "    return df.nlargest(10, rate_column)\n",
        "\n",
        "# 각 거점 별 비율에 따른 상위 10개 거점 필터링\n",
        "top_3km = filter_top_zones(df_rev_info, 'd2d_3km_rate')\n",
        "top_5km = filter_top_zones(df_rev_info, 'd2d_5km_rate')\n",
        "top_10km = filter_top_zones(df_rev_info, 'd2d_10km_rate')\n",
        "top_overall = filter_top_zones(df_rev_info, 'd2d_rate')\n",
        "\n",
        "# 실적 피벗 테이블 생성 함수\n",
        "def create_pivot_table(df):\n",
        "    return df.pivot_table(index=['zid', 'zname'], values=['d2d_3km_rate', 'd2d_5km_rate', 'd2d_10km_rate', 'd2d_rate', 'GP_ratio', 'GP_ratio_vs', 'profit_per_use', 'profit_use_vs', 'op_rate', 'op_rate_vs'])\n",
        "\n",
        "# 각 비율별 피벗 테이블 생성\n",
        "pivot_3km = create_pivot_table(top_3km)\n",
        "pivot_5km = create_pivot_table(top_5km)\n",
        "pivot_10km = create_pivot_table(top_10km)\n",
        "pivot_overall = create_pivot_table(top_overall)\n",
        "\n",
        "# GP_ratio 시각화\n",
        "def plot_performance(df, value):\n",
        "    fig = px.bar(df, x='zname', y=value, color=value, title=f'{value} by Zone')\n",
        "    fig.show()\n",
        "\n",
        "# Pydeck 지도 시각화 함수\n",
        "def render_map(df):\n",
        "    view_state = pdk.ViewState(latitude=df['lat'].mean(), longitude=df['lng'].mean(), zoom=8)\n",
        "\n",
        "    layer = pdk.Layer(\n",
        "        \"ScatterplotLayer\",\n",
        "        df,\n",
        "        get_position=['lng', 'lat'],\n",
        "        get_color='[200, 30, 0, 160]',\n",
        "        get_radius='op_rate * 1000',  # op_rate에 따라 크기 조절\n",
        "        pickable=True,\n",
        "        opacity=0.8\n",
        "    )\n",
        "\n",
        "    deck = pdk.Deck(layers=[layer], initial_view_state=view_state)\n",
        "    return deck"
      ],
      "metadata": {
        "id": "6_ZDVOCsXUFj"
      },
      "execution_count": null,
      "outputs": []
    },
    {
      "cell_type": "code",
      "source": [
        "# 예시 출력\n",
        "print(pivot_3km)"
      ],
      "metadata": {
        "id": "HMOCJ6CwsADh"
      },
      "execution_count": null,
      "outputs": []
    },
    {
      "cell_type": "markdown",
      "source": [
        "| zid   | zname                 | GP_ratio | GP_ratio_vs | d2d_3km_rate | d2d_rate | op_rate | op_rate_vs | profit_per_use | profit_use_vs |\n",
        "|-------|-----------------------|----------|-------------|--------------|----------|---------|------------|----------------|---------------|\n",
        "| 246   | 켄싱턴리조트 제주중문  | 0.14     | -0.08       | 0.05         | 0.53     | 0.49    | -0.03      | 11074.0        | -0.18         |\n",
        "| 12812 | 성산 K마트             | 0.20     | -0.02       | 0.04         | 0.14     | 0.59    | 0.06       | 11656.0        | -0.14         |\n",
        "| 14420 | 서귀포시외버스터미널 맞은편 | 0.20  | -0.02       | 0.05         | 0.33     | 0.51    | -0.02      | 13049.0        | -0.04         |\n",
        "| 15304 | 북수구광장 옆           | 0.22     | 0.00        | 0.04         | 0.04     | 0.59    | 0.06       | 14221.0        | 0.05          |\n",
        "| 16126 | 천제연폭포 앞           | 0.33     | 0.11        | 0.04         | 0.16     | 0.54    | 0.02       | 21321.0        | 0.57          |\n",
        "| 16618 | 롯데 하이마트 서귀포점  | 0.16     | -0.06       | 0.04         | 0.38     | 0.54    | 0.02       | 13231.0        | -0.03         |\n",
        "| 16620 | 롯데 하이마트 제주점    | 0.16     | -0.07       | 0.05         | 0.05     | 0.54    | 0.01       | 10827.0        | -0.20         |\n",
        "| 18261 | 히든클리프 호텔&네이쳐   | 0.19     | -0.03       | 0.10         | 0.43     | 0.63    | 0.11       | 15705.0        | 0.16          |\n",
        "| 18269 | 백패커스홈              | 0.18     | -0.04       | 0.07         | 0.47     | 0.53    | 0.01       | 18635.0        | 0.37          |\n",
        "| 18728 | 동문로터리              | 0.20     | -0.02       | 0.05         | 0.13     | 0.53    | 0.01       | 11522.0        | -0.15         |\n"
      ],
      "metadata": {
        "id": "PzoA3CuC6FvS"
      }
    },
    {
      "cell_type": "code",
      "source": [
        "plot_performance(top_3km, 'GP_ratio')"
      ],
      "metadata": {
        "id": "X-UB8wtvsFNI"
      },
      "execution_count": null,
      "outputs": []
    },
    {
      "cell_type": "code",
      "source": [
        "plot_performance(top_3km, 'op_rate')"
      ],
      "metadata": {
        "id": "jC4ArkZesivJ"
      },
      "execution_count": null,
      "outputs": []
    },
    {
      "cell_type": "code",
      "source": [
        "# 지도 렌더링\n",
        "map_deck = render_map(top_3km)\n",
        "map_deck.to_html('top_3km_map.html')"
      ],
      "metadata": {
        "id": "cv2ImnRqsR4C"
      },
      "execution_count": null,
      "outputs": []
    },
    {
      "cell_type": "code",
      "source": [
        "print(pivot_5km)"
      ],
      "metadata": {
        "id": "ku5fVa-VrzxL"
      },
      "execution_count": null,
      "outputs": []
    },
    {
      "cell_type": "markdown",
      "source": [
        "| zid   | zname                 | GP_ratio | GP_ratio_vs | d2d_5km_rate | d2d_rate | op_rate | op_rate_vs | profit_per_use | profit_use_vs |\n",
        "|-------|-----------------------|----------|-------------|--------------|----------|---------|------------|----------------|---------------|\n",
        "| 246   | 켄싱턴리조트 제주중문  | 0.14     | -0.08       | 0.05         | 0.53     | 0.49    | -0.03      | 11074.0        | -0.18         |\n",
        "| 1967  | 신신호텔 제주오션      | 0.10     | -0.12       | 0.07         | 0.33     | 0.51    | -0.01      | 8271.0         | -0.39         |\n",
        "| 2230  | 서귀포시청 제1청사 부근 | 0.21     | -0.02       | 0.06         | 0.25     | 0.55    | 0.03       | 14563.0        | 0.07          |\n",
        "| 12762 | 제주호텔 더엠          | 0.18     | -0.04       | 0.11         | 0.37     | 0.52    | 0.00       | 14477.0        | 0.07          |\n",
        "| 14420 | 서귀포시외버스터미널 맞은편 | 0.20  | -0.02       | 0.07         | 0.33     | 0.51    | -0.02      | 13049.0        | -0.04         |\n",
        "| 14451 | 호텔브릿지 서귀포      | 0.24     | 0.02        | 0.14         | 0.38     | 0.67    | 0.15       | 20947.0        | 0.54          |\n",
        "| 17154 | 서귀포 중앙로터리      | 0.20     | -0.02       | 0.11         | 0.23     | 0.55    | 0.03       | 12971.0        | -0.04         |\n",
        "| 18261 | 히든클리프 호텔&네이쳐   | 0.19     | -0.03       | 0.10         | 0.43     | 0.63    | 0.11       | 15705.0        | 0.16          |\n",
        "| 18269 | 백패커스홈              | 0.18     | -0.04       | 0.27         | 0.47     | 0.53    | 0.01       | 18635.0        | 0.37          |\n",
        "| 19018 | 제주항 연안여객터미널(2부두) | 0.24  | 0.01        | 0.06         | 0.06     | 0.53    | 0.01       | 20426.0        | 0.50          |\n"
      ],
      "metadata": {
        "id": "VQhiTeOn6Ppv"
      }
    },
    {
      "cell_type": "code",
      "source": [
        "plot_performance(top_5km, 'GP_ratio')"
      ],
      "metadata": {
        "id": "ATBhFrygtXwk"
      },
      "execution_count": null,
      "outputs": []
    },
    {
      "cell_type": "code",
      "source": [
        "plot_performance(top_5km, 'op_rate')"
      ],
      "metadata": {
        "id": "Na72VdV-tVAA"
      },
      "execution_count": null,
      "outputs": []
    },
    {
      "cell_type": "code",
      "source": [
        "# 지도 렌더링\n",
        "map_deck = render_map(top_5km)\n",
        "map_deck.to_html('top_5km_map.html')"
      ],
      "metadata": {
        "id": "VD-NcrOUtU9d"
      },
      "execution_count": null,
      "outputs": []
    },
    {
      "cell_type": "code",
      "source": [
        "print(pivot_10km)"
      ],
      "metadata": {
        "id": "emME0eMar3mk"
      },
      "execution_count": null,
      "outputs": []
    },
    {
      "cell_type": "markdown",
      "source": [
        "| zid   | zname                    | GP_ratio | GP_ratio_vs | d2d_10km_rate | d2d_rate | op_rate | op_rate_vs | profit_per_use | profit_use_vs |\n",
        "|-------|--------------------------|----------|-------------|---------------|----------|---------|------------|----------------|---------------|\n",
        "| 246   | 켄싱턴리조트 제주중문      | 0.14     | -0.08       | 0.19          | 0.53     | 0.49    | -0.03      | 11074.0        | -0.18         |\n",
        "| 1967  | 신신호텔 제주오션         | 0.10     | -0.12       | 0.09          | 0.33     | 0.51    | -0.01      | 8271.0         | -0.39         |\n",
        "| 2230  | 서귀포시청 제1청사 부근    | 0.21     | -0.02       | 0.07          | 0.25     | 0.55    | 0.03       | 14563.0        | 0.07          |\n",
        "| 12636 | 중문중학교 옆             | 0.22     | -0.01       | 0.13          | 0.21     | 0.46    | -0.06      | 12354.0        | -0.09         |\n",
        "| 12762 | 제주호텔 더엠             | 0.18     | -0.04       | 0.13          | 0.37     | 0.52    | 0.00       | 14477.0        | 0.07          |\n",
        "| 14420 | 서귀포시외버스터미널 맞은편 | 0.20     | -0.02       | 0.11          | 0.33     | 0.51    | -0.02      | 13049.0        | -0.04         |\n",
        "| 14451 | 호텔브릿지 서귀포          | 0.24     | 0.02        | 0.33          | 0.38     | 0.67    | 0.15       | 20947.0        | 0.54          |\n",
        "| 17154 | 서귀포 중앙로터리          | 0.20     | -0.02       | 0.12          | 0.23     | 0.55    | 0.03       | 12971.0        | -0.04         |\n",
        "| 18261 | 히든클리프 호텔&네이쳐      | 0.19     | -0.03       | 0.33          | 0.43     | 0.63    | 0.11       | 15705.0        | 0.16          |\n",
        "| 18269 | 백패커스홈                 | 0.18     | -0.04       | 0.27          | 0.47     | 0.53    | 0.01       | 18635.0        | 0.37          |\n"
      ],
      "metadata": {
        "id": "BadCfuEy6tgm"
      }
    },
    {
      "cell_type": "code",
      "source": [
        "plot_performance(top_10km, 'GP_ratio')"
      ],
      "metadata": {
        "id": "MYnPTpB9tiMx"
      },
      "execution_count": null,
      "outputs": []
    },
    {
      "cell_type": "code",
      "source": [
        "plot_performance(top_10km, 'op_rate')"
      ],
      "metadata": {
        "id": "jV3HGMMZtiHz"
      },
      "execution_count": null,
      "outputs": []
    },
    {
      "cell_type": "code",
      "source": [
        "# 지도 렌더링\n",
        "map_deck = render_map(top_10km)\n",
        "map_deck.to_html('top_10km_map.html')"
      ],
      "metadata": {
        "id": "rAQv4PDmtiEg"
      },
      "execution_count": null,
      "outputs": []
    },
    {
      "cell_type": "code",
      "source": [
        "## region3별 특정 거리 범주이내 부름 예약건수의 존 전체 건수 대비 비중\n",
        "## 전처리 데이터 임포트\n",
        "query = \"\"\"\n",
        "  WITH base AS (\n",
        "    SELECT\n",
        "      region3,\n",
        "      id as zid,\n",
        "      zone_name as zname,\n",
        "      lat, lng\n",
        "    FROM tianjin_replica.carzone_info\n",
        "    WHERE region1 = '제주특별자치도'\n",
        "    AND state = 1\n",
        "  ),\n",
        "\n",
        "  base_d2d_rev AS (\n",
        "    SELECT\n",
        "    r.way as way,\n",
        "    CASE WHEN r.zone_id IN (105, 9890) THEN 'air'\n",
        "        WHEN r.zone_id IN (17209, 19175, 19269) THEN 'air_infront'\n",
        "        ELSE ci.region3 END as region3,\n",
        "    r.zone_id,\n",
        "    r.reservation_id as rid,\n",
        "\n",
        "    dtod_start_lng as s_lng,\n",
        "    dtod_start_lat as s_lat\n",
        "\n",
        "    FROM `socar-data.soda_store.reservation_v2` r\n",
        "    LEFT JOIN socar-data.tianjin_replica.reservation_info i ON r.reservation_id = i.id\n",
        "    LEFT JOIN socar-data.tianjin_replica.reservation_dtod_info d ON r.reservation_id = d.reservation_id\n",
        "    LEFT JOIN `tianjin_replica.car_info` c ON r.car_id = c.id\n",
        "    LEFT JOIN `tianjin_replica.car_class` cl ON c.class_id = cl.id\n",
        "    LEFT JOIN tianjin_replica.carzone_info ci ON r.zone_id = ci.id\n",
        "    WHERE date BETWEEN '2024-03-25' AND '2024-04-21'\n",
        "    AND r.member_imaginary IN (0,9)\n",
        "    AND r.region1 = '제주특별자치도'\n",
        "    AND r.way NOT IN ('round', 'z2d_oneway')\n",
        "  ),\n",
        "\n",
        "  base_d2d AS (\n",
        "    SELECT\n",
        "    b.region3,\n",
        "    b.zid, b.zname,\n",
        "    count(rid) as rev_d2d_cnt,\n",
        "    count(CASE WHEN st_distance(st_geogpoint(b.lng, b.lat), st_geogpoint(r.s_lng, r.s_lat)) <= 10000 THEN r.rid END) as rev_10km,\n",
        "    count(CASE WHEN st_distance(st_geogpoint(b.lng, b.lat), st_geogpoint(r.s_lng, r.s_lat)) <= 5000 THEN r.rid END) as rev_5km,\n",
        "    count(CASE WHEN st_distance(st_geogpoint(b.lng, b.lat), st_geogpoint(r.s_lng, r.s_lat)) <= 3000 THEN r.rid END) as rev_3km\n",
        "    FROM base b\n",
        "    LEFT JOIN base_d2d_rev r ON b.zid = r.zone_id\n",
        "    GROUP BY region3, zid, zname\n",
        "  ),\n",
        "\n",
        "  base_rev AS (\n",
        "    SELECT\n",
        "    r.way as way,\n",
        "    CASE WHEN r.zone_id IN (105, 9890) THEN 'air'\n",
        "        WHEN r.zone_id IN (17209, 19175, 19269) THEN 'air_infront'\n",
        "        ELSE ci.region3 END as region3,\n",
        "    r.zone_id,\n",
        "    r.reservation_id as rid,\n",
        "\n",
        "    dtod_start_lng as s_lng,\n",
        "    dtod_start_lat as s_lat\n",
        "\n",
        "    FROM `socar-data.soda_store.reservation_v2` r\n",
        "    LEFT JOIN socar-data.tianjin_replica.reservation_info i ON r.reservation_id = i.id\n",
        "    LEFT JOIN socar-data.tianjin_replica.reservation_dtod_info d ON r.reservation_id = d.reservation_id\n",
        "    LEFT JOIN `tianjin_replica.car_info` c ON r.car_id = c.id\n",
        "    LEFT JOIN `tianjin_replica.car_class` cl ON c.class_id = cl.id\n",
        "    LEFT JOIN tianjin_replica.carzone_info ci ON r.zone_id = ci.id\n",
        "    WHERE date BETWEEN '2024-03-25' AND '2024-04-21'\n",
        "    AND r.member_imaginary IN (0,9)\n",
        "    AND r.region1 = '제주특별자치도'\n",
        "  ),\n",
        "\n",
        "  base_tot AS (\n",
        "    SELECT\n",
        "    b.region3,\n",
        "    b.zid, b.zname,\n",
        "\n",
        "    count(rid) as rev_cnt,\n",
        "    FROM base b\n",
        "    LEFT JOIN base_rev r ON b.zid = r.zone_id\n",
        "    GROUP BY region3, zid, zname\n",
        "  ),\n",
        "\n",
        "  base_profit AS (\n",
        "    SELECT\n",
        "      p.zone_id as zid,\n",
        "      p.zone_name as zname,\n",
        "\n",
        "      count(car_id) as cnt,\n",
        "      sum(opr_day) as opr_day,\n",
        "      sum(nuse) as use,\n",
        "      sum(utime) as dur,\n",
        "      sum(revenue) as revenue,\n",
        "      sum(profit) as profit,\n",
        "      sum(profit)/sum(revenue) as GP_ratio,\n",
        "      sum(profit)/sum(nuse) as profit_per_use,\n",
        "      sum(utime)/(sum(opr_day)*24) as op_rate\n",
        "\n",
        "\n",
        "    FROM `socar_biz_profit.profit_socar_car_daily` p\n",
        "    LEFT JOIN tianjin_replica.carzone_info c ON p.zone_id = c.id\n",
        "    WHERE p.region1 in ('제주특별자치도')\n",
        "    AND zone_id not in(122,2184,12072,12073,10736,10738,11947,11480,13228,13787,13858,14494,14528,14541,14542)\n",
        "    AND date BETWEEN '2024-03-25' AND '2024-04-21'\n",
        "    AND car_sharing_type in ('socar','zplus')\n",
        "    GROUP BY zid, zname\n",
        "  ),\n",
        "\n",
        "  base_profit_total AS (\n",
        "    SELECT\n",
        "      9999 as zid,\n",
        "      '전체' as zname,\n",
        "\n",
        "      count(car_id) as cnt,\n",
        "      sum(opr_day) as opr_day,\n",
        "      sum(nuse) as use,\n",
        "      sum(utime) as dur,\n",
        "      sum(revenue) as revenue,\n",
        "      sum(profit) as profit,\n",
        "      sum(profit)/sum(revenue) as total_GP_ratio,\n",
        "      sum(profit)/sum(nuse) as total_profit_per_use,\n",
        "      sum(utime)/(sum(opr_day)*24) as total_op_rate\n",
        "\n",
        "\n",
        "    FROM `socar_biz_profit.profit_socar_car_daily` p\n",
        "    LEFT JOIN tianjin_replica.carzone_info c ON p.zone_id = c.id\n",
        "    WHERE p.region1 in ('제주특별자치도')\n",
        "    AND zone_id not in(122,2184,12072,12073,10736,10738,11947,11480,13228,13787,13858,14494,14528,14541,14542,105,9890,17209,19175, 19269)\n",
        "    AND date BETWEEN '2024-03-25' AND '2024-04-21'\n",
        "    AND car_sharing_type in ('socar','zplus')\n",
        "    GROUP BY zid, zname\n",
        "  ),\n",
        "\n",
        "  profit_total AS (\n",
        "    SELECT\n",
        "      b.zid, b.zname,\n",
        "      b.opr_day as opr_day,\n",
        "      round(b.GP_ratio, 2) as GP_ratio,\n",
        "      round(b.GP_ratio - bt.total_GP_ratio, 2) as GP_ratio_vs,\n",
        "      round(b.profit_per_use, 0) as profit_per_use,\n",
        "      round((b.profit_per_use / bt.total_profit_per_use) -1, 2) as profit_use_vs,\n",
        "      round(b.op_rate, 2) as op_rate,\n",
        "      round(b.op_rate - bt.total_op_rate, 2) as op_rate_vs\n",
        "    FROM base_profit b\n",
        "    CROSS JOIN base_profit_total bt\n",
        "  )\n",
        "\n",
        "  SELECT\n",
        "    region3,\n",
        "    count(zid) as z_cnt,\n",
        "    round(sum(opr_day), 0) as opr_day,\n",
        "    round(avg(d2d_3km_rate), 2) as d2d_3km_rate,\n",
        "    round(avg(d2d_5km_rate), 2) as d2d_5km_rate,\n",
        "    round(avg(d2d_10km_rate), 2) as d2d_10km_rate,\n",
        "    round(avg(d2d_rate), 2) as d2d_rate,\n",
        "    round(avg(GP_ratio), 2) as GP_ratio,\n",
        "    round(avg(op_rate), 2) as op_rate,\n",
        "    round(avg(profit_per_use), 0) as profit_per_use,\n",
        "\n",
        "  FROM (\n",
        "        SELECT\n",
        "          b.*,\n",
        "          bt.rev_cnt,\n",
        "          b2.rev_3km,\n",
        "          round(safe_divide(b2.rev_3km, bt.rev_cnt), 2) as d2d_3km_rate,\n",
        "          round(safe_divide(b2.rev_5km, bt.rev_cnt), 2) as d2d_5km_rate,\n",
        "          round(safe_divide(b2.rev_10km, bt.rev_cnt), 2) as d2d_10km_rate,\n",
        "          round(safe_divide(b2.rev_d2d_cnt, bt.rev_cnt), 2) as d2d_rate,\n",
        "          opr_day/28 as opr_day,\n",
        "\n",
        "          GP_ratio,\n",
        "          GP_ratio_vs, -- 전체 대비 손익률\n",
        "          profit_per_use,\n",
        "          profit_use_vs, -- 전체 대비 건당 이익\n",
        "          op_rate,\n",
        "          op_rate_vs -- 전체 대비 가동률 차이 (%p)\n",
        "        FROM base b\n",
        "        LEFT JOIN base_d2d b2 ON b.zid = b2.zid\n",
        "        LEFT JOIN base_tot bt ON b.zid = bt.zid\n",
        "        LEFT JOIN profit_total bp ON b.zid = bp.zid\n",
        "  )\n",
        "  GROUP BY region3\n",
        "  ORDER BY region3\n",
        "  \"\"\"\n",
        "\n",
        "df_region3 = pd.io.gbq.read_gbq(\n",
        "    query=query,\n",
        "    project_id=\"socar-data\"\n",
        ") ## 존 예약위치 raw\n",
        "\n",
        "df_region3.info()"
      ],
      "metadata": {
        "id": "Q0o2Lfmkt7PH"
      },
      "execution_count": null,
      "outputs": []
    },
    {
      "cell_type": "code",
      "source": [
        "# 데이터 필터링 및 피벗 테이블 생성\n",
        "\n",
        "# 상위 10개 지역 필터링 함수\n",
        "def filter_top_zones(df, rate_column):\n",
        "    return df.nlargest(10, rate_column)\n",
        "\n",
        "# 각 거점 별 비율에 따른 상위 10개 지역 필터링\n",
        "top_3km = filter_top_zones(df_region3, 'd2d_3km_rate')\n",
        "top_5km = filter_top_zones(df_region3, 'd2d_5km_rate')\n",
        "top_10km = filter_top_zones(df_region3, 'd2d_10km_rate')\n",
        "top_overall = filter_top_zones(df_region3, 'd2d_rate')\n",
        "\n",
        "# 실적 피벗 테이블 생성 함수\n",
        "def create_pivot_table(df):\n",
        "    return df.pivot_table(index='region3', values=['d2d_3km_rate', 'd2d_5km_rate', 'd2d_10km_rate', 'd2d_rate', 'GP_ratio', 'profit_per_use', 'op_rate'])\n",
        "\n",
        "# 각 비율별 피벗 테이블 생성\n",
        "pivot_3km = create_pivot_table(top_3km)\n",
        "pivot_5km = create_pivot_table(top_5km)\n",
        "pivot_10km = create_pivot_table(top_10km)\n",
        "pivot_overall = create_pivot_table(top_overall)\n",
        "\n",
        "# GP_ratio 시각화\n",
        "def plot_performance(df, value):\n",
        "    fig = px.bar(df, x='region3', y=value, color=value, title=f'{value} by Region3')\n",
        "    fig.show()"
      ],
      "metadata": {
        "id": "5r13BHM1x04X"
      },
      "execution_count": null,
      "outputs": []
    },
    {
      "cell_type": "code",
      "source": [
        "print(top_3km)"
      ],
      "metadata": {
        "id": "Dp5QIAtmzLds"
      },
      "execution_count": null,
      "outputs": []
    },
    {
      "cell_type": "markdown",
      "source": [
        "| region3 | z_cnt | opr_day | d2d_3km_rate | d2d_rate | GP_ratio | op_rate | profit_per_use |\n",
        "|---------|-------|---------|--------------|----------|----------|---------|----------------|\n",
        "| 상예동   | 1     | 1.0     | 0.10         | 0.43     | 0.19     | 0.63    | 15705.0        |\n",
        "| 강정동   | 2     | 6.0     | 0.05         | 0.33     | 0.20     | 0.51    | 13049.0        |\n",
        "| 일도일동 | 1     | 2.0     | 0.04         | 0.04     | 0.22     | 0.59    | 14221.0        |\n",
        "| 삼도이동 | 2     | 3.0     | 0.03         | 0.04     | 0.20     | 0.58    | 14099.0        |\n",
        "| 색달동   | 3     | 10.0    | 0.03         | 0.36     | 0.18     | 0.47    | 13327.0        |\n",
        "| 서귀동   | 6     | 14.0    | 0.03         | 0.32     | 0.18     | 0.55    | 14471.0        |\n",
        "| 동홍동   | 3     | 8.0     | 0.02         | 0.21     | 0.20     | 0.50    | 12083.0        |\n",
        "| 서호동   | 2     | 5.0     | 0.02         | 0.17     | 0.24     | 0.52    | 13861.0        |\n",
        "| 성산읍   | 3     | 7.0     | 0.02         | 0.17     | 0.19     | 0.52    | 11655.0        |\n",
        "| 중문동   | 3     | 9.0     | 0.02         | 0.12     | -0.46    | 0.33    | -3376.0        |\n"
      ],
      "metadata": {
        "id": "5bBn9GXI6_F_"
      }
    },
    {
      "cell_type": "code",
      "source": [
        "print(top_5km)"
      ],
      "metadata": {
        "id": "4Eq8g43UzLaO"
      },
      "execution_count": null,
      "outputs": []
    },
    {
      "cell_type": "markdown",
      "source": [
        "| region3 | z_cnt | opr_day | d2d_5km_rate | d2d_rate | GP_ratio | op_rate | profit_per_use |\n",
        "|---------|-------|---------|--------------|----------|----------|---------|----------------|\n",
        "| 서귀동   | 6     | 14.0    | 0.13         | 0.32     | 0.18     | 0.55    | 14471.0        |\n",
        "| 상예동   | 1     | 1.0     | 0.10         | 0.43     | 0.19     | 0.63    | 15705.0        |\n",
        "| 강정동   | 2     | 6.0     | 0.07         | 0.33     | 0.20     | 0.51    | 13049.0        |\n",
        "| 오라1동  | 1     | 3.0     | 0.04         | 0.04     | 0.25     | 0.61    | 16088.0        |\n",
        "| 일도일동 | 1     | 2.0     | 0.04         | 0.04     | 0.22     | 0.59    | 14221.0        |\n",
        "| 건입동   | 2     | 4.0     | 0.03         | 0.03     | 0.26     | 0.54    | 17860.0        |\n",
        "| 동홍동   | 3     | 8.0     | 0.03         | 0.21     | 0.20     | 0.50    | 12083.0        |\n",
        "| 삼도이동 | 2     | 3.0     | 0.03         | 0.04     | 0.20     | 0.58    | 14099.0        |\n",
        "| 색달동   | 3     | 10.0    | 0.03         | 0.36     | 0.18     | 0.47    | 13327.0        |\n",
        "| 서호동   | 2     | 5.0     | 0.03         | 0.17     | 0.24     | 0.52    | 13861.0        |\n"
      ],
      "metadata": {
        "id": "yMpOSdaT7b7u"
      }
    },
    {
      "cell_type": "code",
      "source": [
        "print(top_10km)"
      ],
      "metadata": {
        "id": "nUZyn0rBzLXY"
      },
      "execution_count": null,
      "outputs": []
    },
    {
      "cell_type": "markdown",
      "source": [
        "| region3 | z_cnt | opr_day | d2d_10km_rate | d2d_rate | GP_ratio | op_rate | profit_per_use |\n",
        "|---------|-------|---------|---------------|----------|----------|---------|----------------|\n",
        "| 상예동   | 1     | 1.0     | 0.33          | 0.43     | 0.19     | 0.63    | 15705.0        |\n",
        "| 서귀동   | 6     | 14.0    | 0.17          | 0.32     | 0.18     | 0.55    | 14471.0        |\n",
        "| 강정동   | 2     | 6.0     | 0.11          | 0.33     | 0.20     | 0.51    | 13049.0        |\n",
        "| 색달동   | 3     | 10.0    | 0.09          | 0.36     | 0.18     | 0.47    | 13327.0        |\n",
        "| 서호동   | 2     | 5.0     | 0.06          | 0.17     | 0.24     | 0.52    | 13861.0        |\n",
        "| 중문동   | 3     | 9.0     | 0.06          | 0.12     | -0.46    | 0.33    | -3376.0        |\n",
        "| 동홍동   | 3     | 8.0     | 0.04          | 0.21     | 0.20     | 0.50    | 12083.0        |\n",
        "| 오라1동  | 1     | 3.0     | 0.04          | 0.04     | 0.25     | 0.61    | 16088.0        |\n",
        "| 일도일동 | 1     | 2.0     | 0.04          | 0.04     | 0.22     | 0.59    | 14221.0        |\n",
        "| 건입동   | 2     | 4.0     | 0.03          | 0.03     | 0.26     | 0.54    | 17860.0        |\n"
      ],
      "metadata": {
        "id": "LWXRnelu7vxJ"
      }
    },
    {
      "cell_type": "code",
      "source": [
        "print(top_overall)"
      ],
      "metadata": {
        "id": "iQ7ruXFwzLH-"
      },
      "execution_count": null,
      "outputs": []
    },
    {
      "cell_type": "markdown",
      "source": [
        "| region3 | z_cnt | opr_day | d2d_rate | GP_ratio | op_rate | profit_per_use |\n",
        "|---------|-------|---------|----------|----------|---------|----------------|\n",
        "| 남원읍   | 1     | 1.0     | 0.63     | -0.05    | 0.28    | -4432.0        |\n",
        "| 상예동   | 1     | 1.0     | 0.43     | 0.19     | 0.63    | 15705.0        |\n",
        "| 대정읍   | 1     | 2.0     | 0.38     | 0.19     | 0.47    | 17529.0        |\n",
        "| 색달동   | 3     | 10.0    | 0.36     | 0.18     | 0.47    | 13327.0        |\n",
        "| 안덕면   | 4     | 19.0    | 0.35     | 0.19     | 0.56    | 13367.0        |\n",
        "| 강정동   | 2     | 6.0     | 0.33     | 0.20     | 0.51    | 13049.0        |\n",
        "| 서귀동   | 6     | 14.0    | 0.32     | 0.18     | 0.55    | 14471.0        |\n",
        "| 구좌읍   | 1     | 2.0     | 0.27     | 0.16     | 0.41    | 13502.0        |\n",
        "| 동홍동   | 3     | 8.0     | 0.21     | 0.20     | 0.50    | 12083.0        |\n",
        "| 서호동   | 2     | 5.0     | 0.17     | 0.24     | 0.52    | 13861.0        |\n"
      ],
      "metadata": {
        "id": "h3hOkR717wbv"
      }
    },
    {
      "cell_type": "code",
      "source": [
        "# 시각화 실행\n",
        "plot_performance(top_3km, 'GP_ratio')\n",
        "plot_performance(top_5km, 'GP_ratio')\n",
        "plot_performance(top_10km, 'GP_ratio')\n",
        "plot_performance(top_overall, 'GP_ratio')"
      ],
      "metadata": {
        "id": "RKey4qX_yj1X"
      },
      "execution_count": null,
      "outputs": []
    },
    {
      "cell_type": "code",
      "source": [
        "# 시각화 실행\n",
        "plot_performance(top_3km, 'op_rate')\n",
        "plot_performance(top_5km, 'op_rate')\n",
        "plot_performance(top_10km, 'op_rate')\n",
        "plot_performance(top_overall, 'op_rate')"
      ],
      "metadata": {
        "id": "su2likcmy57k"
      },
      "execution_count": null,
      "outputs": []
    },
    {
      "cell_type": "code",
      "source": [],
      "metadata": {
        "id": "MITNpCpPVdo7"
      },
      "execution_count": null,
      "outputs": []
    }
  ]
}