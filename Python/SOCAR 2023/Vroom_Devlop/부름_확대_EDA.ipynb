{
  "nbformat": 4,
  "nbformat_minor": 0,
  "metadata": {
    "colab": {
      "provenance": [],
      "toc_visible": true
    },
    "kernelspec": {
      "name": "python3",
      "display_name": "Python 3"
    },
    "language_info": {
      "name": "python"
    }
  },
  "cells": [
    {
      "cell_type": "markdown",
      "source": [
        "### 들어가기에 앞서\n",
        "---\n",
        "사용 Tool: Bigquery(데이터 임포트), Python(분석)\n",
        "---   \n",
        "설명   \n",
        "```\n",
        "1. 타 예약타입 대비 매출과 공헌이익 기여도 높은 부름을 확대할 수 있는 방안 마련\n",
        "2. 수요 측면은 차후 진행하고, 공급 측면에서 개선 전략 수립\n",
        "```\n",
        "\n",
        "### Summary\n",
        "\n",
        "### 지표\n",
        "매출 KPI:\n",
        "- 부름 이용시간 비중(지역별)\n",
        "- 부름 건당 공헌이익의 제주 전체(혹은 왕복) 대비율\n",
        "\n",
        "운영 KPI:\n",
        "- 핸들 운행률\n",
        "- 실제 배반 비용의 표준 비용 대비율\n",
        "- 건당 배반비용률\n",
        "\n",
        "\n",
        "일자별 건당 공헌이익, 건당 매출 라인그래프\n",
        "일자별 핸들 운행률 라인 그래프"
      ],
      "metadata": {
        "id": "4d-UxXdRBvkA"
      }
    },
    {
      "cell_type": "markdown",
      "source": [
        "#### 목적:   \n",
        "*부름 사업의 확대 기회를 찾아 매출을 확대하고 24y KPI 달성에 기여한다*\n",
        "\n",
        "#### 개요   \n",
        ": 매출 신장에 크게 기여하는 부름 이용을 확대할 수 있는 방안을 찾아본다\n",
        "\n",
        "---\n",
        "\n",
        "#### 문제   \n",
        ": 왕복 예약 대비 부름 예약의 매출/이익 신장이 큰데, 어떻게 하면 더 이용을 늘릴 수 있을 것인가\n",
        "\n",
        "> EDA\n",
        ": 예약현황\n",
        "```\n",
        "예약타입별 매출&이용 지표 비교\n",
        "에약타입별 분포   \n",
        "```\n",
        "- 부름 예약은 대체로 매출과 공헌이익이 높음\n",
        "  - 대체로 변동성이 큼 : 예약 by 예약\n",
        "  - 부름편도는 비교적 높은 평균 매출과 마진을 보이며, 다른 예약타입에 비해 상대적으로 안정적 매출을 보여줌\n",
        "  - 부름왕복은 이용시간과 마진에 대한 변동계수가 매우 높음\n",
        "  - 존편도는 변동성이 매우 큰 편\n",
        "\n",
        "---\n",
        "\n",
        "#### 해결\n",
        ": 수요와 공급이라는 두가지 방식으로 문제 접근\n",
        "\n",
        "\n",
        "> 수요 측면의 해결 방안\n",
        "1. 가설 수립 & 검증   \n",
        ": 부름과 존편도의 매출과 이익이 높은 이유에 대해 예약의 거리적 특성 때문이 아닐지 검증\n",
        "```   \n",
        "  - 예약위치와 예약 존과의 거리가 영향을 미치는가   \n",
        "  - 매출, 공헌이익, 상관관계: 예약타입별로 거리에 따라 매출/공헌이익 분포도가 다름\n",
        "```\n",
        "2. 수요 측면의 해결 방안\n",
        "- 부름을 이용하는 유저의 특징을 찾아, 유저 확대 전략을 찾아본다\n",
        "- 부름 예약을 분석하여, 부름 유저의 특징 드릴다운\n",
        "```\n",
        "  - 존과의 예약거리, 제주도내/외에서의 예약이 영향을 미침  \n",
        "  - 매출, 공헌이익, 상관관계: 제주도외 예약일수록 매출 지표가 높음\n",
        "  - 예약위치와 예약 존간의 거리, 제주도내/외 예약여부에 대한 통계적 검정\n",
        "  - ANOVA, 카이제곱, T-검정 모두 예약 위치가 매출/지표에 영향을 준다는 가설이 유의미하다고 나타남\n",
        "```\n",
        "\n",
        "---\n",
        "> 3. 공급 측면의 해결 방안\n",
        "- 배반 비용의 실제 비용을 분석하여 비용 개선안 찾기\n",
        "- 존별 부름 차량의 공급 대수 조절안 찾기\n",
        ">> 비용 분석\n",
        "```\n",
        "합계비교\n",
        "예약타입별 비교\n",
        "예약타입의 배반 거리당 비교\n",
        "에약타입별 배반 거리별(범주형) 비교\n",
        "실비 차액(실비-표준비용), 실비, 표준비\n",
        "```\n",
        ">> 공급 분석\n",
        "\n",
        "```\n",
        "- 전체 예약타입별 예약시간 비중\n",
        " - 지역별 예약타입별 예약시간 비중\n",
        "    - 존별 예약타입별 예약시간 비중\n",
        "- 전체 차종별 운영 비중\n",
        "  - 지역별 예약타입별 예약시간 비중\n",
        "    - 존별 예약타입별 예약시간 비중\n",
        "```\n",
        "\n",
        "\n",
        "---\n",
        "결과 & 결론:\n",
        "1. 수요:\n",
        "```\n",
        "차후 부름 유저 확장을 위해, 호출지 주변 호텔,기업과의 제휴로 여행전 유저 확장을 계획해봄\n",
        "```\n",
        "- 사전 예약 확대를 위해 제휴 프로모션 강화 방안\n",
        "  - 기 제휴사 대상: 사전 부름 예약 할인 프로모션\n",
        "  - 신규 제휴사 대상: 사전 부름 예약 할인 프로모션\n",
        "\n",
        "2. 공급:\n",
        "```\n",
        "실비 분석시 표준비용보다 저렴(실비기준, 존편도의 10km 이상 비용 다소 비쌈)\n",
        "서귀포의 부름 비중이 높으므로 서귀포 부름 이용 비중 높은 존 대상 부름 차량을 확대\n",
        "```\n",
        "- 핸들 리워드를 어느선까지 낮췄을때 후보류 건수가 늘어날 것인지 비교하여 핸들 리워드를 낮춰 비용 절감 기획해볼 수 있음\n",
        "- 부름 이용 비중이 높은 서귀포의 존으로 부름 이용 가능한 차량을 확대 공급안을 기획해볼 수 잇음\n",
        "\n"
      ],
      "metadata": {
        "id": "heek4m1cjy5v"
      }
    },
    {
      "cell_type": "markdown",
      "source": [
        "---\n",
        "1. 데이터 전처리:       \n",
        "reservation: soda_store.reservation_v2   \n",
        "handle: temp_eoli.all_handle_add_daily_log      \n",
        "local: 핸들팀 정산내역\n",
        "필요한 데이터 가공\n",
        "---\n",
        "2. 부름 예약 EDA   \n",
        "기간: 2024.03.01 ~ 2024.03.31 제주지역   \n",
        "> 부름 예약의 사업신장 기여도\n",
        "  - 대체로 모든 예약의 변동성이 크지만, 부름 예약은 비교적 안정적\n",
        "  - 특히, 매출과 공헌이익의 왕복대비 높아 매출 신장에 크게 기여\n",
        "(건당 지표값임)\n",
        "  - 전체 건당 매출, 공헌이익을 본다면 제주공항의 장시간 예약 때문에 왕복이 높아보이지만\n",
        "    - 지역을 나누어 본다면 부름 예약의 건당 공헌이익이 높음\n",
        "\n",
        "| way         | rid_count | revenue_mean | revenue_std | utime_mean | utime_std | margin_mean | margin_std | revenue_CV | utime_CV | margin_CV |\n",
        "|-------------|-----------|--------------|-------------|------------|-----------|-------------|------------|------------|----------|-----------|\n",
        "| d2d_oneway  | 173       | 131487.72    | 66435.89    | 26.24      | 23.27     | 56455.32    | 47636.80   | 0.51       | 0.89     | 0.84      |\n",
        "| d2d_round   | 488       | 106899.72    | 58301.65    | 24.03      | 23.55     | 38133.48    | 38985.93   | 0.55       | 0.98     | 1.02      |\n",
        "| round       | 11282     | 83268.41     | 68473.30    | 26.91      | 29.59     | 42266.53    | 38408.84   | 0.82       | 1.10     | 0.91      |\n",
        "| z2d_oneway  | 277       | 78644.43     | 55028.07    | 12.15      | 24.08     | 32985.55    | 34053.95   | 0.70       | 1.98     | 1.03      |\n",
        "\n",
        "> 서귀포시의 유저는 부름을 활발하게 이용중\n",
        "- 전체의 29% 구성비(부름 왕복, 편도, 존편도)\n",
        "- [예약구성비 차트](https://drive.google.com/file/d/1ZeldS7tfADybB-pUcl-FoFFcXryRsWB6/view?usp=sharing)\n",
        "\n",
        "\n",
        "\n",
        "---\n",
        "\n",
        "3. 수요측면 EDA\n",
        ":부름 예약 EDA에서 부름의 매출 지표가 높은 것은 확인했으나, 이유를 명확히 밝혀내지 못하여 추가 EDA 진행\n",
        "```\n",
        "예약자의 예약위치와 거점과의 거리가 영향을 주는 것은 아닐까?\n",
        "```\n",
        "\n",
        "- 제주도내 예약 대비 도외 예약의 매출과 공헌이익이 높음\n",
        "- 제주도내에서는 근거리 예약의 매출과 공헌이익이 높음\n",
        "- 통계검정 모델(ANOVA, 카이제곱, T-검정) 결과, 실제 위치와 거리 차이가 유의미함을 확인\n",
        "  - ANOVA: test result: F=1102.96, p=0.000\n",
        "  - 카이제곱: Chi-square test result: chi2=7370.84, p=0.000\n",
        "  - t-test: result: t=-59.25, p=0.000\n",
        "\n",
        "---\n",
        "\n",
        "4. 공급측면 EDA\n",
        ": 공급 관점에서 적절한 비용으로 운영되고 있는지, 추가로 공급하거나 축소해야할 필요는 없을지를 알기 위해 진행\n",
        "```\n",
        "데이터상의 표준비용과 실제 정산 비용을 비교하고\n",
        "존별 이용시간의 부름 비중과 부름 운영 차종 비중을 분석\n",
        "```\n",
        "\n",
        "> 실제 배반비용(정산된 핸들리워드+위컴바인 비용)\n",
        "```\n",
        "비교시 표준비용 대비 -3백만원 만큼 비용이 감소\n",
        "```\n",
        "  - 실비차이: -3백만원\n",
        "  - 실제 배반비용: 33백만원\n",
        "  - 표준 배반비용: 36백만원\n",
        "\n",
        "> 배반 거리별 비용\n",
        "```\n",
        "원거리(20km 이상)부터 실비가 증가(표준 비용대비)\n",
        "```\n",
        "\n",
        "> 부름 이용시간 비중\n",
        "- 제주전체의 비중: 9%\n",
        "- 파트별 비중: 서귀포시의 부름 비중이 매우 높음\n",
        "  - 서귀포시: 64%\n",
        "  - 제주공항 : 2%\n",
        "  - 제주공항 앞: 미운영\n",
        "  - 제주시: 2%\n",
        "\n",
        "> 존별 부름 이용시간 비중\n",
        "- 일부 존에서의 부름 이용 비중이 압도적\n",
        "  - 서귀포, 중문의 존에서 부름 이용이 높음\n",
        "  ```\n",
        "  서귀포시의 존이 제주시 대비 부족하여 그럴 수도 있음\n",
        "  하지만, 존을 개설하기 쉽지 않은 지역에서 부름으로 존을 대체할 수 있음을 입증\n",
        "  ```\n",
        "> 부름 비중 높은 존의 공헌이익\n",
        "- 부름 비중이 높은 존의 공헌이익이 높은 경우가 많음\n",
        "  - 운영대수가 많기 때문에, 타 존 대비 높을 수 있는점 감안\n",
        "  \n",
        "> 부름 이용 가능 차량의 비중\n",
        "- 전반적으로 부름 이용 가능한 차량의 비중이 높음\n",
        "  - 그러나, 부름 이용 비중이 높은 서귀포의 부름 운영 가능 차량 비중이 다소 적으므로 공급을 확대해야할 필요가 있음\n",
        "\n",
        "> 파트별 후보류 비중\n",
        "- 건수 대비 서귀포가 다소 높지만, 대체로 안정권내로 조치 불필요\n",
        "  - But, 제주대 후문, 삼화지구와 같은 존의 후보류 비중이 높은 존은 부름 호출을 억제해야할 필요가 있음"
      ],
      "metadata": {
        "id": "yv-TSOLAtNu0"
      }
    },
    {
      "cell_type": "code",
      "source": [
        "from google.colab import output\n",
        "output.clear()"
      ],
      "metadata": {
        "id": "lDU4sJiGNBZ8"
      },
      "execution_count": null,
      "outputs": []
    },
    {
      "cell_type": "code",
      "source": [
        "!pip install contextily"
      ],
      "metadata": {
        "id": "ljpPUp_5nK9l"
      },
      "execution_count": null,
      "outputs": []
    },
    {
      "cell_type": "code",
      "source": [
        "import pandas as pd\n",
        "import numpy as np\n",
        "from plotnine import *\n",
        "import seaborn as sns\n",
        "import plotly.express as px\n",
        "import matplotlib.pyplot as plt\n",
        "import scipy.stats as stats\n",
        "import folium\n",
        "import geopandas as gpd\n",
        "from shapely.geometry import Point, Polygon\n",
        "import contextily as ctx\n",
        "from folium.plugins import HeatMap\n",
        "\n",
        "from google.colab import drive\n",
        "import gspread\n",
        "from google.auth import default\n",
        "creds, _ = default()\n",
        "from gspread_dataframe import get_as_dataframe, set_with_dataframe\n",
        "\n",
        "from google.cloud import bigquery\n",
        "from oauth2client.client import GoogleCredentials\n",
        "\n",
        "gc = gspread.authorize(creds)\n",
        "\n",
        "pd.set_option('display.float_format', '{:0.2f}'.format)"
      ],
      "metadata": {
        "id": "1_hCaE-JqzmC"
      },
      "execution_count": null,
      "outputs": []
    },
    {
      "cell_type": "code",
      "source": [
        "## 기본 데이터 임포트\n",
        "query = \"\"\"\n",
        "  WITH base AS (\n",
        "        SELECT\n",
        "        r.way as way\n",
        "        , CASE WHEN r.zone_id IN (105, 9890) THEN 'air'\n",
        "              WHEN r.zone_id IN (17209, 19175) THEN 'air_infront'\n",
        "              ELSE r.region2 END as region2\n",
        "        , r.reservation_id as rid\n",
        "\n",
        "        , sum(r.utime) as utime -- 이용시간\n",
        "        , sum(revenue) as revenue -- 회계매출\n",
        "        , sum(_rev_d2d) as _rev_d2d -- 부름매출(부름요금 + 편도요금)\n",
        "        , sum(contribution_margin) as margin -- 공헌이익\n",
        "        , sum(transport_cost_d2d) as d2d_cost -- 부름배반비용\n",
        "\n",
        "\n",
        "        FROM `socar-data.soda_store.reservation_v2` r\n",
        "        LEFT JOIN socar-data.tianjin_replica.reservation_info i ON r.reservation_id = i.id\n",
        "        LEFT JOIN socar-data.tianjin_replica.reservation_dtod_info d ON r.reservation_id = d.reservation_id\n",
        "        LEFT JOIN `tianjin_replica.car_info` c ON r.car_id = c.id\n",
        "        LEFT JOIN `tianjin_replica.car_class` cl ON c.class_id = cl.id\n",
        "        WHERE date BETWEEN '2024-03-01' AND '2024-03-31'\n",
        "        AND r.member_imaginary IN (0,9)\n",
        "        AND region1 = '제주특별자치도'\n",
        "        GROUP BY way, region2, rid\n",
        "  ),\n",
        "\n",
        "  base2 AS (\n",
        "        SELECT\n",
        "              reservation_id as rid,\n",
        "              zone_lng, zone_lat,\n",
        "              reservation_created_lng, reservation_created_lat\n",
        "\n",
        "              ,CASE WHEN st_distance(st_geogpoint(r.zone_lng, r.zone_lat), st_geogpoint(r.reservation_created_lng, r.reservation_created_lat)) <= 500 THEN '500m'\n",
        "              WHEN st_distance(st_geogpoint(r.zone_lng, r.zone_lat), st_geogpoint(r.reservation_created_lng, r.reservation_created_lat)) <= 1000 THEN '1000m'\n",
        "              WHEN st_distance(st_geogpoint(r.zone_lng, r.zone_lat), st_geogpoint(r.reservation_created_lng, r.reservation_created_lat)) <= 3000 THEN '3000m'\n",
        "              WHEN st_distance(st_geogpoint(r.zone_lng, r.zone_lat), st_geogpoint(r.reservation_created_lng, r.reservation_created_lat)) > 3000 THEN 'O3000m' END as zone_loc\n",
        "\n",
        "              ,CASE WHEN st_distance(st_geogpoint(126.5319, 33.36266), st_geogpoint(r.reservation_created_lng, r.reservation_created_lat)) >= 50000 THEN 'jeju_out'\n",
        "              WHEN st_distance(st_geogpoint(126.5319, 33.36266), st_geogpoint(r.reservation_created_lng, r.reservation_created_lat)) < 50000 THEN 'jeju_in' END as rev_loc\n",
        "\n",
        "        FROM `socar-data.soda_store.reservation_v2` r\n",
        "        WHERE date BETWEEN '2024-03-01' AND '2024-03-31'\n",
        "        AND reservation_created_lng is not null\n",
        "        AND member_imaginary IN (0,9)\n",
        "        AND region1 = '제주특별자치도'\n",
        "  )\n",
        "\n",
        "  SELECT\n",
        "        b.*,\n",
        "        b2.zone_loc, b2.rev_loc\n",
        "  FROM base b\n",
        "  LEFT JOIN base2 b2 ON b.rid = b2.rid\n",
        "  WHERE zone_loc is not null AND rev_loc is not null\n",
        "  ORDER BY rid\n",
        "  \"\"\"\n",
        "\n",
        "df_loc = pd.io.gbq.read_gbq(\n",
        "    query=query,\n",
        "    project_id=\"socar-data\"\n",
        ") ## 예약위치 raw"
      ],
      "metadata": {
        "id": "yrWGaK-0nGmi"
      },
      "execution_count": null,
      "outputs": []
    },
    {
      "cell_type": "code",
      "source": [
        "query = \"\"\"\n",
        "  SELECT\n",
        "      r.way as way\n",
        "      , CASE WHEN r.zone_id IN (105, 9890) THEN 'air'\n",
        "             WHEN r.zone_id IN (17209, 19175) THEN 'air_infront'\n",
        "             ELSE r.region2 END as region2\n",
        "      -- , cl.car_name\n",
        "      , r.reservation_id as rid\n",
        "      , sum(r.utime) as utime -- 이용시간\n",
        "      , sum(revenue) as revenue -- 회계매출\n",
        "      , sum(_rev_d2d) as _rev_d2d -- 부름매출(부름요금 + 편도요금)\n",
        "      , sum(contribution_margin) as margin -- 공헌이익\n",
        "      ,sum(transport_cost_d2d) as d2d_cost -- 부름배반비용\n",
        "\n",
        "  FROM `socar-data.soda_store.reservation_v2` r\n",
        "  LEFT JOIN socar-data.tianjin_replica.reservation_info i ON r.reservation_id = i.id\n",
        "  LEFT JOIN socar-data.tianjin_replica.reservation_dtod_info d ON r.reservation_id = d.reservation_id\n",
        "  LEFT JOIN `tianjin_replica.car_info` c ON r.car_id = c.id\n",
        "  LEFT JOIN `tianjin_replica.car_class` cl ON c.class_id = cl.id\n",
        "  WHERE 1=1\n",
        "  AND date BETWEEN current_date('Asia/Seoul') -28 AND current_date('Asia/Seoul') -1\n",
        "  AND r.member_imaginary IN (0,9)\n",
        "  AND region1 = '제주특별자치도'\n",
        "  GROUP BY way, region2, rid\n",
        "  \"\"\"\n",
        "\n",
        "df_rid = pd.io.gbq.read_gbq(\n",
        "    query=query,\n",
        "    project_id=\"socar-data\"\n",
        ") ## 예약 raw"
      ],
      "metadata": {
        "id": "wwS9Y605nbZm"
      },
      "execution_count": null,
      "outputs": []
    },
    {
      "cell_type": "code",
      "source": [
        "df_rid.info()"
      ],
      "metadata": {
        "id": "Gpk44t1OnhQ2"
      },
      "execution_count": null,
      "outputs": []
    },
    {
      "cell_type": "code",
      "source": [
        "df_rid.isnull().sum()"
      ],
      "metadata": {
        "id": "RHm1zoHQwEPy"
      },
      "execution_count": null,
      "outputs": []
    },
    {
      "cell_type": "markdown",
      "source": [
        "---\n",
        "####  1. 부름 vs 존편도 vs 존왕복 예약의 건당 공헌이익, 건당 이용시간, 건당 매출 비교   \n",
        "\n",
        "✔ 대체로 변동성이 큼 : 예약 by 예약   \n",
        "✔ 부름편도는 비교적 높은 평균 매출과 마진을 보이며, 다른 예약타입에 비해    상대적으로 안정적 매출을 보여줌   \n",
        "✔ 부름왕복은 이용시간돠 마진에 대한 변동계수가 매우 높음   \n",
        "✔ 존편도는 변동성이 매우 큰 편\n"
      ],
      "metadata": {
        "id": "D1TBjFFmwR9A"
      }
    },
    {
      "cell_type": "code",
      "source": [
        "# 'way' 별로 그룹화하여 평균, 표준편차 계산\n",
        "grouped_stats = df_rid.groupby('way').agg({\n",
        "    'rid': ['count'],  # 'nuse'를 'rid'의 합계로 변경\n",
        "    'revenue': ['mean', 'std'],  # 'revenue_nuse'를 'revenue'로 변경\n",
        "    'utime': ['mean', 'std'],  # 'utime_nuse'를 'utime'으로 변경\n",
        "    'margin': ['mean', 'std']  # 'margin_nuse'를 'margin'으로 변경\n",
        "})\n",
        "\n",
        "# 변동계수(CV) 계산을 위한 함수 정의\n",
        "def calculate_cv(row):\n",
        "    return row['std'] / row['mean'] if row['mean'] else 0\n",
        "\n",
        "# 변동계수(CV) 계산 및 새 컬럼 추가\n",
        "for column in ['revenue', 'utime', 'margin']:\n",
        "    grouped_stats[(column, 'CV')] = grouped_stats[column].apply(calculate_cv, axis=1)\n",
        "\n",
        "# 멀티레벨 컬럼을 단일 레벨로 조정\n",
        "grouped_stats.columns = ['_'.join(col).strip() for col in grouped_stats.columns.values]\n",
        "\n",
        "# 결과 데이터프레임 확인\n",
        "df1 = grouped_stats.reset_index()\n",
        "df1"
      ],
      "metadata": {
        "id": "kVI4I8LZwEZ9"
      },
      "execution_count": null,
      "outputs": []
    },
    {
      "cell_type": "code",
      "source": [
        "# 'way'와 'region2'로 그룹화하여 평균, 표준편차, 합계 계산\n",
        "grouped_stats = df_rid.groupby(['way', 'region2']).agg({\n",
        "    'rid': ['count'],  # 'nuse'를 'rid'의 합계로 변경\n",
        "    'revenue': ['mean', 'std'],  # 'revenue_nuse'를 'revenue'로 변경\n",
        "    'utime': ['mean', 'std'],  # 'utime_nuse'를 'utime'으로 변경\n",
        "    'margin': ['mean', 'std']  # 'margin_nuse'를 'margin'으로 변경\n",
        "})\n",
        "\n",
        "# 변동계수(CV) 계산을 위한 함수 정의\n",
        "def calculate_cv(row):\n",
        "    return row['std'] / row['mean'] if row['mean'] else 0\n",
        "\n",
        "# 변동계수(CV) 계산 및 새 컬럼 추가\n",
        "for column in ['revenue', 'utime', 'margin']:\n",
        "    grouped_stats[(column, 'CV')] = grouped_stats[column].apply(calculate_cv, axis=1)\n",
        "\n",
        "# 멀티레벨 컬럼을 단일 레벨로 조정\n",
        "grouped_stats.columns = ['_'.join(col).strip() for col in grouped_stats.columns.values]\n",
        "\n",
        "# 결과 데이터프레임 확인\n",
        "df1 = grouped_stats.reset_index()\n",
        "df1"
      ],
      "metadata": {
        "id": "E1BAvlnLwey8"
      },
      "execution_count": null,
      "outputs": []
    },
    {
      "cell_type": "code",
      "source": [
        "# 'margin_mean'을 기준으로 내림차순 순위 계산\n",
        "df1['margin_rank'] = df1['margin_mean'].rank(ascending=False)\n",
        "\n",
        "# 결과 확인\n",
        "# 'margin_rank'를 기준으로 오름차순으로 데이터프레임 정렬\n",
        "df_sorted = df1.sort_values(by='margin_rank')\n",
        "\n",
        "# 정렬된 데이터프레임 확인\n",
        "df_sorted"
      ],
      "metadata": {
        "id": "hqusJdI8ww_y"
      },
      "execution_count": null,
      "outputs": []
    },
    {
      "cell_type": "markdown",
      "source": [
        "#### 1-1 예약분포 - 스캐터플랏"
      ],
      "metadata": {
        "id": "RwTRlTu-xHeG"
      }
    },
    {
      "cell_type": "code",
      "source": [
        "# 스캐터 플롯 생성\n",
        "fig = px.scatter(df_rid, x='margin', y='utime', color='way', size='revenue', title='제주 전체 Scatter Plot of revenue vs utime')\n",
        "fig.update_traces(marker=dict(size=12))\n",
        "\n",
        "# 그래프 출력\n",
        "fig.show()"
      ],
      "metadata": {
        "id": "ESD2o8nWxHHw"
      },
      "execution_count": null,
      "outputs": []
    },
    {
      "cell_type": "code",
      "source": [
        "df_rid_round = df_rid[df_rid['way']=='round']\n",
        "# 스캐터 플롯 생성\n",
        "fig = px.scatter(df_rid_round, x='margin', y='utime', color='way', size='revenue', title='제주 전체 왕복 Scatter Plot of revenue vs utime')\n",
        "fig.update_traces(marker=dict(size=12))\n",
        "\n",
        "# 그래프 출력\n",
        "fig.show()"
      ],
      "metadata": {
        "id": "Hqk5yIc2w0hv"
      },
      "execution_count": null,
      "outputs": []
    },
    {
      "cell_type": "code",
      "source": [
        "df_rid_d2d = df_rid[(df_rid['way']=='d2d_round')|(df_rid['way']=='d2d_oneway')]\n",
        "\n",
        "# 스캐터 플롯 생성\n",
        "fig = px.scatter(df_rid_d2d, x='margin', y='utime', color='way', size='revenue', title='제주 전체 부름 Scatter Plot of revenue vs utime')\n",
        "fig.update_traces(marker=dict(size=12))\n",
        "\n",
        "# 그래프 출력\n",
        "fig.show()"
      ],
      "metadata": {
        "id": "3BthNzrcxLaL"
      },
      "execution_count": null,
      "outputs": []
    },
    {
      "cell_type": "code",
      "source": [
        "df_rid_z2d = df_rid[df_rid['way']=='z2d_oneway']\n",
        "\n",
        "# 스캐터 플롯 생성\n",
        "fig = px.scatter(df_rid_z2d, x='margin', y='utime', color='way', size='revenue', title='제주 전체 존편도 Scatter Plot of revenue vs utime')\n",
        "fig.update_traces(marker=dict(size=12))\n",
        "\n",
        "# 그래프 출력\n",
        "fig.show()"
      ],
      "metadata": {
        "id": "4ycSjZF5xPJu"
      },
      "execution_count": null,
      "outputs": []
    },
    {
      "cell_type": "code",
      "source": [
        "df_rid_air = df_rid[df_rid['region2'] == 'air']\n",
        "df_rid_air_d2d = df_rid[(df_rid['way'] == 'd2d_round')|(df_rid['way'] == 'd2d_oneway')]\n",
        "\n",
        "# 스캐터 플롯 생성\n",
        "fig = px.scatter(df_rid_air_d2d, x='margin', y='utime', color='way', size='revenue', title='제주공항 way별 Scatter Plot of revenue vs utime')\n",
        "fig.update_traces(marker=dict(size=12))\n",
        "\n",
        "# 그래프 출력\n",
        "fig.show()"
      ],
      "metadata": {
        "id": "rf1w6lUOxUma"
      },
      "execution_count": null,
      "outputs": []
    },
    {
      "cell_type": "code",
      "source": [
        "df_rid_jeju = df_rid[df_rid['region2'] == '제주시']\n",
        "\n",
        "# 스캐터 플롯 생성\n",
        "fig = px.scatter(df_rid_jeju, x='margin', y='utime', color='way', size='revenue', title='제주시 Scatter Plot of revenue vs utime')\n",
        "fig.update_traces(marker=dict(size=12))\n",
        "\n",
        "# 그래프 출력\n",
        "fig.show()"
      ],
      "metadata": {
        "id": "msxHlEa0xi1f"
      },
      "execution_count": null,
      "outputs": []
    },
    {
      "cell_type": "code",
      "source": [
        "df_rid_swo = df_rid[df_rid['region2'] == '서귀포시']\n",
        "\n",
        "# 스캐터 플롯 생성\n",
        "fig = px.scatter(df_rid_swo, x='margin', y='utime', color='way', size='revenue', title='서귀포시 Scatter Plot of revenue vs utime')\n",
        "fig.update_traces(marker=dict(size=12))\n",
        "\n",
        "# 그래프 출력\n",
        "fig.show()"
      ],
      "metadata": {
        "id": "GRtQENxhxk15"
      },
      "execution_count": null,
      "outputs": []
    },
    {
      "cell_type": "markdown",
      "source": [
        "#### way 타입별 매출 지표 & 예약 구성비 비교"
      ],
      "metadata": {
        "id": "FMcvUhT-x9it"
      }
    },
    {
      "cell_type": "code",
      "source": [
        "# 단계 1: 전체 'rid_count' 합계 계산\n",
        "total_rid_count_sum = df1['rid_count'].sum()\n",
        "\n",
        "# 단계 2: 각 조합별 'rid_count' 구성비 계산\n",
        "df1['proportion'] = (df1['rid_count'] / total_rid_count_sum) * 100\n",
        "\n",
        "df1 = df1.drop(columns=['margin_rank', 'proportion'])\n",
        "\n",
        "# 'std', 'CV' 컬럼 제외 및 데이터프레임 재구조화\n",
        "columns_to_exclude = ['revenue_std', 'utime_std', 'margin_std', 'revenue_CV', 'utime_CV', 'margin_CV']\n",
        "df_melted = df1.drop(columns=columns_to_exclude).melt(id_vars='way', var_name='Metric', value_name='Value')\n",
        "\n",
        "# 바 차트로 결과 시각화\n",
        "fig = px.bar(df_melted, x='way', y='Value', color='Metric',\n",
        "             title='Way별 Metric 값',\n",
        "             barmode='group',\n",
        "             text='Value',\n",
        "             labels={'Value': '값', 'way': 'Way', 'Metric': 'Metric'})\n",
        "\n",
        "# 텍스트 포맷 지정 및 텍스트 위치 조정\n",
        "fig.update_traces(texttemplate='%{text:.0f}', textposition='outside')\n",
        "\n",
        "# 그래프 표시\n",
        "fig.show()"
      ],
      "metadata": {
        "id": "litIEiByxp9j"
      },
      "execution_count": null,
      "outputs": []
    },
    {
      "cell_type": "code",
      "source": [
        "# 단계 1: 전체 'rid_count' 합계 계산\n",
        "total_rid_count_sum = df1['rid_count'].sum()\n",
        "\n",
        "# 단계 2: 각 조합별 'rid_count' 구성비 계산\n",
        "df1['proportion'] = (df1['rid_count'] / total_rid_count_sum) * 100\n",
        "\n",
        "# 바 차트로 결과 시각화\n",
        "# 'color' 인수를 추가하여 'region2'에 따라 색상을 다르게 하여 각 'way' 내에서 'region2'의 구성비를 시각화\n",
        "fig = px.bar(df1, x='way', y='proportion', color='region2',\n",
        "             title='전체 대비 Way와 Region2 조합별 rid_count의 구성비',\n",
        "             text='proportion',\n",
        "             labels={'proportion': '구성비 (%)', 'way': 'Way', 'region2': 'Region2'},\n",
        "             category_orders={\"way\": sorted(df1['way'].unique())})  # 'way'를 기준으로 정렬\n",
        "\n",
        "# 텍스트 포맷 지정 및 텍스트 위치 조정\n",
        "fig.update_traces(texttemplate='%{text:.1f}%', textposition='outside')\n",
        "\n",
        "# 그래프 레이아웃 조정\n",
        "fig.update_layout(legend_title_text='Region2')\n",
        "\n",
        "# 그래프 표시\n",
        "fig.show()"
      ],
      "metadata": {
        "id": "Q7orZsl3yDTu"
      },
      "execution_count": null,
      "outputs": []
    },
    {
      "cell_type": "code",
      "source": [
        "## region2 구별\n",
        "df1_air = df1[df1['region2'] == 'air'].copy()\n",
        "df1_jeju = df1[df1['region2'] == '제주시'].copy()\n",
        "df1_swo = df1[df1['region2'] == '서귀포시'].copy()\n",
        "\n",
        "# 단계 1: 전체 'rid_count' 합계 계산\n",
        "total_rid_count_sum = df1_air['rid_count'].sum()\n",
        "# 단계 2: 각 조합별 'rid_count' 구성비 계산\n",
        "# df1_air['proportion'] = (df1_air['rid_count'] / total_rid_count_sum) * 100\n",
        "df1_air.loc[:, 'proportion'] = (df1_air['rid_count'] / total_rid_count_sum) * 100\n",
        "\n",
        "\n",
        "total_rid_count_sum_jeju = df1_jeju['rid_count'].sum()\n",
        "# df1_jeju['proportion'] = (df1_jeju['rid_count'] / total_rid_count_sum_jeju) * 100\n",
        "df1_jeju.loc[:, 'proportion'] = (df1_jeju['rid_count'] / total_rid_count_sum) * 100\n",
        "\n",
        "total_rid_count_sum_swo = df1_swo['rid_count'].sum()\n",
        "# df1_swo['proportion'] = (df1_swo['rid_count'] / total_rid_count_sum_swo) * 100\n",
        "df1_swo.loc[:, 'proportion'] = (df1_swo['rid_count'] / total_rid_count_sum) * 100\n",
        "\n",
        "from plotly.subplots import make_subplots\n",
        "import plotly.graph_objects as go\n",
        "\n",
        "# 서브플롯 생성\n",
        "fig = make_subplots(rows=1, cols=3, specs=[[{'type':'domain'}, {'type':'domain'}, {'type':'domain'}]],\n",
        "                    subplot_titles=['제주공항 Way별 구성비', '제주시 Way별 구성비', '서귀포시 Way별 구성비'])\n",
        "\n",
        "# 제주공항 도넛 차트\n",
        "fig.add_trace(go.Pie(labels=df1_air['way'], values=df1_air['proportion'], name=\"제주공항\",\n",
        "                     hole=0.4), 1, 1)\n",
        "\n",
        "# 제주시 도넛 차트\n",
        "fig.add_trace(go.Pie(labels=df1_jeju['way'], values=df1_jeju['proportion'], name=\"제주시\",\n",
        "                     hole=0.4), 1, 2)\n",
        "\n",
        "# 서귀포시 도넛 차트\n",
        "fig.add_trace(go.Pie(labels=df1_swo['way'], values=df1_swo['proportion'], name=\"서귀포시\",\n",
        "                     hole=0.4), 1, 3)\n",
        "\n",
        "# 각 차트의 레이아웃 설정\n",
        "fig.update_traces(textposition='inside', textinfo='percent+label')\n",
        "\n",
        "# 레이아웃 업데이트\n",
        "fig.update_layout(title_text=\"각 지역별 Way의 rid_count 구성비 비교\")\n",
        "\n",
        "# 차트 표시\n",
        "fig.show()"
      ],
      "metadata": {
        "id": "8h2MCiBXyTM5"
      },
      "execution_count": null,
      "outputs": []
    },
    {
      "cell_type": "code",
      "source": [
        "# df1에서 'region2', 'way', 'revenue_mean', 'utime_mean', 'margin_mean'를 재구조화\n",
        "df1_melted = df1.melt(id_vars=['way', 'region2'], value_vars=['revenue_mean', 'utime_mean', 'margin_mean'],\n",
        "                      var_name='Metric', value_name='Value')\n",
        "\n",
        "# Plotly Express를 사용하여 바 차트 생성\n",
        "fig = px.bar(df1_melted, x='region2', y='Value', color='Metric',\n",
        "             barmode='group',\n",
        "             text='Value',\n",
        "             facet_col='way',\n",
        "             title='Region2 별 Way에 따른 메트릭 비교',\n",
        "             labels={'Value': '값', 'region2': '지역', 'way': 'Way', 'Metric': '메트릭'})\n",
        "\n",
        "# 로그 스케일로 y축 설정\n",
        "fig.update_layout(yaxis_type=\"log\")\n",
        "\n",
        "# 값 텍스트 포맷 지정 및 위치 조정\n",
        "fig.update_traces(texttemplate='%{text:1.0f}', textposition='outside')\n",
        "\n",
        "# 그래프 표시\n",
        "fig.show()"
      ],
      "metadata": {
        "id": "m2MS9SneyWXL"
      },
      "execution_count": null,
      "outputs": []
    },
    {
      "cell_type": "code",
      "source": [],
      "metadata": {
        "id": "D3NYlEV8yc0L"
      },
      "execution_count": null,
      "outputs": []
    },
    {
      "cell_type": "markdown",
      "source": [
        "#### 수요측면\n",
        "부름과 존편도의 매출과 이익이 높은 이유에 대해 예약의 거리적 특성 때문을 아닐지 검증\n",
        "\n",
        "예약 위치와 관련이 있는 것은 아닐지 = True\n",
        "\n",
        "제주도외에서 예약할 수록 매출과 마진이 높다\n",
        "\n",
        "1. 사전 예약 확대를 위해 제휴 프로모션 강화 방안\n",
        "- 기 제휴사 대상: 사전 부름 예약 할인 프로모션\n",
        "- 신규 제휴사 대상: 사전 부름 예약 할인 프로모션\n",
        "\n",
        "1. 예약 현황\n",
        "2. 부름 예약 가설 검증\n",
        "3. 대략적인 제안\n",
        "---\n",
        "> 예약현황\n",
        "```\n",
        "1. 예약타입별 매출&이용 지표 비교\n",
        "2. 에약타입별 분포\n",
        "```"
      ],
      "metadata": {
        "id": "ECUhvMiGyewa"
      }
    },
    {
      "cell_type": "code",
      "source": [
        "df_loc.info()"
      ],
      "metadata": {
        "id": "VcH9VlGlyq4P"
      },
      "execution_count": null,
      "outputs": []
    },
    {
      "cell_type": "code",
      "source": [
        "print(df_loc['zone_loc'].unique())\n",
        "print(df_loc['rev_loc'].unique())"
      ],
      "metadata": {
        "id": "pjls6J5Fy1CR"
      },
      "execution_count": null,
      "outputs": []
    },
    {
      "cell_type": "code",
      "source": [
        "# zone_loc 및 rev_loc에 따른 매출, 공헌이익, 이용시간의 평균을 바 차트로 표시\n",
        "# way와 zone_loc, rev_loc의 조합에 따른 매출 및 공헌이익을 박스플롯 또는 바이올린 플롯으로 시각화\n",
        "\n",
        "\n",
        "## EDA & 시각화\n",
        "# zone_loc에 따른 매출 분포 시각화\n",
        "fig = px.box(df_loc, x='zone_loc', y='revenue', color='way',\n",
        "             title='zone_loc에 따른 매출 분포')\n",
        "fig.show()\n",
        "\n",
        "fig = px.box(df_loc, x='zone_loc', y='margin', color='way',\n",
        "             title='zone_loc에 따른 공헌이익 분포')\n",
        "fig.show()\n",
        "\n",
        "# rev_loc에 따른 공헌이익 분포 시각화\n",
        "fig = px.box(df_loc, x='rev_loc', y='revenue', color='way',\n",
        "             title='rev_loc에 따른 매출 분포')\n",
        "fig.show()\n",
        "\n",
        "fig = px.box(df_loc, x='rev_loc', y='margin', color='way',\n",
        "             title='rev_loc에 따른 공헌이익 분포')\n",
        "fig.show()"
      ],
      "metadata": {
        "id": "0CnvR9_ny2lu"
      },
      "execution_count": null,
      "outputs": []
    },
    {
      "cell_type": "code",
      "source": [
        "# zone_loc에 따른 매출 분포 시각화 (바이올린 플롯)\n",
        "fig = px.violin(df_loc, x='zone_loc', y='revenue', color='way', box=True,\n",
        "                title='zone_loc에 따른 매출 분포 (바이올린 플롯)',\n",
        "                points=\"all\")\n",
        "fig.show()\n",
        "\n",
        "fig = px.violin(df_loc, x='zone_loc', y='margin', color='way', box=True,\n",
        "                title='zone_loc에 따른 공헌이익 분포 (바이올린 플롯)',\n",
        "                points=\"all\")\n",
        "fig.show()\n",
        "\n",
        "# rev_loc에 따른 공헌이익 분포 시각화 (바이올린 플롯)\n",
        "fig = px.violin(df_loc, x='rev_loc', y='revenue', color='way', box=True,\n",
        "                title='rev_loc에 따른 매출 분포 (바이올린 플롯)',\n",
        "                points=\"all\")\n",
        "fig.show()\n",
        "\n",
        "fig = px.violin(df_loc, x='rev_loc', y='margin', color='way', box=True,\n",
        "                title='rev_loc에 따른 공헌이익 분포 (바이올린 플롯)',\n",
        "                points=\"all\")\n",
        "fig.show()"
      ],
      "metadata": {
        "id": "CfrrBDVMy4H5"
      },
      "execution_count": null,
      "outputs": []
    },
    {
      "cell_type": "code",
      "source": [
        "## 상관분석\n",
        "# - 제주도외, 존과의 거리가 3000미터 이상인 예약의 매출, 공헌이익, 이용시간 관련 지표가 다소 가능성이 높음"
      ],
      "metadata": {
        "id": "HezEgm3Ky6_Z"
      },
      "execution_count": null,
      "outputs": []
    },
    {
      "cell_type": "markdown",
      "source": [
        "revenue, margin, utime과 zone_loc, rev_loc 간의 상관 관계를 수치적으로 평가  \n",
        "   \n",
        "     범주형 변수를 더미 변수(dummy variable)로 변환한 후 수치형 변수들과의 상관 분석을 수행"
      ],
      "metadata": {
        "id": "Wreml0olzBrA"
      }
    },
    {
      "cell_type": "code",
      "source": [
        "# 더미 변수 변환\n",
        "df_dummies = pd.get_dummies(df_loc[['zone_loc', 'rev_loc']])\n",
        "df_analysis = pd.concat([df_loc[['revenue', 'margin', 'utime']], df_dummies], axis=1)\n",
        "\n",
        "# 상관 계수 계산\n",
        "corr_matrix = df_analysis.corr()\n",
        "\n",
        "# 상관 계수 시각화\n",
        "import seaborn as sns\n",
        "import matplotlib.pyplot as plt\n",
        "\n",
        "plt.figure(figsize=(10, 8))\n",
        "sns.heatmap(corr_matrix, annot=True, cmap='coolwarm')\n",
        "plt.show()"
      ],
      "metadata": {
        "id": "4dRyekFBzB6c"
      },
      "execution_count": null,
      "outputs": []
    },
    {
      "cell_type": "markdown",
      "source": [
        "통계적 검정   \n",
        "zone_loc 또는 rev_loc 범주 간의 매출과 공헌이익의 차이가 통계적으로 유의한지 검정"
      ],
      "metadata": {
        "id": "VmxdCKi0zFKW"
      }
    },
    {
      "cell_type": "markdown",
      "source": [
        "1. ANOVA (분산 분석)   \n",
        "    ANOVA는 세 개 이상의 그룹 간 평균의 차이가 통계적으로 유의한지 여부를 검정하는 방법   \n",
        "\n",
        "   - p-값이 매우 작으므로 네 개의 zone_loc 그룹 간에 매출(revenue)의 평균에 통계적으로 유의미한 차이가 있음\n",
        "   - zone_loc 값에 따라 매출 평균이 서로 다르다는 것을 의미하며, 이는 zone_loc이 매출에 중요한 영향을 미칠 수 있음"
      ],
      "metadata": {
        "id": "EWaswb3WzH10"
      }
    },
    {
      "cell_type": "code",
      "source": [
        "anova_result = stats.f_oneway(\n",
        "    df_loc[df_loc['zone_loc'] == 'O3000m']['revenue'],\n",
        "    df_loc[df_loc['zone_loc'] == '500m']['revenue'],\n",
        "    df_loc[df_loc['zone_loc'] == '1000m']['revenue'],\n",
        "    df_loc[df_loc['zone_loc'] == '3000m']['revenue']\n",
        ")\n",
        "\n",
        "print(f'ANOVA test result: F={anova_result.statistic:.2f}, p={anova_result.pvalue:.3f}')\n",
        "if anova_result.pvalue < 0.05:\n",
        "    print(\"There's a significant difference between group means.\")\n",
        "else:\n",
        "    print(\"No significant difference found between group means.\")"
      ],
      "metadata": {
        "id": "xr_zNjsBzDFt"
      },
      "execution_count": null,
      "outputs": []
    },
    {
      "cell_type": "markdown",
      "source": [
        "2. 카이제곱 검정   \n",
        "   두 범주형 변수 간의 독립성을 검정하는 데 사용   \n",
        "   두 변수 간의 상관 관계가 아니라, 두 범주형 변수의 분포가 서로 독립적인지 여부를 검사   \n",
        "   -  p 값이 매우 낮으므로(실제로는 0이 아니라 매우 작은 수치일 것이나, 반올림으로 0으로 표시됨), zone_loc과 rev_loc 사이에 통계적으로 유의미한 연관성이 있음\n",
        "    - zone_loc 값과 rev_loc 값 사이에는 독립적이지 않으며, 하나의 변수가 다른 변수의 분포에 영향을 미칠 수 있음\n",
        "    - 특정 지역 위치(zone_loc)가 제주도 내부 또는 외부 예약(rev_loc)과 관련이 있을 수 있음"
      ],
      "metadata": {
        "id": "yn3-s1PhzWeb"
      }
    },
    {
      "cell_type": "code",
      "source": [
        "cross_tab = pd.crosstab(df_loc['zone_loc'], df_loc['rev_loc'])\n",
        "chi2_result = stats.chi2_contingency(cross_tab)\n",
        "\n",
        "print(f'Chi-square test result: chi2={chi2_result[0]:.2f}, p={chi2_result[1]:.3f}')\n",
        "if chi2_result[1] < 0.05:\n",
        "    print(\"The two categorical variables are associated.\")\n",
        "else:\n",
        "    print(\"No significant association found between the two categorical variables.\")"
      ],
      "metadata": {
        "id": "DzJyAqF_zV1p"
      },
      "execution_count": null,
      "outputs": []
    },
    {
      "cell_type": "markdown",
      "source": [
        "3.t-검정   \n",
        "    두 그룹 간 평균의 차이가 통계적으로 유의미한지 검정하는 방법(두 그룹간 평균차이 검증)   \n",
        "  - 제주도 내부(jeju_in)와 제주도 외부(jeju_out)에서의 예약에 대한 매출 평균 사이에 통계적으로 유의미한 차이가 있음\n",
        "    - 구체적으로, jeju_in 그룹의 매출 평균이 jeju_out 그룹보다 유의미하게 낮음\n",
        "    - 제주도 내부 예약과 외부 예약이 매출에 다른 영향을 미칠 수 있음\n",
        "  - 제주도 외부에서의 예약이 더 높은 매출을 생성할 수 있는 특정 요인이 있을 수 있음\n"
      ],
      "metadata": {
        "id": "_4ptpcU2zmC4"
      }
    },
    {
      "cell_type": "code",
      "source": [
        "t_test_result = stats.ttest_ind(\n",
        "    df_loc[df_loc['rev_loc'] == 'jeju_in']['revenue'],\n",
        "    df_loc[df_loc['rev_loc'] == 'jeju_out']['revenue'],\n",
        "    equal_var=False  # 두 그룹의 분산이 동일하지 않다고 가정\n",
        ")\n",
        "\n",
        "print(f't-test result: t={t_test_result.statistic:.2f}, p={t_test_result.pvalue:.3f}')\n",
        "if t_test_result.pvalue < 0.05:\n",
        "    print(\"There's a significant difference between the means of the two groups.\")\n",
        "else:\n",
        "    print(\"No significant difference found between the means of the two groups.\")"
      ],
      "metadata": {
        "id": "ZJIQDRWPzTja"
      },
      "execution_count": null,
      "outputs": []
    },
    {
      "cell_type": "markdown",
      "source": [
        "#### 공급측면\n",
        "1. 거점별 공급 현황\n",
        "2. 공급 비용 현황\n",
        "---\n",
        "> 거점별 공급 현황\n",
        "```\n",
        "1. 쏘카존별 부름, 편도 비중 비교\n",
        ": 매출, 이용시간\n",
        "2. 부름 출/도착지별 건수 현황\n",
        ": 이용건수\n",
        "3. 쏘카존별 운영 차종 현황\n",
        ": 차종별 비교\n",
        "```\n",
        "> 공급 비용 현황\n",
        "```\n",
        "1. 표준 비용: transport_cost\n",
        "2. 정산 비용: 핸들사업팀(핸들 리워드, 위컴바인 탁송비)\n",
        "3. 실제 비용: 정산 비용 - 표준 비용\n",
        "```"
      ],
      "metadata": {
        "id": "T2RytHjRz4vq"
      }
    },
    {
      "cell_type": "markdown",
      "source": [
        "데이터 전처리"
      ],
      "metadata": {
        "id": "t2xt9WKVfqVf"
      }
    },
    {
      "cell_type": "code",
      "source": [
        "## 데이터 임포트\n",
        "query = \"\"\"\n",
        "  WITH base AS (\n",
        "    SELECT\n",
        "        r.way as way,\n",
        "        CASE WHEN r.zone_id IN (105, 9890) THEN 'air'\n",
        "            WHEN r.zone_id IN (17209, 19175) THEN 'air_infront'\n",
        "            ELSE r.region2 END as part,\n",
        "        r.zone_id as zid,\n",
        "        r.zone_name as zname,\n",
        "        r.date,\n",
        "        r.reservation_id as rid,\n",
        "        sum(r.utime) as utime, -- 이용시간\n",
        "        sum(revenue) as revenue, -- 회계매출\n",
        "        -- sum(_rev_d2d) as _rev_d2d, -- 부름매출(부름요금 + 편도요금)\n",
        "\n",
        "        sum(contribution_margin) as margin, -- 공헌이익\n",
        "        sum(transport_cost_d2d) as d2d_cost, -- 부름배반비용\n",
        "        sum(transport_cost_z2d) as z2d_cost -- 존편도배반비용\n",
        "\n",
        "    FROM `socar-data.soda_store.reservation_v2` r\n",
        "    LEFT JOIN socar-data.tianjin_replica.reservation_info i ON r.reservation_id = i.id\n",
        "    LEFT JOIN socar-data.tianjin_replica.reservation_dtod_info d ON r.reservation_id = d.reservation_id\n",
        "    LEFT JOIN `tianjin_replica.car_info` c ON r.car_id = c.id\n",
        "    LEFT JOIN `tianjin_replica.car_class` cl ON c.class_id = cl.id\n",
        "    WHERE date BETWEEN '2024-03-01' AND '2024-03-31'\n",
        "    AND r.member_imaginary IN (0,9)\n",
        "    AND region1 = '제주특별자치도'\n",
        "    GROUP BY way, part, zid, zname, date, rid\n",
        "  ),\n",
        "\n",
        "  base2 AS (\n",
        "    SELECT\n",
        "      start_year,\n",
        "      start_month,\n",
        "      week,\n",
        "      start_date,\n",
        "      start_dayofweek,\n",
        "      start_region1,\n",
        "      service_type,\n",
        "      category,\n",
        "      category2,\n",
        "      parent_reservation_id,\n",
        "      reservation_id,\n",
        "      handle_reward,\n",
        "      turning,\n",
        "      start_region3, end_region3,\n",
        "      start_region4, end_region4,\n",
        "      start_region5, end_region5,\n",
        "      start_lat, start_lng,\n",
        "      end_lat, end_lng,\n",
        "      -- count(distinct if(turning = '핸들러',reservation_id, null)) rev_handler_cnt,\n",
        "\n",
        "    FROM `socar-data.temp_eoli.all_handle_add_daily_log`\n",
        "    WHERE state not in ('핸들생성취소') # in '완료','지연', '취소'\n",
        "    AND date(end_date) BETWEEN '2024-03-01' AND '2024-03-31'\n",
        "    AND  start_region1 like '%제주%'\n",
        "    AND category not in ('미션핸들')\n",
        "    AND state = \"완료\"\n",
        "    -- GROUP BY start_year, start_month, week, start_date, start_dayofweek, start_region1, service_type, category, category2\n",
        "  ) -- 핸들 비용 쿼리\n",
        "\n",
        "  SELECT\n",
        "    b.way,\n",
        "    b.part,\n",
        "    b.zid, b.zname,\n",
        "    b.date,\n",
        "    b.rid,\n",
        "    -- b2.parent_reservation_id as prid, -- reservation_id 예약id(핸들 모예약)\n",
        "    b2.reservation_id as hrid,\n",
        "    b2.handle_reward,\n",
        "    b2.turning,\n",
        "    b.utime,\n",
        "    b.revenue,\n",
        "    b.margin,\n",
        "    CASE WHEN b.way = \"round\" THEN 0\n",
        "         WHEN b.way IN (\"d2d_round\", \"d2d_oneway\") THEN b.d2d_cost\n",
        "         WHEN b.way = 'z2d_oneway' THEN z2d_cost\n",
        "         END as transport_cost, -- 배반비용\n",
        "\n",
        "    b2.start_region4, b2.end_region4,\n",
        "    CONCAT(b2.start_region4, ' ', start_region5) as start_address,\n",
        "    start_lat, start_lng,\n",
        "    CONCAT(b2.end_region4, ' ', end_region5) as end_address,\n",
        "    end_lat, end_lng,\n",
        "    round(st_distance(st_geogpoint(start_lng, start_lat), st_geogpoint(end_lng, end_lat))/1000, 0) as distance,\n",
        "    category,\n",
        "    category2,\n",
        "\n",
        "  FROM base b\n",
        "  LEFT JOIN base2 b2 ON b.rid = b2.parent_reservation_id\n",
        "  ORDER BY rid desc\n",
        "  \"\"\"\n",
        "\n",
        "df_rev = pd.io.gbq.read_gbq(\n",
        "    query=query,\n",
        "    project_id=\"socar-data\"\n",
        ")\n",
        "\n",
        "df_rev.info()"
      ],
      "metadata": {
        "id": "yx47K9clGgQo"
      },
      "execution_count": null,
      "outputs": []
    },
    {
      "cell_type": "code",
      "source": [
        "## 운영 데이터 import\n",
        "query = \"\"\"\n",
        "  ## 쏘카존, 차종별 운영대수\n",
        "\n",
        "  WITH base AS (\n",
        "    SELECT\n",
        "      c.id as cid,\n",
        "      cl.car_model,\n",
        "      c.zone_id as zid,\n",
        "      z.zone_name as zname,\n",
        "      z.region1, z.region2\n",
        "\n",
        "    FROM tianjin_replica.car_info c\n",
        "    LEFT JOIN tianjin_replica.car_class cl\n",
        "    ON c.class_id = cl.id\n",
        "    LEFT JOIN tianjin_replica.carzone_info z\n",
        "    ON c.zone_id = z.id\n",
        "    WHERE c.state IN (4, 5) AND z.region1 = '제주특별자치도'\n",
        "  )\n",
        "\n",
        "  SELECT\n",
        "    zid, zname,\n",
        "    car_model,\n",
        "\n",
        "    count(cid) as cnt\n",
        "  FROM base\n",
        "  GROUP BY zid, zname, car_model\n",
        "  ORDER BY zid, zname, car_model\n",
        "  \"\"\"\n",
        "\n",
        "df_op = pd.io.gbq.read_gbq(\n",
        "    query=query,\n",
        "    project_id=\"socar-data\"\n",
        ")\n",
        "\n",
        "df_op.info()"
      ],
      "metadata": {
        "id": "038qUTBVHHYP"
      },
      "execution_count": null,
      "outputs": []
    },
    {
      "cell_type": "code",
      "source": [
        "## 정산 데이터 import\n",
        "drive.mount('/content/drive')\n",
        "\n",
        "# 파일 경로\n",
        "file_path = '/content/drive/My Drive/handle_raw.csv'\n",
        "df_handle = pd.read_csv(file_path)\n",
        "df_handle.info()"
      ],
      "metadata": {
        "id": "yE3FNlFnHfVc"
      },
      "execution_count": null,
      "outputs": []
    },
    {
      "cell_type": "code",
      "source": [
        "df_handle.head()"
      ],
      "metadata": {
        "id": "KYbcWcGfZ_DB"
      },
      "execution_count": null,
      "outputs": []
    },
    {
      "cell_type": "markdown",
      "source": [
        "1단계: 데이터 타입 변환\n",
        "- df_rev와 df_handle의 일부 컬럼의 데이터 타입을 변환\n",
        "\n",
        "df_rev의 변환:\n",
        "- handle_reward 컬럼은 현재 object > integer로 변환\n",
        "  - 데이터 변환 전에 이 컬럼에 있는 null 값들을 처리\n",
        "    - fillna() 함수를 사용하여 null 값을 0 처리\n",
        "df_handle의 변환:\n",
        "- base_cost, add_cost, total_cost 컬럼들을 integer로 변환\n",
        "  - 마찬가지로, null 값 처리"
      ],
      "metadata": {
        "id": "vuNCMzHTWQZz"
      }
    },
    {
      "cell_type": "code",
      "source": [
        "import numpy as np\n",
        "\n",
        "# df_rev에서 'handle_reward' 컬럼의 null 값을 0으로 채우고, integer로 변환\n",
        "df_rev['handle_reward'] = df_rev['handle_reward'].fillna(0).astype(int)\n",
        "df_rev['distance'] = df_rev['distance'].fillna(0).astype(int)\n",
        "\n",
        "# # 콤마 제거 및 정수형으로 변환\n",
        "# df_handle['base_cost'] = df_handle['base_cost'].fillna('0').astype(str).str.replace(',', '').astype(int)\n",
        "# df_handle['add_cost'] = df_handle['add_cost'].fillna('0').astype(str).str.replace(',', '').astype(int)\n",
        "# df_handle['total_cost'] = df_handle['total_cost'].fillna('0').astype(str).str.replace(',', '').astype(int)"
      ],
      "metadata": {
        "id": "QakuCYnzV6Nz"
      },
      "execution_count": null,
      "outputs": []
    },
    {
      "cell_type": "markdown",
      "source": [
        "2단계: 위컴바인 정산 local 컬럼 생성   \n",
        "- df_handle에 local라는 새로운 컬럼 생성\n",
        "  - total_cost가 0인 경우 base_cost + add_cost, 아니라면 total_cost의 값 사용"
      ],
      "metadata": {
        "id": "4EDfigmsXUDT"
      }
    },
    {
      "cell_type": "code",
      "source": [
        "# df_handle에 'cost_total' 컬럼 추가\n",
        "df_handle['local'] = np.where(df_handle['total_cost'] == 0,\n",
        "                                   df_handle['base_cost'] + df_handle['add_cost'],\n",
        "                                   df_handle['total_cost'])"
      ],
      "metadata": {
        "id": "IosTivuPV6Hs"
      },
      "execution_count": null,
      "outputs": []
    },
    {
      "cell_type": "markdown",
      "source": [
        "3단계: df_rev와 df_handle 병합\n",
        "- df_rev의 hrid 컬럼을 기준으로 df_handle의 local 값을 LEFT JOIN 병합\n",
        "  - df_handle에 hrid 값이 없는 경우, local 값을 0 처리"
      ],
      "metadata": {
        "id": "LucFqcH2XiXp"
      }
    },
    {
      "cell_type": "code",
      "source": [
        "# df_handle에서 필요한 컬럼만 선택\n",
        "df_handle_reduced = df_handle[['hrid', 'local']]\n",
        "\n",
        "# df_rev와 df_handle_reduced를 'hrid'를 기준으로 LEFT JOIN\n",
        "df_rev = pd.merge(df_rev, df_handle_reduced, on='hrid', how='left')\n",
        "\n",
        "# 병합 결과에서 'cost_total'의 null 값을 0으로 채우기\n",
        "df_rev['local'] = df_rev['local'].fillna(0)"
      ],
      "metadata": {
        "id": "Esfe0eq_V6E7"
      },
      "execution_count": null,
      "outputs": []
    },
    {
      "cell_type": "markdown",
      "source": [
        "4단계: total_transport_cost 컬럼 생성\n",
        "- df_rev에 total_transport_cost 컬럼을 추가\n",
        "  - handle_reward + local(로컬 정산비용)으로 계산"
      ],
      "metadata": {
        "id": "B9HLoYf7Xw44"
      }
    },
    {
      "cell_type": "code",
      "source": [
        "# df_rev에 'total_transport_cost' 컬럼 추가// 실제 정산비용\n",
        "df_rev['total_transport_cost'] = df_rev['handle_reward'] + df_rev['local']"
      ],
      "metadata": {
        "id": "tagMVvjJwCRV"
      },
      "execution_count": null,
      "outputs": []
    },
    {
      "cell_type": "markdown",
      "source": [
        "5단계: 집계 과정\n",
        "- zone_id, zone_name별로 여러 집계 값을 계산\n",
        "- roupby() 함수와 agg() 함수를 사용하며, 여러 조건을 포함한 집계를 수행할 때는 np.where() 함수를 활용"
      ],
      "metadata": {
        "id": "mbjEfIOvX2XX"
      }
    },
    {
      "cell_type": "code",
      "source": [
        "# zone_id, zone_name별로 여러 집계 값 계산\n",
        "aggregation = df_rev.groupby(['zid', 'zname']).agg(\n",
        "    rev_cnt=('rid', 'count'),\n",
        "    d2d_rev=('rid', lambda x: x[df_rev['way'].isin(['d2d_round', 'd2d_oneway'])].count()),\n",
        "    z2d_rev=('rid', lambda x: x[df_rev['way'] == 'z2d_oneway'].count()),\n",
        "    dur=('utime', 'sum'),\n",
        "    d2d_dur=('utime', lambda x: x[df_rev['way'].isin(['d2d_round', 'd2d_oneway'])].sum()),\n",
        "    z2d_dur=('utime', lambda x: x[df_rev['way'] == 'z2d_oneway'].sum()),\n",
        "    revenue=('revenue', 'sum'),\n",
        "    d2d_revenue=('revenue', lambda x: x[df_rev['way'].isin(['d2d_round', 'd2d_oneway'])].sum()),\n",
        "    z2d_revenue=('revenue', lambda x: x[df_rev['way'] == 'z2d_oneway'].sum()),\n",
        "    margin=('margin', 'sum'),\n",
        "    d2d_margin=('margin', lambda x: x[df_rev['way'].isin(['d2d_round', 'd2d_oneway'])].sum()),\n",
        "    z2d_margin=('margin', lambda x: x[df_rev['way'] == 'z2d_oneway'].sum()),\n",
        "    transport_cost=('transport_cost', 'sum'), ## 표준비용\n",
        "    total_cost=('total_transport_cost', 'sum'), ## 실제비용 = 리워드 + 위컴바인\n",
        "    handle_reward=('handle_reward', 'sum'), ## 핸들리워드\n",
        "    # cost_total=('total_cost_calculated', 'sum'),\n",
        "    handle_rev=('hrid', lambda x: x[df_rev['turning'] == '핸들러'].count()),\n",
        "    local_rev=('hrid', lambda x: x[df_rev['turning'] == '후보류'].count()),\n",
        "    distance=('distance', 'sum'),\n",
        "    d2d_distance=('distance', lambda x: x[df_rev['way'].isin(['d2d_round', 'd2d_oneway'])].sum()),\n",
        "    z2d_distance=('distance', lambda x: x[df_rev['way'] == 'z2d_oneway'].sum()),\n",
        ").reset_index()"
      ],
      "metadata": {
        "id": "XfKgIVjoXuKw"
      },
      "execution_count": null,
      "outputs": []
    },
    {
      "cell_type": "markdown",
      "source": [
        "6단계: 비율 계산\n",
        "- 비율을 계산, np.where() 함수를 사용하여 분모가 0인 경우를 처리"
      ],
      "metadata": {
        "id": "J8SFY0b_YKjc"
      }
    },
    {
      "cell_type": "code",
      "source": [
        "# 비율 계산\n",
        "aggregation['d2d_rev_portion'] = aggregation['d2d_rev'] / aggregation['rev_cnt']\n",
        "aggregation['z2d_rev_portion'] = aggregation['z2d_rev'] / aggregation['rev_cnt']\n",
        "aggregation['d2d_dur_portion'] = aggregation['d2d_dur'] / aggregation['dur']\n",
        "aggregation['z2d_dur_portion'] = aggregation['z2d_dur'] / aggregation['dur']\n",
        "aggregation['d2d_revenue_portion'] = aggregation['d2d_revenue'] / aggregation['revenue']\n",
        "aggregation['z2d_revenue_portion'] = aggregation['z2d_revenue'] / aggregation['revenue']\n",
        "aggregation['d2d_margin_portion'] = aggregation['d2d_margin'] / aggregation['margin']\n",
        "aggregation['z2d_margin_portion'] = aggregation['z2d_margin'] / aggregation['margin']\n",
        "aggregation['local_portion'] = aggregation['local_rev'] / (aggregation['handle_rev'] + aggregation['local_rev'])\n",
        "\n",
        "# NaN 값 처리\n",
        "aggregation.fillna(0, inplace=True)\n",
        "aggregation.info()"
      ],
      "metadata": {
        "id": "WR0aGxXIV5vw"
      },
      "execution_count": null,
      "outputs": []
    },
    {
      "cell_type": "markdown",
      "source": [
        "운영 차종의 부름 운영비중 계산\n",
        "- 운영 비중 = 전체 대수 대비 부름 운영 차량 비중\n",
        "  - 부름 운영 차량 = 경차를 제외한 모든 차량"
      ],
      "metadata": {
        "id": "cmVD7l0qwhQt"
      }
    },
    {
      "cell_type": "code",
      "source": [
        "# 'd2d_flag' 컬럼을 추가하여 조건에 맞는 car_model의 유무를 표시\n",
        "df_op['d2d_flag'] = df_op['car_model'].isin(['EV', 'RV', '소형SUV', '수입', '승합', '준대형', '준대형SUV', '준중형', '준중형SUV', '중형', '중형SUV'])\n",
        "\n",
        "# 조건에 따라 cnt 값을 가중치로 사용하여 d2d_cnt 계산\n",
        "df_op_agg = df_op.groupby(['zid', 'zname']).apply(\n",
        "    lambda x: pd.Series({\n",
        "        'd2d_cnt': x.loc[x['d2d_flag'], 'cnt'].sum(),\n",
        "        'total_cnt': x['cnt'].sum()\n",
        "    })\n",
        ").reset_index()\n",
        "\n",
        "# d2d_op_portion 계산\n",
        "df_op_agg['d2d_op_portion'] = df_op_agg['d2d_cnt'] / df_op_agg['total_cnt']\n",
        "\n",
        "# 결과 확인\n",
        "df_op_agg"
      ],
      "metadata": {
        "id": "kUDYm3O6rgMJ"
      },
      "execution_count": null,
      "outputs": []
    },
    {
      "cell_type": "markdown",
      "source": [
        "2단계: aggregation과 df_op_agg 병합\n",
        "- df_op_agg의 zid를 기준으로 LEFT JOIN 병합"
      ],
      "metadata": {
        "id": "E_4vVJQbwl56"
      }
    },
    {
      "cell_type": "code",
      "source": [
        "# aggregation과 df_op_agg를 'zid'를 기준으로 LEFT JOIN\n",
        "merged_df = pd.merge(aggregation, df_op_agg, on='zid', how='left')"
      ],
      "metadata": {
        "id": "c0bPgdfdwjrv"
      },
      "execution_count": null,
      "outputs": []
    },
    {
      "cell_type": "code",
      "source": [
        "merged_df.describe()"
      ],
      "metadata": {
        "id": "p0tM4Nbp0-kI"
      },
      "execution_count": null,
      "outputs": []
    },
    {
      "cell_type": "markdown",
      "source": [
        "| 컬럼명                | 데이터타입 | 의미                    | 출처                                                         |\n",
        "|----------------------|------------|-------------------------|--------------------------------------------------------------|\n",
        "| zid                  | Int64      | 존 ID                   | soda_store.reservation_v2                                   |\n",
        "| zname_x              | object     | 존 이름                  | soda_store.reservation_v2                                   |\n",
        "| rev_cnt              | int64      | 예약 건수               | soda_store.reservation_v2.reservation_id.count()            |\n",
        "| d2d_rev              | Int64      | 부름 예약 건수          | soda_store.reservation_v2.reservation_id.count() IN (d2d_round, d2d_oneway) |\n",
        "| z2d_rev              | Int64      | 존편도 예약 건수        | soda_store.reservation_v2.reservation_id.count() IN (z2d_oneway) |\n",
        "| dur                  | float64    | 이용 시간                | soda_store.reservation_v2.utime.sum()                       |\n",
        "| d2d_dur              | float64    | 부름 이용 시간          | soda_store.reservation_v2.utime.sum() IN (d2d_round, d2d_oneway) |\n",
        "| z2d_dur              | float64    | 존편도 이용 시간        | soda_store.reservation_v2.utime.sum() IN (z2d_oneway)       |\n",
        "| revenue              | float64    | 총 매출                 | soda_store.reservation_v2.revenue.sum()                     |\n",
        "| d2d_revenue          | float64    | 부름 총 매출            | soda_store.reservation_v2.revenue.sum() IN (d2d_round, d2d_oneway) |\n",
        "| z2d_revenue          | float64    | 존편도 총 매출          | soda_store.reservation_v2.revenue.sum() IN (z2d_oneway)     |\n",
        "| margin               | float64    | 공헌 이익                | soda_store.reservation_v2.margin.sum()                      |\n",
        "| d2d_margin           | float64    | 부름 공헌 이익          | soda_store.reservation_v2.margin.sum() IN (d2d_round, d2d_oneway) |\n",
        "| z2d_margin           | float64    | 존편도 공헌 이익        | soda_store.reservation_v2.margin.sum() IN (z2d_oneway)      |\n",
        "| transport_cost       | float64    | 표준 배반 비용          | soda_store.reservation_v2.transport_cost (d2d_oneway, d2d_round, z2d_oneway) |\n",
        "| total_cost           | float64    | 총요금                  | temp_eoli.all_handle_add_daily_log.base_cost + add_cost     |\n",
        "| handle_reward        | int64      | 핸들 리워드             | temp_eoli.all_handle_add_daily_log.handle_reward            |\n",
        "| cost_total           | float64    | 총 배반 실비            | 핸들 리워드 + 위컴바인 비용                                 |\n",
        "| handle_rev           | Int64      | 핸들 건수               | temp_eoli.all_handle_add_daily_log.reservation_id(핸들 id).count() |\n",
        "| local_rev            | Int64      | 위컴바인 건수           | 핸들 미매칭, 후보류 건                                      |\n",
        "| distance             | float64    | 배반 거리               | temp_eoli.all_handle_add_daily_log.출발/도착지간 거리(km)    |\n",
        "| d2d_distance         | float64    | 부름 배반 거리          |                                                              |\n",
        "| z2d_distance         | float64    | 존편도 배반 거리        |                                                              |\n",
        "| d2d_rev_portion      | Float64    | 부름 건수 비중          |                                                              |\n",
        "| z2d_rev_portion      | Float64    | 존편도 건수 비중        |                                                              |\n",
        "| d2d_dur_portion      | float64    | 부름 시간 비중          |                                                              |\n",
        "| z2d_dur_portion      | float64    | 존편도 시간 비중        |                                                              |\n",
        "| d2d_revenue_portion  | float64    | 부름 매출 비중          |                                                              |\n",
        "| z2d_revenue_portion  | float64    | 존편도 매출 비중        |                                                              |\n",
        "| d2d_margin_portion   | float64    | 부름 공헌이익 비중      |                                                              |\n",
        "| z2d_margin_portion   | float64    | 존편도 공헌이익 비중    |                                                              |\n",
        "| local_portion        | Float64    | 후보류 건수 비중        |                                                              |\n",
        "| zname_y              | object     | 존 이름(중복)           |                                                              |\n",
        "| d2d_cnt              | float64    | 부름 가능 운영 대수     |    tianjin_replica.car_info.id.count()                                                         |\n",
        "| total_cnt            | float64    | 전체 운영 대수          |                                                              |\n",
        "| d2d_op_portion       | float64    | 부름 운영 가능 대수 비중|                                                              |\n"
      ],
      "metadata": {
        "id": "1fICt_rx5nRp"
      }
    },
    {
      "cell_type": "markdown",
      "source": [
        "#### 시각화\n",
        "> 비용: 실비(정산), 표준비 비교\n",
        "- 합계비교\n",
        "- 예약타입별 비교\n",
        "- 예약타입의 배반 거리당 비교\n",
        "  - 에약타입별 배반 거리별(범주형) 비교\n",
        "    - 실비 차액(실비-표준비용), 실비, 표준비\n",
        "\n",
        "> 운영: 예약타입별 비중, 차종별 운영 비중\n",
        "- 전체 예약타입별 예약시간 비중\n",
        "  - 지역별 예약타입별 예약시간 비중\n",
        "  - 존별 예약타입별 예약시간 비중\n",
        "- 전체 차종별 운영 비중\n",
        "  - 지역별 예약타입별 예약시간 비중\n",
        "  - 존별 예약타입별 예약시간 비중\n",
        "\n",
        "### 결과: 해결 내용 정리\n",
        "### 결론: 제시 방안\n",
        "\n"
      ],
      "metadata": {
        "id": "_CecJ9-PfqSc"
      }
    },
    {
      "cell_type": "code",
      "source": [
        "## merged_df에 df_rev의 part 컬럼 추가\n",
        "\n",
        "# merged_df와 df_rev를 zid를 기준으로 left join하여 part 컬럼 추가\n",
        "merged_df = pd.merge(merged_df, df_rev[['zid', 'part']].drop_duplicates(), on='zid', how='left')"
      ],
      "metadata": {
        "id": "odtaHSJOmlb6"
      },
      "execution_count": null,
      "outputs": []
    },
    {
      "cell_type": "code",
      "source": [
        "# total_cost = 실제 배반 비용 (핸들리워드 + 위컴바인 정산)\n",
        "# handle_reward = 핸들리워드\n",
        "# transport_cost = 표준 배반 비용\n",
        "# Actual_cost = total_cost - transport_cost"
      ],
      "metadata": {
        "id": "lUJyBPNsPXz6"
      },
      "execution_count": null,
      "outputs": []
    },
    {
      "cell_type": "code",
      "source": [
        "# 각 행별로 actual_cost 계산 후, 그 합계를 구하기\n",
        "merged_df['actual_cost'] = merged_df['total_cost'] - merged_df['transport_cost']\n",
        "individual_actual_cost_sum = merged_df['actual_cost'].sum()\n",
        "\n",
        "print(f\"각 행별 계산 후 합계: {individual_actual_cost_sum}\")"
      ],
      "metadata": {
        "id": "R5W2hy9dUsV5"
      },
      "execution_count": null,
      "outputs": []
    },
    {
      "cell_type": "code",
      "source": [
        "## actual_cost, cost_total, transport_cost 비교\n",
        "\n",
        "# 데이터 준비\n",
        "comparison_data = {\n",
        "    'Type': ['Actual Cost', 'Cost Total', 'Transport Cost'],\n",
        "    'Sum': [\n",
        "        merged_df['actual_cost'].sum(),\n",
        "        merged_df['total_cost'].sum(),\n",
        "        merged_df['transport_cost'].sum()\n",
        "    ]\n",
        "}\n",
        "\n",
        "df_comparison = pd.DataFrame(comparison_data)\n",
        "\n",
        "# 표시\n",
        "print(df_comparison)\n",
        "\n",
        "# 차트로 표시\n",
        "fig = px.bar(df_comparison, x='Type', y='Sum', title='비용 비교')\n",
        "fig.show()"
      ],
      "metadata": {
        "id": "NwVpq4tUUpq2"
      },
      "execution_count": null,
      "outputs": []
    },
    {
      "cell_type": "code",
      "source": [
        "## part별 actual_cost, cost_total, transport_cost 비교\n",
        "\n",
        "# part별로 데이터 집계\n",
        "part_comparison = merged_df.groupby('part').agg({\n",
        "    'actual_cost': 'sum',  # 각 행별로 계산된 actual_cost의 합계\n",
        "    'total_cost': 'sum',  # cost_total의 합계\n",
        "    'transport_cost': 'sum'  # transport_cost의 합계\n",
        "}).reset_index()\n",
        "\n",
        "# 표시\n",
        "print(part_comparison)\n",
        "\n",
        "# 차트로 표시\n",
        "import plotly.express as px\n",
        "\n",
        "fig = px.bar(part_comparison, x='part', y=['actual_cost', 'total_cost', 'transport_cost'], title='파트별 비용 비교', barmode='group')\n",
        "fig.update_layout(xaxis_title='Part', yaxis_title='Cost', legend_title='Cost Type')\n",
        "fig.show()"
      ],
      "metadata": {
        "id": "AbeScNEwms-Z"
      },
      "execution_count": null,
      "outputs": []
    },
    {
      "cell_type": "code",
      "source": [
        "# distance 범주 생성 (기존 코드 재사용)\n",
        "bins = [0, 1, 3, 5, 7, 10, 15, 20, 30, 40, float('inf')]\n",
        "labels = ['1 이하', '3 이하', '5 이하', '7 이하', '10 이하', '15 이하', '20 이하', '30 이하', '40 이하', '40 초과']\n",
        "df_rev['distance_category'] = pd.cut(df_rev['distance'], bins=bins, labels=labels)\n",
        "\n",
        "# 건당 비용 계산을 위한 집계\n",
        "distance_comparison_per_rid = df_rev.groupby('distance_category').agg(\n",
        "    rid_count=('rid', 'count'),\n",
        "    total_cost_sum=('total_transport_cost', 'sum'),\n",
        "    transport_cost_sum=('transport_cost', 'sum'),\n",
        ").reset_index()\n",
        "\n",
        "# 건당 비용 계산\n",
        "distance_comparison_per_rid['actual_cost_per_rid'] = (distance_comparison_per_rid['total_cost_sum'] - distance_comparison_per_rid['transport_cost_sum']) / distance_comparison_per_rid['rid_count']\n",
        "distance_comparison_per_rid['cost_total_per_rid'] = distance_comparison_per_rid['total_cost_sum'] / distance_comparison_per_rid['rid_count']\n",
        "distance_comparison_per_rid['transport_cost_per_rid'] = distance_comparison_per_rid['transport_cost_sum'] / distance_comparison_per_rid['rid_count']\n",
        "\n",
        "# 건당 비용 데이터 확인\n",
        "print(distance_comparison_per_rid)\n",
        "\n",
        "# 거리 범주별 비용 비교 차트 생성\n",
        "fig = px.bar(distance_comparison_per_rid, x='distance_category',\n",
        "             y=['actual_cost_per_rid', 'cost_total_per_rid', 'transport_cost_per_rid'],\n",
        "             title='거리 범주별 건당 비용 비교',\n",
        "             labels={'value': 'Cost per Reservation', 'variable': 'Cost Type'},\n",
        "             barmode='group')\n",
        "\n",
        "fig.update_xaxes(title_text='Distance Category')\n",
        "fig.update_yaxes(title_text='Cost per Reservation')\n",
        "fig.show()"
      ],
      "metadata": {
        "id": "Ucdcm2OihaLQ"
      },
      "execution_count": null,
      "outputs": []
    },
    {
      "cell_type": "code",
      "source": [
        "\n",
        "## df_rev 이용, way와 distance 범주별 actual_cost, cost_total, transport_cost 비교\n",
        "\n",
        "# distance 범주 생성\n",
        "bins = [0, 1, 3, 5, 7, 10, 15, 20, 30, 40, float('inf')]\n",
        "labels = ['1 이하', '3 이하', '5 이하', '7 이하', '10 이하', '15 이하', '20 이하', '30 이하', '40 이하', '40 초과']\n",
        "df_rev['distance_category'] = pd.cut(df_rev['distance'], bins=bins, labels=labels)\n",
        "\n",
        "# 범주별로 데이터 집계\n",
        "distance_comparison = df_rev.groupby('distance_category').agg({\n",
        "    'total_transport_cost': 'sum',\n",
        "    'transport_cost': 'sum',\n",
        "}).reset_index()\n",
        "\n",
        "# actual_cost 계산\n",
        "distance_comparison['actual_cost'] = distance_comparison['total_transport_cost'] - distance_comparison['transport_cost']\n",
        "\n",
        "# 표시\n",
        "print(distance_comparison)\n",
        "\n",
        "# 차트로 표시\n",
        "fig = px.bar(distance_comparison, x='distance_category', y=['actual_cost', 'total_transport_cost', 'transport_cost'], title='거리 범주별 비용 비교')\n",
        "fig.show()"
      ],
      "metadata": {
        "id": "dhmGCbp1ms7J"
      },
      "execution_count": null,
      "outputs": []
    },
    {
      "cell_type": "markdown",
      "source": [
        "운영: 예약타입별 비중, 차종별 운영 비중\n",
        "\n",
        "- 전체 예약타입별 예약시간 비중\n",
        "  - 지역별 예약타입별 예약시간 비중\n",
        "    - 존별 예약타입별 예약시간 비중\n",
        "- 전체 차종별 운영 비중\n",
        "  - 지역별 예약타입별 운영대수 비중\n",
        "    - 존별 예약타입별 운영대수 비중"
      ],
      "metadata": {
        "id": "JFg801SHfqPf"
      }
    },
    {
      "cell_type": "code",
      "source": [
        "## 제주도 전체의 부름 이용시간 비중\n",
        "\n",
        "total_d2d_dur_portion = merged_df['d2d_dur'].sum() / merged_df['dur'].sum()\n",
        "print(f\"제주도 전체의 부름 이용시간 비중: {total_d2d_dur_portion:.2%}\")"
      ],
      "metadata": {
        "id": "76s_EBMJrSrh"
      },
      "execution_count": null,
      "outputs": []
    },
    {
      "cell_type": "code",
      "source": [
        "## 파트별 부름 이용시간 비중\n",
        "\n",
        "part_d2d_dur_portion = merged_df.groupby('part').apply(lambda x: x['d2d_dur'].sum() / x['dur'].sum()).reset_index(name='d2d_dur_portion')\n",
        "\n",
        "# 표 출력\n",
        "print(part_d2d_dur_portion)\n",
        "\n",
        "# 차트 출력\n",
        "import plotly.express as px\n",
        "\n",
        "fig = px.bar(part_d2d_dur_portion, x='part', y='d2d_dur_portion', title='파트별 부름 이용시간 비중')\n",
        "fig.show()"
      ],
      "metadata": {
        "id": "i-vivHj9rSpK"
      },
      "execution_count": null,
      "outputs": []
    },
    {
      "cell_type": "code",
      "source": [
        "## 파트별 margin.sum() 계산\n",
        "\n",
        "part_margin_sum = merged_df.groupby('part').agg(\n",
        "    margin_sum=('margin', 'sum')\n",
        ").reset_index()"
      ],
      "metadata": {
        "id": "pmPPkqr6rSme"
      },
      "execution_count": null,
      "outputs": []
    },
    {
      "cell_type": "code",
      "source": [
        "# 파트별 margin 합계를 시각화하는 차트\n",
        "fig = px.bar(part_margin_sum, x='part', y='margin_sum', title='파트별 Margin 합계 비교', labels={'margin_sum': 'Margin 합계', 'part': 'Part'})\n",
        "fig.show()"
      ],
      "metadata": {
        "id": "QP_MqeDlrSjg"
      },
      "execution_count": null,
      "outputs": []
    },
    {
      "cell_type": "code",
      "source": [
        "## 건당 마진\n",
        "\n",
        "part_margin_per_rev = merged_df.groupby('part').agg(\n",
        "    total_margin=('margin', 'sum'),\n",
        "    total_revs=('rev_cnt', 'sum')\n",
        ").reset_index()\n",
        "\n",
        "# 건당 마진 계산\n",
        "part_margin_per_rev['margin_per_rev'] = part_margin_per_rev['total_margin'] / part_margin_per_rev['total_revs']\n",
        "\n",
        "# 결과 표시\n",
        "print(part_margin_per_rev[['part', 'margin_per_rev']])"
      ],
      "metadata": {
        "id": "H0J2GpTNrSgO"
      },
      "execution_count": null,
      "outputs": []
    },
    {
      "cell_type": "code",
      "source": [
        "# 차트로 결과 표시\n",
        "fig = px.bar(part_margin_per_rev, x='part', y='margin_per_rev', title='파트별 건당 마진 비교', labels={'margin_per_rev': '건당 마진', 'part': '파트'})\n",
        "fig.update_layout(xaxis_title='파트', yaxis_title='건당 마진', xaxis={'categoryorder':'total descending'})\n",
        "fig.show()"
      ],
      "metadata": {
        "id": "hHnG9RWyrSVL"
      },
      "execution_count": null,
      "outputs": []
    },
    {
      "cell_type": "code",
      "source": [
        "## Zone별 d2d_dur_portion의 분포도\n",
        "\n",
        "fig = px.histogram(merged_df, x='d2d_dur_portion', nbins=30, title='Zone별 부름 이용시간 비중 분포도')\n",
        "fig.show()"
      ],
      "metadata": {
        "id": "rTVrehwurSSq"
      },
      "execution_count": null,
      "outputs": []
    },
    {
      "cell_type": "code",
      "source": [
        "## Zone별 d2d_dur_portion 상위 및 하위 Top 10\n",
        "\n",
        "# 상위 Top 10\n",
        "top_d2d_dur_portion = merged_df.nlargest(10, 'd2d_dur_portion')\n",
        "\n",
        "# 하위 Top 10\n",
        "bottom_d2d_dur_portion = merged_df.nsmallest(10, 'd2d_dur_portion')\n",
        "\n",
        "# 상위 Top 10 차트\n",
        "fig_top = px.bar(top_d2d_dur_portion, x='zname_x', y='d2d_dur_portion', title='상위 Top 10 Zone의 부름 이용시간 비중')\n",
        "fig_top.show()\n",
        "\n",
        "# 하위 Top 10 차트\n",
        "fig_bottom = px.bar(bottom_d2d_dur_portion, x='zname_x', y='d2d_dur_portion', title='하위 Top 10 Zone의 부름 이용시간 비중')\n",
        "fig_bottom.show()"
      ],
      "metadata": {
        "id": "Pj7FE7HLrSQS"
      },
      "execution_count": null,
      "outputs": []
    },
    {
      "cell_type": "code",
      "source": [
        "## 상위, 하위 Top 10 margin 비교\n",
        "\n",
        "top_10_zids = merged_df.nlargest(10, 'd2d_dur_portion')['zid'].tolist()\n",
        "bottom_10_zids = merged_df.nsmallest(10, 'd2d_dur_portion')['zid'].tolist()\n",
        "\n",
        "# 상위 Top 10과 하위 Top 10의 데이터 필터링 및 margin.sum() 계산\n",
        "top_bottom_margin_sum = merged_df[merged_df['zid'].isin(top_10_zids + bottom_10_zids)].groupby(['zid', 'zname_x']).agg(\n",
        "    margin_sum=('margin', 'sum')\n",
        ").reset_index()\n",
        "\n",
        "# 상위와 하위를 구분하는 플래그 추가\n",
        "top_bottom_margin_sum['Zone Type'] = top_bottom_margin_sum['zid'].apply(lambda x: 'Top 10' if x in top_10_zids else 'Bottom 10')"
      ],
      "metadata": {
        "id": "epo6hOPhrSNr"
      },
      "execution_count": null,
      "outputs": []
    },
    {
      "cell_type": "code",
      "source": [
        "# 표로 결과 출력\n",
        "print(top_bottom_margin_sum)\n",
        "\n",
        "# 차트로 결과 표시\n",
        "fig = px.bar(top_bottom_margin_sum, x='zname_x', y='margin_sum', color='Zone Type', title='Top 10 vs Bottom 10 Zones Margin Sum Comparison', labels={'zname_x': 'Zone Name', 'margin_sum': 'Margin Sum'})\n",
        "fig.update_xaxes(categoryorder='total descending')\n",
        "fig.show()"
      ],
      "metadata": {
        "id": "ZBqSHMdnrSKy"
      },
      "execution_count": null,
      "outputs": []
    },
    {
      "cell_type": "code",
      "source": [
        "## 제주 전체의 부름 운영 비중\n",
        "\n",
        "total_d2d_op_portion = merged_df['d2d_cnt'].sum() / merged_df['total_cnt'].sum()\n",
        "print(f\"제주 전체의 부름 운영 비중: {total_d2d_op_portion:.2%}\")"
      ],
      "metadata": {
        "id": "akUH5usLsd7F"
      },
      "execution_count": null,
      "outputs": []
    },
    {
      "cell_type": "code",
      "source": [
        "##  Part별 부름 운영 비중\n",
        "\n",
        "part_d2d_op_portion = merged_df.groupby('part').apply(lambda x: x['d2d_cnt'].sum() / x['total_cnt'].sum()).reset_index(name='d2d_op_portion')\n",
        "\n",
        "# 표 출력\n",
        "print(part_d2d_op_portion)\n",
        "\n",
        "# 차트 출력\n",
        "fig = px.bar(part_d2d_op_portion, x='part', y='d2d_op_portion', text=\"d2d_op_portion\", title='Part별 부름 운영 비중')\n",
        "fig.show()"
      ],
      "metadata": {
        "id": "o_He4PeJsd4C"
      },
      "execution_count": null,
      "outputs": []
    },
    {
      "cell_type": "code",
      "source": [
        "## 상위 Top 10 Zone의 d2d_op_portion과 d2d_dur_portion 비교\n",
        "\n",
        "# 상위 Top 10의 zone만 필터링\n",
        "top_zones = top_d2d_dur_portion['zid']\n",
        "comparison_top_zones = merged_df[merged_df['zid'].isin(top_zones)]\n",
        "\n",
        "# 비교 표 및 차트\n",
        "comparison_fig = px.bar(comparison_top_zones, x='zname_x', y=['d2d_op_portion', 'd2d_dur_portion'], title='상위 Top 10 Zone의 부름 운영 비중과 부름 이용시간 비중 비교')\n",
        "comparison_fig.show()"
      ],
      "metadata": {
        "id": "duDfVIUssd1N"
      },
      "execution_count": null,
      "outputs": []
    },
    {
      "cell_type": "code",
      "source": [
        "## 후보류 비중\n",
        "\n",
        "total_handle_rev = merged_df['handle_rev'].sum()\n",
        "total_local_rev = merged_df['local_rev'].sum()\n",
        "total_candidate_ratio = total_local_rev / (total_handle_rev + total_local_rev)\n",
        "\n",
        "# \"후보류 비중\" 표 출력\n",
        "print(f\"후보류 비중: {total_candidate_ratio:.2%}\")"
      ],
      "metadata": {
        "id": "oOZxxpLqsdyS"
      },
      "execution_count": null,
      "outputs": []
    },
    {
      "cell_type": "code",
      "source": [
        "## 파트별 후보류 비중\n",
        "\n",
        "# 파트별 후보류 비중 계산\n",
        "part_candidate_ratio = merged_df.groupby('part').apply(lambda x: x['local_rev'].sum() / (x['handle_rev'].sum() + x['local_rev'].sum())).reset_index(name='candidate_ratio')\n",
        "\n",
        "# 표 출력\n",
        "print(part_candidate_ratio)\n",
        "\n",
        "# 차트 출력\n",
        "import plotly.express as px\n",
        "fig = px.bar(part_candidate_ratio, x='part', y='candidate_ratio', title='파트별 후보류 비중', labels={'candidate_ratio': '후보류 비중', 'part': '파트'})\n",
        "fig.update_layout(xaxis_title='파트', yaxis_title='후보류 비중')\n",
        "fig.show()"
      ],
      "metadata": {
        "id": "dtJCpA6BsdvQ"
      },
      "execution_count": null,
      "outputs": []
    },
    {
      "cell_type": "code",
      "source": [
        "## Zone별 후보류 비중\n",
        "\n",
        "# Zone별 후보류 비중 계산\n",
        "zone_candidate_ratio = merged_df.groupby(['zid', 'zname_x']).apply(lambda x: x['local_rev'].sum() / (x['handle_rev'].sum() + x['local_rev'].sum())).reset_index(name='candidate_ratio')\n",
        "\n",
        "# 표 출력\n",
        "print(zone_candidate_ratio)\n",
        "\n",
        "# 차트 출력\n",
        "fig_zone = px.bar(zone_candidate_ratio, x='zname_x', y='candidate_ratio', title='Zone별 후보류 비중', labels={'candidate_ratio': '후보류 비중', 'zname_x': 'Zone'})\n",
        "fig_zone.update_layout(xaxis_title='Zone', yaxis_title='후보류 비중', xaxis={'categoryorder':'total descending'})\n",
        "fig_zone.show()"
      ],
      "metadata": {
        "id": "ReMo9gc3rSHz"
      },
      "execution_count": null,
      "outputs": []
    },
    {
      "cell_type": "markdown",
      "source": [],
      "metadata": {
        "id": "CvP7Of0kfqMs"
      }
    },
    {
      "cell_type": "markdown",
      "source": [],
      "metadata": {
        "id": "aSluEv26fqJ_"
      }
    },
    {
      "cell_type": "markdown",
      "source": [],
      "metadata": {
        "id": "XEzv7x_BfqHG"
      }
    },
    {
      "cell_type": "markdown",
      "source": [],
      "metadata": {
        "id": "JziI3G91fqDq"
      }
    },
    {
      "cell_type": "markdown",
      "source": [],
      "metadata": {
        "id": "6D9soIwgfqAk"
      }
    },
    {
      "cell_type": "markdown",
      "source": [],
      "metadata": {
        "id": "i-pNz45cfp9W"
      }
    },
    {
      "cell_type": "markdown",
      "source": [
        "#### 부름 호출지와 생성지\n",
        "- 부름 예약 생성위치\n",
        "- 부름 예약 호출지와 반납지\n",
        "- 존 편도 예약 호출지와 반납지\n",
        "- 존왕복 예약 생성위치\n",
        "- 존왕복 예약 호출지와 반납지"
      ],
      "metadata": {
        "id": "jsh_QVmR0lpy"
      }
    },
    {
      "cell_type": "code",
      "source": [
        "query = \"\"\"\n",
        "  SELECT\n",
        "      scParentId as rid,\n",
        "      r.way,\n",
        "\n",
        "      -- hr.startlng, hr.startlat,\n",
        "      rv.dtod_start_lng as start_lng,\n",
        "      rv.dtod_start_lat as start_lat,\n",
        "      CASE WHEN hr.startaddress1 LIKE '%제주시%' THEN  '제주시'\n",
        "            WHEN hr.startaddress1 LIKE '%서귀포시%' THEN  '서귀포시' END as start_city,\n",
        "\n",
        "      -- hr.endlng, hr.endlat,\n",
        "      rv.dtod_end_lng as end_lng,\n",
        "      rv.dtod_end_lat as end_lat,\n",
        "      CASE WHEN hr.endAddress1 LIKE '%제주시%' THEN  '제주시'\n",
        "            WHEN hr.endAddress1 LIKE '%서귀포시%' THEN  '서귀포시' END as end_city,\n",
        "\n",
        "      rv.reservation_created_lat as c_lat,\n",
        "      rv.reservation_created_lng as c_lng,\n",
        "\n",
        "  FROM `socar-data.handler_replica.socarhandler_reservation` hr\n",
        "  LEFT JOIN `tianjin_replica.reservation_info` r ON hr.scParentId = r.id\n",
        "  LEFT JOIN `tianjin_replica.carzone_info` z ON r.zone_id = z.id\n",
        "  LEFT JOIN `soda_store.reservation_v2` rv ON hr.scParentId = rv.reservation_id\n",
        "  WHERE TIMESTAMP_TRUNC(created, DAY) BETWEEN '2024-02-19' AND '2024-03-17'\n",
        "  AND z.region1 = '제주특별자치도'\n",
        "  AND hr.way IN ('d2d_export_h')\n",
        "  AND r.state IN (1, 2, 3)\n",
        "  AND dtod_start_lng is not null\n",
        "  AND dtod_end_lng is not null\n",
        "  AND reservation_created_lat is not null\n",
        "  AND reservation_created_lng is not null\n",
        "  AND r.member_imaginary IN (0, 9)\n",
        "  \"\"\"\n",
        "\n",
        "df = pd.io.gbq.read_gbq(\n",
        "    query=query,\n",
        "    project_id=\"socar-data\"\n",
        ")\n",
        "\n",
        "df.info()"
      ],
      "metadata": {
        "id": "qabfjR87z2Nb"
      },
      "execution_count": null,
      "outputs": []
    },
    {
      "cell_type": "code",
      "source": [
        "import folium\n",
        "\n",
        "# 지역(start_city)와 way의 조합으로 색상 맵핑 생성\n",
        "color_map = {\n",
        "    '서귀포시_d2d_round': 'blue',\n",
        "    '서귀포시_d2d_oneway': 'green',\n",
        "    '제주시_d2d_round': 'red',\n",
        "    '제주시_d2d_oneway': 'orange',\n",
        "    # 필요한 다른 조합도 여기에 추가...\n",
        "}\n",
        "\n",
        "# 지도의 초기 위치와 줌 설정하여 기본 지도 생성\n",
        "map = folium.Map(location=[df['c_lat'].mean(), df['c_lng'].mean()], zoom_start=10)\n",
        "\n",
        "# 데이터프레임을 순회하며 마커 추가\n",
        "for _, row in df.iterrows():\n",
        "    # 조합 키 생성\n",
        "    combo_key = f\"{row['start_city']}_{row['way']}\"\n",
        "\n",
        "    # color_map에서 해당 조합에 대한 색상을 가져옵니다.\n",
        "    marker_color = color_map.get(combo_key, 'gray')  # 조합 키가 color_map에 없는 경우 'gray'를 기본값으로 사용\n",
        "\n",
        "    # 마커 추가\n",
        "    folium.Marker(\n",
        "        location=[row['c_lat'], row['c_lng']],\n",
        "        popup=f\"{row['way']}: {row['start_city']}\",\n",
        "        icon=folium.Icon(color=marker_color)\n",
        "    ).add_to(map)\n",
        "\n",
        "# 지도 표시\n",
        "map"
      ],
      "metadata": {
        "id": "7uoqwFP30svE"
      },
      "execution_count": null,
      "outputs": []
    },
    {
      "cell_type": "code",
      "source": [
        "import geopandas as gpd\n",
        "from shapely.geometry import Point, Polygon\n",
        "import matplotlib.pyplot as plt\n",
        "import contextily as ctx\n",
        "\n",
        "# Geopandas GeoDataFrame 생성\n",
        "gdf = gpd.GeoDataFrame(df, geometry=gpd.points_from_xy(df.c_lng, df.c_lat))\n",
        "\n",
        "# 제주도 지도 범위를 정의 (예시 범위, 실제 데이터에 맞게 조정 필요)\n",
        "jeju_boundary = Polygon([(126.0, 33.0), (127.0, 33.0), (127.0, 34.0), (126.0, 34.0)])\n",
        "\n",
        "# 제주도 지역만 포함하는 데이터 필터링\n",
        "gdf = gdf[gdf.geometry.within(jeju_boundary)]\n",
        "\n",
        "# 시각화 (예시 코드, 실제 요구사항에 맞게 조정 필요)\n",
        "fig, ax = plt.subplots(figsize=(10, 10))\n",
        "gdf.plot(ax=ax, markersize=5)  # 각 포인트를 플롯\n",
        "ctx.add_basemap(ax, crs='EPSG:4326')  # 배경 지도 추가 (CRS 명시)\n",
        "plt.show()"
      ],
      "metadata": {
        "id": "2htwTyHs0uqv"
      },
      "execution_count": null,
      "outputs": []
    },
    {
      "cell_type": "code",
      "source": [
        "## 차량 호출지역\n",
        "# 지역(start_city)와 way의 조합으로 색상 맵핑 생성\n",
        "color_map = {\n",
        "    '서귀포시_d2d_round': 'blue',\n",
        "    '서귀포시_d2d_oneway': 'green',\n",
        "    '제주시_d2d_round': 'red',\n",
        "    '제주시_d2d_oneway': 'orange',\n",
        "    # 필요한 다른 조합도 여기에 추가...\n",
        "}\n",
        "\n",
        "# 지도의 초기 위치와 줌 설정하여 기본 지도 생성\n",
        "map = folium.Map(location=[df['start_lat'].mean(), df['start_lng'].mean()], zoom_start=10)\n",
        "\n",
        "# 데이터프레임을 순회하며 마커 추가\n",
        "for _, row in df.iterrows():\n",
        "    # 조합 키 생성\n",
        "    combo_key = f\"{row['start_city']}_{row['way']}\"\n",
        "\n",
        "    # color_map에서 해당 조합에 대한 색상을 가져옵니다.\n",
        "    marker_color = color_map.get(combo_key, 'gray')  # 조합 키가 color_map에 없는 경우 'gray'를 기본값으로 사용\n",
        "\n",
        "    # 마커 추가\n",
        "    folium.Marker(\n",
        "        location=[row['start_lat'], row['start_lng']],\n",
        "        popup=f\"{row['way']}: {row['start_city']}\",\n",
        "        icon=folium.Icon(color=marker_color)\n",
        "    ).add_to(map)\n",
        "\n",
        "# 지도 표시\n",
        "map"
      ],
      "metadata": {
        "id": "0AAAYua20yFf"
      },
      "execution_count": null,
      "outputs": []
    },
    {
      "cell_type": "code",
      "source": [],
      "metadata": {
        "id": "B6uUimUG00Yr"
      },
      "execution_count": null,
      "outputs": []
    },
    {
      "cell_type": "markdown",
      "source": [
        "#### 핸들 운행율 - 배반 안정성"
      ],
      "metadata": {
        "id": "sTDwMMKk03dG"
      }
    },
    {
      "cell_type": "code",
      "source": [
        "query = \"\"\"\n",
        "  WITH base AS (\n",
        "    SELECT\n",
        "      region2,\n",
        "\n",
        "      case when zone_id IN (1095, 9890) then 'air'\n",
        "          when zone_id in (17209) then 'air_infront' else region2 end as part,\n",
        "\n",
        "      r.id AS rid, /* 옥스트라 예약번호 */\n",
        "      r.state, /* 핸들의 상태값 0:취소, 3:완료 */\n",
        "      hh.userId AS handler_num, /* 핸들러 회원번호 */\n",
        "      CASE WHEN r.member_id = 3806971 THEN '핸들러'\n",
        "          WHEN r.member_id = 52846 THEN '탁송업체' END AS member_type, /* 핸들러/탁송업체 운행 구분 */\n",
        "\n",
        "      CASE WHEN r.way = 'd2d_export_h' THEN '부름(배차)'\n",
        "          WHEN r.way = 'd2d_import_h' THEN '부름(반차)'\n",
        "          WHEN r.way = 'd2d_oneway' THEN '부름편도'\n",
        "          WHEN r.way = 'd2d_rev' THEN '부름(진행전)'\n",
        "          WHEN r.way = 'd2d_round' THEN '부름왕복'\n",
        "          WHEN r.way = 'handle' THEN '핸들'\n",
        "          WHEN r.way = 'oneway' THEN '편도'\n",
        "          WHEN r.way = 'oneway_float' THEN '편도(플로팅)'\n",
        "          WHEN r.way = 'return' THEN '회송'\n",
        "          WHEN r.way = 'return_h' THEN '회송(핸들)'\n",
        "          WHEN r.way = 'round' THEN '왕복'\n",
        "          WHEN r.way = 'z2d_oneway' THEN '존편도' END as way,\n",
        "\n",
        "      date(r.start_at, \"Asia/Seoul\") as date,\n",
        "      date(ifnull(r.reserved_end_at, r.end_at), \"Asia/Seoul\") as return_at,\n",
        "\n",
        "      con.memo as memo, /* 핸들러 미매칭으로 탁송전환 된 건인지 확인 용도 */\n",
        "\n",
        "      cz.address /* 쏘카존의 주소, region으로 구분하기 어려운 지역 구분 용도 */\n",
        "      ,r.way as parent_way,\n",
        "      timestamp_diff(hr.onboardat, hr.openat, minute) as dur\n",
        "\n",
        "    FROM `socar-data.tianjin_replica.reservation_info` AS r\n",
        "    LEFT JOIN `socar-handler.handler_replica.socarhandler_reservation` AS hr /* 핸들러 예약 테이블 (핸들러 배정된 내역만 적재) */\n",
        "    ON hr.scReservationId = r.id\n",
        "    LEFT JOIN `socar-handler.handler_replica.socarhandler_handle` AS hh /* 핸들별 추가 정보용 테이블 (핸들러 배정된 내역만 적재) */\n",
        "    ON hh.reservationId = hr.reservationId\n",
        "    LEFT JOIN `socar-data.tianjin_replica.carzone_info` AS cz\n",
        "    ON cz.id = r.zone_id\n",
        "    LEFT JOIN (SELECT *\n",
        "                FROM `socar-data.tianjin_replica.reservation_memo`\n",
        "                WHERE memo LIKE '%판매대기 제한시간%') AS con /* 옥스트라 예약메모 추출 (특정 문구가 포함된 건들을 탁송업체 전환이라고 보기 위함) */\n",
        "    ON con.info_key = r.id\n",
        "    WHERE r.way in ('d2d_export_h','d2d_import_h','handle') /* d2d_export_h 반차: d2d_import_h 이벤트핸들: handle */\n",
        "    AND r.state in (3,0) /* 완료&취소 핸들 집계 */\n",
        "    AND DATETIME(r.start_at,'Asia/Seoul') BETWEEN '2024-02-19' AND '2024-03-17'\n",
        "    AND (r.member_id = 3806971 OR (r.member_id = 52846 AND con.memo IS NOT NULL))\n",
        "    AND cz.region1 = '제주특별자치도'\n",
        "  ),\n",
        "\n",
        "  handle_calc AS (\n",
        "    SELECT\n",
        "      date, part,\n",
        "      count(CASE WHEN way LIKE '%부름%' THEN rid END) as rev_total,\n",
        "      count(CASE WHEN member_type = '핸들러' AND way LIKE \"%부름%\" THEN rid END) as handle_cnt,\n",
        "      count(CASE WHEN member_type = '탁송업체' AND way LIKE \"%부름%\" THEN rid END) as local_cnt,\n",
        "      count(CASE WHEN base.state = 0 AND way LIKE \"%부름%\" THEN rid END) as cancel_cnt,\n",
        "      avg(dur) as d_minute,\n",
        "\n",
        "    FROM base\n",
        "    GROUP BY date, part\n",
        "  )\n",
        "\n",
        "  SELECT\n",
        "    extract(isoweek FROM date) as week,\n",
        "    extract(month FROM date) as month,\n",
        "    extract(year FROM date) as year,\n",
        "\n",
        "    CASE WHEN  extract(month FROM date) IN (1, 2, 3) THEN '1Q'\n",
        "        WHEN  extract(month FROM date) IN (4, 5, 6) THEN '2Q'\n",
        "        WHEN  extract(month FROM date) IN (7, 8, 9) THEN '3Q' ELSE '4Q' END as q,\n",
        "\n",
        "    hc.date,\n",
        "    hc.part,\n",
        "\n",
        "    hc.rev_total,\n",
        "    hc.handle_cnt,\n",
        "    hc.local_cnt,\n",
        "\n",
        "\n",
        "    -- round(hc.handle_cnt/hc.rev_total, 2) as hanlde_rate\n",
        "\n",
        "  FROM  handle_calc hc\n",
        "  ORDER BY date desc, part\n",
        "  \"\"\"\n",
        "\n",
        "df = pd.io.gbq.read_gbq(\n",
        "    query=query,\n",
        "    project_id=\"socar-data\"\n",
        ")\n",
        "\n",
        "df.info()"
      ],
      "metadata": {
        "id": "THCRay-5057j"
      },
      "execution_count": null,
      "outputs": []
    },
    {
      "cell_type": "code",
      "source": [
        "# handle_ratio 열 추가\n",
        "df['handle_ratio'] = df['handle_cnt'] / df['rev_total']\n",
        "# handle_ratio 열의 값을 소수점 2자리까지 반올림하여 표현\n",
        "df['handle_ratio'] = df['handle_ratio'].round(2)\n",
        "\n",
        "# 소수점 이하 2자리까지 표시하도록 출력 형식 설정\n",
        "pd.options.display.float_format = '{:.2f}'.format\n",
        "\n",
        "df.info()"
      ],
      "metadata": {
        "id": "2KaLKY3N09UQ"
      },
      "execution_count": null,
      "outputs": []
    },
    {
      "cell_type": "code",
      "source": [
        "# Part별 handle_ratio의 평균, 표준편차, 변동계수 계산\n",
        "summary_stats = df.groupby('part')['handle_ratio'].agg(['mean', 'std'])\n",
        "summary_stats['coefficient_of_variation'] = summary_stats['std'] / summary_stats['mean']  # 변동계수 계산\n",
        "\n",
        "# 데이터 프레임 변형\n",
        "melted_stats = summary_stats.reset_index().melt(id_vars='part', var_name='statistic', value_name='value')\n",
        "\n",
        "# 피라미드 차트 생성\n",
        "fig = px.bar(melted_stats,\n",
        "             x='value',\n",
        "             y='part',\n",
        "             color='statistic',\n",
        "             orientation='h',\n",
        "             title='Part별 handle_ratio의 평균, 표준편차, 변동계수',\n",
        "             labels={'value': '', 'part': 'Part', 'variable': 'Statistic'},\n",
        "             barmode='group',\n",
        "             height=600,\n",
        "             width=800,\n",
        "             category_orders={'part': summary_stats.index.tolist()}  # part 순서 지정\n",
        "             )\n",
        "\n",
        "# 레이아웃 업데이트\n",
        "fig.update_layout(legend_title_text=None)  # 범례 제목 숨김\n",
        "\n",
        "# 차트 출력\n",
        "fig.show()"
      ],
      "metadata": {
        "id": "Xl_oMeI90-ip"
      },
      "execution_count": null,
      "outputs": []
    },
    {
      "cell_type": "code",
      "source": [
        "# 제주시와 서귀포시에 해당하는 데이터 추출\n",
        "subset_df = df[df['part'].isin(['제주시', '서귀포시'])]\n",
        "\n",
        "# Part별 handle_ratio의 평균, 표준편차, 변동계수 계산\n",
        "summary_stats = subset_df.groupby('part')['handle_ratio'].agg(['mean', 'std'])\n",
        "summary_stats['coefficient_of_variation'] = summary_stats['std'] / summary_stats['mean']  # 변동계수 계산\n",
        "\n",
        "# 데이터 프레임 변형\n",
        "melted_stats = summary_stats.reset_index().melt(id_vars='part', var_name='statistic', value_name='value')\n",
        "\n",
        "# 피라미드 차트 생성\n",
        "fig = px.bar(melted_stats,\n",
        "             x='value',\n",
        "             y='part',\n",
        "             color='statistic',\n",
        "             orientation='h',\n",
        "             title='제주시 vs. 서귀포시: handle_ratio의 평균, 표준편차, 변동계수',\n",
        "             labels={'value': '', 'part': 'Part', 'variable': 'Statistic'},\n",
        "             barmode='group',\n",
        "             height=400,\n",
        "             width=800,\n",
        "             category_orders={'part': ['제주시', '서귀포시']}  # part 순서 지정\n",
        "             )\n",
        "\n",
        "# 레이아웃 업데이트\n",
        "fig.update_layout(legend_title_text=None)  # 범례 제목 숨김\n",
        "\n",
        "# 차트 출력\n",
        "fig.show()"
      ],
      "metadata": {
        "id": "rWh2duKg1BNa"
      },
      "execution_count": null,
      "outputs": []
    },
    {
      "cell_type": "code",
      "source": [
        "# 제주시와 서귀포시에 해당하는 데이터 추출\n",
        "subset_df = df[df['part'].isin(['제주시', '서귀포시'])]\n",
        "\n",
        "# Part별 handle_ratio의 평균, 표준편차, 변동계수 계산\n",
        "summary_stats = subset_df.groupby('part')['handle_ratio'].agg(['mean', 'std'])\n",
        "summary_stats['coefficient_of_variation'] = summary_stats['std'] / summary_stats['mean']  # 변동계수 계산\n",
        "\n",
        "# 제주시의 값을 음수로 변환하여 서귀포시와 함께 비교하기 위해 별도의 열 추가\n",
        "summary_stats['adjusted_mean'] = summary_stats.apply(lambda row: -row['mean'] if row.name == '제주시' else row['mean'], axis=1)\n",
        "\n",
        "# 데이터 프레임 변형\n",
        "melted_stats = summary_stats.reset_index().melt(id_vars='part', var_name='statistic', value_name='value')\n",
        "\n",
        "# 제주시의 값을 텍스트로 양수로 변환\n",
        "def custom_text(row):\n",
        "    if row['part'] == '제주시':\n",
        "        return str(-row['value'])\n",
        "    else:\n",
        "        return str(row['value'])\n",
        "\n",
        "melted_stats['text'] = melted_stats.apply(custom_text, axis=1)  # 텍스트 열 추가\n",
        "\n",
        "# 피라미드 차트 생성\n",
        "fig = px.bar(melted_stats,\n",
        "             x='value',\n",
        "             y='statistic',\n",
        "             color='part',\n",
        "             text='text',  # 텍스트 열 사용\n",
        "             orientation='h',\n",
        "             title='제주시 vs. 서귀포시: handle_ratio의 평균, 표준편차, 변동계수',\n",
        "             labels={'value': '', 'part': 'Part', 'variable': 'Statistic'},\n",
        "             barmode='group',\n",
        "             height=400,\n",
        "             width=800,\n",
        "             category_orders={'part': ['제주시', '서귀포시']}  # part 순서 지정\n",
        "             )\n",
        "\n",
        "# 레이아웃 업데이트\n",
        "fig.update_layout(legend_title_text=None)  # 범례 제목 숨김\n",
        "fig.update_traces(texttemplate='%{text:0.2f}', textposition='outside')\n",
        "# 차트 출력\n",
        "fig.show()"
      ],
      "metadata": {
        "id": "jPLntxEM1CRr"
      },
      "execution_count": null,
      "outputs": []
    },
    {
      "cell_type": "code",
      "source": [
        "# 제주시와 서귀포시에 해당하는 데이터 추출\n",
        "subset_df = df[df['part'].isin(['제주시', '서귀포시'])]\n",
        "\n",
        "# Part별 handle_ratio의 평균 계산\n",
        "summary_stats = subset_df.groupby('part')['handle_ratio'].mean().reset_index()\n",
        "\n",
        "# 제주시의 값을 음수로 변환하여 서귀포시와 함께 비교하기 위해 별도의 열 추가\n",
        "summary_stats['adjusted_mean'] = summary_stats.apply(lambda row: -row['handle_ratio'] if row['part'] == '제주시' else row['handle_ratio'], axis=1)\n",
        "\n",
        "# 피라미드 차트 생성\n",
        "fig = px.bar(summary_stats,\n",
        "             x='adjusted_mean',  # 조정된 평균값 사용\n",
        "             y='adjusted_mean',\n",
        "             color='part',\n",
        "             orientation='h',\n",
        "             title='제주시 vs. 서귀포시: handle_ratio의 평균',\n",
        "             labels={'adjusted_mean': '평균 handle_ratio', 'part': 'Part'},\n",
        "             height=400,\n",
        "             width=800\n",
        "             )\n",
        "\n",
        "# 레이아웃 업데이트\n",
        "fig.update_layout(legend_title_text=None)  # 범례 제목 숨김\n",
        "\n",
        "# 차트 출력\n",
        "fig.show()"
      ],
      "metadata": {
        "id": "hV4GxNR-1EBz"
      },
      "execution_count": null,
      "outputs": []
    },
    {
      "cell_type": "code",
      "source": [
        "# 제주시와 서귀포시에 해당하는 데이터 추출\n",
        "subset_df = df[df['part'].isin(['제주시', '서귀포시'])]\n",
        "\n",
        "# Part별 handle_ratio의 평균 계산\n",
        "summary_stats = subset_df.groupby('part')['handle_ratio'].mean().reset_index()\n",
        "\n",
        "# 제주시와 서귀포시를 하나의 그룹으로 묶음\n",
        "summary_stats['city'] = '제주시와 서귀포시'\n",
        "\n",
        "# 피라미드 차트 생성\n",
        "fig = px.bar(summary_stats,\n",
        "             x='handle_ratio',\n",
        "             y='city',\n",
        "             color='part',\n",
        "             orientation='h',\n",
        "             text='handle_ratio',\n",
        "             title='제주시 vs. 서귀포시: handle_ratio의 평균',\n",
        "             labels={'handle_ratio': '평균 handle_ratio', 'city': 'City'},\n",
        "             height=400,\n",
        "             width=800\n",
        "             )\n",
        "\n",
        "# 레이아웃 업데이트\n",
        "fig.update_layout(legend_title_text=None)  # 범례 제목 숨김\n",
        "fig.update_traces(texttemplate='%{text:0.2f}', textposition='inside')\n",
        "# 차트 출력\n",
        "fig.show()"
      ],
      "metadata": {
        "id": "-BHn5dHo1FMj"
      },
      "execution_count": null,
      "outputs": []
    },
    {
      "cell_type": "code",
      "source": [
        "# 제주시와 서귀포시에 해당하는 데이터 추출\n",
        "subset_df = df[df['part'].isin(['제주시', '서귀포시'])]\n",
        "\n",
        "# Part별 handle_ratio의 평균 계산\n",
        "summary_stats = subset_df.groupby('part')['handle_ratio'].std().reset_index()\n",
        "\n",
        "# 제주시와 서귀포시를 하나의 그룹으로 묶음\n",
        "summary_stats['city'] = '제주시와 서귀포시'\n",
        "\n",
        "# 피라미드 차트 생성\n",
        "fig = px.bar(summary_stats,\n",
        "             x='handle_ratio',\n",
        "             y='city',\n",
        "             color='part',\n",
        "             orientation='h',\n",
        "             text='handle_ratio',\n",
        "             title='제주시 vs. 서귀포시: handle_ratio의 표준편차',\n",
        "             labels={'handle_ratio': '평균 handle_ratio', 'city': 'City'},\n",
        "             height=400,\n",
        "             width=800\n",
        "             )\n",
        "\n",
        "# 레이아웃 업데이트\n",
        "fig.update_layout(legend_title_text=None)  # 범례 제목 숨김\n",
        "fig.update_traces(texttemplate='%{text:0.2f}', textposition='inside')\n",
        "# 차트 출력\n",
        "fig.show()"
      ],
      "metadata": {
        "id": "FK2bTOwr1H2k"
      },
      "execution_count": null,
      "outputs": []
    },
    {
      "cell_type": "code",
      "source": [
        "# 제주시와 서귀포시에 해당하는 데이터 추출\n",
        "subset_df = df[df['part'].isin(['제주시', '서귀포시'])]\n",
        "\n",
        "# Part별 handle_ratio의 변동계수 계산\n",
        "summary_stats = subset_df.groupby('part')['handle_ratio'].apply(lambda x: x.std() / x.mean()).reset_index()\n",
        "\n",
        "# 제주시와 서귀포시를 하나의 그룹으로 묶음\n",
        "summary_stats['city'] = '제주시와 서귀포시'\n",
        "\n",
        "# 피라미드 차트 생성\n",
        "fig = px.bar(summary_stats,\n",
        "             x='handle_ratio',\n",
        "             y='city',\n",
        "             color='part',\n",
        "             orientation='h',\n",
        "             text='handle_ratio',\n",
        "             title='제주시 vs. 서귀포시: handle_ratio의 변동계수',\n",
        "             labels={'handle_ratio': '변동계수 handle_ratio', 'city': 'City'},\n",
        "             height=400,\n",
        "             width=800\n",
        "             )\n",
        "\n",
        "# 레이아웃 업데이트\n",
        "fig.update_layout(legend_title_text=None)  # 범례 제목 숨김\n",
        "fig.update_traces(texttemplate='%{text:.2f}', textposition='inside')  # 텍스트 형식 및 위치 설정\n",
        "\n",
        "# 차트 출력\n",
        "fig.show()"
      ],
      "metadata": {
        "id": "CGi0p43O1Ljr"
      },
      "execution_count": null,
      "outputs": []
    },
    {
      "cell_type": "markdown",
      "source": [
        "#### 핸들 타입별 예약현황"
      ],
      "metadata": {
        "id": "dhcAMm4s1PKt"
      }
    },
    {
      "cell_type": "code",
      "source": [
        "query = \"\"\"\n",
        "  WITH base AS (\n",
        "    SELECT\n",
        "      CASE WHEN r.zone_id = 105 THEN 'air'\n",
        "           WHEN r.zone_id IN (17209, 19175) THEN 'air_infront'\n",
        "           ELSE r.region2 END as part,\n",
        "\n",
        "      r.date,\n",
        "      r.reservation_id as rid,\n",
        "      r.way,\n",
        "      r.dtod_start_lng, r.dtod_start_lat,\n",
        "      r.dtod_end_lng, r.dtod_end_lat,\n",
        "\n",
        "      r.reservation_created_lng as rc_lng,\n",
        "      r.reservation_created_lat as rc_lat,\n",
        "\n",
        "      SUBSTR(age_group, 4) as age_group,\n",
        "\n",
        "      -- 호출된 차량정보\n",
        "      r.car_id, cl.car_model,\n",
        "      z.id as zid, z.zone_name as zname,\n",
        "      z.lng as z_lng, z.lat as z_lat,\n",
        "\n",
        "      -- 핸들여부\n",
        "      CASE WHEN h.reservationId is null THEN 'Local' ELSE 'Handle' END as handle_type\n",
        "\n",
        "\n",
        "\n",
        "\n",
        "    FROM `soda_store.reservation_v2` r -- 예약정보\n",
        "    LEFT JOIN tianjin_replica.car_info c ON r.car_id = c.id -- 차량정보\n",
        "    LEFT JOIN `tianjin_replica.carzone_info` z ON c.zone_id = z.id -- 존 정보\n",
        "    LEFT JOIN tianjin_replica.car_class cl ON c.class_id = cl.id -- 차량모델 정보\n",
        "    LEFT JOIN `handler_replica.socarhandler_reservation` h ON r.reservation_id = h.scParentId -- 핸들 정보\n",
        "    WHERE r.date BETWEEN '2024-02-19' AND '2024-03-17'\n",
        "    AND r.region1 IN ('제주특별자치도') AND r.way != 'round'\n",
        "  )\n",
        "\n",
        "  SELECT *\n",
        "  FROM base\n",
        "  \"\"\"\n",
        "\n",
        "df2 = pd.io.gbq.read_gbq(\n",
        "    query=query,\n",
        "    project_id=\"socar-data\"\n",
        ")\n",
        "\n",
        "df2.info()"
      ],
      "metadata": {
        "id": "KJv0TW9N1KV_"
      },
      "execution_count": null,
      "outputs": []
    },
    {
      "cell_type": "code",
      "source": [
        "df2.isnull().sum()"
      ],
      "metadata": {
        "id": "zSIpTXVY1RLG"
      },
      "execution_count": null,
      "outputs": []
    },
    {
      "cell_type": "code",
      "source": [
        "# 제주도의 위도와 경도\n",
        "jeju_lat, jeju_lng = 33.5008, 126.5465\n",
        "\n",
        "\n",
        "# folium을 사용하여 지도 만들기\n",
        "m = folium.Map(location=[jeju_lat, jeju_lng], zoom_start=10)\n",
        "\n",
        "# handle_type에 따라 마커를 추가하는 함수\n",
        "def add_marker(row):\n",
        "    if row['handle_type'] == 'Handle':\n",
        "        color = 'blue'\n",
        "    else:\n",
        "        color = 'red'\n",
        "\n",
        "    folium.Marker(\n",
        "        location=[row['dtod_start_lat'], row['dtod_start_lng']],\n",
        "        popup=row['handle_type'],\n",
        "        icon=folium.Icon(color=color)\n",
        "    ).add_to(m)\n",
        "\n",
        "# 데이터프레임에 있는 각 행에 대해 함수를 적용하여 마커를 추가\n",
        "df2.apply(add_marker, axis=1)\n",
        "\n",
        "# 지도를 출력\n",
        "m"
      ],
      "metadata": {
        "id": "MQ1U-_mI1TuL"
      },
      "execution_count": null,
      "outputs": []
    },
    {
      "cell_type": "code",
      "source": [
        "# 제주도의 위도와 경도\n",
        "jeju_lat, jeju_lng = 33.5008, 126.5465\n",
        "\n",
        "\n",
        "# folium을 사용하여 지도 만들기\n",
        "m = folium.Map(location=[jeju_lat, jeju_lng], zoom_start=10)\n",
        "\n",
        "# handle_type에 따라 마커를 추가하는 함수\n",
        "def add_marker(row):\n",
        "    if row['handle_type'] == 'Handle':\n",
        "        color = 'blue'\n",
        "    else:\n",
        "        color = 'red'\n",
        "\n",
        "    folium.Marker(\n",
        "        location=[row['dtod_end_lat'], row['dtod_end_lng']],\n",
        "        popup=row['handle_type'],\n",
        "        icon=folium.Icon(color=color)\n",
        "    ).add_to(m)\n",
        "\n",
        "# 데이터프레임에 있는 각 행에 대해 함수를 적용하여 마커를 추가\n",
        "df2.apply(add_marker, axis=1)\n",
        "\n",
        "# 지도를 출력\n",
        "m"
      ],
      "metadata": {
        "id": "awSxPepU1aNg"
      },
      "execution_count": null,
      "outputs": []
    },
    {
      "cell_type": "markdown",
      "source": [
        "#### 부름 왕복, 부름 편도, 존 편도와 같은 way 타입에 따른 출발지와 도착지 비교"
      ],
      "metadata": {
        "id": "7cgiTRD_2GFW"
      }
    },
    {
      "cell_type": "code",
      "source": [
        "# 'way' 타입에 따른 저장\n",
        "df_d2d_one = df2[df2['way'] == 'd2d_oneway'].copy()\n",
        "df_d2d_round = df2[df2['way'] == 'd2d_round'].copy()\n",
        "df_z2d = df2[df2['way'] == 'z2d_oneway'].copy()"
      ],
      "metadata": {
        "id": "lxSH-Dla1dh3"
      },
      "execution_count": null,
      "outputs": []
    },
    {
      "cell_type": "code",
      "source": [
        "# 부름 편도 차량 호출 위치\n",
        "# 제주도의 위도와 경도\n",
        "jeju_lat, jeju_lng = 33.5008, 126.5465\n",
        "\n",
        "\n",
        "# folium을 사용하여 지도 만들기\n",
        "m = folium.Map(location=[jeju_lat, jeju_lng], zoom_start=10)\n",
        "\n",
        "# way와 handle_type에 따라 마커를 추가하는 함수\n",
        "def add_marker(row):\n",
        "    if row['way'] == 'd2d_oneway':\n",
        "        color = 'blue'\n",
        "    elif row['way'] == 'd2d_round':\n",
        "        color = 'red'\n",
        "    elif row['way'] == 'z2d_oneway':\n",
        "        color = 'green'\n",
        "    else:\n",
        "        color = 'black'  # 기타 경우\n",
        "\n",
        "    folium.Marker(\n",
        "        location=[row['dtod_start_lat'], row['dtod_start_lng']],\n",
        "        popup=row['handle_type'],\n",
        "        icon=folium.Icon(color=color)\n",
        "    ).add_to(m)\n",
        "\n",
        "# 데이터프레임에 있는 각 행에 대해 함수를 적용하여 마커를 추가\n",
        "df_d2d_one.apply(add_marker, axis=1)\n",
        "\n",
        "# 지도를 출력\n",
        "m"
      ],
      "metadata": {
        "id": "BC6tVrjD14ls"
      },
      "execution_count": null,
      "outputs": []
    },
    {
      "cell_type": "code",
      "source": [
        "## 부름 편도 출발지 히트맵\n",
        "# 제주도의 위도와 경도\n",
        "jeju_lat, jeju_lng = 33.5008, 126.5465\n",
        "\n",
        "# folium을 사용하여 지도 만들기\n",
        "m = folium.Map(location=[jeju_lat, jeju_lng], zoom_start=10)\n",
        "\n",
        "# 데이터프레임에서 지역별로 히트맵을 생성하기 위해 위치 데이터 추출\n",
        "locations = df_d2d_one[['dtod_start_lat', 'dtod_start_lng']].values\n",
        "\n",
        "# 히트맵 생성\n",
        "HeatMap(locations).add_to(m)\n",
        "\n",
        "# 지도를 출력\n",
        "m"
      ],
      "metadata": {
        "id": "-0elUpt42JoS"
      },
      "execution_count": null,
      "outputs": []
    },
    {
      "cell_type": "code",
      "source": [
        "# 부름 편도 차량 반납 위치\n",
        "# 제주도의 위도와 경도\n",
        "jeju_lat, jeju_lng = 33.5008, 126.5465\n",
        "\n",
        "\n",
        "# folium을 사용하여 지도 만들기\n",
        "m = folium.Map(location=[jeju_lat, jeju_lng], zoom_start=10)\n",
        "\n",
        "# way와 handle_type에 따라 마커를 추가하는 함수\n",
        "def add_marker(row):\n",
        "    if row['way'] == 'd2d_oneway':\n",
        "        color = 'blue'\n",
        "    elif row['way'] == 'd2d_round':\n",
        "        color = 'red'\n",
        "    elif row['way'] == 'z2d_oneway':\n",
        "        color = 'green'\n",
        "    else:\n",
        "        color = 'black'  # 기타 경우\n",
        "\n",
        "    folium.Marker(\n",
        "        location=[row['dtod_end_lat'], row['dtod_end_lng']],\n",
        "        popup=row['handle_type'],\n",
        "        icon=folium.Icon(color=color)\n",
        "    ).add_to(m)\n",
        "\n",
        "# 데이터프레임에 있는 각 행에 대해 함수를 적용하여 마커를 추가\n",
        "df_d2d_one.apply(add_marker, axis=1)\n",
        "\n",
        "# 지도를 출력\n",
        "m"
      ],
      "metadata": {
        "id": "RaydFkVy2LQi"
      },
      "execution_count": null,
      "outputs": []
    },
    {
      "cell_type": "code",
      "source": [
        "## 부름 편도 반납지 히트맵\n",
        "# 제주도의 위도와 경도\n",
        "jeju_lat, jeju_lng = 33.5008, 126.5465\n",
        "\n",
        "# folium을 사용하여 지도 만들기\n",
        "m = folium.Map(location=[jeju_lat, jeju_lng], zoom_start=10)\n",
        "\n",
        "# 데이터프레임에서 지역별로 히트맵을 생성하기 위해 위치 데이터 추출\n",
        "locations = df_d2d_one[['dtod_end_lat', 'dtod_end_lng']].values\n",
        "\n",
        "# 히트맵 생성\n",
        "HeatMap(locations).add_to(m)\n",
        "\n",
        "# 지도를 출력\n",
        "m"
      ],
      "metadata": {
        "id": "SQMBWzvA2NEH"
      },
      "execution_count": null,
      "outputs": []
    },
    {
      "cell_type": "code",
      "source": [
        "# 부름 왕복 차량 호출 위치\n",
        "# 제주도의 위도와 경도\n",
        "jeju_lat, jeju_lng = 33.5008, 126.5465\n",
        "\n",
        "\n",
        "# folium을 사용하여 지도 만들기\n",
        "m = folium.Map(location=[jeju_lat, jeju_lng], zoom_start=10)\n",
        "\n",
        "# way와 handle_type에 따라 마커를 추가하는 함수\n",
        "def add_marker(row):\n",
        "    if row['way'] == 'd2d_oneway':\n",
        "        color = 'blue'\n",
        "    elif row['way'] == 'd2d_round':\n",
        "        color = 'red'\n",
        "    elif row['way'] == 'z2d_oneway':\n",
        "        color = 'green'\n",
        "    else:\n",
        "        color = 'black'  # 기타 경우\n",
        "\n",
        "    folium.Marker(\n",
        "        location=[row['dtod_start_lat'], row['dtod_start_lng']],\n",
        "        popup=row['handle_type'],\n",
        "        icon=folium.Icon(color=color)\n",
        "    ).add_to(m)\n",
        "\n",
        "# 데이터프레임에 있는 각 행에 대해 함수를 적용하여 마커를 추가\n",
        "df_d2d_round.apply(add_marker, axis=1)\n",
        "\n",
        "# 지도를 출력\n",
        "m"
      ],
      "metadata": {
        "id": "HlrELGaU2ObD"
      },
      "execution_count": null,
      "outputs": []
    },
    {
      "cell_type": "code",
      "source": [
        "## 부름 왕복 출발지 히트맵\n",
        "# 제주도의 위도와 경도\n",
        "jeju_lat, jeju_lng = 33.5008, 126.5465\n",
        "\n",
        "# folium을 사용하여 지도 만들기\n",
        "m = folium.Map(location=[jeju_lat, jeju_lng], zoom_start=10)\n",
        "\n",
        "# 데이터프레임에서 지역별로 히트맵을 생성하기 위해 위치 데이터 추출\n",
        "locations = df_d2d_round[['dtod_start_lat', 'dtod_start_lng']].values\n",
        "\n",
        "# 히트맵 생성\n",
        "HeatMap(locations).add_to(m)\n",
        "\n",
        "# 지도를 출력\n",
        "m"
      ],
      "metadata": {
        "id": "6aHo1vcQ2QWu"
      },
      "execution_count": null,
      "outputs": []
    },
    {
      "cell_type": "code",
      "source": [
        "# 부름 왕복 차량 반납 위치\n",
        "# 제주도의 위도와 경도\n",
        "jeju_lat, jeju_lng = 33.5008, 126.5465\n",
        "\n",
        "\n",
        "# folium을 사용하여 지도 만들기\n",
        "m = folium.Map(location=[jeju_lat, jeju_lng], zoom_start=10)\n",
        "\n",
        "# way와 handle_type에 따라 마커를 추가하는 함수\n",
        "def add_marker(row):\n",
        "    if row['way'] == 'd2d_oneway':\n",
        "        color = 'blue'\n",
        "    elif row['way'] == 'd2d_round':\n",
        "        color = 'red'\n",
        "    elif row['way'] == 'z2d_oneway':\n",
        "        color = 'green'\n",
        "    else:\n",
        "        color = 'black'  # 기타 경우\n",
        "\n",
        "    folium.Marker(\n",
        "        location=[row['dtod_end_lat'], row['dtod_end_lng']],\n",
        "        popup=row['handle_type'],\n",
        "        icon=folium.Icon(color=color)\n",
        "    ).add_to(m)\n",
        "\n",
        "# 데이터프레임에 있는 각 행에 대해 함수를 적용하여 마커를 추가\n",
        "df_d2d_round.apply(add_marker, axis=1)\n",
        "\n",
        "# 지도를 출력\n",
        "m"
      ],
      "metadata": {
        "id": "eKtaSi3M2Rm1"
      },
      "execution_count": null,
      "outputs": []
    },
    {
      "cell_type": "code",
      "source": [
        "## 부름 왕복 반납지 히트맵\n",
        "# 제주도의 위도와 경도\n",
        "jeju_lat, jeju_lng = 33.5008, 126.5465\n",
        "\n",
        "# folium을 사용하여 지도 만들기\n",
        "m = folium.Map(location=[jeju_lat, jeju_lng], zoom_start=10)\n",
        "\n",
        "# 데이터프레임에서 지역별로 히트맵을 생성하기 위해 위치 데이터 추출\n",
        "locations = df_d2d_round[['dtod_end_lat', 'dtod_end_lng']].values\n",
        "\n",
        "# 히트맵 생성\n",
        "HeatMap(locations).add_to(m)\n",
        "\n",
        "# 지도를 출력\n",
        "m"
      ],
      "metadata": {
        "id": "OlZTEEz42TiM"
      },
      "execution_count": null,
      "outputs": []
    },
    {
      "cell_type": "code",
      "source": [
        "# 존편도 차량 호출지\n",
        "# 제주도의 위도와 경도\n",
        "jeju_lat, jeju_lng = 33.5008, 126.5465\n",
        "\n",
        "\n",
        "# folium을 사용하여 지도 만들기\n",
        "m = folium.Map(location=[jeju_lat, jeju_lng], zoom_start=10)\n",
        "\n",
        "# way와 handle_type에 따라 마커를 추가하는 함수\n",
        "def add_marker(row):\n",
        "    if row['way'] == 'd2d_oneway':\n",
        "        color = 'blue'\n",
        "    elif row['way'] == 'd2d_round':\n",
        "        color = 'red'\n",
        "    elif row['way'] == 'z2d_oneway':\n",
        "        color = 'green'\n",
        "    else:\n",
        "        color = 'black'  # 기타 경우\n",
        "\n",
        "    folium.Marker(\n",
        "        location=[row['dtod_start_lat'], row['dtod_start_lng']],\n",
        "        popup=row['handle_type'],\n",
        "        icon=folium.Icon(color=color)\n",
        "    ).add_to(m)\n",
        "\n",
        "# 데이터프레임에 있는 각 행에 대해 함수를 적용하여 마커를 추가\n",
        "df_z2d.apply(add_marker, axis=1)\n",
        "\n",
        "# 지도를 출력\n",
        "m"
      ],
      "metadata": {
        "id": "bch_mPKx2Usk"
      },
      "execution_count": null,
      "outputs": []
    },
    {
      "cell_type": "code",
      "source": [
        "## 존편도 출발지 히트맵\n",
        "# 제주도의 위도와 경도\n",
        "jeju_lat, jeju_lng = 33.5008, 126.5465\n",
        "\n",
        "# folium을 사용하여 지도 만들기\n",
        "m = folium.Map(location=[jeju_lat, jeju_lng], zoom_start=10)\n",
        "\n",
        "# 데이터프레임에서 지역별로 히트맵을 생성하기 위해 위치 데이터 추출\n",
        "locations = df_z2d[['dtod_start_lat', 'dtod_start_lng']].values\n",
        "\n",
        "# 히트맵 생성\n",
        "HeatMap(locations).add_to(m)\n",
        "\n",
        "# 지도를 출력\n",
        "m"
      ],
      "metadata": {
        "id": "xaNVamb-2Wox"
      },
      "execution_count": null,
      "outputs": []
    },
    {
      "cell_type": "code",
      "source": [
        "# 존편도 차량 반납지\n",
        "# 제주도의 위도와 경도\n",
        "jeju_lat, jeju_lng = 33.5008, 126.5465\n",
        "\n",
        "\n",
        "# folium을 사용하여 지도 만들기\n",
        "m = folium.Map(location=[jeju_lat, jeju_lng], zoom_start=10)\n",
        "\n",
        "# way와 handle_type에 따라 마커를 추가하는 함수\n",
        "def add_marker(row):\n",
        "    if row['way'] == 'd2d_oneway':\n",
        "        color = 'blue'\n",
        "    elif row['way'] == 'd2d_round':\n",
        "        color = 'red'\n",
        "    elif row['way'] == 'z2d_oneway':\n",
        "        color = 'green'\n",
        "    else:\n",
        "        color = 'black'  # 기타 경우\n",
        "\n",
        "    folium.Marker(\n",
        "        location=[row['dtod_end_lat'], row['dtod_end_lng']],\n",
        "        popup=row['handle_type'],\n",
        "        icon=folium.Icon(color=color)\n",
        "    ).add_to(m)\n",
        "\n",
        "# 데이터프레임에 있는 각 행에 대해 함수를 적용하여 마커를 추가\n",
        "df_z2d.apply(add_marker, axis=1)\n",
        "\n",
        "# 지도를 출력\n",
        "m"
      ],
      "metadata": {
        "id": "HN7XrxeB2X8y"
      },
      "execution_count": null,
      "outputs": []
    },
    {
      "cell_type": "code",
      "source": [
        "## 존편도 반납지 히트맵\n",
        "# 제주도의 위도와 경도\n",
        "jeju_lat, jeju_lng = 33.5008, 126.5465\n",
        "\n",
        "# folium을 사용하여 지도 만들기\n",
        "m = folium.Map(location=[jeju_lat, jeju_lng], zoom_start=10)\n",
        "\n",
        "# 데이터프레임에서 지역별로 히트맵을 생성하기 위해 위치 데이터 추출\n",
        "locations = df_z2d[['dtod_end_lat', 'dtod_end_lng']].values\n",
        "\n",
        "# 히트맵 생성\n",
        "HeatMap(locations).add_to(m)\n",
        "\n",
        "# 지도를 출력\n",
        "m"
      ],
      "metadata": {
        "id": "VeEKTXFH2Zj8"
      },
      "execution_count": null,
      "outputs": []
    },
    {
      "cell_type": "code",
      "source": [
        "# 제주도의 위도와 경도\n",
        "jeju_lat, jeju_lng = 33.5008, 126.5465\n",
        "\n",
        "\n",
        "# folium을 사용하여 지도 만들기\n",
        "m = folium.Map(location=[jeju_lat, jeju_lng], zoom_start=10)\n",
        "\n",
        "# way와 handle_type에 따라 마커를 추가하는 함수\n",
        "def add_marker(row):\n",
        "    if row['way'] == 'd2d_oneway':\n",
        "        color = 'blue'\n",
        "    elif row['way'] == 'd2d_round':\n",
        "        color = 'red'\n",
        "    elif row['way'] == 'z2d_oneway':\n",
        "        color = 'green'\n",
        "    else:\n",
        "        color = 'black'  # 기타 경우\n",
        "\n",
        "    folium.Marker(\n",
        "        location=[row['z_lat'], row['z_lng']],\n",
        "        popup=row['handle_type'],\n",
        "        icon=folium.Icon(color=color)\n",
        "    ).add_to(m)\n",
        "\n",
        "# 데이터프레임에 있는 각 행에 대해 함수를 적용하여 마커를 추가\n",
        "df2.apply(add_marker, axis=1)\n",
        "\n",
        "# 지도를 출력\n",
        "m"
      ],
      "metadata": {
        "id": "0RH_tkiJ2a4r"
      },
      "execution_count": null,
      "outputs": []
    },
    {
      "cell_type": "markdown",
      "source": [],
      "metadata": {
        "id": "tLBorjm-I0Ec"
      }
    },
    {
      "cell_type": "code",
      "source": [],
      "metadata": {
        "id": "J4IS0tGm2d0t"
      },
      "execution_count": null,
      "outputs": []
    }
  ]
}