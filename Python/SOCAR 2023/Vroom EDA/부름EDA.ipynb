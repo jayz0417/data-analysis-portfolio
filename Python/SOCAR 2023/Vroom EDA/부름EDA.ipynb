{
  "nbformat": 4,
  "nbformat_minor": 0,
  "metadata": {
    "colab": {
      "provenance": [],
      "toc_visible": true
    },
    "kernelspec": {
      "name": "python3",
      "display_name": "Python 3"
    },
    "language_info": {
      "name": "python"
    }
  },
  "cells": [
    {
      "cell_type": "markdown",
      "source": [
        "D2D (존편도/부름편도 / 부름)는 이익 증분에 도움을 주는가 ?\n",
        "\n",
        "1. 부름 예약은 실제로 사업 성장(매출 증대, 이익 개선)에 도움을 줄 수 있는가 ?\n",
        "* 제주 존 왕복 vs 부름 왕복\n",
        "* 내륙 존 왕복 vs 부름 왕복 VS 부름 편도 VS 존편도\n",
        "* 내륙(부산, 호남) 존 왕복 VS 부름 왕복 VS 부름 편도 VS 존편도\n",
        "\n",
        "2. 제주에 존 편도 / 부름 편도가 오픈된다면 매출 순증분액과 이익 증분액에 도움을 줄 수 있을 것인가\n",
        "* 제주 예상 건수와 매출\n",
        "\n",
        "3. 결론\n",
        "* 존 편도와 부름 편도를 오픈해야하는가 ?\n",
        "* 목표는 어느정도가 적정한가\n",
        "* 성과 측정 지표 수립 (왕복 건수 유지/운행 타입별 건수 전체 구성비, 순매출 증가액, 순이익 증가액, 핸들 운행률)\n",
        "\n",
        "---\n",
        "\n"
      ],
      "metadata": {
        "id": "LdSGLQrKsg8K"
      }
    },
    {
      "cell_type": "markdown",
      "source": [
        "# 부름 예약 EDA"
      ],
      "metadata": {
        "id": "lNUShfaSKNXb"
      }
    },
    {
      "cell_type": "markdown",
      "source": [
        "## 주요 명칭"
      ],
      "metadata": {
        "id": "5_8RwRVtKW8F"
      }
    },
    {
      "cell_type": "markdown",
      "source": [
        "## Summary"
      ],
      "metadata": {
        "id": "moUvNfg-Kg3v"
      }
    },
    {
      "cell_type": "markdown",
      "source": [
        "---\n",
        "## Part 1_ 1. 부름 예약은 실제로 사업 성장(매출 증대, 이익 개선)에 도움을 줄 수 있는가 ?\n",
        "* 제주 존 왕복 vs 부름 왕복\n",
        "* 내륙 존 왕복 vs 부름 왕복 VS 부름 편도 VS 존편도\n",
        "* 내륙(부산, 호남) 존 왕복 VS 부름 왕복 VS 부름 편도 VS 존편도"
      ],
      "metadata": {
        "id": "1mVbu53rucMm"
      }
    },
    {
      "cell_type": "markdown",
      "source": [
        "### 제주 존 왕복 vs 부름 왕복\n",
        "* 23년 1월 ~ 11월까지의 제주 실적 분석\n",
        "1. 타입별 예약 건수\n",
        "2. 타입별 GP ratio\n",
        "3. 타입별 건당 이용시간"
      ],
      "metadata": {
        "id": "CloGx0MducJH"
      }
    },
    {
      "cell_type": "markdown",
      "source": [
        "*데이터명세서"
      ],
      "metadata": {
        "id": "T_M05k1P216D"
      }
    },
    {
      "cell_type": "markdown",
      "source": [
        "# 필요한 라이브러리 준비 ⏳\n",
        "---"
      ],
      "metadata": {
        "id": "SC_98ctY2CtV"
      }
    },
    {
      "cell_type": "code",
      "source": [
        "import pandas as pd\n",
        "import numpy as np\n",
        "from plotnine import *\n",
        "import seaborn as sns\n",
        "import plotly.express as px\n",
        "\n",
        "import gspread\n",
        "from google.auth import default\n",
        "creds, _ = default()\n",
        "from gspread_dataframe import get_as_dataframe, set_with_dataframe\n",
        "\n",
        "from google.cloud import bigquery\n",
        "from oauth2client.client import GoogleCredentials\n",
        "\n",
        "gc = gspread.authorize(creds)"
      ],
      "metadata": {
        "id": "AfLeHxK22KTD"
      },
      "execution_count": null,
      "outputs": []
    },
    {
      "cell_type": "markdown",
      "source": [
        "### 필요한 데이터를 빅쿼리에 연동하여 가져옴\n",
        "* 23년 1월 ~11월"
      ],
      "metadata": {
        "id": "yP5d0IbN2ud8"
      }
    },
    {
      "cell_type": "code",
      "source": [
        "query = \"\"\"\n",
        "  SELECT\n",
        "      extract(year from date) as year\n",
        "      , extract(month from date) as month\n",
        "      , r.isoweek as isoweek\n",
        "      , CASE WHEN  extract(month FROM date) IN (1, 2, 3) THEN '1Q'\n",
        "            WHEN  extract(month FROM date) IN (4, 5, 6) THEN '2Q'\n",
        "            WHEN  extract(month FROM date) IN (7, 8, 9) THEN '3Q' ELSE '4Q' END as q\n",
        "      , r.way as way\n",
        "      , case when r.way IN (\"d2d_round\", \"d2d_oneway\") then 'd2d'\n",
        "            when r.way = \"z2d_oneway\" then \"z2d_oneway\" else 'round' end as way_g\n",
        "\n",
        "      , r.region1\n",
        "      , r.region2\n",
        "\n",
        "      , cl.car_model\n",
        "\n",
        "      , count(r.reservation_id) as nuse -- 예약건수\n",
        "      , sum(r.utime) as utime -- 이용시간\n",
        "\n",
        "      , sum(revenue) as revenue -- 회계매출\n",
        "      , sum(_rev_d2d) as _rev_d2d -- 부름매출(부름요금 + 편도요금)\n",
        "\n",
        "      , sum(contribution_margin) as margin -- 공헌이익\n",
        "\n",
        "  FROM `socar-data.soda_store.reservation_v2` r\n",
        "  LEFT JOIN socar-data.tianjin_replica.reservation_info i ON r.reservation_id = i.id\n",
        "  LEFT JOIN socar-data.tianjin_replica.reservation_dtod_info d ON r.reservation_id = d.reservation_id\n",
        "  LEFT JOIN `tianjin_replica.car_info` c ON r.car_id = c.id\n",
        "  LEFT JOIN `tianjin_replica.car_class` cl ON c.class_id = cl.id\n",
        "  WHERE 1=1\n",
        "  AND date BETWEEN '2023-01-01' AND '2023-11-30'\n",
        "  AND r.member_imaginary IN (0,9)\n",
        "  GROUP BY isoweek, date, way, way_g, month, region1, region2, car_model\n",
        "  ORDER BY isoweek, date, way, way_g, month, region1, region2, car_model\n",
        "  \"\"\"\n",
        "\n",
        "df = pd.io.gbq.read_gbq(\n",
        "    query=query,\n",
        "    project_id=\"socar-data\"\n",
        ")"
      ],
      "metadata": {
        "id": "O4UV4e5T2I2O"
      },
      "execution_count": null,
      "outputs": []
    },
    {
      "cell_type": "code",
      "source": [
        "df.info()"
      ],
      "metadata": {
        "colab": {
          "base_uri": "https://localhost:8080/"
        },
        "id": "QffQLYBh8IhM",
        "outputId": "7f010000-fd44-444c-b91b-c56b9612379c"
      },
      "execution_count": null,
      "outputs": [
        {
          "output_type": "stream",
          "name": "stdout",
          "text": [
            "<class 'pandas.core.frame.DataFrame'>\n",
            "RangeIndex: 793700 entries, 0 to 793699\n",
            "Data columns (total 14 columns):\n",
            " #   Column     Non-Null Count   Dtype  \n",
            "---  ------     --------------   -----  \n",
            " 0   year       793700 non-null  Int64  \n",
            " 1   month      793700 non-null  Int64  \n",
            " 2   isoweek    793700 non-null  Int64  \n",
            " 3   q          793700 non-null  object \n",
            " 4   way        793700 non-null  object \n",
            " 5   way_g      793700 non-null  object \n",
            " 6   region1    793700 non-null  object \n",
            " 7   region2    793700 non-null  object \n",
            " 8   car_model  793700 non-null  object \n",
            " 9   nuse       793700 non-null  Int64  \n",
            " 10  utime      793700 non-null  float64\n",
            " 11  revenue    793700 non-null  float64\n",
            " 12  _rev_d2d   793700 non-null  float64\n",
            " 13  margin     793700 non-null  float64\n",
            "dtypes: Int64(4), float64(4), object(6)\n",
            "memory usage: 87.8+ MB\n"
          ]
        }
      ]
    },
    {
      "cell_type": "code",
      "source": [
        "df.shape"
      ],
      "metadata": {
        "colab": {
          "base_uri": "https://localhost:8080/"
        },
        "id": "XuhNdLAo3gg6",
        "outputId": "12733208-a94f-41fb-d8fd-f72ba63c65dd"
      },
      "execution_count": null,
      "outputs": [
        {
          "output_type": "execute_result",
          "data": {
            "text/plain": [
              "(793700, 14)"
            ]
          },
          "metadata": {},
          "execution_count": 4
        }
      ]
    },
    {
      "cell_type": "code",
      "source": [
        "df.dtypes"
      ],
      "metadata": {
        "colab": {
          "base_uri": "https://localhost:8080/"
        },
        "id": "qJlTJUlt3hIW",
        "outputId": "34412e4b-3d14-4457-e1f9-4f357f7b804b"
      },
      "execution_count": null,
      "outputs": [
        {
          "output_type": "execute_result",
          "data": {
            "text/plain": [
              "year           Int64\n",
              "month          Int64\n",
              "isoweek        Int64\n",
              "q             object\n",
              "way           object\n",
              "way_g         object\n",
              "region1       object\n",
              "region2       object\n",
              "car_model     object\n",
              "nuse           Int64\n",
              "utime        float64\n",
              "revenue      float64\n",
              "_rev_d2d     float64\n",
              "margin       float64\n",
              "dtype: object"
            ]
          },
          "metadata": {},
          "execution_count": 5
        }
      ]
    },
    {
      "cell_type": "code",
      "source": [
        "pd.set_option('display.float_format', '{:1.0f}'.format)"
      ],
      "metadata": {
        "id": "dSerhuTc4BRl"
      },
      "execution_count": null,
      "outputs": []
    },
    {
      "cell_type": "code",
      "source": [
        "df.dtypes"
      ],
      "metadata": {
        "colab": {
          "base_uri": "https://localhost:8080/"
        },
        "id": "CW8TfMFG4DFs",
        "outputId": "0a606fe1-779e-474f-f841-cc186a328580"
      },
      "execution_count": null,
      "outputs": [
        {
          "output_type": "execute_result",
          "data": {
            "text/plain": [
              "year           Int64\n",
              "month          Int64\n",
              "isoweek        Int64\n",
              "q             object\n",
              "way           object\n",
              "way_g         object\n",
              "region1       object\n",
              "region2       object\n",
              "car_model     object\n",
              "nuse           Int64\n",
              "utime        float64\n",
              "revenue      float64\n",
              "_rev_d2d     float64\n",
              "margin       float64\n",
              "dtype: object"
            ]
          },
          "metadata": {},
          "execution_count": 7
        }
      ]
    },
    {
      "cell_type": "code",
      "source": [
        "df.describe()"
      ],
      "metadata": {
        "colab": {
          "base_uri": "https://localhost:8080/",
          "height": 300
        },
        "id": "6kezVj2E3jkw",
        "outputId": "74dc7532-9ff4-46d2-d682-47a13b64d2d8"
      },
      "execution_count": null,
      "outputs": [
        {
          "output_type": "execute_result",
          "data": {
            "text/plain": [
              "        year  month  isoweek   nuse  utime  revenue  _rev_d2d   margin\n",
              "count 793700 793700   793700 793700 793700   793700    793700   793700\n",
              "mean    2023      6       25      5     57   353373     10446   196326\n",
              "std        0      3       14      7    106   516297     20148   315751\n",
              "min     2023      1        1      1      0 -1447297         0 -4792110\n",
              "25%     2023      3       13      1      9    89658         0    39463\n",
              "50%     2023      6       26      2     27   189364         0    97452\n",
              "75%     2023      9       37      5     65   407501     18091   225748\n",
              "max     2023     11       52    118   3330 13927447    559092  9735737"
            ],
            "text/html": [
              "\n",
              "  <div id=\"df-688a696a-a591-4f1d-87f5-f476a9740f32\" class=\"colab-df-container\">\n",
              "    <div>\n",
              "<style scoped>\n",
              "    .dataframe tbody tr th:only-of-type {\n",
              "        vertical-align: middle;\n",
              "    }\n",
              "\n",
              "    .dataframe tbody tr th {\n",
              "        vertical-align: top;\n",
              "    }\n",
              "\n",
              "    .dataframe thead th {\n",
              "        text-align: right;\n",
              "    }\n",
              "</style>\n",
              "<table border=\"1\" class=\"dataframe\">\n",
              "  <thead>\n",
              "    <tr style=\"text-align: right;\">\n",
              "      <th></th>\n",
              "      <th>year</th>\n",
              "      <th>month</th>\n",
              "      <th>isoweek</th>\n",
              "      <th>nuse</th>\n",
              "      <th>utime</th>\n",
              "      <th>revenue</th>\n",
              "      <th>_rev_d2d</th>\n",
              "      <th>margin</th>\n",
              "    </tr>\n",
              "  </thead>\n",
              "  <tbody>\n",
              "    <tr>\n",
              "      <th>count</th>\n",
              "      <td>793700</td>\n",
              "      <td>793700</td>\n",
              "      <td>793700</td>\n",
              "      <td>793700</td>\n",
              "      <td>793700</td>\n",
              "      <td>793700</td>\n",
              "      <td>793700</td>\n",
              "      <td>793700</td>\n",
              "    </tr>\n",
              "    <tr>\n",
              "      <th>mean</th>\n",
              "      <td>2023</td>\n",
              "      <td>6</td>\n",
              "      <td>25</td>\n",
              "      <td>5</td>\n",
              "      <td>57</td>\n",
              "      <td>353373</td>\n",
              "      <td>10446</td>\n",
              "      <td>196326</td>\n",
              "    </tr>\n",
              "    <tr>\n",
              "      <th>std</th>\n",
              "      <td>0</td>\n",
              "      <td>3</td>\n",
              "      <td>14</td>\n",
              "      <td>7</td>\n",
              "      <td>106</td>\n",
              "      <td>516297</td>\n",
              "      <td>20148</td>\n",
              "      <td>315751</td>\n",
              "    </tr>\n",
              "    <tr>\n",
              "      <th>min</th>\n",
              "      <td>2023</td>\n",
              "      <td>1</td>\n",
              "      <td>1</td>\n",
              "      <td>1</td>\n",
              "      <td>0</td>\n",
              "      <td>-1447297</td>\n",
              "      <td>0</td>\n",
              "      <td>-4792110</td>\n",
              "    </tr>\n",
              "    <tr>\n",
              "      <th>25%</th>\n",
              "      <td>2023</td>\n",
              "      <td>3</td>\n",
              "      <td>13</td>\n",
              "      <td>1</td>\n",
              "      <td>9</td>\n",
              "      <td>89658</td>\n",
              "      <td>0</td>\n",
              "      <td>39463</td>\n",
              "    </tr>\n",
              "    <tr>\n",
              "      <th>50%</th>\n",
              "      <td>2023</td>\n",
              "      <td>6</td>\n",
              "      <td>26</td>\n",
              "      <td>2</td>\n",
              "      <td>27</td>\n",
              "      <td>189364</td>\n",
              "      <td>0</td>\n",
              "      <td>97452</td>\n",
              "    </tr>\n",
              "    <tr>\n",
              "      <th>75%</th>\n",
              "      <td>2023</td>\n",
              "      <td>9</td>\n",
              "      <td>37</td>\n",
              "      <td>5</td>\n",
              "      <td>65</td>\n",
              "      <td>407501</td>\n",
              "      <td>18091</td>\n",
              "      <td>225748</td>\n",
              "    </tr>\n",
              "    <tr>\n",
              "      <th>max</th>\n",
              "      <td>2023</td>\n",
              "      <td>11</td>\n",
              "      <td>52</td>\n",
              "      <td>118</td>\n",
              "      <td>3330</td>\n",
              "      <td>13927447</td>\n",
              "      <td>559092</td>\n",
              "      <td>9735737</td>\n",
              "    </tr>\n",
              "  </tbody>\n",
              "</table>\n",
              "</div>\n",
              "    <div class=\"colab-df-buttons\">\n",
              "\n",
              "  <div class=\"colab-df-container\">\n",
              "    <button class=\"colab-df-convert\" onclick=\"convertToInteractive('df-688a696a-a591-4f1d-87f5-f476a9740f32')\"\n",
              "            title=\"Convert this dataframe to an interactive table.\"\n",
              "            style=\"display:none;\">\n",
              "\n",
              "  <svg xmlns=\"http://www.w3.org/2000/svg\" height=\"24px\" viewBox=\"0 -960 960 960\">\n",
              "    <path d=\"M120-120v-720h720v720H120Zm60-500h600v-160H180v160Zm220 220h160v-160H400v160Zm0 220h160v-160H400v160ZM180-400h160v-160H180v160Zm440 0h160v-160H620v160ZM180-180h160v-160H180v160Zm440 0h160v-160H620v160Z\"/>\n",
              "  </svg>\n",
              "    </button>\n",
              "\n",
              "  <style>\n",
              "    .colab-df-container {\n",
              "      display:flex;\n",
              "      gap: 12px;\n",
              "    }\n",
              "\n",
              "    .colab-df-convert {\n",
              "      background-color: #E8F0FE;\n",
              "      border: none;\n",
              "      border-radius: 50%;\n",
              "      cursor: pointer;\n",
              "      display: none;\n",
              "      fill: #1967D2;\n",
              "      height: 32px;\n",
              "      padding: 0 0 0 0;\n",
              "      width: 32px;\n",
              "    }\n",
              "\n",
              "    .colab-df-convert:hover {\n",
              "      background-color: #E2EBFA;\n",
              "      box-shadow: 0px 1px 2px rgba(60, 64, 67, 0.3), 0px 1px 3px 1px rgba(60, 64, 67, 0.15);\n",
              "      fill: #174EA6;\n",
              "    }\n",
              "\n",
              "    .colab-df-buttons div {\n",
              "      margin-bottom: 4px;\n",
              "    }\n",
              "\n",
              "    [theme=dark] .colab-df-convert {\n",
              "      background-color: #3B4455;\n",
              "      fill: #D2E3FC;\n",
              "    }\n",
              "\n",
              "    [theme=dark] .colab-df-convert:hover {\n",
              "      background-color: #434B5C;\n",
              "      box-shadow: 0px 1px 3px 1px rgba(0, 0, 0, 0.15);\n",
              "      filter: drop-shadow(0px 1px 2px rgba(0, 0, 0, 0.3));\n",
              "      fill: #FFFFFF;\n",
              "    }\n",
              "  </style>\n",
              "\n",
              "    <script>\n",
              "      const buttonEl =\n",
              "        document.querySelector('#df-688a696a-a591-4f1d-87f5-f476a9740f32 button.colab-df-convert');\n",
              "      buttonEl.style.display =\n",
              "        google.colab.kernel.accessAllowed ? 'block' : 'none';\n",
              "\n",
              "      async function convertToInteractive(key) {\n",
              "        const element = document.querySelector('#df-688a696a-a591-4f1d-87f5-f476a9740f32');\n",
              "        const dataTable =\n",
              "          await google.colab.kernel.invokeFunction('convertToInteractive',\n",
              "                                                    [key], {});\n",
              "        if (!dataTable) return;\n",
              "\n",
              "        const docLinkHtml = 'Like what you see? Visit the ' +\n",
              "          '<a target=\"_blank\" href=https://colab.research.google.com/notebooks/data_table.ipynb>data table notebook</a>'\n",
              "          + ' to learn more about interactive tables.';\n",
              "        element.innerHTML = '';\n",
              "        dataTable['output_type'] = 'display_data';\n",
              "        await google.colab.output.renderOutput(dataTable, element);\n",
              "        const docLink = document.createElement('div');\n",
              "        docLink.innerHTML = docLinkHtml;\n",
              "        element.appendChild(docLink);\n",
              "      }\n",
              "    </script>\n",
              "  </div>\n",
              "\n",
              "\n",
              "<div id=\"df-764e148d-c5bf-41c4-9633-6c70f7ce2f85\">\n",
              "  <button class=\"colab-df-quickchart\" onclick=\"quickchart('df-764e148d-c5bf-41c4-9633-6c70f7ce2f85')\"\n",
              "            title=\"Suggest charts\"\n",
              "            style=\"display:none;\">\n",
              "\n",
              "<svg xmlns=\"http://www.w3.org/2000/svg\" height=\"24px\"viewBox=\"0 0 24 24\"\n",
              "     width=\"24px\">\n",
              "    <g>\n",
              "        <path d=\"M19 3H5c-1.1 0-2 .9-2 2v14c0 1.1.9 2 2 2h14c1.1 0 2-.9 2-2V5c0-1.1-.9-2-2-2zM9 17H7v-7h2v7zm4 0h-2V7h2v10zm4 0h-2v-4h2v4z\"/>\n",
              "    </g>\n",
              "</svg>\n",
              "  </button>\n",
              "\n",
              "<style>\n",
              "  .colab-df-quickchart {\n",
              "      --bg-color: #E8F0FE;\n",
              "      --fill-color: #1967D2;\n",
              "      --hover-bg-color: #E2EBFA;\n",
              "      --hover-fill-color: #174EA6;\n",
              "      --disabled-fill-color: #AAA;\n",
              "      --disabled-bg-color: #DDD;\n",
              "  }\n",
              "\n",
              "  [theme=dark] .colab-df-quickchart {\n",
              "      --bg-color: #3B4455;\n",
              "      --fill-color: #D2E3FC;\n",
              "      --hover-bg-color: #434B5C;\n",
              "      --hover-fill-color: #FFFFFF;\n",
              "      --disabled-bg-color: #3B4455;\n",
              "      --disabled-fill-color: #666;\n",
              "  }\n",
              "\n",
              "  .colab-df-quickchart {\n",
              "    background-color: var(--bg-color);\n",
              "    border: none;\n",
              "    border-radius: 50%;\n",
              "    cursor: pointer;\n",
              "    display: none;\n",
              "    fill: var(--fill-color);\n",
              "    height: 32px;\n",
              "    padding: 0;\n",
              "    width: 32px;\n",
              "  }\n",
              "\n",
              "  .colab-df-quickchart:hover {\n",
              "    background-color: var(--hover-bg-color);\n",
              "    box-shadow: 0 1px 2px rgba(60, 64, 67, 0.3), 0 1px 3px 1px rgba(60, 64, 67, 0.15);\n",
              "    fill: var(--button-hover-fill-color);\n",
              "  }\n",
              "\n",
              "  .colab-df-quickchart-complete:disabled,\n",
              "  .colab-df-quickchart-complete:disabled:hover {\n",
              "    background-color: var(--disabled-bg-color);\n",
              "    fill: var(--disabled-fill-color);\n",
              "    box-shadow: none;\n",
              "  }\n",
              "\n",
              "  .colab-df-spinner {\n",
              "    border: 2px solid var(--fill-color);\n",
              "    border-color: transparent;\n",
              "    border-bottom-color: var(--fill-color);\n",
              "    animation:\n",
              "      spin 1s steps(1) infinite;\n",
              "  }\n",
              "\n",
              "  @keyframes spin {\n",
              "    0% {\n",
              "      border-color: transparent;\n",
              "      border-bottom-color: var(--fill-color);\n",
              "      border-left-color: var(--fill-color);\n",
              "    }\n",
              "    20% {\n",
              "      border-color: transparent;\n",
              "      border-left-color: var(--fill-color);\n",
              "      border-top-color: var(--fill-color);\n",
              "    }\n",
              "    30% {\n",
              "      border-color: transparent;\n",
              "      border-left-color: var(--fill-color);\n",
              "      border-top-color: var(--fill-color);\n",
              "      border-right-color: var(--fill-color);\n",
              "    }\n",
              "    40% {\n",
              "      border-color: transparent;\n",
              "      border-right-color: var(--fill-color);\n",
              "      border-top-color: var(--fill-color);\n",
              "    }\n",
              "    60% {\n",
              "      border-color: transparent;\n",
              "      border-right-color: var(--fill-color);\n",
              "    }\n",
              "    80% {\n",
              "      border-color: transparent;\n",
              "      border-right-color: var(--fill-color);\n",
              "      border-bottom-color: var(--fill-color);\n",
              "    }\n",
              "    90% {\n",
              "      border-color: transparent;\n",
              "      border-bottom-color: var(--fill-color);\n",
              "    }\n",
              "  }\n",
              "</style>\n",
              "\n",
              "  <script>\n",
              "    async function quickchart(key) {\n",
              "      const quickchartButtonEl =\n",
              "        document.querySelector('#' + key + ' button');\n",
              "      quickchartButtonEl.disabled = true;  // To prevent multiple clicks.\n",
              "      quickchartButtonEl.classList.add('colab-df-spinner');\n",
              "      try {\n",
              "        const charts = await google.colab.kernel.invokeFunction(\n",
              "            'suggestCharts', [key], {});\n",
              "      } catch (error) {\n",
              "        console.error('Error during call to suggestCharts:', error);\n",
              "      }\n",
              "      quickchartButtonEl.classList.remove('colab-df-spinner');\n",
              "      quickchartButtonEl.classList.add('colab-df-quickchart-complete');\n",
              "    }\n",
              "    (() => {\n",
              "      let quickchartButtonEl =\n",
              "        document.querySelector('#df-764e148d-c5bf-41c4-9633-6c70f7ce2f85 button');\n",
              "      quickchartButtonEl.style.display =\n",
              "        google.colab.kernel.accessAllowed ? 'block' : 'none';\n",
              "    })();\n",
              "  </script>\n",
              "</div>\n",
              "    </div>\n",
              "  </div>\n"
            ],
            "application/vnd.google.colaboratory.intrinsic+json": {
              "type": "dataframe",
              "summary": "{\n  \"name\": \"df\",\n  \"rows\": 8,\n  \"fields\": [\n    {\n      \"column\": \"year\",\n      \"properties\": {\n        \"dtype\": \"Float64\",\n        \"num_unique_values\": 3,\n        \"samples\": [\n          793700.0,\n          2023.0,\n          0.0\n        ],\n        \"semantic_type\": \"\",\n        \"description\": \"\"\n      }\n    },\n    {\n      \"column\": \"month\",\n      \"properties\": {\n        \"dtype\": \"Float64\",\n        \"num_unique_values\": 8,\n        \"samples\": [\n          6.226859014741086,\n          6.0,\n          793700.0\n        ],\n        \"semantic_type\": \"\",\n        \"description\": \"\"\n      }\n    },\n    {\n      \"column\": \"isoweek\",\n      \"properties\": {\n        \"dtype\": \"Float64\",\n        \"num_unique_values\": 8,\n        \"samples\": [\n          25.295940531687034,\n          26.0,\n          793700.0\n        ],\n        \"semantic_type\": \"\",\n        \"description\": \"\"\n      }\n    },\n    {\n      \"column\": \"nuse\",\n      \"properties\": {\n        \"dtype\": \"Float64\",\n        \"num_unique_values\": 7,\n        \"samples\": [\n          793700.0,\n          4.710537986644828,\n          5.0\n        ],\n        \"semantic_type\": \"\",\n        \"description\": \"\"\n      }\n    },\n    {\n      \"column\": \"utime\",\n      \"properties\": {\n        \"dtype\": \"number\",\n        \"std\": 280436.11101677624,\n        \"min\": 0.0,\n        \"max\": 793700.0,\n        \"num_unique_values\": 8,\n        \"samples\": [\n          57.46114313972534,\n          26.87,\n          793700.0\n        ],\n        \"semantic_type\": \"\",\n        \"description\": \"\"\n      }\n    },\n    {\n      \"column\": \"revenue\",\n      \"properties\": {\n        \"dtype\": \"number\",\n        \"std\": 4925277.547482269,\n        \"min\": -1447296.9666105353,\n        \"max\": 13927446.60749017,\n        \"num_unique_values\": 8,\n        \"samples\": [\n          353373.4412599295,\n          189364.3554373149,\n          793700.0\n        ],\n        \"semantic_type\": \"\",\n        \"description\": \"\"\n      }\n    },\n    {\n      \"column\": \"_rev_d2d\",\n      \"properties\": {\n        \"dtype\": \"number\",\n        \"std\": 315746.01741276094,\n        \"min\": 0.0,\n        \"max\": 793700.0,\n        \"num_unique_values\": 6,\n        \"samples\": [\n          793700.0,\n          10445.751118810635,\n          559092.0\n        ],\n        \"semantic_type\": \"\",\n        \"description\": \"\"\n      }\n    },\n    {\n      \"column\": \"margin\",\n      \"properties\": {\n        \"dtype\": \"number\",\n        \"std\": 4019846.6859581224,\n        \"min\": -4792109.5804696,\n        \"max\": 9735736.688255293,\n        \"num_unique_values\": 8,\n        \"samples\": [\n          196326.1217754643,\n          97452.4406814269,\n          793700.0\n        ],\n        \"semantic_type\": \"\",\n        \"description\": \"\"\n      }\n    }\n  ]\n}"
            }
          },
          "metadata": {},
          "execution_count": 8
        }
      ]
    },
    {
      "cell_type": "markdown",
      "source": [
        "# Part 1_ 1. 부름 예약은 실제로 사업 성장(매출 증대, 이익 개선)에 도움을 줄 수 있는가 ?\n",
        "\n",
        "* 지역별로 예약 타입에 따른 건수의 구성비는 어떤가"
      ],
      "metadata": {
        "id": "FM3IY8Me4o7K"
      }
    },
    {
      "cell_type": "markdown",
      "source": [
        "## 📈 *지역별 건수와 예약타입별 구성비*\n",
        "- 모든 지역을 보니 보기가 어렵다\n",
        "- 주요 도시와 제주와 비슷한 지역(호남, 부산)만을 따로 본다\n",
        "\n",
        "✔ 대부분의 지역에서 왕복 > 부름 왕복 > 존편도 > 부름편도로 건수 비중이 높다\n",
        "- 제주는 부름 편도와 존편도가 오픈되어 있지 않기 때문에 왕복 비중이 더 높게 나타남"
      ],
      "metadata": {
        "id": "Z4VkeEbSucFJ"
      }
    },
    {
      "cell_type": "code",
      "source": [
        "# region1과 way_g별로 nuse의 합계를 계산\n",
        "summary = df.groupby(['region1', 'way'])['nuse'].sum().reset_index()\n",
        "\n",
        "# region1별로 nuse의 총합을 계산\n",
        "region_totals = df.groupby(['region1'])['nuse'].sum().reset_index().rename(columns={'nuse': 'total_nuse'})\n",
        "\n",
        "# summary에 region1별 총합을 merge하여 추가\n",
        "summary = summary.merge(region_totals, on='region1')\n",
        "\n",
        "# 각 way_g의 nuse가 region1 내에서 차지하는 비율을 계산\n",
        "summary['proportion'] = (summary['nuse'] / summary['total_nuse']) * 100\n",
        "\n",
        "# 바 차트로 결과 시각화\n",
        "fig = px.bar(summary, x='way', y='proportion', color='region1',\n",
        "             title='지역 내 예약타입별 nuse의 구성비',\n",
        "             barmode='group',\n",
        "             text='proportion',\n",
        "             labels={'proportion': '구성비 (%)', 'way': '예약타입', 'region1': '운영지역시/도'})\n",
        "\n",
        "fig.update_traces(texttemplate='%{text:.1f}%', textposition='outside')\n",
        "fig.show()"
      ],
      "metadata": {
        "colab": {
          "base_uri": "https://localhost:8080/",
          "height": 542
        },
        "id": "BOGYl2Wb9SOT",
        "outputId": "57fa0328-653e-47af-82e4-415f9282b5ef"
      },
      "execution_count": null,
      "outputs": [
        {
          "output_type": "display_data",
          "data": {
            "text/html": [
              "<html>\n",
              "<head><meta charset=\"utf-8\" /></head>\n",
              "<body>\n",
              "    <div>            <script src=\"https://cdnjs.cloudflare.com/ajax/libs/mathjax/2.7.5/MathJax.js?config=TeX-AMS-MML_SVG\"></script><script type=\"text/javascript\">if (window.MathJax && window.MathJax.Hub && window.MathJax.Hub.Config) {window.MathJax.Hub.Config({SVG: {font: \"STIX-Web\"}});}</script>                <script type=\"text/javascript\">window.PlotlyConfig = {MathJaxConfig: 'local'};</script>\n",
              "        <script charset=\"utf-8\" src=\"https://cdn.plot.ly/plotly-2.24.1.min.js\"></script>                <div id=\"eb82d2ca-c310-464f-85fc-9a3d0741933d\" class=\"plotly-graph-div\" style=\"height:525px; width:100%;\"></div>            <script type=\"text/javascript\">                                    window.PLOTLYENV=window.PLOTLYENV || {};                                    if (document.getElementById(\"eb82d2ca-c310-464f-85fc-9a3d0741933d\")) {                    Plotly.newPlot(                        \"eb82d2ca-c310-464f-85fc-9a3d0741933d\",                        [{\"alignmentgroup\":\"True\",\"hovertemplate\":\"\\uc6b4\\uc601\\uc9c0\\uc5ed\\uc2dc\\u002f\\ub3c4=\\uac15\\uc6d0\\ub3c4\\u003cbr\\u003e\\uc608\\uc57d\\ud0c0\\uc785=%{x}\\u003cbr\\u003e\\uad6c\\uc131\\ube44 (%)=%{text}\\u003cextra\\u003e\\u003c\\u002fextra\\u003e\",\"legendgroup\":\"\\uac15\\uc6d0\\ub3c4\",\"marker\":{\"color\":\"#636efa\",\"pattern\":{\"shape\":\"\"}},\"name\":\"\\uac15\\uc6d0\\ub3c4\",\"offsetgroup\":\"\\uac15\\uc6d0\\ub3c4\",\"orientation\":\"v\",\"showlegend\":true,\"text\":[0.21963540522732264,10.220367523244747,86.69924591844206,2.860751153085878],\"textposition\":\"outside\",\"x\":[\"d2d_oneway\",\"d2d_round\",\"round\",\"z2d_oneway\"],\"xaxis\":\"x\",\"y\":[0.21963540522732264,10.220367523244747,86.69924591844206,2.860751153085878],\"yaxis\":\"y\",\"type\":\"bar\",\"texttemplate\":\"%{text:.1f}%\"},{\"alignmentgroup\":\"True\",\"hovertemplate\":\"\\uc6b4\\uc601\\uc9c0\\uc5ed\\uc2dc\\u002f\\ub3c4=\\uacbd\\uae30\\ub3c4\\u003cbr\\u003e\\uc608\\uc57d\\ud0c0\\uc785=%{x}\\u003cbr\\u003e\\uad6c\\uc131\\ube44 (%)=%{text}\\u003cextra\\u003e\\u003c\\u002fextra\\u003e\",\"legendgroup\":\"\\uacbd\\uae30\\ub3c4\",\"marker\":{\"color\":\"#EF553B\",\"pattern\":{\"shape\":\"\"}},\"name\":\"\\uacbd\\uae30\\ub3c4\",\"offsetgroup\":\"\\uacbd\\uae30\\ub3c4\",\"orientation\":\"v\",\"showlegend\":true,\"text\":[1.3245752002614697,11.090279015052205,81.65570720115348,5.929438583532837],\"textposition\":\"outside\",\"x\":[\"d2d_oneway\",\"d2d_round\",\"round\",\"z2d_oneway\"],\"xaxis\":\"x\",\"y\":[1.3245752002614697,11.090279015052205,81.65570720115348,5.929438583532837],\"yaxis\":\"y\",\"type\":\"bar\",\"texttemplate\":\"%{text:.1f}%\"},{\"alignmentgroup\":\"True\",\"hovertemplate\":\"\\uc6b4\\uc601\\uc9c0\\uc5ed\\uc2dc\\u002f\\ub3c4=\\uacbd\\uc0c1\\ub0a8\\ub3c4\\u003cbr\\u003e\\uc608\\uc57d\\ud0c0\\uc785=%{x}\\u003cbr\\u003e\\uad6c\\uc131\\ube44 (%)=%{text}\\u003cextra\\u003e\\u003c\\u002fextra\\u003e\",\"legendgroup\":\"\\uacbd\\uc0c1\\ub0a8\\ub3c4\",\"marker\":{\"color\":\"#00cc96\",\"pattern\":{\"shape\":\"\"}},\"name\":\"\\uacbd\\uc0c1\\ub0a8\\ub3c4\",\"offsetgroup\":\"\\uacbd\\uc0c1\\ub0a8\\ub3c4\",\"orientation\":\"v\",\"showlegend\":true,\"text\":[1.5006475793556042,9.448146620648737,85.87842873371103,3.1727770662846306],\"textposition\":\"outside\",\"x\":[\"d2d_oneway\",\"d2d_round\",\"round\",\"z2d_oneway\"],\"xaxis\":\"x\",\"y\":[1.5006475793556042,9.448146620648737,85.87842873371103,3.1727770662846306],\"yaxis\":\"y\",\"type\":\"bar\",\"texttemplate\":\"%{text:.1f}%\"},{\"alignmentgroup\":\"True\",\"hovertemplate\":\"\\uc6b4\\uc601\\uc9c0\\uc5ed\\uc2dc\\u002f\\ub3c4=\\uacbd\\uc0c1\\ubd81\\ub3c4\\u003cbr\\u003e\\uc608\\uc57d\\ud0c0\\uc785=%{x}\\u003cbr\\u003e\\uad6c\\uc131\\ube44 (%)=%{text}\\u003cextra\\u003e\\u003c\\u002fextra\\u003e\",\"legendgroup\":\"\\uacbd\\uc0c1\\ubd81\\ub3c4\",\"marker\":{\"color\":\"#ab63fa\",\"pattern\":{\"shape\":\"\"}},\"name\":\"\\uacbd\\uc0c1\\ubd81\\ub3c4\",\"offsetgroup\":\"\\uacbd\\uc0c1\\ubd81\\ub3c4\",\"orientation\":\"v\",\"showlegend\":true,\"text\":[1.0368726607855854,6.168884443784624,90.49780826841484,2.2964346270149476],\"textposition\":\"outside\",\"x\":[\"d2d_oneway\",\"d2d_round\",\"round\",\"z2d_oneway\"],\"xaxis\":\"x\",\"y\":[1.0368726607855854,6.168884443784624,90.49780826841484,2.2964346270149476],\"yaxis\":\"y\",\"type\":\"bar\",\"texttemplate\":\"%{text:.1f}%\"},{\"alignmentgroup\":\"True\",\"hovertemplate\":\"\\uc6b4\\uc601\\uc9c0\\uc5ed\\uc2dc\\u002f\\ub3c4=\\uad11\\uc8fc\\uad11\\uc5ed\\uc2dc\\u003cbr\\u003e\\uc608\\uc57d\\ud0c0\\uc785=%{x}\\u003cbr\\u003e\\uad6c\\uc131\\ube44 (%)=%{text}\\u003cextra\\u003e\\u003c\\u002fextra\\u003e\",\"legendgroup\":\"\\uad11\\uc8fc\\uad11\\uc5ed\\uc2dc\",\"marker\":{\"color\":\"#FFA15A\",\"pattern\":{\"shape\":\"\"}},\"name\":\"\\uad11\\uc8fc\\uad11\\uc5ed\\uc2dc\",\"offsetgroup\":\"\\uad11\\uc8fc\\uad11\\uc5ed\\uc2dc\",\"orientation\":\"v\",\"showlegend\":true,\"text\":[1.7627003892932271,11.063423362429576,81.76004062190198,5.413835626375221],\"textposition\":\"outside\",\"x\":[\"d2d_oneway\",\"d2d_round\",\"round\",\"z2d_oneway\"],\"xaxis\":\"x\",\"y\":[1.7627003892932271,11.063423362429576,81.76004062190198,5.413835626375221],\"yaxis\":\"y\",\"type\":\"bar\",\"texttemplate\":\"%{text:.1f}%\"},{\"alignmentgroup\":\"True\",\"hovertemplate\":\"\\uc6b4\\uc601\\uc9c0\\uc5ed\\uc2dc\\u002f\\ub3c4=\\ub300\\uad6c\\uad11\\uc5ed\\uc2dc\\u003cbr\\u003e\\uc608\\uc57d\\ud0c0\\uc785=%{x}\\u003cbr\\u003e\\uad6c\\uc131\\ube44 (%)=%{text}\\u003cextra\\u003e\\u003c\\u002fextra\\u003e\",\"legendgroup\":\"\\ub300\\uad6c\\uad11\\uc5ed\\uc2dc\",\"marker\":{\"color\":\"#19d3f3\",\"pattern\":{\"shape\":\"\"}},\"name\":\"\\ub300\\uad6c\\uad11\\uc5ed\\uc2dc\",\"offsetgroup\":\"\\ub300\\uad6c\\uad11\\uc5ed\\uc2dc\",\"orientation\":\"v\",\"showlegend\":true,\"text\":[1.489516432870999,9.888636741989467,83.18160710061245,5.440239724527078],\"textposition\":\"outside\",\"x\":[\"d2d_oneway\",\"d2d_round\",\"round\",\"z2d_oneway\"],\"xaxis\":\"x\",\"y\":[1.489516432870999,9.888636741989467,83.18160710061245,5.440239724527078],\"yaxis\":\"y\",\"type\":\"bar\",\"texttemplate\":\"%{text:.1f}%\"},{\"alignmentgroup\":\"True\",\"hovertemplate\":\"\\uc6b4\\uc601\\uc9c0\\uc5ed\\uc2dc\\u002f\\ub3c4=\\ub300\\uc804\\uad11\\uc5ed\\uc2dc\\u003cbr\\u003e\\uc608\\uc57d\\ud0c0\\uc785=%{x}\\u003cbr\\u003e\\uad6c\\uc131\\ube44 (%)=%{text}\\u003cextra\\u003e\\u003c\\u002fextra\\u003e\",\"legendgroup\":\"\\ub300\\uc804\\uad11\\uc5ed\\uc2dc\",\"marker\":{\"color\":\"#FF6692\",\"pattern\":{\"shape\":\"\"}},\"name\":\"\\ub300\\uc804\\uad11\\uc5ed\\uc2dc\",\"offsetgroup\":\"\\ub300\\uc804\\uad11\\uc5ed\\uc2dc\",\"orientation\":\"v\",\"showlegend\":true,\"text\":[1.9409450120689085,13.02670590439661,80.00088174674029,5.031467336794189],\"textposition\":\"outside\",\"x\":[\"d2d_oneway\",\"d2d_round\",\"round\",\"z2d_oneway\"],\"xaxis\":\"x\",\"y\":[1.9409450120689085,13.02670590439661,80.00088174674029,5.031467336794189],\"yaxis\":\"y\",\"type\":\"bar\",\"texttemplate\":\"%{text:.1f}%\"},{\"alignmentgroup\":\"True\",\"hovertemplate\":\"\\uc6b4\\uc601\\uc9c0\\uc5ed\\uc2dc\\u002f\\ub3c4=\\ubd80\\uc0b0\\uad11\\uc5ed\\uc2dc\\u003cbr\\u003e\\uc608\\uc57d\\ud0c0\\uc785=%{x}\\u003cbr\\u003e\\uad6c\\uc131\\ube44 (%)=%{text}\\u003cextra\\u003e\\u003c\\u002fextra\\u003e\",\"legendgroup\":\"\\ubd80\\uc0b0\\uad11\\uc5ed\\uc2dc\",\"marker\":{\"color\":\"#B6E880\",\"pattern\":{\"shape\":\"\"}},\"name\":\"\\ubd80\\uc0b0\\uad11\\uc5ed\\uc2dc\",\"offsetgroup\":\"\\ubd80\\uc0b0\\uad11\\uc5ed\\uc2dc\",\"orientation\":\"v\",\"showlegend\":true,\"text\":[1.4189356624698308,7.43753118773062,83.11772074124113,8.025812408558423],\"textposition\":\"outside\",\"x\":[\"d2d_oneway\",\"d2d_round\",\"round\",\"z2d_oneway\"],\"xaxis\":\"x\",\"y\":[1.4189356624698308,7.43753118773062,83.11772074124113,8.025812408558423],\"yaxis\":\"y\",\"type\":\"bar\",\"texttemplate\":\"%{text:.1f}%\"},{\"alignmentgroup\":\"True\",\"hovertemplate\":\"\\uc6b4\\uc601\\uc9c0\\uc5ed\\uc2dc\\u002f\\ub3c4=\\uc11c\\uc6b8\\ud2b9\\ubcc4\\uc2dc\\u003cbr\\u003e\\uc608\\uc57d\\ud0c0\\uc785=%{x}\\u003cbr\\u003e\\uad6c\\uc131\\ube44 (%)=%{text}\\u003cextra\\u003e\\u003c\\u002fextra\\u003e\",\"legendgroup\":\"\\uc11c\\uc6b8\\ud2b9\\ubcc4\\uc2dc\",\"marker\":{\"color\":\"#FF97FF\",\"pattern\":{\"shape\":\"\"}},\"name\":\"\\uc11c\\uc6b8\\ud2b9\\ubcc4\\uc2dc\",\"offsetgroup\":\"\\uc11c\\uc6b8\\ud2b9\\ubcc4\\uc2dc\",\"orientation\":\"v\",\"showlegend\":true,\"text\":[1.5964519250554283,10.927171745635354,80.40708325861628,7.069293070692931],\"textposition\":\"outside\",\"x\":[\"d2d_oneway\",\"d2d_round\",\"round\",\"z2d_oneway\"],\"xaxis\":\"x\",\"y\":[1.5964519250554283,10.927171745635354,80.40708325861628,7.069293070692931],\"yaxis\":\"y\",\"type\":\"bar\",\"texttemplate\":\"%{text:.1f}%\"},{\"alignmentgroup\":\"True\",\"hovertemplate\":\"\\uc6b4\\uc601\\uc9c0\\uc5ed\\uc2dc\\u002f\\ub3c4=\\uc138\\uc885\\ud2b9\\ubcc4\\uc790\\uce58\\uc2dc\\u003cbr\\u003e\\uc608\\uc57d\\ud0c0\\uc785=%{x}\\u003cbr\\u003e\\uad6c\\uc131\\ube44 (%)=%{text}\\u003cextra\\u003e\\u003c\\u002fextra\\u003e\",\"legendgroup\":\"\\uc138\\uc885\\ud2b9\\ubcc4\\uc790\\uce58\\uc2dc\",\"marker\":{\"color\":\"#FECB52\",\"pattern\":{\"shape\":\"\"}},\"name\":\"\\uc138\\uc885\\ud2b9\\ubcc4\\uc790\\uce58\\uc2dc\",\"offsetgroup\":\"\\uc138\\uc885\\ud2b9\\ubcc4\\uc790\\uce58\\uc2dc\",\"orientation\":\"v\",\"showlegend\":true,\"text\":[1.2928334973606512,12.306522322626822,82.20452715397691,4.196117026035609],\"textposition\":\"outside\",\"x\":[\"d2d_oneway\",\"d2d_round\",\"round\",\"z2d_oneway\"],\"xaxis\":\"x\",\"y\":[1.2928334973606512,12.306522322626822,82.20452715397691,4.196117026035609],\"yaxis\":\"y\",\"type\":\"bar\",\"texttemplate\":\"%{text:.1f}%\"},{\"alignmentgroup\":\"True\",\"hovertemplate\":\"\\uc6b4\\uc601\\uc9c0\\uc5ed\\uc2dc\\u002f\\ub3c4=\\uc6b8\\uc0b0\\uad11\\uc5ed\\uc2dc\\u003cbr\\u003e\\uc608\\uc57d\\ud0c0\\uc785=%{x}\\u003cbr\\u003e\\uad6c\\uc131\\ube44 (%)=%{text}\\u003cextra\\u003e\\u003c\\u002fextra\\u003e\",\"legendgroup\":\"\\uc6b8\\uc0b0\\uad11\\uc5ed\\uc2dc\",\"marker\":{\"color\":\"#636efa\",\"pattern\":{\"shape\":\"\"}},\"name\":\"\\uc6b8\\uc0b0\\uad11\\uc5ed\\uc2dc\",\"offsetgroup\":\"\\uc6b8\\uc0b0\\uad11\\uc5ed\\uc2dc\",\"orientation\":\"v\",\"showlegend\":true,\"text\":[1.4133507284192215,8.91964091572702,84.2558941384773,5.411114217376448],\"textposition\":\"outside\",\"x\":[\"d2d_oneway\",\"d2d_round\",\"round\",\"z2d_oneway\"],\"xaxis\":\"x\",\"y\":[1.4133507284192215,8.91964091572702,84.2558941384773,5.411114217376448],\"yaxis\":\"y\",\"type\":\"bar\",\"texttemplate\":\"%{text:.1f}%\"},{\"alignmentgroup\":\"True\",\"hovertemplate\":\"\\uc6b4\\uc601\\uc9c0\\uc5ed\\uc2dc\\u002f\\ub3c4=\\uc778\\ucc9c\\uad11\\uc5ed\\uc2dc\\u003cbr\\u003e\\uc608\\uc57d\\ud0c0\\uc785=%{x}\\u003cbr\\u003e\\uad6c\\uc131\\ube44 (%)=%{text}\\u003cextra\\u003e\\u003c\\u002fextra\\u003e\",\"legendgroup\":\"\\uc778\\ucc9c\\uad11\\uc5ed\\uc2dc\",\"marker\":{\"color\":\"#EF553B\",\"pattern\":{\"shape\":\"\"}},\"name\":\"\\uc778\\ucc9c\\uad11\\uc5ed\\uc2dc\",\"offsetgroup\":\"\\uc778\\ucc9c\\uad11\\uc5ed\\uc2dc\",\"orientation\":\"v\",\"showlegend\":true,\"text\":[2.2434498795483213,14.884599520584384,77.206836155828,5.665114444039285],\"textposition\":\"outside\",\"x\":[\"d2d_oneway\",\"d2d_round\",\"round\",\"z2d_oneway\"],\"xaxis\":\"x\",\"y\":[2.2434498795483213,14.884599520584384,77.206836155828,5.665114444039285],\"yaxis\":\"y\",\"type\":\"bar\",\"texttemplate\":\"%{text:.1f}%\"},{\"alignmentgroup\":\"True\",\"hovertemplate\":\"\\uc6b4\\uc601\\uc9c0\\uc5ed\\uc2dc\\u002f\\ub3c4=\\uc804\\ub77c\\ub0a8\\ub3c4\\u003cbr\\u003e\\uc608\\uc57d\\ud0c0\\uc785=%{x}\\u003cbr\\u003e\\uad6c\\uc131\\ube44 (%)=%{text}\\u003cextra\\u003e\\u003c\\u002fextra\\u003e\",\"legendgroup\":\"\\uc804\\ub77c\\ub0a8\\ub3c4\",\"marker\":{\"color\":\"#00cc96\",\"pattern\":{\"shape\":\"\"}},\"name\":\"\\uc804\\ub77c\\ub0a8\\ub3c4\",\"offsetgroup\":\"\\uc804\\ub77c\\ub0a8\\ub3c4\",\"orientation\":\"v\",\"showlegend\":true,\"text\":[2.0172439796893067,8.17832185410487,89.80443416620582],\"textposition\":\"outside\",\"x\":[\"d2d_oneway\",\"d2d_round\",\"round\"],\"xaxis\":\"x\",\"y\":[2.0172439796893067,8.17832185410487,89.80443416620582],\"yaxis\":\"y\",\"type\":\"bar\",\"texttemplate\":\"%{text:.1f}%\"},{\"alignmentgroup\":\"True\",\"hovertemplate\":\"\\uc6b4\\uc601\\uc9c0\\uc5ed\\uc2dc\\u002f\\ub3c4=\\uc804\\ub77c\\ubd81\\ub3c4\\u003cbr\\u003e\\uc608\\uc57d\\ud0c0\\uc785=%{x}\\u003cbr\\u003e\\uad6c\\uc131\\ube44 (%)=%{text}\\u003cextra\\u003e\\u003c\\u002fextra\\u003e\",\"legendgroup\":\"\\uc804\\ub77c\\ubd81\\ub3c4\",\"marker\":{\"color\":\"#ab63fa\",\"pattern\":{\"shape\":\"\"}},\"name\":\"\\uc804\\ub77c\\ubd81\\ub3c4\",\"offsetgroup\":\"\\uc804\\ub77c\\ubd81\\ub3c4\",\"orientation\":\"v\",\"showlegend\":true,\"text\":[1.4676945470228309,9.110757702363944,89.42154775061323],\"textposition\":\"outside\",\"x\":[\"d2d_oneway\",\"d2d_round\",\"round\"],\"xaxis\":\"x\",\"y\":[1.4676945470228309,9.110757702363944,89.42154775061323],\"yaxis\":\"y\",\"type\":\"bar\",\"texttemplate\":\"%{text:.1f}%\"},{\"alignmentgroup\":\"True\",\"hovertemplate\":\"\\uc6b4\\uc601\\uc9c0\\uc5ed\\uc2dc\\u002f\\ub3c4=\\uc81c\\uc8fc\\ud2b9\\ubcc4\\uc790\\uce58\\ub3c4\\u003cbr\\u003e\\uc608\\uc57d\\ud0c0\\uc785=%{x}\\u003cbr\\u003e\\uad6c\\uc131\\ube44 (%)=%{text}\\u003cextra\\u003e\\u003c\\u002fextra\\u003e\",\"legendgroup\":\"\\uc81c\\uc8fc\\ud2b9\\ubcc4\\uc790\\uce58\\ub3c4\",\"marker\":{\"color\":\"#FFA15A\",\"pattern\":{\"shape\":\"\"}},\"name\":\"\\uc81c\\uc8fc\\ud2b9\\ubcc4\\uc790\\uce58\\ub3c4\",\"offsetgroup\":\"\\uc81c\\uc8fc\\ud2b9\\ubcc4\\uc790\\uce58\\ub3c4\",\"orientation\":\"v\",\"showlegend\":true,\"text\":[0.0007287832962868491,5.0344350107495535,94.96483620595416],\"textposition\":\"outside\",\"x\":[\"d2d_oneway\",\"d2d_round\",\"round\"],\"xaxis\":\"x\",\"y\":[0.0007287832962868491,5.0344350107495535,94.96483620595416],\"yaxis\":\"y\",\"type\":\"bar\",\"texttemplate\":\"%{text:.1f}%\"},{\"alignmentgroup\":\"True\",\"hovertemplate\":\"\\uc6b4\\uc601\\uc9c0\\uc5ed\\uc2dc\\u002f\\ub3c4=\\ucda9\\uccad\\ub0a8\\ub3c4\\u003cbr\\u003e\\uc608\\uc57d\\ud0c0\\uc785=%{x}\\u003cbr\\u003e\\uad6c\\uc131\\ube44 (%)=%{text}\\u003cextra\\u003e\\u003c\\u002fextra\\u003e\",\"legendgroup\":\"\\ucda9\\uccad\\ub0a8\\ub3c4\",\"marker\":{\"color\":\"#19d3f3\",\"pattern\":{\"shape\":\"\"}},\"name\":\"\\ucda9\\uccad\\ub0a8\\ub3c4\",\"offsetgroup\":\"\\ucda9\\uccad\\ub0a8\\ub3c4\",\"orientation\":\"v\",\"showlegend\":true,\"text\":[0.6139056774377766,5.1815542759244275,91.29396088135915,2.910579165278637],\"textposition\":\"outside\",\"x\":[\"d2d_oneway\",\"d2d_round\",\"round\",\"z2d_oneway\"],\"xaxis\":\"x\",\"y\":[0.6139056774377766,5.1815542759244275,91.29396088135915,2.910579165278637],\"yaxis\":\"y\",\"type\":\"bar\",\"texttemplate\":\"%{text:.1f}%\"},{\"alignmentgroup\":\"True\",\"hovertemplate\":\"\\uc6b4\\uc601\\uc9c0\\uc5ed\\uc2dc\\u002f\\ub3c4=\\ucda9\\uccad\\ubd81\\ub3c4\\u003cbr\\u003e\\uc608\\uc57d\\ud0c0\\uc785=%{x}\\u003cbr\\u003e\\uad6c\\uc131\\ube44 (%)=%{text}\\u003cextra\\u003e\\u003c\\u002fextra\\u003e\",\"legendgroup\":\"\\ucda9\\uccad\\ubd81\\ub3c4\",\"marker\":{\"color\":\"#FF6692\",\"pattern\":{\"shape\":\"\"}},\"name\":\"\\ucda9\\uccad\\ubd81\\ub3c4\",\"offsetgroup\":\"\\ucda9\\uccad\\ubd81\\ub3c4\",\"orientation\":\"v\",\"showlegend\":true,\"text\":[0.9220418391806494,8.303824362606232,86.94296142950535,3.8311723687077794],\"textposition\":\"outside\",\"x\":[\"d2d_oneway\",\"d2d_round\",\"round\",\"z2d_oneway\"],\"xaxis\":\"x\",\"y\":[0.9220418391806494,8.303824362606232,86.94296142950535,3.8311723687077794],\"yaxis\":\"y\",\"type\":\"bar\",\"texttemplate\":\"%{text:.1f}%\"},{\"alignmentgroup\":\"True\",\"hovertemplate\":\"\\uc6b4\\uc601\\uc9c0\\uc5ed\\uc2dc\\u002f\\ub3c4=\\ud3c9\\uc548\\ubd81\\ub3c4\\u003cbr\\u003e\\uc608\\uc57d\\ud0c0\\uc785=%{x}\\u003cbr\\u003e\\uad6c\\uc131\\ube44 (%)=%{text}\\u003cextra\\u003e\\u003c\\u002fextra\\u003e\",\"legendgroup\":\"\\ud3c9\\uc548\\ubd81\\ub3c4\",\"marker\":{\"color\":\"#B6E880\",\"pattern\":{\"shape\":\"\"}},\"name\":\"\\ud3c9\\uc548\\ubd81\\ub3c4\",\"offsetgroup\":\"\\ud3c9\\uc548\\ubd81\\ub3c4\",\"orientation\":\"v\",\"showlegend\":true,\"text\":[100.0],\"textposition\":\"outside\",\"x\":[\"round\"],\"xaxis\":\"x\",\"y\":[100.0],\"yaxis\":\"y\",\"type\":\"bar\",\"texttemplate\":\"%{text:.1f}%\"},{\"alignmentgroup\":\"True\",\"hovertemplate\":\"\\uc6b4\\uc601\\uc9c0\\uc5ed\\uc2dc\\u002f\\ub3c4=\\ud568\\uacbd\\ubd81\\ub3c4\\u003cbr\\u003e\\uc608\\uc57d\\ud0c0\\uc785=%{x}\\u003cbr\\u003e\\uad6c\\uc131\\ube44 (%)=%{text}\\u003cextra\\u003e\\u003c\\u002fextra\\u003e\",\"legendgroup\":\"\\ud568\\uacbd\\ubd81\\ub3c4\",\"marker\":{\"color\":\"#FF97FF\",\"pattern\":{\"shape\":\"\"}},\"name\":\"\\ud568\\uacbd\\ubd81\\ub3c4\",\"offsetgroup\":\"\\ud568\\uacbd\\ubd81\\ub3c4\",\"orientation\":\"v\",\"showlegend\":true,\"text\":[100.0],\"textposition\":\"outside\",\"x\":[\"round\"],\"xaxis\":\"x\",\"y\":[100.0],\"yaxis\":\"y\",\"type\":\"bar\",\"texttemplate\":\"%{text:.1f}%\"}],                        {\"template\":{\"data\":{\"histogram2dcontour\":[{\"type\":\"histogram2dcontour\",\"colorbar\":{\"outlinewidth\":0,\"ticks\":\"\"},\"colorscale\":[[0.0,\"#0d0887\"],[0.1111111111111111,\"#46039f\"],[0.2222222222222222,\"#7201a8\"],[0.3333333333333333,\"#9c179e\"],[0.4444444444444444,\"#bd3786\"],[0.5555555555555556,\"#d8576b\"],[0.6666666666666666,\"#ed7953\"],[0.7777777777777778,\"#fb9f3a\"],[0.8888888888888888,\"#fdca26\"],[1.0,\"#f0f921\"]]}],\"choropleth\":[{\"type\":\"choropleth\",\"colorbar\":{\"outlinewidth\":0,\"ticks\":\"\"}}],\"histogram2d\":[{\"type\":\"histogram2d\",\"colorbar\":{\"outlinewidth\":0,\"ticks\":\"\"},\"colorscale\":[[0.0,\"#0d0887\"],[0.1111111111111111,\"#46039f\"],[0.2222222222222222,\"#7201a8\"],[0.3333333333333333,\"#9c179e\"],[0.4444444444444444,\"#bd3786\"],[0.5555555555555556,\"#d8576b\"],[0.6666666666666666,\"#ed7953\"],[0.7777777777777778,\"#fb9f3a\"],[0.8888888888888888,\"#fdca26\"],[1.0,\"#f0f921\"]]}],\"heatmap\":[{\"type\":\"heatmap\",\"colorbar\":{\"outlinewidth\":0,\"ticks\":\"\"},\"colorscale\":[[0.0,\"#0d0887\"],[0.1111111111111111,\"#46039f\"],[0.2222222222222222,\"#7201a8\"],[0.3333333333333333,\"#9c179e\"],[0.4444444444444444,\"#bd3786\"],[0.5555555555555556,\"#d8576b\"],[0.6666666666666666,\"#ed7953\"],[0.7777777777777778,\"#fb9f3a\"],[0.8888888888888888,\"#fdca26\"],[1.0,\"#f0f921\"]]}],\"heatmapgl\":[{\"type\":\"heatmapgl\",\"colorbar\":{\"outlinewidth\":0,\"ticks\":\"\"},\"colorscale\":[[0.0,\"#0d0887\"],[0.1111111111111111,\"#46039f\"],[0.2222222222222222,\"#7201a8\"],[0.3333333333333333,\"#9c179e\"],[0.4444444444444444,\"#bd3786\"],[0.5555555555555556,\"#d8576b\"],[0.6666666666666666,\"#ed7953\"],[0.7777777777777778,\"#fb9f3a\"],[0.8888888888888888,\"#fdca26\"],[1.0,\"#f0f921\"]]}],\"contourcarpet\":[{\"type\":\"contourcarpet\",\"colorbar\":{\"outlinewidth\":0,\"ticks\":\"\"}}],\"contour\":[{\"type\":\"contour\",\"colorbar\":{\"outlinewidth\":0,\"ticks\":\"\"},\"colorscale\":[[0.0,\"#0d0887\"],[0.1111111111111111,\"#46039f\"],[0.2222222222222222,\"#7201a8\"],[0.3333333333333333,\"#9c179e\"],[0.4444444444444444,\"#bd3786\"],[0.5555555555555556,\"#d8576b\"],[0.6666666666666666,\"#ed7953\"],[0.7777777777777778,\"#fb9f3a\"],[0.8888888888888888,\"#fdca26\"],[1.0,\"#f0f921\"]]}],\"surface\":[{\"type\":\"surface\",\"colorbar\":{\"outlinewidth\":0,\"ticks\":\"\"},\"colorscale\":[[0.0,\"#0d0887\"],[0.1111111111111111,\"#46039f\"],[0.2222222222222222,\"#7201a8\"],[0.3333333333333333,\"#9c179e\"],[0.4444444444444444,\"#bd3786\"],[0.5555555555555556,\"#d8576b\"],[0.6666666666666666,\"#ed7953\"],[0.7777777777777778,\"#fb9f3a\"],[0.8888888888888888,\"#fdca26\"],[1.0,\"#f0f921\"]]}],\"mesh3d\":[{\"type\":\"mesh3d\",\"colorbar\":{\"outlinewidth\":0,\"ticks\":\"\"}}],\"scatter\":[{\"fillpattern\":{\"fillmode\":\"overlay\",\"size\":10,\"solidity\":0.2},\"type\":\"scatter\"}],\"parcoords\":[{\"type\":\"parcoords\",\"line\":{\"colorbar\":{\"outlinewidth\":0,\"ticks\":\"\"}}}],\"scatterpolargl\":[{\"type\":\"scatterpolargl\",\"marker\":{\"colorbar\":{\"outlinewidth\":0,\"ticks\":\"\"}}}],\"bar\":[{\"error_x\":{\"color\":\"#2a3f5f\"},\"error_y\":{\"color\":\"#2a3f5f\"},\"marker\":{\"line\":{\"color\":\"#E5ECF6\",\"width\":0.5},\"pattern\":{\"fillmode\":\"overlay\",\"size\":10,\"solidity\":0.2}},\"type\":\"bar\"}],\"scattergeo\":[{\"type\":\"scattergeo\",\"marker\":{\"colorbar\":{\"outlinewidth\":0,\"ticks\":\"\"}}}],\"scatterpolar\":[{\"type\":\"scatterpolar\",\"marker\":{\"colorbar\":{\"outlinewidth\":0,\"ticks\":\"\"}}}],\"histogram\":[{\"marker\":{\"pattern\":{\"fillmode\":\"overlay\",\"size\":10,\"solidity\":0.2}},\"type\":\"histogram\"}],\"scattergl\":[{\"type\":\"scattergl\",\"marker\":{\"colorbar\":{\"outlinewidth\":0,\"ticks\":\"\"}}}],\"scatter3d\":[{\"type\":\"scatter3d\",\"line\":{\"colorbar\":{\"outlinewidth\":0,\"ticks\":\"\"}},\"marker\":{\"colorbar\":{\"outlinewidth\":0,\"ticks\":\"\"}}}],\"scattermapbox\":[{\"type\":\"scattermapbox\",\"marker\":{\"colorbar\":{\"outlinewidth\":0,\"ticks\":\"\"}}}],\"scatterternary\":[{\"type\":\"scatterternary\",\"marker\":{\"colorbar\":{\"outlinewidth\":0,\"ticks\":\"\"}}}],\"scattercarpet\":[{\"type\":\"scattercarpet\",\"marker\":{\"colorbar\":{\"outlinewidth\":0,\"ticks\":\"\"}}}],\"carpet\":[{\"aaxis\":{\"endlinecolor\":\"#2a3f5f\",\"gridcolor\":\"white\",\"linecolor\":\"white\",\"minorgridcolor\":\"white\",\"startlinecolor\":\"#2a3f5f\"},\"baxis\":{\"endlinecolor\":\"#2a3f5f\",\"gridcolor\":\"white\",\"linecolor\":\"white\",\"minorgridcolor\":\"white\",\"startlinecolor\":\"#2a3f5f\"},\"type\":\"carpet\"}],\"table\":[{\"cells\":{\"fill\":{\"color\":\"#EBF0F8\"},\"line\":{\"color\":\"white\"}},\"header\":{\"fill\":{\"color\":\"#C8D4E3\"},\"line\":{\"color\":\"white\"}},\"type\":\"table\"}],\"barpolar\":[{\"marker\":{\"line\":{\"color\":\"#E5ECF6\",\"width\":0.5},\"pattern\":{\"fillmode\":\"overlay\",\"size\":10,\"solidity\":0.2}},\"type\":\"barpolar\"}],\"pie\":[{\"automargin\":true,\"type\":\"pie\"}]},\"layout\":{\"autotypenumbers\":\"strict\",\"colorway\":[\"#636efa\",\"#EF553B\",\"#00cc96\",\"#ab63fa\",\"#FFA15A\",\"#19d3f3\",\"#FF6692\",\"#B6E880\",\"#FF97FF\",\"#FECB52\"],\"font\":{\"color\":\"#2a3f5f\"},\"hovermode\":\"closest\",\"hoverlabel\":{\"align\":\"left\"},\"paper_bgcolor\":\"white\",\"plot_bgcolor\":\"#E5ECF6\",\"polar\":{\"bgcolor\":\"#E5ECF6\",\"angularaxis\":{\"gridcolor\":\"white\",\"linecolor\":\"white\",\"ticks\":\"\"},\"radialaxis\":{\"gridcolor\":\"white\",\"linecolor\":\"white\",\"ticks\":\"\"}},\"ternary\":{\"bgcolor\":\"#E5ECF6\",\"aaxis\":{\"gridcolor\":\"white\",\"linecolor\":\"white\",\"ticks\":\"\"},\"baxis\":{\"gridcolor\":\"white\",\"linecolor\":\"white\",\"ticks\":\"\"},\"caxis\":{\"gridcolor\":\"white\",\"linecolor\":\"white\",\"ticks\":\"\"}},\"coloraxis\":{\"colorbar\":{\"outlinewidth\":0,\"ticks\":\"\"}},\"colorscale\":{\"sequential\":[[0.0,\"#0d0887\"],[0.1111111111111111,\"#46039f\"],[0.2222222222222222,\"#7201a8\"],[0.3333333333333333,\"#9c179e\"],[0.4444444444444444,\"#bd3786\"],[0.5555555555555556,\"#d8576b\"],[0.6666666666666666,\"#ed7953\"],[0.7777777777777778,\"#fb9f3a\"],[0.8888888888888888,\"#fdca26\"],[1.0,\"#f0f921\"]],\"sequentialminus\":[[0.0,\"#0d0887\"],[0.1111111111111111,\"#46039f\"],[0.2222222222222222,\"#7201a8\"],[0.3333333333333333,\"#9c179e\"],[0.4444444444444444,\"#bd3786\"],[0.5555555555555556,\"#d8576b\"],[0.6666666666666666,\"#ed7953\"],[0.7777777777777778,\"#fb9f3a\"],[0.8888888888888888,\"#fdca26\"],[1.0,\"#f0f921\"]],\"diverging\":[[0,\"#8e0152\"],[0.1,\"#c51b7d\"],[0.2,\"#de77ae\"],[0.3,\"#f1b6da\"],[0.4,\"#fde0ef\"],[0.5,\"#f7f7f7\"],[0.6,\"#e6f5d0\"],[0.7,\"#b8e186\"],[0.8,\"#7fbc41\"],[0.9,\"#4d9221\"],[1,\"#276419\"]]},\"xaxis\":{\"gridcolor\":\"white\",\"linecolor\":\"white\",\"ticks\":\"\",\"title\":{\"standoff\":15},\"zerolinecolor\":\"white\",\"automargin\":true,\"zerolinewidth\":2},\"yaxis\":{\"gridcolor\":\"white\",\"linecolor\":\"white\",\"ticks\":\"\",\"title\":{\"standoff\":15},\"zerolinecolor\":\"white\",\"automargin\":true,\"zerolinewidth\":2},\"scene\":{\"xaxis\":{\"backgroundcolor\":\"#E5ECF6\",\"gridcolor\":\"white\",\"linecolor\":\"white\",\"showbackground\":true,\"ticks\":\"\",\"zerolinecolor\":\"white\",\"gridwidth\":2},\"yaxis\":{\"backgroundcolor\":\"#E5ECF6\",\"gridcolor\":\"white\",\"linecolor\":\"white\",\"showbackground\":true,\"ticks\":\"\",\"zerolinecolor\":\"white\",\"gridwidth\":2},\"zaxis\":{\"backgroundcolor\":\"#E5ECF6\",\"gridcolor\":\"white\",\"linecolor\":\"white\",\"showbackground\":true,\"ticks\":\"\",\"zerolinecolor\":\"white\",\"gridwidth\":2}},\"shapedefaults\":{\"line\":{\"color\":\"#2a3f5f\"}},\"annotationdefaults\":{\"arrowcolor\":\"#2a3f5f\",\"arrowhead\":0,\"arrowwidth\":1},\"geo\":{\"bgcolor\":\"white\",\"landcolor\":\"#E5ECF6\",\"subunitcolor\":\"white\",\"showland\":true,\"showlakes\":true,\"lakecolor\":\"white\"},\"title\":{\"x\":0.05},\"mapbox\":{\"style\":\"light\"}}},\"xaxis\":{\"anchor\":\"y\",\"domain\":[0.0,1.0],\"title\":{\"text\":\"\\uc608\\uc57d\\ud0c0\\uc785\"}},\"yaxis\":{\"anchor\":\"x\",\"domain\":[0.0,1.0],\"title\":{\"text\":\"\\uad6c\\uc131\\ube44 (%)\"}},\"legend\":{\"title\":{\"text\":\"\\uc6b4\\uc601\\uc9c0\\uc5ed\\uc2dc\\u002f\\ub3c4\"},\"tracegroupgap\":0},\"title\":{\"text\":\"\\uc9c0\\uc5ed \\ub0b4 \\uc608\\uc57d\\ud0c0\\uc785\\ubcc4 nuse\\uc758 \\uad6c\\uc131\\ube44\"},\"barmode\":\"group\"},                        {\"responsive\": true}                    ).then(function(){\n",
              "                            \n",
              "var gd = document.getElementById('eb82d2ca-c310-464f-85fc-9a3d0741933d');\n",
              "var x = new MutationObserver(function (mutations, observer) {{\n",
              "        var display = window.getComputedStyle(gd).display;\n",
              "        if (!display || display === 'none') {{\n",
              "            console.log([gd, 'removed!']);\n",
              "            Plotly.purge(gd);\n",
              "            observer.disconnect();\n",
              "        }}\n",
              "}});\n",
              "\n",
              "// Listen for the removal of the full notebook cells\n",
              "var notebookContainer = gd.closest('#notebook-container');\n",
              "if (notebookContainer) {{\n",
              "    x.observe(notebookContainer, {childList: true});\n",
              "}}\n",
              "\n",
              "// Listen for the clearing of the current output cell\n",
              "var outputEl = gd.closest('.output');\n",
              "if (outputEl) {{\n",
              "    x.observe(outputEl, {childList: true});\n",
              "}}\n",
              "\n",
              "                        })                };                            </script>        </div>\n",
              "</body>\n",
              "</html>"
            ]
          },
          "metadata": {}
        }
      ]
    },
    {
      "cell_type": "code",
      "source": [
        "df.loc[df['region1'].isin(['전라남도', '전라북도']), 'region1'] = '호남'\n",
        "\n",
        "# region1이 특정 지역들인 행만 선택\n",
        "df_part = df[(df['region1'] == '제주특별자치도') | (df['region1'] == '서울특별시')  | (df['region1'] == '부산광역시')  | (df['region1'] == '호남')   | (df['region1'] == '부산광역시')  | (df['region1'] == '경기도')]\n",
        "\n",
        "# region1과 way_g별로 nuse의 합계를 계산\n",
        "summary = df_part.groupby(['region1', 'way'])['nuse'].sum().reset_index()\n",
        "\n",
        "# region1별로 nuse의 총합을 계산\n",
        "region_totals = df_part.groupby(['region1'])['nuse'].sum().reset_index().rename(columns={'nuse': 'total_nuse'})\n",
        "\n",
        "# summary에 region1별 총합을 merge하여 추가\n",
        "summary = summary.merge(region_totals, on='region1')\n",
        "\n",
        "# 각 way_g의 nuse가 region1 내에서 차지하는 비율을 계산\n",
        "summary['proportion'] = (summary['nuse'] / summary['total_nuse']) * 100\n",
        "\n",
        "# 바 차트로 결과 시각화\n",
        "fig = px.bar(summary, x='way', y='proportion', color='region1',\n",
        "             title='지역 내 예약타입별 nuse의 구성비',\n",
        "             barmode='group',\n",
        "             text='proportion',\n",
        "             labels={'proportion': '구성비 (%)', 'way': '예약타입', 'region1': '운영지역시/도'})\n",
        "\n",
        "fig.update_traces(texttemplate='%{text:.1f}%', textposition='outside')\n",
        "fig.show()"
      ],
      "metadata": {
        "colab": {
          "base_uri": "https://localhost:8080/",
          "height": 542
        },
        "id": "BxdMp75f85Y6",
        "outputId": "01750f1d-5e6e-48f9-8389-ac0a1d7caa78"
      },
      "execution_count": null,
      "outputs": [
        {
          "output_type": "display_data",
          "data": {
            "text/html": [
              "<html>\n",
              "<head><meta charset=\"utf-8\" /></head>\n",
              "<body>\n",
              "    <div>            <script src=\"https://cdnjs.cloudflare.com/ajax/libs/mathjax/2.7.5/MathJax.js?config=TeX-AMS-MML_SVG\"></script><script type=\"text/javascript\">if (window.MathJax && window.MathJax.Hub && window.MathJax.Hub.Config) {window.MathJax.Hub.Config({SVG: {font: \"STIX-Web\"}});}</script>                <script type=\"text/javascript\">window.PlotlyConfig = {MathJaxConfig: 'local'};</script>\n",
              "        <script charset=\"utf-8\" src=\"https://cdn.plot.ly/plotly-2.24.1.min.js\"></script>                <div id=\"51807b2f-328d-4198-8d74-b2fea8eaa884\" class=\"plotly-graph-div\" style=\"height:525px; width:100%;\"></div>            <script type=\"text/javascript\">                                    window.PLOTLYENV=window.PLOTLYENV || {};                                    if (document.getElementById(\"51807b2f-328d-4198-8d74-b2fea8eaa884\")) {                    Plotly.newPlot(                        \"51807b2f-328d-4198-8d74-b2fea8eaa884\",                        [{\"alignmentgroup\":\"True\",\"hovertemplate\":\"\\uc6b4\\uc601\\uc9c0\\uc5ed\\uc2dc\\u002f\\ub3c4=\\uacbd\\uae30\\ub3c4\\u003cbr\\u003e\\uc608\\uc57d\\ud0c0\\uc785=%{x}\\u003cbr\\u003e\\uad6c\\uc131\\ube44 (%)=%{text}\\u003cextra\\u003e\\u003c\\u002fextra\\u003e\",\"legendgroup\":\"\\uacbd\\uae30\\ub3c4\",\"marker\":{\"color\":\"#636efa\",\"pattern\":{\"shape\":\"\"}},\"name\":\"\\uacbd\\uae30\\ub3c4\",\"offsetgroup\":\"\\uacbd\\uae30\\ub3c4\",\"orientation\":\"v\",\"showlegend\":true,\"text\":[1.3245752002614697,11.090279015052205,81.65570720115348,5.929438583532837],\"textposition\":\"outside\",\"x\":[\"d2d_oneway\",\"d2d_round\",\"round\",\"z2d_oneway\"],\"xaxis\":\"x\",\"y\":[1.3245752002614697,11.090279015052205,81.65570720115348,5.929438583532837],\"yaxis\":\"y\",\"type\":\"bar\",\"texttemplate\":\"%{text:.1f}%\"},{\"alignmentgroup\":\"True\",\"hovertemplate\":\"\\uc6b4\\uc601\\uc9c0\\uc5ed\\uc2dc\\u002f\\ub3c4=\\ubd80\\uc0b0\\uad11\\uc5ed\\uc2dc\\u003cbr\\u003e\\uc608\\uc57d\\ud0c0\\uc785=%{x}\\u003cbr\\u003e\\uad6c\\uc131\\ube44 (%)=%{text}\\u003cextra\\u003e\\u003c\\u002fextra\\u003e\",\"legendgroup\":\"\\ubd80\\uc0b0\\uad11\\uc5ed\\uc2dc\",\"marker\":{\"color\":\"#EF553B\",\"pattern\":{\"shape\":\"\"}},\"name\":\"\\ubd80\\uc0b0\\uad11\\uc5ed\\uc2dc\",\"offsetgroup\":\"\\ubd80\\uc0b0\\uad11\\uc5ed\\uc2dc\",\"orientation\":\"v\",\"showlegend\":true,\"text\":[1.4189356624698308,7.43753118773062,83.11772074124113,8.025812408558423],\"textposition\":\"outside\",\"x\":[\"d2d_oneway\",\"d2d_round\",\"round\",\"z2d_oneway\"],\"xaxis\":\"x\",\"y\":[1.4189356624698308,7.43753118773062,83.11772074124113,8.025812408558423],\"yaxis\":\"y\",\"type\":\"bar\",\"texttemplate\":\"%{text:.1f}%\"},{\"alignmentgroup\":\"True\",\"hovertemplate\":\"\\uc6b4\\uc601\\uc9c0\\uc5ed\\uc2dc\\u002f\\ub3c4=\\uc11c\\uc6b8\\ud2b9\\ubcc4\\uc2dc\\u003cbr\\u003e\\uc608\\uc57d\\ud0c0\\uc785=%{x}\\u003cbr\\u003e\\uad6c\\uc131\\ube44 (%)=%{text}\\u003cextra\\u003e\\u003c\\u002fextra\\u003e\",\"legendgroup\":\"\\uc11c\\uc6b8\\ud2b9\\ubcc4\\uc2dc\",\"marker\":{\"color\":\"#00cc96\",\"pattern\":{\"shape\":\"\"}},\"name\":\"\\uc11c\\uc6b8\\ud2b9\\ubcc4\\uc2dc\",\"offsetgroup\":\"\\uc11c\\uc6b8\\ud2b9\\ubcc4\\uc2dc\",\"orientation\":\"v\",\"showlegend\":true,\"text\":[1.5964519250554283,10.927171745635354,80.40708325861628,7.069293070692931],\"textposition\":\"outside\",\"x\":[\"d2d_oneway\",\"d2d_round\",\"round\",\"z2d_oneway\"],\"xaxis\":\"x\",\"y\":[1.5964519250554283,10.927171745635354,80.40708325861628,7.069293070692931],\"yaxis\":\"y\",\"type\":\"bar\",\"texttemplate\":\"%{text:.1f}%\"},{\"alignmentgroup\":\"True\",\"hovertemplate\":\"\\uc6b4\\uc601\\uc9c0\\uc5ed\\uc2dc\\u002f\\ub3c4=\\uc81c\\uc8fc\\ud2b9\\ubcc4\\uc790\\uce58\\ub3c4\\u003cbr\\u003e\\uc608\\uc57d\\ud0c0\\uc785=%{x}\\u003cbr\\u003e\\uad6c\\uc131\\ube44 (%)=%{text}\\u003cextra\\u003e\\u003c\\u002fextra\\u003e\",\"legendgroup\":\"\\uc81c\\uc8fc\\ud2b9\\ubcc4\\uc790\\uce58\\ub3c4\",\"marker\":{\"color\":\"#ab63fa\",\"pattern\":{\"shape\":\"\"}},\"name\":\"\\uc81c\\uc8fc\\ud2b9\\ubcc4\\uc790\\uce58\\ub3c4\",\"offsetgroup\":\"\\uc81c\\uc8fc\\ud2b9\\ubcc4\\uc790\\uce58\\ub3c4\",\"orientation\":\"v\",\"showlegend\":true,\"text\":[0.0007287832962868491,5.0344350107495535,94.96483620595416],\"textposition\":\"outside\",\"x\":[\"d2d_oneway\",\"d2d_round\",\"round\"],\"xaxis\":\"x\",\"y\":[0.0007287832962868491,5.0344350107495535,94.96483620595416],\"yaxis\":\"y\",\"type\":\"bar\",\"texttemplate\":\"%{text:.1f}%\"},{\"alignmentgroup\":\"True\",\"hovertemplate\":\"\\uc6b4\\uc601\\uc9c0\\uc5ed\\uc2dc\\u002f\\ub3c4=\\ud638\\ub0a8\\u003cbr\\u003e\\uc608\\uc57d\\ud0c0\\uc785=%{x}\\u003cbr\\u003e\\uad6c\\uc131\\ube44 (%)=%{text}\\u003cextra\\u003e\\u003c\\u002fextra\\u003e\",\"legendgroup\":\"\\ud638\\ub0a8\",\"marker\":{\"color\":\"#FFA15A\",\"pattern\":{\"shape\":\"\"}},\"name\":\"\\ud638\\ub0a8\",\"offsetgroup\":\"\\ud638\\ub0a8\",\"orientation\":\"v\",\"showlegend\":true,\"text\":[1.7520583759316346,8.628269663505938,89.61967196056243],\"textposition\":\"outside\",\"x\":[\"d2d_oneway\",\"d2d_round\",\"round\"],\"xaxis\":\"x\",\"y\":[1.7520583759316346,8.628269663505938,89.61967196056243],\"yaxis\":\"y\",\"type\":\"bar\",\"texttemplate\":\"%{text:.1f}%\"}],                        {\"template\":{\"data\":{\"histogram2dcontour\":[{\"type\":\"histogram2dcontour\",\"colorbar\":{\"outlinewidth\":0,\"ticks\":\"\"},\"colorscale\":[[0.0,\"#0d0887\"],[0.1111111111111111,\"#46039f\"],[0.2222222222222222,\"#7201a8\"],[0.3333333333333333,\"#9c179e\"],[0.4444444444444444,\"#bd3786\"],[0.5555555555555556,\"#d8576b\"],[0.6666666666666666,\"#ed7953\"],[0.7777777777777778,\"#fb9f3a\"],[0.8888888888888888,\"#fdca26\"],[1.0,\"#f0f921\"]]}],\"choropleth\":[{\"type\":\"choropleth\",\"colorbar\":{\"outlinewidth\":0,\"ticks\":\"\"}}],\"histogram2d\":[{\"type\":\"histogram2d\",\"colorbar\":{\"outlinewidth\":0,\"ticks\":\"\"},\"colorscale\":[[0.0,\"#0d0887\"],[0.1111111111111111,\"#46039f\"],[0.2222222222222222,\"#7201a8\"],[0.3333333333333333,\"#9c179e\"],[0.4444444444444444,\"#bd3786\"],[0.5555555555555556,\"#d8576b\"],[0.6666666666666666,\"#ed7953\"],[0.7777777777777778,\"#fb9f3a\"],[0.8888888888888888,\"#fdca26\"],[1.0,\"#f0f921\"]]}],\"heatmap\":[{\"type\":\"heatmap\",\"colorbar\":{\"outlinewidth\":0,\"ticks\":\"\"},\"colorscale\":[[0.0,\"#0d0887\"],[0.1111111111111111,\"#46039f\"],[0.2222222222222222,\"#7201a8\"],[0.3333333333333333,\"#9c179e\"],[0.4444444444444444,\"#bd3786\"],[0.5555555555555556,\"#d8576b\"],[0.6666666666666666,\"#ed7953\"],[0.7777777777777778,\"#fb9f3a\"],[0.8888888888888888,\"#fdca26\"],[1.0,\"#f0f921\"]]}],\"heatmapgl\":[{\"type\":\"heatmapgl\",\"colorbar\":{\"outlinewidth\":0,\"ticks\":\"\"},\"colorscale\":[[0.0,\"#0d0887\"],[0.1111111111111111,\"#46039f\"],[0.2222222222222222,\"#7201a8\"],[0.3333333333333333,\"#9c179e\"],[0.4444444444444444,\"#bd3786\"],[0.5555555555555556,\"#d8576b\"],[0.6666666666666666,\"#ed7953\"],[0.7777777777777778,\"#fb9f3a\"],[0.8888888888888888,\"#fdca26\"],[1.0,\"#f0f921\"]]}],\"contourcarpet\":[{\"type\":\"contourcarpet\",\"colorbar\":{\"outlinewidth\":0,\"ticks\":\"\"}}],\"contour\":[{\"type\":\"contour\",\"colorbar\":{\"outlinewidth\":0,\"ticks\":\"\"},\"colorscale\":[[0.0,\"#0d0887\"],[0.1111111111111111,\"#46039f\"],[0.2222222222222222,\"#7201a8\"],[0.3333333333333333,\"#9c179e\"],[0.4444444444444444,\"#bd3786\"],[0.5555555555555556,\"#d8576b\"],[0.6666666666666666,\"#ed7953\"],[0.7777777777777778,\"#fb9f3a\"],[0.8888888888888888,\"#fdca26\"],[1.0,\"#f0f921\"]]}],\"surface\":[{\"type\":\"surface\",\"colorbar\":{\"outlinewidth\":0,\"ticks\":\"\"},\"colorscale\":[[0.0,\"#0d0887\"],[0.1111111111111111,\"#46039f\"],[0.2222222222222222,\"#7201a8\"],[0.3333333333333333,\"#9c179e\"],[0.4444444444444444,\"#bd3786\"],[0.5555555555555556,\"#d8576b\"],[0.6666666666666666,\"#ed7953\"],[0.7777777777777778,\"#fb9f3a\"],[0.8888888888888888,\"#fdca26\"],[1.0,\"#f0f921\"]]}],\"mesh3d\":[{\"type\":\"mesh3d\",\"colorbar\":{\"outlinewidth\":0,\"ticks\":\"\"}}],\"scatter\":[{\"fillpattern\":{\"fillmode\":\"overlay\",\"size\":10,\"solidity\":0.2},\"type\":\"scatter\"}],\"parcoords\":[{\"type\":\"parcoords\",\"line\":{\"colorbar\":{\"outlinewidth\":0,\"ticks\":\"\"}}}],\"scatterpolargl\":[{\"type\":\"scatterpolargl\",\"marker\":{\"colorbar\":{\"outlinewidth\":0,\"ticks\":\"\"}}}],\"bar\":[{\"error_x\":{\"color\":\"#2a3f5f\"},\"error_y\":{\"color\":\"#2a3f5f\"},\"marker\":{\"line\":{\"color\":\"#E5ECF6\",\"width\":0.5},\"pattern\":{\"fillmode\":\"overlay\",\"size\":10,\"solidity\":0.2}},\"type\":\"bar\"}],\"scattergeo\":[{\"type\":\"scattergeo\",\"marker\":{\"colorbar\":{\"outlinewidth\":0,\"ticks\":\"\"}}}],\"scatterpolar\":[{\"type\":\"scatterpolar\",\"marker\":{\"colorbar\":{\"outlinewidth\":0,\"ticks\":\"\"}}}],\"histogram\":[{\"marker\":{\"pattern\":{\"fillmode\":\"overlay\",\"size\":10,\"solidity\":0.2}},\"type\":\"histogram\"}],\"scattergl\":[{\"type\":\"scattergl\",\"marker\":{\"colorbar\":{\"outlinewidth\":0,\"ticks\":\"\"}}}],\"scatter3d\":[{\"type\":\"scatter3d\",\"line\":{\"colorbar\":{\"outlinewidth\":0,\"ticks\":\"\"}},\"marker\":{\"colorbar\":{\"outlinewidth\":0,\"ticks\":\"\"}}}],\"scattermapbox\":[{\"type\":\"scattermapbox\",\"marker\":{\"colorbar\":{\"outlinewidth\":0,\"ticks\":\"\"}}}],\"scatterternary\":[{\"type\":\"scatterternary\",\"marker\":{\"colorbar\":{\"outlinewidth\":0,\"ticks\":\"\"}}}],\"scattercarpet\":[{\"type\":\"scattercarpet\",\"marker\":{\"colorbar\":{\"outlinewidth\":0,\"ticks\":\"\"}}}],\"carpet\":[{\"aaxis\":{\"endlinecolor\":\"#2a3f5f\",\"gridcolor\":\"white\",\"linecolor\":\"white\",\"minorgridcolor\":\"white\",\"startlinecolor\":\"#2a3f5f\"},\"baxis\":{\"endlinecolor\":\"#2a3f5f\",\"gridcolor\":\"white\",\"linecolor\":\"white\",\"minorgridcolor\":\"white\",\"startlinecolor\":\"#2a3f5f\"},\"type\":\"carpet\"}],\"table\":[{\"cells\":{\"fill\":{\"color\":\"#EBF0F8\"},\"line\":{\"color\":\"white\"}},\"header\":{\"fill\":{\"color\":\"#C8D4E3\"},\"line\":{\"color\":\"white\"}},\"type\":\"table\"}],\"barpolar\":[{\"marker\":{\"line\":{\"color\":\"#E5ECF6\",\"width\":0.5},\"pattern\":{\"fillmode\":\"overlay\",\"size\":10,\"solidity\":0.2}},\"type\":\"barpolar\"}],\"pie\":[{\"automargin\":true,\"type\":\"pie\"}]},\"layout\":{\"autotypenumbers\":\"strict\",\"colorway\":[\"#636efa\",\"#EF553B\",\"#00cc96\",\"#ab63fa\",\"#FFA15A\",\"#19d3f3\",\"#FF6692\",\"#B6E880\",\"#FF97FF\",\"#FECB52\"],\"font\":{\"color\":\"#2a3f5f\"},\"hovermode\":\"closest\",\"hoverlabel\":{\"align\":\"left\"},\"paper_bgcolor\":\"white\",\"plot_bgcolor\":\"#E5ECF6\",\"polar\":{\"bgcolor\":\"#E5ECF6\",\"angularaxis\":{\"gridcolor\":\"white\",\"linecolor\":\"white\",\"ticks\":\"\"},\"radialaxis\":{\"gridcolor\":\"white\",\"linecolor\":\"white\",\"ticks\":\"\"}},\"ternary\":{\"bgcolor\":\"#E5ECF6\",\"aaxis\":{\"gridcolor\":\"white\",\"linecolor\":\"white\",\"ticks\":\"\"},\"baxis\":{\"gridcolor\":\"white\",\"linecolor\":\"white\",\"ticks\":\"\"},\"caxis\":{\"gridcolor\":\"white\",\"linecolor\":\"white\",\"ticks\":\"\"}},\"coloraxis\":{\"colorbar\":{\"outlinewidth\":0,\"ticks\":\"\"}},\"colorscale\":{\"sequential\":[[0.0,\"#0d0887\"],[0.1111111111111111,\"#46039f\"],[0.2222222222222222,\"#7201a8\"],[0.3333333333333333,\"#9c179e\"],[0.4444444444444444,\"#bd3786\"],[0.5555555555555556,\"#d8576b\"],[0.6666666666666666,\"#ed7953\"],[0.7777777777777778,\"#fb9f3a\"],[0.8888888888888888,\"#fdca26\"],[1.0,\"#f0f921\"]],\"sequentialminus\":[[0.0,\"#0d0887\"],[0.1111111111111111,\"#46039f\"],[0.2222222222222222,\"#7201a8\"],[0.3333333333333333,\"#9c179e\"],[0.4444444444444444,\"#bd3786\"],[0.5555555555555556,\"#d8576b\"],[0.6666666666666666,\"#ed7953\"],[0.7777777777777778,\"#fb9f3a\"],[0.8888888888888888,\"#fdca26\"],[1.0,\"#f0f921\"]],\"diverging\":[[0,\"#8e0152\"],[0.1,\"#c51b7d\"],[0.2,\"#de77ae\"],[0.3,\"#f1b6da\"],[0.4,\"#fde0ef\"],[0.5,\"#f7f7f7\"],[0.6,\"#e6f5d0\"],[0.7,\"#b8e186\"],[0.8,\"#7fbc41\"],[0.9,\"#4d9221\"],[1,\"#276419\"]]},\"xaxis\":{\"gridcolor\":\"white\",\"linecolor\":\"white\",\"ticks\":\"\",\"title\":{\"standoff\":15},\"zerolinecolor\":\"white\",\"automargin\":true,\"zerolinewidth\":2},\"yaxis\":{\"gridcolor\":\"white\",\"linecolor\":\"white\",\"ticks\":\"\",\"title\":{\"standoff\":15},\"zerolinecolor\":\"white\",\"automargin\":true,\"zerolinewidth\":2},\"scene\":{\"xaxis\":{\"backgroundcolor\":\"#E5ECF6\",\"gridcolor\":\"white\",\"linecolor\":\"white\",\"showbackground\":true,\"ticks\":\"\",\"zerolinecolor\":\"white\",\"gridwidth\":2},\"yaxis\":{\"backgroundcolor\":\"#E5ECF6\",\"gridcolor\":\"white\",\"linecolor\":\"white\",\"showbackground\":true,\"ticks\":\"\",\"zerolinecolor\":\"white\",\"gridwidth\":2},\"zaxis\":{\"backgroundcolor\":\"#E5ECF6\",\"gridcolor\":\"white\",\"linecolor\":\"white\",\"showbackground\":true,\"ticks\":\"\",\"zerolinecolor\":\"white\",\"gridwidth\":2}},\"shapedefaults\":{\"line\":{\"color\":\"#2a3f5f\"}},\"annotationdefaults\":{\"arrowcolor\":\"#2a3f5f\",\"arrowhead\":0,\"arrowwidth\":1},\"geo\":{\"bgcolor\":\"white\",\"landcolor\":\"#E5ECF6\",\"subunitcolor\":\"white\",\"showland\":true,\"showlakes\":true,\"lakecolor\":\"white\"},\"title\":{\"x\":0.05},\"mapbox\":{\"style\":\"light\"}}},\"xaxis\":{\"anchor\":\"y\",\"domain\":[0.0,1.0],\"title\":{\"text\":\"\\uc608\\uc57d\\ud0c0\\uc785\"}},\"yaxis\":{\"anchor\":\"x\",\"domain\":[0.0,1.0],\"title\":{\"text\":\"\\uad6c\\uc131\\ube44 (%)\"}},\"legend\":{\"title\":{\"text\":\"\\uc6b4\\uc601\\uc9c0\\uc5ed\\uc2dc\\u002f\\ub3c4\"},\"tracegroupgap\":0},\"title\":{\"text\":\"\\uc9c0\\uc5ed \\ub0b4 \\uc608\\uc57d\\ud0c0\\uc785\\ubcc4 nuse\\uc758 \\uad6c\\uc131\\ube44\"},\"barmode\":\"group\"},                        {\"responsive\": true}                    ).then(function(){\n",
              "                            \n",
              "var gd = document.getElementById('51807b2f-328d-4198-8d74-b2fea8eaa884');\n",
              "var x = new MutationObserver(function (mutations, observer) {{\n",
              "        var display = window.getComputedStyle(gd).display;\n",
              "        if (!display || display === 'none') {{\n",
              "            console.log([gd, 'removed!']);\n",
              "            Plotly.purge(gd);\n",
              "            observer.disconnect();\n",
              "        }}\n",
              "}});\n",
              "\n",
              "// Listen for the removal of the full notebook cells\n",
              "var notebookContainer = gd.closest('#notebook-container');\n",
              "if (notebookContainer) {{\n",
              "    x.observe(notebookContainer, {childList: true});\n",
              "}}\n",
              "\n",
              "// Listen for the clearing of the current output cell\n",
              "var outputEl = gd.closest('.output');\n",
              "if (outputEl) {{\n",
              "    x.observe(outputEl, {childList: true});\n",
              "}}\n",
              "\n",
              "                        })                };                            </script>        </div>\n",
              "</body>\n",
              "</html>"
            ]
          },
          "metadata": {}
        }
      ]
    },
    {
      "cell_type": "markdown",
      "source": [
        "## 📈 *지역별 매출과 매출 대비 공헌이익도 살펴보기*\n",
        "1. 매출 구성비는 건수 구성비를 따른다 (당연하게도 건수가 많다면 매출이 높다)\n",
        "2. 공헌이익률은 건수와 상관 없이 대체로 비슷하다"
      ],
      "metadata": {
        "id": "ZAh04LHfub4J"
      }
    },
    {
      "cell_type": "code",
      "source": [
        "# region1이 특정 지역들인 행만 선택\n",
        "df_part = df[(df['region1'] == '제주특별자치도') | (df['region1'] == '서울특별시')  | (df['region1'] == '부산광역시')  | (df['region1'] == '호남')   | (df['region1'] == '부산광역시')  | (df['region1'] == '경기도')]\n",
        "\n",
        "# region1과 way_g별로 nuse의 합계를 계산\n",
        "summary = df_part.groupby(['region1', 'way'])['revenue'].sum().reset_index()\n",
        "\n",
        "# region1별로 nuse의 총합을 계산\n",
        "region_totals = df_part.groupby(['region1'])['revenue'].sum().reset_index().rename(columns={'revenue': 'total_revenue'})\n",
        "\n",
        "# summary에 region1별 총합을 merge하여 추가\n",
        "summary = summary.merge(region_totals, on='region1')\n",
        "\n",
        "# 각 way_g의 nuse가 region1 내에서 차지하는 비율을 계산\n",
        "summary['proportion'] = (summary['revenue'] / summary['total_revenue']) * 100\n",
        "\n",
        "# 바 차트로 결과 시각화\n",
        "fig = px.bar(summary, x='way', y='proportion', color='region1',\n",
        "             title='지역 내 예약타입별 revenue 구성비',\n",
        "             barmode='group',\n",
        "             text='proportion',\n",
        "             labels={'proportion': '구성비 (%)', 'way': '예약타입', 'region1': '운영지역시/도'})\n",
        "\n",
        "fig.update_traces(texttemplate='%{text:.1f}%', textposition='outside')\n",
        "fig.show()"
      ],
      "metadata": {
        "colab": {
          "base_uri": "https://localhost:8080/",
          "height": 542
        },
        "id": "8VnzY-cN_5cm",
        "outputId": "a77c5f8f-04c7-494e-fba9-007dabd32861"
      },
      "execution_count": null,
      "outputs": [
        {
          "output_type": "display_data",
          "data": {
            "text/html": [
              "<html>\n",
              "<head><meta charset=\"utf-8\" /></head>\n",
              "<body>\n",
              "    <div>            <script src=\"https://cdnjs.cloudflare.com/ajax/libs/mathjax/2.7.5/MathJax.js?config=TeX-AMS-MML_SVG\"></script><script type=\"text/javascript\">if (window.MathJax && window.MathJax.Hub && window.MathJax.Hub.Config) {window.MathJax.Hub.Config({SVG: {font: \"STIX-Web\"}});}</script>                <script type=\"text/javascript\">window.PlotlyConfig = {MathJaxConfig: 'local'};</script>\n",
              "        <script charset=\"utf-8\" src=\"https://cdn.plot.ly/plotly-2.24.1.min.js\"></script>                <div id=\"87b28411-8112-4083-b865-ace2be842f17\" class=\"plotly-graph-div\" style=\"height:525px; width:100%;\"></div>            <script type=\"text/javascript\">                                    window.PLOTLYENV=window.PLOTLYENV || {};                                    if (document.getElementById(\"87b28411-8112-4083-b865-ace2be842f17\")) {                    Plotly.newPlot(                        \"87b28411-8112-4083-b865-ace2be842f17\",                        [{\"alignmentgroup\":\"True\",\"hovertemplate\":\"\\uc6b4\\uc601\\uc9c0\\uc5ed\\uc2dc\\u002f\\ub3c4=\\uacbd\\uae30\\ub3c4\\u003cbr\\u003e\\uc608\\uc57d\\ud0c0\\uc785=%{x}\\u003cbr\\u003e\\uad6c\\uc131\\ube44 (%)=%{text}\\u003cextra\\u003e\\u003c\\u002fextra\\u003e\",\"legendgroup\":\"\\uacbd\\uae30\\ub3c4\",\"marker\":{\"color\":\"#636efa\",\"pattern\":{\"shape\":\"\"}},\"name\":\"\\uacbd\\uae30\\ub3c4\",\"offsetgroup\":\"\\uacbd\\uae30\\ub3c4\",\"orientation\":\"v\",\"showlegend\":true,\"text\":[2.8556179888986457,23.018661453786617,68.0512013854486,6.074519171866132],\"textposition\":\"outside\",\"x\":[\"d2d_oneway\",\"d2d_round\",\"round\",\"z2d_oneway\"],\"xaxis\":\"x\",\"y\":[2.8556179888986457,23.018661453786617,68.0512013854486,6.074519171866132],\"yaxis\":\"y\",\"type\":\"bar\",\"texttemplate\":\"%{text:.1f}%\"},{\"alignmentgroup\":\"True\",\"hovertemplate\":\"\\uc6b4\\uc601\\uc9c0\\uc5ed\\uc2dc\\u002f\\ub3c4=\\ubd80\\uc0b0\\uad11\\uc5ed\\uc2dc\\u003cbr\\u003e\\uc608\\uc57d\\ud0c0\\uc785=%{x}\\u003cbr\\u003e\\uad6c\\uc131\\ube44 (%)=%{text}\\u003cextra\\u003e\\u003c\\u002fextra\\u003e\",\"legendgroup\":\"\\ubd80\\uc0b0\\uad11\\uc5ed\\uc2dc\",\"marker\":{\"color\":\"#EF553B\",\"pattern\":{\"shape\":\"\"}},\"name\":\"\\ubd80\\uc0b0\\uad11\\uc5ed\\uc2dc\",\"offsetgroup\":\"\\ubd80\\uc0b0\\uad11\\uc5ed\\uc2dc\",\"orientation\":\"v\",\"showlegend\":true,\"text\":[2.828829247835091,15.14265267500746,73.52572078738554,8.502797289771907],\"textposition\":\"outside\",\"x\":[\"d2d_oneway\",\"d2d_round\",\"round\",\"z2d_oneway\"],\"xaxis\":\"x\",\"y\":[2.828829247835091,15.14265267500746,73.52572078738554,8.502797289771907],\"yaxis\":\"y\",\"type\":\"bar\",\"texttemplate\":\"%{text:.1f}%\"},{\"alignmentgroup\":\"True\",\"hovertemplate\":\"\\uc6b4\\uc601\\uc9c0\\uc5ed\\uc2dc\\u002f\\ub3c4=\\uc11c\\uc6b8\\ud2b9\\ubcc4\\uc2dc\\u003cbr\\u003e\\uc608\\uc57d\\ud0c0\\uc785=%{x}\\u003cbr\\u003e\\uad6c\\uc131\\ube44 (%)=%{text}\\u003cextra\\u003e\\u003c\\u002fextra\\u003e\",\"legendgroup\":\"\\uc11c\\uc6b8\\ud2b9\\ubcc4\\uc2dc\",\"marker\":{\"color\":\"#00cc96\",\"pattern\":{\"shape\":\"\"}},\"name\":\"\\uc11c\\uc6b8\\ud2b9\\ubcc4\\uc2dc\",\"offsetgroup\":\"\\uc11c\\uc6b8\\ud2b9\\ubcc4\\uc2dc\",\"orientation\":\"v\",\"showlegend\":true,\"text\":[3.4058878245419644,23.86070038154175,65.91488430364203,6.818527490274254],\"textposition\":\"outside\",\"x\":[\"d2d_oneway\",\"d2d_round\",\"round\",\"z2d_oneway\"],\"xaxis\":\"x\",\"y\":[3.4058878245419644,23.86070038154175,65.91488430364203,6.818527490274254],\"yaxis\":\"y\",\"type\":\"bar\",\"texttemplate\":\"%{text:.1f}%\"},{\"alignmentgroup\":\"True\",\"hovertemplate\":\"\\uc6b4\\uc601\\uc9c0\\uc5ed\\uc2dc\\u002f\\ub3c4=\\uc81c\\uc8fc\\ud2b9\\ubcc4\\uc790\\uce58\\ub3c4\\u003cbr\\u003e\\uc608\\uc57d\\ud0c0\\uc785=%{x}\\u003cbr\\u003e\\uad6c\\uc131\\ube44 (%)=%{text}\\u003cextra\\u003e\\u003c\\u002fextra\\u003e\",\"legendgroup\":\"\\uc81c\\uc8fc\\ud2b9\\ubcc4\\uc790\\uce58\\ub3c4\",\"marker\":{\"color\":\"#ab63fa\",\"pattern\":{\"shape\":\"\"}},\"name\":\"\\uc81c\\uc8fc\\ud2b9\\ubcc4\\uc790\\uce58\\ub3c4\",\"offsetgroup\":\"\\uc81c\\uc8fc\\ud2b9\\ubcc4\\uc790\\uce58\\ub3c4\",\"orientation\":\"v\",\"showlegend\":true,\"text\":[0.0008036741693063573,6.282025446837125,93.71717087899357],\"textposition\":\"outside\",\"x\":[\"d2d_oneway\",\"d2d_round\",\"round\"],\"xaxis\":\"x\",\"y\":[0.0008036741693063573,6.282025446837125,93.71717087899357],\"yaxis\":\"y\",\"type\":\"bar\",\"texttemplate\":\"%{text:.1f}%\"},{\"alignmentgroup\":\"True\",\"hovertemplate\":\"\\uc6b4\\uc601\\uc9c0\\uc5ed\\uc2dc\\u002f\\ub3c4=\\ud638\\ub0a8\\u003cbr\\u003e\\uc608\\uc57d\\ud0c0\\uc785=%{x}\\u003cbr\\u003e\\uad6c\\uc131\\ube44 (%)=%{text}\\u003cextra\\u003e\\u003c\\u002fextra\\u003e\",\"legendgroup\":\"\\ud638\\ub0a8\",\"marker\":{\"color\":\"#FFA15A\",\"pattern\":{\"shape\":\"\"}},\"name\":\"\\ud638\\ub0a8\",\"offsetgroup\":\"\\ud638\\ub0a8\",\"orientation\":\"v\",\"showlegend\":true,\"text\":[3.505377910057169,15.27788178046572,81.2167403094771],\"textposition\":\"outside\",\"x\":[\"d2d_oneway\",\"d2d_round\",\"round\"],\"xaxis\":\"x\",\"y\":[3.505377910057169,15.27788178046572,81.2167403094771],\"yaxis\":\"y\",\"type\":\"bar\",\"texttemplate\":\"%{text:.1f}%\"}],                        {\"template\":{\"data\":{\"histogram2dcontour\":[{\"type\":\"histogram2dcontour\",\"colorbar\":{\"outlinewidth\":0,\"ticks\":\"\"},\"colorscale\":[[0.0,\"#0d0887\"],[0.1111111111111111,\"#46039f\"],[0.2222222222222222,\"#7201a8\"],[0.3333333333333333,\"#9c179e\"],[0.4444444444444444,\"#bd3786\"],[0.5555555555555556,\"#d8576b\"],[0.6666666666666666,\"#ed7953\"],[0.7777777777777778,\"#fb9f3a\"],[0.8888888888888888,\"#fdca26\"],[1.0,\"#f0f921\"]]}],\"choropleth\":[{\"type\":\"choropleth\",\"colorbar\":{\"outlinewidth\":0,\"ticks\":\"\"}}],\"histogram2d\":[{\"type\":\"histogram2d\",\"colorbar\":{\"outlinewidth\":0,\"ticks\":\"\"},\"colorscale\":[[0.0,\"#0d0887\"],[0.1111111111111111,\"#46039f\"],[0.2222222222222222,\"#7201a8\"],[0.3333333333333333,\"#9c179e\"],[0.4444444444444444,\"#bd3786\"],[0.5555555555555556,\"#d8576b\"],[0.6666666666666666,\"#ed7953\"],[0.7777777777777778,\"#fb9f3a\"],[0.8888888888888888,\"#fdca26\"],[1.0,\"#f0f921\"]]}],\"heatmap\":[{\"type\":\"heatmap\",\"colorbar\":{\"outlinewidth\":0,\"ticks\":\"\"},\"colorscale\":[[0.0,\"#0d0887\"],[0.1111111111111111,\"#46039f\"],[0.2222222222222222,\"#7201a8\"],[0.3333333333333333,\"#9c179e\"],[0.4444444444444444,\"#bd3786\"],[0.5555555555555556,\"#d8576b\"],[0.6666666666666666,\"#ed7953\"],[0.7777777777777778,\"#fb9f3a\"],[0.8888888888888888,\"#fdca26\"],[1.0,\"#f0f921\"]]}],\"heatmapgl\":[{\"type\":\"heatmapgl\",\"colorbar\":{\"outlinewidth\":0,\"ticks\":\"\"},\"colorscale\":[[0.0,\"#0d0887\"],[0.1111111111111111,\"#46039f\"],[0.2222222222222222,\"#7201a8\"],[0.3333333333333333,\"#9c179e\"],[0.4444444444444444,\"#bd3786\"],[0.5555555555555556,\"#d8576b\"],[0.6666666666666666,\"#ed7953\"],[0.7777777777777778,\"#fb9f3a\"],[0.8888888888888888,\"#fdca26\"],[1.0,\"#f0f921\"]]}],\"contourcarpet\":[{\"type\":\"contourcarpet\",\"colorbar\":{\"outlinewidth\":0,\"ticks\":\"\"}}],\"contour\":[{\"type\":\"contour\",\"colorbar\":{\"outlinewidth\":0,\"ticks\":\"\"},\"colorscale\":[[0.0,\"#0d0887\"],[0.1111111111111111,\"#46039f\"],[0.2222222222222222,\"#7201a8\"],[0.3333333333333333,\"#9c179e\"],[0.4444444444444444,\"#bd3786\"],[0.5555555555555556,\"#d8576b\"],[0.6666666666666666,\"#ed7953\"],[0.7777777777777778,\"#fb9f3a\"],[0.8888888888888888,\"#fdca26\"],[1.0,\"#f0f921\"]]}],\"surface\":[{\"type\":\"surface\",\"colorbar\":{\"outlinewidth\":0,\"ticks\":\"\"},\"colorscale\":[[0.0,\"#0d0887\"],[0.1111111111111111,\"#46039f\"],[0.2222222222222222,\"#7201a8\"],[0.3333333333333333,\"#9c179e\"],[0.4444444444444444,\"#bd3786\"],[0.5555555555555556,\"#d8576b\"],[0.6666666666666666,\"#ed7953\"],[0.7777777777777778,\"#fb9f3a\"],[0.8888888888888888,\"#fdca26\"],[1.0,\"#f0f921\"]]}],\"mesh3d\":[{\"type\":\"mesh3d\",\"colorbar\":{\"outlinewidth\":0,\"ticks\":\"\"}}],\"scatter\":[{\"fillpattern\":{\"fillmode\":\"overlay\",\"size\":10,\"solidity\":0.2},\"type\":\"scatter\"}],\"parcoords\":[{\"type\":\"parcoords\",\"line\":{\"colorbar\":{\"outlinewidth\":0,\"ticks\":\"\"}}}],\"scatterpolargl\":[{\"type\":\"scatterpolargl\",\"marker\":{\"colorbar\":{\"outlinewidth\":0,\"ticks\":\"\"}}}],\"bar\":[{\"error_x\":{\"color\":\"#2a3f5f\"},\"error_y\":{\"color\":\"#2a3f5f\"},\"marker\":{\"line\":{\"color\":\"#E5ECF6\",\"width\":0.5},\"pattern\":{\"fillmode\":\"overlay\",\"size\":10,\"solidity\":0.2}},\"type\":\"bar\"}],\"scattergeo\":[{\"type\":\"scattergeo\",\"marker\":{\"colorbar\":{\"outlinewidth\":0,\"ticks\":\"\"}}}],\"scatterpolar\":[{\"type\":\"scatterpolar\",\"marker\":{\"colorbar\":{\"outlinewidth\":0,\"ticks\":\"\"}}}],\"histogram\":[{\"marker\":{\"pattern\":{\"fillmode\":\"overlay\",\"size\":10,\"solidity\":0.2}},\"type\":\"histogram\"}],\"scattergl\":[{\"type\":\"scattergl\",\"marker\":{\"colorbar\":{\"outlinewidth\":0,\"ticks\":\"\"}}}],\"scatter3d\":[{\"type\":\"scatter3d\",\"line\":{\"colorbar\":{\"outlinewidth\":0,\"ticks\":\"\"}},\"marker\":{\"colorbar\":{\"outlinewidth\":0,\"ticks\":\"\"}}}],\"scattermapbox\":[{\"type\":\"scattermapbox\",\"marker\":{\"colorbar\":{\"outlinewidth\":0,\"ticks\":\"\"}}}],\"scatterternary\":[{\"type\":\"scatterternary\",\"marker\":{\"colorbar\":{\"outlinewidth\":0,\"ticks\":\"\"}}}],\"scattercarpet\":[{\"type\":\"scattercarpet\",\"marker\":{\"colorbar\":{\"outlinewidth\":0,\"ticks\":\"\"}}}],\"carpet\":[{\"aaxis\":{\"endlinecolor\":\"#2a3f5f\",\"gridcolor\":\"white\",\"linecolor\":\"white\",\"minorgridcolor\":\"white\",\"startlinecolor\":\"#2a3f5f\"},\"baxis\":{\"endlinecolor\":\"#2a3f5f\",\"gridcolor\":\"white\",\"linecolor\":\"white\",\"minorgridcolor\":\"white\",\"startlinecolor\":\"#2a3f5f\"},\"type\":\"carpet\"}],\"table\":[{\"cells\":{\"fill\":{\"color\":\"#EBF0F8\"},\"line\":{\"color\":\"white\"}},\"header\":{\"fill\":{\"color\":\"#C8D4E3\"},\"line\":{\"color\":\"white\"}},\"type\":\"table\"}],\"barpolar\":[{\"marker\":{\"line\":{\"color\":\"#E5ECF6\",\"width\":0.5},\"pattern\":{\"fillmode\":\"overlay\",\"size\":10,\"solidity\":0.2}},\"type\":\"barpolar\"}],\"pie\":[{\"automargin\":true,\"type\":\"pie\"}]},\"layout\":{\"autotypenumbers\":\"strict\",\"colorway\":[\"#636efa\",\"#EF553B\",\"#00cc96\",\"#ab63fa\",\"#FFA15A\",\"#19d3f3\",\"#FF6692\",\"#B6E880\",\"#FF97FF\",\"#FECB52\"],\"font\":{\"color\":\"#2a3f5f\"},\"hovermode\":\"closest\",\"hoverlabel\":{\"align\":\"left\"},\"paper_bgcolor\":\"white\",\"plot_bgcolor\":\"#E5ECF6\",\"polar\":{\"bgcolor\":\"#E5ECF6\",\"angularaxis\":{\"gridcolor\":\"white\",\"linecolor\":\"white\",\"ticks\":\"\"},\"radialaxis\":{\"gridcolor\":\"white\",\"linecolor\":\"white\",\"ticks\":\"\"}},\"ternary\":{\"bgcolor\":\"#E5ECF6\",\"aaxis\":{\"gridcolor\":\"white\",\"linecolor\":\"white\",\"ticks\":\"\"},\"baxis\":{\"gridcolor\":\"white\",\"linecolor\":\"white\",\"ticks\":\"\"},\"caxis\":{\"gridcolor\":\"white\",\"linecolor\":\"white\",\"ticks\":\"\"}},\"coloraxis\":{\"colorbar\":{\"outlinewidth\":0,\"ticks\":\"\"}},\"colorscale\":{\"sequential\":[[0.0,\"#0d0887\"],[0.1111111111111111,\"#46039f\"],[0.2222222222222222,\"#7201a8\"],[0.3333333333333333,\"#9c179e\"],[0.4444444444444444,\"#bd3786\"],[0.5555555555555556,\"#d8576b\"],[0.6666666666666666,\"#ed7953\"],[0.7777777777777778,\"#fb9f3a\"],[0.8888888888888888,\"#fdca26\"],[1.0,\"#f0f921\"]],\"sequentialminus\":[[0.0,\"#0d0887\"],[0.1111111111111111,\"#46039f\"],[0.2222222222222222,\"#7201a8\"],[0.3333333333333333,\"#9c179e\"],[0.4444444444444444,\"#bd3786\"],[0.5555555555555556,\"#d8576b\"],[0.6666666666666666,\"#ed7953\"],[0.7777777777777778,\"#fb9f3a\"],[0.8888888888888888,\"#fdca26\"],[1.0,\"#f0f921\"]],\"diverging\":[[0,\"#8e0152\"],[0.1,\"#c51b7d\"],[0.2,\"#de77ae\"],[0.3,\"#f1b6da\"],[0.4,\"#fde0ef\"],[0.5,\"#f7f7f7\"],[0.6,\"#e6f5d0\"],[0.7,\"#b8e186\"],[0.8,\"#7fbc41\"],[0.9,\"#4d9221\"],[1,\"#276419\"]]},\"xaxis\":{\"gridcolor\":\"white\",\"linecolor\":\"white\",\"ticks\":\"\",\"title\":{\"standoff\":15},\"zerolinecolor\":\"white\",\"automargin\":true,\"zerolinewidth\":2},\"yaxis\":{\"gridcolor\":\"white\",\"linecolor\":\"white\",\"ticks\":\"\",\"title\":{\"standoff\":15},\"zerolinecolor\":\"white\",\"automargin\":true,\"zerolinewidth\":2},\"scene\":{\"xaxis\":{\"backgroundcolor\":\"#E5ECF6\",\"gridcolor\":\"white\",\"linecolor\":\"white\",\"showbackground\":true,\"ticks\":\"\",\"zerolinecolor\":\"white\",\"gridwidth\":2},\"yaxis\":{\"backgroundcolor\":\"#E5ECF6\",\"gridcolor\":\"white\",\"linecolor\":\"white\",\"showbackground\":true,\"ticks\":\"\",\"zerolinecolor\":\"white\",\"gridwidth\":2},\"zaxis\":{\"backgroundcolor\":\"#E5ECF6\",\"gridcolor\":\"white\",\"linecolor\":\"white\",\"showbackground\":true,\"ticks\":\"\",\"zerolinecolor\":\"white\",\"gridwidth\":2}},\"shapedefaults\":{\"line\":{\"color\":\"#2a3f5f\"}},\"annotationdefaults\":{\"arrowcolor\":\"#2a3f5f\",\"arrowhead\":0,\"arrowwidth\":1},\"geo\":{\"bgcolor\":\"white\",\"landcolor\":\"#E5ECF6\",\"subunitcolor\":\"white\",\"showland\":true,\"showlakes\":true,\"lakecolor\":\"white\"},\"title\":{\"x\":0.05},\"mapbox\":{\"style\":\"light\"}}},\"xaxis\":{\"anchor\":\"y\",\"domain\":[0.0,1.0],\"title\":{\"text\":\"\\uc608\\uc57d\\ud0c0\\uc785\"}},\"yaxis\":{\"anchor\":\"x\",\"domain\":[0.0,1.0],\"title\":{\"text\":\"\\uad6c\\uc131\\ube44 (%)\"}},\"legend\":{\"title\":{\"text\":\"\\uc6b4\\uc601\\uc9c0\\uc5ed\\uc2dc\\u002f\\ub3c4\"},\"tracegroupgap\":0},\"title\":{\"text\":\"\\uc9c0\\uc5ed \\ub0b4 \\uc608\\uc57d\\ud0c0\\uc785\\ubcc4 revenue \\uad6c\\uc131\\ube44\"},\"barmode\":\"group\"},                        {\"responsive\": true}                    ).then(function(){\n",
              "                            \n",
              "var gd = document.getElementById('87b28411-8112-4083-b865-ace2be842f17');\n",
              "var x = new MutationObserver(function (mutations, observer) {{\n",
              "        var display = window.getComputedStyle(gd).display;\n",
              "        if (!display || display === 'none') {{\n",
              "            console.log([gd, 'removed!']);\n",
              "            Plotly.purge(gd);\n",
              "            observer.disconnect();\n",
              "        }}\n",
              "}});\n",
              "\n",
              "// Listen for the removal of the full notebook cells\n",
              "var notebookContainer = gd.closest('#notebook-container');\n",
              "if (notebookContainer) {{\n",
              "    x.observe(notebookContainer, {childList: true});\n",
              "}}\n",
              "\n",
              "// Listen for the clearing of the current output cell\n",
              "var outputEl = gd.closest('.output');\n",
              "if (outputEl) {{\n",
              "    x.observe(outputEl, {childList: true});\n",
              "}}\n",
              "\n",
              "                        })                };                            </script>        </div>\n",
              "</body>\n",
              "</html>"
            ]
          },
          "metadata": {}
        }
      ]
    },
    {
      "cell_type": "code",
      "source": [
        "# 단계 1: region1과 way_g별로 margin과 revenue의 합계를 계산\n",
        "summary = df_part.groupby(['region1', 'way']).agg({'margin': 'sum', 'revenue': 'sum'}).reset_index()\n",
        "\n",
        "# 단계 2: 각 그룹별 공헌이익률(margin_ratio) 계산\n",
        "summary['margin_ratio'] = (summary['margin'] / summary['revenue']) * 100\n",
        "\n",
        "# 바 차트로 결과 시각화\n",
        "fig = px.bar(summary, x='way', y='margin_ratio', color='region1',\n",
        "             title='지역 내 예약타입별 공헌이익률',\n",
        "             barmode='group',\n",
        "             text='margin_ratio',\n",
        "             labels={'margin_ratio': '공헌이익률 (%)', 'way': '예약타입', 'region1': '운영지역시/도'})\n",
        "\n",
        "fig.update_traces(texttemplate='%{text:.2f}%', textposition='outside')\n",
        "fig.show()"
      ],
      "metadata": {
        "colab": {
          "base_uri": "https://localhost:8080/",
          "height": 542
        },
        "id": "I4MANlfDAHTy",
        "outputId": "adb29e49-3276-4a76-b11a-9506091b8738"
      },
      "execution_count": null,
      "outputs": [
        {
          "output_type": "display_data",
          "data": {
            "text/html": [
              "<html>\n",
              "<head><meta charset=\"utf-8\" /></head>\n",
              "<body>\n",
              "    <div>            <script src=\"https://cdnjs.cloudflare.com/ajax/libs/mathjax/2.7.5/MathJax.js?config=TeX-AMS-MML_SVG\"></script><script type=\"text/javascript\">if (window.MathJax && window.MathJax.Hub && window.MathJax.Hub.Config) {window.MathJax.Hub.Config({SVG: {font: \"STIX-Web\"}});}</script>                <script type=\"text/javascript\">window.PlotlyConfig = {MathJaxConfig: 'local'};</script>\n",
              "        <script charset=\"utf-8\" src=\"https://cdn.plot.ly/plotly-2.24.1.min.js\"></script>                <div id=\"917a9cef-f924-4860-9b6e-60bdad9b1709\" class=\"plotly-graph-div\" style=\"height:525px; width:100%;\"></div>            <script type=\"text/javascript\">                                    window.PLOTLYENV=window.PLOTLYENV || {};                                    if (document.getElementById(\"917a9cef-f924-4860-9b6e-60bdad9b1709\")) {                    Plotly.newPlot(                        \"917a9cef-f924-4860-9b6e-60bdad9b1709\",                        [{\"alignmentgroup\":\"True\",\"hovertemplate\":\"\\uc6b4\\uc601\\uc9c0\\uc5ed\\uc2dc\\u002f\\ub3c4=\\uacbd\\uae30\\ub3c4\\u003cbr\\u003e\\uc608\\uc57d\\ud0c0\\uc785=%{x}\\u003cbr\\u003e\\uacf5\\ud5cc\\uc774\\uc775\\ub960 (%)=%{text}\\u003cextra\\u003e\\u003c\\u002fextra\\u003e\",\"legendgroup\":\"\\uacbd\\uae30\\ub3c4\",\"marker\":{\"color\":\"#636efa\",\"pattern\":{\"shape\":\"\"}},\"name\":\"\\uacbd\\uae30\\ub3c4\",\"offsetgroup\":\"\\uacbd\\uae30\\ub3c4\",\"orientation\":\"v\",\"showlegend\":true,\"text\":[50.34257274301385,46.91372727186322,57.49957392848276,44.21402132477106],\"textposition\":\"outside\",\"x\":[\"d2d_oneway\",\"d2d_round\",\"round\",\"z2d_oneway\"],\"xaxis\":\"x\",\"y\":[50.34257274301385,46.91372727186322,57.49957392848276,44.21402132477106],\"yaxis\":\"y\",\"type\":\"bar\",\"texttemplate\":\"%{text:.2f}%\"},{\"alignmentgroup\":\"True\",\"hovertemplate\":\"\\uc6b4\\uc601\\uc9c0\\uc5ed\\uc2dc\\u002f\\ub3c4=\\ubd80\\uc0b0\\uad11\\uc5ed\\uc2dc\\u003cbr\\u003e\\uc608\\uc57d\\ud0c0\\uc785=%{x}\\u003cbr\\u003e\\uacf5\\ud5cc\\uc774\\uc775\\ub960 (%)=%{text}\\u003cextra\\u003e\\u003c\\u002fextra\\u003e\",\"legendgroup\":\"\\ubd80\\uc0b0\\uad11\\uc5ed\\uc2dc\",\"marker\":{\"color\":\"#EF553B\",\"pattern\":{\"shape\":\"\"}},\"name\":\"\\ubd80\\uc0b0\\uad11\\uc5ed\\uc2dc\",\"offsetgroup\":\"\\ubd80\\uc0b0\\uad11\\uc5ed\\uc2dc\",\"orientation\":\"v\",\"showlegend\":true,\"text\":[51.99993537629312,48.62294607763153,60.790544932403634,47.06788873688432],\"textposition\":\"outside\",\"x\":[\"d2d_oneway\",\"d2d_round\",\"round\",\"z2d_oneway\"],\"xaxis\":\"x\",\"y\":[51.99993537629312,48.62294607763153,60.790544932403634,47.06788873688432],\"yaxis\":\"y\",\"type\":\"bar\",\"texttemplate\":\"%{text:.2f}%\"},{\"alignmentgroup\":\"True\",\"hovertemplate\":\"\\uc6b4\\uc601\\uc9c0\\uc5ed\\uc2dc\\u002f\\ub3c4=\\uc11c\\uc6b8\\ud2b9\\ubcc4\\uc2dc\\u003cbr\\u003e\\uc608\\uc57d\\ud0c0\\uc785=%{x}\\u003cbr\\u003e\\uacf5\\ud5cc\\uc774\\uc775\\ub960 (%)=%{text}\\u003cextra\\u003e\\u003c\\u002fextra\\u003e\",\"legendgroup\":\"\\uc11c\\uc6b8\\ud2b9\\ubcc4\\uc2dc\",\"marker\":{\"color\":\"#00cc96\",\"pattern\":{\"shape\":\"\"}},\"name\":\"\\uc11c\\uc6b8\\ud2b9\\ubcc4\\uc2dc\",\"offsetgroup\":\"\\uc11c\\uc6b8\\ud2b9\\ubcc4\\uc2dc\",\"orientation\":\"v\",\"showlegend\":true,\"text\":[51.7210305450981,49.820220786782976,59.14651058317176,43.835851540499085],\"textposition\":\"outside\",\"x\":[\"d2d_oneway\",\"d2d_round\",\"round\",\"z2d_oneway\"],\"xaxis\":\"x\",\"y\":[51.7210305450981,49.820220786782976,59.14651058317176,43.835851540499085],\"yaxis\":\"y\",\"type\":\"bar\",\"texttemplate\":\"%{text:.2f}%\"},{\"alignmentgroup\":\"True\",\"hovertemplate\":\"\\uc6b4\\uc601\\uc9c0\\uc5ed\\uc2dc\\u002f\\ub3c4=\\uc81c\\uc8fc\\ud2b9\\ubcc4\\uc790\\uce58\\ub3c4\\u003cbr\\u003e\\uc608\\uc57d\\ud0c0\\uc785=%{x}\\u003cbr\\u003e\\uacf5\\ud5cc\\uc774\\uc775\\ub960 (%)=%{text}\\u003cextra\\u003e\\u003c\\u002fextra\\u003e\",\"legendgroup\":\"\\uc81c\\uc8fc\\ud2b9\\ubcc4\\uc790\\uce58\\ub3c4\",\"marker\":{\"color\":\"#ab63fa\",\"pattern\":{\"shape\":\"\"}},\"name\":\"\\uc81c\\uc8fc\\ud2b9\\ubcc4\\uc790\\uce58\\ub3c4\",\"offsetgroup\":\"\\uc81c\\uc8fc\\ud2b9\\ubcc4\\uc790\\uce58\\ub3c4\",\"orientation\":\"v\",\"showlegend\":true,\"text\":[3.179630476736898,42.922183620125395,57.60304112193098],\"textposition\":\"outside\",\"x\":[\"d2d_oneway\",\"d2d_round\",\"round\"],\"xaxis\":\"x\",\"y\":[3.179630476736898,42.922183620125395,57.60304112193098],\"yaxis\":\"y\",\"type\":\"bar\",\"texttemplate\":\"%{text:.2f}%\"},{\"alignmentgroup\":\"True\",\"hovertemplate\":\"\\uc6b4\\uc601\\uc9c0\\uc5ed\\uc2dc\\u002f\\ub3c4=\\ud638\\ub0a8\\u003cbr\\u003e\\uc608\\uc57d\\ud0c0\\uc785=%{x}\\u003cbr\\u003e\\uacf5\\ud5cc\\uc774\\uc775\\ub960 (%)=%{text}\\u003cextra\\u003e\\u003c\\u002fextra\\u003e\",\"legendgroup\":\"\\ud638\\ub0a8\",\"marker\":{\"color\":\"#FFA15A\",\"pattern\":{\"shape\":\"\"}},\"name\":\"\\ud638\\ub0a8\",\"offsetgroup\":\"\\ud638\\ub0a8\",\"orientation\":\"v\",\"showlegend\":true,\"text\":[53.19800209194484,47.40002325834653,60.27279350225165],\"textposition\":\"outside\",\"x\":[\"d2d_oneway\",\"d2d_round\",\"round\"],\"xaxis\":\"x\",\"y\":[53.19800209194484,47.40002325834653,60.27279350225165],\"yaxis\":\"y\",\"type\":\"bar\",\"texttemplate\":\"%{text:.2f}%\"}],                        {\"template\":{\"data\":{\"histogram2dcontour\":[{\"type\":\"histogram2dcontour\",\"colorbar\":{\"outlinewidth\":0,\"ticks\":\"\"},\"colorscale\":[[0.0,\"#0d0887\"],[0.1111111111111111,\"#46039f\"],[0.2222222222222222,\"#7201a8\"],[0.3333333333333333,\"#9c179e\"],[0.4444444444444444,\"#bd3786\"],[0.5555555555555556,\"#d8576b\"],[0.6666666666666666,\"#ed7953\"],[0.7777777777777778,\"#fb9f3a\"],[0.8888888888888888,\"#fdca26\"],[1.0,\"#f0f921\"]]}],\"choropleth\":[{\"type\":\"choropleth\",\"colorbar\":{\"outlinewidth\":0,\"ticks\":\"\"}}],\"histogram2d\":[{\"type\":\"histogram2d\",\"colorbar\":{\"outlinewidth\":0,\"ticks\":\"\"},\"colorscale\":[[0.0,\"#0d0887\"],[0.1111111111111111,\"#46039f\"],[0.2222222222222222,\"#7201a8\"],[0.3333333333333333,\"#9c179e\"],[0.4444444444444444,\"#bd3786\"],[0.5555555555555556,\"#d8576b\"],[0.6666666666666666,\"#ed7953\"],[0.7777777777777778,\"#fb9f3a\"],[0.8888888888888888,\"#fdca26\"],[1.0,\"#f0f921\"]]}],\"heatmap\":[{\"type\":\"heatmap\",\"colorbar\":{\"outlinewidth\":0,\"ticks\":\"\"},\"colorscale\":[[0.0,\"#0d0887\"],[0.1111111111111111,\"#46039f\"],[0.2222222222222222,\"#7201a8\"],[0.3333333333333333,\"#9c179e\"],[0.4444444444444444,\"#bd3786\"],[0.5555555555555556,\"#d8576b\"],[0.6666666666666666,\"#ed7953\"],[0.7777777777777778,\"#fb9f3a\"],[0.8888888888888888,\"#fdca26\"],[1.0,\"#f0f921\"]]}],\"heatmapgl\":[{\"type\":\"heatmapgl\",\"colorbar\":{\"outlinewidth\":0,\"ticks\":\"\"},\"colorscale\":[[0.0,\"#0d0887\"],[0.1111111111111111,\"#46039f\"],[0.2222222222222222,\"#7201a8\"],[0.3333333333333333,\"#9c179e\"],[0.4444444444444444,\"#bd3786\"],[0.5555555555555556,\"#d8576b\"],[0.6666666666666666,\"#ed7953\"],[0.7777777777777778,\"#fb9f3a\"],[0.8888888888888888,\"#fdca26\"],[1.0,\"#f0f921\"]]}],\"contourcarpet\":[{\"type\":\"contourcarpet\",\"colorbar\":{\"outlinewidth\":0,\"ticks\":\"\"}}],\"contour\":[{\"type\":\"contour\",\"colorbar\":{\"outlinewidth\":0,\"ticks\":\"\"},\"colorscale\":[[0.0,\"#0d0887\"],[0.1111111111111111,\"#46039f\"],[0.2222222222222222,\"#7201a8\"],[0.3333333333333333,\"#9c179e\"],[0.4444444444444444,\"#bd3786\"],[0.5555555555555556,\"#d8576b\"],[0.6666666666666666,\"#ed7953\"],[0.7777777777777778,\"#fb9f3a\"],[0.8888888888888888,\"#fdca26\"],[1.0,\"#f0f921\"]]}],\"surface\":[{\"type\":\"surface\",\"colorbar\":{\"outlinewidth\":0,\"ticks\":\"\"},\"colorscale\":[[0.0,\"#0d0887\"],[0.1111111111111111,\"#46039f\"],[0.2222222222222222,\"#7201a8\"],[0.3333333333333333,\"#9c179e\"],[0.4444444444444444,\"#bd3786\"],[0.5555555555555556,\"#d8576b\"],[0.6666666666666666,\"#ed7953\"],[0.7777777777777778,\"#fb9f3a\"],[0.8888888888888888,\"#fdca26\"],[1.0,\"#f0f921\"]]}],\"mesh3d\":[{\"type\":\"mesh3d\",\"colorbar\":{\"outlinewidth\":0,\"ticks\":\"\"}}],\"scatter\":[{\"fillpattern\":{\"fillmode\":\"overlay\",\"size\":10,\"solidity\":0.2},\"type\":\"scatter\"}],\"parcoords\":[{\"type\":\"parcoords\",\"line\":{\"colorbar\":{\"outlinewidth\":0,\"ticks\":\"\"}}}],\"scatterpolargl\":[{\"type\":\"scatterpolargl\",\"marker\":{\"colorbar\":{\"outlinewidth\":0,\"ticks\":\"\"}}}],\"bar\":[{\"error_x\":{\"color\":\"#2a3f5f\"},\"error_y\":{\"color\":\"#2a3f5f\"},\"marker\":{\"line\":{\"color\":\"#E5ECF6\",\"width\":0.5},\"pattern\":{\"fillmode\":\"overlay\",\"size\":10,\"solidity\":0.2}},\"type\":\"bar\"}],\"scattergeo\":[{\"type\":\"scattergeo\",\"marker\":{\"colorbar\":{\"outlinewidth\":0,\"ticks\":\"\"}}}],\"scatterpolar\":[{\"type\":\"scatterpolar\",\"marker\":{\"colorbar\":{\"outlinewidth\":0,\"ticks\":\"\"}}}],\"histogram\":[{\"marker\":{\"pattern\":{\"fillmode\":\"overlay\",\"size\":10,\"solidity\":0.2}},\"type\":\"histogram\"}],\"scattergl\":[{\"type\":\"scattergl\",\"marker\":{\"colorbar\":{\"outlinewidth\":0,\"ticks\":\"\"}}}],\"scatter3d\":[{\"type\":\"scatter3d\",\"line\":{\"colorbar\":{\"outlinewidth\":0,\"ticks\":\"\"}},\"marker\":{\"colorbar\":{\"outlinewidth\":0,\"ticks\":\"\"}}}],\"scattermapbox\":[{\"type\":\"scattermapbox\",\"marker\":{\"colorbar\":{\"outlinewidth\":0,\"ticks\":\"\"}}}],\"scatterternary\":[{\"type\":\"scatterternary\",\"marker\":{\"colorbar\":{\"outlinewidth\":0,\"ticks\":\"\"}}}],\"scattercarpet\":[{\"type\":\"scattercarpet\",\"marker\":{\"colorbar\":{\"outlinewidth\":0,\"ticks\":\"\"}}}],\"carpet\":[{\"aaxis\":{\"endlinecolor\":\"#2a3f5f\",\"gridcolor\":\"white\",\"linecolor\":\"white\",\"minorgridcolor\":\"white\",\"startlinecolor\":\"#2a3f5f\"},\"baxis\":{\"endlinecolor\":\"#2a3f5f\",\"gridcolor\":\"white\",\"linecolor\":\"white\",\"minorgridcolor\":\"white\",\"startlinecolor\":\"#2a3f5f\"},\"type\":\"carpet\"}],\"table\":[{\"cells\":{\"fill\":{\"color\":\"#EBF0F8\"},\"line\":{\"color\":\"white\"}},\"header\":{\"fill\":{\"color\":\"#C8D4E3\"},\"line\":{\"color\":\"white\"}},\"type\":\"table\"}],\"barpolar\":[{\"marker\":{\"line\":{\"color\":\"#E5ECF6\",\"width\":0.5},\"pattern\":{\"fillmode\":\"overlay\",\"size\":10,\"solidity\":0.2}},\"type\":\"barpolar\"}],\"pie\":[{\"automargin\":true,\"type\":\"pie\"}]},\"layout\":{\"autotypenumbers\":\"strict\",\"colorway\":[\"#636efa\",\"#EF553B\",\"#00cc96\",\"#ab63fa\",\"#FFA15A\",\"#19d3f3\",\"#FF6692\",\"#B6E880\",\"#FF97FF\",\"#FECB52\"],\"font\":{\"color\":\"#2a3f5f\"},\"hovermode\":\"closest\",\"hoverlabel\":{\"align\":\"left\"},\"paper_bgcolor\":\"white\",\"plot_bgcolor\":\"#E5ECF6\",\"polar\":{\"bgcolor\":\"#E5ECF6\",\"angularaxis\":{\"gridcolor\":\"white\",\"linecolor\":\"white\",\"ticks\":\"\"},\"radialaxis\":{\"gridcolor\":\"white\",\"linecolor\":\"white\",\"ticks\":\"\"}},\"ternary\":{\"bgcolor\":\"#E5ECF6\",\"aaxis\":{\"gridcolor\":\"white\",\"linecolor\":\"white\",\"ticks\":\"\"},\"baxis\":{\"gridcolor\":\"white\",\"linecolor\":\"white\",\"ticks\":\"\"},\"caxis\":{\"gridcolor\":\"white\",\"linecolor\":\"white\",\"ticks\":\"\"}},\"coloraxis\":{\"colorbar\":{\"outlinewidth\":0,\"ticks\":\"\"}},\"colorscale\":{\"sequential\":[[0.0,\"#0d0887\"],[0.1111111111111111,\"#46039f\"],[0.2222222222222222,\"#7201a8\"],[0.3333333333333333,\"#9c179e\"],[0.4444444444444444,\"#bd3786\"],[0.5555555555555556,\"#d8576b\"],[0.6666666666666666,\"#ed7953\"],[0.7777777777777778,\"#fb9f3a\"],[0.8888888888888888,\"#fdca26\"],[1.0,\"#f0f921\"]],\"sequentialminus\":[[0.0,\"#0d0887\"],[0.1111111111111111,\"#46039f\"],[0.2222222222222222,\"#7201a8\"],[0.3333333333333333,\"#9c179e\"],[0.4444444444444444,\"#bd3786\"],[0.5555555555555556,\"#d8576b\"],[0.6666666666666666,\"#ed7953\"],[0.7777777777777778,\"#fb9f3a\"],[0.8888888888888888,\"#fdca26\"],[1.0,\"#f0f921\"]],\"diverging\":[[0,\"#8e0152\"],[0.1,\"#c51b7d\"],[0.2,\"#de77ae\"],[0.3,\"#f1b6da\"],[0.4,\"#fde0ef\"],[0.5,\"#f7f7f7\"],[0.6,\"#e6f5d0\"],[0.7,\"#b8e186\"],[0.8,\"#7fbc41\"],[0.9,\"#4d9221\"],[1,\"#276419\"]]},\"xaxis\":{\"gridcolor\":\"white\",\"linecolor\":\"white\",\"ticks\":\"\",\"title\":{\"standoff\":15},\"zerolinecolor\":\"white\",\"automargin\":true,\"zerolinewidth\":2},\"yaxis\":{\"gridcolor\":\"white\",\"linecolor\":\"white\",\"ticks\":\"\",\"title\":{\"standoff\":15},\"zerolinecolor\":\"white\",\"automargin\":true,\"zerolinewidth\":2},\"scene\":{\"xaxis\":{\"backgroundcolor\":\"#E5ECF6\",\"gridcolor\":\"white\",\"linecolor\":\"white\",\"showbackground\":true,\"ticks\":\"\",\"zerolinecolor\":\"white\",\"gridwidth\":2},\"yaxis\":{\"backgroundcolor\":\"#E5ECF6\",\"gridcolor\":\"white\",\"linecolor\":\"white\",\"showbackground\":true,\"ticks\":\"\",\"zerolinecolor\":\"white\",\"gridwidth\":2},\"zaxis\":{\"backgroundcolor\":\"#E5ECF6\",\"gridcolor\":\"white\",\"linecolor\":\"white\",\"showbackground\":true,\"ticks\":\"\",\"zerolinecolor\":\"white\",\"gridwidth\":2}},\"shapedefaults\":{\"line\":{\"color\":\"#2a3f5f\"}},\"annotationdefaults\":{\"arrowcolor\":\"#2a3f5f\",\"arrowhead\":0,\"arrowwidth\":1},\"geo\":{\"bgcolor\":\"white\",\"landcolor\":\"#E5ECF6\",\"subunitcolor\":\"white\",\"showland\":true,\"showlakes\":true,\"lakecolor\":\"white\"},\"title\":{\"x\":0.05},\"mapbox\":{\"style\":\"light\"}}},\"xaxis\":{\"anchor\":\"y\",\"domain\":[0.0,1.0],\"title\":{\"text\":\"\\uc608\\uc57d\\ud0c0\\uc785\"}},\"yaxis\":{\"anchor\":\"x\",\"domain\":[0.0,1.0],\"title\":{\"text\":\"\\uacf5\\ud5cc\\uc774\\uc775\\ub960 (%)\"}},\"legend\":{\"title\":{\"text\":\"\\uc6b4\\uc601\\uc9c0\\uc5ed\\uc2dc\\u002f\\ub3c4\"},\"tracegroupgap\":0},\"title\":{\"text\":\"\\uc9c0\\uc5ed \\ub0b4 \\uc608\\uc57d\\ud0c0\\uc785\\ubcc4 \\uacf5\\ud5cc\\uc774\\uc775\\ub960\"},\"barmode\":\"group\"},                        {\"responsive\": true}                    ).then(function(){\n",
              "                            \n",
              "var gd = document.getElementById('917a9cef-f924-4860-9b6e-60bdad9b1709');\n",
              "var x = new MutationObserver(function (mutations, observer) {{\n",
              "        var display = window.getComputedStyle(gd).display;\n",
              "        if (!display || display === 'none') {{\n",
              "            console.log([gd, 'removed!']);\n",
              "            Plotly.purge(gd);\n",
              "            observer.disconnect();\n",
              "        }}\n",
              "}});\n",
              "\n",
              "// Listen for the removal of the full notebook cells\n",
              "var notebookContainer = gd.closest('#notebook-container');\n",
              "if (notebookContainer) {{\n",
              "    x.observe(notebookContainer, {childList: true});\n",
              "}}\n",
              "\n",
              "// Listen for the clearing of the current output cell\n",
              "var outputEl = gd.closest('.output');\n",
              "if (outputEl) {{\n",
              "    x.observe(outputEl, {childList: true});\n",
              "}}\n",
              "\n",
              "                        })                };                            </script>        </div>\n",
              "</body>\n",
              "</html>"
            ]
          },
          "metadata": {}
        }
      ]
    },
    {
      "cell_type": "markdown",
      "source": [
        "## 📈 *예약타입별 건당 매출과 건당 공헌이익 살펴보기*\n",
        "1. 각 건의 매출과 공헌이익을 살펴보았을 때   \n",
        "   부름서비스(편도/왕복)의 매출과 공헌이익이 왕복 예약 대비 매우 높았으며,\n",
        "3. 제주와 비슷한 운영지역(부산/경기도)에서는 왕복 예약 보다 존 편도의 건당 매출과 공헌이익이 높다\n",
        "\n",
        "✔ 부름 편도와 존 편도 건은 왕복 대비 매출과 공헌이익이 우수하다 -> 오픈시 매출과 공헌이익의 개선을 기대할 수 있다"
      ],
      "metadata": {
        "id": "jNFvqSw7EsJI"
      }
    },
    {
      "cell_type": "code",
      "source": [
        "# 단계 1: region1과 way 별로 revenue와 nuse의 합계를 계산\n",
        "summary = df_part.groupby(['region1', 'way']).agg({'revenue': 'sum', 'nuse': 'sum'}).reset_index()\n",
        "\n",
        "# 단계 2: 각 그룹별 건당 매출(revenue_nuse) 계산\n",
        "summary['revenue_nuse'] = summary['revenue'] / summary['nuse']\n",
        "\n",
        "# 바 차트로 결과 시각화\n",
        "fig = px.bar(summary, x='way', y='revenue_nuse', color='region1',\n",
        "             title='지역 내 예약타입별 건당 매출',\n",
        "             barmode='group',\n",
        "             text='revenue_nuse',\n",
        "             labels={'revenue_nuse': '건당 매출', 'way': '예약타입', 'region1': '운영지역시/도'})\n",
        "\n",
        "fig.update_traces(texttemplate='%{text:1.0f}', textposition='outside')\n",
        "fig.show()"
      ],
      "metadata": {
        "colab": {
          "base_uri": "https://localhost:8080/",
          "height": 542
        },
        "id": "zOaoAMlhErbu",
        "outputId": "0328d6c0-ebc8-4488-bc3c-18238be79b75"
      },
      "execution_count": null,
      "outputs": [
        {
          "output_type": "display_data",
          "data": {
            "text/html": [
              "<html>\n",
              "<head><meta charset=\"utf-8\" /></head>\n",
              "<body>\n",
              "    <div>            <script src=\"https://cdnjs.cloudflare.com/ajax/libs/mathjax/2.7.5/MathJax.js?config=TeX-AMS-MML_SVG\"></script><script type=\"text/javascript\">if (window.MathJax && window.MathJax.Hub && window.MathJax.Hub.Config) {window.MathJax.Hub.Config({SVG: {font: \"STIX-Web\"}});}</script>                <script type=\"text/javascript\">window.PlotlyConfig = {MathJaxConfig: 'local'};</script>\n",
              "        <script charset=\"utf-8\" src=\"https://cdn.plot.ly/plotly-2.24.1.min.js\"></script>                <div id=\"127502d0-c2a3-499d-81d6-b4b5ebfa1b5f\" class=\"plotly-graph-div\" style=\"height:525px; width:100%;\"></div>            <script type=\"text/javascript\">                                    window.PLOTLYENV=window.PLOTLYENV || {};                                    if (document.getElementById(\"127502d0-c2a3-499d-81d6-b4b5ebfa1b5f\")) {                    Plotly.newPlot(                        \"127502d0-c2a3-499d-81d6-b4b5ebfa1b5f\",                        [{\"alignmentgroup\":\"True\",\"hovertemplate\":\"\\uc6b4\\uc601\\uc9c0\\uc5ed\\uc2dc\\u002f\\ub3c4=\\uacbd\\uae30\\ub3c4\\u003cbr\\u003e\\uc608\\uc57d\\ud0c0\\uc785=%{x}\\u003cbr\\u003e\\uac74\\ub2f9 \\ub9e4\\ucd9c=%{text}\\u003cextra\\u003e\\u003c\\u002fextra\\u003e\",\"legendgroup\":\"\\uacbd\\uae30\\ub3c4\",\"marker\":{\"color\":\"#636efa\",\"pattern\":{\"shape\":\"\"}},\"name\":\"\\uacbd\\uae30\\ub3c4\",\"offsetgroup\":\"\\uacbd\\uae30\\ub3c4\",\"orientation\":\"v\",\"showlegend\":true,\"text\":[155598.37910070844,149802.53825260774,60149.33513883009,73940.07913424762],\"textposition\":\"outside\",\"x\":[\"d2d_oneway\",\"d2d_round\",\"round\",\"z2d_oneway\"],\"xaxis\":\"x\",\"y\":[155598.37910070844,149802.53825260774,60149.33513883009,73940.07913424762],\"yaxis\":\"y\",\"type\":\"bar\",\"texttemplate\":\"%{text:1.0f}\"},{\"alignmentgroup\":\"True\",\"hovertemplate\":\"\\uc6b4\\uc601\\uc9c0\\uc5ed\\uc2dc\\u002f\\ub3c4=\\ubd80\\uc0b0\\uad11\\uc5ed\\uc2dc\\u003cbr\\u003e\\uc608\\uc57d\\ud0c0\\uc785=%{x}\\u003cbr\\u003e\\uac74\\ub2f9 \\ub9e4\\ucd9c=%{text}\\u003cextra\\u003e\\u003c\\u002fextra\\u003e\",\"legendgroup\":\"\\ubd80\\uc0b0\\uad11\\uc5ed\\uc2dc\",\"marker\":{\"color\":\"#EF553B\",\"pattern\":{\"shape\":\"\"}},\"name\":\"\\ubd80\\uc0b0\\uad11\\uc5ed\\uc2dc\",\"offsetgroup\":\"\\ubd80\\uc0b0\\uad11\\uc5ed\\uc2dc\",\"orientation\":\"v\",\"showlegend\":true,\"text\":[145939.92317431085,149040.13834039235,64755.36400208786,77553.76827300679],\"textposition\":\"outside\",\"x\":[\"d2d_oneway\",\"d2d_round\",\"round\",\"z2d_oneway\"],\"xaxis\":\"x\",\"y\":[145939.92317431085,149040.13834039235,64755.36400208786,77553.76827300679],\"yaxis\":\"y\",\"type\":\"bar\",\"texttemplate\":\"%{text:1.0f}\"},{\"alignmentgroup\":\"True\",\"hovertemplate\":\"\\uc6b4\\uc601\\uc9c0\\uc5ed\\uc2dc\\u002f\\ub3c4=\\uc11c\\uc6b8\\ud2b9\\ubcc4\\uc2dc\\u003cbr\\u003e\\uc608\\uc57d\\ud0c0\\uc785=%{x}\\u003cbr\\u003e\\uac74\\ub2f9 \\ub9e4\\ucd9c=%{text}\\u003cextra\\u003e\\u003c\\u002fextra\\u003e\",\"legendgroup\":\"\\uc11c\\uc6b8\\ud2b9\\ubcc4\\uc2dc\",\"marker\":{\"color\":\"#00cc96\",\"pattern\":{\"shape\":\"\"}},\"name\":\"\\uc11c\\uc6b8\\ud2b9\\ubcc4\\uc2dc\",\"offsetgroup\":\"\\uc11c\\uc6b8\\ud2b9\\ubcc4\\uc2dc\",\"orientation\":\"v\",\"showlegend\":true,\"text\":[155673.8384214581,159336.97100883885,59817.78456997166,70381.05101809591],\"textposition\":\"outside\",\"x\":[\"d2d_oneway\",\"d2d_round\",\"round\",\"z2d_oneway\"],\"xaxis\":\"x\",\"y\":[155673.8384214581,159336.97100883885,59817.78456997166,70381.05101809591],\"yaxis\":\"y\",\"type\":\"bar\",\"texttemplate\":\"%{text:1.0f}\"},{\"alignmentgroup\":\"True\",\"hovertemplate\":\"\\uc6b4\\uc601\\uc9c0\\uc5ed\\uc2dc\\u002f\\ub3c4=\\uc81c\\uc8fc\\ud2b9\\ubcc4\\uc790\\uce58\\ub3c4\\u003cbr\\u003e\\uc608\\uc57d\\ud0c0\\uc785=%{x}\\u003cbr\\u003e\\uac74\\ub2f9 \\ub9e4\\ucd9c=%{text}\\u003cextra\\u003e\\u003c\\u002fextra\\u003e\",\"legendgroup\":\"\\uc81c\\uc8fc\\ud2b9\\ubcc4\\uc790\\uce58\\ub3c4\",\"marker\":{\"color\":\"#ab63fa\",\"pattern\":{\"shape\":\"\"}},\"name\":\"\\uc81c\\uc8fc\\ud2b9\\ubcc4\\uc790\\uce58\\ub3c4\",\"offsetgroup\":\"\\uc81c\\uc8fc\\ud2b9\\ubcc4\\uc790\\uce58\\ub3c4\",\"orientation\":\"v\",\"showlegend\":true,\"text\":[108911.68032869126,123237.19674306363,97465.11617350396],\"textposition\":\"outside\",\"x\":[\"d2d_oneway\",\"d2d_round\",\"round\"],\"xaxis\":\"x\",\"y\":[108911.68032869126,123237.19674306363,97465.11617350396],\"yaxis\":\"y\",\"type\":\"bar\",\"texttemplate\":\"%{text:1.0f}\"},{\"alignmentgroup\":\"True\",\"hovertemplate\":\"\\uc6b4\\uc601\\uc9c0\\uc5ed\\uc2dc\\u002f\\ub3c4=\\ud638\\ub0a8\\u003cbr\\u003e\\uc608\\uc57d\\ud0c0\\uc785=%{x}\\u003cbr\\u003e\\uac74\\ub2f9 \\ub9e4\\ucd9c=%{text}\\u003cextra\\u003e\\u003c\\u002fextra\\u003e\",\"legendgroup\":\"\\ud638\\ub0a8\",\"marker\":{\"color\":\"#FFA15A\",\"pattern\":{\"shape\":\"\"}},\"name\":\"\\ud638\\ub0a8\",\"offsetgroup\":\"\\ud638\\ub0a8\",\"orientation\":\"v\",\"showlegend\":true,\"text\":[164246.02981329014,145361.0469850336,74396.21005521572],\"textposition\":\"outside\",\"x\":[\"d2d_oneway\",\"d2d_round\",\"round\"],\"xaxis\":\"x\",\"y\":[164246.02981329014,145361.0469850336,74396.21005521572],\"yaxis\":\"y\",\"type\":\"bar\",\"texttemplate\":\"%{text:1.0f}\"}],                        {\"template\":{\"data\":{\"histogram2dcontour\":[{\"type\":\"histogram2dcontour\",\"colorbar\":{\"outlinewidth\":0,\"ticks\":\"\"},\"colorscale\":[[0.0,\"#0d0887\"],[0.1111111111111111,\"#46039f\"],[0.2222222222222222,\"#7201a8\"],[0.3333333333333333,\"#9c179e\"],[0.4444444444444444,\"#bd3786\"],[0.5555555555555556,\"#d8576b\"],[0.6666666666666666,\"#ed7953\"],[0.7777777777777778,\"#fb9f3a\"],[0.8888888888888888,\"#fdca26\"],[1.0,\"#f0f921\"]]}],\"choropleth\":[{\"type\":\"choropleth\",\"colorbar\":{\"outlinewidth\":0,\"ticks\":\"\"}}],\"histogram2d\":[{\"type\":\"histogram2d\",\"colorbar\":{\"outlinewidth\":0,\"ticks\":\"\"},\"colorscale\":[[0.0,\"#0d0887\"],[0.1111111111111111,\"#46039f\"],[0.2222222222222222,\"#7201a8\"],[0.3333333333333333,\"#9c179e\"],[0.4444444444444444,\"#bd3786\"],[0.5555555555555556,\"#d8576b\"],[0.6666666666666666,\"#ed7953\"],[0.7777777777777778,\"#fb9f3a\"],[0.8888888888888888,\"#fdca26\"],[1.0,\"#f0f921\"]]}],\"heatmap\":[{\"type\":\"heatmap\",\"colorbar\":{\"outlinewidth\":0,\"ticks\":\"\"},\"colorscale\":[[0.0,\"#0d0887\"],[0.1111111111111111,\"#46039f\"],[0.2222222222222222,\"#7201a8\"],[0.3333333333333333,\"#9c179e\"],[0.4444444444444444,\"#bd3786\"],[0.5555555555555556,\"#d8576b\"],[0.6666666666666666,\"#ed7953\"],[0.7777777777777778,\"#fb9f3a\"],[0.8888888888888888,\"#fdca26\"],[1.0,\"#f0f921\"]]}],\"heatmapgl\":[{\"type\":\"heatmapgl\",\"colorbar\":{\"outlinewidth\":0,\"ticks\":\"\"},\"colorscale\":[[0.0,\"#0d0887\"],[0.1111111111111111,\"#46039f\"],[0.2222222222222222,\"#7201a8\"],[0.3333333333333333,\"#9c179e\"],[0.4444444444444444,\"#bd3786\"],[0.5555555555555556,\"#d8576b\"],[0.6666666666666666,\"#ed7953\"],[0.7777777777777778,\"#fb9f3a\"],[0.8888888888888888,\"#fdca26\"],[1.0,\"#f0f921\"]]}],\"contourcarpet\":[{\"type\":\"contourcarpet\",\"colorbar\":{\"outlinewidth\":0,\"ticks\":\"\"}}],\"contour\":[{\"type\":\"contour\",\"colorbar\":{\"outlinewidth\":0,\"ticks\":\"\"},\"colorscale\":[[0.0,\"#0d0887\"],[0.1111111111111111,\"#46039f\"],[0.2222222222222222,\"#7201a8\"],[0.3333333333333333,\"#9c179e\"],[0.4444444444444444,\"#bd3786\"],[0.5555555555555556,\"#d8576b\"],[0.6666666666666666,\"#ed7953\"],[0.7777777777777778,\"#fb9f3a\"],[0.8888888888888888,\"#fdca26\"],[1.0,\"#f0f921\"]]}],\"surface\":[{\"type\":\"surface\",\"colorbar\":{\"outlinewidth\":0,\"ticks\":\"\"},\"colorscale\":[[0.0,\"#0d0887\"],[0.1111111111111111,\"#46039f\"],[0.2222222222222222,\"#7201a8\"],[0.3333333333333333,\"#9c179e\"],[0.4444444444444444,\"#bd3786\"],[0.5555555555555556,\"#d8576b\"],[0.6666666666666666,\"#ed7953\"],[0.7777777777777778,\"#fb9f3a\"],[0.8888888888888888,\"#fdca26\"],[1.0,\"#f0f921\"]]}],\"mesh3d\":[{\"type\":\"mesh3d\",\"colorbar\":{\"outlinewidth\":0,\"ticks\":\"\"}}],\"scatter\":[{\"fillpattern\":{\"fillmode\":\"overlay\",\"size\":10,\"solidity\":0.2},\"type\":\"scatter\"}],\"parcoords\":[{\"type\":\"parcoords\",\"line\":{\"colorbar\":{\"outlinewidth\":0,\"ticks\":\"\"}}}],\"scatterpolargl\":[{\"type\":\"scatterpolargl\",\"marker\":{\"colorbar\":{\"outlinewidth\":0,\"ticks\":\"\"}}}],\"bar\":[{\"error_x\":{\"color\":\"#2a3f5f\"},\"error_y\":{\"color\":\"#2a3f5f\"},\"marker\":{\"line\":{\"color\":\"#E5ECF6\",\"width\":0.5},\"pattern\":{\"fillmode\":\"overlay\",\"size\":10,\"solidity\":0.2}},\"type\":\"bar\"}],\"scattergeo\":[{\"type\":\"scattergeo\",\"marker\":{\"colorbar\":{\"outlinewidth\":0,\"ticks\":\"\"}}}],\"scatterpolar\":[{\"type\":\"scatterpolar\",\"marker\":{\"colorbar\":{\"outlinewidth\":0,\"ticks\":\"\"}}}],\"histogram\":[{\"marker\":{\"pattern\":{\"fillmode\":\"overlay\",\"size\":10,\"solidity\":0.2}},\"type\":\"histogram\"}],\"scattergl\":[{\"type\":\"scattergl\",\"marker\":{\"colorbar\":{\"outlinewidth\":0,\"ticks\":\"\"}}}],\"scatter3d\":[{\"type\":\"scatter3d\",\"line\":{\"colorbar\":{\"outlinewidth\":0,\"ticks\":\"\"}},\"marker\":{\"colorbar\":{\"outlinewidth\":0,\"ticks\":\"\"}}}],\"scattermapbox\":[{\"type\":\"scattermapbox\",\"marker\":{\"colorbar\":{\"outlinewidth\":0,\"ticks\":\"\"}}}],\"scatterternary\":[{\"type\":\"scatterternary\",\"marker\":{\"colorbar\":{\"outlinewidth\":0,\"ticks\":\"\"}}}],\"scattercarpet\":[{\"type\":\"scattercarpet\",\"marker\":{\"colorbar\":{\"outlinewidth\":0,\"ticks\":\"\"}}}],\"carpet\":[{\"aaxis\":{\"endlinecolor\":\"#2a3f5f\",\"gridcolor\":\"white\",\"linecolor\":\"white\",\"minorgridcolor\":\"white\",\"startlinecolor\":\"#2a3f5f\"},\"baxis\":{\"endlinecolor\":\"#2a3f5f\",\"gridcolor\":\"white\",\"linecolor\":\"white\",\"minorgridcolor\":\"white\",\"startlinecolor\":\"#2a3f5f\"},\"type\":\"carpet\"}],\"table\":[{\"cells\":{\"fill\":{\"color\":\"#EBF0F8\"},\"line\":{\"color\":\"white\"}},\"header\":{\"fill\":{\"color\":\"#C8D4E3\"},\"line\":{\"color\":\"white\"}},\"type\":\"table\"}],\"barpolar\":[{\"marker\":{\"line\":{\"color\":\"#E5ECF6\",\"width\":0.5},\"pattern\":{\"fillmode\":\"overlay\",\"size\":10,\"solidity\":0.2}},\"type\":\"barpolar\"}],\"pie\":[{\"automargin\":true,\"type\":\"pie\"}]},\"layout\":{\"autotypenumbers\":\"strict\",\"colorway\":[\"#636efa\",\"#EF553B\",\"#00cc96\",\"#ab63fa\",\"#FFA15A\",\"#19d3f3\",\"#FF6692\",\"#B6E880\",\"#FF97FF\",\"#FECB52\"],\"font\":{\"color\":\"#2a3f5f\"},\"hovermode\":\"closest\",\"hoverlabel\":{\"align\":\"left\"},\"paper_bgcolor\":\"white\",\"plot_bgcolor\":\"#E5ECF6\",\"polar\":{\"bgcolor\":\"#E5ECF6\",\"angularaxis\":{\"gridcolor\":\"white\",\"linecolor\":\"white\",\"ticks\":\"\"},\"radialaxis\":{\"gridcolor\":\"white\",\"linecolor\":\"white\",\"ticks\":\"\"}},\"ternary\":{\"bgcolor\":\"#E5ECF6\",\"aaxis\":{\"gridcolor\":\"white\",\"linecolor\":\"white\",\"ticks\":\"\"},\"baxis\":{\"gridcolor\":\"white\",\"linecolor\":\"white\",\"ticks\":\"\"},\"caxis\":{\"gridcolor\":\"white\",\"linecolor\":\"white\",\"ticks\":\"\"}},\"coloraxis\":{\"colorbar\":{\"outlinewidth\":0,\"ticks\":\"\"}},\"colorscale\":{\"sequential\":[[0.0,\"#0d0887\"],[0.1111111111111111,\"#46039f\"],[0.2222222222222222,\"#7201a8\"],[0.3333333333333333,\"#9c179e\"],[0.4444444444444444,\"#bd3786\"],[0.5555555555555556,\"#d8576b\"],[0.6666666666666666,\"#ed7953\"],[0.7777777777777778,\"#fb9f3a\"],[0.8888888888888888,\"#fdca26\"],[1.0,\"#f0f921\"]],\"sequentialminus\":[[0.0,\"#0d0887\"],[0.1111111111111111,\"#46039f\"],[0.2222222222222222,\"#7201a8\"],[0.3333333333333333,\"#9c179e\"],[0.4444444444444444,\"#bd3786\"],[0.5555555555555556,\"#d8576b\"],[0.6666666666666666,\"#ed7953\"],[0.7777777777777778,\"#fb9f3a\"],[0.8888888888888888,\"#fdca26\"],[1.0,\"#f0f921\"]],\"diverging\":[[0,\"#8e0152\"],[0.1,\"#c51b7d\"],[0.2,\"#de77ae\"],[0.3,\"#f1b6da\"],[0.4,\"#fde0ef\"],[0.5,\"#f7f7f7\"],[0.6,\"#e6f5d0\"],[0.7,\"#b8e186\"],[0.8,\"#7fbc41\"],[0.9,\"#4d9221\"],[1,\"#276419\"]]},\"xaxis\":{\"gridcolor\":\"white\",\"linecolor\":\"white\",\"ticks\":\"\",\"title\":{\"standoff\":15},\"zerolinecolor\":\"white\",\"automargin\":true,\"zerolinewidth\":2},\"yaxis\":{\"gridcolor\":\"white\",\"linecolor\":\"white\",\"ticks\":\"\",\"title\":{\"standoff\":15},\"zerolinecolor\":\"white\",\"automargin\":true,\"zerolinewidth\":2},\"scene\":{\"xaxis\":{\"backgroundcolor\":\"#E5ECF6\",\"gridcolor\":\"white\",\"linecolor\":\"white\",\"showbackground\":true,\"ticks\":\"\",\"zerolinecolor\":\"white\",\"gridwidth\":2},\"yaxis\":{\"backgroundcolor\":\"#E5ECF6\",\"gridcolor\":\"white\",\"linecolor\":\"white\",\"showbackground\":true,\"ticks\":\"\",\"zerolinecolor\":\"white\",\"gridwidth\":2},\"zaxis\":{\"backgroundcolor\":\"#E5ECF6\",\"gridcolor\":\"white\",\"linecolor\":\"white\",\"showbackground\":true,\"ticks\":\"\",\"zerolinecolor\":\"white\",\"gridwidth\":2}},\"shapedefaults\":{\"line\":{\"color\":\"#2a3f5f\"}},\"annotationdefaults\":{\"arrowcolor\":\"#2a3f5f\",\"arrowhead\":0,\"arrowwidth\":1},\"geo\":{\"bgcolor\":\"white\",\"landcolor\":\"#E5ECF6\",\"subunitcolor\":\"white\",\"showland\":true,\"showlakes\":true,\"lakecolor\":\"white\"},\"title\":{\"x\":0.05},\"mapbox\":{\"style\":\"light\"}}},\"xaxis\":{\"anchor\":\"y\",\"domain\":[0.0,1.0],\"title\":{\"text\":\"\\uc608\\uc57d\\ud0c0\\uc785\"}},\"yaxis\":{\"anchor\":\"x\",\"domain\":[0.0,1.0],\"title\":{\"text\":\"\\uac74\\ub2f9 \\ub9e4\\ucd9c\"}},\"legend\":{\"title\":{\"text\":\"\\uc6b4\\uc601\\uc9c0\\uc5ed\\uc2dc\\u002f\\ub3c4\"},\"tracegroupgap\":0},\"title\":{\"text\":\"\\uc9c0\\uc5ed \\ub0b4 \\uc608\\uc57d\\ud0c0\\uc785\\ubcc4 \\uac74\\ub2f9 \\ub9e4\\ucd9c\"},\"barmode\":\"group\"},                        {\"responsive\": true}                    ).then(function(){\n",
              "                            \n",
              "var gd = document.getElementById('127502d0-c2a3-499d-81d6-b4b5ebfa1b5f');\n",
              "var x = new MutationObserver(function (mutations, observer) {{\n",
              "        var display = window.getComputedStyle(gd).display;\n",
              "        if (!display || display === 'none') {{\n",
              "            console.log([gd, 'removed!']);\n",
              "            Plotly.purge(gd);\n",
              "            observer.disconnect();\n",
              "        }}\n",
              "}});\n",
              "\n",
              "// Listen for the removal of the full notebook cells\n",
              "var notebookContainer = gd.closest('#notebook-container');\n",
              "if (notebookContainer) {{\n",
              "    x.observe(notebookContainer, {childList: true});\n",
              "}}\n",
              "\n",
              "// Listen for the clearing of the current output cell\n",
              "var outputEl = gd.closest('.output');\n",
              "if (outputEl) {{\n",
              "    x.observe(outputEl, {childList: true});\n",
              "}}\n",
              "\n",
              "                        })                };                            </script>        </div>\n",
              "</body>\n",
              "</html>"
            ]
          },
          "metadata": {}
        }
      ]
    },
    {
      "cell_type": "code",
      "source": [
        "from sklearn.preprocessing import MinMaxScaler\n",
        "\n",
        "# 단계 1: region1과 way 별로 revenue와 nuse의 합계를 계산\n",
        "summary = df_part.groupby(['region1', 'way']).agg({'revenue': 'sum', 'nuse': 'sum'}).reset_index()\n",
        "\n",
        "# 단계 2: 각 그룹별 건당 매출(revenue_nuse) 계산\n",
        "summary['revenue_nuse'] = summary['revenue'] / summary['nuse']\n",
        "\n",
        "# 정규화 진행\n",
        "scaler = MinMaxScaler()\n",
        "summary['revenue_nuse_normalized'] = scaler.fit_transform(summary[['revenue_nuse']])\n",
        "\n",
        "# 바 차트로 정규화된 결과 시각화\n",
        "fig = px.bar(summary, x='way', y='revenue_nuse_normalized', color='region1',\n",
        "             title='지역 내 예약타입별 정규화된 건당 매출',\n",
        "             barmode='group',\n",
        "             text='revenue_nuse_normalized',\n",
        "             labels={'revenue_nuse_normalized': '정규화된 건당 매출', 'way': '예약타입', 'region1': '운영지역시/도'})\n",
        "\n",
        "fig.update_traces(texttemplate='%{text:.2f}', textposition='outside')  # 소수점 두 자리로 표시\n",
        "fig.show()\n"
      ],
      "metadata": {
        "colab": {
          "base_uri": "https://localhost:8080/",
          "height": 542
        },
        "id": "80L-vbNxVBJd",
        "outputId": "1e7f24ad-0376-4c27-86c3-5eebf93b4b5c"
      },
      "execution_count": null,
      "outputs": [
        {
          "output_type": "display_data",
          "data": {
            "text/html": [
              "<html>\n",
              "<head><meta charset=\"utf-8\" /></head>\n",
              "<body>\n",
              "    <div>            <script src=\"https://cdnjs.cloudflare.com/ajax/libs/mathjax/2.7.5/MathJax.js?config=TeX-AMS-MML_SVG\"></script><script type=\"text/javascript\">if (window.MathJax && window.MathJax.Hub && window.MathJax.Hub.Config) {window.MathJax.Hub.Config({SVG: {font: \"STIX-Web\"}});}</script>                <script type=\"text/javascript\">window.PlotlyConfig = {MathJaxConfig: 'local'};</script>\n",
              "        <script charset=\"utf-8\" src=\"https://cdn.plot.ly/plotly-2.24.1.min.js\"></script>                <div id=\"9692f98d-c32b-4c70-b35d-acdacaafc0b0\" class=\"plotly-graph-div\" style=\"height:525px; width:100%;\"></div>            <script type=\"text/javascript\">                                    window.PLOTLYENV=window.PLOTLYENV || {};                                    if (document.getElementById(\"9692f98d-c32b-4c70-b35d-acdacaafc0b0\")) {                    Plotly.newPlot(                        \"9692f98d-c32b-4c70-b35d-acdacaafc0b0\",                        [{\"alignmentgroup\":\"True\",\"hovertemplate\":\"\\uc6b4\\uc601\\uc9c0\\uc5ed\\uc2dc\\u002f\\ub3c4=\\uacbd\\uae30\\ub3c4\\u003cbr\\u003e\\uc608\\uc57d\\ud0c0\\uc785=%{x}\\u003cbr\\u003e\\uc815\\uaddc\\ud654\\ub41c \\uac74\\ub2f9 \\ub9e4\\ucd9c=%{text}\\u003cextra\\u003e\\u003c\\u002fextra\\u003e\",\"legendgroup\":\"\\uacbd\\uae30\\ub3c4\",\"marker\":{\"color\":\"#636efa\",\"pattern\":{\"shape\":\"\"}},\"name\":\"\\uacbd\\uae30\\ub3c4\",\"offsetgroup\":\"\\uacbd\\uae30\\ub3c4\",\"orientation\":\"v\",\"showlegend\":true,\"text\":[0.9171905005927027,0.8616897992776863,0.0031749127650848585,0.135234433283552],\"textposition\":\"outside\",\"x\":[\"d2d_oneway\",\"d2d_round\",\"round\",\"z2d_oneway\"],\"xaxis\":\"x\",\"y\":[0.9171905005927027,0.8616897992776863,0.0031749127650848585,0.135234433283552],\"yaxis\":\"y\",\"type\":\"bar\",\"texttemplate\":\"%{text:.2f}\"},{\"alignmentgroup\":\"True\",\"hovertemplate\":\"\\uc6b4\\uc601\\uc9c0\\uc5ed\\uc2dc\\u002f\\ub3c4=\\ubd80\\uc0b0\\uad11\\uc5ed\\uc2dc\\u003cbr\\u003e\\uc608\\uc57d\\ud0c0\\uc785=%{x}\\u003cbr\\u003e\\uc815\\uaddc\\ud654\\ub41c \\uac74\\ub2f9 \\ub9e4\\ucd9c=%{text}\\u003cextra\\u003e\\u003c\\u002fextra\\u003e\",\"legendgroup\":\"\\ubd80\\uc0b0\\uad11\\uc5ed\\uc2dc\",\"marker\":{\"color\":\"#EF553B\",\"pattern\":{\"shape\":\"\"}},\"name\":\"\\ubd80\\uc0b0\\uad11\\uc5ed\\uc2dc\",\"offsetgroup\":\"\\ubd80\\uc0b0\\uad11\\uc5ed\\uc2dc\",\"orientation\":\"v\",\"showlegend\":true,\"text\":[0.8247015776591292,0.8543890933198394,0.04728203007348841,0.16983895172910524],\"textposition\":\"outside\",\"x\":[\"d2d_oneway\",\"d2d_round\",\"round\",\"z2d_oneway\"],\"xaxis\":\"x\",\"y\":[0.8247015776591292,0.8543890933198394,0.04728203007348841,0.16983895172910524],\"yaxis\":\"y\",\"type\":\"bar\",\"texttemplate\":\"%{text:.2f}\"},{\"alignmentgroup\":\"True\",\"hovertemplate\":\"\\uc6b4\\uc601\\uc9c0\\uc5ed\\uc2dc\\u002f\\ub3c4=\\uc11c\\uc6b8\\ud2b9\\ubcc4\\uc2dc\\u003cbr\\u003e\\uc608\\uc57d\\ud0c0\\uc785=%{x}\\u003cbr\\u003e\\uc815\\uaddc\\ud654\\ub41c \\uac74\\ub2f9 \\ub9e4\\ucd9c=%{text}\\u003cextra\\u003e\\u003c\\u002fextra\\u003e\",\"legendgroup\":\"\\uc11c\\uc6b8\\ud2b9\\ubcc4\\uc2dc\",\"marker\":{\"color\":\"#00cc96\",\"pattern\":{\"shape\":\"\"}},\"name\":\"\\uc11c\\uc6b8\\ud2b9\\ubcc4\\uc2dc\",\"offsetgroup\":\"\\uc11c\\uc6b8\\ud2b9\\ubcc4\\uc2dc\",\"orientation\":\"v\",\"showlegend\":true,\"text\":[0.9179130955245033,0.9529910821252131,0.0,0.10115334623800076],\"textposition\":\"outside\",\"x\":[\"d2d_oneway\",\"d2d_round\",\"round\",\"z2d_oneway\"],\"xaxis\":\"x\",\"y\":[0.9179130955245033,0.9529910821252131,0.0,0.10115334623800076],\"yaxis\":\"y\",\"type\":\"bar\",\"texttemplate\":\"%{text:.2f}\"},{\"alignmentgroup\":\"True\",\"hovertemplate\":\"\\uc6b4\\uc601\\uc9c0\\uc5ed\\uc2dc\\u002f\\ub3c4=\\uc81c\\uc8fc\\ud2b9\\ubcc4\\uc790\\uce58\\ub3c4\\u003cbr\\u003e\\uc608\\uc57d\\ud0c0\\uc785=%{x}\\u003cbr\\u003e\\uc815\\uaddc\\ud654\\ub41c \\uac74\\ub2f9 \\ub9e4\\ucd9c=%{text}\\u003cextra\\u003e\\u003c\\u002fextra\\u003e\",\"legendgroup\":\"\\uc81c\\uc8fc\\ud2b9\\ubcc4\\uc790\\uce58\\ub3c4\",\"marker\":{\"color\":\"#ab63fa\",\"pattern\":{\"shape\":\"\"}},\"name\":\"\\uc81c\\uc8fc\\ud2b9\\ubcc4\\uc790\\uce58\\ub3c4\",\"offsetgroup\":\"\\uc81c\\uc8fc\\ud2b9\\ubcc4\\uc790\\uce58\\ub3c4\",\"orientation\":\"v\",\"showlegend\":true,\"text\":[0.4701208532646558,0.6073013294949497,0.3605090894308699],\"textposition\":\"outside\",\"x\":[\"d2d_oneway\",\"d2d_round\",\"round\"],\"xaxis\":\"x\",\"y\":[0.4701208532646558,0.6073013294949497,0.3605090894308699],\"yaxis\":\"y\",\"type\":\"bar\",\"texttemplate\":\"%{text:.2f}\"},{\"alignmentgroup\":\"True\",\"hovertemplate\":\"\\uc6b4\\uc601\\uc9c0\\uc5ed\\uc2dc\\u002f\\ub3c4=\\ud638\\ub0a8\\u003cbr\\u003e\\uc608\\uc57d\\ud0c0\\uc785=%{x}\\u003cbr\\u003e\\uc815\\uaddc\\ud654\\ub41c \\uac74\\ub2f9 \\ub9e4\\ucd9c=%{text}\\u003cextra\\u003e\\u003c\\u002fextra\\u003e\",\"legendgroup\":\"\\ud638\\ub0a8\",\"marker\":{\"color\":\"#FFA15A\",\"pattern\":{\"shape\":\"\"}},\"name\":\"\\ud638\\ub0a8\",\"offsetgroup\":\"\\ud638\\ub0a8\",\"orientation\":\"v\",\"showlegend\":true,\"text\":[1.0,0.8191582863021937,0.13960232168295317],\"textposition\":\"outside\",\"x\":[\"d2d_oneway\",\"d2d_round\",\"round\"],\"xaxis\":\"x\",\"y\":[1.0,0.8191582863021937,0.13960232168295317],\"yaxis\":\"y\",\"type\":\"bar\",\"texttemplate\":\"%{text:.2f}\"}],                        {\"template\":{\"data\":{\"histogram2dcontour\":[{\"type\":\"histogram2dcontour\",\"colorbar\":{\"outlinewidth\":0,\"ticks\":\"\"},\"colorscale\":[[0.0,\"#0d0887\"],[0.1111111111111111,\"#46039f\"],[0.2222222222222222,\"#7201a8\"],[0.3333333333333333,\"#9c179e\"],[0.4444444444444444,\"#bd3786\"],[0.5555555555555556,\"#d8576b\"],[0.6666666666666666,\"#ed7953\"],[0.7777777777777778,\"#fb9f3a\"],[0.8888888888888888,\"#fdca26\"],[1.0,\"#f0f921\"]]}],\"choropleth\":[{\"type\":\"choropleth\",\"colorbar\":{\"outlinewidth\":0,\"ticks\":\"\"}}],\"histogram2d\":[{\"type\":\"histogram2d\",\"colorbar\":{\"outlinewidth\":0,\"ticks\":\"\"},\"colorscale\":[[0.0,\"#0d0887\"],[0.1111111111111111,\"#46039f\"],[0.2222222222222222,\"#7201a8\"],[0.3333333333333333,\"#9c179e\"],[0.4444444444444444,\"#bd3786\"],[0.5555555555555556,\"#d8576b\"],[0.6666666666666666,\"#ed7953\"],[0.7777777777777778,\"#fb9f3a\"],[0.8888888888888888,\"#fdca26\"],[1.0,\"#f0f921\"]]}],\"heatmap\":[{\"type\":\"heatmap\",\"colorbar\":{\"outlinewidth\":0,\"ticks\":\"\"},\"colorscale\":[[0.0,\"#0d0887\"],[0.1111111111111111,\"#46039f\"],[0.2222222222222222,\"#7201a8\"],[0.3333333333333333,\"#9c179e\"],[0.4444444444444444,\"#bd3786\"],[0.5555555555555556,\"#d8576b\"],[0.6666666666666666,\"#ed7953\"],[0.7777777777777778,\"#fb9f3a\"],[0.8888888888888888,\"#fdca26\"],[1.0,\"#f0f921\"]]}],\"heatmapgl\":[{\"type\":\"heatmapgl\",\"colorbar\":{\"outlinewidth\":0,\"ticks\":\"\"},\"colorscale\":[[0.0,\"#0d0887\"],[0.1111111111111111,\"#46039f\"],[0.2222222222222222,\"#7201a8\"],[0.3333333333333333,\"#9c179e\"],[0.4444444444444444,\"#bd3786\"],[0.5555555555555556,\"#d8576b\"],[0.6666666666666666,\"#ed7953\"],[0.7777777777777778,\"#fb9f3a\"],[0.8888888888888888,\"#fdca26\"],[1.0,\"#f0f921\"]]}],\"contourcarpet\":[{\"type\":\"contourcarpet\",\"colorbar\":{\"outlinewidth\":0,\"ticks\":\"\"}}],\"contour\":[{\"type\":\"contour\",\"colorbar\":{\"outlinewidth\":0,\"ticks\":\"\"},\"colorscale\":[[0.0,\"#0d0887\"],[0.1111111111111111,\"#46039f\"],[0.2222222222222222,\"#7201a8\"],[0.3333333333333333,\"#9c179e\"],[0.4444444444444444,\"#bd3786\"],[0.5555555555555556,\"#d8576b\"],[0.6666666666666666,\"#ed7953\"],[0.7777777777777778,\"#fb9f3a\"],[0.8888888888888888,\"#fdca26\"],[1.0,\"#f0f921\"]]}],\"surface\":[{\"type\":\"surface\",\"colorbar\":{\"outlinewidth\":0,\"ticks\":\"\"},\"colorscale\":[[0.0,\"#0d0887\"],[0.1111111111111111,\"#46039f\"],[0.2222222222222222,\"#7201a8\"],[0.3333333333333333,\"#9c179e\"],[0.4444444444444444,\"#bd3786\"],[0.5555555555555556,\"#d8576b\"],[0.6666666666666666,\"#ed7953\"],[0.7777777777777778,\"#fb9f3a\"],[0.8888888888888888,\"#fdca26\"],[1.0,\"#f0f921\"]]}],\"mesh3d\":[{\"type\":\"mesh3d\",\"colorbar\":{\"outlinewidth\":0,\"ticks\":\"\"}}],\"scatter\":[{\"fillpattern\":{\"fillmode\":\"overlay\",\"size\":10,\"solidity\":0.2},\"type\":\"scatter\"}],\"parcoords\":[{\"type\":\"parcoords\",\"line\":{\"colorbar\":{\"outlinewidth\":0,\"ticks\":\"\"}}}],\"scatterpolargl\":[{\"type\":\"scatterpolargl\",\"marker\":{\"colorbar\":{\"outlinewidth\":0,\"ticks\":\"\"}}}],\"bar\":[{\"error_x\":{\"color\":\"#2a3f5f\"},\"error_y\":{\"color\":\"#2a3f5f\"},\"marker\":{\"line\":{\"color\":\"#E5ECF6\",\"width\":0.5},\"pattern\":{\"fillmode\":\"overlay\",\"size\":10,\"solidity\":0.2}},\"type\":\"bar\"}],\"scattergeo\":[{\"type\":\"scattergeo\",\"marker\":{\"colorbar\":{\"outlinewidth\":0,\"ticks\":\"\"}}}],\"scatterpolar\":[{\"type\":\"scatterpolar\",\"marker\":{\"colorbar\":{\"outlinewidth\":0,\"ticks\":\"\"}}}],\"histogram\":[{\"marker\":{\"pattern\":{\"fillmode\":\"overlay\",\"size\":10,\"solidity\":0.2}},\"type\":\"histogram\"}],\"scattergl\":[{\"type\":\"scattergl\",\"marker\":{\"colorbar\":{\"outlinewidth\":0,\"ticks\":\"\"}}}],\"scatter3d\":[{\"type\":\"scatter3d\",\"line\":{\"colorbar\":{\"outlinewidth\":0,\"ticks\":\"\"}},\"marker\":{\"colorbar\":{\"outlinewidth\":0,\"ticks\":\"\"}}}],\"scattermapbox\":[{\"type\":\"scattermapbox\",\"marker\":{\"colorbar\":{\"outlinewidth\":0,\"ticks\":\"\"}}}],\"scatterternary\":[{\"type\":\"scatterternary\",\"marker\":{\"colorbar\":{\"outlinewidth\":0,\"ticks\":\"\"}}}],\"scattercarpet\":[{\"type\":\"scattercarpet\",\"marker\":{\"colorbar\":{\"outlinewidth\":0,\"ticks\":\"\"}}}],\"carpet\":[{\"aaxis\":{\"endlinecolor\":\"#2a3f5f\",\"gridcolor\":\"white\",\"linecolor\":\"white\",\"minorgridcolor\":\"white\",\"startlinecolor\":\"#2a3f5f\"},\"baxis\":{\"endlinecolor\":\"#2a3f5f\",\"gridcolor\":\"white\",\"linecolor\":\"white\",\"minorgridcolor\":\"white\",\"startlinecolor\":\"#2a3f5f\"},\"type\":\"carpet\"}],\"table\":[{\"cells\":{\"fill\":{\"color\":\"#EBF0F8\"},\"line\":{\"color\":\"white\"}},\"header\":{\"fill\":{\"color\":\"#C8D4E3\"},\"line\":{\"color\":\"white\"}},\"type\":\"table\"}],\"barpolar\":[{\"marker\":{\"line\":{\"color\":\"#E5ECF6\",\"width\":0.5},\"pattern\":{\"fillmode\":\"overlay\",\"size\":10,\"solidity\":0.2}},\"type\":\"barpolar\"}],\"pie\":[{\"automargin\":true,\"type\":\"pie\"}]},\"layout\":{\"autotypenumbers\":\"strict\",\"colorway\":[\"#636efa\",\"#EF553B\",\"#00cc96\",\"#ab63fa\",\"#FFA15A\",\"#19d3f3\",\"#FF6692\",\"#B6E880\",\"#FF97FF\",\"#FECB52\"],\"font\":{\"color\":\"#2a3f5f\"},\"hovermode\":\"closest\",\"hoverlabel\":{\"align\":\"left\"},\"paper_bgcolor\":\"white\",\"plot_bgcolor\":\"#E5ECF6\",\"polar\":{\"bgcolor\":\"#E5ECF6\",\"angularaxis\":{\"gridcolor\":\"white\",\"linecolor\":\"white\",\"ticks\":\"\"},\"radialaxis\":{\"gridcolor\":\"white\",\"linecolor\":\"white\",\"ticks\":\"\"}},\"ternary\":{\"bgcolor\":\"#E5ECF6\",\"aaxis\":{\"gridcolor\":\"white\",\"linecolor\":\"white\",\"ticks\":\"\"},\"baxis\":{\"gridcolor\":\"white\",\"linecolor\":\"white\",\"ticks\":\"\"},\"caxis\":{\"gridcolor\":\"white\",\"linecolor\":\"white\",\"ticks\":\"\"}},\"coloraxis\":{\"colorbar\":{\"outlinewidth\":0,\"ticks\":\"\"}},\"colorscale\":{\"sequential\":[[0.0,\"#0d0887\"],[0.1111111111111111,\"#46039f\"],[0.2222222222222222,\"#7201a8\"],[0.3333333333333333,\"#9c179e\"],[0.4444444444444444,\"#bd3786\"],[0.5555555555555556,\"#d8576b\"],[0.6666666666666666,\"#ed7953\"],[0.7777777777777778,\"#fb9f3a\"],[0.8888888888888888,\"#fdca26\"],[1.0,\"#f0f921\"]],\"sequentialminus\":[[0.0,\"#0d0887\"],[0.1111111111111111,\"#46039f\"],[0.2222222222222222,\"#7201a8\"],[0.3333333333333333,\"#9c179e\"],[0.4444444444444444,\"#bd3786\"],[0.5555555555555556,\"#d8576b\"],[0.6666666666666666,\"#ed7953\"],[0.7777777777777778,\"#fb9f3a\"],[0.8888888888888888,\"#fdca26\"],[1.0,\"#f0f921\"]],\"diverging\":[[0,\"#8e0152\"],[0.1,\"#c51b7d\"],[0.2,\"#de77ae\"],[0.3,\"#f1b6da\"],[0.4,\"#fde0ef\"],[0.5,\"#f7f7f7\"],[0.6,\"#e6f5d0\"],[0.7,\"#b8e186\"],[0.8,\"#7fbc41\"],[0.9,\"#4d9221\"],[1,\"#276419\"]]},\"xaxis\":{\"gridcolor\":\"white\",\"linecolor\":\"white\",\"ticks\":\"\",\"title\":{\"standoff\":15},\"zerolinecolor\":\"white\",\"automargin\":true,\"zerolinewidth\":2},\"yaxis\":{\"gridcolor\":\"white\",\"linecolor\":\"white\",\"ticks\":\"\",\"title\":{\"standoff\":15},\"zerolinecolor\":\"white\",\"automargin\":true,\"zerolinewidth\":2},\"scene\":{\"xaxis\":{\"backgroundcolor\":\"#E5ECF6\",\"gridcolor\":\"white\",\"linecolor\":\"white\",\"showbackground\":true,\"ticks\":\"\",\"zerolinecolor\":\"white\",\"gridwidth\":2},\"yaxis\":{\"backgroundcolor\":\"#E5ECF6\",\"gridcolor\":\"white\",\"linecolor\":\"white\",\"showbackground\":true,\"ticks\":\"\",\"zerolinecolor\":\"white\",\"gridwidth\":2},\"zaxis\":{\"backgroundcolor\":\"#E5ECF6\",\"gridcolor\":\"white\",\"linecolor\":\"white\",\"showbackground\":true,\"ticks\":\"\",\"zerolinecolor\":\"white\",\"gridwidth\":2}},\"shapedefaults\":{\"line\":{\"color\":\"#2a3f5f\"}},\"annotationdefaults\":{\"arrowcolor\":\"#2a3f5f\",\"arrowhead\":0,\"arrowwidth\":1},\"geo\":{\"bgcolor\":\"white\",\"landcolor\":\"#E5ECF6\",\"subunitcolor\":\"white\",\"showland\":true,\"showlakes\":true,\"lakecolor\":\"white\"},\"title\":{\"x\":0.05},\"mapbox\":{\"style\":\"light\"}}},\"xaxis\":{\"anchor\":\"y\",\"domain\":[0.0,1.0],\"title\":{\"text\":\"\\uc608\\uc57d\\ud0c0\\uc785\"}},\"yaxis\":{\"anchor\":\"x\",\"domain\":[0.0,1.0],\"title\":{\"text\":\"\\uc815\\uaddc\\ud654\\ub41c \\uac74\\ub2f9 \\ub9e4\\ucd9c\"}},\"legend\":{\"title\":{\"text\":\"\\uc6b4\\uc601\\uc9c0\\uc5ed\\uc2dc\\u002f\\ub3c4\"},\"tracegroupgap\":0},\"title\":{\"text\":\"\\uc9c0\\uc5ed \\ub0b4 \\uc608\\uc57d\\ud0c0\\uc785\\ubcc4 \\uc815\\uaddc\\ud654\\ub41c \\uac74\\ub2f9 \\ub9e4\\ucd9c\"},\"barmode\":\"group\"},                        {\"responsive\": true}                    ).then(function(){\n",
              "                            \n",
              "var gd = document.getElementById('9692f98d-c32b-4c70-b35d-acdacaafc0b0');\n",
              "var x = new MutationObserver(function (mutations, observer) {{\n",
              "        var display = window.getComputedStyle(gd).display;\n",
              "        if (!display || display === 'none') {{\n",
              "            console.log([gd, 'removed!']);\n",
              "            Plotly.purge(gd);\n",
              "            observer.disconnect();\n",
              "        }}\n",
              "}});\n",
              "\n",
              "// Listen for the removal of the full notebook cells\n",
              "var notebookContainer = gd.closest('#notebook-container');\n",
              "if (notebookContainer) {{\n",
              "    x.observe(notebookContainer, {childList: true});\n",
              "}}\n",
              "\n",
              "// Listen for the clearing of the current output cell\n",
              "var outputEl = gd.closest('.output');\n",
              "if (outputEl) {{\n",
              "    x.observe(outputEl, {childList: true});\n",
              "}}\n",
              "\n",
              "                        })                };                            </script>        </div>\n",
              "</body>\n",
              "</html>"
            ]
          },
          "metadata": {}
        }
      ]
    },
    {
      "cell_type": "code",
      "source": [
        "# 단계 1: region1과 way 별로 revenue와 nuse의 합계를 계산\n",
        "summary = df_part.groupby(['region1', 'way']).agg({'margin': 'sum', 'nuse': 'sum'}).reset_index()\n",
        "\n",
        "# 단계 2: 각 그룹별 건당 매출(revenue_nuse) 계산\n",
        "summary['margin_nuse'] = summary['margin'] / summary['nuse']\n",
        "\n",
        "# 바 차트로 결과 시각화\n",
        "fig = px.bar(summary, x='way', y='margin_nuse', color='region1',\n",
        "             title='지역 내 예약타입별 건당 공헌이익',\n",
        "             barmode='group',\n",
        "             text='margin_nuse',\n",
        "             labels={'margin_nuse': '건당 공헌이익', 'way': '예약타입', 'region1': '운영지역시/도'})\n",
        "\n",
        "fig.update_traces(texttemplate='%{text:1.0f}', textposition='outside')\n",
        "fig.show()"
      ],
      "metadata": {
        "colab": {
          "base_uri": "https://localhost:8080/",
          "height": 542
        },
        "id": "a6nIYoLcAcat",
        "outputId": "1300fafa-5323-4d6d-ea2f-2695802493d3"
      },
      "execution_count": null,
      "outputs": [
        {
          "output_type": "display_data",
          "data": {
            "text/html": [
              "<html>\n",
              "<head><meta charset=\"utf-8\" /></head>\n",
              "<body>\n",
              "    <div>            <script src=\"https://cdnjs.cloudflare.com/ajax/libs/mathjax/2.7.5/MathJax.js?config=TeX-AMS-MML_SVG\"></script><script type=\"text/javascript\">if (window.MathJax && window.MathJax.Hub && window.MathJax.Hub.Config) {window.MathJax.Hub.Config({SVG: {font: \"STIX-Web\"}});}</script>                <script type=\"text/javascript\">window.PlotlyConfig = {MathJaxConfig: 'local'};</script>\n",
              "        <script charset=\"utf-8\" src=\"https://cdn.plot.ly/plotly-2.24.1.min.js\"></script>                <div id=\"3f06a947-3c6d-41d3-b4d1-580d5c019bdf\" class=\"plotly-graph-div\" style=\"height:525px; width:100%;\"></div>            <script type=\"text/javascript\">                                    window.PLOTLYENV=window.PLOTLYENV || {};                                    if (document.getElementById(\"3f06a947-3c6d-41d3-b4d1-580d5c019bdf\")) {                    Plotly.newPlot(                        \"3f06a947-3c6d-41d3-b4d1-580d5c019bdf\",                        [{\"alignmentgroup\":\"True\",\"hovertemplate\":\"\\uc6b4\\uc601\\uc9c0\\uc5ed\\uc2dc\\u002f\\ub3c4=\\uacbd\\uae30\\ub3c4\\u003cbr\\u003e\\uc608\\uc57d\\ud0c0\\uc785=%{x}\\u003cbr\\u003e\\uac74\\ub2f9 \\uacf5\\ud5cc\\uc774\\uc775=%{text}\\u003cextra\\u003e\\u003c\\u002fextra\\u003e\",\"legendgroup\":\"\\uacbd\\uae30\\ub3c4\",\"marker\":{\"color\":\"#636efa\",\"pattern\":{\"shape\":\"\"}},\"name\":\"\\uacbd\\uae30\\ub3c4\",\"offsetgroup\":\"\\uacbd\\uae30\\ub3c4\",\"orientation\":\"v\",\"showlegend\":true,\"text\":[78332.22718572461,70277.95424215698,34585.61142564246,32691.88235596884],\"textposition\":\"outside\",\"x\":[\"d2d_oneway\",\"d2d_round\",\"round\",\"z2d_oneway\"],\"xaxis\":\"x\",\"y\":[78332.22718572461,70277.95424215698,34585.61142564246,32691.88235596884],\"yaxis\":\"y\",\"type\":\"bar\",\"texttemplate\":\"%{text:1.0f}\"},{\"alignmentgroup\":\"True\",\"hovertemplate\":\"\\uc6b4\\uc601\\uc9c0\\uc5ed\\uc2dc\\u002f\\ub3c4=\\ubd80\\uc0b0\\uad11\\uc5ed\\uc2dc\\u003cbr\\u003e\\uc608\\uc57d\\ud0c0\\uc785=%{x}\\u003cbr\\u003e\\uac74\\ub2f9 \\uacf5\\ud5cc\\uc774\\uc775=%{text}\\u003cextra\\u003e\\u003c\\u002fextra\\u003e\",\"legendgroup\":\"\\ubd80\\uc0b0\\uad11\\uc5ed\\uc2dc\",\"marker\":{\"color\":\"#EF553B\",\"pattern\":{\"shape\":\"\"}},\"name\":\"\\ubd80\\uc0b0\\uad11\\uc5ed\\uc2dc\",\"offsetgroup\":\"\\ubd80\\uc0b0\\uad11\\uc5ed\\uc2dc\",\"orientation\":\"v\",\"showlegend\":true,\"text\":[75888.66573885345,72467.70609927642,39365.13864983075,36502.921361999935],\"textposition\":\"outside\",\"x\":[\"d2d_oneway\",\"d2d_round\",\"round\",\"z2d_oneway\"],\"xaxis\":\"x\",\"y\":[75888.66573885345,72467.70609927642,39365.13864983075,36502.921361999935],\"yaxis\":\"y\",\"type\":\"bar\",\"texttemplate\":\"%{text:1.0f}\"},{\"alignmentgroup\":\"True\",\"hovertemplate\":\"\\uc6b4\\uc601\\uc9c0\\uc5ed\\uc2dc\\u002f\\ub3c4=\\uc11c\\uc6b8\\ud2b9\\ubcc4\\uc2dc\\u003cbr\\u003e\\uc608\\uc57d\\ud0c0\\uc785=%{x}\\u003cbr\\u003e\\uac74\\ub2f9 \\uacf5\\ud5cc\\uc774\\uc775=%{text}\\u003cextra\\u003e\\u003c\\u002fextra\\u003e\",\"legendgroup\":\"\\uc11c\\uc6b8\\ud2b9\\ubcc4\\uc2dc\",\"marker\":{\"color\":\"#00cc96\",\"pattern\":{\"shape\":\"\"}},\"name\":\"\\uc11c\\uc6b8\\ud2b9\\ubcc4\\uc2dc\",\"offsetgroup\":\"\\uc11c\\uc6b8\\ud2b9\\ubcc4\\uc2dc\",\"orientation\":\"v\",\"showlegend\":true,\"text\":[80516.113520689,79382.0307515759,35380.13228129718,30852.133036935444],\"textposition\":\"outside\",\"x\":[\"d2d_oneway\",\"d2d_round\",\"round\",\"z2d_oneway\"],\"xaxis\":\"x\",\"y\":[80516.113520689,79382.0307515759,35380.13228129718,30852.133036935444],\"yaxis\":\"y\",\"type\":\"bar\",\"texttemplate\":\"%{text:1.0f}\"},{\"alignmentgroup\":\"True\",\"hovertemplate\":\"\\uc6b4\\uc601\\uc9c0\\uc5ed\\uc2dc\\u002f\\ub3c4=\\uc81c\\uc8fc\\ud2b9\\ubcc4\\uc790\\uce58\\ub3c4\\u003cbr\\u003e\\uc608\\uc57d\\ud0c0\\uc785=%{x}\\u003cbr\\u003e\\uac74\\ub2f9 \\uacf5\\ud5cc\\uc774\\uc775=%{text}\\u003cextra\\u003e\\u003c\\u002fextra\\u003e\",\"legendgroup\":\"\\uc81c\\uc8fc\\ud2b9\\ubcc4\\uc790\\uce58\\ub3c4\",\"marker\":{\"color\":\"#ab63fa\",\"pattern\":{\"shape\":\"\"}},\"name\":\"\\uc81c\\uc8fc\\ud2b9\\ubcc4\\uc790\\uce58\\ub3c4\",\"offsetgroup\":\"\\uc81c\\uc8fc\\ud2b9\\ubcc4\\uc790\\uce58\\ub3c4\",\"orientation\":\"v\",\"showlegend\":true,\"text\":[3462.988980457332,52896.095874352955,56142.87094896128],\"textposition\":\"outside\",\"x\":[\"d2d_oneway\",\"d2d_round\",\"round\"],\"xaxis\":\"x\",\"y\":[3462.988980457332,52896.095874352955,56142.87094896128],\"yaxis\":\"y\",\"type\":\"bar\",\"texttemplate\":\"%{text:1.0f}\"},{\"alignmentgroup\":\"True\",\"hovertemplate\":\"\\uc6b4\\uc601\\uc9c0\\uc5ed\\uc2dc\\u002f\\ub3c4=\\ud638\\ub0a8\\u003cbr\\u003e\\uc608\\uc57d\\ud0c0\\uc785=%{x}\\u003cbr\\u003e\\uac74\\ub2f9 \\uacf5\\ud5cc\\uc774\\uc775=%{text}\\u003cextra\\u003e\\u003c\\u002fextra\\u003e\",\"legendgroup\":\"\\ud638\\ub0a8\",\"marker\":{\"color\":\"#FFA15A\",\"pattern\":{\"shape\":\"\"}},\"name\":\"\\ud638\\ub0a8\",\"offsetgroup\":\"\\ud638\\ub0a8\",\"orientation\":\"v\",\"showlegend\":true,\"text\":[87375.60637601044,68901.17007948195,44840.67406008155],\"textposition\":\"outside\",\"x\":[\"d2d_oneway\",\"d2d_round\",\"round\"],\"xaxis\":\"x\",\"y\":[87375.60637601044,68901.17007948195,44840.67406008155],\"yaxis\":\"y\",\"type\":\"bar\",\"texttemplate\":\"%{text:1.0f}\"}],                        {\"template\":{\"data\":{\"histogram2dcontour\":[{\"type\":\"histogram2dcontour\",\"colorbar\":{\"outlinewidth\":0,\"ticks\":\"\"},\"colorscale\":[[0.0,\"#0d0887\"],[0.1111111111111111,\"#46039f\"],[0.2222222222222222,\"#7201a8\"],[0.3333333333333333,\"#9c179e\"],[0.4444444444444444,\"#bd3786\"],[0.5555555555555556,\"#d8576b\"],[0.6666666666666666,\"#ed7953\"],[0.7777777777777778,\"#fb9f3a\"],[0.8888888888888888,\"#fdca26\"],[1.0,\"#f0f921\"]]}],\"choropleth\":[{\"type\":\"choropleth\",\"colorbar\":{\"outlinewidth\":0,\"ticks\":\"\"}}],\"histogram2d\":[{\"type\":\"histogram2d\",\"colorbar\":{\"outlinewidth\":0,\"ticks\":\"\"},\"colorscale\":[[0.0,\"#0d0887\"],[0.1111111111111111,\"#46039f\"],[0.2222222222222222,\"#7201a8\"],[0.3333333333333333,\"#9c179e\"],[0.4444444444444444,\"#bd3786\"],[0.5555555555555556,\"#d8576b\"],[0.6666666666666666,\"#ed7953\"],[0.7777777777777778,\"#fb9f3a\"],[0.8888888888888888,\"#fdca26\"],[1.0,\"#f0f921\"]]}],\"heatmap\":[{\"type\":\"heatmap\",\"colorbar\":{\"outlinewidth\":0,\"ticks\":\"\"},\"colorscale\":[[0.0,\"#0d0887\"],[0.1111111111111111,\"#46039f\"],[0.2222222222222222,\"#7201a8\"],[0.3333333333333333,\"#9c179e\"],[0.4444444444444444,\"#bd3786\"],[0.5555555555555556,\"#d8576b\"],[0.6666666666666666,\"#ed7953\"],[0.7777777777777778,\"#fb9f3a\"],[0.8888888888888888,\"#fdca26\"],[1.0,\"#f0f921\"]]}],\"heatmapgl\":[{\"type\":\"heatmapgl\",\"colorbar\":{\"outlinewidth\":0,\"ticks\":\"\"},\"colorscale\":[[0.0,\"#0d0887\"],[0.1111111111111111,\"#46039f\"],[0.2222222222222222,\"#7201a8\"],[0.3333333333333333,\"#9c179e\"],[0.4444444444444444,\"#bd3786\"],[0.5555555555555556,\"#d8576b\"],[0.6666666666666666,\"#ed7953\"],[0.7777777777777778,\"#fb9f3a\"],[0.8888888888888888,\"#fdca26\"],[1.0,\"#f0f921\"]]}],\"contourcarpet\":[{\"type\":\"contourcarpet\",\"colorbar\":{\"outlinewidth\":0,\"ticks\":\"\"}}],\"contour\":[{\"type\":\"contour\",\"colorbar\":{\"outlinewidth\":0,\"ticks\":\"\"},\"colorscale\":[[0.0,\"#0d0887\"],[0.1111111111111111,\"#46039f\"],[0.2222222222222222,\"#7201a8\"],[0.3333333333333333,\"#9c179e\"],[0.4444444444444444,\"#bd3786\"],[0.5555555555555556,\"#d8576b\"],[0.6666666666666666,\"#ed7953\"],[0.7777777777777778,\"#fb9f3a\"],[0.8888888888888888,\"#fdca26\"],[1.0,\"#f0f921\"]]}],\"surface\":[{\"type\":\"surface\",\"colorbar\":{\"outlinewidth\":0,\"ticks\":\"\"},\"colorscale\":[[0.0,\"#0d0887\"],[0.1111111111111111,\"#46039f\"],[0.2222222222222222,\"#7201a8\"],[0.3333333333333333,\"#9c179e\"],[0.4444444444444444,\"#bd3786\"],[0.5555555555555556,\"#d8576b\"],[0.6666666666666666,\"#ed7953\"],[0.7777777777777778,\"#fb9f3a\"],[0.8888888888888888,\"#fdca26\"],[1.0,\"#f0f921\"]]}],\"mesh3d\":[{\"type\":\"mesh3d\",\"colorbar\":{\"outlinewidth\":0,\"ticks\":\"\"}}],\"scatter\":[{\"fillpattern\":{\"fillmode\":\"overlay\",\"size\":10,\"solidity\":0.2},\"type\":\"scatter\"}],\"parcoords\":[{\"type\":\"parcoords\",\"line\":{\"colorbar\":{\"outlinewidth\":0,\"ticks\":\"\"}}}],\"scatterpolargl\":[{\"type\":\"scatterpolargl\",\"marker\":{\"colorbar\":{\"outlinewidth\":0,\"ticks\":\"\"}}}],\"bar\":[{\"error_x\":{\"color\":\"#2a3f5f\"},\"error_y\":{\"color\":\"#2a3f5f\"},\"marker\":{\"line\":{\"color\":\"#E5ECF6\",\"width\":0.5},\"pattern\":{\"fillmode\":\"overlay\",\"size\":10,\"solidity\":0.2}},\"type\":\"bar\"}],\"scattergeo\":[{\"type\":\"scattergeo\",\"marker\":{\"colorbar\":{\"outlinewidth\":0,\"ticks\":\"\"}}}],\"scatterpolar\":[{\"type\":\"scatterpolar\",\"marker\":{\"colorbar\":{\"outlinewidth\":0,\"ticks\":\"\"}}}],\"histogram\":[{\"marker\":{\"pattern\":{\"fillmode\":\"overlay\",\"size\":10,\"solidity\":0.2}},\"type\":\"histogram\"}],\"scattergl\":[{\"type\":\"scattergl\",\"marker\":{\"colorbar\":{\"outlinewidth\":0,\"ticks\":\"\"}}}],\"scatter3d\":[{\"type\":\"scatter3d\",\"line\":{\"colorbar\":{\"outlinewidth\":0,\"ticks\":\"\"}},\"marker\":{\"colorbar\":{\"outlinewidth\":0,\"ticks\":\"\"}}}],\"scattermapbox\":[{\"type\":\"scattermapbox\",\"marker\":{\"colorbar\":{\"outlinewidth\":0,\"ticks\":\"\"}}}],\"scatterternary\":[{\"type\":\"scatterternary\",\"marker\":{\"colorbar\":{\"outlinewidth\":0,\"ticks\":\"\"}}}],\"scattercarpet\":[{\"type\":\"scattercarpet\",\"marker\":{\"colorbar\":{\"outlinewidth\":0,\"ticks\":\"\"}}}],\"carpet\":[{\"aaxis\":{\"endlinecolor\":\"#2a3f5f\",\"gridcolor\":\"white\",\"linecolor\":\"white\",\"minorgridcolor\":\"white\",\"startlinecolor\":\"#2a3f5f\"},\"baxis\":{\"endlinecolor\":\"#2a3f5f\",\"gridcolor\":\"white\",\"linecolor\":\"white\",\"minorgridcolor\":\"white\",\"startlinecolor\":\"#2a3f5f\"},\"type\":\"carpet\"}],\"table\":[{\"cells\":{\"fill\":{\"color\":\"#EBF0F8\"},\"line\":{\"color\":\"white\"}},\"header\":{\"fill\":{\"color\":\"#C8D4E3\"},\"line\":{\"color\":\"white\"}},\"type\":\"table\"}],\"barpolar\":[{\"marker\":{\"line\":{\"color\":\"#E5ECF6\",\"width\":0.5},\"pattern\":{\"fillmode\":\"overlay\",\"size\":10,\"solidity\":0.2}},\"type\":\"barpolar\"}],\"pie\":[{\"automargin\":true,\"type\":\"pie\"}]},\"layout\":{\"autotypenumbers\":\"strict\",\"colorway\":[\"#636efa\",\"#EF553B\",\"#00cc96\",\"#ab63fa\",\"#FFA15A\",\"#19d3f3\",\"#FF6692\",\"#B6E880\",\"#FF97FF\",\"#FECB52\"],\"font\":{\"color\":\"#2a3f5f\"},\"hovermode\":\"closest\",\"hoverlabel\":{\"align\":\"left\"},\"paper_bgcolor\":\"white\",\"plot_bgcolor\":\"#E5ECF6\",\"polar\":{\"bgcolor\":\"#E5ECF6\",\"angularaxis\":{\"gridcolor\":\"white\",\"linecolor\":\"white\",\"ticks\":\"\"},\"radialaxis\":{\"gridcolor\":\"white\",\"linecolor\":\"white\",\"ticks\":\"\"}},\"ternary\":{\"bgcolor\":\"#E5ECF6\",\"aaxis\":{\"gridcolor\":\"white\",\"linecolor\":\"white\",\"ticks\":\"\"},\"baxis\":{\"gridcolor\":\"white\",\"linecolor\":\"white\",\"ticks\":\"\"},\"caxis\":{\"gridcolor\":\"white\",\"linecolor\":\"white\",\"ticks\":\"\"}},\"coloraxis\":{\"colorbar\":{\"outlinewidth\":0,\"ticks\":\"\"}},\"colorscale\":{\"sequential\":[[0.0,\"#0d0887\"],[0.1111111111111111,\"#46039f\"],[0.2222222222222222,\"#7201a8\"],[0.3333333333333333,\"#9c179e\"],[0.4444444444444444,\"#bd3786\"],[0.5555555555555556,\"#d8576b\"],[0.6666666666666666,\"#ed7953\"],[0.7777777777777778,\"#fb9f3a\"],[0.8888888888888888,\"#fdca26\"],[1.0,\"#f0f921\"]],\"sequentialminus\":[[0.0,\"#0d0887\"],[0.1111111111111111,\"#46039f\"],[0.2222222222222222,\"#7201a8\"],[0.3333333333333333,\"#9c179e\"],[0.4444444444444444,\"#bd3786\"],[0.5555555555555556,\"#d8576b\"],[0.6666666666666666,\"#ed7953\"],[0.7777777777777778,\"#fb9f3a\"],[0.8888888888888888,\"#fdca26\"],[1.0,\"#f0f921\"]],\"diverging\":[[0,\"#8e0152\"],[0.1,\"#c51b7d\"],[0.2,\"#de77ae\"],[0.3,\"#f1b6da\"],[0.4,\"#fde0ef\"],[0.5,\"#f7f7f7\"],[0.6,\"#e6f5d0\"],[0.7,\"#b8e186\"],[0.8,\"#7fbc41\"],[0.9,\"#4d9221\"],[1,\"#276419\"]]},\"xaxis\":{\"gridcolor\":\"white\",\"linecolor\":\"white\",\"ticks\":\"\",\"title\":{\"standoff\":15},\"zerolinecolor\":\"white\",\"automargin\":true,\"zerolinewidth\":2},\"yaxis\":{\"gridcolor\":\"white\",\"linecolor\":\"white\",\"ticks\":\"\",\"title\":{\"standoff\":15},\"zerolinecolor\":\"white\",\"automargin\":true,\"zerolinewidth\":2},\"scene\":{\"xaxis\":{\"backgroundcolor\":\"#E5ECF6\",\"gridcolor\":\"white\",\"linecolor\":\"white\",\"showbackground\":true,\"ticks\":\"\",\"zerolinecolor\":\"white\",\"gridwidth\":2},\"yaxis\":{\"backgroundcolor\":\"#E5ECF6\",\"gridcolor\":\"white\",\"linecolor\":\"white\",\"showbackground\":true,\"ticks\":\"\",\"zerolinecolor\":\"white\",\"gridwidth\":2},\"zaxis\":{\"backgroundcolor\":\"#E5ECF6\",\"gridcolor\":\"white\",\"linecolor\":\"white\",\"showbackground\":true,\"ticks\":\"\",\"zerolinecolor\":\"white\",\"gridwidth\":2}},\"shapedefaults\":{\"line\":{\"color\":\"#2a3f5f\"}},\"annotationdefaults\":{\"arrowcolor\":\"#2a3f5f\",\"arrowhead\":0,\"arrowwidth\":1},\"geo\":{\"bgcolor\":\"white\",\"landcolor\":\"#E5ECF6\",\"subunitcolor\":\"white\",\"showland\":true,\"showlakes\":true,\"lakecolor\":\"white\"},\"title\":{\"x\":0.05},\"mapbox\":{\"style\":\"light\"}}},\"xaxis\":{\"anchor\":\"y\",\"domain\":[0.0,1.0],\"title\":{\"text\":\"\\uc608\\uc57d\\ud0c0\\uc785\"}},\"yaxis\":{\"anchor\":\"x\",\"domain\":[0.0,1.0],\"title\":{\"text\":\"\\uac74\\ub2f9 \\uacf5\\ud5cc\\uc774\\uc775\"}},\"legend\":{\"title\":{\"text\":\"\\uc6b4\\uc601\\uc9c0\\uc5ed\\uc2dc\\u002f\\ub3c4\"},\"tracegroupgap\":0},\"title\":{\"text\":\"\\uc9c0\\uc5ed \\ub0b4 \\uc608\\uc57d\\ud0c0\\uc785\\ubcc4 \\uac74\\ub2f9 \\uacf5\\ud5cc\\uc774\\uc775\"},\"barmode\":\"group\"},                        {\"responsive\": true}                    ).then(function(){\n",
              "                            \n",
              "var gd = document.getElementById('3f06a947-3c6d-41d3-b4d1-580d5c019bdf');\n",
              "var x = new MutationObserver(function (mutations, observer) {{\n",
              "        var display = window.getComputedStyle(gd).display;\n",
              "        if (!display || display === 'none') {{\n",
              "            console.log([gd, 'removed!']);\n",
              "            Plotly.purge(gd);\n",
              "            observer.disconnect();\n",
              "        }}\n",
              "}});\n",
              "\n",
              "// Listen for the removal of the full notebook cells\n",
              "var notebookContainer = gd.closest('#notebook-container');\n",
              "if (notebookContainer) {{\n",
              "    x.observe(notebookContainer, {childList: true});\n",
              "}}\n",
              "\n",
              "// Listen for the clearing of the current output cell\n",
              "var outputEl = gd.closest('.output');\n",
              "if (outputEl) {{\n",
              "    x.observe(outputEl, {childList: true});\n",
              "}}\n",
              "\n",
              "                        })                };                            </script>        </div>\n",
              "</body>\n",
              "</html>"
            ]
          },
          "metadata": {}
        }
      ]
    },
    {
      "cell_type": "code",
      "source": [
        "# 단계 1: region1과 way 별로 margin과 nuse의 합계를 계산\n",
        "summary = df_part.groupby(['region1', 'way']).agg({'margin': 'sum', 'nuse': 'sum'}).reset_index()\n",
        "\n",
        "# 단계 2: 각 그룹별 건당 공헌이익(margin_nuse) 계산\n",
        "summary['margin_nuse'] = summary['margin'] / summary['nuse']\n",
        "\n",
        "# 정규화 진행\n",
        "scaler = MinMaxScaler()\n",
        "summary['margin_nuse_normalized'] = scaler.fit_transform(summary[['margin_nuse']])\n",
        "\n",
        "# 바 차트로 정규화된 결과 시각화\n",
        "fig = px.bar(summary, x='way', y='margin_nuse_normalized', color='region1',\n",
        "             title='지역 내 예약타입별 정규화된 건당 공헌이익',\n",
        "             barmode='group',\n",
        "             text='margin_nuse_normalized',\n",
        "             labels={'margin_nuse_normalized': '정규화된 건당 공헌이익', 'way': '예약타입', 'region1': '운영지역시/도'})\n",
        "\n",
        "fig.update_traces(texttemplate='%{text:.2f}', textposition='outside')  # 소수점 두 자리로 표시\n",
        "fig.show()"
      ],
      "metadata": {
        "colab": {
          "base_uri": "https://localhost:8080/",
          "height": 542
        },
        "id": "DvAhqiifVT1g",
        "outputId": "9955b05c-cfb1-4562-e6d6-0ccb0ac1c2f6"
      },
      "execution_count": null,
      "outputs": [
        {
          "output_type": "display_data",
          "data": {
            "text/html": [
              "<html>\n",
              "<head><meta charset=\"utf-8\" /></head>\n",
              "<body>\n",
              "    <div>            <script src=\"https://cdnjs.cloudflare.com/ajax/libs/mathjax/2.7.5/MathJax.js?config=TeX-AMS-MML_SVG\"></script><script type=\"text/javascript\">if (window.MathJax && window.MathJax.Hub && window.MathJax.Hub.Config) {window.MathJax.Hub.Config({SVG: {font: \"STIX-Web\"}});}</script>                <script type=\"text/javascript\">window.PlotlyConfig = {MathJaxConfig: 'local'};</script>\n",
              "        <script charset=\"utf-8\" src=\"https://cdn.plot.ly/plotly-2.24.1.min.js\"></script>                <div id=\"8f10fd40-05cf-49c5-995c-f30887d9b4d2\" class=\"plotly-graph-div\" style=\"height:525px; width:100%;\"></div>            <script type=\"text/javascript\">                                    window.PLOTLYENV=window.PLOTLYENV || {};                                    if (document.getElementById(\"8f10fd40-05cf-49c5-995c-f30887d9b4d2\")) {                    Plotly.newPlot(                        \"8f10fd40-05cf-49c5-995c-f30887d9b4d2\",                        [{\"alignmentgroup\":\"True\",\"hovertemplate\":\"\\uc6b4\\uc601\\uc9c0\\uc5ed\\uc2dc\\u002f\\ub3c4=\\uacbd\\uae30\\ub3c4\\u003cbr\\u003e\\uc608\\uc57d\\ud0c0\\uc785=%{x}\\u003cbr\\u003e\\uc815\\uaddc\\ud654\\ub41c \\uac74\\ub2f9 \\uacf5\\ud5cc\\uc774\\uc775=%{text}\\u003cextra\\u003e\\u003c\\u002fextra\\u003e\",\"legendgroup\":\"\\uacbd\\uae30\\ub3c4\",\"marker\":{\"color\":\"#636efa\",\"pattern\":{\"shape\":\"\"}},\"name\":\"\\uacbd\\uae30\\ub3c4\",\"offsetgroup\":\"\\uacbd\\uae30\\ub3c4\",\"orientation\":\"v\",\"showlegend\":true,\"text\":[0.8922286126810165,0.7962445617295267,0.3708932388376966,0.34832536849292073],\"textposition\":\"outside\",\"x\":[\"d2d_oneway\",\"d2d_round\",\"round\",\"z2d_oneway\"],\"xaxis\":\"x\",\"y\":[0.8922286126810165,0.7962445617295267,0.3708932388376966,0.34832536849292073],\"yaxis\":\"y\",\"type\":\"bar\",\"texttemplate\":\"%{text:.2f}\"},{\"alignmentgroup\":\"True\",\"hovertemplate\":\"\\uc6b4\\uc601\\uc9c0\\uc5ed\\uc2dc\\u002f\\ub3c4=\\ubd80\\uc0b0\\uad11\\uc5ed\\uc2dc\\u003cbr\\u003e\\uc608\\uc57d\\ud0c0\\uc785=%{x}\\u003cbr\\u003e\\uc815\\uaddc\\ud654\\ub41c \\uac74\\ub2f9 \\uacf5\\ud5cc\\uc774\\uc775=%{text}\\u003cextra\\u003e\\u003c\\u002fextra\\u003e\",\"legendgroup\":\"\\ubd80\\uc0b0\\uad11\\uc5ed\\uc2dc\",\"marker\":{\"color\":\"#EF553B\",\"pattern\":{\"shape\":\"\"}},\"name\":\"\\ubd80\\uc0b0\\uad11\\uc5ed\\uc2dc\",\"offsetgroup\":\"\\ubd80\\uc0b0\\uad11\\uc5ed\\uc2dc\",\"orientation\":\"v\",\"showlegend\":true,\"text\":[0.8631083024974772,0.822340182687186,0.42785162450761577,0.39374212611908743],\"textposition\":\"outside\",\"x\":[\"d2d_oneway\",\"d2d_round\",\"round\",\"z2d_oneway\"],\"xaxis\":\"x\",\"y\":[0.8631083024974772,0.822340182687186,0.42785162450761577,0.39374212611908743],\"yaxis\":\"y\",\"type\":\"bar\",\"texttemplate\":\"%{text:.2f}\"},{\"alignmentgroup\":\"True\",\"hovertemplate\":\"\\uc6b4\\uc601\\uc9c0\\uc5ed\\uc2dc\\u002f\\ub3c4=\\uc11c\\uc6b8\\ud2b9\\ubcc4\\uc2dc\\u003cbr\\u003e\\uc608\\uc57d\\ud0c0\\uc785=%{x}\\u003cbr\\u003e\\uc815\\uaddc\\ud654\\ub41c \\uac74\\ub2f9 \\uacf5\\ud5cc\\uc774\\uc775=%{text}\\u003cextra\\u003e\\u003c\\u002fextra\\u003e\",\"legendgroup\":\"\\uc11c\\uc6b8\\ud2b9\\ubcc4\\uc2dc\",\"marker\":{\"color\":\"#00cc96\",\"pattern\":{\"shape\":\"\"}},\"name\":\"\\uc11c\\uc6b8\\ud2b9\\ubcc4\\uc2dc\",\"offsetgroup\":\"\\uc11c\\uc6b8\\ud2b9\\ubcc4\\uc2dc\",\"orientation\":\"v\",\"showlegend\":true,\"text\":[0.9182543332787882,0.9047392886488826,0.38036167016917855,0.32640078341698325],\"textposition\":\"outside\",\"x\":[\"d2d_oneway\",\"d2d_round\",\"round\",\"z2d_oneway\"],\"xaxis\":\"x\",\"y\":[0.9182543332787882,0.9047392886488826,0.38036167016917855,0.32640078341698325],\"yaxis\":\"y\",\"type\":\"bar\",\"texttemplate\":\"%{text:.2f}\"},{\"alignmentgroup\":\"True\",\"hovertemplate\":\"\\uc6b4\\uc601\\uc9c0\\uc5ed\\uc2dc\\u002f\\ub3c4=\\uc81c\\uc8fc\\ud2b9\\ubcc4\\uc790\\uce58\\ub3c4\\u003cbr\\u003e\\uc608\\uc57d\\ud0c0\\uc785=%{x}\\u003cbr\\u003e\\uc815\\uaddc\\ud654\\ub41c \\uac74\\ub2f9 \\uacf5\\ud5cc\\uc774\\uc775=%{text}\\u003cextra\\u003e\\u003c\\u002fextra\\u003e\",\"legendgroup\":\"\\uc81c\\uc8fc\\ud2b9\\ubcc4\\uc790\\uce58\\ub3c4\",\"marker\":{\"color\":\"#ab63fa\",\"pattern\":{\"shape\":\"\"}},\"name\":\"\\uc81c\\uc8fc\\ud2b9\\ubcc4\\uc790\\uce58\\ub3c4\",\"offsetgroup\":\"\\uc81c\\uc8fc\\ud2b9\\ubcc4\\uc790\\uce58\\ub3c4\",\"orientation\":\"v\",\"showlegend\":true,\"text\":[0.0,0.5891021925924967,0.6277945272542015],\"textposition\":\"outside\",\"x\":[\"d2d_oneway\",\"d2d_round\",\"round\"],\"xaxis\":\"x\",\"y\":[0.0,0.5891021925924967,0.6277945272542015],\"yaxis\":\"y\",\"type\":\"bar\",\"texttemplate\":\"%{text:.2f}\"},{\"alignmentgroup\":\"True\",\"hovertemplate\":\"\\uc6b4\\uc601\\uc9c0\\uc5ed\\uc2dc\\u002f\\ub3c4=\\ud638\\ub0a8\\u003cbr\\u003e\\uc608\\uc57d\\ud0c0\\uc785=%{x}\\u003cbr\\u003e\\uc815\\uaddc\\ud654\\ub41c \\uac74\\ub2f9 \\uacf5\\ud5cc\\uc774\\uc775=%{text}\\u003cextra\\u003e\\u003c\\u002fextra\\u003e\",\"legendgroup\":\"\\ud638\\ub0a8\",\"marker\":{\"color\":\"#FFA15A\",\"pattern\":{\"shape\":\"\"}},\"name\":\"\\ud638\\ub0a8\",\"offsetgroup\":\"\\ud638\\ub0a8\",\"orientation\":\"v\",\"showlegend\":true,\"text\":[1.0,0.7798372060134602,0.4931044503662091],\"textposition\":\"outside\",\"x\":[\"d2d_oneway\",\"d2d_round\",\"round\"],\"xaxis\":\"x\",\"y\":[1.0,0.7798372060134602,0.4931044503662091],\"yaxis\":\"y\",\"type\":\"bar\",\"texttemplate\":\"%{text:.2f}\"}],                        {\"template\":{\"data\":{\"histogram2dcontour\":[{\"type\":\"histogram2dcontour\",\"colorbar\":{\"outlinewidth\":0,\"ticks\":\"\"},\"colorscale\":[[0.0,\"#0d0887\"],[0.1111111111111111,\"#46039f\"],[0.2222222222222222,\"#7201a8\"],[0.3333333333333333,\"#9c179e\"],[0.4444444444444444,\"#bd3786\"],[0.5555555555555556,\"#d8576b\"],[0.6666666666666666,\"#ed7953\"],[0.7777777777777778,\"#fb9f3a\"],[0.8888888888888888,\"#fdca26\"],[1.0,\"#f0f921\"]]}],\"choropleth\":[{\"type\":\"choropleth\",\"colorbar\":{\"outlinewidth\":0,\"ticks\":\"\"}}],\"histogram2d\":[{\"type\":\"histogram2d\",\"colorbar\":{\"outlinewidth\":0,\"ticks\":\"\"},\"colorscale\":[[0.0,\"#0d0887\"],[0.1111111111111111,\"#46039f\"],[0.2222222222222222,\"#7201a8\"],[0.3333333333333333,\"#9c179e\"],[0.4444444444444444,\"#bd3786\"],[0.5555555555555556,\"#d8576b\"],[0.6666666666666666,\"#ed7953\"],[0.7777777777777778,\"#fb9f3a\"],[0.8888888888888888,\"#fdca26\"],[1.0,\"#f0f921\"]]}],\"heatmap\":[{\"type\":\"heatmap\",\"colorbar\":{\"outlinewidth\":0,\"ticks\":\"\"},\"colorscale\":[[0.0,\"#0d0887\"],[0.1111111111111111,\"#46039f\"],[0.2222222222222222,\"#7201a8\"],[0.3333333333333333,\"#9c179e\"],[0.4444444444444444,\"#bd3786\"],[0.5555555555555556,\"#d8576b\"],[0.6666666666666666,\"#ed7953\"],[0.7777777777777778,\"#fb9f3a\"],[0.8888888888888888,\"#fdca26\"],[1.0,\"#f0f921\"]]}],\"heatmapgl\":[{\"type\":\"heatmapgl\",\"colorbar\":{\"outlinewidth\":0,\"ticks\":\"\"},\"colorscale\":[[0.0,\"#0d0887\"],[0.1111111111111111,\"#46039f\"],[0.2222222222222222,\"#7201a8\"],[0.3333333333333333,\"#9c179e\"],[0.4444444444444444,\"#bd3786\"],[0.5555555555555556,\"#d8576b\"],[0.6666666666666666,\"#ed7953\"],[0.7777777777777778,\"#fb9f3a\"],[0.8888888888888888,\"#fdca26\"],[1.0,\"#f0f921\"]]}],\"contourcarpet\":[{\"type\":\"contourcarpet\",\"colorbar\":{\"outlinewidth\":0,\"ticks\":\"\"}}],\"contour\":[{\"type\":\"contour\",\"colorbar\":{\"outlinewidth\":0,\"ticks\":\"\"},\"colorscale\":[[0.0,\"#0d0887\"],[0.1111111111111111,\"#46039f\"],[0.2222222222222222,\"#7201a8\"],[0.3333333333333333,\"#9c179e\"],[0.4444444444444444,\"#bd3786\"],[0.5555555555555556,\"#d8576b\"],[0.6666666666666666,\"#ed7953\"],[0.7777777777777778,\"#fb9f3a\"],[0.8888888888888888,\"#fdca26\"],[1.0,\"#f0f921\"]]}],\"surface\":[{\"type\":\"surface\",\"colorbar\":{\"outlinewidth\":0,\"ticks\":\"\"},\"colorscale\":[[0.0,\"#0d0887\"],[0.1111111111111111,\"#46039f\"],[0.2222222222222222,\"#7201a8\"],[0.3333333333333333,\"#9c179e\"],[0.4444444444444444,\"#bd3786\"],[0.5555555555555556,\"#d8576b\"],[0.6666666666666666,\"#ed7953\"],[0.7777777777777778,\"#fb9f3a\"],[0.8888888888888888,\"#fdca26\"],[1.0,\"#f0f921\"]]}],\"mesh3d\":[{\"type\":\"mesh3d\",\"colorbar\":{\"outlinewidth\":0,\"ticks\":\"\"}}],\"scatter\":[{\"fillpattern\":{\"fillmode\":\"overlay\",\"size\":10,\"solidity\":0.2},\"type\":\"scatter\"}],\"parcoords\":[{\"type\":\"parcoords\",\"line\":{\"colorbar\":{\"outlinewidth\":0,\"ticks\":\"\"}}}],\"scatterpolargl\":[{\"type\":\"scatterpolargl\",\"marker\":{\"colorbar\":{\"outlinewidth\":0,\"ticks\":\"\"}}}],\"bar\":[{\"error_x\":{\"color\":\"#2a3f5f\"},\"error_y\":{\"color\":\"#2a3f5f\"},\"marker\":{\"line\":{\"color\":\"#E5ECF6\",\"width\":0.5},\"pattern\":{\"fillmode\":\"overlay\",\"size\":10,\"solidity\":0.2}},\"type\":\"bar\"}],\"scattergeo\":[{\"type\":\"scattergeo\",\"marker\":{\"colorbar\":{\"outlinewidth\":0,\"ticks\":\"\"}}}],\"scatterpolar\":[{\"type\":\"scatterpolar\",\"marker\":{\"colorbar\":{\"outlinewidth\":0,\"ticks\":\"\"}}}],\"histogram\":[{\"marker\":{\"pattern\":{\"fillmode\":\"overlay\",\"size\":10,\"solidity\":0.2}},\"type\":\"histogram\"}],\"scattergl\":[{\"type\":\"scattergl\",\"marker\":{\"colorbar\":{\"outlinewidth\":0,\"ticks\":\"\"}}}],\"scatter3d\":[{\"type\":\"scatter3d\",\"line\":{\"colorbar\":{\"outlinewidth\":0,\"ticks\":\"\"}},\"marker\":{\"colorbar\":{\"outlinewidth\":0,\"ticks\":\"\"}}}],\"scattermapbox\":[{\"type\":\"scattermapbox\",\"marker\":{\"colorbar\":{\"outlinewidth\":0,\"ticks\":\"\"}}}],\"scatterternary\":[{\"type\":\"scatterternary\",\"marker\":{\"colorbar\":{\"outlinewidth\":0,\"ticks\":\"\"}}}],\"scattercarpet\":[{\"type\":\"scattercarpet\",\"marker\":{\"colorbar\":{\"outlinewidth\":0,\"ticks\":\"\"}}}],\"carpet\":[{\"aaxis\":{\"endlinecolor\":\"#2a3f5f\",\"gridcolor\":\"white\",\"linecolor\":\"white\",\"minorgridcolor\":\"white\",\"startlinecolor\":\"#2a3f5f\"},\"baxis\":{\"endlinecolor\":\"#2a3f5f\",\"gridcolor\":\"white\",\"linecolor\":\"white\",\"minorgridcolor\":\"white\",\"startlinecolor\":\"#2a3f5f\"},\"type\":\"carpet\"}],\"table\":[{\"cells\":{\"fill\":{\"color\":\"#EBF0F8\"},\"line\":{\"color\":\"white\"}},\"header\":{\"fill\":{\"color\":\"#C8D4E3\"},\"line\":{\"color\":\"white\"}},\"type\":\"table\"}],\"barpolar\":[{\"marker\":{\"line\":{\"color\":\"#E5ECF6\",\"width\":0.5},\"pattern\":{\"fillmode\":\"overlay\",\"size\":10,\"solidity\":0.2}},\"type\":\"barpolar\"}],\"pie\":[{\"automargin\":true,\"type\":\"pie\"}]},\"layout\":{\"autotypenumbers\":\"strict\",\"colorway\":[\"#636efa\",\"#EF553B\",\"#00cc96\",\"#ab63fa\",\"#FFA15A\",\"#19d3f3\",\"#FF6692\",\"#B6E880\",\"#FF97FF\",\"#FECB52\"],\"font\":{\"color\":\"#2a3f5f\"},\"hovermode\":\"closest\",\"hoverlabel\":{\"align\":\"left\"},\"paper_bgcolor\":\"white\",\"plot_bgcolor\":\"#E5ECF6\",\"polar\":{\"bgcolor\":\"#E5ECF6\",\"angularaxis\":{\"gridcolor\":\"white\",\"linecolor\":\"white\",\"ticks\":\"\"},\"radialaxis\":{\"gridcolor\":\"white\",\"linecolor\":\"white\",\"ticks\":\"\"}},\"ternary\":{\"bgcolor\":\"#E5ECF6\",\"aaxis\":{\"gridcolor\":\"white\",\"linecolor\":\"white\",\"ticks\":\"\"},\"baxis\":{\"gridcolor\":\"white\",\"linecolor\":\"white\",\"ticks\":\"\"},\"caxis\":{\"gridcolor\":\"white\",\"linecolor\":\"white\",\"ticks\":\"\"}},\"coloraxis\":{\"colorbar\":{\"outlinewidth\":0,\"ticks\":\"\"}},\"colorscale\":{\"sequential\":[[0.0,\"#0d0887\"],[0.1111111111111111,\"#46039f\"],[0.2222222222222222,\"#7201a8\"],[0.3333333333333333,\"#9c179e\"],[0.4444444444444444,\"#bd3786\"],[0.5555555555555556,\"#d8576b\"],[0.6666666666666666,\"#ed7953\"],[0.7777777777777778,\"#fb9f3a\"],[0.8888888888888888,\"#fdca26\"],[1.0,\"#f0f921\"]],\"sequentialminus\":[[0.0,\"#0d0887\"],[0.1111111111111111,\"#46039f\"],[0.2222222222222222,\"#7201a8\"],[0.3333333333333333,\"#9c179e\"],[0.4444444444444444,\"#bd3786\"],[0.5555555555555556,\"#d8576b\"],[0.6666666666666666,\"#ed7953\"],[0.7777777777777778,\"#fb9f3a\"],[0.8888888888888888,\"#fdca26\"],[1.0,\"#f0f921\"]],\"diverging\":[[0,\"#8e0152\"],[0.1,\"#c51b7d\"],[0.2,\"#de77ae\"],[0.3,\"#f1b6da\"],[0.4,\"#fde0ef\"],[0.5,\"#f7f7f7\"],[0.6,\"#e6f5d0\"],[0.7,\"#b8e186\"],[0.8,\"#7fbc41\"],[0.9,\"#4d9221\"],[1,\"#276419\"]]},\"xaxis\":{\"gridcolor\":\"white\",\"linecolor\":\"white\",\"ticks\":\"\",\"title\":{\"standoff\":15},\"zerolinecolor\":\"white\",\"automargin\":true,\"zerolinewidth\":2},\"yaxis\":{\"gridcolor\":\"white\",\"linecolor\":\"white\",\"ticks\":\"\",\"title\":{\"standoff\":15},\"zerolinecolor\":\"white\",\"automargin\":true,\"zerolinewidth\":2},\"scene\":{\"xaxis\":{\"backgroundcolor\":\"#E5ECF6\",\"gridcolor\":\"white\",\"linecolor\":\"white\",\"showbackground\":true,\"ticks\":\"\",\"zerolinecolor\":\"white\",\"gridwidth\":2},\"yaxis\":{\"backgroundcolor\":\"#E5ECF6\",\"gridcolor\":\"white\",\"linecolor\":\"white\",\"showbackground\":true,\"ticks\":\"\",\"zerolinecolor\":\"white\",\"gridwidth\":2},\"zaxis\":{\"backgroundcolor\":\"#E5ECF6\",\"gridcolor\":\"white\",\"linecolor\":\"white\",\"showbackground\":true,\"ticks\":\"\",\"zerolinecolor\":\"white\",\"gridwidth\":2}},\"shapedefaults\":{\"line\":{\"color\":\"#2a3f5f\"}},\"annotationdefaults\":{\"arrowcolor\":\"#2a3f5f\",\"arrowhead\":0,\"arrowwidth\":1},\"geo\":{\"bgcolor\":\"white\",\"landcolor\":\"#E5ECF6\",\"subunitcolor\":\"white\",\"showland\":true,\"showlakes\":true,\"lakecolor\":\"white\"},\"title\":{\"x\":0.05},\"mapbox\":{\"style\":\"light\"}}},\"xaxis\":{\"anchor\":\"y\",\"domain\":[0.0,1.0],\"title\":{\"text\":\"\\uc608\\uc57d\\ud0c0\\uc785\"}},\"yaxis\":{\"anchor\":\"x\",\"domain\":[0.0,1.0],\"title\":{\"text\":\"\\uc815\\uaddc\\ud654\\ub41c \\uac74\\ub2f9 \\uacf5\\ud5cc\\uc774\\uc775\"}},\"legend\":{\"title\":{\"text\":\"\\uc6b4\\uc601\\uc9c0\\uc5ed\\uc2dc\\u002f\\ub3c4\"},\"tracegroupgap\":0},\"title\":{\"text\":\"\\uc9c0\\uc5ed \\ub0b4 \\uc608\\uc57d\\ud0c0\\uc785\\ubcc4 \\uc815\\uaddc\\ud654\\ub41c \\uac74\\ub2f9 \\uacf5\\ud5cc\\uc774\\uc775\"},\"barmode\":\"group\"},                        {\"responsive\": true}                    ).then(function(){\n",
              "                            \n",
              "var gd = document.getElementById('8f10fd40-05cf-49c5-995c-f30887d9b4d2');\n",
              "var x = new MutationObserver(function (mutations, observer) {{\n",
              "        var display = window.getComputedStyle(gd).display;\n",
              "        if (!display || display === 'none') {{\n",
              "            console.log([gd, 'removed!']);\n",
              "            Plotly.purge(gd);\n",
              "            observer.disconnect();\n",
              "        }}\n",
              "}});\n",
              "\n",
              "// Listen for the removal of the full notebook cells\n",
              "var notebookContainer = gd.closest('#notebook-container');\n",
              "if (notebookContainer) {{\n",
              "    x.observe(notebookContainer, {childList: true});\n",
              "}}\n",
              "\n",
              "// Listen for the clearing of the current output cell\n",
              "var outputEl = gd.closest('.output');\n",
              "if (outputEl) {{\n",
              "    x.observe(outputEl, {childList: true});\n",
              "}}\n",
              "\n",
              "                        })                };                            </script>        </div>\n",
              "</body>\n",
              "</html>"
            ]
          },
          "metadata": {}
        }
      ]
    },
    {
      "cell_type": "markdown",
      "source": [
        "## 📈 *예약타입별 건당 이용시간 살펴보기*\n",
        "1. 건당 이용시간 역시 부름 예약이 왕복대비 압도적으로 높다\n",
        "** 제주는 운영중인 서비스가 아니나, 고객센터에서 임의로 대차되어 생성된 몇몇 건들로 서비스중인 것처럼 나타나니 무시한다 **"
      ],
      "metadata": {
        "id": "u0gA3zY4Gp21"
      }
    },
    {
      "cell_type": "code",
      "source": [
        "# \"제주특별자치도\"의 \"d2d_oneway\" 데이터 제외 (고객센터에서 임의로 예악타입을 변경한 케이스)\n",
        "filtered_df = df_part[~((df_part['region1'] == '제주특별자치도') & (df_part['way'] == 'd2d_oneway'))]\n",
        "\n",
        "# 단계 1: region1과 way 별로 revenue와 nuse의 합계를 계산\n",
        "summary = filtered_df.groupby(['region1', 'way']).agg({'utime': 'sum', 'nuse': 'sum'}).reset_index()\n",
        "\n",
        "# 단계 2: 각 그룹별 건당 매출(revenue_nuse) 계산\n",
        "summary['dur_nuse'] = summary['utime'] / summary['nuse']\n",
        "\n",
        "# 바 차트로 결과 시각화\n",
        "fig = px.bar(summary, x='way', y='dur_nuse', color='region1',\n",
        "             title='지역 내 예약타입별 건당 이용시간',\n",
        "             barmode='group',\n",
        "             text='dur_nuse',\n",
        "             labels={'dur_nuse': '건당 이용시간', 'way': '예약타입', 'region1': '운영지역시/도'})\n",
        "\n",
        "fig.update_traces(texttemplate='%{text:1.0f}', textposition='outside')\n",
        "fig.show()"
      ],
      "metadata": {
        "colab": {
          "base_uri": "https://localhost:8080/",
          "height": 542
        },
        "id": "gavBhgUXFyDl",
        "outputId": "f50da63d-8bb1-4ceb-82bd-bed6904048f4"
      },
      "execution_count": null,
      "outputs": [
        {
          "output_type": "display_data",
          "data": {
            "text/html": [
              "<html>\n",
              "<head><meta charset=\"utf-8\" /></head>\n",
              "<body>\n",
              "    <div>            <script src=\"https://cdnjs.cloudflare.com/ajax/libs/mathjax/2.7.5/MathJax.js?config=TeX-AMS-MML_SVG\"></script><script type=\"text/javascript\">if (window.MathJax && window.MathJax.Hub && window.MathJax.Hub.Config) {window.MathJax.Hub.Config({SVG: {font: \"STIX-Web\"}});}</script>                <script type=\"text/javascript\">window.PlotlyConfig = {MathJaxConfig: 'local'};</script>\n",
              "        <script charset=\"utf-8\" src=\"https://cdn.plot.ly/plotly-2.24.1.min.js\"></script>                <div id=\"8ff2b896-280c-4ab7-94fb-8eddcde8de2c\" class=\"plotly-graph-div\" style=\"height:525px; width:100%;\"></div>            <script type=\"text/javascript\">                                    window.PLOTLYENV=window.PLOTLYENV || {};                                    if (document.getElementById(\"8ff2b896-280c-4ab7-94fb-8eddcde8de2c\")) {                    Plotly.newPlot(                        \"8ff2b896-280c-4ab7-94fb-8eddcde8de2c\",                        [{\"alignmentgroup\":\"True\",\"hovertemplate\":\"\\uc6b4\\uc601\\uc9c0\\uc5ed\\uc2dc\\u002f\\ub3c4=\\uacbd\\uae30\\ub3c4\\u003cbr\\u003e\\uc608\\uc57d\\ud0c0\\uc785=%{x}\\u003cbr\\u003e\\uac74\\ub2f9 \\uc774\\uc6a9\\uc2dc\\uac04=%{text}\\u003cextra\\u003e\\u003c\\u002fextra\\u003e\",\"legendgroup\":\"\\uacbd\\uae30\\ub3c4\",\"marker\":{\"color\":\"#636efa\",\"pattern\":{\"shape\":\"\"}},\"name\":\"\\uacbd\\uae30\\ub3c4\",\"offsetgroup\":\"\\uacbd\\uae30\\ub3c4\",\"orientation\":\"v\",\"showlegend\":true,\"text\":[25.196572243007303,27.3401071367776,8.929748282628612,7.354792350705431],\"textposition\":\"outside\",\"x\":[\"d2d_oneway\",\"d2d_round\",\"round\",\"z2d_oneway\"],\"xaxis\":\"x\",\"y\":[25.196572243007303,27.3401071367776,8.929748282628612,7.354792350705431],\"yaxis\":\"y\",\"type\":\"bar\",\"texttemplate\":\"%{text:1.0f}\"},{\"alignmentgroup\":\"True\",\"hovertemplate\":\"\\uc6b4\\uc601\\uc9c0\\uc5ed\\uc2dc\\u002f\\ub3c4=\\ubd80\\uc0b0\\uad11\\uc5ed\\uc2dc\\u003cbr\\u003e\\uc608\\uc57d\\ud0c0\\uc785=%{x}\\u003cbr\\u003e\\uac74\\ub2f9 \\uc774\\uc6a9\\uc2dc\\uac04=%{text}\\u003cextra\\u003e\\u003c\\u002fextra\\u003e\",\"legendgroup\":\"\\ubd80\\uc0b0\\uad11\\uc5ed\\uc2dc\",\"marker\":{\"color\":\"#EF553B\",\"pattern\":{\"shape\":\"\"}},\"name\":\"\\ubd80\\uc0b0\\uad11\\uc5ed\\uc2dc\",\"offsetgroup\":\"\\ubd80\\uc0b0\\uad11\\uc5ed\\uc2dc\",\"orientation\":\"v\",\"showlegend\":true,\"text\":[22.991933014354068,27.681576449109993,10.514645053787154,9.40475658757349],\"textposition\":\"outside\",\"x\":[\"d2d_oneway\",\"d2d_round\",\"round\",\"z2d_oneway\"],\"xaxis\":\"x\",\"y\":[22.991933014354068,27.681576449109993,10.514645053787154,9.40475658757349],\"yaxis\":\"y\",\"type\":\"bar\",\"texttemplate\":\"%{text:1.0f}\"},{\"alignmentgroup\":\"True\",\"hovertemplate\":\"\\uc6b4\\uc601\\uc9c0\\uc5ed\\uc2dc\\u002f\\ub3c4=\\uc11c\\uc6b8\\ud2b9\\ubcc4\\uc2dc\\u003cbr\\u003e\\uc608\\uc57d\\ud0c0\\uc785=%{x}\\u003cbr\\u003e\\uac74\\ub2f9 \\uc774\\uc6a9\\uc2dc\\uac04=%{text}\\u003cextra\\u003e\\u003c\\u002fextra\\u003e\",\"legendgroup\":\"\\uc11c\\uc6b8\\ud2b9\\ubcc4\\uc2dc\",\"marker\":{\"color\":\"#00cc96\",\"pattern\":{\"shape\":\"\"}},\"name\":\"\\uc11c\\uc6b8\\ud2b9\\ubcc4\\uc2dc\",\"offsetgroup\":\"\\uc11c\\uc6b8\\ud2b9\\ubcc4\\uc2dc\",\"orientation\":\"v\",\"showlegend\":true,\"text\":[22.34835912831927,26.959306294996676,8.907123223192052,7.046695734508517],\"textposition\":\"outside\",\"x\":[\"d2d_oneway\",\"d2d_round\",\"round\",\"z2d_oneway\"],\"xaxis\":\"x\",\"y\":[22.34835912831927,26.959306294996676,8.907123223192052,7.046695734508517],\"yaxis\":\"y\",\"type\":\"bar\",\"texttemplate\":\"%{text:1.0f}\"},{\"alignmentgroup\":\"True\",\"hovertemplate\":\"\\uc6b4\\uc601\\uc9c0\\uc5ed\\uc2dc\\u002f\\ub3c4=\\uc81c\\uc8fc\\ud2b9\\ubcc4\\uc790\\uce58\\ub3c4\\u003cbr\\u003e\\uc608\\uc57d\\ud0c0\\uc785=%{x}\\u003cbr\\u003e\\uac74\\ub2f9 \\uc774\\uc6a9\\uc2dc\\uac04=%{text}\\u003cextra\\u003e\\u003c\\u002fextra\\u003e\",\"legendgroup\":\"\\uc81c\\uc8fc\\ud2b9\\ubcc4\\uc790\\uce58\\ub3c4\",\"marker\":{\"color\":\"#ab63fa\",\"pattern\":{\"shape\":\"\"}},\"name\":\"\\uc81c\\uc8fc\\ud2b9\\ubcc4\\uc790\\uce58\\ub3c4\",\"offsetgroup\":\"\\uc81c\\uc8fc\\ud2b9\\ubcc4\\uc790\\uce58\\ub3c4\",\"orientation\":\"v\",\"showlegend\":true,\"text\":[31.351790677475392,27.82216874127055],\"textposition\":\"outside\",\"x\":[\"d2d_round\",\"round\"],\"xaxis\":\"x\",\"y\":[31.351790677475392,27.82216874127055],\"yaxis\":\"y\",\"type\":\"bar\",\"texttemplate\":\"%{text:1.0f}\"},{\"alignmentgroup\":\"True\",\"hovertemplate\":\"\\uc6b4\\uc601\\uc9c0\\uc5ed\\uc2dc\\u002f\\ub3c4=\\ud638\\ub0a8\\u003cbr\\u003e\\uc608\\uc57d\\ud0c0\\uc785=%{x}\\u003cbr\\u003e\\uac74\\ub2f9 \\uc774\\uc6a9\\uc2dc\\uac04=%{text}\\u003cextra\\u003e\\u003c\\u002fextra\\u003e\",\"legendgroup\":\"\\ud638\\ub0a8\",\"marker\":{\"color\":\"#FFA15A\",\"pattern\":{\"shape\":\"\"}},\"name\":\"\\ud638\\ub0a8\",\"offsetgroup\":\"\\ud638\\ub0a8\",\"orientation\":\"v\",\"showlegend\":true,\"text\":[24.813927245731254,27.892518278435215,12.418706758296384],\"textposition\":\"outside\",\"x\":[\"d2d_oneway\",\"d2d_round\",\"round\"],\"xaxis\":\"x\",\"y\":[24.813927245731254,27.892518278435215,12.418706758296384],\"yaxis\":\"y\",\"type\":\"bar\",\"texttemplate\":\"%{text:1.0f}\"}],                        {\"template\":{\"data\":{\"histogram2dcontour\":[{\"type\":\"histogram2dcontour\",\"colorbar\":{\"outlinewidth\":0,\"ticks\":\"\"},\"colorscale\":[[0.0,\"#0d0887\"],[0.1111111111111111,\"#46039f\"],[0.2222222222222222,\"#7201a8\"],[0.3333333333333333,\"#9c179e\"],[0.4444444444444444,\"#bd3786\"],[0.5555555555555556,\"#d8576b\"],[0.6666666666666666,\"#ed7953\"],[0.7777777777777778,\"#fb9f3a\"],[0.8888888888888888,\"#fdca26\"],[1.0,\"#f0f921\"]]}],\"choropleth\":[{\"type\":\"choropleth\",\"colorbar\":{\"outlinewidth\":0,\"ticks\":\"\"}}],\"histogram2d\":[{\"type\":\"histogram2d\",\"colorbar\":{\"outlinewidth\":0,\"ticks\":\"\"},\"colorscale\":[[0.0,\"#0d0887\"],[0.1111111111111111,\"#46039f\"],[0.2222222222222222,\"#7201a8\"],[0.3333333333333333,\"#9c179e\"],[0.4444444444444444,\"#bd3786\"],[0.5555555555555556,\"#d8576b\"],[0.6666666666666666,\"#ed7953\"],[0.7777777777777778,\"#fb9f3a\"],[0.8888888888888888,\"#fdca26\"],[1.0,\"#f0f921\"]]}],\"heatmap\":[{\"type\":\"heatmap\",\"colorbar\":{\"outlinewidth\":0,\"ticks\":\"\"},\"colorscale\":[[0.0,\"#0d0887\"],[0.1111111111111111,\"#46039f\"],[0.2222222222222222,\"#7201a8\"],[0.3333333333333333,\"#9c179e\"],[0.4444444444444444,\"#bd3786\"],[0.5555555555555556,\"#d8576b\"],[0.6666666666666666,\"#ed7953\"],[0.7777777777777778,\"#fb9f3a\"],[0.8888888888888888,\"#fdca26\"],[1.0,\"#f0f921\"]]}],\"heatmapgl\":[{\"type\":\"heatmapgl\",\"colorbar\":{\"outlinewidth\":0,\"ticks\":\"\"},\"colorscale\":[[0.0,\"#0d0887\"],[0.1111111111111111,\"#46039f\"],[0.2222222222222222,\"#7201a8\"],[0.3333333333333333,\"#9c179e\"],[0.4444444444444444,\"#bd3786\"],[0.5555555555555556,\"#d8576b\"],[0.6666666666666666,\"#ed7953\"],[0.7777777777777778,\"#fb9f3a\"],[0.8888888888888888,\"#fdca26\"],[1.0,\"#f0f921\"]]}],\"contourcarpet\":[{\"type\":\"contourcarpet\",\"colorbar\":{\"outlinewidth\":0,\"ticks\":\"\"}}],\"contour\":[{\"type\":\"contour\",\"colorbar\":{\"outlinewidth\":0,\"ticks\":\"\"},\"colorscale\":[[0.0,\"#0d0887\"],[0.1111111111111111,\"#46039f\"],[0.2222222222222222,\"#7201a8\"],[0.3333333333333333,\"#9c179e\"],[0.4444444444444444,\"#bd3786\"],[0.5555555555555556,\"#d8576b\"],[0.6666666666666666,\"#ed7953\"],[0.7777777777777778,\"#fb9f3a\"],[0.8888888888888888,\"#fdca26\"],[1.0,\"#f0f921\"]]}],\"surface\":[{\"type\":\"surface\",\"colorbar\":{\"outlinewidth\":0,\"ticks\":\"\"},\"colorscale\":[[0.0,\"#0d0887\"],[0.1111111111111111,\"#46039f\"],[0.2222222222222222,\"#7201a8\"],[0.3333333333333333,\"#9c179e\"],[0.4444444444444444,\"#bd3786\"],[0.5555555555555556,\"#d8576b\"],[0.6666666666666666,\"#ed7953\"],[0.7777777777777778,\"#fb9f3a\"],[0.8888888888888888,\"#fdca26\"],[1.0,\"#f0f921\"]]}],\"mesh3d\":[{\"type\":\"mesh3d\",\"colorbar\":{\"outlinewidth\":0,\"ticks\":\"\"}}],\"scatter\":[{\"fillpattern\":{\"fillmode\":\"overlay\",\"size\":10,\"solidity\":0.2},\"type\":\"scatter\"}],\"parcoords\":[{\"type\":\"parcoords\",\"line\":{\"colorbar\":{\"outlinewidth\":0,\"ticks\":\"\"}}}],\"scatterpolargl\":[{\"type\":\"scatterpolargl\",\"marker\":{\"colorbar\":{\"outlinewidth\":0,\"ticks\":\"\"}}}],\"bar\":[{\"error_x\":{\"color\":\"#2a3f5f\"},\"error_y\":{\"color\":\"#2a3f5f\"},\"marker\":{\"line\":{\"color\":\"#E5ECF6\",\"width\":0.5},\"pattern\":{\"fillmode\":\"overlay\",\"size\":10,\"solidity\":0.2}},\"type\":\"bar\"}],\"scattergeo\":[{\"type\":\"scattergeo\",\"marker\":{\"colorbar\":{\"outlinewidth\":0,\"ticks\":\"\"}}}],\"scatterpolar\":[{\"type\":\"scatterpolar\",\"marker\":{\"colorbar\":{\"outlinewidth\":0,\"ticks\":\"\"}}}],\"histogram\":[{\"marker\":{\"pattern\":{\"fillmode\":\"overlay\",\"size\":10,\"solidity\":0.2}},\"type\":\"histogram\"}],\"scattergl\":[{\"type\":\"scattergl\",\"marker\":{\"colorbar\":{\"outlinewidth\":0,\"ticks\":\"\"}}}],\"scatter3d\":[{\"type\":\"scatter3d\",\"line\":{\"colorbar\":{\"outlinewidth\":0,\"ticks\":\"\"}},\"marker\":{\"colorbar\":{\"outlinewidth\":0,\"ticks\":\"\"}}}],\"scattermapbox\":[{\"type\":\"scattermapbox\",\"marker\":{\"colorbar\":{\"outlinewidth\":0,\"ticks\":\"\"}}}],\"scatterternary\":[{\"type\":\"scatterternary\",\"marker\":{\"colorbar\":{\"outlinewidth\":0,\"ticks\":\"\"}}}],\"scattercarpet\":[{\"type\":\"scattercarpet\",\"marker\":{\"colorbar\":{\"outlinewidth\":0,\"ticks\":\"\"}}}],\"carpet\":[{\"aaxis\":{\"endlinecolor\":\"#2a3f5f\",\"gridcolor\":\"white\",\"linecolor\":\"white\",\"minorgridcolor\":\"white\",\"startlinecolor\":\"#2a3f5f\"},\"baxis\":{\"endlinecolor\":\"#2a3f5f\",\"gridcolor\":\"white\",\"linecolor\":\"white\",\"minorgridcolor\":\"white\",\"startlinecolor\":\"#2a3f5f\"},\"type\":\"carpet\"}],\"table\":[{\"cells\":{\"fill\":{\"color\":\"#EBF0F8\"},\"line\":{\"color\":\"white\"}},\"header\":{\"fill\":{\"color\":\"#C8D4E3\"},\"line\":{\"color\":\"white\"}},\"type\":\"table\"}],\"barpolar\":[{\"marker\":{\"line\":{\"color\":\"#E5ECF6\",\"width\":0.5},\"pattern\":{\"fillmode\":\"overlay\",\"size\":10,\"solidity\":0.2}},\"type\":\"barpolar\"}],\"pie\":[{\"automargin\":true,\"type\":\"pie\"}]},\"layout\":{\"autotypenumbers\":\"strict\",\"colorway\":[\"#636efa\",\"#EF553B\",\"#00cc96\",\"#ab63fa\",\"#FFA15A\",\"#19d3f3\",\"#FF6692\",\"#B6E880\",\"#FF97FF\",\"#FECB52\"],\"font\":{\"color\":\"#2a3f5f\"},\"hovermode\":\"closest\",\"hoverlabel\":{\"align\":\"left\"},\"paper_bgcolor\":\"white\",\"plot_bgcolor\":\"#E5ECF6\",\"polar\":{\"bgcolor\":\"#E5ECF6\",\"angularaxis\":{\"gridcolor\":\"white\",\"linecolor\":\"white\",\"ticks\":\"\"},\"radialaxis\":{\"gridcolor\":\"white\",\"linecolor\":\"white\",\"ticks\":\"\"}},\"ternary\":{\"bgcolor\":\"#E5ECF6\",\"aaxis\":{\"gridcolor\":\"white\",\"linecolor\":\"white\",\"ticks\":\"\"},\"baxis\":{\"gridcolor\":\"white\",\"linecolor\":\"white\",\"ticks\":\"\"},\"caxis\":{\"gridcolor\":\"white\",\"linecolor\":\"white\",\"ticks\":\"\"}},\"coloraxis\":{\"colorbar\":{\"outlinewidth\":0,\"ticks\":\"\"}},\"colorscale\":{\"sequential\":[[0.0,\"#0d0887\"],[0.1111111111111111,\"#46039f\"],[0.2222222222222222,\"#7201a8\"],[0.3333333333333333,\"#9c179e\"],[0.4444444444444444,\"#bd3786\"],[0.5555555555555556,\"#d8576b\"],[0.6666666666666666,\"#ed7953\"],[0.7777777777777778,\"#fb9f3a\"],[0.8888888888888888,\"#fdca26\"],[1.0,\"#f0f921\"]],\"sequentialminus\":[[0.0,\"#0d0887\"],[0.1111111111111111,\"#46039f\"],[0.2222222222222222,\"#7201a8\"],[0.3333333333333333,\"#9c179e\"],[0.4444444444444444,\"#bd3786\"],[0.5555555555555556,\"#d8576b\"],[0.6666666666666666,\"#ed7953\"],[0.7777777777777778,\"#fb9f3a\"],[0.8888888888888888,\"#fdca26\"],[1.0,\"#f0f921\"]],\"diverging\":[[0,\"#8e0152\"],[0.1,\"#c51b7d\"],[0.2,\"#de77ae\"],[0.3,\"#f1b6da\"],[0.4,\"#fde0ef\"],[0.5,\"#f7f7f7\"],[0.6,\"#e6f5d0\"],[0.7,\"#b8e186\"],[0.8,\"#7fbc41\"],[0.9,\"#4d9221\"],[1,\"#276419\"]]},\"xaxis\":{\"gridcolor\":\"white\",\"linecolor\":\"white\",\"ticks\":\"\",\"title\":{\"standoff\":15},\"zerolinecolor\":\"white\",\"automargin\":true,\"zerolinewidth\":2},\"yaxis\":{\"gridcolor\":\"white\",\"linecolor\":\"white\",\"ticks\":\"\",\"title\":{\"standoff\":15},\"zerolinecolor\":\"white\",\"automargin\":true,\"zerolinewidth\":2},\"scene\":{\"xaxis\":{\"backgroundcolor\":\"#E5ECF6\",\"gridcolor\":\"white\",\"linecolor\":\"white\",\"showbackground\":true,\"ticks\":\"\",\"zerolinecolor\":\"white\",\"gridwidth\":2},\"yaxis\":{\"backgroundcolor\":\"#E5ECF6\",\"gridcolor\":\"white\",\"linecolor\":\"white\",\"showbackground\":true,\"ticks\":\"\",\"zerolinecolor\":\"white\",\"gridwidth\":2},\"zaxis\":{\"backgroundcolor\":\"#E5ECF6\",\"gridcolor\":\"white\",\"linecolor\":\"white\",\"showbackground\":true,\"ticks\":\"\",\"zerolinecolor\":\"white\",\"gridwidth\":2}},\"shapedefaults\":{\"line\":{\"color\":\"#2a3f5f\"}},\"annotationdefaults\":{\"arrowcolor\":\"#2a3f5f\",\"arrowhead\":0,\"arrowwidth\":1},\"geo\":{\"bgcolor\":\"white\",\"landcolor\":\"#E5ECF6\",\"subunitcolor\":\"white\",\"showland\":true,\"showlakes\":true,\"lakecolor\":\"white\"},\"title\":{\"x\":0.05},\"mapbox\":{\"style\":\"light\"}}},\"xaxis\":{\"anchor\":\"y\",\"domain\":[0.0,1.0],\"title\":{\"text\":\"\\uc608\\uc57d\\ud0c0\\uc785\"}},\"yaxis\":{\"anchor\":\"x\",\"domain\":[0.0,1.0],\"title\":{\"text\":\"\\uac74\\ub2f9 \\uc774\\uc6a9\\uc2dc\\uac04\"}},\"legend\":{\"title\":{\"text\":\"\\uc6b4\\uc601\\uc9c0\\uc5ed\\uc2dc\\u002f\\ub3c4\"},\"tracegroupgap\":0},\"title\":{\"text\":\"\\uc9c0\\uc5ed \\ub0b4 \\uc608\\uc57d\\ud0c0\\uc785\\ubcc4 \\uac74\\ub2f9 \\uc774\\uc6a9\\uc2dc\\uac04\"},\"barmode\":\"group\"},                        {\"responsive\": true}                    ).then(function(){\n",
              "                            \n",
              "var gd = document.getElementById('8ff2b896-280c-4ab7-94fb-8eddcde8de2c');\n",
              "var x = new MutationObserver(function (mutations, observer) {{\n",
              "        var display = window.getComputedStyle(gd).display;\n",
              "        if (!display || display === 'none') {{\n",
              "            console.log([gd, 'removed!']);\n",
              "            Plotly.purge(gd);\n",
              "            observer.disconnect();\n",
              "        }}\n",
              "}});\n",
              "\n",
              "// Listen for the removal of the full notebook cells\n",
              "var notebookContainer = gd.closest('#notebook-container');\n",
              "if (notebookContainer) {{\n",
              "    x.observe(notebookContainer, {childList: true});\n",
              "}}\n",
              "\n",
              "// Listen for the clearing of the current output cell\n",
              "var outputEl = gd.closest('.output');\n",
              "if (outputEl) {{\n",
              "    x.observe(outputEl, {childList: true});\n",
              "}}\n",
              "\n",
              "                        })                };                            </script>        </div>\n",
              "</body>\n",
              "</html>"
            ]
          },
          "metadata": {}
        }
      ]
    },
    {
      "cell_type": "code",
      "source": [
        "# \"제주특별자치도\"의 \"d2d_oneway\" 데이터 제외 (고객센터에서 임의로 예악타입을 변경한 케이스)\n",
        "filtered_df = df_part[~((df_part['region1'] == '제주특별자치도') & (df_part['way'] == 'd2d_oneway'))]\n",
        "\n",
        "# 단계 1: region1과 way 별로 utime과 nuse의 합계를 계산\n",
        "summary = filtered_df.groupby(['region1', 'way']).agg({'utime': 'sum', 'nuse': 'sum'}).reset_index()\n",
        "\n",
        "# 단계 2: 각 그룹별 건당 이용시간(dur_nuse) 계산\n",
        "summary['dur_nuse'] = summary['utime'] / summary['nuse']\n",
        "\n",
        "# 정규화 진행\n",
        "scaler = MinMaxScaler()\n",
        "summary['dur_nuse_normalized'] = scaler.fit_transform(summary[['dur_nuse']])\n",
        "\n",
        "# 바 차트로 정규화된 결과 시각화\n",
        "fig = px.bar(summary, x='way', y='dur_nuse_normalized', color='region1',\n",
        "             title='지역 내 예약타입별 정규화된 건당 이용시간',\n",
        "             barmode='group',\n",
        "             text='dur_nuse_normalized',\n",
        "             labels={'dur_nuse_normalized': '정규화된 건당 이용시간', 'way': '예약타입', 'region1': '운영지역시/도'})\n",
        "\n",
        "fig.update_traces(texttemplate='%{text:.2f}', textposition='outside')  # 소수점 두 자리로 표시\n",
        "fig.show()"
      ],
      "metadata": {
        "colab": {
          "base_uri": "https://localhost:8080/",
          "height": 542
        },
        "id": "BrOtqhd1Vsdt",
        "outputId": "aea0cc0f-c9a3-4b6a-8506-2b22080488db"
      },
      "execution_count": null,
      "outputs": [
        {
          "output_type": "display_data",
          "data": {
            "text/html": [
              "<html>\n",
              "<head><meta charset=\"utf-8\" /></head>\n",
              "<body>\n",
              "    <div>            <script src=\"https://cdnjs.cloudflare.com/ajax/libs/mathjax/2.7.5/MathJax.js?config=TeX-AMS-MML_SVG\"></script><script type=\"text/javascript\">if (window.MathJax && window.MathJax.Hub && window.MathJax.Hub.Config) {window.MathJax.Hub.Config({SVG: {font: \"STIX-Web\"}});}</script>                <script type=\"text/javascript\">window.PlotlyConfig = {MathJaxConfig: 'local'};</script>\n",
              "        <script charset=\"utf-8\" src=\"https://cdn.plot.ly/plotly-2.24.1.min.js\"></script>                <div id=\"5ccba97a-3ee0-47e9-9075-a3d09bb84876\" class=\"plotly-graph-div\" style=\"height:525px; width:100%;\"></div>            <script type=\"text/javascript\">                                    window.PLOTLYENV=window.PLOTLYENV || {};                                    if (document.getElementById(\"5ccba97a-3ee0-47e9-9075-a3d09bb84876\")) {                    Plotly.newPlot(                        \"5ccba97a-3ee0-47e9-9075-a3d09bb84876\",                        [{\"alignmentgroup\":\"True\",\"hovertemplate\":\"\\uc6b4\\uc601\\uc9c0\\uc5ed\\uc2dc\\u002f\\ub3c4=\\uacbd\\uae30\\ub3c4\\u003cbr\\u003e\\uc608\\uc57d\\ud0c0\\uc785=%{x}\\u003cbr\\u003e\\uc815\\uaddc\\ud654\\ub41c \\uac74\\ub2f9 \\uc774\\uc6a9\\uc2dc\\uac04=%{text}\\u003cextra\\u003e\\u003c\\u002fextra\\u003e\",\"legendgroup\":\"\\uacbd\\uae30\\ub3c4\",\"marker\":{\"color\":\"#636efa\",\"pattern\":{\"shape\":\"\"}},\"name\":\"\\uacbd\\uae30\\ub3c4\",\"offsetgroup\":\"\\uacbd\\uae30\\ub3c4\",\"orientation\":\"v\",\"showlegend\":true,\"text\":[0.7467519279841689,0.8349447492342076,0.0774756302141083,0.012676215292303006],\"textposition\":\"outside\",\"x\":[\"d2d_oneway\",\"d2d_round\",\"round\",\"z2d_oneway\"],\"xaxis\":\"x\",\"y\":[0.7467519279841689,0.8349447492342076,0.0774756302141083,0.012676215292303006],\"yaxis\":\"y\",\"type\":\"bar\",\"texttemplate\":\"%{text:.2f}\"},{\"alignmentgroup\":\"True\",\"hovertemplate\":\"\\uc6b4\\uc601\\uc9c0\\uc5ed\\uc2dc\\u002f\\ub3c4=\\ubd80\\uc0b0\\uad11\\uc5ed\\uc2dc\\u003cbr\\u003e\\uc608\\uc57d\\ud0c0\\uc785=%{x}\\u003cbr\\u003e\\uc815\\uaddc\\ud654\\ub41c \\uac74\\ub2f9 \\uc774\\uc6a9\\uc2dc\\uac04=%{text}\\u003cextra\\u003e\\u003c\\u002fextra\\u003e\",\"legendgroup\":\"\\ubd80\\uc0b0\\uad11\\uc5ed\\uc2dc\",\"marker\":{\"color\":\"#EF553B\",\"pattern\":{\"shape\":\"\"}},\"name\":\"\\ubd80\\uc0b0\\uad11\\uc5ed\\uc2dc\",\"offsetgroup\":\"\\ubd80\\uc0b0\\uad11\\uc5ed\\uc2dc\",\"orientation\":\"v\",\"showlegend\":true,\"text\":[0.6560450521695903,0.848994038617099,0.14268404741542273,0.09701919941470216],\"textposition\":\"outside\",\"x\":[\"d2d_oneway\",\"d2d_round\",\"round\",\"z2d_oneway\"],\"xaxis\":\"x\",\"y\":[0.6560450521695903,0.848994038617099,0.14268404741542273,0.09701919941470216],\"yaxis\":\"y\",\"type\":\"bar\",\"texttemplate\":\"%{text:.2f}\"},{\"alignmentgroup\":\"True\",\"hovertemplate\":\"\\uc6b4\\uc601\\uc9c0\\uc5ed\\uc2dc\\u002f\\ub3c4=\\uc11c\\uc6b8\\ud2b9\\ubcc4\\uc2dc\\u003cbr\\u003e\\uc608\\uc57d\\ud0c0\\uc785=%{x}\\u003cbr\\u003e\\uc815\\uaddc\\ud654\\ub41c \\uac74\\ub2f9 \\uc774\\uc6a9\\uc2dc\\uac04=%{text}\\u003cextra\\u003e\\u003c\\u002fextra\\u003e\",\"legendgroup\":\"\\uc11c\\uc6b8\\ud2b9\\ubcc4\\uc2dc\",\"marker\":{\"color\":\"#00cc96\",\"pattern\":{\"shape\":\"\"}},\"name\":\"\\uc11c\\uc6b8\\ud2b9\\ubcc4\\uc2dc\",\"offsetgroup\":\"\\uc11c\\uc6b8\\ud2b9\\ubcc4\\uc2dc\",\"orientation\":\"v\",\"showlegend\":true,\"text\":[0.629566081914795,0.8192772176868307,0.07654475298488328,0.0],\"textposition\":\"outside\",\"x\":[\"d2d_oneway\",\"d2d_round\",\"round\",\"z2d_oneway\"],\"xaxis\":\"x\",\"y\":[0.629566081914795,0.8192772176868307,0.07654475298488328,0.0],\"yaxis\":\"y\",\"type\":\"bar\",\"texttemplate\":\"%{text:.2f}\"},{\"alignmentgroup\":\"True\",\"hovertemplate\":\"\\uc6b4\\uc601\\uc9c0\\uc5ed\\uc2dc\\u002f\\ub3c4=\\uc81c\\uc8fc\\ud2b9\\ubcc4\\uc790\\uce58\\ub3c4\\u003cbr\\u003e\\uc608\\uc57d\\ud0c0\\uc785=%{x}\\u003cbr\\u003e\\uc815\\uaddc\\ud654\\ub41c \\uac74\\ub2f9 \\uc774\\uc6a9\\uc2dc\\uac04=%{text}\\u003cextra\\u003e\\u003c\\u002fextra\\u003e\",\"legendgroup\":\"\\uc81c\\uc8fc\\ud2b9\\ubcc4\\uc790\\uce58\\ub3c4\",\"marker\":{\"color\":\"#ab63fa\",\"pattern\":{\"shape\":\"\"}},\"name\":\"\\uc81c\\uc8fc\\ud2b9\\ubcc4\\uc790\\uce58\\ub3c4\",\"offsetgroup\":\"\\uc81c\\uc8fc\\ud2b9\\ubcc4\\uc790\\uce58\\ub3c4\",\"orientation\":\"v\",\"showlegend\":true,\"text\":[0.9999999999999999,0.8547785168300194],\"textposition\":\"outside\",\"x\":[\"d2d_round\",\"round\"],\"xaxis\":\"x\",\"y\":[0.9999999999999999,0.8547785168300194],\"yaxis\":\"y\",\"type\":\"bar\",\"texttemplate\":\"%{text:.2f}\"},{\"alignmentgroup\":\"True\",\"hovertemplate\":\"\\uc6b4\\uc601\\uc9c0\\uc5ed\\uc2dc\\u002f\\ub3c4=\\ud638\\ub0a8\\u003cbr\\u003e\\uc608\\uc57d\\ud0c0\\uc785=%{x}\\u003cbr\\u003e\\uc815\\uaddc\\ud654\\ub41c \\uac74\\ub2f9 \\uc774\\uc6a9\\uc2dc\\uac04=%{text}\\u003cextra\\u003e\\u003c\\u002fextra\\u003e\",\"legendgroup\":\"\\ud638\\ub0a8\",\"marker\":{\"color\":\"#FFA15A\",\"pattern\":{\"shape\":\"\"}},\"name\":\"\\ud638\\ub0a8\",\"offsetgroup\":\"\\ud638\\ub0a8\",\"orientation\":\"v\",\"showlegend\":true,\"text\":[0.7310085211728009,0.8576729526398669,0.22102407073058383],\"textposition\":\"outside\",\"x\":[\"d2d_oneway\",\"d2d_round\",\"round\"],\"xaxis\":\"x\",\"y\":[0.7310085211728009,0.8576729526398669,0.22102407073058383],\"yaxis\":\"y\",\"type\":\"bar\",\"texttemplate\":\"%{text:.2f}\"}],                        {\"template\":{\"data\":{\"histogram2dcontour\":[{\"type\":\"histogram2dcontour\",\"colorbar\":{\"outlinewidth\":0,\"ticks\":\"\"},\"colorscale\":[[0.0,\"#0d0887\"],[0.1111111111111111,\"#46039f\"],[0.2222222222222222,\"#7201a8\"],[0.3333333333333333,\"#9c179e\"],[0.4444444444444444,\"#bd3786\"],[0.5555555555555556,\"#d8576b\"],[0.6666666666666666,\"#ed7953\"],[0.7777777777777778,\"#fb9f3a\"],[0.8888888888888888,\"#fdca26\"],[1.0,\"#f0f921\"]]}],\"choropleth\":[{\"type\":\"choropleth\",\"colorbar\":{\"outlinewidth\":0,\"ticks\":\"\"}}],\"histogram2d\":[{\"type\":\"histogram2d\",\"colorbar\":{\"outlinewidth\":0,\"ticks\":\"\"},\"colorscale\":[[0.0,\"#0d0887\"],[0.1111111111111111,\"#46039f\"],[0.2222222222222222,\"#7201a8\"],[0.3333333333333333,\"#9c179e\"],[0.4444444444444444,\"#bd3786\"],[0.5555555555555556,\"#d8576b\"],[0.6666666666666666,\"#ed7953\"],[0.7777777777777778,\"#fb9f3a\"],[0.8888888888888888,\"#fdca26\"],[1.0,\"#f0f921\"]]}],\"heatmap\":[{\"type\":\"heatmap\",\"colorbar\":{\"outlinewidth\":0,\"ticks\":\"\"},\"colorscale\":[[0.0,\"#0d0887\"],[0.1111111111111111,\"#46039f\"],[0.2222222222222222,\"#7201a8\"],[0.3333333333333333,\"#9c179e\"],[0.4444444444444444,\"#bd3786\"],[0.5555555555555556,\"#d8576b\"],[0.6666666666666666,\"#ed7953\"],[0.7777777777777778,\"#fb9f3a\"],[0.8888888888888888,\"#fdca26\"],[1.0,\"#f0f921\"]]}],\"heatmapgl\":[{\"type\":\"heatmapgl\",\"colorbar\":{\"outlinewidth\":0,\"ticks\":\"\"},\"colorscale\":[[0.0,\"#0d0887\"],[0.1111111111111111,\"#46039f\"],[0.2222222222222222,\"#7201a8\"],[0.3333333333333333,\"#9c179e\"],[0.4444444444444444,\"#bd3786\"],[0.5555555555555556,\"#d8576b\"],[0.6666666666666666,\"#ed7953\"],[0.7777777777777778,\"#fb9f3a\"],[0.8888888888888888,\"#fdca26\"],[1.0,\"#f0f921\"]]}],\"contourcarpet\":[{\"type\":\"contourcarpet\",\"colorbar\":{\"outlinewidth\":0,\"ticks\":\"\"}}],\"contour\":[{\"type\":\"contour\",\"colorbar\":{\"outlinewidth\":0,\"ticks\":\"\"},\"colorscale\":[[0.0,\"#0d0887\"],[0.1111111111111111,\"#46039f\"],[0.2222222222222222,\"#7201a8\"],[0.3333333333333333,\"#9c179e\"],[0.4444444444444444,\"#bd3786\"],[0.5555555555555556,\"#d8576b\"],[0.6666666666666666,\"#ed7953\"],[0.7777777777777778,\"#fb9f3a\"],[0.8888888888888888,\"#fdca26\"],[1.0,\"#f0f921\"]]}],\"surface\":[{\"type\":\"surface\",\"colorbar\":{\"outlinewidth\":0,\"ticks\":\"\"},\"colorscale\":[[0.0,\"#0d0887\"],[0.1111111111111111,\"#46039f\"],[0.2222222222222222,\"#7201a8\"],[0.3333333333333333,\"#9c179e\"],[0.4444444444444444,\"#bd3786\"],[0.5555555555555556,\"#d8576b\"],[0.6666666666666666,\"#ed7953\"],[0.7777777777777778,\"#fb9f3a\"],[0.8888888888888888,\"#fdca26\"],[1.0,\"#f0f921\"]]}],\"mesh3d\":[{\"type\":\"mesh3d\",\"colorbar\":{\"outlinewidth\":0,\"ticks\":\"\"}}],\"scatter\":[{\"fillpattern\":{\"fillmode\":\"overlay\",\"size\":10,\"solidity\":0.2},\"type\":\"scatter\"}],\"parcoords\":[{\"type\":\"parcoords\",\"line\":{\"colorbar\":{\"outlinewidth\":0,\"ticks\":\"\"}}}],\"scatterpolargl\":[{\"type\":\"scatterpolargl\",\"marker\":{\"colorbar\":{\"outlinewidth\":0,\"ticks\":\"\"}}}],\"bar\":[{\"error_x\":{\"color\":\"#2a3f5f\"},\"error_y\":{\"color\":\"#2a3f5f\"},\"marker\":{\"line\":{\"color\":\"#E5ECF6\",\"width\":0.5},\"pattern\":{\"fillmode\":\"overlay\",\"size\":10,\"solidity\":0.2}},\"type\":\"bar\"}],\"scattergeo\":[{\"type\":\"scattergeo\",\"marker\":{\"colorbar\":{\"outlinewidth\":0,\"ticks\":\"\"}}}],\"scatterpolar\":[{\"type\":\"scatterpolar\",\"marker\":{\"colorbar\":{\"outlinewidth\":0,\"ticks\":\"\"}}}],\"histogram\":[{\"marker\":{\"pattern\":{\"fillmode\":\"overlay\",\"size\":10,\"solidity\":0.2}},\"type\":\"histogram\"}],\"scattergl\":[{\"type\":\"scattergl\",\"marker\":{\"colorbar\":{\"outlinewidth\":0,\"ticks\":\"\"}}}],\"scatter3d\":[{\"type\":\"scatter3d\",\"line\":{\"colorbar\":{\"outlinewidth\":0,\"ticks\":\"\"}},\"marker\":{\"colorbar\":{\"outlinewidth\":0,\"ticks\":\"\"}}}],\"scattermapbox\":[{\"type\":\"scattermapbox\",\"marker\":{\"colorbar\":{\"outlinewidth\":0,\"ticks\":\"\"}}}],\"scatterternary\":[{\"type\":\"scatterternary\",\"marker\":{\"colorbar\":{\"outlinewidth\":0,\"ticks\":\"\"}}}],\"scattercarpet\":[{\"type\":\"scattercarpet\",\"marker\":{\"colorbar\":{\"outlinewidth\":0,\"ticks\":\"\"}}}],\"carpet\":[{\"aaxis\":{\"endlinecolor\":\"#2a3f5f\",\"gridcolor\":\"white\",\"linecolor\":\"white\",\"minorgridcolor\":\"white\",\"startlinecolor\":\"#2a3f5f\"},\"baxis\":{\"endlinecolor\":\"#2a3f5f\",\"gridcolor\":\"white\",\"linecolor\":\"white\",\"minorgridcolor\":\"white\",\"startlinecolor\":\"#2a3f5f\"},\"type\":\"carpet\"}],\"table\":[{\"cells\":{\"fill\":{\"color\":\"#EBF0F8\"},\"line\":{\"color\":\"white\"}},\"header\":{\"fill\":{\"color\":\"#C8D4E3\"},\"line\":{\"color\":\"white\"}},\"type\":\"table\"}],\"barpolar\":[{\"marker\":{\"line\":{\"color\":\"#E5ECF6\",\"width\":0.5},\"pattern\":{\"fillmode\":\"overlay\",\"size\":10,\"solidity\":0.2}},\"type\":\"barpolar\"}],\"pie\":[{\"automargin\":true,\"type\":\"pie\"}]},\"layout\":{\"autotypenumbers\":\"strict\",\"colorway\":[\"#636efa\",\"#EF553B\",\"#00cc96\",\"#ab63fa\",\"#FFA15A\",\"#19d3f3\",\"#FF6692\",\"#B6E880\",\"#FF97FF\",\"#FECB52\"],\"font\":{\"color\":\"#2a3f5f\"},\"hovermode\":\"closest\",\"hoverlabel\":{\"align\":\"left\"},\"paper_bgcolor\":\"white\",\"plot_bgcolor\":\"#E5ECF6\",\"polar\":{\"bgcolor\":\"#E5ECF6\",\"angularaxis\":{\"gridcolor\":\"white\",\"linecolor\":\"white\",\"ticks\":\"\"},\"radialaxis\":{\"gridcolor\":\"white\",\"linecolor\":\"white\",\"ticks\":\"\"}},\"ternary\":{\"bgcolor\":\"#E5ECF6\",\"aaxis\":{\"gridcolor\":\"white\",\"linecolor\":\"white\",\"ticks\":\"\"},\"baxis\":{\"gridcolor\":\"white\",\"linecolor\":\"white\",\"ticks\":\"\"},\"caxis\":{\"gridcolor\":\"white\",\"linecolor\":\"white\",\"ticks\":\"\"}},\"coloraxis\":{\"colorbar\":{\"outlinewidth\":0,\"ticks\":\"\"}},\"colorscale\":{\"sequential\":[[0.0,\"#0d0887\"],[0.1111111111111111,\"#46039f\"],[0.2222222222222222,\"#7201a8\"],[0.3333333333333333,\"#9c179e\"],[0.4444444444444444,\"#bd3786\"],[0.5555555555555556,\"#d8576b\"],[0.6666666666666666,\"#ed7953\"],[0.7777777777777778,\"#fb9f3a\"],[0.8888888888888888,\"#fdca26\"],[1.0,\"#f0f921\"]],\"sequentialminus\":[[0.0,\"#0d0887\"],[0.1111111111111111,\"#46039f\"],[0.2222222222222222,\"#7201a8\"],[0.3333333333333333,\"#9c179e\"],[0.4444444444444444,\"#bd3786\"],[0.5555555555555556,\"#d8576b\"],[0.6666666666666666,\"#ed7953\"],[0.7777777777777778,\"#fb9f3a\"],[0.8888888888888888,\"#fdca26\"],[1.0,\"#f0f921\"]],\"diverging\":[[0,\"#8e0152\"],[0.1,\"#c51b7d\"],[0.2,\"#de77ae\"],[0.3,\"#f1b6da\"],[0.4,\"#fde0ef\"],[0.5,\"#f7f7f7\"],[0.6,\"#e6f5d0\"],[0.7,\"#b8e186\"],[0.8,\"#7fbc41\"],[0.9,\"#4d9221\"],[1,\"#276419\"]]},\"xaxis\":{\"gridcolor\":\"white\",\"linecolor\":\"white\",\"ticks\":\"\",\"title\":{\"standoff\":15},\"zerolinecolor\":\"white\",\"automargin\":true,\"zerolinewidth\":2},\"yaxis\":{\"gridcolor\":\"white\",\"linecolor\":\"white\",\"ticks\":\"\",\"title\":{\"standoff\":15},\"zerolinecolor\":\"white\",\"automargin\":true,\"zerolinewidth\":2},\"scene\":{\"xaxis\":{\"backgroundcolor\":\"#E5ECF6\",\"gridcolor\":\"white\",\"linecolor\":\"white\",\"showbackground\":true,\"ticks\":\"\",\"zerolinecolor\":\"white\",\"gridwidth\":2},\"yaxis\":{\"backgroundcolor\":\"#E5ECF6\",\"gridcolor\":\"white\",\"linecolor\":\"white\",\"showbackground\":true,\"ticks\":\"\",\"zerolinecolor\":\"white\",\"gridwidth\":2},\"zaxis\":{\"backgroundcolor\":\"#E5ECF6\",\"gridcolor\":\"white\",\"linecolor\":\"white\",\"showbackground\":true,\"ticks\":\"\",\"zerolinecolor\":\"white\",\"gridwidth\":2}},\"shapedefaults\":{\"line\":{\"color\":\"#2a3f5f\"}},\"annotationdefaults\":{\"arrowcolor\":\"#2a3f5f\",\"arrowhead\":0,\"arrowwidth\":1},\"geo\":{\"bgcolor\":\"white\",\"landcolor\":\"#E5ECF6\",\"subunitcolor\":\"white\",\"showland\":true,\"showlakes\":true,\"lakecolor\":\"white\"},\"title\":{\"x\":0.05},\"mapbox\":{\"style\":\"light\"}}},\"xaxis\":{\"anchor\":\"y\",\"domain\":[0.0,1.0],\"title\":{\"text\":\"\\uc608\\uc57d\\ud0c0\\uc785\"}},\"yaxis\":{\"anchor\":\"x\",\"domain\":[0.0,1.0],\"title\":{\"text\":\"\\uc815\\uaddc\\ud654\\ub41c \\uac74\\ub2f9 \\uc774\\uc6a9\\uc2dc\\uac04\"}},\"legend\":{\"title\":{\"text\":\"\\uc6b4\\uc601\\uc9c0\\uc5ed\\uc2dc\\u002f\\ub3c4\"},\"tracegroupgap\":0},\"title\":{\"text\":\"\\uc9c0\\uc5ed \\ub0b4 \\uc608\\uc57d\\ud0c0\\uc785\\ubcc4 \\uc815\\uaddc\\ud654\\ub41c \\uac74\\ub2f9 \\uc774\\uc6a9\\uc2dc\\uac04\"},\"barmode\":\"group\"},                        {\"responsive\": true}                    ).then(function(){\n",
              "                            \n",
              "var gd = document.getElementById('5ccba97a-3ee0-47e9-9075-a3d09bb84876');\n",
              "var x = new MutationObserver(function (mutations, observer) {{\n",
              "        var display = window.getComputedStyle(gd).display;\n",
              "        if (!display || display === 'none') {{\n",
              "            console.log([gd, 'removed!']);\n",
              "            Plotly.purge(gd);\n",
              "            observer.disconnect();\n",
              "        }}\n",
              "}});\n",
              "\n",
              "// Listen for the removal of the full notebook cells\n",
              "var notebookContainer = gd.closest('#notebook-container');\n",
              "if (notebookContainer) {{\n",
              "    x.observe(notebookContainer, {childList: true});\n",
              "}}\n",
              "\n",
              "// Listen for the clearing of the current output cell\n",
              "var outputEl = gd.closest('.output');\n",
              "if (outputEl) {{\n",
              "    x.observe(outputEl, {childList: true});\n",
              "}}\n",
              "\n",
              "                        })                };                            </script>        </div>\n",
              "</body>\n",
              "</html>"
            ]
          },
          "metadata": {}
        }
      ]
    },
    {
      "cell_type": "markdown",
      "source": [
        "# 결론\n",
        "---\n",
        "\n",
        "1. 부름 편도와 존 편도의 오픈은 전반적인 매출 개선과 공헌이익 개선에 기여할 수 있음\n",
        "2. 제주의 경우, 현재 부름 운영을 한정적인 지역과 차량으로 운영하고 있어 이를 확대한다면 건수와 함께 매출 개선을 기대할 수 있을 것으로 보여짐\n",
        "- 23y 11월 기준 제주 부름 운영지역 (제주시내 일부, 서귀포 시내 일부에 대해 제주공항 일부 차량 및 서귀포 일부 차량 이용 가능)"
      ],
      "metadata": {
        "id": "K7jmtckGHV41"
      }
    },
    {
      "cell_type": "code",
      "source": [],
      "metadata": {
        "id": "_V7qE6lqGyN4"
      },
      "execution_count": null,
      "outputs": []
    }
  ]
}