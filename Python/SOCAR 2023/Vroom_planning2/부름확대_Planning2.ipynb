{
  "nbformat": 4,
  "nbformat_minor": 0,
  "metadata": {
    "colab": {
      "provenance": [],
      "toc_visible": true
    },
    "kernelspec": {
      "name": "python3",
      "display_name": "Python 3"
    },
    "language_info": {
      "name": "python"
    }
  },
  "cells": [
    {
      "cell_type": "markdown",
      "source": [
        "### Part1 Summary\n",
        "개요: 제주지역 부름 서비스지역 확대를 위해 제주 버스 승차객 데이터와 부름 예약 데이터를 비교하여 확대 지역을 선정한다\n",
        "\n",
        "기간: 2024.04\n",
        "\n",
        "문제: 부름 서비스지역은 어느정도까지 확대해야 타당한가?\n",
        "- 확대 지역은 어떻게 선정하는 것이 타당한가?\n",
        "- 공급 조절은 어떻게 진행하는 것이 타당한가?\n",
        "\n",
        "해결:\n",
        "1. 제주 버스 이용 API 데이터를 활용하여 비교 분석해본다   \n",
        "- 제주 버스 데이터 수집\n",
        "  - 기간: 2024.03.01 ~ 2024.03.31\n",
        "    - 버스 이용 data\n",
        "    - 버스 정류소 data\n",
        "- 정류소별 승차객 수 비교\n",
        "- 부름 이용자의 예약/호출 위치와 정류소별 승차객 수 비교\n",
        "\n",
        "2. 존별 거리 범주 반경내 부름 예약 비중으로 공급 조절\n",
        "- 존의 거리 범주별 부름 호출 예약 비중 비교\n",
        "  - 예약 비중 비교\n",
        "  - 실적 비교(이익률, 건당 이익, 가동률)\n",
        "    - vs 전체 대비 참조\n",
        "\n",
        "결과:\n",
        "1. 승차객이 많은 지역일 수록 주변에서의 부름 예약/호출이 많다\n",
        "\n",
        "\n",
        "\n",
        "2. 10km이내 부름 호출이 많은 존은 실적도 우수하다\n",
        "- 배반 비용을 세이브하기 위해 가까운 존으로의 공급을 확대한다\n",
        "- 전체 가동률 대비 낮은 가동률을 보이는 존의 부름 공급을 축소한다\n",
        "- 지역내 공급확대: 상예동, 대정읍, 색달동, 강정동, 서귀동\n",
        "- 거점내 공급확대: 히든클리프 호텔&네이처, 백패커스홈, 호텔브릿지 서귀포\n",
        "\n",
        "\n",
        "결론:\n",
        "```\n",
        "승차객이 많은 지역을 중심으로 서비스 지역을 확대하고\n",
        "부름 비중이 높은 존 중 실적이 우수한 존 대상으로 공급을 확대한다\n",
        "```"
      ],
      "metadata": {
        "id": "x7vd204y08f7"
      }
    },
    {
      "cell_type": "markdown",
      "source": [
        "### Part2 Summary\n",
        "개요: 부름서비스의 수익 건전성이 원거리 호출로 악화되어 공급망 확대와 거점별 공급관리로 수익성을 개선한다\n",
        "\n",
        "기간: 2024.04\n",
        "\n",
        "**문제**: 원거리 호출 예약의 부름서비스 관리비용(배반비용)이 높음\n",
        "```\n",
        "24년 1분기 결산 자료 분석시, 부름의 수익성이 관리 비용 측면에서 높아 기대이하 수준으로 나타남\n",
        "```\n",
        "\n",
        "1. 부름서비스의 공헌이익, 정산 비용, 적정 공급여부 검증시 원거리 예약에서의 실비용이 높아지는 점 외에는 매출, 이익 신장에 크게 기여하는 것으로 확인\n",
        "2. 그러나, 1분기 결산 진행후 실제 관리비용이 더 크게 영향을 미쳐 수익성 악화\n",
        "- 부름 예약 비중이 높은 서귀포시의 이익률 부진\n",
        "  - 원거리 부름 호출의 배반 비용으로 인한 관리비용(배반비용) 증가가 직접적인 영향을 미침\n",
        "    \n",
        "    `원거리 예약의 배반 비용을 절감해야함`\n",
        "\n",
        "**해결**: 원거리 예약지 주변의 공급망 확대로 배반거리를 줄인다\n",
        "```\n",
        "관리비용에서 배반 비용이 차지하는 비중이 높고, 배반 비용이 높은 이유는 20KM 이상의 원거리 호출이 큰 영향을 미침\n",
        "```\n",
        "1. 배반 실비가 증가하는 20KM를 기점으로 배반거리가 늘어나지 않도록 공급망을 확대한다\n",
        "    1. 공급망 확대:\n",
        "        1. 반경 10KM 내, 일정 버스 승객수 + 부름 예약/호출건\n",
        "          - 버스정류소별 승차 분포\n",
        "          ![image](https://github.com/jayz0417/data-analysis-portfolio/assets/80396016/2a03da5b-5179-4149-9e50-0a15b7815247)\n",
        "          [link](https://public.tableau.com/app/profile/jayz3196/viz/24y3m_17140558291860/sheet5)\n",
        "        2. 제휴 중심 무료 인프라 확보\n",
        "            1. 제휴 프로모션 기획: 부름 사전예약 대여요금 60% 할인\n",
        "    2. 거점별 공급 조절:\n",
        "        1. 부름 비중 높은 존 대상 증차\n",
        "        2. 비중 높더라도 실적 부진한 존 감차\n",
        "        3. 부름 우선존 선정\n",
        "\n",
        "**결과**: 공급망 재분류 및 공급 규모 수립\n",
        "```\n",
        "이용 밀집도에 따른 클러스터를 동서남북으로 분류하고 클러스터별 부름 이용 비중에 따라 적정 운영 대수를 산정\n",
        "```\n",
        "\n",
        "- K-MEANS 클러스터링: 실루엣 점수 0.59로 설득력 있는 분류\n",
        "  - 계수값: n_clusters = 4, n_init = 10\n",
        "  - 1차 분류: 정류소, 예약 호출지간 밀집도로 분류\n",
        "    ![kmeans1](https://github.com/jayz0417/data-analysis-portfolio/assets/80396016/4950db42-f9ad-4ccf-9e5c-ccca240750af)\n",
        "  - 2차 분류: 정류소별 승차객 수를 가중치로 적용\n",
        "    -\n",
        "- 분류 결과를 토대로 최근 28일간(20240425 기준)의 부름 예약 호출지를 클러스터별로 분류\n",
        "  ![kmeans3](https://github.com/jayz0417/data-analysis-portfolio/assets/80396016/23f3654b-bf22-4cac-adfb-9937c7919b0e)\n",
        "  - 지역별 비중 비교 및 운영 규모 산정\n",
        "  ![kmeans4](https://github.com/jayz0417/data-analysis-portfolio/assets/80396016/ada08e47-9086-4a02-8f1a-6331ed99a8a5)\n",
        "\n",
        "\n",
        "\n",
        "[정규화]\n",
        "\n",
        "  | 공급 클러스터  | 예약건수  | 예약 비중 | As-is | To-be | result | 증감   | 증차  | 감차 | 신규 거점 | 재배치 |\n",
        "  |--------------|---------|---------|-------|-------|--------|-------|------|------|-------|-----|\n",
        "  | 서부         | 0.285   | 14%     | 0.228 | 0.284 | 0.667  | 0.462 | 1.0  | 0.0  | 1.0   | 0   |\n",
        "  | 북부(제주시)  | 1.0     | 50%     | 1.0   | 1.0   | -1.0   | -1.0  | 0.0  | 1.0  | 0.0   | 0   |\n",
        "  | 남부(서귀포시) | 0.599   | 30%     | 0.525 | 0.6   | 0.667  | 0.308 | 0.8  | 0.0  | 0.0   | 0   |\n",
        "  | 동부         | 0.115   | 6%      | 0.129 | 0.116 | -0.333 | 0.0   | 0.0  | 0.0  | 1.0   | 2   |\n"
      ],
      "metadata": {
        "id": "PFVOxg7Z7B4Q"
      }
    },
    {
      "cell_type": "markdown",
      "source": [
        "---\n",
        "데이터수집: API requests\n",
        "데이터전처리: 버스 정류소 정보 및 승차객 정보 Merge\n",
        "- 버스정류소의 stationId와 승차정보의 stationId는 서로 다름\n",
        "- 버스정류소의 stationName의 중복값처리\n",
        "- 버스정류소 정보가 잘 못된 결측값 처리   \n",
        "\n",
        "시각화: Pydeck 라이브러리 활용\n",
        "\n",
        "---\n",
        "\n",
        "데이터명세서"
      ],
      "metadata": {
        "id": "UbQ-gwYX2a8d"
      }
    },
    {
      "cell_type": "code",
      "source": [
        "from google.colab import output\n",
        "output.clear()"
      ],
      "metadata": {
        "id": "-wfikkU2Dl35"
      },
      "execution_count": null,
      "outputs": []
    },
    {
      "cell_type": "markdown",
      "source": [
        "### Library Import"
      ],
      "metadata": {
        "id": "3DlMGP603zXd"
      }
    },
    {
      "cell_type": "code",
      "source": [
        "## 라이브러리 임포트\n",
        "import requests\n",
        "import pandas as pd\n",
        "\n",
        "# 데이터 저장\n",
        "from google.colab import drive\n",
        "drive.mount('/content/drive')\n",
        "\n",
        "from google.auth import default\n",
        "creds, _ = default()\n",
        "from gspread_dataframe import get_as_dataframe, set_with_dataframe\n",
        "\n",
        "from google.cloud import bigquery\n",
        "from oauth2client.client import GoogleCredentials\n",
        "\n",
        "import gspread\n",
        "gc = gspread.authorize(creds)"
      ],
      "metadata": {
        "id": "WnT6Hfei33Gw"
      },
      "execution_count": null,
      "outputs": []
    },
    {
      "cell_type": "markdown",
      "source": [
        "## Part1 실적"
      ],
      "metadata": {
        "id": "zbatDAXmI92P"
      }
    },
    {
      "cell_type": "markdown",
      "source": [
        "### Data Import"
      ],
      "metadata": {
        "id": "CiG0I1Ui066X"
      }
    },
    {
      "cell_type": "markdown",
      "source": [
        "버스 데이터 수집\n",
        "- 정류소 정보: https://www.jejudatahub.net/mypage/project/view-data/612/myProject\n",
        "- 이용 정보: https://www.jejudatahub.net/mypage/project/view-data/613/myProject\n",
        "\n",
        "API를 활용하여 Requests 라이브러리 사용"
      ],
      "metadata": {
        "id": "GJJKt4K03LYq"
      }
    },
    {
      "cell_type": "code",
      "source": [
        "# ## 라이브러리 설치\n",
        "# !pip install requests pandas"
      ],
      "metadata": {
        "id": "HqtMXhni3Ku7"
      },
      "execution_count": null,
      "outputs": []
    },
    {
      "cell_type": "code",
      "source": [
        "# ## 이용정보 API 요청 및 데이터수집\n",
        "\n",
        "# # API 설정\n",
        "# base_url = \"https://open.jejudatahub.net/api/proxy/1b1ta1a1ba6t6a1ttt3bD6b1tb1t1D3t\"\n",
        "# project_key = \"c7p2jjojtb_tb0t0ct0_2ojb2t3bopor\"\n",
        "# params = {\n",
        "#     'startDate': '20240301',\n",
        "#     'endDate': '20240331',\n",
        "#     'limit': 100  # 페이지 당 최대 컨텐츠 수\n",
        "# }\n",
        "\n",
        "# def fetch_data(base_url, project_key, params):\n",
        "#     all_data = []\n",
        "#     page = 1\n",
        "#     has_more = True\n",
        "\n",
        "#     while has_more:\n",
        "#         # 현재 페이지 설정\n",
        "#         current_params = params.copy()\n",
        "#         current_params['number'] = page\n",
        "\n",
        "#         # API 요청\n",
        "#         full_url = f\"{base_url}/{project_key}\"\n",
        "#         response = requests.get(full_url, params=current_params)\n",
        "#         print(\"Requesting:\", response.url)  # 요청 URL 확인\n",
        "#         print(\"Status Code:\", response.status_code)  # 상태 코드 출력\n",
        "\n",
        "#         # 응답 내용 확인\n",
        "#         if response.status_code == 200:\n",
        "#             try:\n",
        "#                 data = response.json()\n",
        "#                 all_data.extend(data['data'])\n",
        "#                 has_more = data['hasMore']\n",
        "#                 page += 1\n",
        "#             except JSONDecodeError:\n",
        "#                 print(\"Failed to decode JSON:\", response.text)  # JSON 디코드 실패 시 메시지 출력\n",
        "#                 break\n",
        "#         else:\n",
        "#             print(\"Failed request with status:\", response.status_code)\n",
        "#             print(\"Response:\", response.text)\n",
        "#             break\n",
        "\n",
        "#     return all_data\n",
        "\n",
        "# # 데이터 수집\n",
        "# data = fetch_data(base_url, project_key, params)"
      ],
      "metadata": {
        "id": "UFZvOdSr3-on"
      },
      "execution_count": null,
      "outputs": []
    },
    {
      "cell_type": "code",
      "source": [
        "# # 데이터프레임 생성\n",
        "# # df = pd.DataFrame(data)\n",
        "# print(df.head())"
      ],
      "metadata": {
        "id": "SU5yMfmt4AgD"
      },
      "execution_count": null,
      "outputs": []
    },
    {
      "cell_type": "code",
      "source": [
        "# # 파일 경로 설정\n",
        "# file_path = '/content/drive/My Drive/bus_data2024.csv'\n",
        "\n",
        "# # 데이터프레임을 CSV 파일로 저장\n",
        "# df.to_csv(file_path, index=False)"
      ],
      "metadata": {
        "id": "8RfOhVwG4EaG"
      },
      "execution_count": null,
      "outputs": []
    },
    {
      "cell_type": "code",
      "source": [
        "# # 버스정류소 정보 API 설정\n",
        "# bus_stations_url = \"https://open.jejudatahub.net/api/proxy/DD11ab6a6t11D16baaa1a2tD26ata161\"\n",
        "# project_key = \"c7p2jjojtb_tb0t0ct0_2ojb2t3bopor\"\n",
        "# params = {\n",
        "#     'limit': 100  # 페이지 당 최대 컨텐츠 수\n",
        "# }\n",
        "\n",
        "# def fetch_bus_stations(base_url, project_key, params):\n",
        "#     all_data = []\n",
        "#     page = 1\n",
        "#     has_more = True\n",
        "\n",
        "#     while has_more:\n",
        "#         # 현재 페이지 설정\n",
        "#         current_params = params.copy()\n",
        "#         current_params['number'] = page\n",
        "\n",
        "#         # API 요청\n",
        "#         response = requests.get(f\"{base_url}/{project_key}\", params=current_params)\n",
        "#         if response.status_code == 200:\n",
        "#             data = response.json()\n",
        "#             all_data.extend(data['data'])\n",
        "#             has_more = data['hasMore']\n",
        "#             page += 1\n",
        "#         else:\n",
        "#             print(\"Failed request with status:\", response.status_code)\n",
        "#             break\n",
        "\n",
        "#     return all_data\n",
        "\n",
        "# # 데이터 수집\n",
        "# bus_station_data = fetch_bus_stations(bus_stations_url, project_key, params)"
      ],
      "metadata": {
        "id": "Icr4WlXk4I27"
      },
      "execution_count": null,
      "outputs": []
    },
    {
      "cell_type": "code",
      "source": [
        "# # 데이터프레임 생성\n",
        "# df_bus_stations = pd.DataFrame(bus_station_data)"
      ],
      "metadata": {
        "id": "8s1OMrJz4MY2"
      },
      "execution_count": null,
      "outputs": []
    },
    {
      "cell_type": "code",
      "source": [
        "# # 파일 경로 설정\n",
        "# file_path_bus_stations = '/content/drive/My Drive/bus_stations_data2024.csv'\n",
        "\n",
        "# # 데이터프레임을 CSV 파일로 저장\n",
        "# df_bus_stations.to_csv(file_path_bus_stations, index=False)"
      ],
      "metadata": {
        "id": "UPrn5mTn4OPA"
      },
      "execution_count": null,
      "outputs": []
    },
    {
      "cell_type": "code",
      "source": [
        "## 저장된 데이터 불러오기\n",
        "# 정류소 데이터 저장된 CSV 파일 불러오기\n",
        "# 저장된 CSV 파일 불러오기\n",
        "file_path_bus = '/content/drive/My Drive/bus_stations_data2024.csv'\n",
        "\n",
        "df_bus_stations_loaded = pd.read_csv(file_path_bus)\n",
        "\n",
        "# 파일 경로 설정\n",
        "file_path = '/content/drive/My Drive/bus_data2024.csv'\n",
        "\n",
        "# 저장된 CSV 파일 불러오기\n",
        "df_loaded = pd.read_csv(file_path)\n",
        "print(df_loaded.head())  # 파일의 첫 5행 출력"
      ],
      "metadata": {
        "id": "7Y8FiX6S4O58"
      },
      "execution_count": null,
      "outputs": []
    },
    {
      "cell_type": "markdown",
      "source": [
        "### Data Processing"
      ],
      "metadata": {
        "id": "7hAWeEZ74dbo"
      }
    },
    {
      "cell_type": "code",
      "source": [
        "# stationName 컬럼 기준으로 중복 제거\n",
        "df_bus_stations_unique = df_bus_stations_loaded.drop_duplicates(subset='stationName', keep='first')\n",
        "\n",
        "# 결과 확인\n",
        "print(df_bus_stations_unique.info())\n",
        "print(df_bus_stations_unique.head())"
      ],
      "metadata": {
        "id": "lRjjoL6HEXGO"
      },
      "execution_count": null,
      "outputs": []
    },
    {
      "cell_type": "code",
      "source": [
        "df_loaded['stationName'].unique()"
      ],
      "metadata": {
        "id": "isGCn-y6Efk1"
      },
      "execution_count": null,
      "outputs": []
    },
    {
      "cell_type": "code",
      "source": [
        "df_loaded.isnull().sum()"
      ],
      "metadata": {
        "id": "TDv3ZRuIElIm"
      },
      "execution_count": null,
      "outputs": []
    },
    {
      "cell_type": "code",
      "source": [
        "# df_loaded에서 결측값이 있는 행 제거\n",
        "df_loaded_cleaned = df_loaded.dropna(subset=['stationName'])\n",
        "\n",
        "# stationName, moveType, priceType에 따라 userCount를 그룹화하고 합산\n",
        "df_grouped = df_loaded_cleaned.groupby(['stationName', 'moveType', 'priceType']).agg({'userCount': 'sum'}).reset_index()\n",
        "\n",
        "# df_bus_stations_loaded에서 필요한 컬럼만 선택\n",
        "df_bus_stations_subset = df_bus_stations_unique[['stationName', 'stationAddress', 'direction', 'longitude', 'latitude']]\n",
        "\n",
        "# df_grouped와 df_bus_stations_subset을 stationName을 기준으로 LEFT JOIN 수행\n",
        "df_merged = pd.merge(df_bus_stations_subset, df_grouped, on='stationName', how='left')\n",
        "\n",
        "# 결과 출력\n",
        "print(df_merged.head())"
      ],
      "metadata": {
        "id": "ndWQ8JdTEoqy"
      },
      "execution_count": null,
      "outputs": []
    },
    {
      "cell_type": "code",
      "source": [
        "df_merged.info()"
      ],
      "metadata": {
        "id": "s8a7K4oHE1kQ"
      },
      "execution_count": null,
      "outputs": []
    },
    {
      "cell_type": "code",
      "source": [
        "df_merged.head(3)"
      ],
      "metadata": {
        "id": "SaPbZI5oE2VO"
      },
      "execution_count": null,
      "outputs": []
    },
    {
      "cell_type": "code",
      "source": [
        "df_merged['priceType'].unique()"
      ],
      "metadata": {
        "id": "XFOp1q-XE-iE"
      },
      "execution_count": null,
      "outputs": []
    },
    {
      "cell_type": "code",
      "source": [
        "## priceType에서 타겟군 외에는 제외\n",
        "df_merged_target = df_merged[(df_merged['priceType'] != '어린이') & (df_merged['priceType'] != '청소년')]"
      ],
      "metadata": {
        "id": "rfqxyTr6E4u_"
      },
      "execution_count": null,
      "outputs": []
    },
    {
      "cell_type": "code",
      "source": [
        "df_merged.shape"
      ],
      "metadata": {
        "id": "VFE7pnhXE9IR"
      },
      "execution_count": null,
      "outputs": []
    },
    {
      "cell_type": "code",
      "source": [
        "df_merged.isnull().sum()"
      ],
      "metadata": {
        "id": "c2BwNIW8FLLX"
      },
      "execution_count": null,
      "outputs": []
    },
    {
      "cell_type": "code",
      "source": [
        "## 정류소별 전체 승차인원수와 승차 타입별 인원수 Sum\n",
        "df_merged_total = df_merged_target.groupby(['stationName', 'stationAddress', 'direction', 'latitude', 'longitude'])['userCount'].sum().reset_index()\n",
        "\n",
        "# stationName, stationAddress, direction, latitude, longitude, moveType에 따라 userCount를 sum\n",
        "df_merged_type = df_merged_target.groupby(['stationName', 'stationAddress', 'direction', 'latitude', 'longitude', 'moveType'])['userCount'].sum().reset_index()"
      ],
      "metadata": {
        "id": "41yYTNZoFNK2"
      },
      "execution_count": null,
      "outputs": []
    },
    {
      "cell_type": "markdown",
      "source": [
        "### Data Visualization"
      ],
      "metadata": {
        "id": "5_eQss-9HGuH"
      }
    },
    {
      "cell_type": "markdown",
      "source": [
        "#### 정류소별 전체 탑승객 수와 승차타입별 시각화 비교\n",
        "- Pydeck 라이브러리 활용"
      ],
      "metadata": {
        "id": "oYjy2g67HPNl"
      }
    },
    {
      "cell_type": "code",
      "source": [
        "!pip install pydeck"
      ],
      "metadata": {
        "id": "Ms2uucTOHF8e"
      },
      "execution_count": null,
      "outputs": []
    },
    {
      "cell_type": "code",
      "source": [
        "import pydeck as pdk\n",
        "\n",
        "# priceType에 따른 색상 지정을 위한 함수\n",
        "def assign_color(row):\n",
        "    if row['moveType'] == '승차':\n",
        "        return [0, 0, 255, 255]  # Blue\n",
        "    elif row['moveType'] == '환승':\n",
        "        return [255, 0, 0, 255]  # Red\n",
        "    else:\n",
        "        return [128, 128, 128, 255]  # Gray for undefined or other types\n",
        "\n",
        "# 색상 컬럼 추가(priceType)\n",
        "df_merged_type['color'] = df_merged_type.apply(assign_color, axis=1)\n",
        "\n",
        "# pydeck을 이용한 시각화를 위한 데이터 준비\n",
        "def render_map(dataframe, color_scale):\n",
        "    view_state = pdk.ViewState(latitude=dataframe['latitude'].mean(), longitude=dataframe['longitude'].mean(), zoom=10)\n",
        "    layer = pdk.Layer(\n",
        "        \"ScatterplotLayer\",\n",
        "        dataframe,\n",
        "        get_position=['longitude', 'latitude'],\n",
        "        get_color=color_scale,\n",
        "        get_radius=100,\n",
        "        pickable=True\n",
        "    )\n",
        "    return pdk.Deck(layers=[layer], initial_view_state=view_state)\n",
        "\n",
        "def render_map2(dataframe):\n",
        "    view_state = pdk.ViewState(latitude=dataframe['latitude'].mean(), longitude=dataframe['longitude'].mean(), zoom=10)\n",
        "    layer = pdk.Layer(\n",
        "        \"ScatterplotLayer\",\n",
        "        dataframe,\n",
        "        get_position=['longitude', 'latitude'],\n",
        "        get_color='color',\n",
        "        get_radius=100,\n",
        "        pickable=True\n",
        "    )\n",
        "    return pdk.Deck(layers=[layer], initial_view_state=view_state)\n",
        "\n",
        "# 데이터프레임에 따라 색상 지정 (예: 더 많은 사용자가 있는 곳은 더 진한 색)\n",
        "color_scale_total = ['userCount * 30', 0, 140, 140]\n",
        "\n",
        "# 지도 렌더링\n",
        "map_total = render_map(df_merged_total, color_scale_total)\n",
        "map_type = render_map2(df_merged_type)"
      ],
      "metadata": {
        "id": "P3D9O6OSHZ-L"
      },
      "execution_count": null,
      "outputs": []
    },
    {
      "cell_type": "code",
      "source": [
        "# 전체 승차객수 지도 ()\n",
        "map_total.show()"
      ],
      "metadata": {
        "id": "yCrHRT2UHhIE"
      },
      "execution_count": null,
      "outputs": []
    },
    {
      "cell_type": "code",
      "source": [
        "# 승차타입별 지도\n",
        "## Blue 승차, Red 환승\n",
        "\n",
        "map_type.show()"
      ],
      "metadata": {
        "id": "ziSTxUmZHx3J"
      },
      "execution_count": null,
      "outputs": []
    },
    {
      "cell_type": "code",
      "source": [
        "## 승객수별 플랏 크기 키우기\n",
        "# pydeck을 이용한 시각화를 위한 데이터 준비\n",
        "def render_map(dataframe, color_scale):\n",
        "    view_state = pdk.ViewState(latitude=dataframe['latitude'].mean(), longitude=dataframe['longitude'].mean(), zoom=10)\n",
        "    layer = pdk.Layer(\n",
        "        \"ScatterplotLayer\",\n",
        "        dataframe,\n",
        "        get_position=['longitude', 'latitude'],\n",
        "        get_color=color_scale,\n",
        "        get_radius=\"userCount\",  # 점의 크기를 userCount에 비례하여 조절\n",
        "        pickable=True,\n",
        "        opacity=0.6  # 투명도 설정\n",
        "    )\n",
        "    return pdk.Deck(layers=[layer], initial_view_state=view_state)\n",
        "\n",
        "def render_map2(dataframe):\n",
        "    view_state = pdk.ViewState(latitude=dataframe['latitude'].mean(), longitude=dataframe['longitude'].mean(), zoom=10)\n",
        "    layer = pdk.Layer(\n",
        "        \"ScatterplotLayer\",\n",
        "        dataframe,\n",
        "        get_position=['longitude', 'latitude'],\n",
        "        get_color='color',\n",
        "        get_radius=\"userCount\",  # 점의 크기를 userCount에 비례하여 조절\n",
        "        pickable=True,\n",
        "        opacity=0.6  # 투명도 설정\n",
        "    )\n",
        "    return pdk.Deck(layers=[layer], initial_view_state=view_state)\n",
        "\n",
        "# 데이터프레임에 따라 색상 지정\n",
        "color_scale_total = ['userCount * 30', 0, 140, 140]\n",
        "\n",
        "# 지도 렌더링\n",
        "map_total = render_map(df_merged_total, color_scale_total)\n",
        "map_type = render_map2(df_merged_type)"
      ],
      "metadata": {
        "id": "GLkS44-1H5zQ"
      },
      "execution_count": null,
      "outputs": []
    },
    {
      "cell_type": "code",
      "source": [
        "# 전체 승차객 지도 표시\n",
        "map_total.show()"
      ],
      "metadata": {
        "id": "gWQH0dUOITFL"
      },
      "execution_count": null,
      "outputs": []
    },
    {
      "cell_type": "code",
      "source": [
        "# 승차타입별 승차객 지도 표시\n",
        "map_type.show()"
      ],
      "metadata": {
        "id": "zhE4PZDTIV-H"
      },
      "execution_count": null,
      "outputs": []
    },
    {
      "cell_type": "code",
      "source": [
        "## 전체 승차객 히트맵\n",
        "# HeatmapLayer를 사용한 히트맵 시각화(df_merged_total)\n",
        "heatmap_layer = pdk.Layer(\n",
        "    'HeatmapLayer',\n",
        "    df_merged_total,\n",
        "    get_position=['longitude', 'latitude'],\n",
        "    get_weight='userCount',\n",
        "    radius_pixels=60\n",
        ")\n",
        "\n",
        "view_state = pdk.ViewState(\n",
        "    latitude=df_merged_total['latitude'].mean(),\n",
        "    longitude=df_merged_total['longitude'].mean(),\n",
        "    zoom=10\n",
        ")\n",
        "\n",
        "# Deck 오브젝트 생성 및 렌더링\n",
        "deck = pdk.Deck(layers=[heatmap_layer], initial_view_state=view_state)\n",
        "deck.to_html('heatmap.html')"
      ],
      "metadata": {
        "id": "mf4uO8G5IaEJ"
      },
      "execution_count": null,
      "outputs": []
    },
    {
      "cell_type": "markdown",
      "source": [
        "#### 제주 부름 이용자들의 예약 생성/호출 위치와 버스정류소별 승차데이터"
      ],
      "metadata": {
        "id": "wDYALarEIumJ"
      }
    },
    {
      "cell_type": "code",
      "source": [
        "## 기본 데이터 임포트\n",
        "query = \"\"\"\n",
        "  SELECT\n",
        "      rv.way,\n",
        "      rv.reservation_id as rid,\n",
        "\n",
        "      rv.dtod_start_lng as start_lng, -- 호출지\n",
        "      rv.dtod_start_lat as start_lat, -- 호출\n",
        "      rv.dtod_end_lng as end_lng,\n",
        "      rv.dtod_end_lat as end_lat,\n",
        "\n",
        "      rv.reservation_created_lat as c_lat, -- 생성지\n",
        "      rv.reservation_created_lng as c_lng, -- 생성지\n",
        "\n",
        "  FROM `soda_store.reservation_v2` rv\n",
        "  WHERE date BETWEEN '2024-03-01' AND '2024-03-31'\n",
        "  AND region1 = '제주특별자치도'\n",
        "  AND way != 'round'\n",
        "  AND state IN (1, 2, 3)\n",
        "  AND dtod_start_lng is not null\n",
        "  AND dtod_end_lng is not null\n",
        "  AND reservation_created_lat is not null\n",
        "  AND reservation_created_lng is not null\n",
        "  AND rv.member_imaginary IN (0, 9)\n",
        "  \"\"\"\n",
        "\n",
        "df_loc = pd.io.gbq.read_gbq(\n",
        "    query=query,\n",
        "    project_id=\"socar-data\"\n",
        ") ## 예약위치 raw"
      ],
      "metadata": {
        "id": "iwWRSox3In2k"
      },
      "execution_count": null,
      "outputs": []
    },
    {
      "cell_type": "code",
      "source": [
        "df_loc.info()"
      ],
      "metadata": {
        "id": "iz3Vb6itI9jk"
      },
      "execution_count": null,
      "outputs": []
    },
    {
      "cell_type": "code",
      "source": [
        "df_loc.head(5)"
      ],
      "metadata": {
        "id": "q-DzHgMUJAih"
      },
      "execution_count": null,
      "outputs": []
    },
    {
      "cell_type": "code",
      "source": [
        "df_loc.shape"
      ],
      "metadata": {
        "id": "R4U4Vv8aJCVK"
      },
      "execution_count": null,
      "outputs": []
    },
    {
      "cell_type": "code",
      "source": [
        "## df_loc에서 예약 생성 위치(c_lat, c_lng)와 호출 위치(start_lat, start_lng)에 대해 각각의 레이어 생성\n",
        "def create_user_layer(dataframe, lat_col, lng_col, color, radius=100):\n",
        "    return pdk.Layer(\n",
        "        \"ScatterplotLayer\",\n",
        "        dataframe,\n",
        "        get_position=[lng_col, lat_col],\n",
        "        get_color=color,\n",
        "        get_radius=radius,\n",
        "        pickable=True,\n",
        "        opacity=0.6  # 투명도 조정\n",
        "    )"
      ],
      "metadata": {
        "id": "-kUcexveJDfb"
      },
      "execution_count": null,
      "outputs": []
    },
    {
      "cell_type": "code",
      "source": [
        "## 버스데이터 시각화 함수\n",
        "def render_complete_map(bus_data, user_data):\n",
        "    # 기존 버스 정류장 데이터 레이어\n",
        "    bus_layer = pdk.Layer(\n",
        "        \"ScatterplotLayer\",\n",
        "        bus_data,\n",
        "        get_position=['longitude', 'latitude'],\n",
        "        get_color='color',\n",
        "        get_radius=\"userCount\",\n",
        "        pickable=True,\n",
        "        opacity=0.6\n",
        "    )\n",
        "\n",
        "    # 사용자 예약 생성 위치 레이어 (Yellow)\n",
        "    reservation_layer = create_user_layer(user_data, 'c_lat', 'c_lng', [255, 255, 0, 160])\n",
        "\n",
        "    # 사용자 호출 위치 레이어 (Green)\n",
        "    call_layer = create_user_layer(user_data, 'start_lat', 'start_lng', [0, 128, 0, 160])\n",
        "\n",
        "    # 뷰 상태 설정\n",
        "    view_state = pdk.ViewState(\n",
        "        latitude=bus_data['latitude'].mean(),\n",
        "        longitude=bus_data['longitude'].mean(),\n",
        "        zoom=10\n",
        "    )\n",
        "\n",
        "    # 모든 레이어를 포함한 덱 생성\n",
        "    deck = pdk.Deck(\n",
        "        layers=[bus_layer, reservation_layer, call_layer],\n",
        "        initial_view_state=view_state,\n",
        "    )\n",
        "\n",
        "    return deck"
      ],
      "metadata": {
        "id": "OG3RBFBLJGc0"
      },
      "execution_count": null,
      "outputs": []
    },
    {
      "cell_type": "code",
      "source": [
        "# 데이터프레임 로드 및 시각화 실행\n",
        "final_map = render_complete_map(df_merged_type, df_loc)\n",
        "final_map.show()"
      ],
      "metadata": {
        "id": "qswpxkcxJHNl"
      },
      "execution_count": null,
      "outputs": []
    },
    {
      "cell_type": "markdown",
      "source": [
        "### 존별 부름 실적과 공급 현황"
      ],
      "metadata": {
        "id": "bDnUEWiyJpbJ"
      }
    },
    {
      "cell_type": "markdown",
      "source": [
        "1. 분포: 부름의 예약비중은 분포가 골고루 되어있지 않다\n",
        "- 15km 미만과 25km 이상에 집중\n",
        "\n",
        "2. 존 반경 범주내 부름 호출지 비중: 각 범주별 상위존 대상 공급 확대\n",
        "- 실적이 전체 대비 높다면, 확대\n",
        "- 비중은 높으나 실적이 전체 대비 낮다면, 축소\n",
        "  - 3Km 반경내 공급\n",
        "    - 확대: 히든클리프 호텔&네이처\n",
        "\n",
        "| zid   | zname                 | GP_ratio | GP_ratio_vs | d2d_3km_rate | d2d_rate | op_rate | op_rate_vs | profit_per_use | profit_use_vs |\n",
        "|-------|-----------------------|----------|-------------|--------------|----------|---------|------------|----------------|---------------|\n",
        "| 246   | 켄싱턴리조트 제주중문  | 0.14     | -0.08       | 0.05         | 0.53     | 0.49    | -0.03      | 11074.0        | -0.18         |\n",
        "| 12812 | 성산 K마트             | 0.20     | -0.02       | 0.04         | 0.14     | 0.59    | 0.06       | 11656.0        | -0.14         |\n",
        "| 14420 | 서귀포시외버스터미널 맞은편 | 0.20  | -0.02       | 0.05         | 0.33     | 0.51    | -0.02      | 13049.0        | -0.04         |\n",
        "| 15304 | 북수구광장 옆           | 0.22     | 0.00        | 0.04         | 0.04     | 0.59    | 0.06       | 14221.0        | 0.05          |\n",
        "| 16126 | 천제연폭포 앞           | 0.33     | 0.11        | 0.04         | 0.16     | 0.54    | 0.02       | 21321.0        | 0.57          |\n",
        "| 16618 | 롯데 하이마트 서귀포점  | 0.16     | -0.06       | 0.04         | 0.38     | 0.54    | 0.02       | 13231.0        | -0.03         |\n",
        "| 16620 | 롯데 하이마트 제주점    | 0.16     | -0.07       | 0.05         | 0.05     | 0.54    | 0.01       | 10827.0        | -0.20         |\n",
        "| 18261 | 히든클리프 호텔&네이쳐   | 0.19     | -0.03       | 0.10         | 0.43     | 0.63    | 0.11       | 15705.0        | 0.16          |\n",
        "| 18269 | 백패커스홈              | 0.18     | -0.04       | 0.07         | 0.47     | 0.53    | 0.01       | 18635.0        | 0.37          |\n",
        "| 18728 | 동문로터리              | 0.20     | -0.02       | 0.05         | 0.13     | 0.53    | 0.01       | 11522.0        | -0.15         |\n",
        "\n",
        "\n",
        "  - 5km 반경내\n",
        "    - 확대: 백패커스홈\n",
        "    - 축소: 신신호텔 제주오션\n",
        "\n",
        "| zid   | zname                 | GP_ratio | GP_ratio_vs | d2d_5km_rate | d2d_rate | op_rate | op_rate_vs | profit_per_use | profit_use_vs |\n",
        "|-------|-----------------------|----------|-------------|--------------|----------|---------|------------|----------------|---------------|\n",
        "| 246   | 켄싱턴리조트 제주중문  | 0.14     | -0.08       | 0.05         | 0.53     | 0.49    | -0.03      | 11074.0        | -0.18         |\n",
        "| 1967  | 신신호텔 제주오션      | 0.10     | -0.12       | 0.07         | 0.33     | 0.51    | -0.01      | 8271.0         | -0.39         |\n",
        "| 2230  | 서귀포시청 제1청사 부근 | 0.21     | -0.02       | 0.06         | 0.25     | 0.55    | 0.03       | 14563.0        | 0.07          |\n",
        "| 12762 | 제주호텔 더엠          | 0.18     | -0.04       | 0.11         | 0.37     | 0.52    | 0.00       | 14477.0        | 0.07          |\n",
        "| 14420 | 서귀포시외버스터미널 맞은편 | 0.20  | -0.02       | 0.07         | 0.33     | 0.51    | -0.02      | 13049.0        | -0.04         |\n",
        "| 14451 | 호텔브릿지 서귀포      | 0.24     | 0.02        | 0.14         | 0.38     | 0.67    | 0.15       | 20947.0        | 0.54          |\n",
        "| 17154 | 서귀포 중앙로터리      | 0.20     | -0.02       | 0.11         | 0.23     | 0.55    | 0.03       | 12971.0        | -0.04         |\n",
        "| 18261 | 히든클리프 호텔&네이쳐   | 0.19     | -0.03       | 0.10         | 0.43     | 0.63    | 0.11       | 15705.0        | 0.16          |\n",
        "| 18269 | 백패커스홈              | 0.18     | -0.04       | 0.27         | 0.47     | 0.53    | 0.01       | 18635.0        | 0.37          |\n",
        "| 19018 | 제주항 연안여객터미널(2부두) | 0.24  | 0.01        | 0.06         | 0.06     | 0.53    | 0.01       | 20426.0        | 0.50          |\n",
        "\n",
        "  - 10km 반경내\n",
        "    - 확대: 히든클리프 호텔&네이처, 호텔브릿지 서귀포\n",
        "    - 축소: 신신호텔 제주오션\n",
        "\n",
        "| zid   | zname                    | GP_ratio | GP_ratio_vs | d2d_10km_rate | d2d_rate | op_rate | op_rate_vs | profit_per_use | profit_use_vs |\n",
        "|-------|--------------------------|----------|-------------|---------------|----------|---------|------------|----------------|---------------|\n",
        "| 246   | 켄싱턴리조트 제주중문      | 0.14     | -0.08       | 0.19          | 0.53     | 0.49    | -0.03      | 11074.0        | -0.18         |\n",
        "| 1967  | 신신호텔 제주오션         | 0.10     | -0.12       | 0.09          | 0.33     | 0.51    | -0.01      | 8271.0         | -0.39         |\n",
        "| 2230  | 서귀포시청 제1청사 부근    | 0.21     | -0.02       | 0.07          | 0.25     | 0.55    | 0.03       | 14563.0        | 0.07          |\n",
        "| 12636 | 중문중학교 옆             | 0.22     | -0.01       | 0.13          | 0.21     | 0.46    | -0.06      | 12354.0        | -0.09         |\n",
        "| 12762 | 제주호텔 더엠             | 0.18     | -0.04       | 0.13          | 0.37     | 0.52    | 0.00       | 14477.0        | 0.07          |\n",
        "| 14420 | 서귀포시외버스터미널 맞은편 | 0.20     | -0.02       | 0.11          | 0.33     | 0.51    | -0.02      | 13049.0        | -0.04         |\n",
        "| 14451 | 호텔브릿지 서귀포          | 0.24     | 0.02        | 0.33          | 0.38     | 0.67    | 0.15       | 20947.0        | 0.54          |\n",
        "| 17154 | 서귀포 중앙로터리          | 0.20     | -0.02       | 0.12          | 0.23     | 0.55    | 0.03       | 12971.0        | -0.04         |\n",
        "| 18261 | 히든클리프 호텔&네이쳐      | 0.19     | -0.03       | 0.33          | 0.43     | 0.63    | 0.11       | 15705.0        | 0.16          |\n",
        "| 18269 | 백패커스홈                 | 0.18     | -0.04       | 0.27          | 0.47     | 0.53    | 0.01       | 18635.0        | 0.37          |\n",
        "\n",
        "3. 지역별 존의 반경 범주내 부름 호출지 비중: 각 범주별 상위 지역 대상 공급 확대\n",
        "- 실적이 전체 대비 높다면, 확대\n",
        "- 비중은 높으나 실적이 전체 대비 낮다면, 축소\n",
        "  - 3Km 반경내\n",
        "    - 확대: 상예동\n",
        "    - 축소: 중문동\n",
        "\n",
        "| region3 | z_cnt | opr_day | d2d_3km_rate | d2d_rate | GP_ratio | op_rate | profit_per_use |\n",
        "|---------|-------|---------|--------------|----------|----------|---------|----------------|\n",
        "| 상예동   | 1     | 1.0     | 0.10         | 0.43     | 0.19     | 0.63    | 15705.0        |\n",
        "| 강정동   | 2     | 6.0     | 0.05         | 0.33     | 0.20     | 0.51    | 13049.0        |\n",
        "| 일도일동 | 1     | 2.0     | 0.04         | 0.04     | 0.22     | 0.59    | 14221.0        |\n",
        "| 삼도이동 | 2     | 3.0     | 0.03         | 0.04     | 0.20     | 0.58    | 14099.0        |\n",
        "| 색달동   | 3     | 10.0    | 0.03         | 0.36     | 0.18     | 0.47    | 13327.0        |\n",
        "| 서귀동   | 6     | 14.0    | 0.03         | 0.32     | 0.18     | 0.55    | 14471.0        |\n",
        "| 동홍동   | 3     | 8.0     | 0.02         | 0.21     | 0.20     | 0.50    | 12083.0        |\n",
        "| 서호동   | 2     | 5.0     | 0.02         | 0.17     | 0.24     | 0.52    | 13861.0        |\n",
        "| 성산읍   | 3     | 7.0     | 0.02         | 0.17     | 0.19     | 0.52    | 11655.0        |\n",
        "| 중문동   | 3     | 9.0     | 0.02         | 0.12     | -0.46    | 0.33    | -3376.0        |\n",
        "\n",
        "  - 5km 반경\n",
        "\n",
        "| region3 | z_cnt | opr_day | d2d_5km_rate | d2d_rate | GP_ratio | op_rate | profit_per_use |\n",
        "|---------|-------|---------|--------------|----------|----------|---------|----------------|\n",
        "| 서귀동   | 6     | 14.0    | 0.13         | 0.32     | 0.18     | 0.55    | 14471.0        |\n",
        "| 상예동   | 1     | 1.0     | 0.10         | 0.43     | 0.19     | 0.63    | 15705.0        |\n",
        "| 강정동   | 2     | 6.0     | 0.07         | 0.33     | 0.20     | 0.51    | 13049.0        |\n",
        "| 오라1동  | 1     | 3.0     | 0.04         | 0.04     | 0.25     | 0.61    | 16088.0        |\n",
        "| 일도일동 | 1     | 2.0     | 0.04         | 0.04     | 0.22     | 0.59    | 14221.0        |\n",
        "| 건입동   | 2     | 4.0     | 0.03         | 0.03     | 0.26     | 0.54    | 17860.0        |\n",
        "| 동홍동   | 3     | 8.0     | 0.03         | 0.21     | 0.20     | 0.50    | 12083.0        |\n",
        "| 삼도이동 | 2     | 3.0     | 0.03         | 0.04     | 0.20     | 0.58    | 14099.0        |\n",
        "| 색달동   | 3     | 10.0    | 0.03         | 0.36     | 0.18     | 0.47    | 13327.0        |\n",
        "| 서호동   | 2     | 5.0     | 0.03         | 0.17     | 0.24     | 0.52    | 13861.0        |\n",
        "\n",
        "\n",
        "  - 10km 반경\n",
        "    - 확대: 상예동, 강정동, 색달동\n",
        "\n",
        "| region3 | z_cnt | opr_day | d2d_10km_rate | d2d_rate | GP_ratio | op_rate | profit_per_use |\n",
        "|---------|-------|---------|---------------|----------|----------|---------|----------------|\n",
        "| 상예동   | 1     | 1.0     | 0.33          | 0.43     | 0.19     | 0.63    | 15705.0        |\n",
        "| 서귀동   | 6     | 14.0    | 0.17          | 0.32     | 0.18     | 0.55    | 14471.0        |\n",
        "| 강정동   | 2     | 6.0     | 0.11          | 0.33     | 0.20     | 0.51    | 13049.0        |\n",
        "| 색달동   | 3     | 10.0    | 0.09          | 0.36     | 0.18     | 0.47    | 13327.0        |\n",
        "| 서호동   | 2     | 5.0     | 0.06          | 0.17     | 0.24     | 0.52    | 13861.0        |\n",
        "| 중문동   | 3     | 9.0     | 0.06          | 0.12     | -0.46    | 0.33    | -3376.0        |\n",
        "| 동홍동   | 3     | 8.0     | 0.04          | 0.21     | 0.20     | 0.50    | 12083.0        |\n",
        "| 오라1동  | 1     | 3.0     | 0.04          | 0.04     | 0.25     | 0.61    | 16088.0        |\n",
        "| 일도일동 | 1     | 2.0     | 0.04          | 0.04     | 0.22     | 0.59    | 14221.0        |\n",
        "| 건입동   | 2     | 4.0     | 0.03          | 0.03     | 0.26     | 0.54    | 17860.0        |\n",
        "\n",
        "  - total\n",
        "    - 확대: 상예동, 대정읍, 색달동, 강정동, 서귀동\n",
        "\n",
        "| region3 | z_cnt | opr_day | d2d_rate | GP_ratio | op_rate | profit_per_use |\n",
        "|---------|-------|---------|----------|----------|---------|----------------|\n",
        "| 남원읍   | 1     | 1.0     | 0.63     | -0.05    | 0.28    | -4432.0        |\n",
        "| 상예동   | 1     | 1.0     | 0.43     | 0.19     | 0.63    | 15705.0        |\n",
        "| 대정읍   | 1     | 2.0     | 0.38     | 0.19     | 0.47    | 17529.0        |\n",
        "| 색달동   | 3     | 10.0    | 0.36     | 0.18     | 0.47    | 13327.0        |\n",
        "| 안덕면   | 4     | 19.0    | 0.35     | 0.19     | 0.56    | 13367.0        |\n",
        "| 강정동   | 2     | 6.0     | 0.33     | 0.20     | 0.51    | 13049.0        |\n",
        "| 서귀동   | 6     | 14.0    | 0.32     | 0.18     | 0.55    | 14471.0        |\n",
        "| 구좌읍   | 1     | 2.0     | 0.27     | 0.16     | 0.41    | 13502.0        |\n",
        "| 동홍동   | 3     | 8.0     | 0.21     | 0.20     | 0.50    | 12083.0        |\n",
        "| 서호동   | 2     | 5.0     | 0.17     | 0.24     | 0.52    | 13861.0        |\n"
      ],
      "metadata": {
        "id": "BRKnE0DSzoP_"
      }
    },
    {
      "cell_type": "code",
      "source": [
        "## 기본 데이터 임포트\n",
        "query = \"\"\"\n",
        "  SELECT\n",
        "  r.way as way\n",
        "  , CASE WHEN r.zone_id IN (105, 9890) THEN 'air'\n",
        "          WHEN r.zone_id IN (17209, 19175, 19269) THEN 'air_infront'\n",
        "          ELSE ci.region3 END as region3\n",
        "  , r.reservation_id as rid,\n",
        "  st_distance(st_geogpoint(r.zone_lng, r.zone_lat), st_geogpoint(dtod_start_lng, dtod_start_lat)) as rev_distance\n",
        "\n",
        "  FROM `socar-data.soda_store.reservation_v2` r\n",
        "  LEFT JOIN socar-data.tianjin_replica.reservation_info i ON r.reservation_id = i.id\n",
        "  LEFT JOIN socar-data.tianjin_replica.reservation_dtod_info d ON r.reservation_id = d.reservation_id\n",
        "  LEFT JOIN `tianjin_replica.car_info` c ON r.car_id = c.id\n",
        "  LEFT JOIN `tianjin_replica.car_class` cl ON c.class_id = cl.id\n",
        "  LEFT JOIN tianjin_replica.carzone_info ci ON r.zone_id = ci.id\n",
        "  WHERE date BETWEEN '2024-03-25' AND '2024-04-21'\n",
        "  AND r.member_imaginary IN (0,9)\n",
        "  AND r.region1 = '제주특별자치도'\n",
        "  AND r.zone_id NOT IN (105, 9890, 17209, 19175, 19269)\n",
        "  AND r.way NOT IN ('round', 'z2d_oneway')\n",
        "  \"\"\"\n",
        "\n",
        "df_zone = pd.io.gbq.read_gbq(\n",
        "    query=query,\n",
        "    project_id=\"socar-data\"\n",
        ") ## 존 예약위치 raw\n",
        "\n",
        "df_zone.info()"
      ],
      "metadata": {
        "id": "7sCIa_SnJIUY"
      },
      "execution_count": null,
      "outputs": []
    },
    {
      "cell_type": "code",
      "source": [
        "df_zone.head()"
      ],
      "metadata": {
        "id": "N4revWZHNeM7"
      },
      "execution_count": null,
      "outputs": []
    },
    {
      "cell_type": "code",
      "source": [
        "df_zone['rev_distance'].describe()"
      ],
      "metadata": {
        "id": "OzRlUp8dN8qs"
      },
      "execution_count": null,
      "outputs": []
    },
    {
      "cell_type": "code",
      "source": [
        "import plotly.express as px\n",
        "import scipy.stats as stats\n",
        "import numpy as np\n",
        "import plotly.graph_objects as go"
      ],
      "metadata": {
        "id": "WibZKjoAQNfS"
      },
      "execution_count": null,
      "outputs": []
    },
    {
      "cell_type": "code",
      "source": [
        "# 히스토그램 생성\n",
        "fig = px.histogram(df_zone, x='rev_distance', nbins=30, marginal=\"rug\", title=\"Distribution of rev_distance\")\n",
        "\n",
        "# 데이터의 평균과 표준편차 계산\n",
        "mu = df_zone['rev_distance'].mean()\n",
        "sigma = df_zone['rev_distance'].std()\n",
        "\n",
        "# 정규분포 데이터 생성\n",
        "x = np.linspace(mu - 3*sigma, mu + 3*sigma, 100)\n",
        "y = stats.norm.pdf(x, mu, sigma)  # 정규분포 확률밀도함수\n",
        "\n",
        "# 정규분포 곡선을 히스토그램에 추가\n",
        "fig.add_trace(go.Scatter(x=x, y=y, mode='lines', name='Normal Distribution'))\n",
        "\n",
        "# 그래프 표시\n",
        "fig.show()"
      ],
      "metadata": {
        "id": "8E4tDdxARUah"
      },
      "execution_count": null,
      "outputs": []
    },
    {
      "cell_type": "code",
      "source": [
        "fig = px.histogram(df_zone, x='rev_distance', color='way', nbins=30, marginal=\"rug\", title=\"Distribution of rev_distance by Way\")\n",
        "fig.show()"
      ],
      "metadata": {
        "id": "SLpXCaEiRd1Z"
      },
      "execution_count": null,
      "outputs": []
    },
    {
      "cell_type": "code",
      "source": [
        "## 존별 특정 거리 범주이내 부름 예약건수의 존 전체 건수 대비 비중\n",
        "## 전처리 데이터 임포트\n",
        "query = \"\"\"\n",
        "  WITH base AS (\n",
        "    SELECT\n",
        "      region3,\n",
        "      id as zid,\n",
        "      zone_name as zname,\n",
        "      lat, lng\n",
        "    FROM tianjin_replica.carzone_info\n",
        "    WHERE region1 = '제주특별자치도'\n",
        "    AND state = 1\n",
        "  ),\n",
        "\n",
        "  base_d2d_rev AS (\n",
        "    SELECT\n",
        "    r.way as way,\n",
        "    CASE WHEN r.zone_id IN (105, 9890) THEN 'air'\n",
        "        WHEN r.zone_id IN (17209, 19175, 19269) THEN 'air_infront'\n",
        "        ELSE ci.region3 END as region3,\n",
        "    r.zone_id,\n",
        "    r.reservation_id as rid,\n",
        "\n",
        "    dtod_start_lng as s_lng,\n",
        "    dtod_start_lat as s_lat\n",
        "\n",
        "    FROM `socar-data.soda_store.reservation_v2` r\n",
        "    LEFT JOIN socar-data.tianjin_replica.reservation_info i ON r.reservation_id = i.id\n",
        "    LEFT JOIN socar-data.tianjin_replica.reservation_dtod_info d ON r.reservation_id = d.reservation_id\n",
        "    LEFT JOIN `tianjin_replica.car_info` c ON r.car_id = c.id\n",
        "    LEFT JOIN `tianjin_replica.car_class` cl ON c.class_id = cl.id\n",
        "    LEFT JOIN tianjin_replica.carzone_info ci ON r.zone_id = ci.id\n",
        "    WHERE date BETWEEN '2024-03-25' AND '2024-04-21'\n",
        "    AND r.member_imaginary IN (0,9)\n",
        "    AND r.region1 = '제주특별자치도'\n",
        "    AND r.way NOT IN ('round', 'z2d_oneway')\n",
        "  ),\n",
        "\n",
        "  base_d2d AS (\n",
        "    SELECT\n",
        "    b.region3,\n",
        "    b.zid, b.zname,\n",
        "    count(rid) as rev_d2d_cnt,\n",
        "    count(CASE WHEN st_distance(st_geogpoint(b.lng, b.lat), st_geogpoint(r.s_lng, r.s_lat)) <= 10000 THEN r.rid END) as rev_10km,\n",
        "    count(CASE WHEN st_distance(st_geogpoint(b.lng, b.lat), st_geogpoint(r.s_lng, r.s_lat)) <= 5000 THEN r.rid END) as rev_5km,\n",
        "    count(CASE WHEN st_distance(st_geogpoint(b.lng, b.lat), st_geogpoint(r.s_lng, r.s_lat)) <= 3000 THEN r.rid END) as rev_3km\n",
        "    FROM base b\n",
        "    LEFT JOIN base_d2d_rev r ON b.zid = r.zone_id\n",
        "    GROUP BY region3, zid, zname\n",
        "  ),\n",
        "\n",
        "  base_rev AS (\n",
        "    SELECT\n",
        "    r.way as way,\n",
        "    CASE WHEN r.zone_id IN (105, 9890) THEN 'air'\n",
        "        WHEN r.zone_id IN (17209, 19175, 19269) THEN 'air_infront'\n",
        "        ELSE ci.region3 END as region3,\n",
        "    r.zone_id,\n",
        "    r.reservation_id as rid,\n",
        "\n",
        "    dtod_start_lng as s_lng,\n",
        "    dtod_start_lat as s_lat\n",
        "\n",
        "    FROM `socar-data.soda_store.reservation_v2` r\n",
        "    LEFT JOIN socar-data.tianjin_replica.reservation_info i ON r.reservation_id = i.id\n",
        "    LEFT JOIN socar-data.tianjin_replica.reservation_dtod_info d ON r.reservation_id = d.reservation_id\n",
        "    LEFT JOIN `tianjin_replica.car_info` c ON r.car_id = c.id\n",
        "    LEFT JOIN `tianjin_replica.car_class` cl ON c.class_id = cl.id\n",
        "    LEFT JOIN tianjin_replica.carzone_info ci ON r.zone_id = ci.id\n",
        "    WHERE date BETWEEN '2024-03-25' AND '2024-04-21'\n",
        "    AND r.member_imaginary IN (0,9)\n",
        "    AND r.region1 = '제주특별자치도'\n",
        "  ),\n",
        "\n",
        "  base_tot AS (\n",
        "    SELECT\n",
        "    b.region3,\n",
        "    b.zid, b.zname,\n",
        "\n",
        "    count(rid) as rev_cnt,\n",
        "    FROM base b\n",
        "    LEFT JOIN base_rev r ON b.zid = r.zone_id\n",
        "    GROUP BY region3, zid, zname\n",
        "  ),\n",
        "\n",
        "  base_profit AS (\n",
        "    SELECT\n",
        "      p.zone_id as zid,\n",
        "      p.zone_name as zname,\n",
        "\n",
        "      count(car_id) as cnt,\n",
        "      sum(opr_day) as opr_day,\n",
        "      sum(nuse) as use,\n",
        "      sum(utime) as dur,\n",
        "      sum(revenue) as revenue,\n",
        "      sum(profit) as profit,\n",
        "      sum(profit)/sum(revenue) as GP_ratio,\n",
        "      sum(profit)/sum(nuse) as profit_per_use,\n",
        "      sum(utime)/(sum(opr_day)*24) as op_rate\n",
        "\n",
        "\n",
        "    FROM `socar_biz_profit.profit_socar_car_daily` p\n",
        "    LEFT JOIN tianjin_replica.carzone_info c ON p.zone_id = c.id\n",
        "    WHERE p.region1 in ('제주특별자치도')\n",
        "    AND zone_id not in(122,2184,12072,12073,10736,10738,11947,11480,13228,13787,13858,14494,14528,14541,14542)\n",
        "    AND date BETWEEN '2024-03-25' AND '2024-04-21'\n",
        "    AND car_sharing_type in ('socar','zplus')\n",
        "    GROUP BY zid, zname\n",
        "  ),\n",
        "\n",
        "  base_profit_total AS (\n",
        "    SELECT\n",
        "      9999 as zid,\n",
        "      '전체' as zname,\n",
        "\n",
        "      count(car_id) as cnt,\n",
        "      sum(opr_day) as opr_day,\n",
        "      sum(nuse) as use,\n",
        "      sum(utime) as dur,\n",
        "      sum(revenue) as revenue,\n",
        "      sum(profit) as profit,\n",
        "      sum(profit)/sum(revenue) as total_GP_ratio,\n",
        "      sum(profit)/sum(nuse) as total_profit_per_use,\n",
        "      sum(utime)/(sum(opr_day)*24) as total_op_rate\n",
        "\n",
        "\n",
        "    FROM `socar_biz_profit.profit_socar_car_daily` p\n",
        "    LEFT JOIN tianjin_replica.carzone_info c ON p.zone_id = c.id\n",
        "    WHERE p.region1 in ('제주특별자치도')\n",
        "    AND zone_id not in(122,2184,12072,12073,10736,10738,11947,11480,13228,13787,13858,14494,14528,14541,14542,105,9890,17209,19175, 19269)\n",
        "    AND date BETWEEN '2024-03-25' AND '2024-04-21'\n",
        "    AND car_sharing_type in ('socar','zplus')\n",
        "    GROUP BY zid, zname\n",
        "  ),\n",
        "\n",
        "  profit_total AS (\n",
        "    SELECT\n",
        "      b.zid, b.zname,\n",
        "      round(b.GP_ratio, 2) as GP_ratio,\n",
        "      round(b.GP_ratio - bt.total_GP_ratio, 2) as GP_ratio_vs,\n",
        "      round(b.profit_per_use, 0) as profit_per_use,\n",
        "      round((b.profit_per_use / bt.total_profit_per_use) -1, 2) as profit_use_vs,\n",
        "      round(b.op_rate, 2) as op_rate,\n",
        "      round(b.op_rate - bt.total_op_rate, 2) as op_rate_vs\n",
        "    FROM base_profit b\n",
        "    CROSS JOIN base_profit_total bt\n",
        "  )\n",
        "\n",
        "  SELECT\n",
        "    b.*,\n",
        "    bt.rev_cnt,\n",
        "    round(safe_divide(b2.rev_3km, bt.rev_cnt), 2) as d2d_3km_rate,\n",
        "    round(safe_divide(b2.rev_5km, bt.rev_cnt), 2) as d2d_5km_rate,\n",
        "    round(safe_divide(b2.rev_10km, bt.rev_cnt), 2) as d2d_10km_rate,\n",
        "    round(safe_divide(b2.rev_d2d_cnt, bt.rev_cnt), 2) as d2d_rate,\n",
        "\n",
        "    GP_ratio,\n",
        "    GP_ratio_vs, -- 전체 대비 손익률\n",
        "    profit_per_use,\n",
        "    profit_use_vs, -- 전체 대비 건당 이익\n",
        "    op_rate,\n",
        "    op_rate_vs -- 전체 대비 가동률 차이 (%p)\n",
        "  FROM base b\n",
        "  LEFT JOIN base_d2d b2 ON b.zid = b2.zid\n",
        "  LEFT JOIN base_tot bt ON b.zid = bt.zid\n",
        "  LEFT JOIN profit_total bp ON b.zid = bp.zid\n",
        "  ORDER BY zid\n",
        "  \"\"\"\n",
        "\n",
        "df_rev_info = pd.io.gbq.read_gbq(\n",
        "    query=query,\n",
        "    project_id=\"socar-data\"\n",
        ") ## 존 예약위치 raw\n",
        "\n",
        "df_rev_info.info()"
      ],
      "metadata": {
        "id": "PQy1U_hVXFQx"
      },
      "execution_count": null,
      "outputs": []
    },
    {
      "cell_type": "code",
      "source": [
        "# 데이터 필터링 및 피벗 테이블 생성\n",
        "# 각 거점의 부름 예약 비중별로 상위 10개 거점을 필터링하고, 이를 피벗 테이블로 요약\n",
        "\n",
        "# 상위 10개 거점 필터링 함수\n",
        "def filter_top_zones(df, rate_column):\n",
        "    return df.nlargest(10, rate_column)\n",
        "\n",
        "# 각 거점 별 비율에 따른 상위 10개 거점 필터링\n",
        "top_3km = filter_top_zones(df_rev_info, 'd2d_3km_rate')\n",
        "top_5km = filter_top_zones(df_rev_info, 'd2d_5km_rate')\n",
        "top_10km = filter_top_zones(df_rev_info, 'd2d_10km_rate')\n",
        "top_overall = filter_top_zones(df_rev_info, 'd2d_rate')\n",
        "\n",
        "# 실적 피벗 테이블 생성 함수\n",
        "def create_pivot_table(df):\n",
        "    return df.pivot_table(index=['zid', 'zname'], values=['d2d_3km_rate', 'd2d_5km_rate', 'd2d_10km_rate', 'd2d_rate', 'GP_ratio', 'GP_ratio_vs', 'profit_per_use', 'profit_use_vs', 'op_rate', 'op_rate_vs'])\n",
        "\n",
        "# 각 비율별 피벗 테이블 생성\n",
        "pivot_3km = create_pivot_table(top_3km)\n",
        "pivot_5km = create_pivot_table(top_5km)\n",
        "pivot_10km = create_pivot_table(top_10km)\n",
        "pivot_overall = create_pivot_table(top_overall)\n",
        "\n",
        "# GP_ratio 시각화\n",
        "def plot_performance(df, value):\n",
        "    fig = px.bar(df, x='zname', y=value, color=value, title=f'{value} by Zone')\n",
        "    fig.show()\n",
        "\n",
        "# Pydeck 지도 시각화 함수\n",
        "def render_map(df):\n",
        "    view_state = pdk.ViewState(latitude=df['lat'].mean(), longitude=df['lng'].mean(), zoom=8)\n",
        "\n",
        "    layer = pdk.Layer(\n",
        "        \"ScatterplotLayer\",\n",
        "        df,\n",
        "        get_position=['lng', 'lat'],\n",
        "        get_color='[200, 30, 0, 160]',\n",
        "        get_radius='op_rate * 1000',  # op_rate에 따라 크기 조절\n",
        "        pickable=True,\n",
        "        opacity=0.8\n",
        "    )\n",
        "\n",
        "    deck = pdk.Deck(layers=[layer], initial_view_state=view_state)\n",
        "    return deck"
      ],
      "metadata": {
        "id": "6_ZDVOCsXUFj"
      },
      "execution_count": null,
      "outputs": []
    },
    {
      "cell_type": "code",
      "source": [
        "# 예시 출력\n",
        "print(pivot_3km)"
      ],
      "metadata": {
        "id": "HMOCJ6CwsADh"
      },
      "execution_count": null,
      "outputs": []
    },
    {
      "cell_type": "markdown",
      "source": [
        "| zid   | zname                 | GP_ratio | GP_ratio_vs | d2d_3km_rate | d2d_rate | op_rate | op_rate_vs | profit_per_use | profit_use_vs |\n",
        "|-------|-----------------------|----------|-------------|--------------|----------|---------|------------|----------------|---------------|\n",
        "| 246   | 켄싱턴리조트 제주중문  | 0.14     | -0.08       | 0.05         | 0.53     | 0.49    | -0.03      | 11074.0        | -0.18         |\n",
        "| 12812 | 성산 K마트             | 0.20     | -0.02       | 0.04         | 0.14     | 0.59    | 0.06       | 11656.0        | -0.14         |\n",
        "| 14420 | 서귀포시외버스터미널 맞은편 | 0.20  | -0.02       | 0.05         | 0.33     | 0.51    | -0.02      | 13049.0        | -0.04         |\n",
        "| 15304 | 북수구광장 옆           | 0.22     | 0.00        | 0.04         | 0.04     | 0.59    | 0.06       | 14221.0        | 0.05          |\n",
        "| 16126 | 천제연폭포 앞           | 0.33     | 0.11        | 0.04         | 0.16     | 0.54    | 0.02       | 21321.0        | 0.57          |\n",
        "| 16618 | 롯데 하이마트 서귀포점  | 0.16     | -0.06       | 0.04         | 0.38     | 0.54    | 0.02       | 13231.0        | -0.03         |\n",
        "| 16620 | 롯데 하이마트 제주점    | 0.16     | -0.07       | 0.05         | 0.05     | 0.54    | 0.01       | 10827.0        | -0.20         |\n",
        "| 18261 | 히든클리프 호텔&네이쳐   | 0.19     | -0.03       | 0.10         | 0.43     | 0.63    | 0.11       | 15705.0        | 0.16          |\n",
        "| 18269 | 백패커스홈              | 0.18     | -0.04       | 0.07         | 0.47     | 0.53    | 0.01       | 18635.0        | 0.37          |\n",
        "| 18728 | 동문로터리              | 0.20     | -0.02       | 0.05         | 0.13     | 0.53    | 0.01       | 11522.0        | -0.15         |\n"
      ],
      "metadata": {
        "id": "PzoA3CuC6FvS"
      }
    },
    {
      "cell_type": "code",
      "source": [
        "plot_performance(top_3km, 'GP_ratio')"
      ],
      "metadata": {
        "id": "X-UB8wtvsFNI"
      },
      "execution_count": null,
      "outputs": []
    },
    {
      "cell_type": "code",
      "source": [
        "plot_performance(top_3km, 'op_rate')"
      ],
      "metadata": {
        "id": "jC4ArkZesivJ"
      },
      "execution_count": null,
      "outputs": []
    },
    {
      "cell_type": "code",
      "source": [
        "# 지도 렌더링\n",
        "map_deck = render_map(top_3km)\n",
        "map_deck.to_html('top_3km_map.html')"
      ],
      "metadata": {
        "id": "cv2ImnRqsR4C"
      },
      "execution_count": null,
      "outputs": []
    },
    {
      "cell_type": "code",
      "source": [
        "print(pivot_5km)"
      ],
      "metadata": {
        "id": "ku5fVa-VrzxL"
      },
      "execution_count": null,
      "outputs": []
    },
    {
      "cell_type": "markdown",
      "source": [
        "| zid   | zname                 | GP_ratio | GP_ratio_vs | d2d_5km_rate | d2d_rate | op_rate | op_rate_vs | profit_per_use | profit_use_vs |\n",
        "|-------|-----------------------|----------|-------------|--------------|----------|---------|------------|----------------|---------------|\n",
        "| 246   | 켄싱턴리조트 제주중문  | 0.14     | -0.08       | 0.05         | 0.53     | 0.49    | -0.03      | 11074.0        | -0.18         |\n",
        "| 1967  | 신신호텔 제주오션      | 0.10     | -0.12       | 0.07         | 0.33     | 0.51    | -0.01      | 8271.0         | -0.39         |\n",
        "| 2230  | 서귀포시청 제1청사 부근 | 0.21     | -0.02       | 0.06         | 0.25     | 0.55    | 0.03       | 14563.0        | 0.07          |\n",
        "| 12762 | 제주호텔 더엠          | 0.18     | -0.04       | 0.11         | 0.37     | 0.52    | 0.00       | 14477.0        | 0.07          |\n",
        "| 14420 | 서귀포시외버스터미널 맞은편 | 0.20  | -0.02       | 0.07         | 0.33     | 0.51    | -0.02      | 13049.0        | -0.04         |\n",
        "| 14451 | 호텔브릿지 서귀포      | 0.24     | 0.02        | 0.14         | 0.38     | 0.67    | 0.15       | 20947.0        | 0.54          |\n",
        "| 17154 | 서귀포 중앙로터리      | 0.20     | -0.02       | 0.11         | 0.23     | 0.55    | 0.03       | 12971.0        | -0.04         |\n",
        "| 18261 | 히든클리프 호텔&네이쳐   | 0.19     | -0.03       | 0.10         | 0.43     | 0.63    | 0.11       | 15705.0        | 0.16          |\n",
        "| 18269 | 백패커스홈              | 0.18     | -0.04       | 0.27         | 0.47     | 0.53    | 0.01       | 18635.0        | 0.37          |\n",
        "| 19018 | 제주항 연안여객터미널(2부두) | 0.24  | 0.01        | 0.06         | 0.06     | 0.53    | 0.01       | 20426.0        | 0.50          |\n"
      ],
      "metadata": {
        "id": "VQhiTeOn6Ppv"
      }
    },
    {
      "cell_type": "code",
      "source": [
        "plot_performance(top_5km, 'GP_ratio')"
      ],
      "metadata": {
        "id": "ATBhFrygtXwk"
      },
      "execution_count": null,
      "outputs": []
    },
    {
      "cell_type": "code",
      "source": [
        "plot_performance(top_5km, 'op_rate')"
      ],
      "metadata": {
        "id": "Na72VdV-tVAA"
      },
      "execution_count": null,
      "outputs": []
    },
    {
      "cell_type": "code",
      "source": [
        "# 지도 렌더링\n",
        "map_deck = render_map(top_5km)\n",
        "map_deck.to_html('top_5km_map.html')"
      ],
      "metadata": {
        "id": "VD-NcrOUtU9d"
      },
      "execution_count": null,
      "outputs": []
    },
    {
      "cell_type": "code",
      "source": [
        "print(pivot_10km)"
      ],
      "metadata": {
        "id": "emME0eMar3mk"
      },
      "execution_count": null,
      "outputs": []
    },
    {
      "cell_type": "markdown",
      "source": [
        "| zid   | zname                    | GP_ratio | GP_ratio_vs | d2d_10km_rate | d2d_rate | op_rate | op_rate_vs | profit_per_use | profit_use_vs |\n",
        "|-------|--------------------------|----------|-------------|---------------|----------|---------|------------|----------------|---------------|\n",
        "| 246   | 켄싱턴리조트 제주중문      | 0.14     | -0.08       | 0.19          | 0.53     | 0.49    | -0.03      | 11074.0        | -0.18         |\n",
        "| 1967  | 신신호텔 제주오션         | 0.10     | -0.12       | 0.09          | 0.33     | 0.51    | -0.01      | 8271.0         | -0.39         |\n",
        "| 2230  | 서귀포시청 제1청사 부근    | 0.21     | -0.02       | 0.07          | 0.25     | 0.55    | 0.03       | 14563.0        | 0.07          |\n",
        "| 12636 | 중문중학교 옆             | 0.22     | -0.01       | 0.13          | 0.21     | 0.46    | -0.06      | 12354.0        | -0.09         |\n",
        "| 12762 | 제주호텔 더엠             | 0.18     | -0.04       | 0.13          | 0.37     | 0.52    | 0.00       | 14477.0        | 0.07          |\n",
        "| 14420 | 서귀포시외버스터미널 맞은편 | 0.20     | -0.02       | 0.11          | 0.33     | 0.51    | -0.02      | 13049.0        | -0.04         |\n",
        "| 14451 | 호텔브릿지 서귀포          | 0.24     | 0.02        | 0.33          | 0.38     | 0.67    | 0.15       | 20947.0        | 0.54          |\n",
        "| 17154 | 서귀포 중앙로터리          | 0.20     | -0.02       | 0.12          | 0.23     | 0.55    | 0.03       | 12971.0        | -0.04         |\n",
        "| 18261 | 히든클리프 호텔&네이쳐      | 0.19     | -0.03       | 0.33          | 0.43     | 0.63    | 0.11       | 15705.0        | 0.16          |\n",
        "| 18269 | 백패커스홈                 | 0.18     | -0.04       | 0.27          | 0.47     | 0.53    | 0.01       | 18635.0        | 0.37          |\n"
      ],
      "metadata": {
        "id": "BadCfuEy6tgm"
      }
    },
    {
      "cell_type": "code",
      "source": [
        "plot_performance(top_10km, 'GP_ratio')"
      ],
      "metadata": {
        "id": "MYnPTpB9tiMx"
      },
      "execution_count": null,
      "outputs": []
    },
    {
      "cell_type": "code",
      "source": [
        "plot_performance(top_10km, 'op_rate')"
      ],
      "metadata": {
        "id": "jV3HGMMZtiHz"
      },
      "execution_count": null,
      "outputs": []
    },
    {
      "cell_type": "code",
      "source": [
        "# 지도 렌더링\n",
        "map_deck = render_map(top_10km)\n",
        "map_deck.to_html('top_10km_map.html')"
      ],
      "metadata": {
        "id": "rAQv4PDmtiEg"
      },
      "execution_count": null,
      "outputs": []
    },
    {
      "cell_type": "code",
      "source": [
        "## region3별 특정 거리 범주이내 부름 예약건수의 존 전체 건수 대비 비중\n",
        "## 전처리 데이터 임포트\n",
        "query = \"\"\"\n",
        "  WITH base AS (\n",
        "    SELECT\n",
        "      region3,\n",
        "      id as zid,\n",
        "      zone_name as zname,\n",
        "      lat, lng\n",
        "    FROM tianjin_replica.carzone_info\n",
        "    WHERE region1 = '제주특별자치도'\n",
        "    AND state = 1\n",
        "  ),\n",
        "\n",
        "  base_d2d_rev AS (\n",
        "    SELECT\n",
        "    r.way as way,\n",
        "    CASE WHEN r.zone_id IN (105, 9890) THEN 'air'\n",
        "        WHEN r.zone_id IN (17209, 19175, 19269) THEN 'air_infront'\n",
        "        ELSE ci.region3 END as region3,\n",
        "    r.zone_id,\n",
        "    r.reservation_id as rid,\n",
        "\n",
        "    dtod_start_lng as s_lng,\n",
        "    dtod_start_lat as s_lat\n",
        "\n",
        "    FROM `socar-data.soda_store.reservation_v2` r\n",
        "    LEFT JOIN socar-data.tianjin_replica.reservation_info i ON r.reservation_id = i.id\n",
        "    LEFT JOIN socar-data.tianjin_replica.reservation_dtod_info d ON r.reservation_id = d.reservation_id\n",
        "    LEFT JOIN `tianjin_replica.car_info` c ON r.car_id = c.id\n",
        "    LEFT JOIN `tianjin_replica.car_class` cl ON c.class_id = cl.id\n",
        "    LEFT JOIN tianjin_replica.carzone_info ci ON r.zone_id = ci.id\n",
        "    WHERE date BETWEEN '2024-03-25' AND '2024-04-21'\n",
        "    AND r.member_imaginary IN (0,9)\n",
        "    AND r.region1 = '제주특별자치도'\n",
        "    AND r.way NOT IN ('round', 'z2d_oneway')\n",
        "  ),\n",
        "\n",
        "  base_d2d AS (\n",
        "    SELECT\n",
        "    b.region3,\n",
        "    b.zid, b.zname,\n",
        "    count(rid) as rev_d2d_cnt,\n",
        "    count(CASE WHEN st_distance(st_geogpoint(b.lng, b.lat), st_geogpoint(r.s_lng, r.s_lat)) <= 10000 THEN r.rid END) as rev_10km,\n",
        "    count(CASE WHEN st_distance(st_geogpoint(b.lng, b.lat), st_geogpoint(r.s_lng, r.s_lat)) <= 5000 THEN r.rid END) as rev_5km,\n",
        "    count(CASE WHEN st_distance(st_geogpoint(b.lng, b.lat), st_geogpoint(r.s_lng, r.s_lat)) <= 3000 THEN r.rid END) as rev_3km\n",
        "    FROM base b\n",
        "    LEFT JOIN base_d2d_rev r ON b.zid = r.zone_id\n",
        "    GROUP BY region3, zid, zname\n",
        "  ),\n",
        "\n",
        "  base_rev AS (\n",
        "    SELECT\n",
        "    r.way as way,\n",
        "    CASE WHEN r.zone_id IN (105, 9890) THEN 'air'\n",
        "        WHEN r.zone_id IN (17209, 19175, 19269) THEN 'air_infront'\n",
        "        ELSE ci.region3 END as region3,\n",
        "    r.zone_id,\n",
        "    r.reservation_id as rid,\n",
        "\n",
        "    dtod_start_lng as s_lng,\n",
        "    dtod_start_lat as s_lat\n",
        "\n",
        "    FROM `socar-data.soda_store.reservation_v2` r\n",
        "    LEFT JOIN socar-data.tianjin_replica.reservation_info i ON r.reservation_id = i.id\n",
        "    LEFT JOIN socar-data.tianjin_replica.reservation_dtod_info d ON r.reservation_id = d.reservation_id\n",
        "    LEFT JOIN `tianjin_replica.car_info` c ON r.car_id = c.id\n",
        "    LEFT JOIN `tianjin_replica.car_class` cl ON c.class_id = cl.id\n",
        "    LEFT JOIN tianjin_replica.carzone_info ci ON r.zone_id = ci.id\n",
        "    WHERE date BETWEEN '2024-03-25' AND '2024-04-21'\n",
        "    AND r.member_imaginary IN (0,9)\n",
        "    AND r.region1 = '제주특별자치도'\n",
        "  ),\n",
        "\n",
        "  base_tot AS (\n",
        "    SELECT\n",
        "    b.region3,\n",
        "    b.zid, b.zname,\n",
        "\n",
        "    count(rid) as rev_cnt,\n",
        "    FROM base b\n",
        "    LEFT JOIN base_rev r ON b.zid = r.zone_id\n",
        "    GROUP BY region3, zid, zname\n",
        "  ),\n",
        "\n",
        "  base_profit AS (\n",
        "    SELECT\n",
        "      p.zone_id as zid,\n",
        "      p.zone_name as zname,\n",
        "\n",
        "      count(car_id) as cnt,\n",
        "      sum(opr_day) as opr_day,\n",
        "      sum(nuse) as use,\n",
        "      sum(utime) as dur,\n",
        "      sum(revenue) as revenue,\n",
        "      sum(profit) as profit,\n",
        "      sum(profit)/sum(revenue) as GP_ratio,\n",
        "      sum(profit)/sum(nuse) as profit_per_use,\n",
        "      sum(utime)/(sum(opr_day)*24) as op_rate\n",
        "\n",
        "\n",
        "    FROM `socar_biz_profit.profit_socar_car_daily` p\n",
        "    LEFT JOIN tianjin_replica.carzone_info c ON p.zone_id = c.id\n",
        "    WHERE p.region1 in ('제주특별자치도')\n",
        "    AND zone_id not in(122,2184,12072,12073,10736,10738,11947,11480,13228,13787,13858,14494,14528,14541,14542)\n",
        "    AND date BETWEEN '2024-03-25' AND '2024-04-21'\n",
        "    AND car_sharing_type in ('socar','zplus')\n",
        "    GROUP BY zid, zname\n",
        "  ),\n",
        "\n",
        "  base_profit_total AS (\n",
        "    SELECT\n",
        "      9999 as zid,\n",
        "      '전체' as zname,\n",
        "\n",
        "      count(car_id) as cnt,\n",
        "      sum(opr_day) as opr_day,\n",
        "      sum(nuse) as use,\n",
        "      sum(utime) as dur,\n",
        "      sum(revenue) as revenue,\n",
        "      sum(profit) as profit,\n",
        "      sum(profit)/sum(revenue) as total_GP_ratio,\n",
        "      sum(profit)/sum(nuse) as total_profit_per_use,\n",
        "      sum(utime)/(sum(opr_day)*24) as total_op_rate\n",
        "\n",
        "\n",
        "    FROM `socar_biz_profit.profit_socar_car_daily` p\n",
        "    LEFT JOIN tianjin_replica.carzone_info c ON p.zone_id = c.id\n",
        "    WHERE p.region1 in ('제주특별자치도')\n",
        "    AND zone_id not in(122,2184,12072,12073,10736,10738,11947,11480,13228,13787,13858,14494,14528,14541,14542,105,9890,17209,19175, 19269)\n",
        "    AND date BETWEEN '2024-03-25' AND '2024-04-21'\n",
        "    AND car_sharing_type in ('socar','zplus')\n",
        "    GROUP BY zid, zname\n",
        "  ),\n",
        "\n",
        "  profit_total AS (\n",
        "    SELECT\n",
        "      b.zid, b.zname,\n",
        "      b.opr_day as opr_day,\n",
        "      round(b.GP_ratio, 2) as GP_ratio,\n",
        "      round(b.GP_ratio - bt.total_GP_ratio, 2) as GP_ratio_vs,\n",
        "      round(b.profit_per_use, 0) as profit_per_use,\n",
        "      round((b.profit_per_use / bt.total_profit_per_use) -1, 2) as profit_use_vs,\n",
        "      round(b.op_rate, 2) as op_rate,\n",
        "      round(b.op_rate - bt.total_op_rate, 2) as op_rate_vs\n",
        "    FROM base_profit b\n",
        "    CROSS JOIN base_profit_total bt\n",
        "  )\n",
        "\n",
        "  SELECT\n",
        "    region3,\n",
        "    count(zid) as z_cnt,\n",
        "    round(sum(opr_day), 0) as opr_day,\n",
        "    round(avg(d2d_3km_rate), 2) as d2d_3km_rate,\n",
        "    round(avg(d2d_5km_rate), 2) as d2d_5km_rate,\n",
        "    round(avg(d2d_10km_rate), 2) as d2d_10km_rate,\n",
        "    round(avg(d2d_rate), 2) as d2d_rate,\n",
        "    round(avg(GP_ratio), 2) as GP_ratio,\n",
        "    round(avg(op_rate), 2) as op_rate,\n",
        "    round(avg(profit_per_use), 0) as profit_per_use,\n",
        "\n",
        "  FROM (\n",
        "        SELECT\n",
        "          b.*,\n",
        "          bt.rev_cnt,\n",
        "          b2.rev_3km,\n",
        "          round(safe_divide(b2.rev_3km, bt.rev_cnt), 2) as d2d_3km_rate,\n",
        "          round(safe_divide(b2.rev_5km, bt.rev_cnt), 2) as d2d_5km_rate,\n",
        "          round(safe_divide(b2.rev_10km, bt.rev_cnt), 2) as d2d_10km_rate,\n",
        "          round(safe_divide(b2.rev_d2d_cnt, bt.rev_cnt), 2) as d2d_rate,\n",
        "          opr_day/28 as opr_day,\n",
        "\n",
        "          GP_ratio,\n",
        "          GP_ratio_vs, -- 전체 대비 손익률\n",
        "          profit_per_use,\n",
        "          profit_use_vs, -- 전체 대비 건당 이익\n",
        "          op_rate,\n",
        "          op_rate_vs -- 전체 대비 가동률 차이 (%p)\n",
        "        FROM base b\n",
        "        LEFT JOIN base_d2d b2 ON b.zid = b2.zid\n",
        "        LEFT JOIN base_tot bt ON b.zid = bt.zid\n",
        "        LEFT JOIN profit_total bp ON b.zid = bp.zid\n",
        "  )\n",
        "  GROUP BY region3\n",
        "  ORDER BY region3\n",
        "  \"\"\"\n",
        "\n",
        "df_region3 = pd.io.gbq.read_gbq(\n",
        "    query=query,\n",
        "    project_id=\"socar-data\"\n",
        ") ## 존 예약위치 raw\n",
        "\n",
        "df_region3.info()"
      ],
      "metadata": {
        "id": "Q0o2Lfmkt7PH"
      },
      "execution_count": null,
      "outputs": []
    },
    {
      "cell_type": "code",
      "source": [
        "# 데이터 필터링 및 피벗 테이블 생성\n",
        "\n",
        "# 상위 10개 지역 필터링 함수\n",
        "def filter_top_zones(df, rate_column):\n",
        "    return df.nlargest(10, rate_column)\n",
        "\n",
        "# 각 거점 별 비율에 따른 상위 10개 지역 필터링\n",
        "top_3km = filter_top_zones(df_region3, 'd2d_3km_rate')\n",
        "top_5km = filter_top_zones(df_region3, 'd2d_5km_rate')\n",
        "top_10km = filter_top_zones(df_region3, 'd2d_10km_rate')\n",
        "top_overall = filter_top_zones(df_region3, 'd2d_rate')\n",
        "\n",
        "# 실적 피벗 테이블 생성 함수\n",
        "def create_pivot_table(df):\n",
        "    return df.pivot_table(index='region3', values=['d2d_3km_rate', 'd2d_5km_rate', 'd2d_10km_rate', 'd2d_rate', 'GP_ratio', 'profit_per_use', 'op_rate'])\n",
        "\n",
        "# 각 비율별 피벗 테이블 생성\n",
        "pivot_3km = create_pivot_table(top_3km)\n",
        "pivot_5km = create_pivot_table(top_5km)\n",
        "pivot_10km = create_pivot_table(top_10km)\n",
        "pivot_overall = create_pivot_table(top_overall)\n",
        "\n",
        "# GP_ratio 시각화\n",
        "def plot_performance(df, value):\n",
        "    fig = px.bar(df, x='region3', y=value, color=value, title=f'{value} by Region3')\n",
        "    fig.show()"
      ],
      "metadata": {
        "id": "5r13BHM1x04X"
      },
      "execution_count": null,
      "outputs": []
    },
    {
      "cell_type": "code",
      "source": [
        "print(top_3km)"
      ],
      "metadata": {
        "id": "Dp5QIAtmzLds"
      },
      "execution_count": null,
      "outputs": []
    },
    {
      "cell_type": "markdown",
      "source": [
        "| region3 | z_cnt | opr_day | d2d_3km_rate | d2d_rate | GP_ratio | op_rate | profit_per_use |\n",
        "|---------|-------|---------|--------------|----------|----------|---------|----------------|\n",
        "| 상예동   | 1     | 1.0     | 0.10         | 0.43     | 0.19     | 0.63    | 15705.0        |\n",
        "| 강정동   | 2     | 6.0     | 0.05         | 0.33     | 0.20     | 0.51    | 13049.0        |\n",
        "| 일도일동 | 1     | 2.0     | 0.04         | 0.04     | 0.22     | 0.59    | 14221.0        |\n",
        "| 삼도이동 | 2     | 3.0     | 0.03         | 0.04     | 0.20     | 0.58    | 14099.0        |\n",
        "| 색달동   | 3     | 10.0    | 0.03         | 0.36     | 0.18     | 0.47    | 13327.0        |\n",
        "| 서귀동   | 6     | 14.0    | 0.03         | 0.32     | 0.18     | 0.55    | 14471.0        |\n",
        "| 동홍동   | 3     | 8.0     | 0.02         | 0.21     | 0.20     | 0.50    | 12083.0        |\n",
        "| 서호동   | 2     | 5.0     | 0.02         | 0.17     | 0.24     | 0.52    | 13861.0        |\n",
        "| 성산읍   | 3     | 7.0     | 0.02         | 0.17     | 0.19     | 0.52    | 11655.0        |\n",
        "| 중문동   | 3     | 9.0     | 0.02         | 0.12     | -0.46    | 0.33    | -3376.0        |\n"
      ],
      "metadata": {
        "id": "5bBn9GXI6_F_"
      }
    },
    {
      "cell_type": "code",
      "source": [
        "print(top_5km)"
      ],
      "metadata": {
        "id": "4Eq8g43UzLaO"
      },
      "execution_count": null,
      "outputs": []
    },
    {
      "cell_type": "markdown",
      "source": [
        "| region3 | z_cnt | opr_day | d2d_5km_rate | d2d_rate | GP_ratio | op_rate | profit_per_use |\n",
        "|---------|-------|---------|--------------|----------|----------|---------|----------------|\n",
        "| 서귀동   | 6     | 14.0    | 0.13         | 0.32     | 0.18     | 0.55    | 14471.0        |\n",
        "| 상예동   | 1     | 1.0     | 0.10         | 0.43     | 0.19     | 0.63    | 15705.0        |\n",
        "| 강정동   | 2     | 6.0     | 0.07         | 0.33     | 0.20     | 0.51    | 13049.0        |\n",
        "| 오라1동  | 1     | 3.0     | 0.04         | 0.04     | 0.25     | 0.61    | 16088.0        |\n",
        "| 일도일동 | 1     | 2.0     | 0.04         | 0.04     | 0.22     | 0.59    | 14221.0        |\n",
        "| 건입동   | 2     | 4.0     | 0.03         | 0.03     | 0.26     | 0.54    | 17860.0        |\n",
        "| 동홍동   | 3     | 8.0     | 0.03         | 0.21     | 0.20     | 0.50    | 12083.0        |\n",
        "| 삼도이동 | 2     | 3.0     | 0.03         | 0.04     | 0.20     | 0.58    | 14099.0        |\n",
        "| 색달동   | 3     | 10.0    | 0.03         | 0.36     | 0.18     | 0.47    | 13327.0        |\n",
        "| 서호동   | 2     | 5.0     | 0.03         | 0.17     | 0.24     | 0.52    | 13861.0        |\n"
      ],
      "metadata": {
        "id": "yMpOSdaT7b7u"
      }
    },
    {
      "cell_type": "code",
      "source": [
        "print(top_10km)"
      ],
      "metadata": {
        "id": "nUZyn0rBzLXY"
      },
      "execution_count": null,
      "outputs": []
    },
    {
      "cell_type": "markdown",
      "source": [
        "| region3 | z_cnt | opr_day | d2d_10km_rate | d2d_rate | GP_ratio | op_rate | profit_per_use |\n",
        "|---------|-------|---------|---------------|----------|----------|---------|----------------|\n",
        "| 상예동   | 1     | 1.0     | 0.33          | 0.43     | 0.19     | 0.63    | 15705.0        |\n",
        "| 서귀동   | 6     | 14.0    | 0.17          | 0.32     | 0.18     | 0.55    | 14471.0        |\n",
        "| 강정동   | 2     | 6.0     | 0.11          | 0.33     | 0.20     | 0.51    | 13049.0        |\n",
        "| 색달동   | 3     | 10.0    | 0.09          | 0.36     | 0.18     | 0.47    | 13327.0        |\n",
        "| 서호동   | 2     | 5.0     | 0.06          | 0.17     | 0.24     | 0.52    | 13861.0        |\n",
        "| 중문동   | 3     | 9.0     | 0.06          | 0.12     | -0.46    | 0.33    | -3376.0        |\n",
        "| 동홍동   | 3     | 8.0     | 0.04          | 0.21     | 0.20     | 0.50    | 12083.0        |\n",
        "| 오라1동  | 1     | 3.0     | 0.04          | 0.04     | 0.25     | 0.61    | 16088.0        |\n",
        "| 일도일동 | 1     | 2.0     | 0.04          | 0.04     | 0.22     | 0.59    | 14221.0        |\n",
        "| 건입동   | 2     | 4.0     | 0.03          | 0.03     | 0.26     | 0.54    | 17860.0        |\n"
      ],
      "metadata": {
        "id": "LWXRnelu7vxJ"
      }
    },
    {
      "cell_type": "code",
      "source": [
        "print(top_overall)"
      ],
      "metadata": {
        "id": "iQ7ruXFwzLH-"
      },
      "execution_count": null,
      "outputs": []
    },
    {
      "cell_type": "markdown",
      "source": [
        "| region3 | z_cnt | opr_day | d2d_rate | GP_ratio | op_rate | profit_per_use |\n",
        "|---------|-------|---------|----------|----------|---------|----------------|\n",
        "| 남원읍   | 1     | 1.0     | 0.63     | -0.05    | 0.28    | -4432.0        |\n",
        "| 상예동   | 1     | 1.0     | 0.43     | 0.19     | 0.63    | 15705.0        |\n",
        "| 대정읍   | 1     | 2.0     | 0.38     | 0.19     | 0.47    | 17529.0        |\n",
        "| 색달동   | 3     | 10.0    | 0.36     | 0.18     | 0.47    | 13327.0        |\n",
        "| 안덕면   | 4     | 19.0    | 0.35     | 0.19     | 0.56    | 13367.0        |\n",
        "| 강정동   | 2     | 6.0     | 0.33     | 0.20     | 0.51    | 13049.0        |\n",
        "| 서귀동   | 6     | 14.0    | 0.32     | 0.18     | 0.55    | 14471.0        |\n",
        "| 구좌읍   | 1     | 2.0     | 0.27     | 0.16     | 0.41    | 13502.0        |\n",
        "| 동홍동   | 3     | 8.0     | 0.21     | 0.20     | 0.50    | 12083.0        |\n",
        "| 서호동   | 2     | 5.0     | 0.17     | 0.24     | 0.52    | 13861.0        |\n"
      ],
      "metadata": {
        "id": "h3hOkR717wbv"
      }
    },
    {
      "cell_type": "code",
      "source": [
        "# 시각화 실행\n",
        "plot_performance(top_3km, 'GP_ratio')\n",
        "plot_performance(top_5km, 'GP_ratio')\n",
        "plot_performance(top_10km, 'GP_ratio')\n",
        "plot_performance(top_overall, 'GP_ratio')"
      ],
      "metadata": {
        "id": "RKey4qX_yj1X"
      },
      "execution_count": null,
      "outputs": []
    },
    {
      "cell_type": "code",
      "source": [
        "# 시각화 실행\n",
        "plot_performance(top_3km, 'op_rate')\n",
        "plot_performance(top_5km, 'op_rate')\n",
        "plot_performance(top_10km, 'op_rate')\n",
        "##plot_performance(top_overall, 'op_rate')"
      ],
      "metadata": {
        "id": "su2likcmy57k"
      },
      "execution_count": null,
      "outputs": []
    },
    {
      "cell_type": "markdown",
      "source": [
        "## Part2 공급망 분류"
      ],
      "metadata": {
        "id": "_Z0HTKaMJEJF"
      }
    },
    {
      "cell_type": "markdown",
      "source": [],
      "metadata": {
        "id": "q6Fk3k9lJgmp"
      }
    },
    {
      "cell_type": "code",
      "source": [
        "## 기본 데이터 임포트\n",
        "query = \"\"\"\n",
        "  SELECT\n",
        "    id as zid,\n",
        "    zone_name,\n",
        "    region3,\n",
        "    lat, lng\n",
        "  FROM tianjin_replica.carzone_info\n",
        "  WHERE region1 = '제주특별자치도'\n",
        "  AND state = 1 -- 운영\n",
        "  \"\"\"\n",
        "\n",
        "df_zone = pd.io.gbq.read_gbq(\n",
        "    query=query,\n",
        "    project_id=\"socar-data\"\n",
        ") ## 예약위치 raw\n",
        "\n",
        "df_zone.info()"
      ],
      "metadata": {
        "id": "MITNpCpPVdo7"
      },
      "execution_count": null,
      "outputs": []
    },
    {
      "cell_type": "code",
      "source": [
        "## 버스데이터 시각화 함수\n",
        "def render_complete_map(bus_data, user_data):\n",
        "    # 기존 버스 정류장 데이터 레이어\n",
        "    bus_layer = pdk.Layer(\n",
        "        \"ScatterplotLayer\",\n",
        "        bus_data,\n",
        "        get_position=['longitude', 'latitude'],\n",
        "        get_color='color',\n",
        "        get_radius=\"userCount\",\n",
        "        pickable=True,\n",
        "        opacity=0.6\n",
        "    )\n",
        "\n",
        "    # 사용자 예약 생성 위치 레이어 (Yellow)\n",
        "    reservation_layer = create_user_layer(user_data, 'c_lat', 'c_lng', [255, 255, 0, 160])\n",
        "\n",
        "    # 사용자 호출 위치 레이어 (Green)\n",
        "    call_layer = create_user_layer(user_data, 'start_lat', 'start_lng', [0, 128, 0, 160])\n",
        "\n",
        "    # 뷰 상태 설정\n",
        "    view_state = pdk.ViewState(\n",
        "        latitude=bus_data['latitude'].mean(),\n",
        "        longitude=bus_data['longitude'].mean(),\n",
        "        zoom=10\n",
        "    )\n",
        "\n",
        "    # 모든 레이어를 포함한 덱 생성\n",
        "    deck = pdk.Deck(\n",
        "        layers=[bus_layer, reservation_layer, call_layer],\n",
        "        initial_view_state=view_state,\n",
        "    )\n",
        "\n",
        "    return deck"
      ],
      "metadata": {
        "id": "kw-Vz6ZiJgV9"
      },
      "execution_count": null,
      "outputs": []
    },
    {
      "cell_type": "code",
      "source": [
        "# 데이터프레임 로드 및 시각화 실행\n",
        "final_map = render_complete_map(df_merged_type, df_loc)\n",
        "final_map.show()"
      ],
      "metadata": {
        "id": "YPA905lZXwut"
      },
      "execution_count": null,
      "outputs": []
    },
    {
      "cell_type": "code",
      "source": [
        "df_merged_type.info()"
      ],
      "metadata": {
        "id": "buzFWp94XxTI"
      },
      "execution_count": null,
      "outputs": []
    },
    {
      "cell_type": "code",
      "source": [
        "df_merged_type.head(2)"
      ],
      "metadata": {
        "id": "49Ef5bVXX39q"
      },
      "execution_count": null,
      "outputs": []
    },
    {
      "cell_type": "code",
      "source": [
        "df_loc.info()"
      ],
      "metadata": {
        "id": "up7NjgmhXzjO"
      },
      "execution_count": null,
      "outputs": []
    },
    {
      "cell_type": "code",
      "source": [
        "df_loc.head(2)"
      ],
      "metadata": {
        "id": "KgG5dGvKX7Dr"
      },
      "execution_count": null,
      "outputs": []
    },
    {
      "cell_type": "code",
      "source": [
        "df_zone.info()"
      ],
      "metadata": {
        "id": "X_Z9WUX4X1Ok"
      },
      "execution_count": null,
      "outputs": []
    },
    {
      "cell_type": "code",
      "source": [
        "df_zone.head(2)"
      ],
      "metadata": {
        "id": "WF0xdG2sX3KA"
      },
      "execution_count": null,
      "outputs": []
    },
    {
      "cell_type": "code",
      "source": [
        "# 사용자 레이어 생성 함수\n",
        "def create_user_layer(data, lat_col, lng_col, color):\n",
        "    return pdk.Layer(\n",
        "        \"ScatterplotLayer\",\n",
        "        data,\n",
        "        get_position=[lng_col, lat_col],\n",
        "        get_color=color,\n",
        "        get_radius=100,  # 반경을 조절하여 원하는 크기 설정\n",
        "        pickable=True,\n",
        "        opacity=0.8\n",
        "    )\n",
        "\n",
        "# 공급 거점 레이어 생성 함수\n",
        "def create_zone_layer(zone_data, color):\n",
        "    return pdk.Layer(\n",
        "        \"ScatterplotLayer\",\n",
        "        zone_data,\n",
        "        get_position=['lng', 'lat'],\n",
        "        get_color=color,\n",
        "        get_radius=300,  # 반경을 조절하여 원하는 크기 설정\n",
        "        pickable=True,\n",
        "        opacity=1\n",
        "    )\n",
        "\n",
        "# 수정된 전체 맵 렌더링 함수\n",
        "def render_complete_map(bus_data, user_data, zone_data):\n",
        "    bus_layer = pdk.Layer(\n",
        "        \"ScatterplotLayer\",\n",
        "        bus_data,\n",
        "        get_position=['longitude', 'latitude'],\n",
        "        get_color='color',\n",
        "        get_radius=\"userCount\",\n",
        "        pickable=True,\n",
        "        opacity=0.6\n",
        "    )\n",
        "\n",
        "    reservation_layer = create_user_layer(user_data, 'c_lat', 'c_lng', [255, 255, 0, 160])\n",
        "    call_layer = create_user_layer(user_data, 'start_lat', 'start_lng', [0, 128, 0, 160])\n",
        "\n",
        "    # 공급 거점 레이어 추가, 색상은 purple ([128, 0, 128, 160])\n",
        "    zone_layer = create_zone_layer(zone_data, [128, 0, 128, 160])\n",
        "\n",
        "    view_state = pdk.ViewState(\n",
        "        latitude=bus_data['latitude'].mean(),\n",
        "        longitude=bus_data['longitude'].mean(),\n",
        "        zoom=10\n",
        "    )\n",
        "\n",
        "    deck = pdk.Deck(\n",
        "        layers=[bus_layer, reservation_layer, call_layer, zone_layer],\n",
        "        initial_view_state=view_state,\n",
        "    )\n",
        "\n",
        "    return deck"
      ],
      "metadata": {
        "id": "9WsQdNexX_YK"
      },
      "execution_count": null,
      "outputs": []
    },
    {
      "cell_type": "code",
      "source": [
        "tmap = render_complete_map(df_merged_type, df_loc, df_zone)\n",
        "tmap"
      ],
      "metadata": {
        "id": "b0plyMQfapWy"
      },
      "execution_count": null,
      "outputs": []
    },
    {
      "cell_type": "code",
      "source": [
        "## K-means 클러스터링"
      ],
      "metadata": {
        "id": "tvEVcYuBj6hL"
      },
      "execution_count": null,
      "outputs": []
    },
    {
      "cell_type": "code",
      "source": [
        "from sklearn.cluster import KMeans\n",
        "from sklearn.metrics import silhouette_score\n",
        "import matplotlib.pyplot as plt\n",
        "import pandas as pd\n",
        "\n",
        "# 데이터 프레임 통합 (위도, 경도 기준)\n",
        "data = pd.concat([\n",
        "    df_merged_type[['latitude', 'longitude']],\n",
        "    df_loc[['start_lat', 'start_lng']].rename(columns={'start_lat': 'latitude', 'start_lng': 'longitude'}),\n",
        "    # df_zone[['lat', 'lng']].rename(columns={'lat': 'latitude', 'lng': 'longitude'}) # 필요시 주석 해제\n",
        "])\n",
        "\n",
        "# K를 결정하기 위한 엘보우 방법 시각화\n",
        "inertias = []\n",
        "for k in range(1, 10):\n",
        "    kmeans = KMeans(n_clusters=k, n_init=10)\n",
        "    kmeans.fit(data[['latitude', 'longitude']])\n",
        "    inertias.append(kmeans.inertia_)\n",
        "\n",
        "plt.plot(range(1, 10), inertias, marker='o')\n",
        "plt.title('Elbow Method')\n",
        "plt.xlabel('Number of clusters')\n",
        "plt.ylabel('Inertia')\n",
        "plt.show()\n",
        "\n",
        "# 최적의 K 값으로 클러스터링 실행 및 시각화\n",
        "optimal_k = 4  # 엘보우 그래프를 보고 결정한 최적의 클러스터 수\n",
        "kmeans = KMeans(n_clusters=optimal_k, n_init=10)\n",
        "data['cluster'] = kmeans.fit_predict(data[['latitude', 'longitude']])\n",
        "\n",
        "plt.scatter(data['longitude'], data['latitude'], c=data['cluster'], cmap='viridis')\n",
        "plt.title('K-Means Clustering')\n",
        "plt.xlabel('Longitude')\n",
        "plt.ylabel('Latitude')\n",
        "plt.show()"
      ],
      "metadata": {
        "id": "jHYMiPw7j6fh"
      },
      "execution_count": null,
      "outputs": []
    },
    {
      "cell_type": "code",
      "source": [
        "# 내부 평가 (Internal Evaluation)\n",
        "# 내부 평가는 클러스터링 결과 자체의 품질을 평가\n",
        "# - 클러스터 내의 데이터 포인트가 얼마나 잘 모여 있는지(응집도), 클러스터 간의 분리도가 얼마나 좋은지를 측정\n",
        "\n",
        "# 실루엣 점수 (Silhouette Score):\n",
        "# 각 데이터 포인트의 실루엣 계수는 해당 포인트의 클러스터 내 응집도와 다른 클러스터와의 분리도를 기반으로 계산\n",
        "# 실루엣 점수는 -1에서 1 사이의 값을 가지며, 1에 가까울수록 클러스터링 결과가 좋다는 것을 의미"
      ],
      "metadata": {
        "id": "cMsNqxyjkjGa"
      },
      "execution_count": null,
      "outputs": []
    },
    {
      "cell_type": "code",
      "source": [
        "# 실루엣 점수 계산\n",
        "silhouette_avg = silhouette_score(data[['latitude', 'longitude']], data['cluster'])\n",
        "print(f\"Silhouette Score for {optimal_k} clusters: {silhouette_avg:.3f}\")\n",
        "\n",
        "# 선택적으로 여러 K 값에 대한 실루엣 계수 계산\n",
        "silhouette_scores = []\n",
        "for k in range(2, 11):  # 2개에서 10개 클러스터까지 실루엣 점수 계산\n",
        "    kmeans = KMeans(n_clusters=k, n_init=10)\n",
        "    cluster_labels = kmeans.fit_predict(data[['latitude', 'longitude']])\n",
        "    score = silhouette_score(data[['latitude', 'longitude']], cluster_labels)\n",
        "    silhouette_scores.append(score)\n",
        "    print(f\"Silhouette Score for {k} clusters: {score:.3f}\")"
      ],
      "metadata": {
        "id": "3-w7dQjTmf7L"
      },
      "execution_count": null,
      "outputs": []
    },
    {
      "cell_type": "markdown",
      "source": [
        "```\n",
        "실루엣 점수는 K-Means 클러스터링을 사용하여 다양한 클러스터 수(K 값)에 대해 계산\n",
        "- 실루엣 점수는 각 데이터 포인트가 자신의 클러스터 내에서 얼마나 근접하게 모여 있고, 다른 클러스터와는 얼마나 잘 구분되는지를 측정. 이 점수는 -1에서 1 사이의 값으로, 1에 가까울수록 클러스터링의 품질이 높음을 나타냄\n",
        "\n",
        "2 클러스터: 0.428 - 클러스터링의 응집도와 클러스터 간 분리도가 약함\n",
        "3 클러스터: 0.522 - 클러스터 내 응집도와 클러스터 간 분리도가 개선되었으나 여전히 최적은 아님\n",
        "4 클러스터: 0.589 - 모든 K 값 중 가장 높은 실루엣 점수로, 클러스터링의 품질이 상대적으로 가장 우수\n",
        "- 클러스터 간 분리도가 좋고, 클러스터 내 응집도 또한 상대적으로 높음\n",
        "5 클러스터: 0.541 - 4개 클러스터에 비해 실루엣 점수가 다소 감소\n",
        "6 클러스터: 0.554 - 클러스터링 품질이 5개 클러스터보다는 높으나 4개 클러스터에는 미치지 못함\n",
        "7 클러스터: 0.528 - 클러스터 수가 증가함에 따라 클러스터 내 응집도와 클러스터 간 분리도가 점점 낮아지는 경향을 보임\n",
        "8 클러스터: 0.535 - 비슷한 경향이 계속되며, 클러스터링 품질은 중간 정도\n",
        "9 클러스터: 0.499, 10 클러스터: 0.499 - 클러스터 수가 많아질수록 실루엣 점수가 감소하고, 이는 클러스터 간 분리가 약해지고, 클러스터 내 응집도 또한 저하됨\n",
        "\n",
        "결론\n",
        "이 데이터에 대한 K-Means 클러스터링에서는 4개의 클러스터가 가장 효과적인 것으로 보임\n",
        "- 클러스터링의 품질이 가장 높으며, 데이터를 의미있게 분리 가능\n",
        "- 실루엣 점수가 가장 높은 0.589는 클러스터링이 비교적 잘 수행되었음을 의미하지만, 완벽하지는 않음\n",
        "```"
      ],
      "metadata": {
        "id": "P82ljXGLwJ85"
      }
    },
    {
      "cell_type": "markdown",
      "source": [
        "```\n",
        "가중치 적용: K-Means 알고리즘은 기본적으로 모든 데이터 포인트를 동등하게 취급하므로 승차객 수(userCount)를 가중치로 사용하려면, 이를 클러스터링 프로세스에 직접적으로 통합하는 방법이 필요\n",
        "- Scikit-learn의 KMeans 클래스는 직접적인 가중치 설정을 지원하지 않으므로, 대안적인 방법을 모색\n",
        "- 샘플링 기법 사용: 각 데이터 포인트를 그 데이터 포인트의 userCount에 비례하여 복제하는 방식으로 간접적으로 가중치를 적용\n",
        "(어떤 버스 정류장의 userCount가 10이면, 해당 정류장을 10회 복제하여 데이터 세트에 포함)\n",
        "```"
      ],
      "metadata": {
        "id": "sVQmwLAuntI0"
      }
    },
    {
      "cell_type": "code",
      "source": [
        "data.info()"
      ],
      "metadata": {
        "id": "UpoeHU98n9AO"
      },
      "execution_count": null,
      "outputs": []
    },
    {
      "cell_type": "code",
      "source": [
        "data.head(10)"
      ],
      "metadata": {
        "id": "uiPE0bnboAsH"
      },
      "execution_count": null,
      "outputs": []
    },
    {
      "cell_type": "code",
      "source": [
        "data.isnull().sum()"
      ],
      "metadata": {
        "id": "d6WuBOdpoCIM"
      },
      "execution_count": null,
      "outputs": []
    },
    {
      "cell_type": "code",
      "source": [
        "# 데이터 준비\n",
        "data = pd.concat([\n",
        "    df_merged_type[['latitude', 'longitude', 'userCount']],\n",
        "    df_loc[['start_lat', 'start_lng']].rename(columns={'start_lat': 'latitude', 'start_lng': 'longitude'})\n",
        "])\n",
        "\n",
        "# NaN 값이 있는 행 제거\n",
        "cleaned_data = data.dropna(subset=['userCount'])\n",
        "\n",
        "# 각 데이터 포인트를 userCount에 비례하여 확률적으로 샘플링\n",
        "sampled_data = cleaned_data.sample(n=10000, replace=True, weights='userCount')\n",
        "\n",
        "# userCount가 매우 높은 경우, 복제 횟수를 제한\n",
        "max_replication = 100\n",
        "cleaned_data['replication_count'] = cleaned_data['userCount'].apply(lambda x: min(x, max_replication))\n",
        "weighted_data = cleaned_data.loc[cleaned_data.index.repeat(cleaned_data['replication_count'])][['latitude', 'longitude']]\n",
        "\n",
        "# n_init과 n_clusters의 다양한 조합에 대한 실루엣 점수 계산\n",
        "n_inits = [1, 5, 10, 20]  # 다양한 n_init 값\n",
        "cluster_counts = [3, 4, 5, 6]  # 다양한 클러스터 수\n",
        "results = []\n",
        "\n",
        "for n_clusters in cluster_counts:\n",
        "    for n_init in n_inits:\n",
        "        kmeans = KMeans(n_clusters=n_clusters, n_init=n_init)\n",
        "        labels = kmeans.fit_predict(weighted_data)\n",
        "        score = silhouette_score(weighted_data, labels)\n",
        "        results.append((n_clusters, n_init, score))\n",
        "        print(f\"n_clusters={n_clusters}, n_init={n_init}, Silhouette Score: {score:.3f}\")\n",
        "\n",
        "# 결과를 DataFrame으로 변환\n",
        "results_df = pd.DataFrame(results, columns=['n_clusters', 'n_init', 'Silhouette Score'])\n",
        "\n",
        "# 최적의 조합 찾기\n",
        "best_result = results_df.loc[results_df['Silhouette Score'].idxmax()]\n",
        "print(\"\\nBest Configuration:\")\n",
        "print(best_result)"
      ],
      "metadata": {
        "id": "s-BdSrdkoH2_"
      },
      "execution_count": null,
      "outputs": []
    },
    {
      "cell_type": "code",
      "source": [
        "# 최적 설정으로 클러스터링 결과 시각화\n",
        "kmeans = KMeans(n_clusters=int(best_result['n_clusters']), n_init=int(best_result['n_init']))\n",
        "weighted_data['cluster'] = kmeans.fit_predict(weighted_data)\n",
        "\n",
        "# 클러스터링 결과 시각화\n",
        "plt.scatter(weighted_data['longitude'], weighted_data['latitude'], c=weighted_data['cluster'], cmap='viridis')\n",
        "plt.title(f'Optimal Clustering with n_clusters={int(best_result[\"n_clusters\"])}, n_init={int(best_result[\"n_init\"])}')\n",
        "plt.xlabel('Longitude')\n",
        "plt.ylabel('Latitude')\n",
        "plt.show()"
      ],
      "metadata": {
        "id": "cmbLHwKl3Nmv"
      },
      "execution_count": null,
      "outputs": []
    },
    {
      "cell_type": "code",
      "source": [
        "weighted_data.info()"
      ],
      "metadata": {
        "id": "xdYU9gFO4Mic"
      },
      "execution_count": null,
      "outputs": []
    },
    {
      "cell_type": "code",
      "source": [
        "weighted_data['cluster'].unique()"
      ],
      "metadata": {
        "id": "50z5abYUvTpC"
      },
      "execution_count": null,
      "outputs": []
    },
    {
      "cell_type": "code",
      "source": [
        "weighted_data"
      ],
      "metadata": {
        "id": "0JfmG1pap3O3"
      },
      "execution_count": null,
      "outputs": []
    },
    {
      "cell_type": "code",
      "source": [
        "# 클러스터별 색상 매핑 생성\n",
        "cluster_colors = {\n",
        "    0: [255, 0, 0, 160],  # Red\n",
        "    1: [0, 255, 0, 160],  # Green\n",
        "    2: [0, 0, 255, 160],  # Blue\n",
        "    3: [255, 255, 0, 160] # Yellow\n",
        "}\n",
        "\n",
        "# 데이터에 클러스터 색상 추가\n",
        "def apply_cluster_colors(df):\n",
        "    df['color'] = df['cluster'].map(cluster_colors)\n",
        "    return df\n",
        "\n",
        "# 버스 정류소 데이터에 클러스터 정보와 색상 매핑 추가\n",
        "df_merged_type['cluster'] = kmeans.predict(df_merged_type[['latitude', 'longitude']])\n",
        "df_merged_type = apply_cluster_colors(df_merged_type)\n",
        "\n",
        "# 예약 생성/호출지 데이터에 클러스터 정보와 색상 매핑 추가 (원본 유지)\n",
        "df_loc_copy = df_loc.copy()\n",
        "df_loc_copy.rename(columns={'start_lat': 'latitude', 'start_lng': 'longitude'}, inplace=True)\n",
        "df_loc_copy['cluster'] = kmeans.predict(df_loc_copy[['latitude', 'longitude']])\n",
        "df_loc_copy = apply_cluster_colors(df_loc_copy)\n",
        "\n",
        "# 거점 데이터에 클러스터 정보와 색상 매핑 추가 (원본 유지)\n",
        "df_zone_copy = df_zone.copy()\n",
        "df_zone_copy.rename(columns={'lat': 'latitude', 'lng': 'longitude'}, inplace=True)\n",
        "df_zone_copy['cluster'] = kmeans.predict(df_zone_copy[['latitude', 'longitude']])\n",
        "df_zone_copy = apply_cluster_colors(df_zone_copy)\n",
        "\n",
        "# Pydeck 레이어 생성\n",
        "bus_layer = create_user_layer(df_merged_type, 'latitude', 'longitude', 'color')\n",
        "reservation_layer = create_user_layer(df_loc_copy, 'latitude', 'longitude', 'color')\n",
        "call_layer = create_user_layer(df_loc_copy, 'latitude', 'longitude', 'color')\n",
        "zone_layer = create_zone_layer(df_zone_copy, 'color')\n",
        "\n",
        "# 맵 뷰 설정\n",
        "view_state = pdk.ViewState(\n",
        "    latitude=df_merged_type['latitude'].mean(),\n",
        "    longitude=df_merged_type['longitude'].mean(),\n",
        "    zoom=10\n",
        ")\n",
        "\n",
        "# 전체 맵 렌더링\n",
        "deck = pdk.Deck(\n",
        "    layers=[bus_layer, reservation_layer, call_layer, zone_layer],\n",
        "    initial_view_state=view_state,\n",
        ")\n",
        "\n",
        "# 맵 출력\n",
        "deck.show()"
      ],
      "metadata": {
        "id": "lYUJgKV0CJ5g"
      },
      "execution_count": null,
      "outputs": []
    },
    {
      "cell_type": "code",
      "source": [
        "# 클러스터별 색상 매핑 생성\n",
        "cluster_colors = {\n",
        "    0: [255, 0, 0, 160],    # Red\n",
        "    1: [0, 255, 0, 160],    # Green\n",
        "    2: [0, 0, 255, 160],    # Blue\n",
        "    3: [255, 255, 0, 160]   # Yellow\n",
        "}\n",
        "\n",
        "# 데이터에 클러스터 색상 추가 함수\n",
        "def apply_cluster_colors(df):\n",
        "    df['color'] = df['cluster'].map(lambda x: cluster_colors[x])\n",
        "    return df\n",
        "\n",
        "# 데이터셋 복사 및 클러스터 적용\n",
        "df_merged_type_copy = df_merged_type.copy()\n",
        "df_loc_copy = df_loc.copy()\n",
        "df_zone_copy = df_zone.copy()\n",
        "\n",
        "# 클러스터 예측 및 색상 적용\n",
        "df_merged_type_copy['cluster'] = kmeans.predict(df_merged_type_copy[['latitude', 'longitude']])\n",
        "df_merged_type_copy = apply_cluster_colors(df_merged_type_copy)\n",
        "\n",
        "df_loc_copy.rename(columns={'start_lat': 'latitude', 'start_lng': 'longitude'}, inplace=True)\n",
        "df_loc_copy['cluster'] = kmeans.predict(df_loc_copy[['latitude', 'longitude']])\n",
        "df_loc_copy = apply_cluster_colors(df_loc_copy)\n",
        "\n",
        "df_zone_copy.rename(columns={'lat': 'latitude', 'lng': 'longitude'}, inplace=True)\n",
        "df_zone_copy['cluster'] = kmeans.predict(df_zone_copy[['latitude', 'longitude']])\n",
        "df_zone_copy = apply_cluster_colors(df_zone_copy)\n",
        "\n",
        "# Pydeck 레이어 생성\n",
        "def create_layer(data, lat_col, lng_col, color, radius):\n",
        "    return pdk.Layer(\n",
        "        \"ScatterplotLayer\",\n",
        "        data,\n",
        "        get_position=[lng_col, lat_col],\n",
        "        get_color=color,\n",
        "        get_radius=radius,\n",
        "        pickable=True,\n",
        "        opacity=0.8\n",
        "    )\n",
        "\n",
        "# 각 레이어 설정\n",
        "bus_layer = create_layer(df_merged_type_copy, 'latitude', 'longitude', 'color', 100)\n",
        "reservation_layer = create_layer(df_loc_copy, 'latitude', 'longitude', 'color', 500)\n",
        "zone_layer = create_layer(df_zone_copy, 'latitude', 'longitude', 'color', 1000)\n",
        "\n",
        "# 맵 뷰 설정\n",
        "view_state = pdk.ViewState(\n",
        "    latitude=df_merged_type['latitude'].mean(),\n",
        "    longitude=df_merged_type['longitude'].mean(),\n",
        "    zoom=10\n",
        ")\n",
        "\n",
        "# 전체 맵 렌더링\n",
        "deck = pdk.Deck(\n",
        "    layers=[bus_layer, reservation_layer, zone_layer],\n",
        "    initial_view_state=view_state,\n",
        ")\n",
        "\n",
        "# 맵 출력\n",
        "deck.show()"
      ],
      "metadata": {
        "id": "-4bb6ahCCJ2n"
      },
      "execution_count": null,
      "outputs": []
    },
    {
      "cell_type": "code",
      "source": [
        "df_loc_copy"
      ],
      "metadata": {
        "id": "pZ8IEimzCJz8"
      },
      "execution_count": null,
      "outputs": []
    },
    {
      "cell_type": "code",
      "source": [
        "df_loc_copy.info()"
      ],
      "metadata": {
        "id": "EmzFCIybCJxH"
      },
      "execution_count": null,
      "outputs": []
    },
    {
      "cell_type": "code",
      "source": [
        "# 클러스터별로 rid의 개수 계산\n",
        "cluster_rid_count = df_loc_copy.groupby('cluster')['rid'].count()\n",
        "\n",
        "# 결과 출력\n",
        "print(cluster_rid_count)"
      ],
      "metadata": {
        "id": "SSWNeVshCJuc"
      },
      "execution_count": null,
      "outputs": []
    },
    {
      "cell_type": "code",
      "source": [
        "# # 파일 경로 설정\n",
        "file_path_bus_stations = '/content/drive/My Drive/clustering_data.csv'\n",
        "\n",
        "# # 데이터프레임을 CSV 파일로 저장\n",
        "df_loc_copy.to_csv(file_path_bus_stations, index=False)"
      ],
      "metadata": {
        "id": "G2DSrFR1L8fD"
      },
      "execution_count": null,
      "outputs": []
    },
    {
      "cell_type": "markdown",
      "source": [
        "#### 그밖의 클러스터링 방법(참조용)"
      ],
      "metadata": {
        "id": "2FryWXgqnfEn"
      }
    },
    {
      "cell_type": "code",
      "source": [
        "# ## 클러스터링\n",
        "# DBSCAN (Density-Based Spatial Clustering of Applications with Noise): 밀도 기반 클러스터링으로, 데이터 포인트의 밀집도에 따라 클러스터를 형성\n",
        "# -이 방법은 클러스터의 수를 미리 지정할 필요가 없으며, 이상치를 자동으로 구별이 가능하고 지리적 데이터에 특히 적합\n",
        "# HDBSCAN (Hierarchical DBSCAN): DBSCAN의 개선된 버전으로, 다양한 밀도의 클러스터를 탐지 가능"
      ],
      "metadata": {
        "id": "J5Fs7g2Pa0Ez"
      },
      "execution_count": null,
      "outputs": []
    },
    {
      "cell_type": "code",
      "source": [
        "import numpy as np\n",
        "from sklearn.cluster import DBSCAN\n",
        "import matplotlib.pyplot as plt\n",
        "\n",
        "# 데이터 프레임 통합 (위도, 경도 기준)\n",
        "data_points = pd.concat([\n",
        "    df_merged_type[['latitude', 'longitude']],\n",
        "    df_loc[['start_lat', 'start_lng']].rename(columns={'start_lat': 'latitude', 'start_lng': 'longitude'}),\n",
        "    df_zone[['lat', 'lng']].rename(columns={'lat': 'latitude', 'lng': 'longitude'})\n",
        "])\n",
        "\n",
        "# DBSCAN 실행\n",
        "dbscan = DBSCAN(eps=0.01, min_samples=5)  # eps와 min_samples는 조정 가능\n",
        "clusters = dbscan.fit_predict(data_points[['latitude', 'longitude']])\n",
        "\n",
        "# 클러스터링 결과 추가\n",
        "data_points['cluster'] = clusters\n",
        "\n",
        "# 시각화\n",
        "plt.figure(figsize=(10, 6))\n",
        "plt.scatter(data_points['longitude'], data_points['latitude'], c=data_points['cluster'], cmap='viridis', marker='o')\n",
        "plt.colorbar()\n",
        "plt.xlabel('Longitude')\n",
        "plt.ylabel('Latitude')\n",
        "plt.title('DBSCAN Clustering of Data Points in Jeju')\n",
        "plt.show()"
      ],
      "metadata": {
        "id": "msS4sUIgeERF"
      },
      "execution_count": null,
      "outputs": []
    },
    {
      "cell_type": "code",
      "source": [
        "from sklearn.metrics import silhouette_score\n",
        "\n",
        "# 예: DBSCAN 또는 HDBSCAN 결과\n",
        "score = silhouette_score(data_points[['latitude', 'longitude']], clusters)\n",
        "print(\"Silhouette Score: \", score)"
      ],
      "metadata": {
        "id": "vGqwGruzf5fa"
      },
      "execution_count": null,
      "outputs": []
    },
    {
      "cell_type": "code",
      "source": [],
      "metadata": {
        "id": "X13LDrK3jnw2"
      },
      "execution_count": null,
      "outputs": []
    },
    {
      "cell_type": "code",
      "source": [
        "!pip install hdbscan"
      ],
      "metadata": {
        "id": "Zkd9ugXEeOgZ"
      },
      "execution_count": null,
      "outputs": []
    },
    {
      "cell_type": "code",
      "source": [],
      "metadata": {
        "id": "YqFpl5qihenI"
      },
      "execution_count": null,
      "outputs": []
    },
    {
      "cell_type": "code",
      "source": [
        "import hdbscan\n",
        "import matplotlib.pyplot as plt\n",
        "\n",
        "# hdbscan 라이브러리 임포트\n",
        "import hdbscan\n",
        "\n",
        "# 데이터 통합 (호출위치)\n",
        "data_points = pd.concat([\n",
        "    df_merged_type[['latitude', 'longitude']],\n",
        "    df_loc[['start_lat', 'start_lng']].rename(columns={'start_lat': 'latitude', 'start_lng': 'longitude'})\n",
        "    # df_zone[['lat', 'lng']].rename(columns={'lat': 'latitude', 'lng': 'longitude'})\n",
        "])\n",
        "\n",
        "# HDBSCAN 모델 초기화 및 학습\n",
        "clusterer = hdbscan.HDBSCAN(min_cluster_size=2, min_samples=2, gen_min_span_tree=True)\n",
        "labels = clusterer.fit_predict(data_points[['latitude', 'longitude']])\n",
        "\n",
        "# 클러스터 결과 추가\n",
        "data_points['cluster'] = labels\n",
        "\n",
        "# 시각화\n",
        "plt.figure(figsize=(10, 6))\n",
        "plt.scatter(data_points['longitude'], data_points['latitude'], c=data_points['cluster'], cmap='viridis', marker='o', s=10)  # 점의 크기는 s로 조절\n",
        "plt.colorbar()\n",
        "plt.xlabel('Longitude')\n",
        "plt.ylabel('Latitude')\n",
        "plt.title('HDBSCAN Clustering of Data Points in Jeju')\n",
        "plt.show()"
      ],
      "metadata": {
        "id": "XMCm-Gadet0V"
      },
      "execution_count": null,
      "outputs": []
    },
    {
      "cell_type": "code",
      "source": [
        "# 예: DBSCAN 또는 HDBSCAN 결과\n",
        "score = silhouette_score(data_points[['latitude', 'longitude']], labels)\n",
        "print(\"Silhouette Score: \", score)"
      ],
      "metadata": {
        "id": "uFsW_8N1g7I4"
      },
      "execution_count": null,
      "outputs": []
    },
    {
      "cell_type": "markdown",
      "source": [
        "### 예약 클러스터 분석"
      ],
      "metadata": {
        "id": "xS78Xa_eoVk8"
      }
    },
    {
      "cell_type": "code",
      "source": [
        "## 최근 28일간 부름 예약 호출지\n",
        "## 기본 데이터 임포트\n",
        "query = \"\"\"\n",
        "  SELECT\n",
        "      rv.way,\n",
        "      rv.reservation_id as rid,\n",
        "\n",
        "      rv.dtod_start_lng as start_lng, -- 호출지\n",
        "      rv.dtod_start_lat as start_lat, -- 호출\n",
        "      rv.dtod_end_lng as end_lng,\n",
        "      rv.dtod_end_lat as end_lat,\n",
        "\n",
        "      rv.reservation_created_lat as c_lat, -- 생성지\n",
        "      rv.reservation_created_lng as c_lng, -- 생성지\n",
        "\n",
        "  FROM `soda_store.reservation_v2` rv\n",
        "  WHERE date BETWEEN current_date('Asia/Seoul') -28 AND current_date('Asia/Seoul') -1\n",
        "  AND region1 = '제주특별자치도'\n",
        "  AND way != 'round'\n",
        "  AND state IN (1, 2, 3)\n",
        "  AND dtod_start_lng is not null\n",
        "  AND dtod_end_lng is not null\n",
        "  AND reservation_created_lat is not null\n",
        "  AND reservation_created_lng is not null\n",
        "  AND rv.member_imaginary IN (0, 9)\n",
        "  \"\"\"\n",
        "\n",
        "df_loc = pd.io.gbq.read_gbq(\n",
        "    query=query,\n",
        "    project_id=\"socar-data\"\n",
        ") ## 예약위치 raw"
      ],
      "metadata": {
        "id": "gJxG8-6eg7F2"
      },
      "execution_count": null,
      "outputs": []
    },
    {
      "cell_type": "code",
      "source": [
        "df_loc.info()"
      ],
      "metadata": {
        "id": "_VRvusdhky9p"
      },
      "execution_count": null,
      "outputs": []
    },
    {
      "cell_type": "code",
      "source": [
        "df_loc.head()"
      ],
      "metadata": {
        "id": "u97-JVDOk1sr"
      },
      "execution_count": null,
      "outputs": []
    },
    {
      "cell_type": "code",
      "source": [
        "from sklearn.cluster import KMeans\n",
        "from sklearn.metrics import silhouette_score\n",
        "import matplotlib.pyplot as plt\n",
        "import pandas as pd\n",
        "\n",
        "\n",
        "# 최적의 K 값으로 클러스터링 실행 및 시각화\n",
        "optimal_k = 4  # 엘보우 그래프를 보고 결정한 최적의 클러스터 수\n",
        "kmeans = KMeans(n_clusters=optimal_k, n_init=20)\n",
        "df_loc['cluster'] = kmeans.fit_predict(df_loc[['start_lat', 'start_lng']])\n",
        "\n",
        "plt.scatter(df_loc['start_lng'], df_loc['start_lat'], c=df_loc['cluster'], cmap='viridis')\n",
        "plt.title('K-Means Clustering')\n",
        "plt.xlabel('Longitude')\n",
        "plt.ylabel('Latitude')\n",
        "plt.show()"
      ],
      "metadata": {
        "id": "TV_nYHLRlH5F"
      },
      "execution_count": null,
      "outputs": []
    },
    {
      "cell_type": "code",
      "source": [
        "df_loc.head()"
      ],
      "metadata": {
        "id": "Bf_y1p_WlH2g"
      },
      "execution_count": null,
      "outputs": []
    },
    {
      "cell_type": "code",
      "source": [
        "!pip install pydeck"
      ],
      "metadata": {
        "id": "yISjx4yuk9fT"
      },
      "execution_count": null,
      "outputs": []
    },
    {
      "cell_type": "code",
      "source": [
        "import pydeck as pdk\n",
        "import numpy as np\n",
        "\n",
        "# Pydeck을 이용한 시각화\n",
        "def visualize_clusters_with_pydeck(data, latitude_col, longitude_col, cluster_col):\n",
        "    # ScatterplotLayer 생성\n",
        "    layer = pdk.Layer(\n",
        "        \"ScatterplotLayer\",\n",
        "        data,\n",
        "        get_position=[longitude_col, latitude_col],\n",
        "        get_color=\"color\",\n",
        "        get_radius=400,  # 점 크기 설정\n",
        "        pickable=True\n",
        "    )\n",
        "\n",
        "    # 클러스터별 색상 매핑\n",
        "    data['color'] = data[cluster_col].apply(lambda x: [int(i) for i in np.random.choice(range(256), size=3)] + [160])\n",
        "\n",
        "    # 뷰 상태 설정\n",
        "    view_state = pdk.ViewState(\n",
        "        latitude=data[latitude_col].mean(),\n",
        "        longitude=data[longitude_col].mean(),\n",
        "        zoom=10\n",
        "    )\n",
        "\n",
        "    # Deck 생성 및 렌더링\n",
        "    r = pdk.Deck(\n",
        "        layers=[layer],\n",
        "        initial_view_state=view_state,\n",
        "        # map_style='mapbox://styles/mapbox/light-v9',  # 지도 스타일 설정\n",
        "        tooltip={\"text\": \"{latitude_col}, {longitude_col}\"}\n",
        "    )\n",
        "\n",
        "    r.to_html('cluster_map.html')\n",
        "\n",
        "# 데이터와 클러스터 레이블 로드\n",
        "# 예: data_points는 위도, 경도, 클러스터 레이블을 포함하는 DataFrame\n",
        "visualize_clusters_with_pydeck(df_loc, 'start_lat', 'start_lng', 'cluster')"
      ],
      "metadata": {
        "id": "M7NccbzNe05o"
      },
      "execution_count": null,
      "outputs": []
    },
    {
      "cell_type": "code",
      "source": [
        "df_loc"
      ],
      "metadata": {
        "id": "sEs3deaQnjYG"
      },
      "execution_count": null,
      "outputs": []
    },
    {
      "cell_type": "code",
      "source": [
        "import pydeck as pdk\n",
        "import numpy as np\n",
        "\n",
        "def visualize_clusters_with_pydeck(data, latitude_col, longitude_col, cluster_col):\n",
        "    # 클러스터별 색상 매핑\n",
        "    color_map = {\n",
        "        0: [0, 0, 255, 160],   # Blue\n",
        "        1: [255, 0, 0, 160],   # Red\n",
        "        2: [0, 255, 0, 160],   # Green\n",
        "        3: [255, 255, 0, 160]  # Yellow\n",
        "    }\n",
        "    data['color'] = data[cluster_col].map(color_map)\n",
        "\n",
        "    # ScatterplotLayer 생성\n",
        "    layer = pdk.Layer(\n",
        "        \"ScatterplotLayer\",\n",
        "        data,\n",
        "        get_position=[longitude_col, latitude_col],\n",
        "        get_color='color',\n",
        "        get_radius=400,  # 점 크기 설정\n",
        "        pickable=True\n",
        "    )\n",
        "\n",
        "    # 뷰 상태 설정\n",
        "    view_state = pdk.ViewState(\n",
        "        latitude=data[latitude_col].mean(),\n",
        "        longitude=data[longitude_col].mean(),\n",
        "        zoom=10\n",
        "    )\n",
        "\n",
        "    # Deck 생성 및 렌더링\n",
        "    r = pdk.Deck(\n",
        "        layers=[layer],\n",
        "        initial_view_state=view_state,\n",
        "        tooltip={\"text\": \"{latitude_col}, {longitude_col}\"}\n",
        "    )\n",
        "\n",
        "    r.to_html('cluster_map.html')\n",
        "\n",
        "# 데이터와 클러스터 레이블 로드\n",
        "# 예: data_points는 위도, 경도, 클러스터 레이블을 포함하는 DataFrame\n",
        "visualize_clusters_with_pydeck(df_loc, 'start_lat', 'start_lng', 'cluster')"
      ],
      "metadata": {
        "id": "MKBnlqIunjTa"
      },
      "execution_count": null,
      "outputs": []
    },
    {
      "cell_type": "code",
      "source": [
        "# 클러스터별로 rid의 개수 계산\n",
        "cluster_rid_count = df_loc.groupby('cluster')['rid'].count()\n",
        "\n",
        "# 결과 출력\n",
        "print(cluster_rid_count)"
      ],
      "metadata": {
        "id": "9G1v4FdznjQv"
      },
      "execution_count": null,
      "outputs": []
    },
    {
      "cell_type": "code",
      "source": [],
      "metadata": {
        "id": "SxFkd4QMnaDh"
      },
      "execution_count": null,
      "outputs": []
    }
  ]
}